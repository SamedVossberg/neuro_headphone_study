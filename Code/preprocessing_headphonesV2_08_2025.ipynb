{
 "cells": [
  {
   "cell_type": "markdown",
   "metadata": {},
   "source": [
    "# Headphones V2 - Evaluation"
   ]
  },
  {
   "cell_type": "code",
   "execution_count": 1,
   "metadata": {
    "ExecuteTime": {
     "end_time": "2025-08-03T10:19:10.952436Z",
     "start_time": "2025-08-03T08:44:30.495082Z"
    },
    "jupyter": {
     "is_executing": true
    },
    "pycharm": {
     "name": "#%%\n"
    }
   },
   "outputs": [],
   "source": [
    "import pandas as pd\n",
    "import numpy as np\n",
    "from dataclasses import dataclass\n",
    "import datetime\n",
    "import plotly.express as px\n",
    "from scipy.integrate import simpson\n",
    "from scipy.stats import friedmanchisquare, wilcoxon\n",
    "import matplotlib.pyplot as plt\n",
    "import os, glob, re\n",
    "from pathlib import Path\n",
    "from datetime import timedelta, datetime\n",
    "import mne\n",
    "from mne.filter import filter_data, notch_filter\n",
    "import neurokit2 as nk\n",
    "from asrpy import ASR\n",
    "from scipy.signal import spectrogram, butter, filtfilt, welch\n",
    "from pyprep.find_noisy_channels import NoisyChannels\n",
    "import flows\n",
    "import warnings\n",
    "from plotly.subplots import make_subplots\n",
    "import plotly.graph_objects as go\n",
    "from typing import Tuple, Optional, List, Dict\n",
    "# from __future__ import annotations\n",
    "\n",
    "# settings to display all columns\n",
    "pd.set_option(\"display.max_columns\", None)\n",
    "# Set the number of rows to display\n",
    "# pd.set_option('display.max_rows', 50)  # Show up to 100 rows\n",
    "\n",
    "# General file locations\n",
    "main_folder = \"../Data/\""
   ]
  },
  {
   "cell_type": "markdown",
   "metadata": {},
   "source": [
    "# Session Overview"
   ]
  },
  {
   "cell_type": "code",
   "execution_count": 25,
   "metadata": {},
   "outputs": [
    {
     "name": "stdout",
     "output_type": "stream",
     "text": [
      "63\n"
     ]
    },
    {
     "data": {
      "text/html": [
       "<div>\n",
       "<style scoped>\n",
       "    .dataframe tbody tr th:only-of-type {\n",
       "        vertical-align: middle;\n",
       "    }\n",
       "\n",
       "    .dataframe tbody tr th {\n",
       "        vertical-align: top;\n",
       "    }\n",
       "\n",
       "    .dataframe thead th {\n",
       "        text-align: right;\n",
       "    }\n",
       "</style>\n",
       "<table border=\"1\" class=\"dataframe\">\n",
       "  <thead>\n",
       "    <tr style=\"text-align: right;\">\n",
       "      <th></th>\n",
       "      <th>Session</th>\n",
       "      <th>ID</th>\n",
       "      <th>Config</th>\n",
       "      <th>Folder</th>\n",
       "      <th>Run</th>\n",
       "      <th>Rec_folder</th>\n",
       "    </tr>\n",
       "  </thead>\n",
       "  <tbody>\n",
       "    <tr>\n",
       "      <th>0</th>\n",
       "      <td>2025-07-04-01</td>\n",
       "      <td>bk7zlu</td>\n",
       "      <td>Ear Only</td>\n",
       "      <td>GelledEarOnly/2025-07-04/bk7zlu/</td>\n",
       "      <td>rec1</td>\n",
       "      <td>GelledEarOnly/2025-07-04/bk7zlu/rec1/</td>\n",
       "    </tr>\n",
       "    <tr>\n",
       "      <th>1</th>\n",
       "      <td>2025-07-04-01</td>\n",
       "      <td>bk7zlu</td>\n",
       "      <td>Ear Only</td>\n",
       "      <td>GelledEarOnly/2025-07-04/bk7zlu/</td>\n",
       "      <td>rec2</td>\n",
       "      <td>GelledEarOnly/2025-07-04/bk7zlu/rec2/</td>\n",
       "    </tr>\n",
       "    <tr>\n",
       "      <th>2</th>\n",
       "      <td>2025-07-04-01</td>\n",
       "      <td>bk7zlu</td>\n",
       "      <td>Ear Only</td>\n",
       "      <td>GelledEarOnly/2025-07-04/bk7zlu/</td>\n",
       "      <td>rec3</td>\n",
       "      <td>GelledEarOnly/2025-07-04/bk7zlu/rec3/</td>\n",
       "    </tr>\n",
       "    <tr>\n",
       "      <th>3</th>\n",
       "      <td>2025-07-04-01</td>\n",
       "      <td>aq9b9k</td>\n",
       "      <td>Top+Ears</td>\n",
       "      <td>DryWithHeadband/2025-07-04/aq9b9k/</td>\n",
       "      <td>rec1</td>\n",
       "      <td>DryWithHeadband/2025-07-04/aq9b9k/rec1/</td>\n",
       "    </tr>\n",
       "    <tr>\n",
       "      <th>4</th>\n",
       "      <td>2025-07-04-01</td>\n",
       "      <td>aq9b9k</td>\n",
       "      <td>Top+Ears</td>\n",
       "      <td>DryWithHeadband/2025-07-04/aq9b9k/</td>\n",
       "      <td>rec2</td>\n",
       "      <td>DryWithHeadband/2025-07-04/aq9b9k/rec2/</td>\n",
       "    </tr>\n",
       "    <tr>\n",
       "      <th>5</th>\n",
       "      <td>2025-07-04-01</td>\n",
       "      <td>aq9b9k</td>\n",
       "      <td>Top+Ears</td>\n",
       "      <td>DryWithHeadband/2025-07-04/aq9b9k/</td>\n",
       "      <td>rec3</td>\n",
       "      <td>DryWithHeadband/2025-07-04/aq9b9k/rec3/</td>\n",
       "    </tr>\n",
       "    <tr>\n",
       "      <th>6</th>\n",
       "      <td>2025-07-14-01</td>\n",
       "      <td>fqzqgz</td>\n",
       "      <td>Top+Ears</td>\n",
       "      <td>DryWithHeadband/2025-07-14/fqzqgz/</td>\n",
       "      <td>rec1</td>\n",
       "      <td>DryWithHeadband/2025-07-14/fqzqgz/rec1/</td>\n",
       "    </tr>\n",
       "    <tr>\n",
       "      <th>7</th>\n",
       "      <td>2025-07-14-01</td>\n",
       "      <td>fqzqgz</td>\n",
       "      <td>Top+Ears</td>\n",
       "      <td>DryWithHeadband/2025-07-14/fqzqgz/</td>\n",
       "      <td>rec2</td>\n",
       "      <td>DryWithHeadband/2025-07-14/fqzqgz/rec2/</td>\n",
       "    </tr>\n",
       "    <tr>\n",
       "      <th>8</th>\n",
       "      <td>2025-07-14-01</td>\n",
       "      <td>fqzqgz</td>\n",
       "      <td>Top+Ears</td>\n",
       "      <td>DryWithHeadband/2025-07-14/fqzqgz/</td>\n",
       "      <td>rec3</td>\n",
       "      <td>DryWithHeadband/2025-07-14/fqzqgz/rec3/</td>\n",
       "    </tr>\n",
       "    <tr>\n",
       "      <th>9</th>\n",
       "      <td>2025-07-14-02</td>\n",
       "      <td>7dr6p8</td>\n",
       "      <td>Top+Ears</td>\n",
       "      <td>DryWithHeadband/2025-07-14/7dr6p8/</td>\n",
       "      <td>rec1</td>\n",
       "      <td>DryWithHeadband/2025-07-14/7dr6p8/rec1/</td>\n",
       "    </tr>\n",
       "  </tbody>\n",
       "</table>\n",
       "</div>"
      ],
      "text/plain": [
       "         Session      ID    Config                              Folder   Run  \\\n",
       "0  2025-07-04-01  bk7zlu  Ear Only    GelledEarOnly/2025-07-04/bk7zlu/  rec1   \n",
       "1  2025-07-04-01  bk7zlu  Ear Only    GelledEarOnly/2025-07-04/bk7zlu/  rec2   \n",
       "2  2025-07-04-01  bk7zlu  Ear Only    GelledEarOnly/2025-07-04/bk7zlu/  rec3   \n",
       "3  2025-07-04-01  aq9b9k  Top+Ears  DryWithHeadband/2025-07-04/aq9b9k/  rec1   \n",
       "4  2025-07-04-01  aq9b9k  Top+Ears  DryWithHeadband/2025-07-04/aq9b9k/  rec2   \n",
       "5  2025-07-04-01  aq9b9k  Top+Ears  DryWithHeadband/2025-07-04/aq9b9k/  rec3   \n",
       "6  2025-07-14-01  fqzqgz  Top+Ears  DryWithHeadband/2025-07-14/fqzqgz/  rec1   \n",
       "7  2025-07-14-01  fqzqgz  Top+Ears  DryWithHeadband/2025-07-14/fqzqgz/  rec2   \n",
       "8  2025-07-14-01  fqzqgz  Top+Ears  DryWithHeadband/2025-07-14/fqzqgz/  rec3   \n",
       "9  2025-07-14-02  7dr6p8  Top+Ears  DryWithHeadband/2025-07-14/7dr6p8/  rec1   \n",
       "\n",
       "                                Rec_folder  \n",
       "0    GelledEarOnly/2025-07-04/bk7zlu/rec1/  \n",
       "1    GelledEarOnly/2025-07-04/bk7zlu/rec2/  \n",
       "2    GelledEarOnly/2025-07-04/bk7zlu/rec3/  \n",
       "3  DryWithHeadband/2025-07-04/aq9b9k/rec1/  \n",
       "4  DryWithHeadband/2025-07-04/aq9b9k/rec2/  \n",
       "5  DryWithHeadband/2025-07-04/aq9b9k/rec3/  \n",
       "6  DryWithHeadband/2025-07-14/fqzqgz/rec1/  \n",
       "7  DryWithHeadband/2025-07-14/fqzqgz/rec2/  \n",
       "8  DryWithHeadband/2025-07-14/fqzqgz/rec3/  \n",
       "9  DryWithHeadband/2025-07-14/7dr6p8/rec1/  "
      ]
     },
     "execution_count": 25,
     "metadata": {},
     "output_type": "execute_result"
    }
   ],
   "source": [
    "# Loading the manually created mapping file\n",
    "sessions = pd.read_csv(main_folder+\"processed/session_overview.csv\")\n",
    "print(len(sessions))\n",
    "sessions.head(10)"
   ]
  },
  {
   "cell_type": "markdown",
   "metadata": {},
   "source": [
    "# oTree Logs & Functions"
   ]
  },
  {
   "cell_type": "code",
   "execution_count": 3,
   "metadata": {},
   "outputs": [
    {
     "data": {
      "text/html": [
       "<div>\n",
       "<style scoped>\n",
       "    .dataframe tbody tr th:only-of-type {\n",
       "        vertical-align: middle;\n",
       "    }\n",
       "\n",
       "    .dataframe tbody tr th {\n",
       "        vertical-align: top;\n",
       "    }\n",
       "\n",
       "    .dataframe thead th {\n",
       "        text-align: right;\n",
       "    }\n",
       "</style>\n",
       "<table border=\"1\" class=\"dataframe\">\n",
       "  <thead>\n",
       "    <tr style=\"text-align: right;\">\n",
       "      <th></th>\n",
       "      <th>participant.code</th>\n",
       "      <th>participant._index_in_pages</th>\n",
       "      <th>participant._max_page_index</th>\n",
       "      <th>participant.time_started_utc</th>\n",
       "      <th>participant.token</th>\n",
       "      <th>session.config.name</th>\n",
       "      <th>setup.1.player.headset_color</th>\n",
       "      <th>setup.1.player.token</th>\n",
       "      <th>introduction.1.player.handedness</th>\n",
       "      <th>introduction.1.player.english</th>\n",
       "      <th>introduction.1.player.multilingual</th>\n",
       "      <th>introduction.1.player.age</th>\n",
       "      <th>introduction.1.player.gender</th>\n",
       "      <th>introduction.1.player.glasses</th>\n",
       "      <th>introduction.1.player.eye_sight</th>\n",
       "      <th>introduction.1.player.color_sight</th>\n",
       "      <th>introduction.1.player.hearing</th>\n",
       "      <th>introduction.1.player.occupation</th>\n",
       "      <th>introduction.1.player.education_level</th>\n",
       "      <th>introduction.1.player.headsize</th>\n",
       "      <th>introduction.1.player.weight</th>\n",
       "      <th>introduction.1.player.height</th>\n",
       "      <th>introduction.1.player.hair_style_top</th>\n",
       "      <th>introduction.1.player.hair_style_ears</th>\n",
       "      <th>introduction.1.player.hair_type</th>\n",
       "      <th>introduction.1.player.hair_density</th>\n",
       "      <th>introduction.1.player.beard_style</th>\n",
       "      <th>introduction.1.player.hair_products</th>\n",
       "      <th>introduction.1.player.skin_oily_dry_1</th>\n",
       "      <th>introduction.1.player.skin_oily_dry_2</th>\n",
       "      <th>introduction.1.player.skin_resistant_sensitive_1</th>\n",
       "      <th>introduction.1.player.skin_resistant_sensitive_2</th>\n",
       "      <th>introduction.1.player.skin_products</th>\n",
       "      <th>introduction.1.player.time_since_meal</th>\n",
       "      <th>introduction.1.player.time_since_hydration</th>\n",
       "      <th>introduction.1.player.time_since_caffeine</th>\n",
       "      <th>introduction.1.player.time_since_nicotine</th>\n",
       "      <th>introduction.1.player.time_since_alcohol</th>\n",
       "      <th>introduction.1.player.flow_trait_single</th>\n",
       "      <th>introduction.1.player.flow_trait_sfds1</th>\n",
       "      <th>introduction.1.player.flow_trait_sfds2</th>\n",
       "      <th>introduction.1.player.flow_trait_sfds3</th>\n",
       "      <th>introduction.1.player.flow_trait_sfds4</th>\n",
       "      <th>introduction.1.player.flow_trait_sfds5</th>\n",
       "      <th>introduction.1.player.flow_trait_sfds6</th>\n",
       "      <th>introduction.1.player.flow_trait_sfds7</th>\n",
       "      <th>introduction.1.player.flow_trait_sfds8</th>\n",
       "      <th>introduction.1.player.flow_trait_sfds9</th>\n",
       "      <th>introduction.1.player.flow_trait_sfds10</th>\n",
       "      <th>introduction.1.player.rcsq_sleep</th>\n",
       "      <th>headphones_setup_1.1.player.ux_comfort</th>\n",
       "      <th>headphones_setup_1.1.player.ux_speed</th>\n",
       "      <th>headphones_setup_1.1.player.ux_ease</th>\n",
       "      <th>headphones_setup_1.1.player.ux_look</th>\n",
       "      <th>headphones_setup_1.1.player.wx_public</th>\n",
       "      <th>headphones_setup_1.1.player.wx_private</th>\n",
       "      <th>headphones_setup_1.1.player.wx_conversation</th>\n",
       "      <th>headphones_setup_1.1.player.wx_others</th>\n",
       "      <th>headphones_setup_1.1.player.tlx_single</th>\n",
       "      <th>headphones_setup_1.1.player.sus_01</th>\n",
       "      <th>headphones_setup_1.1.player.sus_02</th>\n",
       "      <th>headphones_setup_1.1.player.sus_03</th>\n",
       "      <th>headphones_setup_1.1.player.sus_04</th>\n",
       "      <th>headphones_setup_1.1.player.sus_05</th>\n",
       "      <th>headphones_setup_1.1.player.sus_06</th>\n",
       "      <th>headphones_setup_1.1.player.sus_07</th>\n",
       "      <th>headphones_setup_1.1.player.sus_08</th>\n",
       "      <th>headphones_setup_1.1.player.sus_09</th>\n",
       "      <th>headphones_setup_1.1.player.sus_10</th>\n",
       "      <th>headphones_setup_1.1.player.mr_mood</th>\n",
       "      <th>headphones_setup_1.1.player.mr_sleepy</th>\n",
       "      <th>headphones_setup_1.1.player.mr_motivy</th>\n",
       "      <th>headphones_setup_1.1.player.mf_single</th>\n",
       "      <th>headphones_setup_1.1.player.mf_01</th>\n",
       "      <th>headphones_setup_1.1.player.mf_02</th>\n",
       "      <th>headphones_setup_1.1.player.mf_03</th>\n",
       "      <th>headphones_setup_1.1.player.mf_04</th>\n",
       "      <th>headphones_setup_1.1.player.rest_actions_eo</th>\n",
       "      <th>headphones_setup_1.1.player.rest_actions_ec</th>\n",
       "      <th>headphones_setup_1.1.subsession.round_number</th>\n",
       "      <th>mathTask_1.1.player.fss06</th>\n",
       "      <th>mathTask_1.1.player.fss08</th>\n",
       "      <th>mathTask_1.1.player.fss09</th>\n",
       "      <th>mathTask_1.1.player.tlx_single</th>\n",
       "      <th>mathTask_1.1.player.difficulty</th>\n",
       "      <th>mathTask_1.1.player.mr_mood</th>\n",
       "      <th>mathTask_1.1.player.mr_sleepy</th>\n",
       "      <th>mathTask_1.1.player.mr_motivy</th>\n",
       "      <th>mathTask_1.1.player.mf_single</th>\n",
       "      <th>mathTask_1.1.player.math_actions</th>\n",
       "      <th>mathTask_1.1.subsession.round_number</th>\n",
       "      <th>mathTask_1.2.player.fss06</th>\n",
       "      <th>mathTask_1.2.player.fss08</th>\n",
       "      <th>mathTask_1.2.player.fss09</th>\n",
       "      <th>mathTask_1.2.player.tlx_single</th>\n",
       "      <th>mathTask_1.2.player.difficulty</th>\n",
       "      <th>mathTask_1.2.player.mr_mood</th>\n",
       "      <th>mathTask_1.2.player.mr_sleepy</th>\n",
       "      <th>mathTask_1.2.player.mr_motivy</th>\n",
       "      <th>mathTask_1.2.player.mf_single</th>\n",
       "      <th>mathTask_1.2.player.math_actions</th>\n",
       "      <th>mathTask_1.2.subsession.round_number</th>\n",
       "      <th>mathTask_1.3.player.fss06</th>\n",
       "      <th>mathTask_1.3.player.fss08</th>\n",
       "      <th>mathTask_1.3.player.fss09</th>\n",
       "      <th>mathTask_1.3.player.tlx_single</th>\n",
       "      <th>mathTask_1.3.player.difficulty</th>\n",
       "      <th>mathTask_1.3.player.mr_mood</th>\n",
       "      <th>mathTask_1.3.player.mr_sleepy</th>\n",
       "      <th>mathTask_1.3.player.mr_motivy</th>\n",
       "      <th>mathTask_1.3.player.mf_single</th>\n",
       "      <th>mathTask_1.3.player.math_actions</th>\n",
       "      <th>mathTask_1.3.subsession.round_number</th>\n",
       "      <th>mathTask_1.4.player.fss06</th>\n",
       "      <th>mathTask_1.4.player.fss08</th>\n",
       "      <th>mathTask_1.4.player.fss09</th>\n",
       "      <th>mathTask_1.4.player.tlx_single</th>\n",
       "      <th>mathTask_1.4.player.difficulty</th>\n",
       "      <th>mathTask_1.4.player.mr_mood</th>\n",
       "      <th>mathTask_1.4.player.mr_sleepy</th>\n",
       "      <th>mathTask_1.4.player.mr_motivy</th>\n",
       "      <th>mathTask_1.4.player.mf_single</th>\n",
       "      <th>mathTask_1.4.player.math_actions</th>\n",
       "      <th>mathTask_1.4.subsession.round_number</th>\n",
       "      <th>mathTask_1.5.player.fss06</th>\n",
       "      <th>mathTask_1.5.player.fss08</th>\n",
       "      <th>mathTask_1.5.player.fss09</th>\n",
       "      <th>mathTask_1.5.player.tlx_single</th>\n",
       "      <th>mathTask_1.5.player.difficulty</th>\n",
       "      <th>mathTask_1.5.player.mr_mood</th>\n",
       "      <th>mathTask_1.5.player.mr_sleepy</th>\n",
       "      <th>mathTask_1.5.player.mr_motivy</th>\n",
       "      <th>mathTask_1.5.player.mf_single</th>\n",
       "      <th>mathTask_1.5.player.math_actions</th>\n",
       "      <th>mathTask_1.5.subsession.round_number</th>\n",
       "      <th>mathTask_1.6.player.fss06</th>\n",
       "      <th>mathTask_1.6.player.fss08</th>\n",
       "      <th>mathTask_1.6.player.fss09</th>\n",
       "      <th>mathTask_1.6.player.tlx_single</th>\n",
       "      <th>mathTask_1.6.player.difficulty</th>\n",
       "      <th>mathTask_1.6.player.mr_mood</th>\n",
       "      <th>mathTask_1.6.player.mr_sleepy</th>\n",
       "      <th>mathTask_1.6.player.mr_motivy</th>\n",
       "      <th>mathTask_1.6.player.mf_single</th>\n",
       "      <th>mathTask_1.6.player.math_actions</th>\n",
       "      <th>mathTask_1.6.subsession.round_number</th>\n",
       "      <th>mathTask_1.7.subsession.round_number</th>\n",
       "      <th>mathTask_1.8.player.tlx_single</th>\n",
       "      <th>mathTask_1.8.player.mr_mood</th>\n",
       "      <th>mathTask_1.8.player.mr_sleepy</th>\n",
       "      <th>mathTask_1.8.player.mr_motivy</th>\n",
       "      <th>mathTask_1.8.player.mf_single</th>\n",
       "      <th>mathTask_1.8.player.mf_01</th>\n",
       "      <th>mathTask_1.8.player.mf_02</th>\n",
       "      <th>mathTask_1.8.player.mf_03</th>\n",
       "      <th>mathTask_1.8.player.mf_04</th>\n",
       "      <th>mathTask_1.8.player.headset_comfort</th>\n",
       "      <th>mathTask_1.8.player.rest_actions_eo</th>\n",
       "      <th>mathTask_1.8.player.rest_actions_ec</th>\n",
       "      <th>mathTask_1.8.subsession.round_number</th>\n",
       "      <th>clickTask_1.1.player.fss06</th>\n",
       "      <th>clickTask_1.1.player.fss08</th>\n",
       "      <th>clickTask_1.1.player.fss09</th>\n",
       "      <th>clickTask_1.1.player.tlx_single</th>\n",
       "      <th>clickTask_1.1.player.difficulty</th>\n",
       "      <th>clickTask_1.1.player.mr_mood</th>\n",
       "      <th>clickTask_1.1.player.mr_sleepy</th>\n",
       "      <th>clickTask_1.1.player.mr_motivy</th>\n",
       "      <th>clickTask_1.1.player.mf_single</th>\n",
       "      <th>clickTask_1.1.player.click_actions</th>\n",
       "      <th>clickTask_1.1.subsession.round_number</th>\n",
       "      <th>clickTask_1.2.player.fss06</th>\n",
       "      <th>clickTask_1.2.player.fss08</th>\n",
       "      <th>clickTask_1.2.player.fss09</th>\n",
       "      <th>clickTask_1.2.player.tlx_single</th>\n",
       "      <th>clickTask_1.2.player.difficulty</th>\n",
       "      <th>clickTask_1.2.player.mr_mood</th>\n",
       "      <th>clickTask_1.2.player.mr_sleepy</th>\n",
       "      <th>clickTask_1.2.player.mr_motivy</th>\n",
       "      <th>clickTask_1.2.player.mf_single</th>\n",
       "      <th>clickTask_1.2.player.click_actions</th>\n",
       "      <th>clickTask_1.2.subsession.round_number</th>\n",
       "      <th>clickTask_1.3.player.fss06</th>\n",
       "      <th>clickTask_1.3.player.fss08</th>\n",
       "      <th>clickTask_1.3.player.fss09</th>\n",
       "      <th>clickTask_1.3.player.tlx_single</th>\n",
       "      <th>clickTask_1.3.player.difficulty</th>\n",
       "      <th>clickTask_1.3.player.mr_mood</th>\n",
       "      <th>clickTask_1.3.player.mr_sleepy</th>\n",
       "      <th>clickTask_1.3.player.mr_motivy</th>\n",
       "      <th>clickTask_1.3.player.mf_single</th>\n",
       "      <th>clickTask_1.3.player.click_actions</th>\n",
       "      <th>clickTask_1.3.subsession.round_number</th>\n",
       "      <th>clickTask_1.4.player.fss06</th>\n",
       "      <th>clickTask_1.4.player.fss08</th>\n",
       "      <th>clickTask_1.4.player.fss09</th>\n",
       "      <th>clickTask_1.4.player.tlx_single</th>\n",
       "      <th>clickTask_1.4.player.difficulty</th>\n",
       "      <th>clickTask_1.4.player.mr_mood</th>\n",
       "      <th>clickTask_1.4.player.mr_sleepy</th>\n",
       "      <th>clickTask_1.4.player.mr_motivy</th>\n",
       "      <th>clickTask_1.4.player.mf_single</th>\n",
       "      <th>clickTask_1.4.player.click_actions</th>\n",
       "      <th>clickTask_1.4.subsession.round_number</th>\n",
       "      <th>clickTask_1.5.player.fss06</th>\n",
       "      <th>clickTask_1.5.player.fss08</th>\n",
       "      <th>clickTask_1.5.player.fss09</th>\n",
       "      <th>clickTask_1.5.player.tlx_single</th>\n",
       "      <th>clickTask_1.5.player.difficulty</th>\n",
       "      <th>clickTask_1.5.player.mr_mood</th>\n",
       "      <th>clickTask_1.5.player.mr_sleepy</th>\n",
       "      <th>clickTask_1.5.player.mr_motivy</th>\n",
       "      <th>clickTask_1.5.player.mf_single</th>\n",
       "      <th>clickTask_1.5.player.click_actions</th>\n",
       "      <th>clickTask_1.5.subsession.round_number</th>\n",
       "      <th>clickTask_1.6.player.fss06</th>\n",
       "      <th>clickTask_1.6.player.fss08</th>\n",
       "      <th>clickTask_1.6.player.fss09</th>\n",
       "      <th>clickTask_1.6.player.tlx_single</th>\n",
       "      <th>clickTask_1.6.player.difficulty</th>\n",
       "      <th>clickTask_1.6.player.mr_mood</th>\n",
       "      <th>clickTask_1.6.player.mr_sleepy</th>\n",
       "      <th>clickTask_1.6.player.mr_motivy</th>\n",
       "      <th>clickTask_1.6.player.mf_single</th>\n",
       "      <th>clickTask_1.6.player.click_actions</th>\n",
       "      <th>clickTask_1.6.subsession.round_number</th>\n",
       "      <th>clickTask_1.7.subsession.round_number</th>\n",
       "      <th>clickTask_1.8.player.tlx_single</th>\n",
       "      <th>clickTask_1.8.player.mr_mood</th>\n",
       "      <th>clickTask_1.8.player.mr_sleepy</th>\n",
       "      <th>clickTask_1.8.player.mr_motivy</th>\n",
       "      <th>clickTask_1.8.player.mf_single</th>\n",
       "      <th>clickTask_1.8.player.mf_01</th>\n",
       "      <th>clickTask_1.8.player.mf_02</th>\n",
       "      <th>clickTask_1.8.player.mf_03</th>\n",
       "      <th>clickTask_1.8.player.mf_04</th>\n",
       "      <th>clickTask_1.8.player.headset_comfort</th>\n",
       "      <th>clickTask_1.8.player.rest_actions_eo</th>\n",
       "      <th>clickTask_1.8.player.rest_actions_ec</th>\n",
       "      <th>clickTask_1.8.subsession.round_number</th>\n",
       "      <th>headphones_finish_1.1.player.feedback</th>\n",
       "      <th>headphones_finish_1.1.subsession.round_number</th>\n",
       "      <th>debriefing_1.1.subsession.round_number</th>\n",
       "      <th>headphones_setup_2.1.player.ux_comfort</th>\n",
       "      <th>headphones_setup_2.1.player.ux_speed</th>\n",
       "      <th>headphones_setup_2.1.player.ux_ease</th>\n",
       "      <th>headphones_setup_2.1.player.ux_look</th>\n",
       "      <th>headphones_setup_2.1.player.wx_public</th>\n",
       "      <th>headphones_setup_2.1.player.wx_private</th>\n",
       "      <th>headphones_setup_2.1.player.wx_conversation</th>\n",
       "      <th>headphones_setup_2.1.player.wx_others</th>\n",
       "      <th>headphones_setup_2.1.player.tlx_single</th>\n",
       "      <th>headphones_setup_2.1.player.sus_01</th>\n",
       "      <th>headphones_setup_2.1.player.sus_02</th>\n",
       "      <th>headphones_setup_2.1.player.sus_03</th>\n",
       "      <th>headphones_setup_2.1.player.sus_04</th>\n",
       "      <th>headphones_setup_2.1.player.sus_05</th>\n",
       "      <th>headphones_setup_2.1.player.sus_06</th>\n",
       "      <th>headphones_setup_2.1.player.sus_07</th>\n",
       "      <th>headphones_setup_2.1.player.sus_08</th>\n",
       "      <th>headphones_setup_2.1.player.sus_09</th>\n",
       "      <th>headphones_setup_2.1.player.sus_10</th>\n",
       "      <th>headphones_setup_2.1.player.mr_mood</th>\n",
       "      <th>headphones_setup_2.1.player.mr_sleepy</th>\n",
       "      <th>headphones_setup_2.1.player.mr_motivy</th>\n",
       "      <th>headphones_setup_2.1.player.mf_single</th>\n",
       "      <th>headphones_setup_2.1.player.mf_01</th>\n",
       "      <th>headphones_setup_2.1.player.mf_02</th>\n",
       "      <th>headphones_setup_2.1.player.mf_03</th>\n",
       "      <th>headphones_setup_2.1.player.mf_04</th>\n",
       "      <th>headphones_setup_2.1.player.rest_actions_eo</th>\n",
       "      <th>headphones_setup_2.1.player.rest_actions_ec</th>\n",
       "      <th>headphones_setup_2.1.player.break_activity</th>\n",
       "      <th>headphones_setup_2.1.subsession.round_number</th>\n",
       "      <th>mathTask_2.1.player.fss06</th>\n",
       "      <th>mathTask_2.1.player.fss08</th>\n",
       "      <th>mathTask_2.1.player.fss09</th>\n",
       "      <th>mathTask_2.1.player.tlx_single</th>\n",
       "      <th>mathTask_2.1.player.difficulty</th>\n",
       "      <th>mathTask_2.1.player.mr_mood</th>\n",
       "      <th>mathTask_2.1.player.mr_sleepy</th>\n",
       "      <th>mathTask_2.1.player.mr_motivy</th>\n",
       "      <th>mathTask_2.1.player.mf_single</th>\n",
       "      <th>mathTask_2.1.player.math_actions</th>\n",
       "      <th>mathTask_2.1.subsession.round_number</th>\n",
       "      <th>mathTask_2.2.player.fss06</th>\n",
       "      <th>mathTask_2.2.player.fss08</th>\n",
       "      <th>mathTask_2.2.player.fss09</th>\n",
       "      <th>mathTask_2.2.player.tlx_single</th>\n",
       "      <th>mathTask_2.2.player.difficulty</th>\n",
       "      <th>mathTask_2.2.player.mr_mood</th>\n",
       "      <th>mathTask_2.2.player.mr_sleepy</th>\n",
       "      <th>mathTask_2.2.player.mr_motivy</th>\n",
       "      <th>mathTask_2.2.player.mf_single</th>\n",
       "      <th>mathTask_2.2.player.math_actions</th>\n",
       "      <th>mathTask_2.2.subsession.round_number</th>\n",
       "      <th>mathTask_2.3.player.fss06</th>\n",
       "      <th>mathTask_2.3.player.fss08</th>\n",
       "      <th>mathTask_2.3.player.fss09</th>\n",
       "      <th>mathTask_2.3.player.tlx_single</th>\n",
       "      <th>mathTask_2.3.player.difficulty</th>\n",
       "      <th>mathTask_2.3.player.mr_mood</th>\n",
       "      <th>mathTask_2.3.player.mr_sleepy</th>\n",
       "      <th>mathTask_2.3.player.mr_motivy</th>\n",
       "      <th>mathTask_2.3.player.mf_single</th>\n",
       "      <th>mathTask_2.3.player.math_actions</th>\n",
       "      <th>mathTask_2.3.subsession.round_number</th>\n",
       "      <th>mathTask_2.4.player.fss06</th>\n",
       "      <th>mathTask_2.4.player.fss08</th>\n",
       "      <th>mathTask_2.4.player.fss09</th>\n",
       "      <th>mathTask_2.4.player.tlx_single</th>\n",
       "      <th>mathTask_2.4.player.difficulty</th>\n",
       "      <th>mathTask_2.4.player.mr_mood</th>\n",
       "      <th>mathTask_2.4.player.mr_sleepy</th>\n",
       "      <th>mathTask_2.4.player.mr_motivy</th>\n",
       "      <th>mathTask_2.4.player.mf_single</th>\n",
       "      <th>mathTask_2.4.player.math_actions</th>\n",
       "      <th>mathTask_2.4.subsession.round_number</th>\n",
       "      <th>mathTask_2.5.player.fss06</th>\n",
       "      <th>mathTask_2.5.player.fss08</th>\n",
       "      <th>mathTask_2.5.player.fss09</th>\n",
       "      <th>mathTask_2.5.player.tlx_single</th>\n",
       "      <th>mathTask_2.5.player.difficulty</th>\n",
       "      <th>mathTask_2.5.player.mr_mood</th>\n",
       "      <th>mathTask_2.5.player.mr_sleepy</th>\n",
       "      <th>mathTask_2.5.player.mr_motivy</th>\n",
       "      <th>mathTask_2.5.player.mf_single</th>\n",
       "      <th>mathTask_2.5.player.math_actions</th>\n",
       "      <th>mathTask_2.5.subsession.round_number</th>\n",
       "      <th>mathTask_2.6.player.fss06</th>\n",
       "      <th>mathTask_2.6.player.fss08</th>\n",
       "      <th>mathTask_2.6.player.fss09</th>\n",
       "      <th>mathTask_2.6.player.tlx_single</th>\n",
       "      <th>mathTask_2.6.player.difficulty</th>\n",
       "      <th>mathTask_2.6.player.mr_mood</th>\n",
       "      <th>mathTask_2.6.player.mr_sleepy</th>\n",
       "      <th>mathTask_2.6.player.mr_motivy</th>\n",
       "      <th>mathTask_2.6.player.mf_single</th>\n",
       "      <th>mathTask_2.6.player.math_actions</th>\n",
       "      <th>mathTask_2.6.subsession.round_number</th>\n",
       "      <th>mathTask_2.7.subsession.round_number</th>\n",
       "      <th>mathTask_2.8.player.tlx_single</th>\n",
       "      <th>mathTask_2.8.player.mr_mood</th>\n",
       "      <th>mathTask_2.8.player.mr_sleepy</th>\n",
       "      <th>mathTask_2.8.player.mr_motivy</th>\n",
       "      <th>mathTask_2.8.player.mf_single</th>\n",
       "      <th>mathTask_2.8.player.mf_01</th>\n",
       "      <th>mathTask_2.8.player.mf_02</th>\n",
       "      <th>mathTask_2.8.player.mf_03</th>\n",
       "      <th>mathTask_2.8.player.mf_04</th>\n",
       "      <th>mathTask_2.8.player.headset_comfort</th>\n",
       "      <th>mathTask_2.8.player.rest_actions_eo</th>\n",
       "      <th>mathTask_2.8.player.rest_actions_ec</th>\n",
       "      <th>mathTask_2.8.subsession.round_number</th>\n",
       "      <th>clickTask_2.1.player.fss06</th>\n",
       "      <th>clickTask_2.1.player.fss08</th>\n",
       "      <th>clickTask_2.1.player.fss09</th>\n",
       "      <th>clickTask_2.1.player.tlx_single</th>\n",
       "      <th>clickTask_2.1.player.difficulty</th>\n",
       "      <th>clickTask_2.1.player.mr_mood</th>\n",
       "      <th>clickTask_2.1.player.mr_sleepy</th>\n",
       "      <th>clickTask_2.1.player.mr_motivy</th>\n",
       "      <th>clickTask_2.1.player.mf_single</th>\n",
       "      <th>clickTask_2.1.player.click_actions</th>\n",
       "      <th>clickTask_2.1.subsession.round_number</th>\n",
       "      <th>clickTask_2.2.player.fss06</th>\n",
       "      <th>clickTask_2.2.player.fss08</th>\n",
       "      <th>clickTask_2.2.player.fss09</th>\n",
       "      <th>clickTask_2.2.player.tlx_single</th>\n",
       "      <th>clickTask_2.2.player.difficulty</th>\n",
       "      <th>clickTask_2.2.player.mr_mood</th>\n",
       "      <th>clickTask_2.2.player.mr_sleepy</th>\n",
       "      <th>clickTask_2.2.player.mr_motivy</th>\n",
       "      <th>clickTask_2.2.player.mf_single</th>\n",
       "      <th>clickTask_2.2.player.click_actions</th>\n",
       "      <th>clickTask_2.2.subsession.round_number</th>\n",
       "      <th>clickTask_2.3.player.fss06</th>\n",
       "      <th>clickTask_2.3.player.fss08</th>\n",
       "      <th>clickTask_2.3.player.fss09</th>\n",
       "      <th>clickTask_2.3.player.tlx_single</th>\n",
       "      <th>clickTask_2.3.player.difficulty</th>\n",
       "      <th>clickTask_2.3.player.mr_mood</th>\n",
       "      <th>clickTask_2.3.player.mr_sleepy</th>\n",
       "      <th>clickTask_2.3.player.mr_motivy</th>\n",
       "      <th>clickTask_2.3.player.mf_single</th>\n",
       "      <th>clickTask_2.3.player.click_actions</th>\n",
       "      <th>clickTask_2.3.subsession.round_number</th>\n",
       "      <th>clickTask_2.4.player.fss06</th>\n",
       "      <th>clickTask_2.4.player.fss08</th>\n",
       "      <th>clickTask_2.4.player.fss09</th>\n",
       "      <th>clickTask_2.4.player.tlx_single</th>\n",
       "      <th>clickTask_2.4.player.difficulty</th>\n",
       "      <th>clickTask_2.4.player.mr_mood</th>\n",
       "      <th>clickTask_2.4.player.mr_sleepy</th>\n",
       "      <th>clickTask_2.4.player.mr_motivy</th>\n",
       "      <th>clickTask_2.4.player.mf_single</th>\n",
       "      <th>clickTask_2.4.player.click_actions</th>\n",
       "      <th>clickTask_2.4.subsession.round_number</th>\n",
       "      <th>clickTask_2.5.player.fss06</th>\n",
       "      <th>clickTask_2.5.player.fss08</th>\n",
       "      <th>clickTask_2.5.player.fss09</th>\n",
       "      <th>clickTask_2.5.player.tlx_single</th>\n",
       "      <th>clickTask_2.5.player.difficulty</th>\n",
       "      <th>clickTask_2.5.player.mr_mood</th>\n",
       "      <th>clickTask_2.5.player.mr_sleepy</th>\n",
       "      <th>clickTask_2.5.player.mr_motivy</th>\n",
       "      <th>clickTask_2.5.player.mf_single</th>\n",
       "      <th>clickTask_2.5.player.click_actions</th>\n",
       "      <th>clickTask_2.5.subsession.round_number</th>\n",
       "      <th>clickTask_2.6.player.fss06</th>\n",
       "      <th>clickTask_2.6.player.fss08</th>\n",
       "      <th>clickTask_2.6.player.fss09</th>\n",
       "      <th>clickTask_2.6.player.tlx_single</th>\n",
       "      <th>clickTask_2.6.player.difficulty</th>\n",
       "      <th>clickTask_2.6.player.mr_mood</th>\n",
       "      <th>clickTask_2.6.player.mr_sleepy</th>\n",
       "      <th>clickTask_2.6.player.mr_motivy</th>\n",
       "      <th>clickTask_2.6.player.mf_single</th>\n",
       "      <th>clickTask_2.6.player.click_actions</th>\n",
       "      <th>clickTask_2.6.subsession.round_number</th>\n",
       "      <th>clickTask_2.7.subsession.round_number</th>\n",
       "      <th>clickTask_2.8.player.tlx_single</th>\n",
       "      <th>clickTask_2.8.player.mr_mood</th>\n",
       "      <th>clickTask_2.8.player.mr_sleepy</th>\n",
       "      <th>clickTask_2.8.player.mr_motivy</th>\n",
       "      <th>clickTask_2.8.player.mf_single</th>\n",
       "      <th>clickTask_2.8.player.mf_01</th>\n",
       "      <th>clickTask_2.8.player.mf_02</th>\n",
       "      <th>clickTask_2.8.player.mf_03</th>\n",
       "      <th>clickTask_2.8.player.mf_04</th>\n",
       "      <th>clickTask_2.8.player.headset_comfort</th>\n",
       "      <th>clickTask_2.8.player.rest_actions_eo</th>\n",
       "      <th>clickTask_2.8.player.rest_actions_ec</th>\n",
       "      <th>clickTask_2.8.subsession.round_number</th>\n",
       "      <th>headphones_finish_2.1.player.feedback</th>\n",
       "      <th>headphones_finish_2.1.subsession.round_number</th>\n",
       "      <th>debriefing_2.1.subsession.round_number</th>\n",
       "      <th>headphones_setup_3.1.player.ux_comfort</th>\n",
       "      <th>headphones_setup_3.1.player.ux_speed</th>\n",
       "      <th>headphones_setup_3.1.player.ux_ease</th>\n",
       "      <th>headphones_setup_3.1.player.ux_look</th>\n",
       "      <th>headphones_setup_3.1.player.wx_public</th>\n",
       "      <th>headphones_setup_3.1.player.wx_private</th>\n",
       "      <th>headphones_setup_3.1.player.wx_conversation</th>\n",
       "      <th>headphones_setup_3.1.player.wx_others</th>\n",
       "      <th>headphones_setup_3.1.player.tlx_single</th>\n",
       "      <th>headphones_setup_3.1.player.sus_01</th>\n",
       "      <th>headphones_setup_3.1.player.sus_02</th>\n",
       "      <th>headphones_setup_3.1.player.sus_03</th>\n",
       "      <th>headphones_setup_3.1.player.sus_04</th>\n",
       "      <th>headphones_setup_3.1.player.sus_05</th>\n",
       "      <th>headphones_setup_3.1.player.sus_06</th>\n",
       "      <th>headphones_setup_3.1.player.sus_07</th>\n",
       "      <th>headphones_setup_3.1.player.sus_08</th>\n",
       "      <th>headphones_setup_3.1.player.sus_09</th>\n",
       "      <th>headphones_setup_3.1.player.sus_10</th>\n",
       "      <th>headphones_setup_3.1.player.mr_mood</th>\n",
       "      <th>headphones_setup_3.1.player.mr_sleepy</th>\n",
       "      <th>headphones_setup_3.1.player.mr_motivy</th>\n",
       "      <th>headphones_setup_3.1.player.mf_single</th>\n",
       "      <th>headphones_setup_3.1.player.mf_01</th>\n",
       "      <th>headphones_setup_3.1.player.mf_02</th>\n",
       "      <th>headphones_setup_3.1.player.mf_03</th>\n",
       "      <th>headphones_setup_3.1.player.mf_04</th>\n",
       "      <th>headphones_setup_3.1.player.rest_actions_eo</th>\n",
       "      <th>headphones_setup_3.1.player.rest_actions_ec</th>\n",
       "      <th>headphones_setup_3.1.player.break_activity</th>\n",
       "      <th>headphones_setup_3.1.subsession.round_number</th>\n",
       "      <th>mathTask_3.1.player.fss06</th>\n",
       "      <th>mathTask_3.1.player.fss08</th>\n",
       "      <th>mathTask_3.1.player.fss09</th>\n",
       "      <th>mathTask_3.1.player.tlx_single</th>\n",
       "      <th>mathTask_3.1.player.difficulty</th>\n",
       "      <th>mathTask_3.1.player.mr_mood</th>\n",
       "      <th>mathTask_3.1.player.mr_sleepy</th>\n",
       "      <th>mathTask_3.1.player.mr_motivy</th>\n",
       "      <th>mathTask_3.1.player.mf_single</th>\n",
       "      <th>mathTask_3.1.player.math_actions</th>\n",
       "      <th>mathTask_3.1.subsession.round_number</th>\n",
       "      <th>mathTask_3.2.player.fss06</th>\n",
       "      <th>mathTask_3.2.player.fss08</th>\n",
       "      <th>mathTask_3.2.player.fss09</th>\n",
       "      <th>mathTask_3.2.player.tlx_single</th>\n",
       "      <th>mathTask_3.2.player.difficulty</th>\n",
       "      <th>mathTask_3.2.player.mr_mood</th>\n",
       "      <th>mathTask_3.2.player.mr_sleepy</th>\n",
       "      <th>mathTask_3.2.player.mr_motivy</th>\n",
       "      <th>mathTask_3.2.player.mf_single</th>\n",
       "      <th>mathTask_3.2.player.math_actions</th>\n",
       "      <th>mathTask_3.2.subsession.round_number</th>\n",
       "      <th>mathTask_3.3.player.fss06</th>\n",
       "      <th>mathTask_3.3.player.fss08</th>\n",
       "      <th>mathTask_3.3.player.fss09</th>\n",
       "      <th>mathTask_3.3.player.tlx_single</th>\n",
       "      <th>mathTask_3.3.player.difficulty</th>\n",
       "      <th>mathTask_3.3.player.mr_mood</th>\n",
       "      <th>mathTask_3.3.player.mr_sleepy</th>\n",
       "      <th>mathTask_3.3.player.mr_motivy</th>\n",
       "      <th>mathTask_3.3.player.mf_single</th>\n",
       "      <th>mathTask_3.3.player.math_actions</th>\n",
       "      <th>mathTask_3.3.subsession.round_number</th>\n",
       "      <th>mathTask_3.4.player.fss06</th>\n",
       "      <th>mathTask_3.4.player.fss08</th>\n",
       "      <th>mathTask_3.4.player.fss09</th>\n",
       "      <th>mathTask_3.4.player.tlx_single</th>\n",
       "      <th>mathTask_3.4.player.difficulty</th>\n",
       "      <th>mathTask_3.4.player.mr_mood</th>\n",
       "      <th>mathTask_3.4.player.mr_sleepy</th>\n",
       "      <th>mathTask_3.4.player.mr_motivy</th>\n",
       "      <th>mathTask_3.4.player.mf_single</th>\n",
       "      <th>mathTask_3.4.player.math_actions</th>\n",
       "      <th>mathTask_3.4.subsession.round_number</th>\n",
       "      <th>mathTask_3.5.player.fss06</th>\n",
       "      <th>mathTask_3.5.player.fss08</th>\n",
       "      <th>mathTask_3.5.player.fss09</th>\n",
       "      <th>mathTask_3.5.player.tlx_single</th>\n",
       "      <th>mathTask_3.5.player.difficulty</th>\n",
       "      <th>mathTask_3.5.player.mr_mood</th>\n",
       "      <th>mathTask_3.5.player.mr_sleepy</th>\n",
       "      <th>mathTask_3.5.player.mr_motivy</th>\n",
       "      <th>mathTask_3.5.player.mf_single</th>\n",
       "      <th>mathTask_3.5.player.math_actions</th>\n",
       "      <th>mathTask_3.5.subsession.round_number</th>\n",
       "      <th>mathTask_3.6.player.fss06</th>\n",
       "      <th>mathTask_3.6.player.fss08</th>\n",
       "      <th>mathTask_3.6.player.fss09</th>\n",
       "      <th>mathTask_3.6.player.tlx_single</th>\n",
       "      <th>mathTask_3.6.player.difficulty</th>\n",
       "      <th>mathTask_3.6.player.mr_mood</th>\n",
       "      <th>mathTask_3.6.player.mr_sleepy</th>\n",
       "      <th>mathTask_3.6.player.mr_motivy</th>\n",
       "      <th>mathTask_3.6.player.mf_single</th>\n",
       "      <th>mathTask_3.6.player.math_actions</th>\n",
       "      <th>mathTask_3.6.subsession.round_number</th>\n",
       "      <th>mathTask_3.7.subsession.round_number</th>\n",
       "      <th>mathTask_3.8.player.tlx_single</th>\n",
       "      <th>mathTask_3.8.player.mr_mood</th>\n",
       "      <th>mathTask_3.8.player.mr_sleepy</th>\n",
       "      <th>mathTask_3.8.player.mr_motivy</th>\n",
       "      <th>mathTask_3.8.player.mf_single</th>\n",
       "      <th>mathTask_3.8.player.mf_01</th>\n",
       "      <th>mathTask_3.8.player.mf_02</th>\n",
       "      <th>mathTask_3.8.player.mf_03</th>\n",
       "      <th>mathTask_3.8.player.mf_04</th>\n",
       "      <th>mathTask_3.8.player.headset_comfort</th>\n",
       "      <th>mathTask_3.8.player.rest_actions_eo</th>\n",
       "      <th>mathTask_3.8.player.rest_actions_ec</th>\n",
       "      <th>mathTask_3.8.subsession.round_number</th>\n",
       "      <th>clickTask_3.1.player.fss06</th>\n",
       "      <th>clickTask_3.1.player.fss08</th>\n",
       "      <th>clickTask_3.1.player.fss09</th>\n",
       "      <th>clickTask_3.1.player.tlx_single</th>\n",
       "      <th>clickTask_3.1.player.difficulty</th>\n",
       "      <th>clickTask_3.1.player.mr_mood</th>\n",
       "      <th>clickTask_3.1.player.mr_sleepy</th>\n",
       "      <th>clickTask_3.1.player.mr_motivy</th>\n",
       "      <th>clickTask_3.1.player.mf_single</th>\n",
       "      <th>clickTask_3.1.player.click_actions</th>\n",
       "      <th>clickTask_3.1.subsession.round_number</th>\n",
       "      <th>clickTask_3.2.player.fss06</th>\n",
       "      <th>clickTask_3.2.player.fss08</th>\n",
       "      <th>clickTask_3.2.player.fss09</th>\n",
       "      <th>clickTask_3.2.player.tlx_single</th>\n",
       "      <th>clickTask_3.2.player.difficulty</th>\n",
       "      <th>clickTask_3.2.player.mr_mood</th>\n",
       "      <th>clickTask_3.2.player.mr_sleepy</th>\n",
       "      <th>clickTask_3.2.player.mr_motivy</th>\n",
       "      <th>clickTask_3.2.player.mf_single</th>\n",
       "      <th>clickTask_3.2.player.click_actions</th>\n",
       "      <th>clickTask_3.2.subsession.round_number</th>\n",
       "      <th>clickTask_3.3.player.fss06</th>\n",
       "      <th>clickTask_3.3.player.fss08</th>\n",
       "      <th>clickTask_3.3.player.fss09</th>\n",
       "      <th>clickTask_3.3.player.tlx_single</th>\n",
       "      <th>clickTask_3.3.player.difficulty</th>\n",
       "      <th>clickTask_3.3.player.mr_mood</th>\n",
       "      <th>clickTask_3.3.player.mr_sleepy</th>\n",
       "      <th>clickTask_3.3.player.mr_motivy</th>\n",
       "      <th>clickTask_3.3.player.mf_single</th>\n",
       "      <th>clickTask_3.3.player.click_actions</th>\n",
       "      <th>clickTask_3.3.subsession.round_number</th>\n",
       "      <th>clickTask_3.4.player.fss06</th>\n",
       "      <th>clickTask_3.4.player.fss08</th>\n",
       "      <th>clickTask_3.4.player.fss09</th>\n",
       "      <th>clickTask_3.4.player.tlx_single</th>\n",
       "      <th>clickTask_3.4.player.difficulty</th>\n",
       "      <th>clickTask_3.4.player.mr_mood</th>\n",
       "      <th>clickTask_3.4.player.mr_sleepy</th>\n",
       "      <th>clickTask_3.4.player.mr_motivy</th>\n",
       "      <th>clickTask_3.4.player.mf_single</th>\n",
       "      <th>clickTask_3.4.player.click_actions</th>\n",
       "      <th>clickTask_3.4.subsession.round_number</th>\n",
       "      <th>clickTask_3.5.player.fss06</th>\n",
       "      <th>clickTask_3.5.player.fss08</th>\n",
       "      <th>clickTask_3.5.player.fss09</th>\n",
       "      <th>clickTask_3.5.player.tlx_single</th>\n",
       "      <th>clickTask_3.5.player.difficulty</th>\n",
       "      <th>clickTask_3.5.player.mr_mood</th>\n",
       "      <th>clickTask_3.5.player.mr_sleepy</th>\n",
       "      <th>clickTask_3.5.player.mr_motivy</th>\n",
       "      <th>clickTask_3.5.player.mf_single</th>\n",
       "      <th>clickTask_3.5.player.click_actions</th>\n",
       "      <th>clickTask_3.5.subsession.round_number</th>\n",
       "      <th>clickTask_3.6.player.fss06</th>\n",
       "      <th>clickTask_3.6.player.fss08</th>\n",
       "      <th>clickTask_3.6.player.fss09</th>\n",
       "      <th>clickTask_3.6.player.tlx_single</th>\n",
       "      <th>clickTask_3.6.player.difficulty</th>\n",
       "      <th>clickTask_3.6.player.mr_mood</th>\n",
       "      <th>clickTask_3.6.player.mr_sleepy</th>\n",
       "      <th>clickTask_3.6.player.mr_motivy</th>\n",
       "      <th>clickTask_3.6.player.mf_single</th>\n",
       "      <th>clickTask_3.6.player.click_actions</th>\n",
       "      <th>clickTask_3.6.subsession.round_number</th>\n",
       "      <th>clickTask_3.7.subsession.round_number</th>\n",
       "      <th>clickTask_3.8.player.tlx_single</th>\n",
       "      <th>clickTask_3.8.player.mr_mood</th>\n",
       "      <th>clickTask_3.8.player.mr_sleepy</th>\n",
       "      <th>clickTask_3.8.player.mr_motivy</th>\n",
       "      <th>clickTask_3.8.player.mf_single</th>\n",
       "      <th>clickTask_3.8.player.mf_01</th>\n",
       "      <th>clickTask_3.8.player.mf_02</th>\n",
       "      <th>clickTask_3.8.player.mf_03</th>\n",
       "      <th>clickTask_3.8.player.mf_04</th>\n",
       "      <th>clickTask_3.8.player.headset_comfort</th>\n",
       "      <th>clickTask_3.8.player.rest_actions_eo</th>\n",
       "      <th>clickTask_3.8.player.rest_actions_ec</th>\n",
       "      <th>clickTask_3.8.subsession.round_number</th>\n",
       "      <th>headphones_finish_3.1.player.feedback</th>\n",
       "      <th>headphones_finish_3.1.subsession.round_number</th>\n",
       "      <th>debriefing_3.1.player.mathsRating</th>\n",
       "      <th>debriefing_3.1.player.clickRating</th>\n",
       "      <th>debriefing_3.1.player.mathSkill</th>\n",
       "      <th>debriefing_3.1.player.clickSkill</th>\n",
       "      <th>debriefing_3.1.subsession.round_number</th>\n",
       "    </tr>\n",
       "  </thead>\n",
       "  <tbody>\n",
       "    <tr>\n",
       "      <th>0</th>\n",
       "      <td>c84uz72q</td>\n",
       "      <td>373</td>\n",
       "      <td>373</td>\n",
       "      <td>2025-07-17 06:07:04.105845</td>\n",
       "      <td>anejys</td>\n",
       "      <td>Math_Whack</td>\n",
       "      <td>Green</td>\n",
       "      <td>anejys</td>\n",
       "      <td>Right</td>\n",
       "      <td>C2 Proficiency English – I can understand with...</td>\n",
       "      <td>Yes</td>\n",
       "      <td>34.0</td>\n",
       "      <td>Male</td>\n",
       "      <td>No</td>\n",
       "      <td>Yes</td>\n",
       "      <td>I can see all colors and hues</td>\n",
       "      <td>Yes</td>\n",
       "      <td>Student</td>\n",
       "      <td>Master</td>\n",
       "      <td>Medium</td>\n",
       "      <td>62.0</td>\n",
       "      <td>169.0</td>\n",
       "      <td>(Almost) No Hair (0-1cm)</td>\n",
       "      <td>Long (&gt;10mm)</td>\n",
       "      <td>Straight</td>\n",
       "      <td>Medium</td>\n",
       "      <td>No Beard (0mm)</td>\n",
       "      <td>No</td>\n",
       "      <td>Normal</td>\n",
       "      <td>Sometimes</td>\n",
       "      <td>Often</td>\n",
       "      <td>Never, or I never noticed it</td>\n",
       "      <td>No</td>\n",
       "      <td>In the last 12h</td>\n",
       "      <td>In the last hour</td>\n",
       "      <td>More than 24h / Never</td>\n",
       "      <td>More than 24h / Never</td>\n",
       "      <td>In the last 12h</td>\n",
       "      <td>3.0</td>\n",
       "      <td>3.0</td>\n",
       "      <td>4.0</td>\n",
       "      <td>3.0</td>\n",
       "      <td>4.0</td>\n",
       "      <td>5.0</td>\n",
       "      <td>3.0</td>\n",
       "      <td>4.0</td>\n",
       "      <td>6.0</td>\n",
       "      <td>6.0</td>\n",
       "      <td>3.0</td>\n",
       "      <td>100.0</td>\n",
       "      <td>4.0</td>\n",
       "      <td>7.0</td>\n",
       "      <td>6.0</td>\n",
       "      <td>4.0</td>\n",
       "      <td>3.0</td>\n",
       "      <td>4.0</td>\n",
       "      <td>2.0</td>\n",
       "      <td>4.0</td>\n",
       "      <td>4.0</td>\n",
       "      <td>3.0</td>\n",
       "      <td>2.0</td>\n",
       "      <td>1.0</td>\n",
       "      <td>2.0</td>\n",
       "      <td>4.0</td>\n",
       "      <td>1.0</td>\n",
       "      <td>2.0</td>\n",
       "      <td>1.0</td>\n",
       "      <td>4.0</td>\n",
       "      <td>1.0</td>\n",
       "      <td>83.0</td>\n",
       "      <td>88.0</td>\n",
       "      <td>90.0</td>\n",
       "      <td>1.0</td>\n",
       "      <td>3.0</td>\n",
       "      <td>3.0</td>\n",
       "      <td>3.0</td>\n",
       "      <td>3.0</td>\n",
       "      <td>;onLoad;Thu Jul 17 2025 08:49:43 GMT+0200 (Mit...</td>\n",
       "      <td>;onLoad;Thu Jul 17 2025 08:50:31 GMT+0200 (Mit...</td>\n",
       "      <td>1</td>\n",
       "      <td>7.0</td>\n",
       "      <td>7.0</td>\n",
       "      <td>5.0</td>\n",
       "      <td>19.0</td>\n",
       "      <td>5.0</td>\n",
       "      <td>89.0</td>\n",
       "      <td>90.0</td>\n",
       "      <td>92.0</td>\n",
       "      <td>93.0</td>\n",
       "      <td>;onLoad;Thu Jul 17 2025 08:52:29 GMT+0200 (Mit...</td>\n",
       "      <td>1</td>\n",
       "      <td>7.0</td>\n",
       "      <td>2.0</td>\n",
       "      <td>2.0</td>\n",
       "      <td>21.0</td>\n",
       "      <td>6.0</td>\n",
       "      <td>90.0</td>\n",
       "      <td>90.0</td>\n",
       "      <td>92.0</td>\n",
       "      <td>23.0</td>\n",
       "      <td>;onLoad;Thu Jul 17 2025 08:54:43 GMT+0200 (Mit...</td>\n",
       "      <td>2</td>\n",
       "      <td>7.0</td>\n",
       "      <td>7.0</td>\n",
       "      <td>4.0</td>\n",
       "      <td>20.0</td>\n",
       "      <td>5.0</td>\n",
       "      <td>90.0</td>\n",
       "      <td>92.0</td>\n",
       "      <td>91.0</td>\n",
       "      <td>11.0</td>\n",
       "      <td>;onLoad;Thu Jul 17 2025 08:56:35 GMT+0200 (Mit...</td>\n",
       "      <td>3</td>\n",
       "      <td>7.0</td>\n",
       "      <td>4.0</td>\n",
       "      <td>4.0</td>\n",
       "      <td>20.0</td>\n",
       "      <td>5.0</td>\n",
       "      <td>90.0</td>\n",
       "      <td>90.0</td>\n",
       "      <td>95.0</td>\n",
       "      <td>9.0</td>\n",
       "      <td>;onLoad;Thu Jul 17 2025 08:58:19 GMT+0200 (Mit...</td>\n",
       "      <td>4</td>\n",
       "      <td>7.0</td>\n",
       "      <td>7.0</td>\n",
       "      <td>5.0</td>\n",
       "      <td>21.0</td>\n",
       "      <td>5.0</td>\n",
       "      <td>89.0</td>\n",
       "      <td>90.0</td>\n",
       "      <td>90.0</td>\n",
       "      <td>26.0</td>\n",
       "      <td>;onLoad;Thu Jul 17 2025 09:00:03 GMT+0200 (Mit...</td>\n",
       "      <td>5</td>\n",
       "      <td>7.0</td>\n",
       "      <td>6.0</td>\n",
       "      <td>6.0</td>\n",
       "      <td>21.0</td>\n",
       "      <td>7.0</td>\n",
       "      <td>90.0</td>\n",
       "      <td>91.0</td>\n",
       "      <td>92.0</td>\n",
       "      <td>11.0</td>\n",
       "      <td>;onLoad;Thu Jul 17 2025 09:01:43 GMT+0200 (Mit...</td>\n",
       "      <td>6</td>\n",
       "      <td>7</td>\n",
       "      <td>7.0</td>\n",
       "      <td>88.0</td>\n",
       "      <td>89.0</td>\n",
       "      <td>91.0</td>\n",
       "      <td>17.0</td>\n",
       "      <td>3.0</td>\n",
       "      <td>6.0</td>\n",
       "      <td>3.0</td>\n",
       "      <td>3.0</td>\n",
       "      <td>6.0</td>\n",
       "      <td>;onLoad;Thu Jul 17 2025 09:03:21 GMT+0200 (Mit...</td>\n",
       "      <td>;onLoad;Thu Jul 17 2025 09:03:59 GMT+0200 (Mit...</td>\n",
       "      <td>8</td>\n",
       "      <td>7.0</td>\n",
       "      <td>7.0</td>\n",
       "      <td>7.0</td>\n",
       "      <td>20.0</td>\n",
       "      <td>2.0</td>\n",
       "      <td>87.0</td>\n",
       "      <td>91.0</td>\n",
       "      <td>93.0</td>\n",
       "      <td>10.0</td>\n",
       "      <td>;taskStart;Thu Jul 17 2025 09:05:51 GMT+0200 (...</td>\n",
       "      <td>1</td>\n",
       "      <td>7.0</td>\n",
       "      <td>7.0</td>\n",
       "      <td>4.0</td>\n",
       "      <td>21.0</td>\n",
       "      <td>3.0</td>\n",
       "      <td>82.0</td>\n",
       "      <td>85.0</td>\n",
       "      <td>88.0</td>\n",
       "      <td>17.0</td>\n",
       "      <td>;taskStart;Thu Jul 17 2025 09:07:36 GMT+0200 (...</td>\n",
       "      <td>2</td>\n",
       "      <td>7.0</td>\n",
       "      <td>7.0</td>\n",
       "      <td>7.0</td>\n",
       "      <td>21.0</td>\n",
       "      <td>3.0</td>\n",
       "      <td>96.0</td>\n",
       "      <td>95.0</td>\n",
       "      <td>93.0</td>\n",
       "      <td>23.0</td>\n",
       "      <td>;taskStart;Thu Jul 17 2025 09:09:10 GMT+0200 (...</td>\n",
       "      <td>3</td>\n",
       "      <td>7.0</td>\n",
       "      <td>7.0</td>\n",
       "      <td>7.0</td>\n",
       "      <td>18.0</td>\n",
       "      <td>4.0</td>\n",
       "      <td>87.0</td>\n",
       "      <td>88.0</td>\n",
       "      <td>85.0</td>\n",
       "      <td>13.0</td>\n",
       "      <td>;taskStart;Thu Jul 17 2025 09:10:46 GMT+0200 (...</td>\n",
       "      <td>4</td>\n",
       "      <td>7.0</td>\n",
       "      <td>7.0</td>\n",
       "      <td>7.0</td>\n",
       "      <td>18.0</td>\n",
       "      <td>4.0</td>\n",
       "      <td>72.0</td>\n",
       "      <td>72.0</td>\n",
       "      <td>76.0</td>\n",
       "      <td>27.0</td>\n",
       "      <td>;taskStart;Thu Jul 17 2025 09:12:21 GMT+0200 (...</td>\n",
       "      <td>5</td>\n",
       "      <td>7.0</td>\n",
       "      <td>6.0</td>\n",
       "      <td>6.0</td>\n",
       "      <td>19.0</td>\n",
       "      <td>5.0</td>\n",
       "      <td>88.0</td>\n",
       "      <td>89.0</td>\n",
       "      <td>90.0</td>\n",
       "      <td>25.0</td>\n",
       "      <td>;taskStart;Thu Jul 17 2025 09:13:57 GMT+0200 (...</td>\n",
       "      <td>6</td>\n",
       "      <td>7</td>\n",
       "      <td>8.0</td>\n",
       "      <td>87.0</td>\n",
       "      <td>88.0</td>\n",
       "      <td>90.0</td>\n",
       "      <td>31.0</td>\n",
       "      <td>4.0</td>\n",
       "      <td>6.0</td>\n",
       "      <td>5.0</td>\n",
       "      <td>5.0</td>\n",
       "      <td>6.0</td>\n",
       "      <td>;onLoad;Thu Jul 17 2025 09:15:39 GMT+0200 (Mit...</td>\n",
       "      <td>;onLoad;Thu Jul 17 2025 09:16:20 GMT+0200 (Mit...</td>\n",
       "      <td>8</td>\n",
       "      <td>Fun Experiment to do maths equation but lot of...</td>\n",
       "      <td>1</td>\n",
       "      <td>1</td>\n",
       "      <td>7.0</td>\n",
       "      <td>7.0</td>\n",
       "      <td>7.0</td>\n",
       "      <td>5.0</td>\n",
       "      <td>5.0</td>\n",
       "      <td>5.0</td>\n",
       "      <td>3.0</td>\n",
       "      <td>4.0</td>\n",
       "      <td>9.0</td>\n",
       "      <td>2.0</td>\n",
       "      <td>2.0</td>\n",
       "      <td>4.0</td>\n",
       "      <td>2.0</td>\n",
       "      <td>4.0</td>\n",
       "      <td>1.0</td>\n",
       "      <td>4.0</td>\n",
       "      <td>2.0</td>\n",
       "      <td>4.0</td>\n",
       "      <td>2.0</td>\n",
       "      <td>85.0</td>\n",
       "      <td>87.0</td>\n",
       "      <td>88.0</td>\n",
       "      <td>10.0</td>\n",
       "      <td>5.0</td>\n",
       "      <td>4.0</td>\n",
       "      <td>4.0</td>\n",
       "      <td>3.0</td>\n",
       "      <td>;onLoad;Thu Jul 17 2025 09:30:33 GMT+0200 (Mit...</td>\n",
       "      <td>;onLoad;Thu Jul 17 2025 09:31:08 GMT+0200 (Mit...</td>\n",
       "      <td>Take the breakfast</td>\n",
       "      <td>1</td>\n",
       "      <td>6.0</td>\n",
       "      <td>6.0</td>\n",
       "      <td>6.0</td>\n",
       "      <td>19.0</td>\n",
       "      <td>5.0</td>\n",
       "      <td>89.0</td>\n",
       "      <td>92.0</td>\n",
       "      <td>93.0</td>\n",
       "      <td>26.0</td>\n",
       "      <td>;onLoad;Thu Jul 17 2025 09:32:38 GMT+0200 (Mit...</td>\n",
       "      <td>1</td>\n",
       "      <td>6.0</td>\n",
       "      <td>6.0</td>\n",
       "      <td>6.0</td>\n",
       "      <td>17.0</td>\n",
       "      <td>6.0</td>\n",
       "      <td>89.0</td>\n",
       "      <td>86.0</td>\n",
       "      <td>87.0</td>\n",
       "      <td>24.0</td>\n",
       "      <td>;onLoad;Thu Jul 17 2025 09:36:19 GMT+0200 (Mit...</td>\n",
       "      <td>2</td>\n",
       "      <td>7.0</td>\n",
       "      <td>7.0</td>\n",
       "      <td>6.0</td>\n",
       "      <td>19.0</td>\n",
       "      <td>4.0</td>\n",
       "      <td>80.0</td>\n",
       "      <td>80.0</td>\n",
       "      <td>82.0</td>\n",
       "      <td>34.0</td>\n",
       "      <td>;onLoad;Thu Jul 17 2025 09:38:06 GMT+0200 (Mit...</td>\n",
       "      <td>3</td>\n",
       "      <td>7.0</td>\n",
       "      <td>6.0</td>\n",
       "      <td>6.0</td>\n",
       "      <td>15.0</td>\n",
       "      <td>5.0</td>\n",
       "      <td>85.0</td>\n",
       "      <td>85.0</td>\n",
       "      <td>88.0</td>\n",
       "      <td>19.0</td>\n",
       "      <td>;onLoad;Thu Jul 17 2025 09:39:45 GMT+0200 (Mit...</td>\n",
       "      <td>4</td>\n",
       "      <td>7.0</td>\n",
       "      <td>6.0</td>\n",
       "      <td>6.0</td>\n",
       "      <td>19.0</td>\n",
       "      <td>3.0</td>\n",
       "      <td>89.0</td>\n",
       "      <td>90.0</td>\n",
       "      <td>91.0</td>\n",
       "      <td>24.0</td>\n",
       "      <td>;onLoad;Thu Jul 17 2025 09:41:25 GMT+0200 (Mit...</td>\n",
       "      <td>5</td>\n",
       "      <td>7.0</td>\n",
       "      <td>4.0</td>\n",
       "      <td>6.0</td>\n",
       "      <td>20.0</td>\n",
       "      <td>6.0</td>\n",
       "      <td>89.0</td>\n",
       "      <td>90.0</td>\n",
       "      <td>90.0</td>\n",
       "      <td>14.0</td>\n",
       "      <td>;onLoad;Thu Jul 17 2025 09:43:00 GMT+0200 (Mit...</td>\n",
       "      <td>6</td>\n",
       "      <td>7</td>\n",
       "      <td>9.0</td>\n",
       "      <td>86.0</td>\n",
       "      <td>88.0</td>\n",
       "      <td>90.0</td>\n",
       "      <td>18.0</td>\n",
       "      <td>5.0</td>\n",
       "      <td>4.0</td>\n",
       "      <td>4.0</td>\n",
       "      <td>3.0</td>\n",
       "      <td>6.0</td>\n",
       "      <td>;onLoad;Thu Jul 17 2025 09:44:38 GMT+0200 (Mit...</td>\n",
       "      <td>;onLoad;Thu Jul 17 2025 09:45:11 GMT+0200 (Mit...</td>\n",
       "      <td>8</td>\n",
       "      <td>7.0</td>\n",
       "      <td>7.0</td>\n",
       "      <td>7.0</td>\n",
       "      <td>8.0</td>\n",
       "      <td>3.0</td>\n",
       "      <td>84.0</td>\n",
       "      <td>83.0</td>\n",
       "      <td>85.0</td>\n",
       "      <td>13.0</td>\n",
       "      <td>;taskStart;Thu Jul 17 2025 09:46:43 GMT+0200 (...</td>\n",
       "      <td>1</td>\n",
       "      <td>7.0</td>\n",
       "      <td>7.0</td>\n",
       "      <td>6.0</td>\n",
       "      <td>9.0</td>\n",
       "      <td>3.0</td>\n",
       "      <td>96.0</td>\n",
       "      <td>92.0</td>\n",
       "      <td>91.0</td>\n",
       "      <td>25.0</td>\n",
       "      <td>;taskStart;Thu Jul 17 2025 09:48:18 GMT+0200 (...</td>\n",
       "      <td>2</td>\n",
       "      <td>7.0</td>\n",
       "      <td>7.0</td>\n",
       "      <td>6.0</td>\n",
       "      <td>13.0</td>\n",
       "      <td>5.0</td>\n",
       "      <td>90.0</td>\n",
       "      <td>88.0</td>\n",
       "      <td>85.0</td>\n",
       "      <td>27.0</td>\n",
       "      <td>;taskStart;Thu Jul 17 2025 09:49:52 GMT+0200 (...</td>\n",
       "      <td>3</td>\n",
       "      <td>7.0</td>\n",
       "      <td>5.0</td>\n",
       "      <td>6.0</td>\n",
       "      <td>15.0</td>\n",
       "      <td>6.0</td>\n",
       "      <td>86.0</td>\n",
       "      <td>88.0</td>\n",
       "      <td>88.0</td>\n",
       "      <td>24.0</td>\n",
       "      <td>;taskStart;Thu Jul 17 2025 09:51:27 GMT+0200 (...</td>\n",
       "      <td>4</td>\n",
       "      <td>6.0</td>\n",
       "      <td>7.0</td>\n",
       "      <td>6.0</td>\n",
       "      <td>8.0</td>\n",
       "      <td>3.0</td>\n",
       "      <td>91.0</td>\n",
       "      <td>92.0</td>\n",
       "      <td>89.0</td>\n",
       "      <td>18.0</td>\n",
       "      <td>;taskStart;Thu Jul 17 2025 09:53:10 GMT+0200 (...</td>\n",
       "      <td>5</td>\n",
       "      <td>6.0</td>\n",
       "      <td>6.0</td>\n",
       "      <td>6.0</td>\n",
       "      <td>16.0</td>\n",
       "      <td>5.0</td>\n",
       "      <td>81.0</td>\n",
       "      <td>82.0</td>\n",
       "      <td>84.0</td>\n",
       "      <td>26.0</td>\n",
       "      <td>;taskStart;Thu Jul 17 2025 09:54:40 GMT+0200 (...</td>\n",
       "      <td>6</td>\n",
       "      <td>7</td>\n",
       "      <td>13.0</td>\n",
       "      <td>81.0</td>\n",
       "      <td>83.0</td>\n",
       "      <td>83.0</td>\n",
       "      <td>11.0</td>\n",
       "      <td>4.0</td>\n",
       "      <td>4.0</td>\n",
       "      <td>4.0</td>\n",
       "      <td>3.0</td>\n",
       "      <td>4.0</td>\n",
       "      <td>;onLoad;Thu Jul 17 2025 09:56:14 GMT+0200 (Mit...</td>\n",
       "      <td>;onLoad;Thu Jul 17 2025 09:56:51 GMT+0200 (Mit...</td>\n",
       "      <td>8</td>\n",
       "      <td>More mathematics and fast movemnt to click was...</td>\n",
       "      <td>1</td>\n",
       "      <td>1</td>\n",
       "      <td>7.0</td>\n",
       "      <td>7.0</td>\n",
       "      <td>6.0</td>\n",
       "      <td>6.0</td>\n",
       "      <td>5.0</td>\n",
       "      <td>6.0</td>\n",
       "      <td>4.0</td>\n",
       "      <td>3.0</td>\n",
       "      <td>7.0</td>\n",
       "      <td>2.0</td>\n",
       "      <td>2.0</td>\n",
       "      <td>2.0</td>\n",
       "      <td>2.0</td>\n",
       "      <td>5.0</td>\n",
       "      <td>1.0</td>\n",
       "      <td>2.0</td>\n",
       "      <td>4.0</td>\n",
       "      <td>2.0</td>\n",
       "      <td>1.0</td>\n",
       "      <td>81.0</td>\n",
       "      <td>82.0</td>\n",
       "      <td>84.0</td>\n",
       "      <td>16.0</td>\n",
       "      <td>5.0</td>\n",
       "      <td>5.0</td>\n",
       "      <td>3.0</td>\n",
       "      <td>3.0</td>\n",
       "      <td>;onLoad;Thu Jul 17 2025 10:10:15 GMT+0200 (Mit...</td>\n",
       "      <td>;onLoad;Thu Jul 17 2025 10:10:51 GMT+0200 (Mit...</td>\n",
       "      <td>drink water , check the mesages on mobile and ...</td>\n",
       "      <td>1</td>\n",
       "      <td>7.0</td>\n",
       "      <td>7.0</td>\n",
       "      <td>6.0</td>\n",
       "      <td>14.0</td>\n",
       "      <td>3.0</td>\n",
       "      <td>86.0</td>\n",
       "      <td>86.0</td>\n",
       "      <td>85.0</td>\n",
       "      <td>25.0</td>\n",
       "      <td>;onLoad;Thu Jul 17 2025 10:12:07 GMT+0200 (Mit...</td>\n",
       "      <td>1</td>\n",
       "      <td>7.0</td>\n",
       "      <td>5.0</td>\n",
       "      <td>4.0</td>\n",
       "      <td>17.0</td>\n",
       "      <td>5.0</td>\n",
       "      <td>92.0</td>\n",
       "      <td>90.0</td>\n",
       "      <td>92.0</td>\n",
       "      <td>8.0</td>\n",
       "      <td>;onLoad;Thu Jul 17 2025 10:13:41 GMT+0200 (Mit...</td>\n",
       "      <td>2</td>\n",
       "      <td>7.0</td>\n",
       "      <td>7.0</td>\n",
       "      <td>7.0</td>\n",
       "      <td>13.0</td>\n",
       "      <td>3.0</td>\n",
       "      <td>89.0</td>\n",
       "      <td>91.0</td>\n",
       "      <td>91.0</td>\n",
       "      <td>23.0</td>\n",
       "      <td>;onLoad;Thu Jul 17 2025 10:15:13 GMT+0200 (Mit...</td>\n",
       "      <td>3</td>\n",
       "      <td>7.0</td>\n",
       "      <td>6.0</td>\n",
       "      <td>5.0</td>\n",
       "      <td>20.0</td>\n",
       "      <td>5.0</td>\n",
       "      <td>79.0</td>\n",
       "      <td>80.0</td>\n",
       "      <td>81.0</td>\n",
       "      <td>22.0</td>\n",
       "      <td>;onLoad;Thu Jul 17 2025 10:16:42 GMT+0200 (Mit...</td>\n",
       "      <td>4</td>\n",
       "      <td>7.0</td>\n",
       "      <td>7.0</td>\n",
       "      <td>6.0</td>\n",
       "      <td>14.0</td>\n",
       "      <td>5.0</td>\n",
       "      <td>87.0</td>\n",
       "      <td>88.0</td>\n",
       "      <td>88.0</td>\n",
       "      <td>14.0</td>\n",
       "      <td>;onLoad;Thu Jul 17 2025 10:18:14 GMT+0200 (Mit...</td>\n",
       "      <td>5</td>\n",
       "      <td>7.0</td>\n",
       "      <td>5.0</td>\n",
       "      <td>6.0</td>\n",
       "      <td>17.0</td>\n",
       "      <td>6.0</td>\n",
       "      <td>87.0</td>\n",
       "      <td>89.0</td>\n",
       "      <td>90.0</td>\n",
       "      <td>22.0</td>\n",
       "      <td>;onLoad;Thu Jul 17 2025 10:19:52 GMT+0200 (Mit...</td>\n",
       "      <td>6</td>\n",
       "      <td>7</td>\n",
       "      <td>16.0</td>\n",
       "      <td>80.0</td>\n",
       "      <td>84.0</td>\n",
       "      <td>85.0</td>\n",
       "      <td>6.0</td>\n",
       "      <td>3.0</td>\n",
       "      <td>3.0</td>\n",
       "      <td>4.0</td>\n",
       "      <td>3.0</td>\n",
       "      <td>6.0</td>\n",
       "      <td>;onLoad;Thu Jul 17 2025 10:21:16 GMT+0200 (Mit...</td>\n",
       "      <td>;onLoad;Thu Jul 17 2025 10:21:50 GMT+0200 (Mit...</td>\n",
       "      <td>8</td>\n",
       "      <td>6.0</td>\n",
       "      <td>6.0</td>\n",
       "      <td>6.0</td>\n",
       "      <td>4.0</td>\n",
       "      <td>6.0</td>\n",
       "      <td>88.0</td>\n",
       "      <td>89.0</td>\n",
       "      <td>91.0</td>\n",
       "      <td>22.0</td>\n",
       "      <td>;taskStart;Thu Jul 17 2025 10:22:50 GMT+0200 (...</td>\n",
       "      <td>1</td>\n",
       "      <td>6.0</td>\n",
       "      <td>6.0</td>\n",
       "      <td>6.0</td>\n",
       "      <td>15.0</td>\n",
       "      <td>2.0</td>\n",
       "      <td>98.0</td>\n",
       "      <td>95.0</td>\n",
       "      <td>96.0</td>\n",
       "      <td>18.0</td>\n",
       "      <td>;taskStart;Thu Jul 17 2025 10:24:14 GMT+0200 (...</td>\n",
       "      <td>2</td>\n",
       "      <td>6.0</td>\n",
       "      <td>6.0</td>\n",
       "      <td>6.0</td>\n",
       "      <td>17.0</td>\n",
       "      <td>2.0</td>\n",
       "      <td>87.0</td>\n",
       "      <td>87.0</td>\n",
       "      <td>88.0</td>\n",
       "      <td>22.0</td>\n",
       "      <td>;taskStart;Thu Jul 17 2025 10:25:41 GMT+0200 (...</td>\n",
       "      <td>3</td>\n",
       "      <td>6.0</td>\n",
       "      <td>6.0</td>\n",
       "      <td>7.0</td>\n",
       "      <td>9.0</td>\n",
       "      <td>5.0</td>\n",
       "      <td>88.0</td>\n",
       "      <td>90.0</td>\n",
       "      <td>91.0</td>\n",
       "      <td>28.0</td>\n",
       "      <td>;taskStart;Thu Jul 17 2025 10:27:05 GMT+0200 (...</td>\n",
       "      <td>4</td>\n",
       "      <td>6.0</td>\n",
       "      <td>7.0</td>\n",
       "      <td>7.0</td>\n",
       "      <td>9.0</td>\n",
       "      <td>3.0</td>\n",
       "      <td>86.0</td>\n",
       "      <td>88.0</td>\n",
       "      <td>91.0</td>\n",
       "      <td>27.0</td>\n",
       "      <td>;taskStart;Thu Jul 17 2025 10:28:33 GMT+0200 (...</td>\n",
       "      <td>5</td>\n",
       "      <td>6.0</td>\n",
       "      <td>6.0</td>\n",
       "      <td>6.0</td>\n",
       "      <td>14.0</td>\n",
       "      <td>3.0</td>\n",
       "      <td>82.0</td>\n",
       "      <td>84.0</td>\n",
       "      <td>86.0</td>\n",
       "      <td>20.0</td>\n",
       "      <td>;taskStart;Thu Jul 17 2025 10:30:00 GMT+0200 (...</td>\n",
       "      <td>6</td>\n",
       "      <td>7</td>\n",
       "      <td>18.0</td>\n",
       "      <td>82.0</td>\n",
       "      <td>85.0</td>\n",
       "      <td>89.0</td>\n",
       "      <td>11.0</td>\n",
       "      <td>3.0</td>\n",
       "      <td>3.0</td>\n",
       "      <td>3.0</td>\n",
       "      <td>3.0</td>\n",
       "      <td>6.0</td>\n",
       "      <td>;onLoad;Thu Jul 17 2025 10:31:23 GMT+0200 (Mit...</td>\n",
       "      <td>;onLoad;Thu Jul 17 2025 10:31:57 GMT+0200 (Mit...</td>\n",
       "      <td>8</td>\n",
       "      <td>Headset was comfortable , as comparted to prer...</td>\n",
       "      <td>1</td>\n",
       "      <td>5.0</td>\n",
       "      <td>5.0</td>\n",
       "      <td>4.0</td>\n",
       "      <td>4.0</td>\n",
       "      <td>1</td>\n",
       "    </tr>\n",
       "    <tr>\n",
       "      <th>1</th>\n",
       "      <td>c6b9o7pz</td>\n",
       "      <td>373</td>\n",
       "      <td>373</td>\n",
       "      <td>2025-07-17 06:07:36.639569</td>\n",
       "      <td>az2bj9</td>\n",
       "      <td>Math_Whack</td>\n",
       "      <td>White</td>\n",
       "      <td>az2bj9</td>\n",
       "      <td>Right</td>\n",
       "      <td>C2 Proficiency English – I can understand with...</td>\n",
       "      <td>Yes</td>\n",
       "      <td>29.0</td>\n",
       "      <td>Male</td>\n",
       "      <td>No</td>\n",
       "      <td>Yes</td>\n",
       "      <td>I can see all colors and hues</td>\n",
       "      <td>Yes</td>\n",
       "      <td>Student</td>\n",
       "      <td>Bachelor</td>\n",
       "      <td>Medium</td>\n",
       "      <td>79.0</td>\n",
       "      <td>176.0</td>\n",
       "      <td>Very Short (1-10cm)</td>\n",
       "      <td>Medium (5-10mm)</td>\n",
       "      <td>Straight</td>\n",
       "      <td>High (Dense/Thick Hair)</td>\n",
       "      <td>Light Stubble (0-5mm)</td>\n",
       "      <td>No</td>\n",
       "      <td>Normal</td>\n",
       "      <td>Sometimes</td>\n",
       "      <td>I don’t wear products on my face</td>\n",
       "      <td>Never, or I never noticed it</td>\n",
       "      <td>No</td>\n",
       "      <td>In the last 12h</td>\n",
       "      <td>In the last 12h</td>\n",
       "      <td>In the last 24h</td>\n",
       "      <td>More than 24h / Never</td>\n",
       "      <td>More than 24h / Never</td>\n",
       "      <td>4.0</td>\n",
       "      <td>5.0</td>\n",
       "      <td>5.0</td>\n",
       "      <td>5.0</td>\n",
       "      <td>3.0</td>\n",
       "      <td>3.0</td>\n",
       "      <td>3.0</td>\n",
       "      <td>4.0</td>\n",
       "      <td>3.0</td>\n",
       "      <td>3.0</td>\n",
       "      <td>3.0</td>\n",
       "      <td>33.0</td>\n",
       "      <td>5.0</td>\n",
       "      <td>7.0</td>\n",
       "      <td>7.0</td>\n",
       "      <td>7.0</td>\n",
       "      <td>5.0</td>\n",
       "      <td>6.0</td>\n",
       "      <td>7.0</td>\n",
       "      <td>3.0</td>\n",
       "      <td>5.0</td>\n",
       "      <td>4.0</td>\n",
       "      <td>1.0</td>\n",
       "      <td>5.0</td>\n",
       "      <td>1.0</td>\n",
       "      <td>4.0</td>\n",
       "      <td>1.0</td>\n",
       "      <td>5.0</td>\n",
       "      <td>2.0</td>\n",
       "      <td>5.0</td>\n",
       "      <td>1.0</td>\n",
       "      <td>59.0</td>\n",
       "      <td>60.0</td>\n",
       "      <td>70.0</td>\n",
       "      <td>50.0</td>\n",
       "      <td>5.0</td>\n",
       "      <td>5.0</td>\n",
       "      <td>3.0</td>\n",
       "      <td>3.0</td>\n",
       "      <td>;onLoad;Thu Jul 17 2025 09:09:51 GMT+0200 (Mit...</td>\n",
       "      <td>;onLoad;Thu Jul 17 2025 09:10:54 GMT+0200 (Mit...</td>\n",
       "      <td>1</td>\n",
       "      <td>7.0</td>\n",
       "      <td>7.0</td>\n",
       "      <td>7.0</td>\n",
       "      <td>15.0</td>\n",
       "      <td>2.0</td>\n",
       "      <td>76.0</td>\n",
       "      <td>78.0</td>\n",
       "      <td>82.0</td>\n",
       "      <td>31.0</td>\n",
       "      <td>;onLoad;Thu Jul 17 2025 09:13:15 GMT+0200 (Mit...</td>\n",
       "      <td>1</td>\n",
       "      <td>7.0</td>\n",
       "      <td>7.0</td>\n",
       "      <td>6.0</td>\n",
       "      <td>16.0</td>\n",
       "      <td>4.0</td>\n",
       "      <td>81.0</td>\n",
       "      <td>80.0</td>\n",
       "      <td>83.0</td>\n",
       "      <td>41.0</td>\n",
       "      <td>;onLoad;Thu Jul 17 2025 09:15:15 GMT+0200 (Mit...</td>\n",
       "      <td>2</td>\n",
       "      <td>7.0</td>\n",
       "      <td>7.0</td>\n",
       "      <td>7.0</td>\n",
       "      <td>13.0</td>\n",
       "      <td>3.0</td>\n",
       "      <td>68.0</td>\n",
       "      <td>71.0</td>\n",
       "      <td>72.0</td>\n",
       "      <td>32.0</td>\n",
       "      <td>;onLoad;Thu Jul 17 2025 09:16:57 GMT+0200 (Mit...</td>\n",
       "      <td>3</td>\n",
       "      <td>7.0</td>\n",
       "      <td>7.0</td>\n",
       "      <td>7.0</td>\n",
       "      <td>13.0</td>\n",
       "      <td>3.0</td>\n",
       "      <td>78.0</td>\n",
       "      <td>80.0</td>\n",
       "      <td>84.0</td>\n",
       "      <td>40.0</td>\n",
       "      <td>;onLoad;Thu Jul 17 2025 09:18:29 GMT+0200 (Mit...</td>\n",
       "      <td>4</td>\n",
       "      <td>7.0</td>\n",
       "      <td>7.0</td>\n",
       "      <td>7.0</td>\n",
       "      <td>9.0</td>\n",
       "      <td>2.0</td>\n",
       "      <td>79.0</td>\n",
       "      <td>78.0</td>\n",
       "      <td>82.0</td>\n",
       "      <td>24.0</td>\n",
       "      <td>;onLoad;Thu Jul 17 2025 09:19:59 GMT+0200 (Mit...</td>\n",
       "      <td>5</td>\n",
       "      <td>7.0</td>\n",
       "      <td>7.0</td>\n",
       "      <td>7.0</td>\n",
       "      <td>16.0</td>\n",
       "      <td>3.0</td>\n",
       "      <td>58.0</td>\n",
       "      <td>81.0</td>\n",
       "      <td>83.0</td>\n",
       "      <td>40.0</td>\n",
       "      <td>;onLoad;Thu Jul 17 2025 09:21:38 GMT+0200 (Mit...</td>\n",
       "      <td>6</td>\n",
       "      <td>7</td>\n",
       "      <td>4.0</td>\n",
       "      <td>72.0</td>\n",
       "      <td>73.0</td>\n",
       "      <td>72.0</td>\n",
       "      <td>27.0</td>\n",
       "      <td>7.0</td>\n",
       "      <td>7.0</td>\n",
       "      <td>2.0</td>\n",
       "      <td>2.0</td>\n",
       "      <td>4.0</td>\n",
       "      <td>;onLoad;Thu Jul 17 2025 09:23:12 GMT+0200 (Mit...</td>\n",
       "      <td>;onLoad;Thu Jul 17 2025 09:23:55 GMT+0200 (Mit...</td>\n",
       "      <td>8</td>\n",
       "      <td>7.0</td>\n",
       "      <td>7.0</td>\n",
       "      <td>7.0</td>\n",
       "      <td>8.0</td>\n",
       "      <td>2.0</td>\n",
       "      <td>78.0</td>\n",
       "      <td>79.0</td>\n",
       "      <td>82.0</td>\n",
       "      <td>25.0</td>\n",
       "      <td>;taskStart;Thu Jul 17 2025 09:25:27 GMT+0200 (...</td>\n",
       "      <td>1</td>\n",
       "      <td>7.0</td>\n",
       "      <td>7.0</td>\n",
       "      <td>7.0</td>\n",
       "      <td>16.0</td>\n",
       "      <td>3.0</td>\n",
       "      <td>76.0</td>\n",
       "      <td>89.0</td>\n",
       "      <td>82.0</td>\n",
       "      <td>21.0</td>\n",
       "      <td>;taskStart;Thu Jul 17 2025 09:26:58 GMT+0200 (...</td>\n",
       "      <td>2</td>\n",
       "      <td>7.0</td>\n",
       "      <td>7.0</td>\n",
       "      <td>7.0</td>\n",
       "      <td>7.0</td>\n",
       "      <td>2.0</td>\n",
       "      <td>72.0</td>\n",
       "      <td>77.0</td>\n",
       "      <td>81.0</td>\n",
       "      <td>26.0</td>\n",
       "      <td>;taskStart;Thu Jul 17 2025 09:28:29 GMT+0200 (...</td>\n",
       "      <td>3</td>\n",
       "      <td>7.0</td>\n",
       "      <td>7.0</td>\n",
       "      <td>7.0</td>\n",
       "      <td>15.0</td>\n",
       "      <td>3.0</td>\n",
       "      <td>82.0</td>\n",
       "      <td>83.0</td>\n",
       "      <td>84.0</td>\n",
       "      <td>19.0</td>\n",
       "      <td>;taskStart;Thu Jul 17 2025 09:29:56 GMT+0200 (...</td>\n",
       "      <td>4</td>\n",
       "      <td>7.0</td>\n",
       "      <td>7.0</td>\n",
       "      <td>7.0</td>\n",
       "      <td>8.0</td>\n",
       "      <td>2.0</td>\n",
       "      <td>80.0</td>\n",
       "      <td>82.0</td>\n",
       "      <td>82.0</td>\n",
       "      <td>18.0</td>\n",
       "      <td>;taskStart;Thu Jul 17 2025 09:31:29 GMT+0200 (...</td>\n",
       "      <td>5</td>\n",
       "      <td>7.0</td>\n",
       "      <td>7.0</td>\n",
       "      <td>7.0</td>\n",
       "      <td>15.0</td>\n",
       "      <td>2.0</td>\n",
       "      <td>77.0</td>\n",
       "      <td>83.0</td>\n",
       "      <td>84.0</td>\n",
       "      <td>30.0</td>\n",
       "      <td>;taskStart;Thu Jul 17 2025 09:33:02 GMT+0200 (...</td>\n",
       "      <td>6</td>\n",
       "      <td>7</td>\n",
       "      <td>2.0</td>\n",
       "      <td>77.0</td>\n",
       "      <td>79.0</td>\n",
       "      <td>79.0</td>\n",
       "      <td>19.0</td>\n",
       "      <td>7.0</td>\n",
       "      <td>7.0</td>\n",
       "      <td>1.0</td>\n",
       "      <td>2.0</td>\n",
       "      <td>4.0</td>\n",
       "      <td>;onLoad;Thu Jul 17 2025 09:34:33 GMT+0200 (Mit...</td>\n",
       "      <td>;onLoad;Thu Jul 17 2025 09:35:09 GMT+0200 (Mit...</td>\n",
       "      <td>8</td>\n",
       "      <td>NaN</td>\n",
       "      <td>1</td>\n",
       "      <td>1</td>\n",
       "      <td>4.0</td>\n",
       "      <td>6.0</td>\n",
       "      <td>6.0</td>\n",
       "      <td>3.0</td>\n",
       "      <td>4.0</td>\n",
       "      <td>6.0</td>\n",
       "      <td>6.0</td>\n",
       "      <td>4.0</td>\n",
       "      <td>1.0</td>\n",
       "      <td>3.0</td>\n",
       "      <td>1.0</td>\n",
       "      <td>5.0</td>\n",
       "      <td>1.0</td>\n",
       "      <td>5.0</td>\n",
       "      <td>1.0</td>\n",
       "      <td>5.0</td>\n",
       "      <td>1.0</td>\n",
       "      <td>5.0</td>\n",
       "      <td>1.0</td>\n",
       "      <td>73.0</td>\n",
       "      <td>63.0</td>\n",
       "      <td>79.0</td>\n",
       "      <td>78.0</td>\n",
       "      <td>7.0</td>\n",
       "      <td>7.0</td>\n",
       "      <td>1.0</td>\n",
       "      <td>2.0</td>\n",
       "      <td>;onLoad;Thu Jul 17 2025 09:49:55 GMT+0200 (Mit...</td>\n",
       "      <td>;onLoad;Thu Jul 17 2025 09:50:30 GMT+0200 (Mit...</td>\n",
       "      <td>nothing</td>\n",
       "      <td>1</td>\n",
       "      <td>7.0</td>\n",
       "      <td>7.0</td>\n",
       "      <td>7.0</td>\n",
       "      <td>13.0</td>\n",
       "      <td>2.0</td>\n",
       "      <td>69.0</td>\n",
       "      <td>70.0</td>\n",
       "      <td>72.0</td>\n",
       "      <td>15.0</td>\n",
       "      <td>;onLoad;Thu Jul 17 2025 09:51:28 GMT+0200 (Mit...</td>\n",
       "      <td>1</td>\n",
       "      <td>7.0</td>\n",
       "      <td>7.0</td>\n",
       "      <td>7.0</td>\n",
       "      <td>19.0</td>\n",
       "      <td>5.0</td>\n",
       "      <td>44.0</td>\n",
       "      <td>82.0</td>\n",
       "      <td>82.0</td>\n",
       "      <td>17.0</td>\n",
       "      <td>;onLoad;Thu Jul 17 2025 09:52:59 GMT+0200 (Mit...</td>\n",
       "      <td>2</td>\n",
       "      <td>7.0</td>\n",
       "      <td>7.0</td>\n",
       "      <td>7.0</td>\n",
       "      <td>18.0</td>\n",
       "      <td>2.0</td>\n",
       "      <td>81.0</td>\n",
       "      <td>78.0</td>\n",
       "      <td>79.0</td>\n",
       "      <td>9.0</td>\n",
       "      <td>;onLoad;Thu Jul 17 2025 09:54:34 GMT+0200 (Mit...</td>\n",
       "      <td>3</td>\n",
       "      <td>7.0</td>\n",
       "      <td>7.0</td>\n",
       "      <td>7.0</td>\n",
       "      <td>19.0</td>\n",
       "      <td>4.0</td>\n",
       "      <td>59.0</td>\n",
       "      <td>84.0</td>\n",
       "      <td>87.0</td>\n",
       "      <td>13.0</td>\n",
       "      <td>;onLoad;Thu Jul 17 2025 09:56:05 GMT+0200 (Mit...</td>\n",
       "      <td>4</td>\n",
       "      <td>7.0</td>\n",
       "      <td>7.0</td>\n",
       "      <td>7.0</td>\n",
       "      <td>9.0</td>\n",
       "      <td>3.0</td>\n",
       "      <td>40.0</td>\n",
       "      <td>80.0</td>\n",
       "      <td>82.0</td>\n",
       "      <td>22.0</td>\n",
       "      <td>;onLoad;Thu Jul 17 2025 09:57:34 GMT+0200 (Mit...</td>\n",
       "      <td>5</td>\n",
       "      <td>7.0</td>\n",
       "      <td>7.0</td>\n",
       "      <td>7.0</td>\n",
       "      <td>15.0</td>\n",
       "      <td>3.0</td>\n",
       "      <td>77.0</td>\n",
       "      <td>83.0</td>\n",
       "      <td>83.0</td>\n",
       "      <td>14.0</td>\n",
       "      <td>;onLoad;Thu Jul 17 2025 09:59:17 GMT+0200 (Mit...</td>\n",
       "      <td>6</td>\n",
       "      <td>7</td>\n",
       "      <td>3.0</td>\n",
       "      <td>70.0</td>\n",
       "      <td>75.0</td>\n",
       "      <td>79.0</td>\n",
       "      <td>10.0</td>\n",
       "      <td>7.0</td>\n",
       "      <td>7.0</td>\n",
       "      <td>1.0</td>\n",
       "      <td>2.0</td>\n",
       "      <td>4.0</td>\n",
       "      <td>;onLoad;Thu Jul 17 2025 10:00:43 GMT+0200 (Mit...</td>\n",
       "      <td>;onLoad;Thu Jul 17 2025 10:01:19 GMT+0200 (Mit...</td>\n",
       "      <td>8</td>\n",
       "      <td>7.0</td>\n",
       "      <td>7.0</td>\n",
       "      <td>7.0</td>\n",
       "      <td>6.0</td>\n",
       "      <td>2.0</td>\n",
       "      <td>74.0</td>\n",
       "      <td>79.0</td>\n",
       "      <td>79.0</td>\n",
       "      <td>15.0</td>\n",
       "      <td>;taskStart;Thu Jul 17 2025 10:02:11 GMT+0200 (...</td>\n",
       "      <td>1</td>\n",
       "      <td>7.0</td>\n",
       "      <td>7.0</td>\n",
       "      <td>7.0</td>\n",
       "      <td>17.0</td>\n",
       "      <td>5.0</td>\n",
       "      <td>80.0</td>\n",
       "      <td>83.0</td>\n",
       "      <td>88.0</td>\n",
       "      <td>12.0</td>\n",
       "      <td>;taskStart;Thu Jul 17 2025 10:03:40 GMT+0200 (...</td>\n",
       "      <td>2</td>\n",
       "      <td>7.0</td>\n",
       "      <td>7.0</td>\n",
       "      <td>7.0</td>\n",
       "      <td>7.0</td>\n",
       "      <td>2.0</td>\n",
       "      <td>78.0</td>\n",
       "      <td>81.0</td>\n",
       "      <td>81.0</td>\n",
       "      <td>19.0</td>\n",
       "      <td>;taskStart;Thu Jul 17 2025 10:05:11 GMT+0200 (...</td>\n",
       "      <td>3</td>\n",
       "      <td>7.0</td>\n",
       "      <td>7.0</td>\n",
       "      <td>7.0</td>\n",
       "      <td>6.0</td>\n",
       "      <td>2.0</td>\n",
       "      <td>74.0</td>\n",
       "      <td>79.0</td>\n",
       "      <td>69.0</td>\n",
       "      <td>13.0</td>\n",
       "      <td>;taskStart;Thu Jul 17 2025 10:06:42 GMT+0200 (...</td>\n",
       "      <td>4</td>\n",
       "      <td>7.0</td>\n",
       "      <td>7.0</td>\n",
       "      <td>7.0</td>\n",
       "      <td>17.0</td>\n",
       "      <td>6.0</td>\n",
       "      <td>80.0</td>\n",
       "      <td>82.0</td>\n",
       "      <td>76.0</td>\n",
       "      <td>26.0</td>\n",
       "      <td>;taskStart;Thu Jul 17 2025 10:08:12 GMT+0200 (...</td>\n",
       "      <td>5</td>\n",
       "      <td>7.0</td>\n",
       "      <td>7.0</td>\n",
       "      <td>7.0</td>\n",
       "      <td>16.0</td>\n",
       "      <td>3.0</td>\n",
       "      <td>80.0</td>\n",
       "      <td>83.0</td>\n",
       "      <td>77.0</td>\n",
       "      <td>17.0</td>\n",
       "      <td>;taskStart;Thu Jul 17 2025 10:09:39 GMT+0200 (...</td>\n",
       "      <td>6</td>\n",
       "      <td>7</td>\n",
       "      <td>2.0</td>\n",
       "      <td>73.0</td>\n",
       "      <td>77.0</td>\n",
       "      <td>71.0</td>\n",
       "      <td>14.0</td>\n",
       "      <td>7.0</td>\n",
       "      <td>7.0</td>\n",
       "      <td>1.0</td>\n",
       "      <td>2.0</td>\n",
       "      <td>4.0</td>\n",
       "      <td>;onLoad;Thu Jul 17 2025 10:11:07 GMT+0200 (Mit...</td>\n",
       "      <td>;onLoad;Thu Jul 17 2025 10:11:43 GMT+0200 (Mit...</td>\n",
       "      <td>8</td>\n",
       "      <td>NaN</td>\n",
       "      <td>1</td>\n",
       "      <td>1</td>\n",
       "      <td>4.0</td>\n",
       "      <td>6.0</td>\n",
       "      <td>6.0</td>\n",
       "      <td>4.0</td>\n",
       "      <td>6.0</td>\n",
       "      <td>6.0</td>\n",
       "      <td>6.0</td>\n",
       "      <td>4.0</td>\n",
       "      <td>2.0</td>\n",
       "      <td>3.0</td>\n",
       "      <td>1.0</td>\n",
       "      <td>4.0</td>\n",
       "      <td>1.0</td>\n",
       "      <td>5.0</td>\n",
       "      <td>1.0</td>\n",
       "      <td>5.0</td>\n",
       "      <td>1.0</td>\n",
       "      <td>5.0</td>\n",
       "      <td>1.0</td>\n",
       "      <td>77.0</td>\n",
       "      <td>74.0</td>\n",
       "      <td>68.0</td>\n",
       "      <td>13.0</td>\n",
       "      <td>7.0</td>\n",
       "      <td>7.0</td>\n",
       "      <td>1.0</td>\n",
       "      <td>2.0</td>\n",
       "      <td>;onLoad;Thu Jul 17 2025 10:21:20 GMT+0200 (Mit...</td>\n",
       "      <td>;onLoad;Thu Jul 17 2025 10:22:03 GMT+0200 (Mit...</td>\n",
       "      <td>Nothing</td>\n",
       "      <td>1</td>\n",
       "      <td>7.0</td>\n",
       "      <td>7.0</td>\n",
       "      <td>7.0</td>\n",
       "      <td>5.0</td>\n",
       "      <td>4.0</td>\n",
       "      <td>72.0</td>\n",
       "      <td>73.0</td>\n",
       "      <td>66.0</td>\n",
       "      <td>12.0</td>\n",
       "      <td>;onLoad;Thu Jul 17 2025 10:23:17 GMT+0200 (Mit...</td>\n",
       "      <td>1</td>\n",
       "      <td>7.0</td>\n",
       "      <td>7.0</td>\n",
       "      <td>7.0</td>\n",
       "      <td>16.0</td>\n",
       "      <td>4.0</td>\n",
       "      <td>68.0</td>\n",
       "      <td>75.0</td>\n",
       "      <td>64.0</td>\n",
       "      <td>11.0</td>\n",
       "      <td>;onLoad;Thu Jul 17 2025 10:24:45 GMT+0200 (Mit...</td>\n",
       "      <td>2</td>\n",
       "      <td>7.0</td>\n",
       "      <td>7.0</td>\n",
       "      <td>7.0</td>\n",
       "      <td>7.0</td>\n",
       "      <td>5.0</td>\n",
       "      <td>76.0</td>\n",
       "      <td>77.0</td>\n",
       "      <td>63.0</td>\n",
       "      <td>11.0</td>\n",
       "      <td>;onLoad;Thu Jul 17 2025 10:26:17 GMT+0200 (Mit...</td>\n",
       "      <td>3</td>\n",
       "      <td>7.0</td>\n",
       "      <td>7.0</td>\n",
       "      <td>7.0</td>\n",
       "      <td>17.0</td>\n",
       "      <td>3.0</td>\n",
       "      <td>72.0</td>\n",
       "      <td>73.0</td>\n",
       "      <td>71.0</td>\n",
       "      <td>17.0</td>\n",
       "      <td>;onLoad;Thu Jul 17 2025 10:27:55 GMT+0200 (Mit...</td>\n",
       "      <td>4</td>\n",
       "      <td>7.0</td>\n",
       "      <td>7.0</td>\n",
       "      <td>7.0</td>\n",
       "      <td>12.0</td>\n",
       "      <td>4.0</td>\n",
       "      <td>70.0</td>\n",
       "      <td>69.0</td>\n",
       "      <td>65.0</td>\n",
       "      <td>15.0</td>\n",
       "      <td>;onLoad;Thu Jul 17 2025 10:29:17 GMT+0200 (Mit...</td>\n",
       "      <td>5</td>\n",
       "      <td>7.0</td>\n",
       "      <td>7.0</td>\n",
       "      <td>7.0</td>\n",
       "      <td>15.0</td>\n",
       "      <td>4.0</td>\n",
       "      <td>69.0</td>\n",
       "      <td>71.0</td>\n",
       "      <td>56.0</td>\n",
       "      <td>24.0</td>\n",
       "      <td>;onLoad;Thu Jul 17 2025 10:30:42 GMT+0200 (Mit...</td>\n",
       "      <td>6</td>\n",
       "      <td>7</td>\n",
       "      <td>1.0</td>\n",
       "      <td>61.0</td>\n",
       "      <td>65.0</td>\n",
       "      <td>67.0</td>\n",
       "      <td>33.0</td>\n",
       "      <td>7.0</td>\n",
       "      <td>7.0</td>\n",
       "      <td>1.0</td>\n",
       "      <td>2.0</td>\n",
       "      <td>4.0</td>\n",
       "      <td>;onLoad;Thu Jul 17 2025 10:32:04 GMT+0200 (Mit...</td>\n",
       "      <td>;onLoad;Thu Jul 17 2025 10:32:38 GMT+0200 (Mit...</td>\n",
       "      <td>8</td>\n",
       "      <td>7.0</td>\n",
       "      <td>7.0</td>\n",
       "      <td>7.0</td>\n",
       "      <td>3.0</td>\n",
       "      <td>2.0</td>\n",
       "      <td>66.0</td>\n",
       "      <td>70.0</td>\n",
       "      <td>71.0</td>\n",
       "      <td>19.0</td>\n",
       "      <td>;taskStart;Thu Jul 17 2025 10:33:34 GMT+0200 (...</td>\n",
       "      <td>1</td>\n",
       "      <td>7.0</td>\n",
       "      <td>7.0</td>\n",
       "      <td>7.0</td>\n",
       "      <td>14.0</td>\n",
       "      <td>3.0</td>\n",
       "      <td>73.0</td>\n",
       "      <td>77.0</td>\n",
       "      <td>73.0</td>\n",
       "      <td>24.0</td>\n",
       "      <td>;taskStart;Thu Jul 17 2025 10:35:01 GMT+0200 (...</td>\n",
       "      <td>2</td>\n",
       "      <td>7.0</td>\n",
       "      <td>7.0</td>\n",
       "      <td>7.0</td>\n",
       "      <td>8.0</td>\n",
       "      <td>2.0</td>\n",
       "      <td>81.0</td>\n",
       "      <td>80.0</td>\n",
       "      <td>71.0</td>\n",
       "      <td>21.0</td>\n",
       "      <td>;taskStart;Thu Jul 17 2025 10:36:28 GMT+0200 (...</td>\n",
       "      <td>3</td>\n",
       "      <td>7.0</td>\n",
       "      <td>7.0</td>\n",
       "      <td>7.0</td>\n",
       "      <td>4.0</td>\n",
       "      <td>3.0</td>\n",
       "      <td>73.0</td>\n",
       "      <td>79.0</td>\n",
       "      <td>66.0</td>\n",
       "      <td>15.0</td>\n",
       "      <td>;taskStart;Thu Jul 17 2025 10:38:00 GMT+0200 (...</td>\n",
       "      <td>4</td>\n",
       "      <td>7.0</td>\n",
       "      <td>7.0</td>\n",
       "      <td>7.0</td>\n",
       "      <td>7.0</td>\n",
       "      <td>2.0</td>\n",
       "      <td>80.0</td>\n",
       "      <td>76.0</td>\n",
       "      <td>70.0</td>\n",
       "      <td>18.0</td>\n",
       "      <td>;taskStart;Thu Jul 17 2025 10:39:29 GMT+0200 (...</td>\n",
       "      <td>5</td>\n",
       "      <td>7.0</td>\n",
       "      <td>7.0</td>\n",
       "      <td>7.0</td>\n",
       "      <td>8.0</td>\n",
       "      <td>3.0</td>\n",
       "      <td>67.0</td>\n",
       "      <td>69.0</td>\n",
       "      <td>58.0</td>\n",
       "      <td>8.0</td>\n",
       "      <td>;taskStart;Thu Jul 17 2025 10:40:55 GMT+0200 (...</td>\n",
       "      <td>6</td>\n",
       "      <td>7</td>\n",
       "      <td>4.0</td>\n",
       "      <td>67.0</td>\n",
       "      <td>73.0</td>\n",
       "      <td>68.0</td>\n",
       "      <td>25.0</td>\n",
       "      <td>7.0</td>\n",
       "      <td>7.0</td>\n",
       "      <td>1.0</td>\n",
       "      <td>2.0</td>\n",
       "      <td>4.0</td>\n",
       "      <td>;onLoad;Thu Jul 17 2025 10:42:19 GMT+0200 (Mit...</td>\n",
       "      <td>;onLoad;Thu Jul 17 2025 10:42:54 GMT+0200 (Mit...</td>\n",
       "      <td>8</td>\n",
       "      <td>NaN</td>\n",
       "      <td>1</td>\n",
       "      <td>6.0</td>\n",
       "      <td>6.0</td>\n",
       "      <td>3.0</td>\n",
       "      <td>3.0</td>\n",
       "      <td>1</td>\n",
       "    </tr>\n",
       "    <tr>\n",
       "      <th>2</th>\n",
       "      <td>go2kbs0y</td>\n",
       "      <td>373</td>\n",
       "      <td>373</td>\n",
       "      <td>2025-07-21 10:41:08.661979</td>\n",
       "      <td>g808pk</td>\n",
       "      <td>Whack_Math</td>\n",
       "      <td>Green</td>\n",
       "      <td>g808pk</td>\n",
       "      <td>Right</td>\n",
       "      <td>C2 Proficiency English – I can understand with...</td>\n",
       "      <td>Yes</td>\n",
       "      <td>27.0</td>\n",
       "      <td>Female</td>\n",
       "      <td>Yes</td>\n",
       "      <td>No</td>\n",
       "      <td>I can see all colors and hues</td>\n",
       "      <td>Yes</td>\n",
       "      <td>Student</td>\n",
       "      <td>Bachelor</td>\n",
       "      <td>Medium</td>\n",
       "      <td>82.0</td>\n",
       "      <td>177.0</td>\n",
       "      <td>Long (Mid-back or Tailbone Length)</td>\n",
       "      <td>Long (&gt;10mm)</td>\n",
       "      <td>Straight</td>\n",
       "      <td>Medium</td>\n",
       "      <td>No Beard (0mm)</td>\n",
       "      <td>No</td>\n",
       "      <td>Normal</td>\n",
       "      <td>Never, or you’ve never noticed shine</td>\n",
       "      <td>Never</td>\n",
       "      <td>Never, or I never noticed it</td>\n",
       "      <td>No</td>\n",
       "      <td>In the last 12h</td>\n",
       "      <td>In the last 3h</td>\n",
       "      <td>In the last 24h</td>\n",
       "      <td>In the last hour</td>\n",
       "      <td>In the last 24h</td>\n",
       "      <td>5.0</td>\n",
       "      <td>5.0</td>\n",
       "      <td>2.0</td>\n",
       "      <td>2.0</td>\n",
       "      <td>1.0</td>\n",
       "      <td>2.0</td>\n",
       "      <td>3.0</td>\n",
       "      <td>2.0</td>\n",
       "      <td>3.0</td>\n",
       "      <td>4.0</td>\n",
       "      <td>6.0</td>\n",
       "      <td>63.0</td>\n",
       "      <td>6.0</td>\n",
       "      <td>7.0</td>\n",
       "      <td>7.0</td>\n",
       "      <td>4.0</td>\n",
       "      <td>6.0</td>\n",
       "      <td>7.0</td>\n",
       "      <td>5.0</td>\n",
       "      <td>1.0</td>\n",
       "      <td>0.0</td>\n",
       "      <td>4.0</td>\n",
       "      <td>1.0</td>\n",
       "      <td>4.0</td>\n",
       "      <td>2.0</td>\n",
       "      <td>4.0</td>\n",
       "      <td>1.0</td>\n",
       "      <td>5.0</td>\n",
       "      <td>3.0</td>\n",
       "      <td>5.0</td>\n",
       "      <td>1.0</td>\n",
       "      <td>89.0</td>\n",
       "      <td>9.0</td>\n",
       "      <td>35.0</td>\n",
       "      <td>81.0</td>\n",
       "      <td>5.0</td>\n",
       "      <td>4.0</td>\n",
       "      <td>3.0</td>\n",
       "      <td>6.0</td>\n",
       "      <td>;onLoad;Mon Jul 21 2025 13:09:03 GMT+0200 (Mit...</td>\n",
       "      <td>;onLoad;Mon Jul 21 2025 13:09:47 GMT+0200 (Mit...</td>\n",
       "      <td>1</td>\n",
       "      <td>7.0</td>\n",
       "      <td>7.0</td>\n",
       "      <td>7.0</td>\n",
       "      <td>7.0</td>\n",
       "      <td>3.0</td>\n",
       "      <td>94.0</td>\n",
       "      <td>46.0</td>\n",
       "      <td>63.0</td>\n",
       "      <td>21.0</td>\n",
       "      <td>;onLoad;Mon Jul 21 2025 13:24:56 GMT+0200 (Mit...</td>\n",
       "      <td>1</td>\n",
       "      <td>7.0</td>\n",
       "      <td>7.0</td>\n",
       "      <td>4.0</td>\n",
       "      <td>14.0</td>\n",
       "      <td>6.0</td>\n",
       "      <td>96.0</td>\n",
       "      <td>50.0</td>\n",
       "      <td>74.0</td>\n",
       "      <td>21.0</td>\n",
       "      <td>;onLoad;Mon Jul 21 2025 13:26:36 GMT+0200 (Mit...</td>\n",
       "      <td>2</td>\n",
       "      <td>7.0</td>\n",
       "      <td>7.0</td>\n",
       "      <td>7.0</td>\n",
       "      <td>12.0</td>\n",
       "      <td>3.0</td>\n",
       "      <td>95.0</td>\n",
       "      <td>43.0</td>\n",
       "      <td>50.0</td>\n",
       "      <td>21.0</td>\n",
       "      <td>;onLoad;Mon Jul 21 2025 13:28:24 GMT+0200 (Mit...</td>\n",
       "      <td>3</td>\n",
       "      <td>7.0</td>\n",
       "      <td>7.0</td>\n",
       "      <td>5.0</td>\n",
       "      <td>20.0</td>\n",
       "      <td>6.0</td>\n",
       "      <td>97.0</td>\n",
       "      <td>47.0</td>\n",
       "      <td>63.0</td>\n",
       "      <td>27.0</td>\n",
       "      <td>;onLoad;Mon Jul 21 2025 13:30:10 GMT+0200 (Mit...</td>\n",
       "      <td>4</td>\n",
       "      <td>5.0</td>\n",
       "      <td>7.0</td>\n",
       "      <td>7.0</td>\n",
       "      <td>8.0</td>\n",
       "      <td>3.0</td>\n",
       "      <td>96.0</td>\n",
       "      <td>50.0</td>\n",
       "      <td>67.0</td>\n",
       "      <td>21.0</td>\n",
       "      <td>;onLoad;Mon Jul 21 2025 13:32:02 GMT+0200 (Mit...</td>\n",
       "      <td>5</td>\n",
       "      <td>7.0</td>\n",
       "      <td>7.0</td>\n",
       "      <td>7.0</td>\n",
       "      <td>12.0</td>\n",
       "      <td>4.0</td>\n",
       "      <td>97.0</td>\n",
       "      <td>50.0</td>\n",
       "      <td>60.0</td>\n",
       "      <td>12.0</td>\n",
       "      <td>;onLoad;Mon Jul 21 2025 13:33:50 GMT+0200 (Mit...</td>\n",
       "      <td>6</td>\n",
       "      <td>7</td>\n",
       "      <td>0.0</td>\n",
       "      <td>96.0</td>\n",
       "      <td>43.0</td>\n",
       "      <td>50.0</td>\n",
       "      <td>23.0</td>\n",
       "      <td>4.0</td>\n",
       "      <td>5.0</td>\n",
       "      <td>4.0</td>\n",
       "      <td>4.0</td>\n",
       "      <td>3.0</td>\n",
       "      <td>;onLoad;Mon Jul 21 2025 13:35:26 GMT+0200 (Mit...</td>\n",
       "      <td>;onLoad;Mon Jul 21 2025 13:36:02 GMT+0200 (Mit...</td>\n",
       "      <td>8</td>\n",
       "      <td>6.0</td>\n",
       "      <td>7.0</td>\n",
       "      <td>7.0</td>\n",
       "      <td>0.0</td>\n",
       "      <td>1.0</td>\n",
       "      <td>88.0</td>\n",
       "      <td>17.0</td>\n",
       "      <td>32.0</td>\n",
       "      <td>36.0</td>\n",
       "      <td>;taskStart;Mon Jul 21 2025 13:11:44 GMT+0200 (...</td>\n",
       "      <td>1</td>\n",
       "      <td>7.0</td>\n",
       "      <td>7.0</td>\n",
       "      <td>5.0</td>\n",
       "      <td>0.0</td>\n",
       "      <td>3.0</td>\n",
       "      <td>91.0</td>\n",
       "      <td>22.0</td>\n",
       "      <td>39.0</td>\n",
       "      <td>50.0</td>\n",
       "      <td>;taskStart;Mon Jul 21 2025 13:13:49 GMT+0200 (...</td>\n",
       "      <td>2</td>\n",
       "      <td>7.0</td>\n",
       "      <td>7.0</td>\n",
       "      <td>7.0</td>\n",
       "      <td>0.0</td>\n",
       "      <td>1.0</td>\n",
       "      <td>92.0</td>\n",
       "      <td>40.0</td>\n",
       "      <td>46.0</td>\n",
       "      <td>50.0</td>\n",
       "      <td>;taskStart;Mon Jul 21 2025 13:15:29 GMT+0200 (...</td>\n",
       "      <td>3</td>\n",
       "      <td>7.0</td>\n",
       "      <td>7.0</td>\n",
       "      <td>6.0</td>\n",
       "      <td>0.0</td>\n",
       "      <td>2.0</td>\n",
       "      <td>95.0</td>\n",
       "      <td>38.0</td>\n",
       "      <td>45.0</td>\n",
       "      <td>50.0</td>\n",
       "      <td>;taskStart;Mon Jul 21 2025 13:17:12 GMT+0200 (...</td>\n",
       "      <td>4</td>\n",
       "      <td>7.0</td>\n",
       "      <td>7.0</td>\n",
       "      <td>7.0</td>\n",
       "      <td>0.0</td>\n",
       "      <td>1.0</td>\n",
       "      <td>96.0</td>\n",
       "      <td>31.0</td>\n",
       "      <td>65.0</td>\n",
       "      <td>21.0</td>\n",
       "      <td>;taskStart;Mon Jul 21 2025 13:19:01 GMT+0200 (...</td>\n",
       "      <td>5</td>\n",
       "      <td>5.0</td>\n",
       "      <td>7.0</td>\n",
       "      <td>6.0</td>\n",
       "      <td>0.0</td>\n",
       "      <td>2.0</td>\n",
       "      <td>94.0</td>\n",
       "      <td>32.0</td>\n",
       "      <td>71.0</td>\n",
       "      <td>20.0</td>\n",
       "      <td>;taskStart;Mon Jul 21 2025 13:20:58 GMT+0200 (...</td>\n",
       "      <td>6</td>\n",
       "      <td>7</td>\n",
       "      <td>0.0</td>\n",
       "      <td>96.0</td>\n",
       "      <td>21.0</td>\n",
       "      <td>45.0</td>\n",
       "      <td>22.0</td>\n",
       "      <td>4.0</td>\n",
       "      <td>5.0</td>\n",
       "      <td>4.0</td>\n",
       "      <td>4.0</td>\n",
       "      <td>5.0</td>\n",
       "      <td>;onLoad;Mon Jul 21 2025 13:22:34 GMT+0200 (Mit...</td>\n",
       "      <td>;onLoad;Mon Jul 21 2025 13:23:15 GMT+0200 (Mit...</td>\n",
       "      <td>8</td>\n",
       "      <td>NaN</td>\n",
       "      <td>1</td>\n",
       "      <td>1</td>\n",
       "      <td>7.0</td>\n",
       "      <td>7.0</td>\n",
       "      <td>7.0</td>\n",
       "      <td>3.0</td>\n",
       "      <td>3.0</td>\n",
       "      <td>7.0</td>\n",
       "      <td>3.0</td>\n",
       "      <td>1.0</td>\n",
       "      <td>0.0</td>\n",
       "      <td>3.0</td>\n",
       "      <td>2.0</td>\n",
       "      <td>3.0</td>\n",
       "      <td>3.0</td>\n",
       "      <td>3.0</td>\n",
       "      <td>1.0</td>\n",
       "      <td>5.0</td>\n",
       "      <td>3.0</td>\n",
       "      <td>3.0</td>\n",
       "      <td>4.0</td>\n",
       "      <td>97.0</td>\n",
       "      <td>31.0</td>\n",
       "      <td>51.0</td>\n",
       "      <td>20.0</td>\n",
       "      <td>4.0</td>\n",
       "      <td>5.0</td>\n",
       "      <td>4.0</td>\n",
       "      <td>4.0</td>\n",
       "      <td>;onLoad;Mon Jul 21 2025 13:52:42 GMT+0200 (Mit...</td>\n",
       "      <td>;onLoad;Mon Jul 21 2025 13:53:20 GMT+0200 (Mit...</td>\n",
       "      <td>smoke</td>\n",
       "      <td>1</td>\n",
       "      <td>7.0</td>\n",
       "      <td>7.0</td>\n",
       "      <td>7.0</td>\n",
       "      <td>7.0</td>\n",
       "      <td>3.0</td>\n",
       "      <td>95.0</td>\n",
       "      <td>30.0</td>\n",
       "      <td>50.0</td>\n",
       "      <td>14.0</td>\n",
       "      <td>;onLoad;Mon Jul 21 2025 14:06:27 GMT+0200 (Mit...</td>\n",
       "      <td>1</td>\n",
       "      <td>7.0</td>\n",
       "      <td>7.0</td>\n",
       "      <td>7.0</td>\n",
       "      <td>10.0</td>\n",
       "      <td>5.0</td>\n",
       "      <td>98.0</td>\n",
       "      <td>16.0</td>\n",
       "      <td>50.0</td>\n",
       "      <td>14.0</td>\n",
       "      <td>;onLoad;Mon Jul 21 2025 14:08:06 GMT+0200 (Mit...</td>\n",
       "      <td>2</td>\n",
       "      <td>7.0</td>\n",
       "      <td>7.0</td>\n",
       "      <td>7.0</td>\n",
       "      <td>5.0</td>\n",
       "      <td>3.0</td>\n",
       "      <td>96.0</td>\n",
       "      <td>32.0</td>\n",
       "      <td>50.0</td>\n",
       "      <td>17.0</td>\n",
       "      <td>;onLoad;Mon Jul 21 2025 14:09:48 GMT+0200 (Mit...</td>\n",
       "      <td>3</td>\n",
       "      <td>7.0</td>\n",
       "      <td>7.0</td>\n",
       "      <td>7.0</td>\n",
       "      <td>9.0</td>\n",
       "      <td>4.0</td>\n",
       "      <td>96.0</td>\n",
       "      <td>24.0</td>\n",
       "      <td>50.0</td>\n",
       "      <td>33.0</td>\n",
       "      <td>;onLoad;Mon Jul 21 2025 14:11:30 GMT+0200 (Mit...</td>\n",
       "      <td>4</td>\n",
       "      <td>7.0</td>\n",
       "      <td>7.0</td>\n",
       "      <td>7.0</td>\n",
       "      <td>5.0</td>\n",
       "      <td>3.0</td>\n",
       "      <td>96.0</td>\n",
       "      <td>22.0</td>\n",
       "      <td>50.0</td>\n",
       "      <td>22.0</td>\n",
       "      <td>;onLoad;Mon Jul 21 2025 14:13:16 GMT+0200 (Mit...</td>\n",
       "      <td>5</td>\n",
       "      <td>7.0</td>\n",
       "      <td>7.0</td>\n",
       "      <td>7.0</td>\n",
       "      <td>8.0</td>\n",
       "      <td>4.0</td>\n",
       "      <td>97.0</td>\n",
       "      <td>35.0</td>\n",
       "      <td>50.0</td>\n",
       "      <td>15.0</td>\n",
       "      <td>;onLoad;Mon Jul 21 2025 14:14:55 GMT+0200 (Mit...</td>\n",
       "      <td>6</td>\n",
       "      <td>7</td>\n",
       "      <td>0.0</td>\n",
       "      <td>96.0</td>\n",
       "      <td>28.0</td>\n",
       "      <td>50.0</td>\n",
       "      <td>15.0</td>\n",
       "      <td>5.0</td>\n",
       "      <td>5.0</td>\n",
       "      <td>2.0</td>\n",
       "      <td>2.0</td>\n",
       "      <td>6.0</td>\n",
       "      <td>;onLoad;Mon Jul 21 2025 14:16:32 GMT+0200 (Mit...</td>\n",
       "      <td>;onLoad;Mon Jul 21 2025 14:17:08 GMT+0200 (Mit...</td>\n",
       "      <td>8</td>\n",
       "      <td>7.0</td>\n",
       "      <td>7.0</td>\n",
       "      <td>7.0</td>\n",
       "      <td>0.0</td>\n",
       "      <td>1.0</td>\n",
       "      <td>97.0</td>\n",
       "      <td>28.0</td>\n",
       "      <td>50.0</td>\n",
       "      <td>18.0</td>\n",
       "      <td>;taskStart;Mon Jul 21 2025 13:54:39 GMT+0200 (...</td>\n",
       "      <td>1</td>\n",
       "      <td>7.0</td>\n",
       "      <td>7.0</td>\n",
       "      <td>7.0</td>\n",
       "      <td>0.0</td>\n",
       "      <td>1.0</td>\n",
       "      <td>98.0</td>\n",
       "      <td>37.0</td>\n",
       "      <td>51.0</td>\n",
       "      <td>19.0</td>\n",
       "      <td>;taskStart;Mon Jul 21 2025 13:56:18 GMT+0200 (...</td>\n",
       "      <td>2</td>\n",
       "      <td>5.0</td>\n",
       "      <td>7.0</td>\n",
       "      <td>7.0</td>\n",
       "      <td>0.0</td>\n",
       "      <td>1.0</td>\n",
       "      <td>96.0</td>\n",
       "      <td>30.0</td>\n",
       "      <td>50.0</td>\n",
       "      <td>15.0</td>\n",
       "      <td>;taskStart;Mon Jul 21 2025 13:57:54 GMT+0200 (...</td>\n",
       "      <td>3</td>\n",
       "      <td>6.0</td>\n",
       "      <td>7.0</td>\n",
       "      <td>7.0</td>\n",
       "      <td>0.0</td>\n",
       "      <td>1.0</td>\n",
       "      <td>96.0</td>\n",
       "      <td>29.0</td>\n",
       "      <td>50.0</td>\n",
       "      <td>12.0</td>\n",
       "      <td>;taskStart;Mon Jul 21 2025 13:59:37 GMT+0200 (...</td>\n",
       "      <td>4</td>\n",
       "      <td>6.0</td>\n",
       "      <td>7.0</td>\n",
       "      <td>7.0</td>\n",
       "      <td>0.0</td>\n",
       "      <td>1.0</td>\n",
       "      <td>98.0</td>\n",
       "      <td>21.0</td>\n",
       "      <td>50.0</td>\n",
       "      <td>11.0</td>\n",
       "      <td>;taskStart;Mon Jul 21 2025 14:01:17 GMT+0200 (...</td>\n",
       "      <td>5</td>\n",
       "      <td>7.0</td>\n",
       "      <td>7.0</td>\n",
       "      <td>7.0</td>\n",
       "      <td>0.0</td>\n",
       "      <td>1.0</td>\n",
       "      <td>97.0</td>\n",
       "      <td>28.0</td>\n",
       "      <td>50.0</td>\n",
       "      <td>16.0</td>\n",
       "      <td>;taskStart;Mon Jul 21 2025 14:02:54 GMT+0200 (...</td>\n",
       "      <td>6</td>\n",
       "      <td>7</td>\n",
       "      <td>0.0</td>\n",
       "      <td>97.0</td>\n",
       "      <td>25.0</td>\n",
       "      <td>50.0</td>\n",
       "      <td>12.0</td>\n",
       "      <td>4.0</td>\n",
       "      <td>5.0</td>\n",
       "      <td>3.0</td>\n",
       "      <td>2.0</td>\n",
       "      <td>6.0</td>\n",
       "      <td>;onLoad;Mon Jul 21 2025 14:04:28 GMT+0200 (Mit...</td>\n",
       "      <td>;onLoad;Mon Jul 21 2025 14:05:07 GMT+0200 (Mit...</td>\n",
       "      <td>8</td>\n",
       "      <td>NaN</td>\n",
       "      <td>1</td>\n",
       "      <td>1</td>\n",
       "      <td>7.0</td>\n",
       "      <td>7.0</td>\n",
       "      <td>7.0</td>\n",
       "      <td>3.0</td>\n",
       "      <td>4.0</td>\n",
       "      <td>7.0</td>\n",
       "      <td>7.0</td>\n",
       "      <td>2.0</td>\n",
       "      <td>0.0</td>\n",
       "      <td>3.0</td>\n",
       "      <td>3.0</td>\n",
       "      <td>3.0</td>\n",
       "      <td>4.0</td>\n",
       "      <td>3.0</td>\n",
       "      <td>2.0</td>\n",
       "      <td>5.0</td>\n",
       "      <td>3.0</td>\n",
       "      <td>3.0</td>\n",
       "      <td>4.0</td>\n",
       "      <td>97.0</td>\n",
       "      <td>48.0</td>\n",
       "      <td>50.0</td>\n",
       "      <td>9.0</td>\n",
       "      <td>5.0</td>\n",
       "      <td>5.0</td>\n",
       "      <td>2.0</td>\n",
       "      <td>2.0</td>\n",
       "      <td>;onLoad;Mon Jul 21 2025 14:32:25 GMT+0200 (Mit...</td>\n",
       "      <td>;onLoad;Mon Jul 21 2025 14:32:57 GMT+0200 (Mit...</td>\n",
       "      <td>drank water</td>\n",
       "      <td>1</td>\n",
       "      <td>7.0</td>\n",
       "      <td>7.0</td>\n",
       "      <td>7.0</td>\n",
       "      <td>7.0</td>\n",
       "      <td>2.0</td>\n",
       "      <td>99.0</td>\n",
       "      <td>50.0</td>\n",
       "      <td>50.0</td>\n",
       "      <td>12.0</td>\n",
       "      <td>;onLoad;Mon Jul 21 2025 14:44:34 GMT+0200 (Mit...</td>\n",
       "      <td>1</td>\n",
       "      <td>3.0</td>\n",
       "      <td>7.0</td>\n",
       "      <td>5.0</td>\n",
       "      <td>14.0</td>\n",
       "      <td>6.0</td>\n",
       "      <td>98.0</td>\n",
       "      <td>50.0</td>\n",
       "      <td>50.0</td>\n",
       "      <td>20.0</td>\n",
       "      <td>;onLoad;Mon Jul 21 2025 14:46:16 GMT+0200 (Mit...</td>\n",
       "      <td>2</td>\n",
       "      <td>7.0</td>\n",
       "      <td>7.0</td>\n",
       "      <td>7.0</td>\n",
       "      <td>7.0</td>\n",
       "      <td>3.0</td>\n",
       "      <td>98.0</td>\n",
       "      <td>50.0</td>\n",
       "      <td>50.0</td>\n",
       "      <td>9.0</td>\n",
       "      <td>;onLoad;Mon Jul 21 2025 14:47:53 GMT+0200 (Mit...</td>\n",
       "      <td>3</td>\n",
       "      <td>7.0</td>\n",
       "      <td>7.0</td>\n",
       "      <td>7.0</td>\n",
       "      <td>11.0</td>\n",
       "      <td>5.0</td>\n",
       "      <td>98.0</td>\n",
       "      <td>50.0</td>\n",
       "      <td>50.0</td>\n",
       "      <td>11.0</td>\n",
       "      <td>;onLoad;Mon Jul 21 2025 14:49:21 GMT+0200 (Mit...</td>\n",
       "      <td>4</td>\n",
       "      <td>7.0</td>\n",
       "      <td>7.0</td>\n",
       "      <td>7.0</td>\n",
       "      <td>6.0</td>\n",
       "      <td>3.0</td>\n",
       "      <td>98.0</td>\n",
       "      <td>50.0</td>\n",
       "      <td>50.0</td>\n",
       "      <td>7.0</td>\n",
       "      <td>;onLoad;Mon Jul 21 2025 14:50:48 GMT+0200 (Mit...</td>\n",
       "      <td>5</td>\n",
       "      <td>7.0</td>\n",
       "      <td>7.0</td>\n",
       "      <td>7.0</td>\n",
       "      <td>11.0</td>\n",
       "      <td>5.0</td>\n",
       "      <td>97.0</td>\n",
       "      <td>50.0</td>\n",
       "      <td>50.0</td>\n",
       "      <td>5.0</td>\n",
       "      <td>;onLoad;Mon Jul 21 2025 14:52:21 GMT+0200 (Mit...</td>\n",
       "      <td>6</td>\n",
       "      <td>7</td>\n",
       "      <td>0.0</td>\n",
       "      <td>97.0</td>\n",
       "      <td>50.0</td>\n",
       "      <td>50.0</td>\n",
       "      <td>5.0</td>\n",
       "      <td>5.0</td>\n",
       "      <td>5.0</td>\n",
       "      <td>2.0</td>\n",
       "      <td>3.0</td>\n",
       "      <td>7.0</td>\n",
       "      <td>;onLoad;Mon Jul 21 2025 14:53:48 GMT+0200 (Mit...</td>\n",
       "      <td>;onLoad;Mon Jul 21 2025 14:54:22 GMT+0200 (Mit...</td>\n",
       "      <td>8</td>\n",
       "      <td>7.0</td>\n",
       "      <td>7.0</td>\n",
       "      <td>7.0</td>\n",
       "      <td>0.0</td>\n",
       "      <td>1.0</td>\n",
       "      <td>96.0</td>\n",
       "      <td>48.0</td>\n",
       "      <td>50.0</td>\n",
       "      <td>12.0</td>\n",
       "      <td>;taskStart;Mon Jul 21 2025 14:33:49 GMT+0200 (...</td>\n",
       "      <td>1</td>\n",
       "      <td>7.0</td>\n",
       "      <td>7.0</td>\n",
       "      <td>7.0</td>\n",
       "      <td>0.0</td>\n",
       "      <td>1.0</td>\n",
       "      <td>94.0</td>\n",
       "      <td>50.0</td>\n",
       "      <td>50.0</td>\n",
       "      <td>6.0</td>\n",
       "      <td>;taskStart;Mon Jul 21 2025 14:35:20 GMT+0200 (...</td>\n",
       "      <td>2</td>\n",
       "      <td>7.0</td>\n",
       "      <td>7.0</td>\n",
       "      <td>7.0</td>\n",
       "      <td>0.0</td>\n",
       "      <td>1.0</td>\n",
       "      <td>96.0</td>\n",
       "      <td>50.0</td>\n",
       "      <td>50.0</td>\n",
       "      <td>7.0</td>\n",
       "      <td>;taskStart;Mon Jul 21 2025 14:36:48 GMT+0200 (...</td>\n",
       "      <td>3</td>\n",
       "      <td>5.0</td>\n",
       "      <td>7.0</td>\n",
       "      <td>7.0</td>\n",
       "      <td>0.0</td>\n",
       "      <td>1.0</td>\n",
       "      <td>95.0</td>\n",
       "      <td>50.0</td>\n",
       "      <td>50.0</td>\n",
       "      <td>23.0</td>\n",
       "      <td>;taskStart;Mon Jul 21 2025 14:38:15 GMT+0200 (...</td>\n",
       "      <td>4</td>\n",
       "      <td>5.0</td>\n",
       "      <td>7.0</td>\n",
       "      <td>7.0</td>\n",
       "      <td>0.0</td>\n",
       "      <td>1.0</td>\n",
       "      <td>97.0</td>\n",
       "      <td>50.0</td>\n",
       "      <td>50.0</td>\n",
       "      <td>12.0</td>\n",
       "      <td>;taskStart;Mon Jul 21 2025 14:39:45 GMT+0200 (...</td>\n",
       "      <td>5</td>\n",
       "      <td>6.0</td>\n",
       "      <td>7.0</td>\n",
       "      <td>7.0</td>\n",
       "      <td>0.0</td>\n",
       "      <td>1.0</td>\n",
       "      <td>99.0</td>\n",
       "      <td>50.0</td>\n",
       "      <td>50.0</td>\n",
       "      <td>9.0</td>\n",
       "      <td>;taskStart;Mon Jul 21 2025 14:41:18 GMT+0200 (...</td>\n",
       "      <td>6</td>\n",
       "      <td>7</td>\n",
       "      <td>0.0</td>\n",
       "      <td>98.0</td>\n",
       "      <td>50.0</td>\n",
       "      <td>50.0</td>\n",
       "      <td>7.0</td>\n",
       "      <td>5.0</td>\n",
       "      <td>5.0</td>\n",
       "      <td>2.0</td>\n",
       "      <td>2.0</td>\n",
       "      <td>6.0</td>\n",
       "      <td>;onLoad;Mon Jul 21 2025 14:42:48 GMT+0200 (Mit...</td>\n",
       "      <td>;onLoad;Mon Jul 21 2025 14:43:22 GMT+0200 (Mit...</td>\n",
       "      <td>8</td>\n",
       "      <td>NaN</td>\n",
       "      <td>1</td>\n",
       "      <td>3.0</td>\n",
       "      <td>5.0</td>\n",
       "      <td>3.0</td>\n",
       "      <td>5.0</td>\n",
       "      <td>1</td>\n",
       "    </tr>\n",
       "  </tbody>\n",
       "</table>\n",
       "</div>"
      ],
      "text/plain": [
       "  participant.code  participant._index_in_pages  participant._max_page_index  \\\n",
       "0         c84uz72q                          373                          373   \n",
       "1         c6b9o7pz                          373                          373   \n",
       "2         go2kbs0y                          373                          373   \n",
       "\n",
       "  participant.time_started_utc participant.token session.config.name  \\\n",
       "0   2025-07-17 06:07:04.105845            anejys          Math_Whack   \n",
       "1   2025-07-17 06:07:36.639569            az2bj9          Math_Whack   \n",
       "2   2025-07-21 10:41:08.661979            g808pk          Whack_Math   \n",
       "\n",
       "  setup.1.player.headset_color setup.1.player.token  \\\n",
       "0                        Green               anejys   \n",
       "1                        White               az2bj9   \n",
       "2                        Green               g808pk   \n",
       "\n",
       "  introduction.1.player.handedness  \\\n",
       "0                            Right   \n",
       "1                            Right   \n",
       "2                            Right   \n",
       "\n",
       "                       introduction.1.player.english  \\\n",
       "0  C2 Proficiency English – I can understand with...   \n",
       "1  C2 Proficiency English – I can understand with...   \n",
       "2  C2 Proficiency English – I can understand with...   \n",
       "\n",
       "  introduction.1.player.multilingual  introduction.1.player.age  \\\n",
       "0                                Yes                       34.0   \n",
       "1                                Yes                       29.0   \n",
       "2                                Yes                       27.0   \n",
       "\n",
       "  introduction.1.player.gender introduction.1.player.glasses  \\\n",
       "0                         Male                            No   \n",
       "1                         Male                            No   \n",
       "2                       Female                           Yes   \n",
       "\n",
       "  introduction.1.player.eye_sight introduction.1.player.color_sight  \\\n",
       "0                             Yes     I can see all colors and hues   \n",
       "1                             Yes     I can see all colors and hues   \n",
       "2                              No     I can see all colors and hues   \n",
       "\n",
       "  introduction.1.player.hearing introduction.1.player.occupation  \\\n",
       "0                           Yes                          Student   \n",
       "1                           Yes                          Student   \n",
       "2                           Yes                          Student   \n",
       "\n",
       "  introduction.1.player.education_level introduction.1.player.headsize  \\\n",
       "0                                Master                         Medium   \n",
       "1                              Bachelor                         Medium   \n",
       "2                              Bachelor                         Medium   \n",
       "\n",
       "   introduction.1.player.weight  introduction.1.player.height  \\\n",
       "0                          62.0                         169.0   \n",
       "1                          79.0                         176.0   \n",
       "2                          82.0                         177.0   \n",
       "\n",
       "  introduction.1.player.hair_style_top introduction.1.player.hair_style_ears  \\\n",
       "0             (Almost) No Hair (0-1cm)                          Long (>10mm)   \n",
       "1                  Very Short (1-10cm)                       Medium (5-10mm)   \n",
       "2   Long (Mid-back or Tailbone Length)                          Long (>10mm)   \n",
       "\n",
       "  introduction.1.player.hair_type introduction.1.player.hair_density  \\\n",
       "0                        Straight                             Medium   \n",
       "1                        Straight            High (Dense/Thick Hair)   \n",
       "2                        Straight                             Medium   \n",
       "\n",
       "  introduction.1.player.beard_style introduction.1.player.hair_products  \\\n",
       "0                    No Beard (0mm)                                  No   \n",
       "1             Light Stubble (0-5mm)                                  No   \n",
       "2                    No Beard (0mm)                                  No   \n",
       "\n",
       "  introduction.1.player.skin_oily_dry_1 introduction.1.player.skin_oily_dry_2  \\\n",
       "0                                Normal                             Sometimes   \n",
       "1                                Normal                             Sometimes   \n",
       "2                                Normal  Never, or you’ve never noticed shine   \n",
       "\n",
       "  introduction.1.player.skin_resistant_sensitive_1  \\\n",
       "0                                            Often   \n",
       "1                 I don’t wear products on my face   \n",
       "2                                            Never   \n",
       "\n",
       "  introduction.1.player.skin_resistant_sensitive_2  \\\n",
       "0                     Never, or I never noticed it   \n",
       "1                     Never, or I never noticed it   \n",
       "2                     Never, or I never noticed it   \n",
       "\n",
       "  introduction.1.player.skin_products introduction.1.player.time_since_meal  \\\n",
       "0                                  No                       In the last 12h   \n",
       "1                                  No                       In the last 12h   \n",
       "2                                  No                       In the last 12h   \n",
       "\n",
       "  introduction.1.player.time_since_hydration  \\\n",
       "0                           In the last hour   \n",
       "1                            In the last 12h   \n",
       "2                             In the last 3h   \n",
       "\n",
       "  introduction.1.player.time_since_caffeine  \\\n",
       "0                     More than 24h / Never   \n",
       "1                           In the last 24h   \n",
       "2                           In the last 24h   \n",
       "\n",
       "  introduction.1.player.time_since_nicotine  \\\n",
       "0                     More than 24h / Never   \n",
       "1                     More than 24h / Never   \n",
       "2                          In the last hour   \n",
       "\n",
       "  introduction.1.player.time_since_alcohol  \\\n",
       "0                          In the last 12h   \n",
       "1                    More than 24h / Never   \n",
       "2                          In the last 24h   \n",
       "\n",
       "   introduction.1.player.flow_trait_single  \\\n",
       "0                                      3.0   \n",
       "1                                      4.0   \n",
       "2                                      5.0   \n",
       "\n",
       "   introduction.1.player.flow_trait_sfds1  \\\n",
       "0                                     3.0   \n",
       "1                                     5.0   \n",
       "2                                     5.0   \n",
       "\n",
       "   introduction.1.player.flow_trait_sfds2  \\\n",
       "0                                     4.0   \n",
       "1                                     5.0   \n",
       "2                                     2.0   \n",
       "\n",
       "   introduction.1.player.flow_trait_sfds3  \\\n",
       "0                                     3.0   \n",
       "1                                     5.0   \n",
       "2                                     2.0   \n",
       "\n",
       "   introduction.1.player.flow_trait_sfds4  \\\n",
       "0                                     4.0   \n",
       "1                                     3.0   \n",
       "2                                     1.0   \n",
       "\n",
       "   introduction.1.player.flow_trait_sfds5  \\\n",
       "0                                     5.0   \n",
       "1                                     3.0   \n",
       "2                                     2.0   \n",
       "\n",
       "   introduction.1.player.flow_trait_sfds6  \\\n",
       "0                                     3.0   \n",
       "1                                     3.0   \n",
       "2                                     3.0   \n",
       "\n",
       "   introduction.1.player.flow_trait_sfds7  \\\n",
       "0                                     4.0   \n",
       "1                                     4.0   \n",
       "2                                     2.0   \n",
       "\n",
       "   introduction.1.player.flow_trait_sfds8  \\\n",
       "0                                     6.0   \n",
       "1                                     3.0   \n",
       "2                                     3.0   \n",
       "\n",
       "   introduction.1.player.flow_trait_sfds9  \\\n",
       "0                                     6.0   \n",
       "1                                     3.0   \n",
       "2                                     4.0   \n",
       "\n",
       "   introduction.1.player.flow_trait_sfds10  introduction.1.player.rcsq_sleep  \\\n",
       "0                                      3.0                             100.0   \n",
       "1                                      3.0                              33.0   \n",
       "2                                      6.0                              63.0   \n",
       "\n",
       "   headphones_setup_1.1.player.ux_comfort  \\\n",
       "0                                     4.0   \n",
       "1                                     5.0   \n",
       "2                                     6.0   \n",
       "\n",
       "   headphones_setup_1.1.player.ux_speed  headphones_setup_1.1.player.ux_ease  \\\n",
       "0                                   7.0                                  6.0   \n",
       "1                                   7.0                                  7.0   \n",
       "2                                   7.0                                  7.0   \n",
       "\n",
       "   headphones_setup_1.1.player.ux_look  headphones_setup_1.1.player.wx_public  \\\n",
       "0                                  4.0                                    3.0   \n",
       "1                                  7.0                                    5.0   \n",
       "2                                  4.0                                    6.0   \n",
       "\n",
       "   headphones_setup_1.1.player.wx_private  \\\n",
       "0                                     4.0   \n",
       "1                                     6.0   \n",
       "2                                     7.0   \n",
       "\n",
       "   headphones_setup_1.1.player.wx_conversation  \\\n",
       "0                                          2.0   \n",
       "1                                          7.0   \n",
       "2                                          5.0   \n",
       "\n",
       "   headphones_setup_1.1.player.wx_others  \\\n",
       "0                                    4.0   \n",
       "1                                    3.0   \n",
       "2                                    1.0   \n",
       "\n",
       "   headphones_setup_1.1.player.tlx_single  headphones_setup_1.1.player.sus_01  \\\n",
       "0                                     4.0                                 3.0   \n",
       "1                                     5.0                                 4.0   \n",
       "2                                     0.0                                 4.0   \n",
       "\n",
       "   headphones_setup_1.1.player.sus_02  headphones_setup_1.1.player.sus_03  \\\n",
       "0                                 2.0                                 1.0   \n",
       "1                                 1.0                                 5.0   \n",
       "2                                 1.0                                 4.0   \n",
       "\n",
       "   headphones_setup_1.1.player.sus_04  headphones_setup_1.1.player.sus_05  \\\n",
       "0                                 2.0                                 4.0   \n",
       "1                                 1.0                                 4.0   \n",
       "2                                 2.0                                 4.0   \n",
       "\n",
       "   headphones_setup_1.1.player.sus_06  headphones_setup_1.1.player.sus_07  \\\n",
       "0                                 1.0                                 2.0   \n",
       "1                                 1.0                                 5.0   \n",
       "2                                 1.0                                 5.0   \n",
       "\n",
       "   headphones_setup_1.1.player.sus_08  headphones_setup_1.1.player.sus_09  \\\n",
       "0                                 1.0                                 4.0   \n",
       "1                                 2.0                                 5.0   \n",
       "2                                 3.0                                 5.0   \n",
       "\n",
       "   headphones_setup_1.1.player.sus_10  headphones_setup_1.1.player.mr_mood  \\\n",
       "0                                 1.0                                 83.0   \n",
       "1                                 1.0                                 59.0   \n",
       "2                                 1.0                                 89.0   \n",
       "\n",
       "   headphones_setup_1.1.player.mr_sleepy  \\\n",
       "0                                   88.0   \n",
       "1                                   60.0   \n",
       "2                                    9.0   \n",
       "\n",
       "   headphones_setup_1.1.player.mr_motivy  \\\n",
       "0                                   90.0   \n",
       "1                                   70.0   \n",
       "2                                   35.0   \n",
       "\n",
       "   headphones_setup_1.1.player.mf_single  headphones_setup_1.1.player.mf_01  \\\n",
       "0                                    1.0                                3.0   \n",
       "1                                   50.0                                5.0   \n",
       "2                                   81.0                                5.0   \n",
       "\n",
       "   headphones_setup_1.1.player.mf_02  headphones_setup_1.1.player.mf_03  \\\n",
       "0                                3.0                                3.0   \n",
       "1                                5.0                                3.0   \n",
       "2                                4.0                                3.0   \n",
       "\n",
       "   headphones_setup_1.1.player.mf_04  \\\n",
       "0                                3.0   \n",
       "1                                3.0   \n",
       "2                                6.0   \n",
       "\n",
       "         headphones_setup_1.1.player.rest_actions_eo  \\\n",
       "0  ;onLoad;Thu Jul 17 2025 08:49:43 GMT+0200 (Mit...   \n",
       "1  ;onLoad;Thu Jul 17 2025 09:09:51 GMT+0200 (Mit...   \n",
       "2  ;onLoad;Mon Jul 21 2025 13:09:03 GMT+0200 (Mit...   \n",
       "\n",
       "         headphones_setup_1.1.player.rest_actions_ec  \\\n",
       "0  ;onLoad;Thu Jul 17 2025 08:50:31 GMT+0200 (Mit...   \n",
       "1  ;onLoad;Thu Jul 17 2025 09:10:54 GMT+0200 (Mit...   \n",
       "2  ;onLoad;Mon Jul 21 2025 13:09:47 GMT+0200 (Mit...   \n",
       "\n",
       "   headphones_setup_1.1.subsession.round_number  mathTask_1.1.player.fss06  \\\n",
       "0                                             1                        7.0   \n",
       "1                                             1                        7.0   \n",
       "2                                             1                        7.0   \n",
       "\n",
       "   mathTask_1.1.player.fss08  mathTask_1.1.player.fss09  \\\n",
       "0                        7.0                        5.0   \n",
       "1                        7.0                        7.0   \n",
       "2                        7.0                        7.0   \n",
       "\n",
       "   mathTask_1.1.player.tlx_single  mathTask_1.1.player.difficulty  \\\n",
       "0                            19.0                             5.0   \n",
       "1                            15.0                             2.0   \n",
       "2                             7.0                             3.0   \n",
       "\n",
       "   mathTask_1.1.player.mr_mood  mathTask_1.1.player.mr_sleepy  \\\n",
       "0                         89.0                           90.0   \n",
       "1                         76.0                           78.0   \n",
       "2                         94.0                           46.0   \n",
       "\n",
       "   mathTask_1.1.player.mr_motivy  mathTask_1.1.player.mf_single  \\\n",
       "0                           92.0                           93.0   \n",
       "1                           82.0                           31.0   \n",
       "2                           63.0                           21.0   \n",
       "\n",
       "                    mathTask_1.1.player.math_actions  \\\n",
       "0  ;onLoad;Thu Jul 17 2025 08:52:29 GMT+0200 (Mit...   \n",
       "1  ;onLoad;Thu Jul 17 2025 09:13:15 GMT+0200 (Mit...   \n",
       "2  ;onLoad;Mon Jul 21 2025 13:24:56 GMT+0200 (Mit...   \n",
       "\n",
       "   mathTask_1.1.subsession.round_number  mathTask_1.2.player.fss06  \\\n",
       "0                                     1                        7.0   \n",
       "1                                     1                        7.0   \n",
       "2                                     1                        7.0   \n",
       "\n",
       "   mathTask_1.2.player.fss08  mathTask_1.2.player.fss09  \\\n",
       "0                        2.0                        2.0   \n",
       "1                        7.0                        6.0   \n",
       "2                        7.0                        4.0   \n",
       "\n",
       "   mathTask_1.2.player.tlx_single  mathTask_1.2.player.difficulty  \\\n",
       "0                            21.0                             6.0   \n",
       "1                            16.0                             4.0   \n",
       "2                            14.0                             6.0   \n",
       "\n",
       "   mathTask_1.2.player.mr_mood  mathTask_1.2.player.mr_sleepy  \\\n",
       "0                         90.0                           90.0   \n",
       "1                         81.0                           80.0   \n",
       "2                         96.0                           50.0   \n",
       "\n",
       "   mathTask_1.2.player.mr_motivy  mathTask_1.2.player.mf_single  \\\n",
       "0                           92.0                           23.0   \n",
       "1                           83.0                           41.0   \n",
       "2                           74.0                           21.0   \n",
       "\n",
       "                    mathTask_1.2.player.math_actions  \\\n",
       "0  ;onLoad;Thu Jul 17 2025 08:54:43 GMT+0200 (Mit...   \n",
       "1  ;onLoad;Thu Jul 17 2025 09:15:15 GMT+0200 (Mit...   \n",
       "2  ;onLoad;Mon Jul 21 2025 13:26:36 GMT+0200 (Mit...   \n",
       "\n",
       "   mathTask_1.2.subsession.round_number  mathTask_1.3.player.fss06  \\\n",
       "0                                     2                        7.0   \n",
       "1                                     2                        7.0   \n",
       "2                                     2                        7.0   \n",
       "\n",
       "   mathTask_1.3.player.fss08  mathTask_1.3.player.fss09  \\\n",
       "0                        7.0                        4.0   \n",
       "1                        7.0                        7.0   \n",
       "2                        7.0                        7.0   \n",
       "\n",
       "   mathTask_1.3.player.tlx_single  mathTask_1.3.player.difficulty  \\\n",
       "0                            20.0                             5.0   \n",
       "1                            13.0                             3.0   \n",
       "2                            12.0                             3.0   \n",
       "\n",
       "   mathTask_1.3.player.mr_mood  mathTask_1.3.player.mr_sleepy  \\\n",
       "0                         90.0                           92.0   \n",
       "1                         68.0                           71.0   \n",
       "2                         95.0                           43.0   \n",
       "\n",
       "   mathTask_1.3.player.mr_motivy  mathTask_1.3.player.mf_single  \\\n",
       "0                           91.0                           11.0   \n",
       "1                           72.0                           32.0   \n",
       "2                           50.0                           21.0   \n",
       "\n",
       "                    mathTask_1.3.player.math_actions  \\\n",
       "0  ;onLoad;Thu Jul 17 2025 08:56:35 GMT+0200 (Mit...   \n",
       "1  ;onLoad;Thu Jul 17 2025 09:16:57 GMT+0200 (Mit...   \n",
       "2  ;onLoad;Mon Jul 21 2025 13:28:24 GMT+0200 (Mit...   \n",
       "\n",
       "   mathTask_1.3.subsession.round_number  mathTask_1.4.player.fss06  \\\n",
       "0                                     3                        7.0   \n",
       "1                                     3                        7.0   \n",
       "2                                     3                        7.0   \n",
       "\n",
       "   mathTask_1.4.player.fss08  mathTask_1.4.player.fss09  \\\n",
       "0                        4.0                        4.0   \n",
       "1                        7.0                        7.0   \n",
       "2                        7.0                        5.0   \n",
       "\n",
       "   mathTask_1.4.player.tlx_single  mathTask_1.4.player.difficulty  \\\n",
       "0                            20.0                             5.0   \n",
       "1                            13.0                             3.0   \n",
       "2                            20.0                             6.0   \n",
       "\n",
       "   mathTask_1.4.player.mr_mood  mathTask_1.4.player.mr_sleepy  \\\n",
       "0                         90.0                           90.0   \n",
       "1                         78.0                           80.0   \n",
       "2                         97.0                           47.0   \n",
       "\n",
       "   mathTask_1.4.player.mr_motivy  mathTask_1.4.player.mf_single  \\\n",
       "0                           95.0                            9.0   \n",
       "1                           84.0                           40.0   \n",
       "2                           63.0                           27.0   \n",
       "\n",
       "                    mathTask_1.4.player.math_actions  \\\n",
       "0  ;onLoad;Thu Jul 17 2025 08:58:19 GMT+0200 (Mit...   \n",
       "1  ;onLoad;Thu Jul 17 2025 09:18:29 GMT+0200 (Mit...   \n",
       "2  ;onLoad;Mon Jul 21 2025 13:30:10 GMT+0200 (Mit...   \n",
       "\n",
       "   mathTask_1.4.subsession.round_number  mathTask_1.5.player.fss06  \\\n",
       "0                                     4                        7.0   \n",
       "1                                     4                        7.0   \n",
       "2                                     4                        5.0   \n",
       "\n",
       "   mathTask_1.5.player.fss08  mathTask_1.5.player.fss09  \\\n",
       "0                        7.0                        5.0   \n",
       "1                        7.0                        7.0   \n",
       "2                        7.0                        7.0   \n",
       "\n",
       "   mathTask_1.5.player.tlx_single  mathTask_1.5.player.difficulty  \\\n",
       "0                            21.0                             5.0   \n",
       "1                             9.0                             2.0   \n",
       "2                             8.0                             3.0   \n",
       "\n",
       "   mathTask_1.5.player.mr_mood  mathTask_1.5.player.mr_sleepy  \\\n",
       "0                         89.0                           90.0   \n",
       "1                         79.0                           78.0   \n",
       "2                         96.0                           50.0   \n",
       "\n",
       "   mathTask_1.5.player.mr_motivy  mathTask_1.5.player.mf_single  \\\n",
       "0                           90.0                           26.0   \n",
       "1                           82.0                           24.0   \n",
       "2                           67.0                           21.0   \n",
       "\n",
       "                    mathTask_1.5.player.math_actions  \\\n",
       "0  ;onLoad;Thu Jul 17 2025 09:00:03 GMT+0200 (Mit...   \n",
       "1  ;onLoad;Thu Jul 17 2025 09:19:59 GMT+0200 (Mit...   \n",
       "2  ;onLoad;Mon Jul 21 2025 13:32:02 GMT+0200 (Mit...   \n",
       "\n",
       "   mathTask_1.5.subsession.round_number  mathTask_1.6.player.fss06  \\\n",
       "0                                     5                        7.0   \n",
       "1                                     5                        7.0   \n",
       "2                                     5                        7.0   \n",
       "\n",
       "   mathTask_1.6.player.fss08  mathTask_1.6.player.fss09  \\\n",
       "0                        6.0                        6.0   \n",
       "1                        7.0                        7.0   \n",
       "2                        7.0                        7.0   \n",
       "\n",
       "   mathTask_1.6.player.tlx_single  mathTask_1.6.player.difficulty  \\\n",
       "0                            21.0                             7.0   \n",
       "1                            16.0                             3.0   \n",
       "2                            12.0                             4.0   \n",
       "\n",
       "   mathTask_1.6.player.mr_mood  mathTask_1.6.player.mr_sleepy  \\\n",
       "0                         90.0                           91.0   \n",
       "1                         58.0                           81.0   \n",
       "2                         97.0                           50.0   \n",
       "\n",
       "   mathTask_1.6.player.mr_motivy  mathTask_1.6.player.mf_single  \\\n",
       "0                           92.0                           11.0   \n",
       "1                           83.0                           40.0   \n",
       "2                           60.0                           12.0   \n",
       "\n",
       "                    mathTask_1.6.player.math_actions  \\\n",
       "0  ;onLoad;Thu Jul 17 2025 09:01:43 GMT+0200 (Mit...   \n",
       "1  ;onLoad;Thu Jul 17 2025 09:21:38 GMT+0200 (Mit...   \n",
       "2  ;onLoad;Mon Jul 21 2025 13:33:50 GMT+0200 (Mit...   \n",
       "\n",
       "   mathTask_1.6.subsession.round_number  mathTask_1.7.subsession.round_number  \\\n",
       "0                                     6                                     7   \n",
       "1                                     6                                     7   \n",
       "2                                     6                                     7   \n",
       "\n",
       "   mathTask_1.8.player.tlx_single  mathTask_1.8.player.mr_mood  \\\n",
       "0                             7.0                         88.0   \n",
       "1                             4.0                         72.0   \n",
       "2                             0.0                         96.0   \n",
       "\n",
       "   mathTask_1.8.player.mr_sleepy  mathTask_1.8.player.mr_motivy  \\\n",
       "0                           89.0                           91.0   \n",
       "1                           73.0                           72.0   \n",
       "2                           43.0                           50.0   \n",
       "\n",
       "   mathTask_1.8.player.mf_single  mathTask_1.8.player.mf_01  \\\n",
       "0                           17.0                        3.0   \n",
       "1                           27.0                        7.0   \n",
       "2                           23.0                        4.0   \n",
       "\n",
       "   mathTask_1.8.player.mf_02  mathTask_1.8.player.mf_03  \\\n",
       "0                        6.0                        3.0   \n",
       "1                        7.0                        2.0   \n",
       "2                        5.0                        4.0   \n",
       "\n",
       "   mathTask_1.8.player.mf_04  mathTask_1.8.player.headset_comfort  \\\n",
       "0                        3.0                                  6.0   \n",
       "1                        2.0                                  4.0   \n",
       "2                        4.0                                  3.0   \n",
       "\n",
       "                 mathTask_1.8.player.rest_actions_eo  \\\n",
       "0  ;onLoad;Thu Jul 17 2025 09:03:21 GMT+0200 (Mit...   \n",
       "1  ;onLoad;Thu Jul 17 2025 09:23:12 GMT+0200 (Mit...   \n",
       "2  ;onLoad;Mon Jul 21 2025 13:35:26 GMT+0200 (Mit...   \n",
       "\n",
       "                 mathTask_1.8.player.rest_actions_ec  \\\n",
       "0  ;onLoad;Thu Jul 17 2025 09:03:59 GMT+0200 (Mit...   \n",
       "1  ;onLoad;Thu Jul 17 2025 09:23:55 GMT+0200 (Mit...   \n",
       "2  ;onLoad;Mon Jul 21 2025 13:36:02 GMT+0200 (Mit...   \n",
       "\n",
       "   mathTask_1.8.subsession.round_number  clickTask_1.1.player.fss06  \\\n",
       "0                                     8                         7.0   \n",
       "1                                     8                         7.0   \n",
       "2                                     8                         6.0   \n",
       "\n",
       "   clickTask_1.1.player.fss08  clickTask_1.1.player.fss09  \\\n",
       "0                         7.0                         7.0   \n",
       "1                         7.0                         7.0   \n",
       "2                         7.0                         7.0   \n",
       "\n",
       "   clickTask_1.1.player.tlx_single  clickTask_1.1.player.difficulty  \\\n",
       "0                             20.0                              2.0   \n",
       "1                              8.0                              2.0   \n",
       "2                              0.0                              1.0   \n",
       "\n",
       "   clickTask_1.1.player.mr_mood  clickTask_1.1.player.mr_sleepy  \\\n",
       "0                          87.0                            91.0   \n",
       "1                          78.0                            79.0   \n",
       "2                          88.0                            17.0   \n",
       "\n",
       "   clickTask_1.1.player.mr_motivy  clickTask_1.1.player.mf_single  \\\n",
       "0                            93.0                            10.0   \n",
       "1                            82.0                            25.0   \n",
       "2                            32.0                            36.0   \n",
       "\n",
       "                  clickTask_1.1.player.click_actions  \\\n",
       "0  ;taskStart;Thu Jul 17 2025 09:05:51 GMT+0200 (...   \n",
       "1  ;taskStart;Thu Jul 17 2025 09:25:27 GMT+0200 (...   \n",
       "2  ;taskStart;Mon Jul 21 2025 13:11:44 GMT+0200 (...   \n",
       "\n",
       "   clickTask_1.1.subsession.round_number  clickTask_1.2.player.fss06  \\\n",
       "0                                      1                         7.0   \n",
       "1                                      1                         7.0   \n",
       "2                                      1                         7.0   \n",
       "\n",
       "   clickTask_1.2.player.fss08  clickTask_1.2.player.fss09  \\\n",
       "0                         7.0                         4.0   \n",
       "1                         7.0                         7.0   \n",
       "2                         7.0                         5.0   \n",
       "\n",
       "   clickTask_1.2.player.tlx_single  clickTask_1.2.player.difficulty  \\\n",
       "0                             21.0                              3.0   \n",
       "1                             16.0                              3.0   \n",
       "2                              0.0                              3.0   \n",
       "\n",
       "   clickTask_1.2.player.mr_mood  clickTask_1.2.player.mr_sleepy  \\\n",
       "0                          82.0                            85.0   \n",
       "1                          76.0                            89.0   \n",
       "2                          91.0                            22.0   \n",
       "\n",
       "   clickTask_1.2.player.mr_motivy  clickTask_1.2.player.mf_single  \\\n",
       "0                            88.0                            17.0   \n",
       "1                            82.0                            21.0   \n",
       "2                            39.0                            50.0   \n",
       "\n",
       "                  clickTask_1.2.player.click_actions  \\\n",
       "0  ;taskStart;Thu Jul 17 2025 09:07:36 GMT+0200 (...   \n",
       "1  ;taskStart;Thu Jul 17 2025 09:26:58 GMT+0200 (...   \n",
       "2  ;taskStart;Mon Jul 21 2025 13:13:49 GMT+0200 (...   \n",
       "\n",
       "   clickTask_1.2.subsession.round_number  clickTask_1.3.player.fss06  \\\n",
       "0                                      2                         7.0   \n",
       "1                                      2                         7.0   \n",
       "2                                      2                         7.0   \n",
       "\n",
       "   clickTask_1.3.player.fss08  clickTask_1.3.player.fss09  \\\n",
       "0                         7.0                         7.0   \n",
       "1                         7.0                         7.0   \n",
       "2                         7.0                         7.0   \n",
       "\n",
       "   clickTask_1.3.player.tlx_single  clickTask_1.3.player.difficulty  \\\n",
       "0                             21.0                              3.0   \n",
       "1                              7.0                              2.0   \n",
       "2                              0.0                              1.0   \n",
       "\n",
       "   clickTask_1.3.player.mr_mood  clickTask_1.3.player.mr_sleepy  \\\n",
       "0                          96.0                            95.0   \n",
       "1                          72.0                            77.0   \n",
       "2                          92.0                            40.0   \n",
       "\n",
       "   clickTask_1.3.player.mr_motivy  clickTask_1.3.player.mf_single  \\\n",
       "0                            93.0                            23.0   \n",
       "1                            81.0                            26.0   \n",
       "2                            46.0                            50.0   \n",
       "\n",
       "                  clickTask_1.3.player.click_actions  \\\n",
       "0  ;taskStart;Thu Jul 17 2025 09:09:10 GMT+0200 (...   \n",
       "1  ;taskStart;Thu Jul 17 2025 09:28:29 GMT+0200 (...   \n",
       "2  ;taskStart;Mon Jul 21 2025 13:15:29 GMT+0200 (...   \n",
       "\n",
       "   clickTask_1.3.subsession.round_number  clickTask_1.4.player.fss06  \\\n",
       "0                                      3                         7.0   \n",
       "1                                      3                         7.0   \n",
       "2                                      3                         7.0   \n",
       "\n",
       "   clickTask_1.4.player.fss08  clickTask_1.4.player.fss09  \\\n",
       "0                         7.0                         7.0   \n",
       "1                         7.0                         7.0   \n",
       "2                         7.0                         6.0   \n",
       "\n",
       "   clickTask_1.4.player.tlx_single  clickTask_1.4.player.difficulty  \\\n",
       "0                             18.0                              4.0   \n",
       "1                             15.0                              3.0   \n",
       "2                              0.0                              2.0   \n",
       "\n",
       "   clickTask_1.4.player.mr_mood  clickTask_1.4.player.mr_sleepy  \\\n",
       "0                          87.0                            88.0   \n",
       "1                          82.0                            83.0   \n",
       "2                          95.0                            38.0   \n",
       "\n",
       "   clickTask_1.4.player.mr_motivy  clickTask_1.4.player.mf_single  \\\n",
       "0                            85.0                            13.0   \n",
       "1                            84.0                            19.0   \n",
       "2                            45.0                            50.0   \n",
       "\n",
       "                  clickTask_1.4.player.click_actions  \\\n",
       "0  ;taskStart;Thu Jul 17 2025 09:10:46 GMT+0200 (...   \n",
       "1  ;taskStart;Thu Jul 17 2025 09:29:56 GMT+0200 (...   \n",
       "2  ;taskStart;Mon Jul 21 2025 13:17:12 GMT+0200 (...   \n",
       "\n",
       "   clickTask_1.4.subsession.round_number  clickTask_1.5.player.fss06  \\\n",
       "0                                      4                         7.0   \n",
       "1                                      4                         7.0   \n",
       "2                                      4                         7.0   \n",
       "\n",
       "   clickTask_1.5.player.fss08  clickTask_1.5.player.fss09  \\\n",
       "0                         7.0                         7.0   \n",
       "1                         7.0                         7.0   \n",
       "2                         7.0                         7.0   \n",
       "\n",
       "   clickTask_1.5.player.tlx_single  clickTask_1.5.player.difficulty  \\\n",
       "0                             18.0                              4.0   \n",
       "1                              8.0                              2.0   \n",
       "2                              0.0                              1.0   \n",
       "\n",
       "   clickTask_1.5.player.mr_mood  clickTask_1.5.player.mr_sleepy  \\\n",
       "0                          72.0                            72.0   \n",
       "1                          80.0                            82.0   \n",
       "2                          96.0                            31.0   \n",
       "\n",
       "   clickTask_1.5.player.mr_motivy  clickTask_1.5.player.mf_single  \\\n",
       "0                            76.0                            27.0   \n",
       "1                            82.0                            18.0   \n",
       "2                            65.0                            21.0   \n",
       "\n",
       "                  clickTask_1.5.player.click_actions  \\\n",
       "0  ;taskStart;Thu Jul 17 2025 09:12:21 GMT+0200 (...   \n",
       "1  ;taskStart;Thu Jul 17 2025 09:31:29 GMT+0200 (...   \n",
       "2  ;taskStart;Mon Jul 21 2025 13:19:01 GMT+0200 (...   \n",
       "\n",
       "   clickTask_1.5.subsession.round_number  clickTask_1.6.player.fss06  \\\n",
       "0                                      5                         7.0   \n",
       "1                                      5                         7.0   \n",
       "2                                      5                         5.0   \n",
       "\n",
       "   clickTask_1.6.player.fss08  clickTask_1.6.player.fss09  \\\n",
       "0                         6.0                         6.0   \n",
       "1                         7.0                         7.0   \n",
       "2                         7.0                         6.0   \n",
       "\n",
       "   clickTask_1.6.player.tlx_single  clickTask_1.6.player.difficulty  \\\n",
       "0                             19.0                              5.0   \n",
       "1                             15.0                              2.0   \n",
       "2                              0.0                              2.0   \n",
       "\n",
       "   clickTask_1.6.player.mr_mood  clickTask_1.6.player.mr_sleepy  \\\n",
       "0                          88.0                            89.0   \n",
       "1                          77.0                            83.0   \n",
       "2                          94.0                            32.0   \n",
       "\n",
       "   clickTask_1.6.player.mr_motivy  clickTask_1.6.player.mf_single  \\\n",
       "0                            90.0                            25.0   \n",
       "1                            84.0                            30.0   \n",
       "2                            71.0                            20.0   \n",
       "\n",
       "                  clickTask_1.6.player.click_actions  \\\n",
       "0  ;taskStart;Thu Jul 17 2025 09:13:57 GMT+0200 (...   \n",
       "1  ;taskStart;Thu Jul 17 2025 09:33:02 GMT+0200 (...   \n",
       "2  ;taskStart;Mon Jul 21 2025 13:20:58 GMT+0200 (...   \n",
       "\n",
       "   clickTask_1.6.subsession.round_number  \\\n",
       "0                                      6   \n",
       "1                                      6   \n",
       "2                                      6   \n",
       "\n",
       "   clickTask_1.7.subsession.round_number  clickTask_1.8.player.tlx_single  \\\n",
       "0                                      7                              8.0   \n",
       "1                                      7                              2.0   \n",
       "2                                      7                              0.0   \n",
       "\n",
       "   clickTask_1.8.player.mr_mood  clickTask_1.8.player.mr_sleepy  \\\n",
       "0                          87.0                            88.0   \n",
       "1                          77.0                            79.0   \n",
       "2                          96.0                            21.0   \n",
       "\n",
       "   clickTask_1.8.player.mr_motivy  clickTask_1.8.player.mf_single  \\\n",
       "0                            90.0                            31.0   \n",
       "1                            79.0                            19.0   \n",
       "2                            45.0                            22.0   \n",
       "\n",
       "   clickTask_1.8.player.mf_01  clickTask_1.8.player.mf_02  \\\n",
       "0                         4.0                         6.0   \n",
       "1                         7.0                         7.0   \n",
       "2                         4.0                         5.0   \n",
       "\n",
       "   clickTask_1.8.player.mf_03  clickTask_1.8.player.mf_04  \\\n",
       "0                         5.0                         5.0   \n",
       "1                         1.0                         2.0   \n",
       "2                         4.0                         4.0   \n",
       "\n",
       "   clickTask_1.8.player.headset_comfort  \\\n",
       "0                                   6.0   \n",
       "1                                   4.0   \n",
       "2                                   5.0   \n",
       "\n",
       "                clickTask_1.8.player.rest_actions_eo  \\\n",
       "0  ;onLoad;Thu Jul 17 2025 09:15:39 GMT+0200 (Mit...   \n",
       "1  ;onLoad;Thu Jul 17 2025 09:34:33 GMT+0200 (Mit...   \n",
       "2  ;onLoad;Mon Jul 21 2025 13:22:34 GMT+0200 (Mit...   \n",
       "\n",
       "                clickTask_1.8.player.rest_actions_ec  \\\n",
       "0  ;onLoad;Thu Jul 17 2025 09:16:20 GMT+0200 (Mit...   \n",
       "1  ;onLoad;Thu Jul 17 2025 09:35:09 GMT+0200 (Mit...   \n",
       "2  ;onLoad;Mon Jul 21 2025 13:23:15 GMT+0200 (Mit...   \n",
       "\n",
       "   clickTask_1.8.subsession.round_number  \\\n",
       "0                                      8   \n",
       "1                                      8   \n",
       "2                                      8   \n",
       "\n",
       "               headphones_finish_1.1.player.feedback  \\\n",
       "0  Fun Experiment to do maths equation but lot of...   \n",
       "1                                                NaN   \n",
       "2                                                NaN   \n",
       "\n",
       "   headphones_finish_1.1.subsession.round_number  \\\n",
       "0                                              1   \n",
       "1                                              1   \n",
       "2                                              1   \n",
       "\n",
       "   debriefing_1.1.subsession.round_number  \\\n",
       "0                                       1   \n",
       "1                                       1   \n",
       "2                                       1   \n",
       "\n",
       "   headphones_setup_2.1.player.ux_comfort  \\\n",
       "0                                     7.0   \n",
       "1                                     4.0   \n",
       "2                                     7.0   \n",
       "\n",
       "   headphones_setup_2.1.player.ux_speed  headphones_setup_2.1.player.ux_ease  \\\n",
       "0                                   7.0                                  7.0   \n",
       "1                                   6.0                                  6.0   \n",
       "2                                   7.0                                  7.0   \n",
       "\n",
       "   headphones_setup_2.1.player.ux_look  headphones_setup_2.1.player.wx_public  \\\n",
       "0                                  5.0                                    5.0   \n",
       "1                                  3.0                                    4.0   \n",
       "2                                  3.0                                    3.0   \n",
       "\n",
       "   headphones_setup_2.1.player.wx_private  \\\n",
       "0                                     5.0   \n",
       "1                                     6.0   \n",
       "2                                     7.0   \n",
       "\n",
       "   headphones_setup_2.1.player.wx_conversation  \\\n",
       "0                                          3.0   \n",
       "1                                          6.0   \n",
       "2                                          3.0   \n",
       "\n",
       "   headphones_setup_2.1.player.wx_others  \\\n",
       "0                                    4.0   \n",
       "1                                    4.0   \n",
       "2                                    1.0   \n",
       "\n",
       "   headphones_setup_2.1.player.tlx_single  headphones_setup_2.1.player.sus_01  \\\n",
       "0                                     9.0                                 2.0   \n",
       "1                                     1.0                                 3.0   \n",
       "2                                     0.0                                 3.0   \n",
       "\n",
       "   headphones_setup_2.1.player.sus_02  headphones_setup_2.1.player.sus_03  \\\n",
       "0                                 2.0                                 4.0   \n",
       "1                                 1.0                                 5.0   \n",
       "2                                 2.0                                 3.0   \n",
       "\n",
       "   headphones_setup_2.1.player.sus_04  headphones_setup_2.1.player.sus_05  \\\n",
       "0                                 2.0                                 4.0   \n",
       "1                                 1.0                                 5.0   \n",
       "2                                 3.0                                 3.0   \n",
       "\n",
       "   headphones_setup_2.1.player.sus_06  headphones_setup_2.1.player.sus_07  \\\n",
       "0                                 1.0                                 4.0   \n",
       "1                                 1.0                                 5.0   \n",
       "2                                 1.0                                 5.0   \n",
       "\n",
       "   headphones_setup_2.1.player.sus_08  headphones_setup_2.1.player.sus_09  \\\n",
       "0                                 2.0                                 4.0   \n",
       "1                                 1.0                                 5.0   \n",
       "2                                 3.0                                 3.0   \n",
       "\n",
       "   headphones_setup_2.1.player.sus_10  headphones_setup_2.1.player.mr_mood  \\\n",
       "0                                 2.0                                 85.0   \n",
       "1                                 1.0                                 73.0   \n",
       "2                                 4.0                                 97.0   \n",
       "\n",
       "   headphones_setup_2.1.player.mr_sleepy  \\\n",
       "0                                   87.0   \n",
       "1                                   63.0   \n",
       "2                                   31.0   \n",
       "\n",
       "   headphones_setup_2.1.player.mr_motivy  \\\n",
       "0                                   88.0   \n",
       "1                                   79.0   \n",
       "2                                   51.0   \n",
       "\n",
       "   headphones_setup_2.1.player.mf_single  headphones_setup_2.1.player.mf_01  \\\n",
       "0                                   10.0                                5.0   \n",
       "1                                   78.0                                7.0   \n",
       "2                                   20.0                                4.0   \n",
       "\n",
       "   headphones_setup_2.1.player.mf_02  headphones_setup_2.1.player.mf_03  \\\n",
       "0                                4.0                                4.0   \n",
       "1                                7.0                                1.0   \n",
       "2                                5.0                                4.0   \n",
       "\n",
       "   headphones_setup_2.1.player.mf_04  \\\n",
       "0                                3.0   \n",
       "1                                2.0   \n",
       "2                                4.0   \n",
       "\n",
       "         headphones_setup_2.1.player.rest_actions_eo  \\\n",
       "0  ;onLoad;Thu Jul 17 2025 09:30:33 GMT+0200 (Mit...   \n",
       "1  ;onLoad;Thu Jul 17 2025 09:49:55 GMT+0200 (Mit...   \n",
       "2  ;onLoad;Mon Jul 21 2025 13:52:42 GMT+0200 (Mit...   \n",
       "\n",
       "         headphones_setup_2.1.player.rest_actions_ec  \\\n",
       "0  ;onLoad;Thu Jul 17 2025 09:31:08 GMT+0200 (Mit...   \n",
       "1  ;onLoad;Thu Jul 17 2025 09:50:30 GMT+0200 (Mit...   \n",
       "2  ;onLoad;Mon Jul 21 2025 13:53:20 GMT+0200 (Mit...   \n",
       "\n",
       "  headphones_setup_2.1.player.break_activity  \\\n",
       "0                      Take the breakfast      \n",
       "1                                    nothing   \n",
       "2                                      smoke   \n",
       "\n",
       "   headphones_setup_2.1.subsession.round_number  mathTask_2.1.player.fss06  \\\n",
       "0                                             1                        6.0   \n",
       "1                                             1                        7.0   \n",
       "2                                             1                        7.0   \n",
       "\n",
       "   mathTask_2.1.player.fss08  mathTask_2.1.player.fss09  \\\n",
       "0                        6.0                        6.0   \n",
       "1                        7.0                        7.0   \n",
       "2                        7.0                        7.0   \n",
       "\n",
       "   mathTask_2.1.player.tlx_single  mathTask_2.1.player.difficulty  \\\n",
       "0                            19.0                             5.0   \n",
       "1                            13.0                             2.0   \n",
       "2                             7.0                             3.0   \n",
       "\n",
       "   mathTask_2.1.player.mr_mood  mathTask_2.1.player.mr_sleepy  \\\n",
       "0                         89.0                           92.0   \n",
       "1                         69.0                           70.0   \n",
       "2                         95.0                           30.0   \n",
       "\n",
       "   mathTask_2.1.player.mr_motivy  mathTask_2.1.player.mf_single  \\\n",
       "0                           93.0                           26.0   \n",
       "1                           72.0                           15.0   \n",
       "2                           50.0                           14.0   \n",
       "\n",
       "                    mathTask_2.1.player.math_actions  \\\n",
       "0  ;onLoad;Thu Jul 17 2025 09:32:38 GMT+0200 (Mit...   \n",
       "1  ;onLoad;Thu Jul 17 2025 09:51:28 GMT+0200 (Mit...   \n",
       "2  ;onLoad;Mon Jul 21 2025 14:06:27 GMT+0200 (Mit...   \n",
       "\n",
       "   mathTask_2.1.subsession.round_number  mathTask_2.2.player.fss06  \\\n",
       "0                                     1                        6.0   \n",
       "1                                     1                        7.0   \n",
       "2                                     1                        7.0   \n",
       "\n",
       "   mathTask_2.2.player.fss08  mathTask_2.2.player.fss09  \\\n",
       "0                        6.0                        6.0   \n",
       "1                        7.0                        7.0   \n",
       "2                        7.0                        7.0   \n",
       "\n",
       "   mathTask_2.2.player.tlx_single  mathTask_2.2.player.difficulty  \\\n",
       "0                            17.0                             6.0   \n",
       "1                            19.0                             5.0   \n",
       "2                            10.0                             5.0   \n",
       "\n",
       "   mathTask_2.2.player.mr_mood  mathTask_2.2.player.mr_sleepy  \\\n",
       "0                         89.0                           86.0   \n",
       "1                         44.0                           82.0   \n",
       "2                         98.0                           16.0   \n",
       "\n",
       "   mathTask_2.2.player.mr_motivy  mathTask_2.2.player.mf_single  \\\n",
       "0                           87.0                           24.0   \n",
       "1                           82.0                           17.0   \n",
       "2                           50.0                           14.0   \n",
       "\n",
       "                    mathTask_2.2.player.math_actions  \\\n",
       "0  ;onLoad;Thu Jul 17 2025 09:36:19 GMT+0200 (Mit...   \n",
       "1  ;onLoad;Thu Jul 17 2025 09:52:59 GMT+0200 (Mit...   \n",
       "2  ;onLoad;Mon Jul 21 2025 14:08:06 GMT+0200 (Mit...   \n",
       "\n",
       "   mathTask_2.2.subsession.round_number  mathTask_2.3.player.fss06  \\\n",
       "0                                     2                        7.0   \n",
       "1                                     2                        7.0   \n",
       "2                                     2                        7.0   \n",
       "\n",
       "   mathTask_2.3.player.fss08  mathTask_2.3.player.fss09  \\\n",
       "0                        7.0                        6.0   \n",
       "1                        7.0                        7.0   \n",
       "2                        7.0                        7.0   \n",
       "\n",
       "   mathTask_2.3.player.tlx_single  mathTask_2.3.player.difficulty  \\\n",
       "0                            19.0                             4.0   \n",
       "1                            18.0                             2.0   \n",
       "2                             5.0                             3.0   \n",
       "\n",
       "   mathTask_2.3.player.mr_mood  mathTask_2.3.player.mr_sleepy  \\\n",
       "0                         80.0                           80.0   \n",
       "1                         81.0                           78.0   \n",
       "2                         96.0                           32.0   \n",
       "\n",
       "   mathTask_2.3.player.mr_motivy  mathTask_2.3.player.mf_single  \\\n",
       "0                           82.0                           34.0   \n",
       "1                           79.0                            9.0   \n",
       "2                           50.0                           17.0   \n",
       "\n",
       "                    mathTask_2.3.player.math_actions  \\\n",
       "0  ;onLoad;Thu Jul 17 2025 09:38:06 GMT+0200 (Mit...   \n",
       "1  ;onLoad;Thu Jul 17 2025 09:54:34 GMT+0200 (Mit...   \n",
       "2  ;onLoad;Mon Jul 21 2025 14:09:48 GMT+0200 (Mit...   \n",
       "\n",
       "   mathTask_2.3.subsession.round_number  mathTask_2.4.player.fss06  \\\n",
       "0                                     3                        7.0   \n",
       "1                                     3                        7.0   \n",
       "2                                     3                        7.0   \n",
       "\n",
       "   mathTask_2.4.player.fss08  mathTask_2.4.player.fss09  \\\n",
       "0                        6.0                        6.0   \n",
       "1                        7.0                        7.0   \n",
       "2                        7.0                        7.0   \n",
       "\n",
       "   mathTask_2.4.player.tlx_single  mathTask_2.4.player.difficulty  \\\n",
       "0                            15.0                             5.0   \n",
       "1                            19.0                             4.0   \n",
       "2                             9.0                             4.0   \n",
       "\n",
       "   mathTask_2.4.player.mr_mood  mathTask_2.4.player.mr_sleepy  \\\n",
       "0                         85.0                           85.0   \n",
       "1                         59.0                           84.0   \n",
       "2                         96.0                           24.0   \n",
       "\n",
       "   mathTask_2.4.player.mr_motivy  mathTask_2.4.player.mf_single  \\\n",
       "0                           88.0                           19.0   \n",
       "1                           87.0                           13.0   \n",
       "2                           50.0                           33.0   \n",
       "\n",
       "                    mathTask_2.4.player.math_actions  \\\n",
       "0  ;onLoad;Thu Jul 17 2025 09:39:45 GMT+0200 (Mit...   \n",
       "1  ;onLoad;Thu Jul 17 2025 09:56:05 GMT+0200 (Mit...   \n",
       "2  ;onLoad;Mon Jul 21 2025 14:11:30 GMT+0200 (Mit...   \n",
       "\n",
       "   mathTask_2.4.subsession.round_number  mathTask_2.5.player.fss06  \\\n",
       "0                                     4                        7.0   \n",
       "1                                     4                        7.0   \n",
       "2                                     4                        7.0   \n",
       "\n",
       "   mathTask_2.5.player.fss08  mathTask_2.5.player.fss09  \\\n",
       "0                        6.0                        6.0   \n",
       "1                        7.0                        7.0   \n",
       "2                        7.0                        7.0   \n",
       "\n",
       "   mathTask_2.5.player.tlx_single  mathTask_2.5.player.difficulty  \\\n",
       "0                            19.0                             3.0   \n",
       "1                             9.0                             3.0   \n",
       "2                             5.0                             3.0   \n",
       "\n",
       "   mathTask_2.5.player.mr_mood  mathTask_2.5.player.mr_sleepy  \\\n",
       "0                         89.0                           90.0   \n",
       "1                         40.0                           80.0   \n",
       "2                         96.0                           22.0   \n",
       "\n",
       "   mathTask_2.5.player.mr_motivy  mathTask_2.5.player.mf_single  \\\n",
       "0                           91.0                           24.0   \n",
       "1                           82.0                           22.0   \n",
       "2                           50.0                           22.0   \n",
       "\n",
       "                    mathTask_2.5.player.math_actions  \\\n",
       "0  ;onLoad;Thu Jul 17 2025 09:41:25 GMT+0200 (Mit...   \n",
       "1  ;onLoad;Thu Jul 17 2025 09:57:34 GMT+0200 (Mit...   \n",
       "2  ;onLoad;Mon Jul 21 2025 14:13:16 GMT+0200 (Mit...   \n",
       "\n",
       "   mathTask_2.5.subsession.round_number  mathTask_2.6.player.fss06  \\\n",
       "0                                     5                        7.0   \n",
       "1                                     5                        7.0   \n",
       "2                                     5                        7.0   \n",
       "\n",
       "   mathTask_2.6.player.fss08  mathTask_2.6.player.fss09  \\\n",
       "0                        4.0                        6.0   \n",
       "1                        7.0                        7.0   \n",
       "2                        7.0                        7.0   \n",
       "\n",
       "   mathTask_2.6.player.tlx_single  mathTask_2.6.player.difficulty  \\\n",
       "0                            20.0                             6.0   \n",
       "1                            15.0                             3.0   \n",
       "2                             8.0                             4.0   \n",
       "\n",
       "   mathTask_2.6.player.mr_mood  mathTask_2.6.player.mr_sleepy  \\\n",
       "0                         89.0                           90.0   \n",
       "1                         77.0                           83.0   \n",
       "2                         97.0                           35.0   \n",
       "\n",
       "   mathTask_2.6.player.mr_motivy  mathTask_2.6.player.mf_single  \\\n",
       "0                           90.0                           14.0   \n",
       "1                           83.0                           14.0   \n",
       "2                           50.0                           15.0   \n",
       "\n",
       "                    mathTask_2.6.player.math_actions  \\\n",
       "0  ;onLoad;Thu Jul 17 2025 09:43:00 GMT+0200 (Mit...   \n",
       "1  ;onLoad;Thu Jul 17 2025 09:59:17 GMT+0200 (Mit...   \n",
       "2  ;onLoad;Mon Jul 21 2025 14:14:55 GMT+0200 (Mit...   \n",
       "\n",
       "   mathTask_2.6.subsession.round_number  mathTask_2.7.subsession.round_number  \\\n",
       "0                                     6                                     7   \n",
       "1                                     6                                     7   \n",
       "2                                     6                                     7   \n",
       "\n",
       "   mathTask_2.8.player.tlx_single  mathTask_2.8.player.mr_mood  \\\n",
       "0                             9.0                         86.0   \n",
       "1                             3.0                         70.0   \n",
       "2                             0.0                         96.0   \n",
       "\n",
       "   mathTask_2.8.player.mr_sleepy  mathTask_2.8.player.mr_motivy  \\\n",
       "0                           88.0                           90.0   \n",
       "1                           75.0                           79.0   \n",
       "2                           28.0                           50.0   \n",
       "\n",
       "   mathTask_2.8.player.mf_single  mathTask_2.8.player.mf_01  \\\n",
       "0                           18.0                        5.0   \n",
       "1                           10.0                        7.0   \n",
       "2                           15.0                        5.0   \n",
       "\n",
       "   mathTask_2.8.player.mf_02  mathTask_2.8.player.mf_03  \\\n",
       "0                        4.0                        4.0   \n",
       "1                        7.0                        1.0   \n",
       "2                        5.0                        2.0   \n",
       "\n",
       "   mathTask_2.8.player.mf_04  mathTask_2.8.player.headset_comfort  \\\n",
       "0                        3.0                                  6.0   \n",
       "1                        2.0                                  4.0   \n",
       "2                        2.0                                  6.0   \n",
       "\n",
       "                 mathTask_2.8.player.rest_actions_eo  \\\n",
       "0  ;onLoad;Thu Jul 17 2025 09:44:38 GMT+0200 (Mit...   \n",
       "1  ;onLoad;Thu Jul 17 2025 10:00:43 GMT+0200 (Mit...   \n",
       "2  ;onLoad;Mon Jul 21 2025 14:16:32 GMT+0200 (Mit...   \n",
       "\n",
       "                 mathTask_2.8.player.rest_actions_ec  \\\n",
       "0  ;onLoad;Thu Jul 17 2025 09:45:11 GMT+0200 (Mit...   \n",
       "1  ;onLoad;Thu Jul 17 2025 10:01:19 GMT+0200 (Mit...   \n",
       "2  ;onLoad;Mon Jul 21 2025 14:17:08 GMT+0200 (Mit...   \n",
       "\n",
       "   mathTask_2.8.subsession.round_number  clickTask_2.1.player.fss06  \\\n",
       "0                                     8                         7.0   \n",
       "1                                     8                         7.0   \n",
       "2                                     8                         7.0   \n",
       "\n",
       "   clickTask_2.1.player.fss08  clickTask_2.1.player.fss09  \\\n",
       "0                         7.0                         7.0   \n",
       "1                         7.0                         7.0   \n",
       "2                         7.0                         7.0   \n",
       "\n",
       "   clickTask_2.1.player.tlx_single  clickTask_2.1.player.difficulty  \\\n",
       "0                              8.0                              3.0   \n",
       "1                              6.0                              2.0   \n",
       "2                              0.0                              1.0   \n",
       "\n",
       "   clickTask_2.1.player.mr_mood  clickTask_2.1.player.mr_sleepy  \\\n",
       "0                          84.0                            83.0   \n",
       "1                          74.0                            79.0   \n",
       "2                          97.0                            28.0   \n",
       "\n",
       "   clickTask_2.1.player.mr_motivy  clickTask_2.1.player.mf_single  \\\n",
       "0                            85.0                            13.0   \n",
       "1                            79.0                            15.0   \n",
       "2                            50.0                            18.0   \n",
       "\n",
       "                  clickTask_2.1.player.click_actions  \\\n",
       "0  ;taskStart;Thu Jul 17 2025 09:46:43 GMT+0200 (...   \n",
       "1  ;taskStart;Thu Jul 17 2025 10:02:11 GMT+0200 (...   \n",
       "2  ;taskStart;Mon Jul 21 2025 13:54:39 GMT+0200 (...   \n",
       "\n",
       "   clickTask_2.1.subsession.round_number  clickTask_2.2.player.fss06  \\\n",
       "0                                      1                         7.0   \n",
       "1                                      1                         7.0   \n",
       "2                                      1                         7.0   \n",
       "\n",
       "   clickTask_2.2.player.fss08  clickTask_2.2.player.fss09  \\\n",
       "0                         7.0                         6.0   \n",
       "1                         7.0                         7.0   \n",
       "2                         7.0                         7.0   \n",
       "\n",
       "   clickTask_2.2.player.tlx_single  clickTask_2.2.player.difficulty  \\\n",
       "0                              9.0                              3.0   \n",
       "1                             17.0                              5.0   \n",
       "2                              0.0                              1.0   \n",
       "\n",
       "   clickTask_2.2.player.mr_mood  clickTask_2.2.player.mr_sleepy  \\\n",
       "0                          96.0                            92.0   \n",
       "1                          80.0                            83.0   \n",
       "2                          98.0                            37.0   \n",
       "\n",
       "   clickTask_2.2.player.mr_motivy  clickTask_2.2.player.mf_single  \\\n",
       "0                            91.0                            25.0   \n",
       "1                            88.0                            12.0   \n",
       "2                            51.0                            19.0   \n",
       "\n",
       "                  clickTask_2.2.player.click_actions  \\\n",
       "0  ;taskStart;Thu Jul 17 2025 09:48:18 GMT+0200 (...   \n",
       "1  ;taskStart;Thu Jul 17 2025 10:03:40 GMT+0200 (...   \n",
       "2  ;taskStart;Mon Jul 21 2025 13:56:18 GMT+0200 (...   \n",
       "\n",
       "   clickTask_2.2.subsession.round_number  clickTask_2.3.player.fss06  \\\n",
       "0                                      2                         7.0   \n",
       "1                                      2                         7.0   \n",
       "2                                      2                         5.0   \n",
       "\n",
       "   clickTask_2.3.player.fss08  clickTask_2.3.player.fss09  \\\n",
       "0                         7.0                         6.0   \n",
       "1                         7.0                         7.0   \n",
       "2                         7.0                         7.0   \n",
       "\n",
       "   clickTask_2.3.player.tlx_single  clickTask_2.3.player.difficulty  \\\n",
       "0                             13.0                              5.0   \n",
       "1                              7.0                              2.0   \n",
       "2                              0.0                              1.0   \n",
       "\n",
       "   clickTask_2.3.player.mr_mood  clickTask_2.3.player.mr_sleepy  \\\n",
       "0                          90.0                            88.0   \n",
       "1                          78.0                            81.0   \n",
       "2                          96.0                            30.0   \n",
       "\n",
       "   clickTask_2.3.player.mr_motivy  clickTask_2.3.player.mf_single  \\\n",
       "0                            85.0                            27.0   \n",
       "1                            81.0                            19.0   \n",
       "2                            50.0                            15.0   \n",
       "\n",
       "                  clickTask_2.3.player.click_actions  \\\n",
       "0  ;taskStart;Thu Jul 17 2025 09:49:52 GMT+0200 (...   \n",
       "1  ;taskStart;Thu Jul 17 2025 10:05:11 GMT+0200 (...   \n",
       "2  ;taskStart;Mon Jul 21 2025 13:57:54 GMT+0200 (...   \n",
       "\n",
       "   clickTask_2.3.subsession.round_number  clickTask_2.4.player.fss06  \\\n",
       "0                                      3                         7.0   \n",
       "1                                      3                         7.0   \n",
       "2                                      3                         6.0   \n",
       "\n",
       "   clickTask_2.4.player.fss08  clickTask_2.4.player.fss09  \\\n",
       "0                         5.0                         6.0   \n",
       "1                         7.0                         7.0   \n",
       "2                         7.0                         7.0   \n",
       "\n",
       "   clickTask_2.4.player.tlx_single  clickTask_2.4.player.difficulty  \\\n",
       "0                             15.0                              6.0   \n",
       "1                              6.0                              2.0   \n",
       "2                              0.0                              1.0   \n",
       "\n",
       "   clickTask_2.4.player.mr_mood  clickTask_2.4.player.mr_sleepy  \\\n",
       "0                          86.0                            88.0   \n",
       "1                          74.0                            79.0   \n",
       "2                          96.0                            29.0   \n",
       "\n",
       "   clickTask_2.4.player.mr_motivy  clickTask_2.4.player.mf_single  \\\n",
       "0                            88.0                            24.0   \n",
       "1                            69.0                            13.0   \n",
       "2                            50.0                            12.0   \n",
       "\n",
       "                  clickTask_2.4.player.click_actions  \\\n",
       "0  ;taskStart;Thu Jul 17 2025 09:51:27 GMT+0200 (...   \n",
       "1  ;taskStart;Thu Jul 17 2025 10:06:42 GMT+0200 (...   \n",
       "2  ;taskStart;Mon Jul 21 2025 13:59:37 GMT+0200 (...   \n",
       "\n",
       "   clickTask_2.4.subsession.round_number  clickTask_2.5.player.fss06  \\\n",
       "0                                      4                         6.0   \n",
       "1                                      4                         7.0   \n",
       "2                                      4                         6.0   \n",
       "\n",
       "   clickTask_2.5.player.fss08  clickTask_2.5.player.fss09  \\\n",
       "0                         7.0                         6.0   \n",
       "1                         7.0                         7.0   \n",
       "2                         7.0                         7.0   \n",
       "\n",
       "   clickTask_2.5.player.tlx_single  clickTask_2.5.player.difficulty  \\\n",
       "0                              8.0                              3.0   \n",
       "1                             17.0                              6.0   \n",
       "2                              0.0                              1.0   \n",
       "\n",
       "   clickTask_2.5.player.mr_mood  clickTask_2.5.player.mr_sleepy  \\\n",
       "0                          91.0                            92.0   \n",
       "1                          80.0                            82.0   \n",
       "2                          98.0                            21.0   \n",
       "\n",
       "   clickTask_2.5.player.mr_motivy  clickTask_2.5.player.mf_single  \\\n",
       "0                            89.0                            18.0   \n",
       "1                            76.0                            26.0   \n",
       "2                            50.0                            11.0   \n",
       "\n",
       "                  clickTask_2.5.player.click_actions  \\\n",
       "0  ;taskStart;Thu Jul 17 2025 09:53:10 GMT+0200 (...   \n",
       "1  ;taskStart;Thu Jul 17 2025 10:08:12 GMT+0200 (...   \n",
       "2  ;taskStart;Mon Jul 21 2025 14:01:17 GMT+0200 (...   \n",
       "\n",
       "   clickTask_2.5.subsession.round_number  clickTask_2.6.player.fss06  \\\n",
       "0                                      5                         6.0   \n",
       "1                                      5                         7.0   \n",
       "2                                      5                         7.0   \n",
       "\n",
       "   clickTask_2.6.player.fss08  clickTask_2.6.player.fss09  \\\n",
       "0                         6.0                         6.0   \n",
       "1                         7.0                         7.0   \n",
       "2                         7.0                         7.0   \n",
       "\n",
       "   clickTask_2.6.player.tlx_single  clickTask_2.6.player.difficulty  \\\n",
       "0                             16.0                              5.0   \n",
       "1                             16.0                              3.0   \n",
       "2                              0.0                              1.0   \n",
       "\n",
       "   clickTask_2.6.player.mr_mood  clickTask_2.6.player.mr_sleepy  \\\n",
       "0                          81.0                            82.0   \n",
       "1                          80.0                            83.0   \n",
       "2                          97.0                            28.0   \n",
       "\n",
       "   clickTask_2.6.player.mr_motivy  clickTask_2.6.player.mf_single  \\\n",
       "0                            84.0                            26.0   \n",
       "1                            77.0                            17.0   \n",
       "2                            50.0                            16.0   \n",
       "\n",
       "                  clickTask_2.6.player.click_actions  \\\n",
       "0  ;taskStart;Thu Jul 17 2025 09:54:40 GMT+0200 (...   \n",
       "1  ;taskStart;Thu Jul 17 2025 10:09:39 GMT+0200 (...   \n",
       "2  ;taskStart;Mon Jul 21 2025 14:02:54 GMT+0200 (...   \n",
       "\n",
       "   clickTask_2.6.subsession.round_number  \\\n",
       "0                                      6   \n",
       "1                                      6   \n",
       "2                                      6   \n",
       "\n",
       "   clickTask_2.7.subsession.round_number  clickTask_2.8.player.tlx_single  \\\n",
       "0                                      7                             13.0   \n",
       "1                                      7                              2.0   \n",
       "2                                      7                              0.0   \n",
       "\n",
       "   clickTask_2.8.player.mr_mood  clickTask_2.8.player.mr_sleepy  \\\n",
       "0                          81.0                            83.0   \n",
       "1                          73.0                            77.0   \n",
       "2                          97.0                            25.0   \n",
       "\n",
       "   clickTask_2.8.player.mr_motivy  clickTask_2.8.player.mf_single  \\\n",
       "0                            83.0                            11.0   \n",
       "1                            71.0                            14.0   \n",
       "2                            50.0                            12.0   \n",
       "\n",
       "   clickTask_2.8.player.mf_01  clickTask_2.8.player.mf_02  \\\n",
       "0                         4.0                         4.0   \n",
       "1                         7.0                         7.0   \n",
       "2                         4.0                         5.0   \n",
       "\n",
       "   clickTask_2.8.player.mf_03  clickTask_2.8.player.mf_04  \\\n",
       "0                         4.0                         3.0   \n",
       "1                         1.0                         2.0   \n",
       "2                         3.0                         2.0   \n",
       "\n",
       "   clickTask_2.8.player.headset_comfort  \\\n",
       "0                                   4.0   \n",
       "1                                   4.0   \n",
       "2                                   6.0   \n",
       "\n",
       "                clickTask_2.8.player.rest_actions_eo  \\\n",
       "0  ;onLoad;Thu Jul 17 2025 09:56:14 GMT+0200 (Mit...   \n",
       "1  ;onLoad;Thu Jul 17 2025 10:11:07 GMT+0200 (Mit...   \n",
       "2  ;onLoad;Mon Jul 21 2025 14:04:28 GMT+0200 (Mit...   \n",
       "\n",
       "                clickTask_2.8.player.rest_actions_ec  \\\n",
       "0  ;onLoad;Thu Jul 17 2025 09:56:51 GMT+0200 (Mit...   \n",
       "1  ;onLoad;Thu Jul 17 2025 10:11:43 GMT+0200 (Mit...   \n",
       "2  ;onLoad;Mon Jul 21 2025 14:05:07 GMT+0200 (Mit...   \n",
       "\n",
       "   clickTask_2.8.subsession.round_number  \\\n",
       "0                                      8   \n",
       "1                                      8   \n",
       "2                                      8   \n",
       "\n",
       "               headphones_finish_2.1.player.feedback  \\\n",
       "0  More mathematics and fast movemnt to click was...   \n",
       "1                                                NaN   \n",
       "2                                                NaN   \n",
       "\n",
       "   headphones_finish_2.1.subsession.round_number  \\\n",
       "0                                              1   \n",
       "1                                              1   \n",
       "2                                              1   \n",
       "\n",
       "   debriefing_2.1.subsession.round_number  \\\n",
       "0                                       1   \n",
       "1                                       1   \n",
       "2                                       1   \n",
       "\n",
       "   headphones_setup_3.1.player.ux_comfort  \\\n",
       "0                                     7.0   \n",
       "1                                     4.0   \n",
       "2                                     7.0   \n",
       "\n",
       "   headphones_setup_3.1.player.ux_speed  headphones_setup_3.1.player.ux_ease  \\\n",
       "0                                   7.0                                  6.0   \n",
       "1                                   6.0                                  6.0   \n",
       "2                                   7.0                                  7.0   \n",
       "\n",
       "   headphones_setup_3.1.player.ux_look  headphones_setup_3.1.player.wx_public  \\\n",
       "0                                  6.0                                    5.0   \n",
       "1                                  4.0                                    6.0   \n",
       "2                                  3.0                                    4.0   \n",
       "\n",
       "   headphones_setup_3.1.player.wx_private  \\\n",
       "0                                     6.0   \n",
       "1                                     6.0   \n",
       "2                                     7.0   \n",
       "\n",
       "   headphones_setup_3.1.player.wx_conversation  \\\n",
       "0                                          4.0   \n",
       "1                                          6.0   \n",
       "2                                          7.0   \n",
       "\n",
       "   headphones_setup_3.1.player.wx_others  \\\n",
       "0                                    3.0   \n",
       "1                                    4.0   \n",
       "2                                    2.0   \n",
       "\n",
       "   headphones_setup_3.1.player.tlx_single  headphones_setup_3.1.player.sus_01  \\\n",
       "0                                     7.0                                 2.0   \n",
       "1                                     2.0                                 3.0   \n",
       "2                                     0.0                                 3.0   \n",
       "\n",
       "   headphones_setup_3.1.player.sus_02  headphones_setup_3.1.player.sus_03  \\\n",
       "0                                 2.0                                 2.0   \n",
       "1                                 1.0                                 4.0   \n",
       "2                                 3.0                                 3.0   \n",
       "\n",
       "   headphones_setup_3.1.player.sus_04  headphones_setup_3.1.player.sus_05  \\\n",
       "0                                 2.0                                 5.0   \n",
       "1                                 1.0                                 5.0   \n",
       "2                                 4.0                                 3.0   \n",
       "\n",
       "   headphones_setup_3.1.player.sus_06  headphones_setup_3.1.player.sus_07  \\\n",
       "0                                 1.0                                 2.0   \n",
       "1                                 1.0                                 5.0   \n",
       "2                                 2.0                                 5.0   \n",
       "\n",
       "   headphones_setup_3.1.player.sus_08  headphones_setup_3.1.player.sus_09  \\\n",
       "0                                 4.0                                 2.0   \n",
       "1                                 1.0                                 5.0   \n",
       "2                                 3.0                                 3.0   \n",
       "\n",
       "   headphones_setup_3.1.player.sus_10  headphones_setup_3.1.player.mr_mood  \\\n",
       "0                                 1.0                                 81.0   \n",
       "1                                 1.0                                 77.0   \n",
       "2                                 4.0                                 97.0   \n",
       "\n",
       "   headphones_setup_3.1.player.mr_sleepy  \\\n",
       "0                                   82.0   \n",
       "1                                   74.0   \n",
       "2                                   48.0   \n",
       "\n",
       "   headphones_setup_3.1.player.mr_motivy  \\\n",
       "0                                   84.0   \n",
       "1                                   68.0   \n",
       "2                                   50.0   \n",
       "\n",
       "   headphones_setup_3.1.player.mf_single  headphones_setup_3.1.player.mf_01  \\\n",
       "0                                   16.0                                5.0   \n",
       "1                                   13.0                                7.0   \n",
       "2                                    9.0                                5.0   \n",
       "\n",
       "   headphones_setup_3.1.player.mf_02  headphones_setup_3.1.player.mf_03  \\\n",
       "0                                5.0                                3.0   \n",
       "1                                7.0                                1.0   \n",
       "2                                5.0                                2.0   \n",
       "\n",
       "   headphones_setup_3.1.player.mf_04  \\\n",
       "0                                3.0   \n",
       "1                                2.0   \n",
       "2                                2.0   \n",
       "\n",
       "         headphones_setup_3.1.player.rest_actions_eo  \\\n",
       "0  ;onLoad;Thu Jul 17 2025 10:10:15 GMT+0200 (Mit...   \n",
       "1  ;onLoad;Thu Jul 17 2025 10:21:20 GMT+0200 (Mit...   \n",
       "2  ;onLoad;Mon Jul 21 2025 14:32:25 GMT+0200 (Mit...   \n",
       "\n",
       "         headphones_setup_3.1.player.rest_actions_ec  \\\n",
       "0  ;onLoad;Thu Jul 17 2025 10:10:51 GMT+0200 (Mit...   \n",
       "1  ;onLoad;Thu Jul 17 2025 10:22:03 GMT+0200 (Mit...   \n",
       "2  ;onLoad;Mon Jul 21 2025 14:32:57 GMT+0200 (Mit...   \n",
       "\n",
       "          headphones_setup_3.1.player.break_activity  \\\n",
       "0  drink water , check the mesages on mobile and ...   \n",
       "1                                          Nothing     \n",
       "2                                      drank water     \n",
       "\n",
       "   headphones_setup_3.1.subsession.round_number  mathTask_3.1.player.fss06  \\\n",
       "0                                             1                        7.0   \n",
       "1                                             1                        7.0   \n",
       "2                                             1                        7.0   \n",
       "\n",
       "   mathTask_3.1.player.fss08  mathTask_3.1.player.fss09  \\\n",
       "0                        7.0                        6.0   \n",
       "1                        7.0                        7.0   \n",
       "2                        7.0                        7.0   \n",
       "\n",
       "   mathTask_3.1.player.tlx_single  mathTask_3.1.player.difficulty  \\\n",
       "0                            14.0                             3.0   \n",
       "1                             5.0                             4.0   \n",
       "2                             7.0                             2.0   \n",
       "\n",
       "   mathTask_3.1.player.mr_mood  mathTask_3.1.player.mr_sleepy  \\\n",
       "0                         86.0                           86.0   \n",
       "1                         72.0                           73.0   \n",
       "2                         99.0                           50.0   \n",
       "\n",
       "   mathTask_3.1.player.mr_motivy  mathTask_3.1.player.mf_single  \\\n",
       "0                           85.0                           25.0   \n",
       "1                           66.0                           12.0   \n",
       "2                           50.0                           12.0   \n",
       "\n",
       "                    mathTask_3.1.player.math_actions  \\\n",
       "0  ;onLoad;Thu Jul 17 2025 10:12:07 GMT+0200 (Mit...   \n",
       "1  ;onLoad;Thu Jul 17 2025 10:23:17 GMT+0200 (Mit...   \n",
       "2  ;onLoad;Mon Jul 21 2025 14:44:34 GMT+0200 (Mit...   \n",
       "\n",
       "   mathTask_3.1.subsession.round_number  mathTask_3.2.player.fss06  \\\n",
       "0                                     1                        7.0   \n",
       "1                                     1                        7.0   \n",
       "2                                     1                        3.0   \n",
       "\n",
       "   mathTask_3.2.player.fss08  mathTask_3.2.player.fss09  \\\n",
       "0                        5.0                        4.0   \n",
       "1                        7.0                        7.0   \n",
       "2                        7.0                        5.0   \n",
       "\n",
       "   mathTask_3.2.player.tlx_single  mathTask_3.2.player.difficulty  \\\n",
       "0                            17.0                             5.0   \n",
       "1                            16.0                             4.0   \n",
       "2                            14.0                             6.0   \n",
       "\n",
       "   mathTask_3.2.player.mr_mood  mathTask_3.2.player.mr_sleepy  \\\n",
       "0                         92.0                           90.0   \n",
       "1                         68.0                           75.0   \n",
       "2                         98.0                           50.0   \n",
       "\n",
       "   mathTask_3.2.player.mr_motivy  mathTask_3.2.player.mf_single  \\\n",
       "0                           92.0                            8.0   \n",
       "1                           64.0                           11.0   \n",
       "2                           50.0                           20.0   \n",
       "\n",
       "                    mathTask_3.2.player.math_actions  \\\n",
       "0  ;onLoad;Thu Jul 17 2025 10:13:41 GMT+0200 (Mit...   \n",
       "1  ;onLoad;Thu Jul 17 2025 10:24:45 GMT+0200 (Mit...   \n",
       "2  ;onLoad;Mon Jul 21 2025 14:46:16 GMT+0200 (Mit...   \n",
       "\n",
       "   mathTask_3.2.subsession.round_number  mathTask_3.3.player.fss06  \\\n",
       "0                                     2                        7.0   \n",
       "1                                     2                        7.0   \n",
       "2                                     2                        7.0   \n",
       "\n",
       "   mathTask_3.3.player.fss08  mathTask_3.3.player.fss09  \\\n",
       "0                        7.0                        7.0   \n",
       "1                        7.0                        7.0   \n",
       "2                        7.0                        7.0   \n",
       "\n",
       "   mathTask_3.3.player.tlx_single  mathTask_3.3.player.difficulty  \\\n",
       "0                            13.0                             3.0   \n",
       "1                             7.0                             5.0   \n",
       "2                             7.0                             3.0   \n",
       "\n",
       "   mathTask_3.3.player.mr_mood  mathTask_3.3.player.mr_sleepy  \\\n",
       "0                         89.0                           91.0   \n",
       "1                         76.0                           77.0   \n",
       "2                         98.0                           50.0   \n",
       "\n",
       "   mathTask_3.3.player.mr_motivy  mathTask_3.3.player.mf_single  \\\n",
       "0                           91.0                           23.0   \n",
       "1                           63.0                           11.0   \n",
       "2                           50.0                            9.0   \n",
       "\n",
       "                    mathTask_3.3.player.math_actions  \\\n",
       "0  ;onLoad;Thu Jul 17 2025 10:15:13 GMT+0200 (Mit...   \n",
       "1  ;onLoad;Thu Jul 17 2025 10:26:17 GMT+0200 (Mit...   \n",
       "2  ;onLoad;Mon Jul 21 2025 14:47:53 GMT+0200 (Mit...   \n",
       "\n",
       "   mathTask_3.3.subsession.round_number  mathTask_3.4.player.fss06  \\\n",
       "0                                     3                        7.0   \n",
       "1                                     3                        7.0   \n",
       "2                                     3                        7.0   \n",
       "\n",
       "   mathTask_3.4.player.fss08  mathTask_3.4.player.fss09  \\\n",
       "0                        6.0                        5.0   \n",
       "1                        7.0                        7.0   \n",
       "2                        7.0                        7.0   \n",
       "\n",
       "   mathTask_3.4.player.tlx_single  mathTask_3.4.player.difficulty  \\\n",
       "0                            20.0                             5.0   \n",
       "1                            17.0                             3.0   \n",
       "2                            11.0                             5.0   \n",
       "\n",
       "   mathTask_3.4.player.mr_mood  mathTask_3.4.player.mr_sleepy  \\\n",
       "0                         79.0                           80.0   \n",
       "1                         72.0                           73.0   \n",
       "2                         98.0                           50.0   \n",
       "\n",
       "   mathTask_3.4.player.mr_motivy  mathTask_3.4.player.mf_single  \\\n",
       "0                           81.0                           22.0   \n",
       "1                           71.0                           17.0   \n",
       "2                           50.0                           11.0   \n",
       "\n",
       "                    mathTask_3.4.player.math_actions  \\\n",
       "0  ;onLoad;Thu Jul 17 2025 10:16:42 GMT+0200 (Mit...   \n",
       "1  ;onLoad;Thu Jul 17 2025 10:27:55 GMT+0200 (Mit...   \n",
       "2  ;onLoad;Mon Jul 21 2025 14:49:21 GMT+0200 (Mit...   \n",
       "\n",
       "   mathTask_3.4.subsession.round_number  mathTask_3.5.player.fss06  \\\n",
       "0                                     4                        7.0   \n",
       "1                                     4                        7.0   \n",
       "2                                     4                        7.0   \n",
       "\n",
       "   mathTask_3.5.player.fss08  mathTask_3.5.player.fss09  \\\n",
       "0                        7.0                        6.0   \n",
       "1                        7.0                        7.0   \n",
       "2                        7.0                        7.0   \n",
       "\n",
       "   mathTask_3.5.player.tlx_single  mathTask_3.5.player.difficulty  \\\n",
       "0                            14.0                             5.0   \n",
       "1                            12.0                             4.0   \n",
       "2                             6.0                             3.0   \n",
       "\n",
       "   mathTask_3.5.player.mr_mood  mathTask_3.5.player.mr_sleepy  \\\n",
       "0                         87.0                           88.0   \n",
       "1                         70.0                           69.0   \n",
       "2                         98.0                           50.0   \n",
       "\n",
       "   mathTask_3.5.player.mr_motivy  mathTask_3.5.player.mf_single  \\\n",
       "0                           88.0                           14.0   \n",
       "1                           65.0                           15.0   \n",
       "2                           50.0                            7.0   \n",
       "\n",
       "                    mathTask_3.5.player.math_actions  \\\n",
       "0  ;onLoad;Thu Jul 17 2025 10:18:14 GMT+0200 (Mit...   \n",
       "1  ;onLoad;Thu Jul 17 2025 10:29:17 GMT+0200 (Mit...   \n",
       "2  ;onLoad;Mon Jul 21 2025 14:50:48 GMT+0200 (Mit...   \n",
       "\n",
       "   mathTask_3.5.subsession.round_number  mathTask_3.6.player.fss06  \\\n",
       "0                                     5                        7.0   \n",
       "1                                     5                        7.0   \n",
       "2                                     5                        7.0   \n",
       "\n",
       "   mathTask_3.6.player.fss08  mathTask_3.6.player.fss09  \\\n",
       "0                        5.0                        6.0   \n",
       "1                        7.0                        7.0   \n",
       "2                        7.0                        7.0   \n",
       "\n",
       "   mathTask_3.6.player.tlx_single  mathTask_3.6.player.difficulty  \\\n",
       "0                            17.0                             6.0   \n",
       "1                            15.0                             4.0   \n",
       "2                            11.0                             5.0   \n",
       "\n",
       "   mathTask_3.6.player.mr_mood  mathTask_3.6.player.mr_sleepy  \\\n",
       "0                         87.0                           89.0   \n",
       "1                         69.0                           71.0   \n",
       "2                         97.0                           50.0   \n",
       "\n",
       "   mathTask_3.6.player.mr_motivy  mathTask_3.6.player.mf_single  \\\n",
       "0                           90.0                           22.0   \n",
       "1                           56.0                           24.0   \n",
       "2                           50.0                            5.0   \n",
       "\n",
       "                    mathTask_3.6.player.math_actions  \\\n",
       "0  ;onLoad;Thu Jul 17 2025 10:19:52 GMT+0200 (Mit...   \n",
       "1  ;onLoad;Thu Jul 17 2025 10:30:42 GMT+0200 (Mit...   \n",
       "2  ;onLoad;Mon Jul 21 2025 14:52:21 GMT+0200 (Mit...   \n",
       "\n",
       "   mathTask_3.6.subsession.round_number  mathTask_3.7.subsession.round_number  \\\n",
       "0                                     6                                     7   \n",
       "1                                     6                                     7   \n",
       "2                                     6                                     7   \n",
       "\n",
       "   mathTask_3.8.player.tlx_single  mathTask_3.8.player.mr_mood  \\\n",
       "0                            16.0                         80.0   \n",
       "1                             1.0                         61.0   \n",
       "2                             0.0                         97.0   \n",
       "\n",
       "   mathTask_3.8.player.mr_sleepy  mathTask_3.8.player.mr_motivy  \\\n",
       "0                           84.0                           85.0   \n",
       "1                           65.0                           67.0   \n",
       "2                           50.0                           50.0   \n",
       "\n",
       "   mathTask_3.8.player.mf_single  mathTask_3.8.player.mf_01  \\\n",
       "0                            6.0                        3.0   \n",
       "1                           33.0                        7.0   \n",
       "2                            5.0                        5.0   \n",
       "\n",
       "   mathTask_3.8.player.mf_02  mathTask_3.8.player.mf_03  \\\n",
       "0                        3.0                        4.0   \n",
       "1                        7.0                        1.0   \n",
       "2                        5.0                        2.0   \n",
       "\n",
       "   mathTask_3.8.player.mf_04  mathTask_3.8.player.headset_comfort  \\\n",
       "0                        3.0                                  6.0   \n",
       "1                        2.0                                  4.0   \n",
       "2                        3.0                                  7.0   \n",
       "\n",
       "                 mathTask_3.8.player.rest_actions_eo  \\\n",
       "0  ;onLoad;Thu Jul 17 2025 10:21:16 GMT+0200 (Mit...   \n",
       "1  ;onLoad;Thu Jul 17 2025 10:32:04 GMT+0200 (Mit...   \n",
       "2  ;onLoad;Mon Jul 21 2025 14:53:48 GMT+0200 (Mit...   \n",
       "\n",
       "                 mathTask_3.8.player.rest_actions_ec  \\\n",
       "0  ;onLoad;Thu Jul 17 2025 10:21:50 GMT+0200 (Mit...   \n",
       "1  ;onLoad;Thu Jul 17 2025 10:32:38 GMT+0200 (Mit...   \n",
       "2  ;onLoad;Mon Jul 21 2025 14:54:22 GMT+0200 (Mit...   \n",
       "\n",
       "   mathTask_3.8.subsession.round_number  clickTask_3.1.player.fss06  \\\n",
       "0                                     8                         6.0   \n",
       "1                                     8                         7.0   \n",
       "2                                     8                         7.0   \n",
       "\n",
       "   clickTask_3.1.player.fss08  clickTask_3.1.player.fss09  \\\n",
       "0                         6.0                         6.0   \n",
       "1                         7.0                         7.0   \n",
       "2                         7.0                         7.0   \n",
       "\n",
       "   clickTask_3.1.player.tlx_single  clickTask_3.1.player.difficulty  \\\n",
       "0                              4.0                              6.0   \n",
       "1                              3.0                              2.0   \n",
       "2                              0.0                              1.0   \n",
       "\n",
       "   clickTask_3.1.player.mr_mood  clickTask_3.1.player.mr_sleepy  \\\n",
       "0                          88.0                            89.0   \n",
       "1                          66.0                            70.0   \n",
       "2                          96.0                            48.0   \n",
       "\n",
       "   clickTask_3.1.player.mr_motivy  clickTask_3.1.player.mf_single  \\\n",
       "0                            91.0                            22.0   \n",
       "1                            71.0                            19.0   \n",
       "2                            50.0                            12.0   \n",
       "\n",
       "                  clickTask_3.1.player.click_actions  \\\n",
       "0  ;taskStart;Thu Jul 17 2025 10:22:50 GMT+0200 (...   \n",
       "1  ;taskStart;Thu Jul 17 2025 10:33:34 GMT+0200 (...   \n",
       "2  ;taskStart;Mon Jul 21 2025 14:33:49 GMT+0200 (...   \n",
       "\n",
       "   clickTask_3.1.subsession.round_number  clickTask_3.2.player.fss06  \\\n",
       "0                                      1                         6.0   \n",
       "1                                      1                         7.0   \n",
       "2                                      1                         7.0   \n",
       "\n",
       "   clickTask_3.2.player.fss08  clickTask_3.2.player.fss09  \\\n",
       "0                         6.0                         6.0   \n",
       "1                         7.0                         7.0   \n",
       "2                         7.0                         7.0   \n",
       "\n",
       "   clickTask_3.2.player.tlx_single  clickTask_3.2.player.difficulty  \\\n",
       "0                             15.0                              2.0   \n",
       "1                             14.0                              3.0   \n",
       "2                              0.0                              1.0   \n",
       "\n",
       "   clickTask_3.2.player.mr_mood  clickTask_3.2.player.mr_sleepy  \\\n",
       "0                          98.0                            95.0   \n",
       "1                          73.0                            77.0   \n",
       "2                          94.0                            50.0   \n",
       "\n",
       "   clickTask_3.2.player.mr_motivy  clickTask_3.2.player.mf_single  \\\n",
       "0                            96.0                            18.0   \n",
       "1                            73.0                            24.0   \n",
       "2                            50.0                             6.0   \n",
       "\n",
       "                  clickTask_3.2.player.click_actions  \\\n",
       "0  ;taskStart;Thu Jul 17 2025 10:24:14 GMT+0200 (...   \n",
       "1  ;taskStart;Thu Jul 17 2025 10:35:01 GMT+0200 (...   \n",
       "2  ;taskStart;Mon Jul 21 2025 14:35:20 GMT+0200 (...   \n",
       "\n",
       "   clickTask_3.2.subsession.round_number  clickTask_3.3.player.fss06  \\\n",
       "0                                      2                         6.0   \n",
       "1                                      2                         7.0   \n",
       "2                                      2                         7.0   \n",
       "\n",
       "   clickTask_3.3.player.fss08  clickTask_3.3.player.fss09  \\\n",
       "0                         6.0                         6.0   \n",
       "1                         7.0                         7.0   \n",
       "2                         7.0                         7.0   \n",
       "\n",
       "   clickTask_3.3.player.tlx_single  clickTask_3.3.player.difficulty  \\\n",
       "0                             17.0                              2.0   \n",
       "1                              8.0                              2.0   \n",
       "2                              0.0                              1.0   \n",
       "\n",
       "   clickTask_3.3.player.mr_mood  clickTask_3.3.player.mr_sleepy  \\\n",
       "0                          87.0                            87.0   \n",
       "1                          81.0                            80.0   \n",
       "2                          96.0                            50.0   \n",
       "\n",
       "   clickTask_3.3.player.mr_motivy  clickTask_3.3.player.mf_single  \\\n",
       "0                            88.0                            22.0   \n",
       "1                            71.0                            21.0   \n",
       "2                            50.0                             7.0   \n",
       "\n",
       "                  clickTask_3.3.player.click_actions  \\\n",
       "0  ;taskStart;Thu Jul 17 2025 10:25:41 GMT+0200 (...   \n",
       "1  ;taskStart;Thu Jul 17 2025 10:36:28 GMT+0200 (...   \n",
       "2  ;taskStart;Mon Jul 21 2025 14:36:48 GMT+0200 (...   \n",
       "\n",
       "   clickTask_3.3.subsession.round_number  clickTask_3.4.player.fss06  \\\n",
       "0                                      3                         6.0   \n",
       "1                                      3                         7.0   \n",
       "2                                      3                         5.0   \n",
       "\n",
       "   clickTask_3.4.player.fss08  clickTask_3.4.player.fss09  \\\n",
       "0                         6.0                         7.0   \n",
       "1                         7.0                         7.0   \n",
       "2                         7.0                         7.0   \n",
       "\n",
       "   clickTask_3.4.player.tlx_single  clickTask_3.4.player.difficulty  \\\n",
       "0                              9.0                              5.0   \n",
       "1                              4.0                              3.0   \n",
       "2                              0.0                              1.0   \n",
       "\n",
       "   clickTask_3.4.player.mr_mood  clickTask_3.4.player.mr_sleepy  \\\n",
       "0                          88.0                            90.0   \n",
       "1                          73.0                            79.0   \n",
       "2                          95.0                            50.0   \n",
       "\n",
       "   clickTask_3.4.player.mr_motivy  clickTask_3.4.player.mf_single  \\\n",
       "0                            91.0                            28.0   \n",
       "1                            66.0                            15.0   \n",
       "2                            50.0                            23.0   \n",
       "\n",
       "                  clickTask_3.4.player.click_actions  \\\n",
       "0  ;taskStart;Thu Jul 17 2025 10:27:05 GMT+0200 (...   \n",
       "1  ;taskStart;Thu Jul 17 2025 10:38:00 GMT+0200 (...   \n",
       "2  ;taskStart;Mon Jul 21 2025 14:38:15 GMT+0200 (...   \n",
       "\n",
       "   clickTask_3.4.subsession.round_number  clickTask_3.5.player.fss06  \\\n",
       "0                                      4                         6.0   \n",
       "1                                      4                         7.0   \n",
       "2                                      4                         5.0   \n",
       "\n",
       "   clickTask_3.5.player.fss08  clickTask_3.5.player.fss09  \\\n",
       "0                         7.0                         7.0   \n",
       "1                         7.0                         7.0   \n",
       "2                         7.0                         7.0   \n",
       "\n",
       "   clickTask_3.5.player.tlx_single  clickTask_3.5.player.difficulty  \\\n",
       "0                              9.0                              3.0   \n",
       "1                              7.0                              2.0   \n",
       "2                              0.0                              1.0   \n",
       "\n",
       "   clickTask_3.5.player.mr_mood  clickTask_3.5.player.mr_sleepy  \\\n",
       "0                          86.0                            88.0   \n",
       "1                          80.0                            76.0   \n",
       "2                          97.0                            50.0   \n",
       "\n",
       "   clickTask_3.5.player.mr_motivy  clickTask_3.5.player.mf_single  \\\n",
       "0                            91.0                            27.0   \n",
       "1                            70.0                            18.0   \n",
       "2                            50.0                            12.0   \n",
       "\n",
       "                  clickTask_3.5.player.click_actions  \\\n",
       "0  ;taskStart;Thu Jul 17 2025 10:28:33 GMT+0200 (...   \n",
       "1  ;taskStart;Thu Jul 17 2025 10:39:29 GMT+0200 (...   \n",
       "2  ;taskStart;Mon Jul 21 2025 14:39:45 GMT+0200 (...   \n",
       "\n",
       "   clickTask_3.5.subsession.round_number  clickTask_3.6.player.fss06  \\\n",
       "0                                      5                         6.0   \n",
       "1                                      5                         7.0   \n",
       "2                                      5                         6.0   \n",
       "\n",
       "   clickTask_3.6.player.fss08  clickTask_3.6.player.fss09  \\\n",
       "0                         6.0                         6.0   \n",
       "1                         7.0                         7.0   \n",
       "2                         7.0                         7.0   \n",
       "\n",
       "   clickTask_3.6.player.tlx_single  clickTask_3.6.player.difficulty  \\\n",
       "0                             14.0                              3.0   \n",
       "1                              8.0                              3.0   \n",
       "2                              0.0                              1.0   \n",
       "\n",
       "   clickTask_3.6.player.mr_mood  clickTask_3.6.player.mr_sleepy  \\\n",
       "0                          82.0                            84.0   \n",
       "1                          67.0                            69.0   \n",
       "2                          99.0                            50.0   \n",
       "\n",
       "   clickTask_3.6.player.mr_motivy  clickTask_3.6.player.mf_single  \\\n",
       "0                            86.0                            20.0   \n",
       "1                            58.0                             8.0   \n",
       "2                            50.0                             9.0   \n",
       "\n",
       "                  clickTask_3.6.player.click_actions  \\\n",
       "0  ;taskStart;Thu Jul 17 2025 10:30:00 GMT+0200 (...   \n",
       "1  ;taskStart;Thu Jul 17 2025 10:40:55 GMT+0200 (...   \n",
       "2  ;taskStart;Mon Jul 21 2025 14:41:18 GMT+0200 (...   \n",
       "\n",
       "   clickTask_3.6.subsession.round_number  \\\n",
       "0                                      6   \n",
       "1                                      6   \n",
       "2                                      6   \n",
       "\n",
       "   clickTask_3.7.subsession.round_number  clickTask_3.8.player.tlx_single  \\\n",
       "0                                      7                             18.0   \n",
       "1                                      7                              4.0   \n",
       "2                                      7                              0.0   \n",
       "\n",
       "   clickTask_3.8.player.mr_mood  clickTask_3.8.player.mr_sleepy  \\\n",
       "0                          82.0                            85.0   \n",
       "1                          67.0                            73.0   \n",
       "2                          98.0                            50.0   \n",
       "\n",
       "   clickTask_3.8.player.mr_motivy  clickTask_3.8.player.mf_single  \\\n",
       "0                            89.0                            11.0   \n",
       "1                            68.0                            25.0   \n",
       "2                            50.0                             7.0   \n",
       "\n",
       "   clickTask_3.8.player.mf_01  clickTask_3.8.player.mf_02  \\\n",
       "0                         3.0                         3.0   \n",
       "1                         7.0                         7.0   \n",
       "2                         5.0                         5.0   \n",
       "\n",
       "   clickTask_3.8.player.mf_03  clickTask_3.8.player.mf_04  \\\n",
       "0                         3.0                         3.0   \n",
       "1                         1.0                         2.0   \n",
       "2                         2.0                         2.0   \n",
       "\n",
       "   clickTask_3.8.player.headset_comfort  \\\n",
       "0                                   6.0   \n",
       "1                                   4.0   \n",
       "2                                   6.0   \n",
       "\n",
       "                clickTask_3.8.player.rest_actions_eo  \\\n",
       "0  ;onLoad;Thu Jul 17 2025 10:31:23 GMT+0200 (Mit...   \n",
       "1  ;onLoad;Thu Jul 17 2025 10:42:19 GMT+0200 (Mit...   \n",
       "2  ;onLoad;Mon Jul 21 2025 14:42:48 GMT+0200 (Mit...   \n",
       "\n",
       "                clickTask_3.8.player.rest_actions_ec  \\\n",
       "0  ;onLoad;Thu Jul 17 2025 10:31:57 GMT+0200 (Mit...   \n",
       "1  ;onLoad;Thu Jul 17 2025 10:42:54 GMT+0200 (Mit...   \n",
       "2  ;onLoad;Mon Jul 21 2025 14:43:22 GMT+0200 (Mit...   \n",
       "\n",
       "   clickTask_3.8.subsession.round_number  \\\n",
       "0                                      8   \n",
       "1                                      8   \n",
       "2                                      8   \n",
       "\n",
       "               headphones_finish_3.1.player.feedback  \\\n",
       "0  Headset was comfortable , as comparted to prer...   \n",
       "1                                                NaN   \n",
       "2                                                NaN   \n",
       "\n",
       "   headphones_finish_3.1.subsession.round_number  \\\n",
       "0                                              1   \n",
       "1                                              1   \n",
       "2                                              1   \n",
       "\n",
       "   debriefing_3.1.player.mathsRating  debriefing_3.1.player.clickRating  \\\n",
       "0                                5.0                                5.0   \n",
       "1                                6.0                                6.0   \n",
       "2                                3.0                                5.0   \n",
       "\n",
       "   debriefing_3.1.player.mathSkill  debriefing_3.1.player.clickSkill  \\\n",
       "0                              4.0                               4.0   \n",
       "1                              3.0                               3.0   \n",
       "2                              3.0                               5.0   \n",
       "\n",
       "   debriefing_3.1.subsession.round_number  \n",
       "0                                       1  \n",
       "1                                       1  \n",
       "2                                       1  "
      ]
     },
     "execution_count": 3,
     "metadata": {},
     "output_type": "execute_result"
    }
   ],
   "source": [
    "# Load otree log for last sessions\n",
    "otree_df = pd.read_csv(main_folder + \"processed/otree_logs.csv\")\n",
    "otree_df.head(3)"
   ]
  },
  {
   "cell_type": "code",
   "execution_count": 4,
   "metadata": {},
   "outputs": [],
   "source": [
    "# Extract client side timestamps from dedicated otree log columns\n",
    "def get_actionlog_times(logs_df):\n",
    "    # Get the timestamps from logging fields\n",
    "    timestamps = logs_df.filter(regex='actions').dropna(axis=1, how='all').reset_index(drop=True)\n",
    "    # display(timestamps)\n",
    "    \n",
    "    def extract_times(s):\n",
    "        s = s[0].split(';') # Split string\n",
    "        s = s[1:] # Remove first, empty entry\n",
    "        # print(s)\n",
    "\n",
    "        # Convert into DataFrame\n",
    "        n_messages = int(len(s)/3)\n",
    "        messages = []\n",
    "        ts = []\n",
    "        ts_unix = []\n",
    "        for i in range(0, n_messages):\n",
    "            step = i*3\n",
    "            messages.append(s[step])\n",
    "            ts.append(s[step+1])\n",
    "            ts_unix.append(s[step+2])\n",
    "\n",
    "        df = pd.DataFrame({'Message':messages, \n",
    "                           'TS':ts,\n",
    "                           'TS_UNIX':ts_unix})\n",
    "\n",
    "        # Convert unix timestamp to correct datetime\n",
    "        df['TS'] = pd.to_datetime(pd.to_numeric(df['TS_UNIX'], errors='coerce'), unit='ms', utc=True).dt.tz_convert('Europe/Berlin')\n",
    "        # print(df.Message.unique())\n",
    "\n",
    "        return df\n",
    "\n",
    "    # Parse TS cols\n",
    "    # TODO: This code could be nicer using a split-apply-combine logic...\n",
    "    timestamps_parsed = pd.DataFrame()\n",
    "    for phase in timestamps.columns:\n",
    "        msgs = extract_times(timestamps[phase])\n",
    "        msgs['Exp_Phase'] = phase.replace('xTS', '')\n",
    "        timestamps_parsed = pd.concat([timestamps_parsed, msgs], ignore_index=True) # Had to change this as append is deprecated in pandas since 2.0 -> Alternatively: versioning in requirements.txt \n",
    "\n",
    "        \n",
    "    # Remove unnecessary events\n",
    "    timestamps_parsed = timestamps_parsed[timestamps_parsed.Message.str.contains(\"taskStart|taskEnd\")]\n",
    "    # display(timestamps_parsed)\n",
    "    # display(timestamps_parsed['Exp_Phase'].value_counts())\n",
    "    \n",
    "    # Restructure DF\n",
    "    timestamps_parsed.drop(['TS_UNIX'], axis=1, inplace=True)\n",
    "    timestamps_parsed['Message'] = timestamps_parsed['Message'].str.replace('task', '', regex=False) # Remove the substring \"task\"\n",
    "    timestamps_parsed = timestamps_parsed.pivot(index='Exp_Phase', columns='Message', values='TS').reset_index() # Pivot the DataFrame\n",
    "    \n",
    "    timestamps_parsed[['app_name', 'round_number', 'player', 'page_name']] = timestamps_parsed['Exp_Phase'].str.split('.', expand=True)\n",
    "    timestamps_parsed.drop(['Exp_Phase', 'player'], axis=1, inplace=True)\n",
    "    timestamps_parsed['token'] = logs_df['participant.token'][0]\n",
    "    \n",
    "    # Add mapping to three EEG recordings\n",
    "    mapping = {\n",
    "        \"_1\": \"rec1\",\n",
    "        \"_2\": \"rec2\",\n",
    "        \"_3\": \"rec3\"\n",
    "    }\n",
    "\n",
    "    timestamps_parsed[\"rec\"] = timestamps_parsed[\"app_name\"].str[-2:].map(mapping)\n",
    "    timestamps_parsed[\"app_name\"] = timestamps_parsed[\"app_name\"].str.replace(r\"_[123]$\", \"\", regex=True)\n",
    "    # display(timestamps_parsed)\n",
    "    \n",
    "    # Structure IDs\n",
    "    timestamps_parsed['page_name'] = timestamps_parsed['page_name'].replace('rest_actions_', '', regex=True)\n",
    "    timestamps_parsed['page_name'] = timestamps_parsed['page_name'].replace('_actions', '', regex=True)\n",
    "    timestamps_parsed['Exp_Phase'] = timestamps_parsed['app_name'] + \"_\" + timestamps_parsed['page_name'] + \"_\" + timestamps_parsed['round_number']\n",
    "    \n",
    "    return timestamps_parsed"
   ]
  },
  {
   "cell_type": "markdown",
   "metadata": {},
   "source": [
    "# EEG Settings & Functions"
   ]
  },
  {
   "cell_type": "code",
   "execution_count": 5,
   "metadata": {},
   "outputs": [],
   "source": [
    "# EEG File metdata ------\n",
    "chans = ['A1', 'A2', 'A3', 'A4', 'A5', 'A6', 'A7', 'A8'] # Varies for the two treatments\n",
    "chans_ear_only = ['A2', 'A3', 'A4', 'A6', 'A7', 'A8']\n",
    "chans_top_ear = ['A1', 'A2', 'A3', 'A6', 'A7', 'A8']\n",
    "\n",
    "fs = 250 # Sampling frequency\n",
    "\n",
    "# PSD parameters\n",
    "min_freq, max_freq = 2, 60\n",
    "psd_normalize = False\n",
    "notch = 15 \n",
    "psd_window_sec, psd_overlap_pct = 1, 0.75"
   ]
  },
  {
   "cell_type": "code",
   "execution_count": 6,
   "metadata": {},
   "outputs": [],
   "source": [
    "# Label and cut the EEG data\n",
    "def label_data(eeg, timestamps, cut=True, report=True):        \n",
    "    # Annotate the data by checking conditions\n",
    "    for i, row in timestamps.iterrows():        \n",
    "        idx = (eeg['TS_UNIX'] >= row['Start']) & (eeg['TS_UNIX'] < row['End'])\n",
    "        eeg.loc[idx, 'Condition'] = row['Exp_Phase']\n",
    "\n",
    "    # Drop entries where condition is NA\n",
    "    if cut: eeg = eeg.dropna(subset=['Condition'])\n",
    "    \n",
    "    # Check if annotations are correct\n",
    "    if report:\n",
    "        display(eeg['Condition'].value_counts())\n",
    "        \n",
    "    return eeg"
   ]
  },
  {
   "cell_type": "code",
   "execution_count": 7,
   "metadata": {},
   "outputs": [],
   "source": [
    "# Assess ASSR effect across chans\n",
    "def get_assr_snr(channel_df):\n",
    "    # Make sure we're working on a copy - to avoid warnings\n",
    "    channel_df = channel_df.copy()\n",
    "    \n",
    "    '''\n",
    "    # TODO: Should also check Mikkelsen2015 data processing: They exclude some chans without a clear peak at 40Hz\n",
    "    Mikkelsen2015: Using the ASSR paradigm, we then estimated the signal-to-\n",
    "    noise ratios (SNR) for both scalp and ear-EEG setups, whereby\n",
    "    the SNR was defined as the diﬀerence between the logarithm of\n",
    "    the power at 40 Hz (the signal) and the logarithm of the average\n",
    "    power in 5 Hz intervals around 40 Hz (the noise floor).\n",
    "    '''\n",
    "    # dev = eo_ec_signals[eo_ec_signals.Condition==\"headphones_setup_1_eo_1\"][\"A1\"]\n",
    "    # Split in half\n",
    "    # TODO: Could also get a more precise indicator of when the ASSR stimulus started - have a timestamp\n",
    "    try:\n",
    "        first_half, second_half = channel_df.iloc[:channel_df.shape[0]//2], channel_df.iloc[channel_df.shape[0]//2:]    \n",
    "    except Exception as e: \n",
    "        print(e) \n",
    " \n",
    "\n",
    "    return pd.Series({\n",
    "            \"SNR_First_Half\": flows.assr_snr(first_half.mV, min_freq=2, max_freq=100, fs=fs, normalize=False, window_sec = 1),\n",
    "            \"SNR_Second_Half\": flows.assr_snr(second_half.mV, min_freq=2, max_freq=100, fs=fs, normalize=False, window_sec = 1)\n",
    "\n",
    "        # \"SNR_First_Half\": flows.assr_snr_db(first_half.mV, fs=250.0, f0=40.0, half_width=0.5, flank=4.0, min_f=1.0, max_f=100.0),\n",
    "        # \"SNR_Second_Half\": flows.assr_snr_db(first_half.mV, fs=250.0, f0=40.0, half_width=0.5, flank=4.0, min_f=1.0, max_f=100.0),\n",
    "    })\n"
   ]
  },
  {
   "cell_type": "code",
   "execution_count": null,
   "metadata": {},
   "outputs": [],
   "source": []
  },
  {
   "cell_type": "markdown",
   "metadata": {},
   "source": []
  },
  {
   "cell_type": "code",
   "execution_count": null,
   "metadata": {},
   "outputs": [],
   "source": []
  },
  {
   "cell_type": "code",
   "execution_count": 8,
   "metadata": {},
   "outputs": [
    {
     "data": {
      "application/vnd.plotly.v1+json": {
       "config": {
        "plotlyServerURL": "https://plot.ly"
       },
       "data": [
        {
         "alignmentgroup": "True",
         "boxpoints": "all",
         "hovertemplate": "EEG Channel=%{x}<br>ΔSNR=%{y}<extra></extra>",
         "legendgroup": "A1",
         "marker": {
          "color": "#636efa"
         },
         "name": "A1",
         "notched": false,
         "offsetgroup": "A1",
         "orientation": "v",
         "showlegend": true,
         "type": "box",
         "x": [
          "A1",
          "A1",
          "A1",
          "A1",
          "A1",
          "A1"
         ],
         "x0": " ",
         "xaxis": "x",
         "y": {
          "bdata": "OMZFXOu9gz90M+atfju3P3A5jIF/X5e/UKuRewoRw7/8hFnBFXCsvwBK9aZncri/",
          "dtype": "f8"
         },
         "y0": " ",
         "yaxis": "y"
        },
        {
         "alignmentgroup": "True",
         "boxpoints": "all",
         "hovertemplate": "EEG Channel=%{x}<br>ΔSNR=%{y}<extra></extra>",
         "legendgroup": "A2",
         "marker": {
          "color": "#EF553B"
         },
         "name": "A2",
         "notched": false,
         "offsetgroup": "A2",
         "orientation": "v",
         "showlegend": true,
         "type": "box",
         "x": [
          "A2",
          "A2",
          "A2",
          "A2",
          "A2",
          "A2"
         ],
         "x0": " ",
         "xaxis": "x",
         "y": {
          "bdata": "hIsOFuuwpb8c1L2+Fv2Vv7Bmv788apG/sIupipdNkj/QikbHPax9P+RSu3ibQpg/",
          "dtype": "f8"
         },
         "y0": " ",
         "yaxis": "y"
        },
        {
         "alignmentgroup": "True",
         "boxpoints": "all",
         "hovertemplate": "EEG Channel=%{x}<br>ΔSNR=%{y}<extra></extra>",
         "legendgroup": "A3",
         "marker": {
          "color": "#00cc96"
         },
         "name": "A3",
         "notched": false,
         "offsetgroup": "A3",
         "orientation": "v",
         "showlegend": true,
         "type": "box",
         "x": [
          "A3",
          "A3",
          "A3",
          "A3",
          "A3",
          "A3"
         ],
         "x0": " ",
         "xaxis": "x",
         "y": {
          "bdata": "IXjBH9frtb8QGmJnXxWRv/BvRoTWNYQ/QKCcklj3kL9AONVpaIWHPw6SfHFQfbq/",
          "dtype": "f8"
         },
         "y0": " ",
         "yaxis": "y"
        },
        {
         "alignmentgroup": "True",
         "boxpoints": "all",
         "hovertemplate": "EEG Channel=%{x}<br>ΔSNR=%{y}<extra></extra>",
         "legendgroup": "A4",
         "marker": {
          "color": "#ab63fa"
         },
         "name": "A4",
         "notched": false,
         "offsetgroup": "A4",
         "orientation": "v",
         "showlegend": true,
         "type": "box",
         "x": [
          "A4",
          "A4",
          "A4",
          "A4",
          "A4",
          "A4"
         ],
         "x0": " ",
         "xaxis": "x",
         "y": {
          "bdata": "8EX7WqK+e79i357EAF6vP0AbhNYzfZ0/82bNK8aet7+MwIZP4YGUv/BpR9pqcoy/",
          "dtype": "f8"
         },
         "y0": " ",
         "yaxis": "y"
        },
        {
         "alignmentgroup": "True",
         "boxpoints": "all",
         "hovertemplate": "EEG Channel=%{x}<br>ΔSNR=%{y}<extra></extra>",
         "legendgroup": "A5",
         "marker": {
          "color": "#FFA15A"
         },
         "name": "A5",
         "notched": false,
         "offsetgroup": "A5",
         "orientation": "v",
         "showlegend": true,
         "type": "box",
         "x": [
          "A5",
          "A5",
          "A5",
          "A5",
          "A5",
          "A5"
         ],
         "x0": " ",
         "xaxis": "x",
         "y": {
          "bdata": "eEiFEwdbhz8whfXpP3uDP7AHdX8J7pA/rJDv8kWKo7/2azMTvGOZv6jGQF4OxoK/",
          "dtype": "f8"
         },
         "y0": " ",
         "yaxis": "y"
        },
        {
         "alignmentgroup": "True",
         "boxpoints": "all",
         "hovertemplate": "EEG Channel=%{x}<br>ΔSNR=%{y}<extra></extra>",
         "legendgroup": "A6",
         "marker": {
          "color": "#19d3f3"
         },
         "name": "A6",
         "notched": false,
         "offsetgroup": "A6",
         "orientation": "v",
         "showlegend": true,
         "type": "box",
         "x": [
          "A6",
          "A6",
          "A6",
          "A6",
          "A6",
          "A6"
         ],
         "x0": " ",
         "xaxis": "x",
         "y": {
          "bdata": "8ESHF+IHoj8Ar+8BYIOEv4o6YKaM3KQ/+ChsT74TrL/QhUtLLM/Kv1aXb+ZHQse/",
          "dtype": "f8"
         },
         "y0": " ",
         "yaxis": "y"
        },
        {
         "alignmentgroup": "True",
         "boxpoints": "all",
         "hovertemplate": "EEG Channel=%{x}<br>ΔSNR=%{y}<extra></extra>",
         "legendgroup": "A7",
         "marker": {
          "color": "#FF6692"
         },
         "name": "A7",
         "notched": false,
         "offsetgroup": "A7",
         "orientation": "v",
         "showlegend": true,
         "type": "box",
         "x": [
          "A7",
          "A7",
          "A7",
          "A7",
          "A7",
          "A7"
         ],
         "x0": " ",
         "xaxis": "x",
         "y": {
          "bdata": "WASJeLNDib+CV/g91GiiPwgfM4iB+aM/cB+VitpUoj+gCNkMxfSBvwCoPRrlc1m/",
          "dtype": "f8"
         },
         "y0": " ",
         "yaxis": "y"
        },
        {
         "alignmentgroup": "True",
         "boxpoints": "all",
         "hovertemplate": "EEG Channel=%{x}<br>ΔSNR=%{y}<extra></extra>",
         "legendgroup": "A8",
         "marker": {
          "color": "#B6E880"
         },
         "name": "A8",
         "notched": false,
         "offsetgroup": "A8",
         "orientation": "v",
         "showlegend": true,
         "type": "box",
         "x": [
          "A8",
          "A8",
          "A8",
          "A8",
          "A8",
          "A8"
         ],
         "x0": " ",
         "xaxis": "x",
         "y": {
          "bdata": "SOK7DV7qcb/ktVSJM2GFv/w6SMoSwqU/Ljgqg88kpj8AY1iADaU/PyhJRsklY4E/",
          "dtype": "f8"
         },
         "y0": " ",
         "yaxis": "y"
        }
       ],
       "layout": {
        "boxmode": "overlay",
        "legend": {
         "title": {
          "text": "EEG Channel"
         },
         "tracegroupgap": 0
        },
        "template": {
         "data": {
          "bar": [
           {
            "error_x": {
             "color": "#2a3f5f"
            },
            "error_y": {
             "color": "#2a3f5f"
            },
            "marker": {
             "line": {
              "color": "#E5ECF6",
              "width": 0.5
             },
             "pattern": {
              "fillmode": "overlay",
              "size": 10,
              "solidity": 0.2
             }
            },
            "type": "bar"
           }
          ],
          "barpolar": [
           {
            "marker": {
             "line": {
              "color": "#E5ECF6",
              "width": 0.5
             },
             "pattern": {
              "fillmode": "overlay",
              "size": 10,
              "solidity": 0.2
             }
            },
            "type": "barpolar"
           }
          ],
          "carpet": [
           {
            "aaxis": {
             "endlinecolor": "#2a3f5f",
             "gridcolor": "white",
             "linecolor": "white",
             "minorgridcolor": "white",
             "startlinecolor": "#2a3f5f"
            },
            "baxis": {
             "endlinecolor": "#2a3f5f",
             "gridcolor": "white",
             "linecolor": "white",
             "minorgridcolor": "white",
             "startlinecolor": "#2a3f5f"
            },
            "type": "carpet"
           }
          ],
          "choropleth": [
           {
            "colorbar": {
             "outlinewidth": 0,
             "ticks": ""
            },
            "type": "choropleth"
           }
          ],
          "contour": [
           {
            "colorbar": {
             "outlinewidth": 0,
             "ticks": ""
            },
            "colorscale": [
             [
              0,
              "#0d0887"
             ],
             [
              0.1111111111111111,
              "#46039f"
             ],
             [
              0.2222222222222222,
              "#7201a8"
             ],
             [
              0.3333333333333333,
              "#9c179e"
             ],
             [
              0.4444444444444444,
              "#bd3786"
             ],
             [
              0.5555555555555556,
              "#d8576b"
             ],
             [
              0.6666666666666666,
              "#ed7953"
             ],
             [
              0.7777777777777778,
              "#fb9f3a"
             ],
             [
              0.8888888888888888,
              "#fdca26"
             ],
             [
              1,
              "#f0f921"
             ]
            ],
            "type": "contour"
           }
          ],
          "contourcarpet": [
           {
            "colorbar": {
             "outlinewidth": 0,
             "ticks": ""
            },
            "type": "contourcarpet"
           }
          ],
          "heatmap": [
           {
            "colorbar": {
             "outlinewidth": 0,
             "ticks": ""
            },
            "colorscale": [
             [
              0,
              "#0d0887"
             ],
             [
              0.1111111111111111,
              "#46039f"
             ],
             [
              0.2222222222222222,
              "#7201a8"
             ],
             [
              0.3333333333333333,
              "#9c179e"
             ],
             [
              0.4444444444444444,
              "#bd3786"
             ],
             [
              0.5555555555555556,
              "#d8576b"
             ],
             [
              0.6666666666666666,
              "#ed7953"
             ],
             [
              0.7777777777777778,
              "#fb9f3a"
             ],
             [
              0.8888888888888888,
              "#fdca26"
             ],
             [
              1,
              "#f0f921"
             ]
            ],
            "type": "heatmap"
           }
          ],
          "histogram": [
           {
            "marker": {
             "pattern": {
              "fillmode": "overlay",
              "size": 10,
              "solidity": 0.2
             }
            },
            "type": "histogram"
           }
          ],
          "histogram2d": [
           {
            "colorbar": {
             "outlinewidth": 0,
             "ticks": ""
            },
            "colorscale": [
             [
              0,
              "#0d0887"
             ],
             [
              0.1111111111111111,
              "#46039f"
             ],
             [
              0.2222222222222222,
              "#7201a8"
             ],
             [
              0.3333333333333333,
              "#9c179e"
             ],
             [
              0.4444444444444444,
              "#bd3786"
             ],
             [
              0.5555555555555556,
              "#d8576b"
             ],
             [
              0.6666666666666666,
              "#ed7953"
             ],
             [
              0.7777777777777778,
              "#fb9f3a"
             ],
             [
              0.8888888888888888,
              "#fdca26"
             ],
             [
              1,
              "#f0f921"
             ]
            ],
            "type": "histogram2d"
           }
          ],
          "histogram2dcontour": [
           {
            "colorbar": {
             "outlinewidth": 0,
             "ticks": ""
            },
            "colorscale": [
             [
              0,
              "#0d0887"
             ],
             [
              0.1111111111111111,
              "#46039f"
             ],
             [
              0.2222222222222222,
              "#7201a8"
             ],
             [
              0.3333333333333333,
              "#9c179e"
             ],
             [
              0.4444444444444444,
              "#bd3786"
             ],
             [
              0.5555555555555556,
              "#d8576b"
             ],
             [
              0.6666666666666666,
              "#ed7953"
             ],
             [
              0.7777777777777778,
              "#fb9f3a"
             ],
             [
              0.8888888888888888,
              "#fdca26"
             ],
             [
              1,
              "#f0f921"
             ]
            ],
            "type": "histogram2dcontour"
           }
          ],
          "mesh3d": [
           {
            "colorbar": {
             "outlinewidth": 0,
             "ticks": ""
            },
            "type": "mesh3d"
           }
          ],
          "parcoords": [
           {
            "line": {
             "colorbar": {
              "outlinewidth": 0,
              "ticks": ""
             }
            },
            "type": "parcoords"
           }
          ],
          "pie": [
           {
            "automargin": true,
            "type": "pie"
           }
          ],
          "scatter": [
           {
            "fillpattern": {
             "fillmode": "overlay",
             "size": 10,
             "solidity": 0.2
            },
            "type": "scatter"
           }
          ],
          "scatter3d": [
           {
            "line": {
             "colorbar": {
              "outlinewidth": 0,
              "ticks": ""
             }
            },
            "marker": {
             "colorbar": {
              "outlinewidth": 0,
              "ticks": ""
             }
            },
            "type": "scatter3d"
           }
          ],
          "scattercarpet": [
           {
            "marker": {
             "colorbar": {
              "outlinewidth": 0,
              "ticks": ""
             }
            },
            "type": "scattercarpet"
           }
          ],
          "scattergeo": [
           {
            "marker": {
             "colorbar": {
              "outlinewidth": 0,
              "ticks": ""
             }
            },
            "type": "scattergeo"
           }
          ],
          "scattergl": [
           {
            "marker": {
             "colorbar": {
              "outlinewidth": 0,
              "ticks": ""
             }
            },
            "type": "scattergl"
           }
          ],
          "scattermap": [
           {
            "marker": {
             "colorbar": {
              "outlinewidth": 0,
              "ticks": ""
             }
            },
            "type": "scattermap"
           }
          ],
          "scattermapbox": [
           {
            "marker": {
             "colorbar": {
              "outlinewidth": 0,
              "ticks": ""
             }
            },
            "type": "scattermapbox"
           }
          ],
          "scatterpolar": [
           {
            "marker": {
             "colorbar": {
              "outlinewidth": 0,
              "ticks": ""
             }
            },
            "type": "scatterpolar"
           }
          ],
          "scatterpolargl": [
           {
            "marker": {
             "colorbar": {
              "outlinewidth": 0,
              "ticks": ""
             }
            },
            "type": "scatterpolargl"
           }
          ],
          "scatterternary": [
           {
            "marker": {
             "colorbar": {
              "outlinewidth": 0,
              "ticks": ""
             }
            },
            "type": "scatterternary"
           }
          ],
          "surface": [
           {
            "colorbar": {
             "outlinewidth": 0,
             "ticks": ""
            },
            "colorscale": [
             [
              0,
              "#0d0887"
             ],
             [
              0.1111111111111111,
              "#46039f"
             ],
             [
              0.2222222222222222,
              "#7201a8"
             ],
             [
              0.3333333333333333,
              "#9c179e"
             ],
             [
              0.4444444444444444,
              "#bd3786"
             ],
             [
              0.5555555555555556,
              "#d8576b"
             ],
             [
              0.6666666666666666,
              "#ed7953"
             ],
             [
              0.7777777777777778,
              "#fb9f3a"
             ],
             [
              0.8888888888888888,
              "#fdca26"
             ],
             [
              1,
              "#f0f921"
             ]
            ],
            "type": "surface"
           }
          ],
          "table": [
           {
            "cells": {
             "fill": {
              "color": "#EBF0F8"
             },
             "line": {
              "color": "white"
             }
            },
            "header": {
             "fill": {
              "color": "#C8D4E3"
             },
             "line": {
              "color": "white"
             }
            },
            "type": "table"
           }
          ]
         },
         "layout": {
          "annotationdefaults": {
           "arrowcolor": "#2a3f5f",
           "arrowhead": 0,
           "arrowwidth": 1
          },
          "autotypenumbers": "strict",
          "coloraxis": {
           "colorbar": {
            "outlinewidth": 0,
            "ticks": ""
           }
          },
          "colorscale": {
           "diverging": [
            [
             0,
             "#8e0152"
            ],
            [
             0.1,
             "#c51b7d"
            ],
            [
             0.2,
             "#de77ae"
            ],
            [
             0.3,
             "#f1b6da"
            ],
            [
             0.4,
             "#fde0ef"
            ],
            [
             0.5,
             "#f7f7f7"
            ],
            [
             0.6,
             "#e6f5d0"
            ],
            [
             0.7,
             "#b8e186"
            ],
            [
             0.8,
             "#7fbc41"
            ],
            [
             0.9,
             "#4d9221"
            ],
            [
             1,
             "#276419"
            ]
           ],
           "sequential": [
            [
             0,
             "#0d0887"
            ],
            [
             0.1111111111111111,
             "#46039f"
            ],
            [
             0.2222222222222222,
             "#7201a8"
            ],
            [
             0.3333333333333333,
             "#9c179e"
            ],
            [
             0.4444444444444444,
             "#bd3786"
            ],
            [
             0.5555555555555556,
             "#d8576b"
            ],
            [
             0.6666666666666666,
             "#ed7953"
            ],
            [
             0.7777777777777778,
             "#fb9f3a"
            ],
            [
             0.8888888888888888,
             "#fdca26"
            ],
            [
             1,
             "#f0f921"
            ]
           ],
           "sequentialminus": [
            [
             0,
             "#0d0887"
            ],
            [
             0.1111111111111111,
             "#46039f"
            ],
            [
             0.2222222222222222,
             "#7201a8"
            ],
            [
             0.3333333333333333,
             "#9c179e"
            ],
            [
             0.4444444444444444,
             "#bd3786"
            ],
            [
             0.5555555555555556,
             "#d8576b"
            ],
            [
             0.6666666666666666,
             "#ed7953"
            ],
            [
             0.7777777777777778,
             "#fb9f3a"
            ],
            [
             0.8888888888888888,
             "#fdca26"
            ],
            [
             1,
             "#f0f921"
            ]
           ]
          },
          "colorway": [
           "#636efa",
           "#EF553B",
           "#00cc96",
           "#ab63fa",
           "#FFA15A",
           "#19d3f3",
           "#FF6692",
           "#B6E880",
           "#FF97FF",
           "#FECB52"
          ],
          "font": {
           "color": "#2a3f5f"
          },
          "geo": {
           "bgcolor": "white",
           "lakecolor": "white",
           "landcolor": "#E5ECF6",
           "showlakes": true,
           "showland": true,
           "subunitcolor": "white"
          },
          "hoverlabel": {
           "align": "left"
          },
          "hovermode": "closest",
          "mapbox": {
           "style": "light"
          },
          "paper_bgcolor": "white",
          "plot_bgcolor": "#E5ECF6",
          "polar": {
           "angularaxis": {
            "gridcolor": "white",
            "linecolor": "white",
            "ticks": ""
           },
           "bgcolor": "#E5ECF6",
           "radialaxis": {
            "gridcolor": "white",
            "linecolor": "white",
            "ticks": ""
           }
          },
          "scene": {
           "xaxis": {
            "backgroundcolor": "#E5ECF6",
            "gridcolor": "white",
            "gridwidth": 2,
            "linecolor": "white",
            "showbackground": true,
            "ticks": "",
            "zerolinecolor": "white"
           },
           "yaxis": {
            "backgroundcolor": "#E5ECF6",
            "gridcolor": "white",
            "gridwidth": 2,
            "linecolor": "white",
            "showbackground": true,
            "ticks": "",
            "zerolinecolor": "white"
           },
           "zaxis": {
            "backgroundcolor": "#E5ECF6",
            "gridcolor": "white",
            "gridwidth": 2,
            "linecolor": "white",
            "showbackground": true,
            "ticks": "",
            "zerolinecolor": "white"
           }
          },
          "shapedefaults": {
           "line": {
            "color": "#2a3f5f"
           }
          },
          "ternary": {
           "aaxis": {
            "gridcolor": "white",
            "linecolor": "white",
            "ticks": ""
           },
           "baxis": {
            "gridcolor": "white",
            "linecolor": "white",
            "ticks": ""
           },
           "bgcolor": "#E5ECF6",
           "caxis": {
            "gridcolor": "white",
            "linecolor": "white",
            "ticks": ""
           }
          },
          "title": {
           "x": 0.05
          },
          "xaxis": {
           "automargin": true,
           "gridcolor": "white",
           "linecolor": "white",
           "ticks": "",
           "title": {
            "standoff": 15
           },
           "zerolinecolor": "white",
           "zerolinewidth": 2
          },
          "yaxis": {
           "automargin": true,
           "gridcolor": "white",
           "linecolor": "white",
           "ticks": "",
           "title": {
            "standoff": 15
           },
           "zerolinecolor": "white",
           "zerolinewidth": 2
          }
         }
        },
        "title": {
         "text": "SNR Change (Second Half - First Half) by Channel"
        },
        "xaxis": {
         "anchor": "y",
         "categoryarray": [
          "A1",
          "A2",
          "A3",
          "A4",
          "A5",
          "A6",
          "A7",
          "A8"
         ],
         "categoryorder": "array",
         "domain": [
          0,
          1
         ],
         "title": {
          "text": "EEG Channel"
         }
        },
        "yaxis": {
         "anchor": "x",
         "domain": [
          0,
          1
         ],
         "title": {
          "text": "ΔSNR"
         }
        }
       }
      }
     },
     "metadata": {},
     "output_type": "display_data"
    },
    {
     "name": "stdout",
     "output_type": "stream",
     "text": [
      "--- All done!\n",
      "\n"
     ]
    }
   ],
   "source": [
    "# Process recordings\n",
    "def process_recording(active_recording):\n",
    "    \"\"\"\n",
    "    Loop through all recordings\n",
    "    for index, row in sessions.iterrows():\n",
    "        process_recording(row)\n",
    "    \"\"\"\n",
    "    # Filter the otree log\n",
    "    otree_active = otree_df[otree_df['participant.token']==active_recording.ID].reset_index(drop=True)\n",
    "    # display(otree_active)\n",
    "\n",
    "    # Extract timings (2 different options)\n",
    "    timestamps = get_actionlog_times(otree_active)\n",
    "    # Filter for the active recording\n",
    "    # timestamps = timestamps[timestamps.rec==active_recording.Run]\n",
    "    timestamps = timestamps.loc[timestamps['rec'] == active_recording.Run].copy()\n",
    "    \n",
    "    # Load EEG data\n",
    "    rec_folder = main_folder + active_recording.Rec_folder\n",
    "    eeg, load_report_dict = flows.load_exg_streams_data(rec_folder, chanlist=chans, report=False, cleanFile=True)\n",
    "    \n",
    "    # prprocessing with mne\n",
    "    # eeg, report = preprocess_eeg_mne(eeg, sfreq=fs, notch=False)\n",
    "    eeg, rep = flows.preprocess_eeg_mne(\n",
    "        eeg_df=eeg,\n",
    "        sfreq=float(globals().get('fs', 250.0)),\n",
    "        l_freq=min_freq, h_freq=max_freq,\n",
    "        notch=notch,             \n",
    "        average_ref=True,\n",
    "        auto_bad=True,\n",
    "        return_raw=False\n",
    "    )\n",
    "\n",
    "    #preprocessing\n",
    "    # proc = flows.initial_detrending(eeg[chans], fs = fs, low_freq = min_freq)\n",
    "    # proc = preprocess_eeg(eeg[chans], return_raw=False)\n",
    "    # eeg = pd.concat([eeg.drop(columns=chans), proc], axis=1)\n",
    "    # report[\"bad_channels\"]\n",
    "    # report[\"metrics\"].head()\n",
    "\n",
    "    # Now annotate (add condition timings) and cut the EEG Data\n",
    "    eeg = label_data(eeg, timestamps, cut=True, report=False)\n",
    "    \n",
    "    # TODO: Process signals now and extract features of interest\n",
    "    # TODO: Berger effect during EC/EO rest\n",
    "    # - So far only visualization\n",
    "    # - Can use flows.get_channel_band_power() to extract band powers instead\n",
    "    \n",
    "    # TODO: ASSR during rest\n",
    "    # - Not yet checked for correctness...\n",
    "    # Filter for EC/EO conditions\n",
    "    \n",
    "    pat = re.compile(r'(?<![A-Za-z])(?:eo|ec)(?![A-Za-z])', re.IGNORECASE) #robust matching to get all ec and eo but not include other words that might contain ec\n",
    "    mask = eeg[\"Condition\"].astype(str).str.contains(pat, na=False)\n",
    "    eo_ec_signals = eeg.loc[mask].copy()\n",
    "    # Do for each channel and condition\n",
    "    # print(eeg['Condition'])  TODO: Wollen wir uns hier nicht eigtl. nur die setups anschauen oder auch \"click_task_ec..\" ?\n",
    "    # print( \"signals:\",  eo_ec_signals)\n",
    "    eo_ec_signals = eo_ec_signals.drop(['TS_UNIX'], axis=1).melt(id_vars=\"Condition\", value_vars=chans, var_name=\"Channel\", value_name=\"mV\")\n",
    "    \n",
    "    snr_df = (\n",
    "        eo_ec_signals\n",
    "        .groupby([\"Condition\", \"Channel\"], observed=True)\n",
    "        .apply(lambda group: get_assr_snr(group), include_groups=False)\n",
    "        .reset_index()\n",
    "    )\n",
    "    snr_df\n",
    "\n",
    "    # Add the SNR difference to the DataFrame\n",
    "    snr_df[\"SNR_Diff\"] = snr_df[\"SNR_Second_Half\"] - snr_df[\"SNR_First_Half\"]\n",
    "    \n",
    "    # TODO: Other features...\n",
    "    return eeg, snr_df, load_report_dict\n",
    "\n",
    "# Process the recordings by looping through the mapping file\n",
    "# For a single participant\n",
    "active_recording = sessions.iloc[9]\n",
    "eeg, snr_df, load_report_dict = process_recording(active_recording)\n",
    "\n",
    "\n",
    "fig = px.box(\n",
    "    snr_df,\n",
    "    x=\"Channel\",\n",
    "    y=\"SNR_Diff\",\n",
    "    points=\"all\",  # show individual data points\n",
    "    color=\"Channel\",  # optional: adds color by channel\n",
    "    title=\"SNR Change (Second Half - First Half) by Channel\",\n",
    "    labels={\"SNR_Diff\": \"ΔSNR\", \"Channel\": \"EEG Channel\"}\n",
    ")\n",
    "\n",
    "fig.show()\n",
    "\n",
    "print('--- All done!\\n')"
   ]
  },
  {
   "cell_type": "code",
   "execution_count": 9,
   "metadata": {},
   "outputs": [
    {
     "data": {
      "application/vnd.plotly.v1+json": {
       "config": {
        "plotlyServerURL": "https://plot.ly"
       },
       "data": [
        {
         "hovertemplate": "Condition=ec<br>Frequency=%{x}<br>Power=%{y}<extra></extra>",
         "legendgroup": "ec",
         "line": {
          "color": "#FF97FF",
          "dash": "solid"
         },
         "marker": {
          "symbol": "circle"
         },
         "mode": "lines",
         "name": "ec",
         "orientation": "v",
         "showlegend": true,
         "type": "scatter",
         "x": {
          "bdata": "AAAAAAAAAEAAAAAAAAAEQAAAAAAAAAhAAAAAAAAADEAAAAAAAAAQQAAAAAAAABJAAAAAAAAAFEAAAAAAAAAWQAAAAAAAABhAAAAAAAAAGkAAAAAAAAAcQAAAAAAAAB5AAAAAAAAAIEAAAAAAAAAhQAAAAAAAACJAAAAAAAAAI0AAAAAAAAAkQAAAAAAAACVAAAAAAAAAJkAAAAAAAAAnQAAAAAAAAChAAAAAAAAAKUAAAAAAAAAqQAAAAAAAACtAAAAAAAAALEAAAAAAAAAtQAAAAAAAAC5AAAAAAAAAL0AAAAAAAAAwQAAAAAAAgDBAAAAAAAAAMUAAAAAAAIAxQAAAAAAAADJAAAAAAACAMkAAAAAAAAAzQAAAAAAAgDNAAAAAAAAANEAAAAAAAIA0QAAAAAAAADVAAAAAAACANUAAAAAAAAA2QAAAAAAAgDZAAAAAAAAAN0AAAAAAAIA3QAAAAAAAADhAAAAAAACAOEAAAAAAAAA5QAAAAAAAgDlAAAAAAAAAOkAAAAAAAIA6QAAAAAAAADtAAAAAAACAO0AAAAAAAAA8QAAAAAAAgDxAAAAAAAAAPUAAAAAAAIA9QAAAAAAAAD5AAAAAAACAPkAAAAAAAAA/QAAAAAAAgD9AAAAAAAAAQEAAAAAAAEBAQAAAAAAAgEBAAAAAAADAQEAAAAAAAABBQAAAAAAAQEFAAAAAAACAQUAAAAAAAMBBQAAAAAAAAEJAAAAAAABAQkAAAAAAAIBCQAAAAAAAwEJAAAAAAAAAQ0AAAAAAAEBDQAAAAAAAgENAAAAAAADAQ0AAAAAAAABEQAAAAAAAQERAAAAAAACAREAAAAAAAMBEQAAAAAAAAEVAAAAAAABARUAAAAAAAIBFQAAAAAAAwEVAAAAAAAAARkAAAAAAAEBGQAAAAAAAgEZAAAAAAADARkAAAAAAAABHQAAAAAAAQEdAAAAAAACAR0AAAAAAAMBHQAAAAAAAAEhAAAAAAABASEAAAAAAAIBIQAAAAAAAwEhAAAAAAAAASUAAAAAAAEBJQAAAAAAAgElAAAAAAADASUAAAAAAAABKQAAAAAAAQEpAAAAAAACASkAAAAAAAMBKQAAAAAAAAEtAAAAAAABAS0AAAAAAAIBLQAAAAAAAwEtAAAAAAAAATEAAAAAAAEBMQAAAAAAAgExAAAAAAADATEAAAAAAAABNQAAAAAAAQE1AAAAAAACATUAAAAAAAMBNQAAAAAAAAE5A",
          "dtype": "f8"
         },
         "xaxis": "x",
         "y": {
          "bdata": "Ly3GBCPiHUAsexN3pqsVQHGGVS4tsA5AcvV129RCBkDkds86chABQM+qK2WgYfs/8qV+/hfQ9j92Ah/yKCD0P1T9lodJVvM/ptsHIAI+9D/ccmplEcz1P2oYB0auV/c/hCsfVXEY+j/lwRjLoXQAQJAQogAiYAdAlnJDb+vRD0CakkgBYDMRQJ/vjjO9JAtATCvtVsPaAEBOA3JoEfH3P+LNweHG4/c/gIIbh9c69j/ad4kVfYPvPw6n0WE7veM/ZFhxGr2u2z9vkYEmxXnUP5fiRdson9A/ix2j6pLk0j/siZbD8qDYP0SXdPRwSdw/bB3nCjBR3D9KZZcSxzvbP9zCdu26ndo/ICC8JMk72j985RY/CKTZP7RuMWi7rdg/2lAs2Ayi1z9Ki7bXlY/WP6of6csKZ9U/ko2V/aVv1D/Xw6r6WnjTPzR9MxI+atI/atGT0hou0j+04xBPFe3TP97gByhBitc//wOQvBjx2T+SPqG9AhvYP3Ij+9bA89M/OGnBGAkN0T9zk6OmHmfPP5QB9hw4280/spzSb/VAzT/gq6p1203NP6k/h8m+h80/XCXmnt7uzT+hlqhqBT7OP2Uzddngbc4/VCqxkNTAzj9kDLMFnYPOP+E5Pv9LFM0/uhAnX25Jyz8SD9qd4GvKP0EtuFuXS8s/FdeKGgYszT9LTD+44q7NP8xFJKxuasw/RijpMclLyz+9t6k4G1nLP2yF6cIg0Mw/7c9QRhrszj8yvVtjxrTPP4AMC8EY3M4//ldavyFyzT8500GKI73LP46uMqtq5Mk/0havoANRyD8x5yfv2iPHP7UxA9bMTMY/9Pxxf7UCxj+CyBT3iwnHP1moVY/1L8k/aG4rmHSDyj+og3nit/jJPzgYDlVTjcg/3bf6zyESxz+uj5IEQr3FPypujVCtMsU/eM/3FjNGxT82LE46QuHEP2bffoiAd8Q/Z0hpS5PixD8C94F1EYXFP46LjgDnQsY/x+Q+KSzuxz+GnxmuuY7LP87jBlLgG9A/KK4TPQBL0D+/qri+b2fKP8ylJp1mbcM/sytlJqc5wD/LmPj6ieS/P7ApuQuN9cA/hOxKRSs9wj+YTjiT1/PCP1O7H4Iz2MI/w58Ee543wj/6IccbxrPBP11LRQwCwsE/tx4v1gIQwj8HA3hDeuXBPwYGg+ORDcE/as1WxAvYvz/bpS2qHNG+P3o1o8RDBsA//7PYlnSRwD9irnkYXuu/P1Nv9jsszL4/",
          "dtype": "f8"
         },
         "yaxis": "y"
        },
        {
         "hovertemplate": "Condition=eo<br>Frequency=%{x}<br>Power=%{y}<extra></extra>",
         "legendgroup": "eo",
         "line": {
          "color": "#FECB52",
          "dash": "solid"
         },
         "marker": {
          "symbol": "circle"
         },
         "mode": "lines",
         "name": "eo",
         "orientation": "v",
         "showlegend": true,
         "type": "scatter",
         "x": {
          "bdata": "AAAAAAAAAEAAAAAAAAAEQAAAAAAAAAhAAAAAAAAADEAAAAAAAAAQQAAAAAAAABJAAAAAAAAAFEAAAAAAAAAWQAAAAAAAABhAAAAAAAAAGkAAAAAAAAAcQAAAAAAAAB5AAAAAAAAAIEAAAAAAAAAhQAAAAAAAACJAAAAAAAAAI0AAAAAAAAAkQAAAAAAAACVAAAAAAAAAJkAAAAAAAAAnQAAAAAAAAChAAAAAAAAAKUAAAAAAAAAqQAAAAAAAACtAAAAAAAAALEAAAAAAAAAtQAAAAAAAAC5AAAAAAAAAL0AAAAAAAAAwQAAAAAAAgDBAAAAAAAAAMUAAAAAAAIAxQAAAAAAAADJAAAAAAACAMkAAAAAAAAAzQAAAAAAAgDNAAAAAAAAANEAAAAAAAIA0QAAAAAAAADVAAAAAAACANUAAAAAAAAA2QAAAAAAAgDZAAAAAAAAAN0AAAAAAAIA3QAAAAAAAADhAAAAAAACAOEAAAAAAAAA5QAAAAAAAgDlAAAAAAAAAOkAAAAAAAIA6QAAAAAAAADtAAAAAAACAO0AAAAAAAAA8QAAAAAAAgDxAAAAAAAAAPUAAAAAAAIA9QAAAAAAAAD5AAAAAAACAPkAAAAAAAAA/QAAAAAAAgD9AAAAAAAAAQEAAAAAAAEBAQAAAAAAAgEBAAAAAAADAQEAAAAAAAABBQAAAAAAAQEFAAAAAAACAQUAAAAAAAMBBQAAAAAAAAEJAAAAAAABAQkAAAAAAAIBCQAAAAAAAwEJAAAAAAAAAQ0AAAAAAAEBDQAAAAAAAgENAAAAAAADAQ0AAAAAAAABEQAAAAAAAQERAAAAAAACAREAAAAAAAMBEQAAAAAAAAEVAAAAAAABARUAAAAAAAIBFQAAAAAAAwEVAAAAAAAAARkAAAAAAAEBGQAAAAAAAgEZAAAAAAADARkAAAAAAAABHQAAAAAAAQEdAAAAAAACAR0AAAAAAAMBHQAAAAAAAAEhAAAAAAABASEAAAAAAAIBIQAAAAAAAwEhAAAAAAAAASUAAAAAAAEBJQAAAAAAAgElAAAAAAADASUAAAAAAAABKQAAAAAAAQEpAAAAAAACASkAAAAAAAMBKQAAAAAAAAEtAAAAAAABAS0AAAAAAAIBLQAAAAAAAwEtAAAAAAAAATEAAAAAAAEBMQAAAAAAAgExAAAAAAADATEAAAAAAAABNQAAAAAAAQE1AAAAAAACATUAAAAAAAMBNQAAAAAAAAE5A",
          "dtype": "f8"
         },
         "xaxis": "x",
         "y": {
          "bdata": "7GYvn/RtOUAOKs0yrHIxQKHXRYri7SNAtOwDnVETF0BoWT8ZmxkQQM8VpzQ8FwhAyI9+Po0PAUAKScjtsXn4P/pg+4QbbvQ/kiGIDXRb8z9o+YOBgHTyP4AO4Q91wPE/TtsF3Q8S8j8m37yVCHHyP2J7waeCz/E/mEDuaQGV8D/qVt9Qal/uP96cespgr+s/nhAiMf+A6z/hs59nL1fwP1z8NEqRxvM/dh8VFd5A8z8gnsm9GqfsPwc0LdciR+M/WHJIqnAr3D8koxLm1pDUP4ZMY3jWk9A/hNfXY/190z/Cp3+vjzjZP7OA9ruzVd0/bkBLDpZe4D/IpQTv6RbiP+qsYVvPH+M/+6h7KsAU4z8+/9kIqiriP5k2QBFaMOE/esdbVWa74D+PjhIELl7gP1gKLKoaCeA/4LGVgz4j4D9BamrvsRfgP7vKwpWLit4/mdYgj+xw3D9U2Ty8xTDcPy6Ox6z9nN4/ZblBzDM+4D+AGOoi2QPeP2h0ZZbGCdk/62YCm5yZ1T/MruGdgNbTP21GTDDvvdI/q05/ocGc0j/4kP8S+9jSP2jraWuHz9I/JeeynRvX0j+ACeFtG9LSP8DQKzYK1NI/njwYyYxS0z9t0vsezZ7TPxKSiVCz+9I/8Kz07U5T0j/814wtQczSP0xkjp5KVtQ/2WVflTPu1T9kXhKRzCTWP3bSzLH74NQ/3xY2yzri0z8WY8rjBgvUP4NbpyO2kdQ/nAXO8K2f1D+2Mg2t/+PTP3STGDW+AtM/WM6XSfrM0j+EJpAlEZjSP+BeADlG0NE/iWoIxVsg0T+6GEhWhLDQPzOuUDm6UNA/ou46Agtv0D+US5jMekTRPym9ZSy6PNI/uRhwQNhq0j96r4sjLLLRP3DKWJcRC9E/CxK+HG/x0D+5ig2JeMzQP1NSsjC9ZtA/sKcRamNW0D/eQSiKMIDQP/A4Di2oHtA/2qnkxAb4zj8iV+d/hW7PP8GDz9vX3dA/RgWldAjf0T8DHc5A9LLSP5Sa9nCv2NM/vm/Hvn/I0z9/Xn46fV7RP+0FenVLGM0//2A5Q4mwyj/OzyNuhfLKPybdyonBQcs/HOLb8pDByj8ck/VOHYXKP+gcWdJBC8s/xlujY6tvyz/mMvxWjbfKPyOZ0WyqSMk/RmPUQldQyD8V84QymFPIP/DlijWW8sg/il+KveMiyT8Q8niSZqDIP1GsGOMWEsg/ZrgQ8uB1xz/AmUNguafGPwYDS9OfDMY/",
          "dtype": "f8"
         },
         "yaxis": "y"
        }
       ],
       "layout": {
        "legend": {
         "title": {
          "text": "Condition"
         },
         "tracegroupgap": 0
        },
        "margin": {
         "t": 60
        },
        "template": {
         "data": {
          "bar": [
           {
            "error_x": {
             "color": "#2a3f5f"
            },
            "error_y": {
             "color": "#2a3f5f"
            },
            "marker": {
             "line": {
              "color": "#E5ECF6",
              "width": 0.5
             },
             "pattern": {
              "fillmode": "overlay",
              "size": 10,
              "solidity": 0.2
             }
            },
            "type": "bar"
           }
          ],
          "barpolar": [
           {
            "marker": {
             "line": {
              "color": "#E5ECF6",
              "width": 0.5
             },
             "pattern": {
              "fillmode": "overlay",
              "size": 10,
              "solidity": 0.2
             }
            },
            "type": "barpolar"
           }
          ],
          "carpet": [
           {
            "aaxis": {
             "endlinecolor": "#2a3f5f",
             "gridcolor": "white",
             "linecolor": "white",
             "minorgridcolor": "white",
             "startlinecolor": "#2a3f5f"
            },
            "baxis": {
             "endlinecolor": "#2a3f5f",
             "gridcolor": "white",
             "linecolor": "white",
             "minorgridcolor": "white",
             "startlinecolor": "#2a3f5f"
            },
            "type": "carpet"
           }
          ],
          "choropleth": [
           {
            "colorbar": {
             "outlinewidth": 0,
             "ticks": ""
            },
            "type": "choropleth"
           }
          ],
          "contour": [
           {
            "colorbar": {
             "outlinewidth": 0,
             "ticks": ""
            },
            "colorscale": [
             [
              0,
              "#0d0887"
             ],
             [
              0.1111111111111111,
              "#46039f"
             ],
             [
              0.2222222222222222,
              "#7201a8"
             ],
             [
              0.3333333333333333,
              "#9c179e"
             ],
             [
              0.4444444444444444,
              "#bd3786"
             ],
             [
              0.5555555555555556,
              "#d8576b"
             ],
             [
              0.6666666666666666,
              "#ed7953"
             ],
             [
              0.7777777777777778,
              "#fb9f3a"
             ],
             [
              0.8888888888888888,
              "#fdca26"
             ],
             [
              1,
              "#f0f921"
             ]
            ],
            "type": "contour"
           }
          ],
          "contourcarpet": [
           {
            "colorbar": {
             "outlinewidth": 0,
             "ticks": ""
            },
            "type": "contourcarpet"
           }
          ],
          "heatmap": [
           {
            "colorbar": {
             "outlinewidth": 0,
             "ticks": ""
            },
            "colorscale": [
             [
              0,
              "#0d0887"
             ],
             [
              0.1111111111111111,
              "#46039f"
             ],
             [
              0.2222222222222222,
              "#7201a8"
             ],
             [
              0.3333333333333333,
              "#9c179e"
             ],
             [
              0.4444444444444444,
              "#bd3786"
             ],
             [
              0.5555555555555556,
              "#d8576b"
             ],
             [
              0.6666666666666666,
              "#ed7953"
             ],
             [
              0.7777777777777778,
              "#fb9f3a"
             ],
             [
              0.8888888888888888,
              "#fdca26"
             ],
             [
              1,
              "#f0f921"
             ]
            ],
            "type": "heatmap"
           }
          ],
          "histogram": [
           {
            "marker": {
             "pattern": {
              "fillmode": "overlay",
              "size": 10,
              "solidity": 0.2
             }
            },
            "type": "histogram"
           }
          ],
          "histogram2d": [
           {
            "colorbar": {
             "outlinewidth": 0,
             "ticks": ""
            },
            "colorscale": [
             [
              0,
              "#0d0887"
             ],
             [
              0.1111111111111111,
              "#46039f"
             ],
             [
              0.2222222222222222,
              "#7201a8"
             ],
             [
              0.3333333333333333,
              "#9c179e"
             ],
             [
              0.4444444444444444,
              "#bd3786"
             ],
             [
              0.5555555555555556,
              "#d8576b"
             ],
             [
              0.6666666666666666,
              "#ed7953"
             ],
             [
              0.7777777777777778,
              "#fb9f3a"
             ],
             [
              0.8888888888888888,
              "#fdca26"
             ],
             [
              1,
              "#f0f921"
             ]
            ],
            "type": "histogram2d"
           }
          ],
          "histogram2dcontour": [
           {
            "colorbar": {
             "outlinewidth": 0,
             "ticks": ""
            },
            "colorscale": [
             [
              0,
              "#0d0887"
             ],
             [
              0.1111111111111111,
              "#46039f"
             ],
             [
              0.2222222222222222,
              "#7201a8"
             ],
             [
              0.3333333333333333,
              "#9c179e"
             ],
             [
              0.4444444444444444,
              "#bd3786"
             ],
             [
              0.5555555555555556,
              "#d8576b"
             ],
             [
              0.6666666666666666,
              "#ed7953"
             ],
             [
              0.7777777777777778,
              "#fb9f3a"
             ],
             [
              0.8888888888888888,
              "#fdca26"
             ],
             [
              1,
              "#f0f921"
             ]
            ],
            "type": "histogram2dcontour"
           }
          ],
          "mesh3d": [
           {
            "colorbar": {
             "outlinewidth": 0,
             "ticks": ""
            },
            "type": "mesh3d"
           }
          ],
          "parcoords": [
           {
            "line": {
             "colorbar": {
              "outlinewidth": 0,
              "ticks": ""
             }
            },
            "type": "parcoords"
           }
          ],
          "pie": [
           {
            "automargin": true,
            "type": "pie"
           }
          ],
          "scatter": [
           {
            "fillpattern": {
             "fillmode": "overlay",
             "size": 10,
             "solidity": 0.2
            },
            "type": "scatter"
           }
          ],
          "scatter3d": [
           {
            "line": {
             "colorbar": {
              "outlinewidth": 0,
              "ticks": ""
             }
            },
            "marker": {
             "colorbar": {
              "outlinewidth": 0,
              "ticks": ""
             }
            },
            "type": "scatter3d"
           }
          ],
          "scattercarpet": [
           {
            "marker": {
             "colorbar": {
              "outlinewidth": 0,
              "ticks": ""
             }
            },
            "type": "scattercarpet"
           }
          ],
          "scattergeo": [
           {
            "marker": {
             "colorbar": {
              "outlinewidth": 0,
              "ticks": ""
             }
            },
            "type": "scattergeo"
           }
          ],
          "scattergl": [
           {
            "marker": {
             "colorbar": {
              "outlinewidth": 0,
              "ticks": ""
             }
            },
            "type": "scattergl"
           }
          ],
          "scattermap": [
           {
            "marker": {
             "colorbar": {
              "outlinewidth": 0,
              "ticks": ""
             }
            },
            "type": "scattermap"
           }
          ],
          "scattermapbox": [
           {
            "marker": {
             "colorbar": {
              "outlinewidth": 0,
              "ticks": ""
             }
            },
            "type": "scattermapbox"
           }
          ],
          "scatterpolar": [
           {
            "marker": {
             "colorbar": {
              "outlinewidth": 0,
              "ticks": ""
             }
            },
            "type": "scatterpolar"
           }
          ],
          "scatterpolargl": [
           {
            "marker": {
             "colorbar": {
              "outlinewidth": 0,
              "ticks": ""
             }
            },
            "type": "scatterpolargl"
           }
          ],
          "scatterternary": [
           {
            "marker": {
             "colorbar": {
              "outlinewidth": 0,
              "ticks": ""
             }
            },
            "type": "scatterternary"
           }
          ],
          "surface": [
           {
            "colorbar": {
             "outlinewidth": 0,
             "ticks": ""
            },
            "colorscale": [
             [
              0,
              "#0d0887"
             ],
             [
              0.1111111111111111,
              "#46039f"
             ],
             [
              0.2222222222222222,
              "#7201a8"
             ],
             [
              0.3333333333333333,
              "#9c179e"
             ],
             [
              0.4444444444444444,
              "#bd3786"
             ],
             [
              0.5555555555555556,
              "#d8576b"
             ],
             [
              0.6666666666666666,
              "#ed7953"
             ],
             [
              0.7777777777777778,
              "#fb9f3a"
             ],
             [
              0.8888888888888888,
              "#fdca26"
             ],
             [
              1,
              "#f0f921"
             ]
            ],
            "type": "surface"
           }
          ],
          "table": [
           {
            "cells": {
             "fill": {
              "color": "#EBF0F8"
             },
             "line": {
              "color": "white"
             }
            },
            "header": {
             "fill": {
              "color": "#C8D4E3"
             },
             "line": {
              "color": "white"
             }
            },
            "type": "table"
           }
          ]
         },
         "layout": {
          "annotationdefaults": {
           "arrowcolor": "#2a3f5f",
           "arrowhead": 0,
           "arrowwidth": 1
          },
          "autotypenumbers": "strict",
          "coloraxis": {
           "colorbar": {
            "outlinewidth": 0,
            "ticks": ""
           }
          },
          "colorscale": {
           "diverging": [
            [
             0,
             "#8e0152"
            ],
            [
             0.1,
             "#c51b7d"
            ],
            [
             0.2,
             "#de77ae"
            ],
            [
             0.3,
             "#f1b6da"
            ],
            [
             0.4,
             "#fde0ef"
            ],
            [
             0.5,
             "#f7f7f7"
            ],
            [
             0.6,
             "#e6f5d0"
            ],
            [
             0.7,
             "#b8e186"
            ],
            [
             0.8,
             "#7fbc41"
            ],
            [
             0.9,
             "#4d9221"
            ],
            [
             1,
             "#276419"
            ]
           ],
           "sequential": [
            [
             0,
             "#0d0887"
            ],
            [
             0.1111111111111111,
             "#46039f"
            ],
            [
             0.2222222222222222,
             "#7201a8"
            ],
            [
             0.3333333333333333,
             "#9c179e"
            ],
            [
             0.4444444444444444,
             "#bd3786"
            ],
            [
             0.5555555555555556,
             "#d8576b"
            ],
            [
             0.6666666666666666,
             "#ed7953"
            ],
            [
             0.7777777777777778,
             "#fb9f3a"
            ],
            [
             0.8888888888888888,
             "#fdca26"
            ],
            [
             1,
             "#f0f921"
            ]
           ],
           "sequentialminus": [
            [
             0,
             "#0d0887"
            ],
            [
             0.1111111111111111,
             "#46039f"
            ],
            [
             0.2222222222222222,
             "#7201a8"
            ],
            [
             0.3333333333333333,
             "#9c179e"
            ],
            [
             0.4444444444444444,
             "#bd3786"
            ],
            [
             0.5555555555555556,
             "#d8576b"
            ],
            [
             0.6666666666666666,
             "#ed7953"
            ],
            [
             0.7777777777777778,
             "#fb9f3a"
            ],
            [
             0.8888888888888888,
             "#fdca26"
            ],
            [
             1,
             "#f0f921"
            ]
           ]
          },
          "colorway": [
           "#636efa",
           "#EF553B",
           "#00cc96",
           "#ab63fa",
           "#FFA15A",
           "#19d3f3",
           "#FF6692",
           "#B6E880",
           "#FF97FF",
           "#FECB52"
          ],
          "font": {
           "color": "#2a3f5f"
          },
          "geo": {
           "bgcolor": "white",
           "lakecolor": "white",
           "landcolor": "#E5ECF6",
           "showlakes": true,
           "showland": true,
           "subunitcolor": "white"
          },
          "hoverlabel": {
           "align": "left"
          },
          "hovermode": "closest",
          "mapbox": {
           "style": "light"
          },
          "paper_bgcolor": "white",
          "plot_bgcolor": "#E5ECF6",
          "polar": {
           "angularaxis": {
            "gridcolor": "white",
            "linecolor": "white",
            "ticks": ""
           },
           "bgcolor": "#E5ECF6",
           "radialaxis": {
            "gridcolor": "white",
            "linecolor": "white",
            "ticks": ""
           }
          },
          "scene": {
           "xaxis": {
            "backgroundcolor": "#E5ECF6",
            "gridcolor": "white",
            "gridwidth": 2,
            "linecolor": "white",
            "showbackground": true,
            "ticks": "",
            "zerolinecolor": "white"
           },
           "yaxis": {
            "backgroundcolor": "#E5ECF6",
            "gridcolor": "white",
            "gridwidth": 2,
            "linecolor": "white",
            "showbackground": true,
            "ticks": "",
            "zerolinecolor": "white"
           },
           "zaxis": {
            "backgroundcolor": "#E5ECF6",
            "gridcolor": "white",
            "gridwidth": 2,
            "linecolor": "white",
            "showbackground": true,
            "ticks": "",
            "zerolinecolor": "white"
           }
          },
          "shapedefaults": {
           "line": {
            "color": "#2a3f5f"
           }
          },
          "ternary": {
           "aaxis": {
            "gridcolor": "white",
            "linecolor": "white",
            "ticks": ""
           },
           "baxis": {
            "gridcolor": "white",
            "linecolor": "white",
            "ticks": ""
           },
           "bgcolor": "#E5ECF6",
           "caxis": {
            "gridcolor": "white",
            "linecolor": "white",
            "ticks": ""
           }
          },
          "title": {
           "x": 0.05
          },
          "xaxis": {
           "automargin": true,
           "gridcolor": "white",
           "linecolor": "white",
           "ticks": "",
           "title": {
            "standoff": 15
           },
           "zerolinecolor": "white",
           "zerolinewidth": 2
          },
          "yaxis": {
           "automargin": true,
           "gridcolor": "white",
           "linecolor": "white",
           "ticks": "",
           "title": {
            "standoff": 15
           },
           "zerolinecolor": "white",
           "zerolinewidth": 2
          }
         }
        },
        "xaxis": {
         "anchor": "y",
         "domain": [
          0,
          1
         ],
         "title": {
          "text": "Frequency"
         }
        },
        "yaxis": {
         "anchor": "x",
         "domain": [
          0,
          1
         ],
         "title": {
          "text": "Power"
         }
        }
       }
      }
     },
     "metadata": {},
     "output_type": "display_data"
    }
   ],
   "source": [
    "# printing the psd\n",
    "flows.plot_PSD_two_conditions(eeg, chans, 'ec', 'eo', fs, min_freq, max_freq, psd_normalize)"
   ]
  },
  {
   "cell_type": "code",
   "execution_count": 10,
   "metadata": {},
   "outputs": [],
   "source": [
    "# plotting the raw eeg\n",
    "# flows.plot_eeg_signals(eeg.drop([\"Condition\", \"TS_UNIX\"], axis = 1))"
   ]
  },
  {
   "cell_type": "markdown",
   "metadata": {},
   "source": [
    "___\n",
    "\n",
    "## Berger Effect\n",
    "Next we would like to look how prominent we can see the Berger Effect.\\\n",
    "More specifically we will:\n",
    "1) Look into how the dry electrodes compare to the wet electrodes. \n",
    "2) See how different performance metrics will look like as we might not be able to compare results directly -> calculate db magnitude/ relative power\n",
    "3) Then we will look into intersubject berger effect along sessions. Here an interesting thing to also look into would be a potential alpha peak drift over the sessions \n",
    "\n",
    "To do so we will first look into the first run of all participants in wet vs. dry electrodes, build the average psds and compare the results. "
   ]
  },
  {
   "cell_type": "code",
   "execution_count": 11,
   "metadata": {},
   "outputs": [
    {
     "name": "stdout",
     "output_type": "stream",
     "text": [
      "9\n"
     ]
    },
    {
     "data": {
      "text/html": [
       "<div>\n",
       "<style scoped>\n",
       "    .dataframe tbody tr th:only-of-type {\n",
       "        vertical-align: middle;\n",
       "    }\n",
       "\n",
       "    .dataframe tbody tr th {\n",
       "        vertical-align: top;\n",
       "    }\n",
       "\n",
       "    .dataframe thead th {\n",
       "        text-align: right;\n",
       "    }\n",
       "</style>\n",
       "<table border=\"1\" class=\"dataframe\">\n",
       "  <thead>\n",
       "    <tr style=\"text-align: right;\">\n",
       "      <th></th>\n",
       "      <th>Session</th>\n",
       "      <th>ID</th>\n",
       "      <th>Config</th>\n",
       "      <th>Folder</th>\n",
       "      <th>Run</th>\n",
       "      <th>Rec_folder</th>\n",
       "    </tr>\n",
       "  </thead>\n",
       "  <tbody>\n",
       "    <tr>\n",
       "      <th>0</th>\n",
       "      <td>2025-07-04-01</td>\n",
       "      <td>bk7zlu</td>\n",
       "      <td>Ear Only</td>\n",
       "      <td>GelledEarOnly/2025-07-04/bk7zlu/</td>\n",
       "      <td>rec1</td>\n",
       "      <td>GelledEarOnly/2025-07-04/bk7zlu/rec1/</td>\n",
       "    </tr>\n",
       "    <tr>\n",
       "      <th>1</th>\n",
       "      <td>2025-07-04-01</td>\n",
       "      <td>bk7zlu</td>\n",
       "      <td>Ear Only</td>\n",
       "      <td>GelledEarOnly/2025-07-04/bk7zlu/</td>\n",
       "      <td>rec2</td>\n",
       "      <td>GelledEarOnly/2025-07-04/bk7zlu/rec2/</td>\n",
       "    </tr>\n",
       "    <tr>\n",
       "      <th>2</th>\n",
       "      <td>2025-07-04-01</td>\n",
       "      <td>bk7zlu</td>\n",
       "      <td>Ear Only</td>\n",
       "      <td>GelledEarOnly/2025-07-04/bk7zlu/</td>\n",
       "      <td>rec3</td>\n",
       "      <td>GelledEarOnly/2025-07-04/bk7zlu/rec3/</td>\n",
       "    </tr>\n",
       "  </tbody>\n",
       "</table>\n",
       "</div>"
      ],
      "text/plain": [
       "         Session      ID    Config                            Folder   Run  \\\n",
       "0  2025-07-04-01  bk7zlu  Ear Only  GelledEarOnly/2025-07-04/bk7zlu/  rec1   \n",
       "1  2025-07-04-01  bk7zlu  Ear Only  GelledEarOnly/2025-07-04/bk7zlu/  rec2   \n",
       "2  2025-07-04-01  bk7zlu  Ear Only  GelledEarOnly/2025-07-04/bk7zlu/  rec3   \n",
       "\n",
       "                              Rec_folder  \n",
       "0  GelledEarOnly/2025-07-04/bk7zlu/rec1/  \n",
       "1  GelledEarOnly/2025-07-04/bk7zlu/rec2/  \n",
       "2  GelledEarOnly/2025-07-04/bk7zlu/rec3/  "
      ]
     },
     "execution_count": 11,
     "metadata": {},
     "output_type": "execute_result"
    }
   ],
   "source": [
    "df_first_recs = sessions.query('Run == \"rec1\" and Config == \"Ear Only\"')\n",
    "print(len(df_first_recs))\n",
    "sessions.head(3)"
   ]
  },
  {
   "cell_type": "code",
   "execution_count": 12,
   "metadata": {},
   "outputs": [],
   "source": [
    "def _extract_run_number(run_value):\n",
    "    \"\"\"Return integer run number from strings like 'rec1' or numerics like 1.\"\"\"\n",
    "    s = str(run_value).strip().lower()\n",
    "    digits = re.sub(r\"[^0-7]\", \"\", s)\n",
    "    return int(digits) if digits else None\n",
    "\n",
    "def compute_session_avg_psd(active_recording, cond_ec_tag, cond_eo_tag):\n",
    "    \"\"\"\n",
    "    For a single session row from `sessions`, load EEG, label EC/EO segments, compute robust PSD per channel,\n",
    "    and return two DataFrames (EC and EO) with columns ['Frequency','Power'] averaged across channels.\n",
    "    \"\"\"\n",
    "\n",
    "    eeg, snr_df, load_report = process_recording(active_recording)\n",
    "    fs = float(load_report.get('estimated_fs', 250.0))\n",
    "\n",
    "    # Select signals for each condition\n",
    "    ec_df = eeg[eeg['Condition'].astype(str).str.contains(cond_ec_tag, case=False, regex=False)]\n",
    "    eo_df = eeg[eeg['Condition'].astype(str).str.contains(cond_eo_tag, case=False, regex=False)]\n",
    "\n",
    "    if ec_df.empty or eo_df.empty:\n",
    "        raise ValueError(f\"Missing EC/EO segments for tags '{cond_ec_tag}'/'{cond_eo_tag}' in recording {active_recording.ID} ({active_recording.Run}).\")\n",
    "\n",
    "    # Average PSD across channels for each condition -> Same building average of delta or delta after average? -> jup\n",
    "\n",
    "    desired = chans_ear_only if active_recording.Config == \"Ear Only\" else chans_top_ear\n",
    "    use_chans = [c for c in desired if c in eeg.columns]\n",
    "    if not use_chans:\n",
    "        raise ValueError(\n",
    "            f\"No desired channels found in EEG for {active_recording.ID} ({active_recording.Run}). \"\n",
    "            f\"Desired={desired}, available={[c for c in eeg.columns if c.startswith('A')]}\"\n",
    "        )\n",
    "\n",
    "    def _avg_psd_over_channels(signals_df):\n",
    "        psd_list = []\n",
    "        for ch in use_chans:\n",
    "            series = signals_df[ch]\n",
    "            psd_df = flows.compute_robust_psd(series, min_freq=min_freq, max_freq=max_freq, fs=fs,\n",
    "                                              normalize=True, window_sec=1, overlap_pct=0, verbose='WARNING')\n",
    "            psd_df = psd_df.rename(columns={'Power': f'P_{ch}'})\n",
    "            psd_list.append(psd_df)\n",
    "        # merge on frequency\n",
    "        merged = psd_list[0]\n",
    "        for nxt in psd_list[1:]:\n",
    "            merged = merged.merge(nxt, on='Frequency', how='inner')\n",
    "        merged['Power'] = merged.filter(like='P_').mean(axis=1)\n",
    "        return merged[['Frequency','Power']]\n",
    "\n",
    "    ec_psd = _avg_psd_over_channels(ec_df)\n",
    "    eo_psd = _avg_psd_over_channels(eo_df)\n",
    "\n",
    "    return ec_psd, eo_psd, fs\n",
    "\n",
    "def average_psds_across_sessions(df_sessions, config_label, verbose=True): # TODO: Should we exclude dead or too noisy chans/sessions?\n",
    "    \"\"\"\n",
    "    Compute the average EC and EO PSD across all first sessions for a given configuration.\n",
    "    Returns a dict with keys: 'EC', 'EO', 'alpha_effect', 'n_used', 'fs_median'.\n",
    "    The alpha_effect is the integrated alpha-band (8-13 Hz) difference EC minus EO (Berger effect magnitude).\n",
    "    \"\"\"\n",
    "    # Filter sessions\n",
    "    sel = df_sessions.copy()\n",
    "    sel = sel[sel['Config'].astype(str) == config_label]\n",
    "\n",
    "    # First-session filter: accept 'rec1' or numeric 1\n",
    "    run_mask = sel['Run'].astype(str).str.lower().str.contains(\"rec1\") | (sel['Run'].astype(str).str.replace(r\"[^0-7]\",\"\", regex=True) == \"1\")\n",
    "    sel = sel[run_mask]\n",
    "\n",
    "    if sel.empty:\n",
    "        raise ValueError(f\"No sessions found for config '{config_label}' and Run == 1.\")\n",
    "\n",
    "    ec_psds = []\n",
    "    eo_psds = []\n",
    "    fs_list = []\n",
    "\n",
    "    for row in sel.itertuples(index=False):\n",
    "        try:\n",
    "            run_num = _extract_run_number(getattr(row, \"Run\"))\n",
    "            cond_ec = f\"headphones_setup_ec_{run_num}\" if run_num is not None else \"headphones_setup_ec_1\" # careful with \"ec\" or only \"eo\" -> \"rec\" === True with \"ec\"\n",
    "            cond_eo = f\"headphones_setup_eo_{run_num}\" if run_num is not None else \"headphones_setup_eo_1\"\n",
    "            ec_psd, eo_psd, fs = compute_session_avg_psd(row, cond_ec, cond_eo)\n",
    "            ec_psds.append(ec_psd)\n",
    "            eo_psds.append(eo_psd)\n",
    "            fs_list.append(fs)\n",
    "            if verbose:\n",
    "                print(f\"✅ Processed {row.ID} ({row.Run}) for '{config_label}'\")\n",
    "        except Exception as e:\n",
    "            warnings.warn(f\"Skipping a session due to error: {e}\")\n",
    "\n",
    "    if len(ec_psds) == 0:\n",
    "        raise RuntimeError(f\"All sessions for config '{config_label}' failed to process.\")\n",
    "\n",
    "    # Establish a common frequency grid (use intersection to be safe)\n",
    "    common_freqs = set(ec_psds[0]['Frequency'].round(6).values)\n",
    "    for df in ec_psds[1:] + eo_psds:\n",
    "        common_freqs &= set(df['Frequency'].round(6).values)\n",
    "    common_freqs = np.array(sorted(list(common_freqs)))\n",
    "    if common_freqs.size < 10:\n",
    "        # Fallback: use first EC grid and interpolate others onto it\n",
    "        base_freqs = ec_psds[0]['Frequency'].values\n",
    "        def interp_to_base(df):\n",
    "            return pd.DataFrame({\n",
    "                'Frequency': base_freqs,\n",
    "                'Power': np.interp(base_freqs, df['Frequency'].values, df['Power'].values)\n",
    "            })\n",
    "        ec_stack = [interp_to_base(df) for df in ec_psds]\n",
    "        eo_stack = [interp_to_base(df) for df in eo_psds]\n",
    "    else:\n",
    "        def trim_to_common(df):\n",
    "            mask = np.isin(df['Frequency'].round(6).values, common_freqs)\n",
    "            return df.loc[mask].sort_values('Frequency').reset_index(drop=True)\n",
    "        ec_stack = [trim_to_common(df) for df in ec_psds]\n",
    "        eo_stack = [trim_to_common(df) for df in eo_psds]\n",
    "\n",
    "    # Average across sessions\n",
    "    ec_avg = pd.concat(ec_stack).groupby('Frequency', as_index=False)['Power'].mean()\n",
    "    eo_avg = pd.concat(eo_stack).groupby('Frequency', as_index=False)['Power'].mean()\n",
    "\n",
    "    # Compute Berger effect magnitude = alpha-band (8–13 Hz) area difference EC - EO\n",
    "    def band_area(psd_df, lo=8.0, hi=13.0):\n",
    "        m = (psd_df['Frequency'] >= lo) & (psd_df['Frequency'] <= hi)\n",
    "        if m.sum() < 2:  # not enough points for integration\n",
    "            return np.nan\n",
    "        return float(simpson(psd_df.loc[m, 'Power'].values, x=psd_df.loc[m, 'Frequency'].values))\n",
    "\n",
    "    alpha_ec = band_area(ec_avg, 8.0, 13.0)\n",
    "    alpha_eo = band_area(eo_avg, 8.0, 13.0)\n",
    "    alpha_effect = alpha_ec - alpha_eo  # Berger effect: higher alpha in EC than EO\n",
    "\n",
    "    return {\n",
    "        'EC': ec_avg,\n",
    "        'EO': eo_avg,\n",
    "        'alpha_effect': alpha_effect,\n",
    "        'n_used': len(ec_stack),\n",
    "        'fs_median': float(np.median(fs_list)) if fs_list else np.nan,\n",
    "    }"
   ]
  },
  {
   "cell_type": "code",
   "execution_count": 13,
   "metadata": {},
   "outputs": [
    {
     "name": "stdout",
     "output_type": "stream",
     "text": [
      "✅ Processed bk7zlu (rec1) for 'Ear Only'\n",
      "✅ Processed az470i (rec1) for 'Ear Only'\n",
      "✅ Processed anejys (rec1) for 'Ear Only'\n",
      "✅ Processed az2bj9 (rec1) for 'Ear Only'\n",
      "✅ Processed g808pk (rec1) for 'Ear Only'\n",
      "✅ Processed 9j2wl4 (rec1) for 'Ear Only'\n",
      "✅ Processed 9pueps (rec1) for 'Ear Only'\n",
      "✅ Processed 564f1u (rec1) for 'Ear Only'\n",
      "✅ Processed a272u4 (rec1) for 'Ear Only'\n",
      "✅ Processed aq9b9k (rec1) for 'Top+Ears'\n",
      "✅ Processed fqzqgz (rec1) for 'Top+Ears'\n",
      "✅ Processed 7dr6p8 (rec1) for 'Top+Ears'\n",
      "✅ Processed 9sbyk3 (rec1) for 'Top+Ears'\n",
      "✅ Processed cca2av (rec1) for 'Top+Ears'\n"
     ]
    },
    {
     "name": "stderr",
     "output_type": "stream",
     "text": [
      "/var/folders/ml/fyq5x5t55wx4129dn03n32hm0000gn/T/ipykernel_33534/638699088.py:86: UserWarning:\n",
      "\n",
      "Skipping a session due to error: single positional indexer is out-of-bounds\n",
      "\n"
     ]
    },
    {
     "name": "stdout",
     "output_type": "stream",
     "text": [
      "✅ Processed 43d7zr (rec1) for 'Top+Ears'\n",
      "✅ Processed c1zlyv (rec1) for 'Top+Ears'\n",
      "✅ Processed 2rw33z (rec1) for 'Top+Ears'\n",
      "✅ Processed 4wlws4 (rec1) for 'Top+Ears'\n"
     ]
    },
    {
     "name": "stderr",
     "output_type": "stream",
     "text": [
      "/var/folders/ml/fyq5x5t55wx4129dn03n32hm0000gn/T/ipykernel_33534/638699088.py:86: UserWarning:\n",
      "\n",
      "Skipping a session due to error: 'SNR_Second_Half'\n",
      "\n"
     ]
    },
    {
     "name": "stdout",
     "output_type": "stream",
     "text": [
      "✅ Processed rl8s47 (rec1) for 'Top+Ears'\n",
      "\n",
      "Sessions used — Ear Only: 9, Top+Ears: 10\n",
      "Median fs — Ear Only: 250.24 Hz, Top+Ears: 250.48 Hz\n"
     ]
    },
    {
     "data": {
      "application/vnd.plotly.v1+json": {
       "config": {
        "plotlyServerURL": "https://plot.ly"
       },
       "data": [
        {
         "hovertemplate": "Config=Ear Only<br>State=EC<br>Frequency (Hz)=%{x}<br>Power=%{y}<extra></extra>",
         "legendgroup": "Ear Only, EC",
         "line": {
          "color": "#636efa",
          "dash": "solid"
         },
         "marker": {
          "symbol": "circle"
         },
         "mode": "lines",
         "name": "Ear Only, EC",
         "orientation": "v",
         "showlegend": true,
         "type": "scatter",
         "x": {
          "bdata": "5anqNnwBAEDY/l9SOgIIQOWp6jZ8ARBAXlSlRNsBFEDY/l9SOgIYQFGpGmCZAhxA5anqNnwBIEAi/8e9qwEiQF5UpUTbASRAm6mCywoCJkDY/l9SOgIoQBRUPdlpAipAUakaYJkCLECN/vfmyAIuQOWp6jZ8ATBAg1RZ+pMBMUAi/8e9qwEyQMCpNoHDATNAXlSlRNsBNED9/hMI8wE1QJupgssKAjZAOVTxjiICN0DY/l9SOgI4QHapzhVSAjlAFFQ92WkCOkCy/qucgQI7QFGpGmCZAjxA71OJI7ECPUCN/vfmyAI+QCypZqrgAj9A5anqNnwBQEA0/6EYiIFAQINUWfqTAUFA0qkQ3J+BQUAi/8e9qwFCQHFUf5+3gUJAwKk2gcMBQ0AP/+1iz4FDQF5UpUTbAURAralcJueBRED9/hMI8wFFQExUy+n+gUVAm6mCywoCRkDq/jmtFoJGQDlU8Y4iAkdAiKmocC6CR0DY/l9SOgJIQCdUFzRGgkhAdqnOFVICSUDF/oX3XYJJQBRUPdlpAkpAY6n0unWCSkCy/qucgQJLQAJUY36NgktAUakaYJkCTECg/tFBpYJMQO9TiSOxAk1APqlABb2CTUA=",
          "dtype": "f8"
         },
         "xaxis": "x",
         "y": {
          "bdata": "4dclaeDwwj9fEg3uJHq3P77dT3v5ta8/S2+zUe3IpT+Pb4drMFqgP3RtvJ524Z0/UKVn9SkanD/84dpPxpyfP7Wm9jPxF6E/VpdfOcENmz+OVK8wo9iWP8EBNMpcSJI/3EyesXjWjz/2oP5b8cqGPzBF3iOcApI/PhkPT9dTiz8kk6gY8fONP4ThBf59+og/RPfehcSdhz/Bj1F6uvaGPwKYNzXYH4Q/Px1L86mFhz9IB24j+66GP4Q4kvb0fYQ/7N9AVynGgT9kNXSfd9WCPzwkXhQfsIE/sRGCeSzBgz/ND9ZB6AuHPwOH1h9Tv5A/2mFhujN6iD+6HAy9wZCCP3LfzKagvYM/dnBeSCMphD+FYKo1nTKDP4Vy72MjNIA/a4CIcDeYfj/LsT1mkud/PwpN4XZPFYA/TCMHNW2KgD8An+RAiIp+P9KwqiGCqH0/NJHRyxyxeT8HyHKkzaB4P3z2pYQw5Xo/0F5OVjfwgT/XLnKSne94P4SHnHjD4II/LKY4FFeWmD9CMVAcZqKGP7Rhb+Q5zng/O+OoxKMAdz83l4rXmC9yP3RXNKa/jnY/d/cP2NnCdT9EAAzT+VB1P/xg7ZxCeHU/RnzGLW0QdT8=",
          "dtype": "f8"
         },
         "yaxis": "y"
        },
        {
         "hovertemplate": "Config=Ear Only<br>State=EO<br>Frequency (Hz)=%{x}<br>Power=%{y}<extra></extra>",
         "legendgroup": "Ear Only, EO",
         "line": {
          "color": "#636efa",
          "dash": "dot"
         },
         "marker": {
          "symbol": "circle"
         },
         "mode": "lines",
         "name": "Ear Only, EO",
         "orientation": "v",
         "showlegend": true,
         "type": "scatter",
         "x": {
          "bdata": "5anqNnwBAEDY/l9SOgIIQOWp6jZ8ARBAXlSlRNsBFEDY/l9SOgIYQFGpGmCZAhxA5anqNnwBIEAi/8e9qwEiQF5UpUTbASRAm6mCywoCJkDY/l9SOgIoQBRUPdlpAipAUakaYJkCLECN/vfmyAIuQOWp6jZ8ATBAg1RZ+pMBMUAi/8e9qwEyQMCpNoHDATNAXlSlRNsBNED9/hMI8wE1QJupgssKAjZAOVTxjiICN0DY/l9SOgI4QHapzhVSAjlAFFQ92WkCOkCy/qucgQI7QFGpGmCZAjxA71OJI7ECPUCN/vfmyAI+QCypZqrgAj9A5anqNnwBQEA0/6EYiIFAQINUWfqTAUFA0qkQ3J+BQUAi/8e9qwFCQHFUf5+3gUJAwKk2gcMBQ0AP/+1iz4FDQF5UpUTbAURAralcJueBRED9/hMI8wFFQExUy+n+gUVAm6mCywoCRkDq/jmtFoJGQDlU8Y4iAkdAiKmocC6CR0DY/l9SOgJIQCdUFzRGgkhAdqnOFVICSUDF/oX3XYJJQBRUPdlpAkpAY6n0unWCSkCy/qucgQJLQAJUY36NgktAUakaYJkCTECg/tFBpYJMQO9TiSOxAk1APqlABb2CTUA=",
          "dtype": "f8"
         },
         "xaxis": "x",
         "y": {
          "bdata": "QT6NZS/FxT+kQH2kIqK9P0xUdIXny7A/a3DrOvmcpT/EAJn+ARmgP/ldPRqeaZw/eWvpyYyinD/KaofjgfWaP+Qb5dKfbpk/F8G+qWzLlD+XJ/skMXySPxanInadiJE/VL+v1AJUjD8zaCuBqvyEPyypsb87aZA/eD8MWZTTij/ACQS9fCCJPyj+ic9ycIc/4z0uW6bHiT/kvU+ae8KKP8swJuolGIo/mz7ZzddriT/IqXCLjA2FP4Ye4i0l+oE/bySVhUnAgj9bPjDeCvOAP5zP/gb/+IM/TYgjIbSwgD8rLH+CsoWBPyTEkgtOOoY/7HPhRB+ShT9MyHJjQGF/PxcK93GkXYA/T0in6A0fhD/golz7jFZ9P24dGD5hn38/1G3pfzmggD/lUOB/fVZ9PyRfkMgB63w/kS9W9egtfD9KhWJHkMx3P5Mg+THh3Xs/xZurWUjldz/M2bdLxkB3P5qKDXhUqnk/bBORK4Xqgj+U9ti+mfx/P10kMVxG1IQ/lSG1ZUjmlj/1S2W8wJuCP+xyn0G+V3c/YgdKyKtVcz+OrUzY2IB2P6SjZsETxHY/ORbsOEgvdT/u5ONDWId2PyqQgSpoWXc/Wi2msBzydD8=",
          "dtype": "f8"
         },
         "yaxis": "y"
        },
        {
         "hovertemplate": "Config=Top+Ears<br>State=EC<br>Frequency (Hz)=%{x}<br>Power=%{y}<extra></extra>",
         "legendgroup": "Top+Ears, EC",
         "line": {
          "color": "#EF553B",
          "dash": "solid"
         },
         "marker": {
          "symbol": "circle"
         },
         "mode": "lines",
         "name": "Top+Ears, EC",
         "orientation": "v",
         "showlegend": true,
         "type": "scatter",
         "x": {
          "bdata": "YOlQ14oHAEAQXvlCUAsIQGDpUNeKBxBAuCMljW0JFEAQXvlCUAsYQGiYzfgyDRxAYOlQ14oHIECMBjsyfAgiQLgjJY1tCSRA5EAP6F4KJkAQXvlCUAsoQDx7451BDCpAaJjN+DINLECUtbdTJA4uQGDpUNeKBzBA9vfFhAMIMUCMBjsyfAgyQCIVsN/0CDNAuCMljW0JNEBOMpo65gk1QORAD+heCjZAek+EldcKN0AQXvlCUAs4QKZsbvDICzlAPHvjnUEMOkDSiVhLugw7QGiYzfgyDTxA/qZCpqsNPUCUtbdTJA4+QCrELAGdDj9AYOlQ14oHQECrcAsux4dAQPb3xYQDCEFAQX+A2z+IQUCMBjsyfAhCQNeN9Yi4iEJAIhWw3/QIQ0BtnGo2MYlDQLgjJY1tCURAA6vf46mJREBOMpo65glFQJm5VJEiikVA5EAP6F4KRkAvyMk+m4pGQHpPhJXXCkdAxdY+7BOLR0AQXvlCUAtIQFvls5mMi0hApmxu8MgLSUDx8yhHBYxJQDx7451BDEpAhwKe9H2MSkDSiVhLugxLQB0RE6L2jEtAaJjN+DINTECzH4hPb41MQP6mQqarDU1ASS79/OeNTUA=",
          "dtype": "f8"
         },
         "xaxis": "x",
         "y": {
          "bdata": "K1WNpvhCxj/K33kdWsO2Py2mrwyFuKs/QR4VbY1goT9ufM4xsl2cP9q70PsHo5c/a2ySPMEDmD8KHrm6G3+bP0w/1ilJ2aA/oiZleArKlj8dbdZQcwGTP7M743DeaZA/QSZeutirgz9aE0/qDRl5PyGfj9uceoI/qQGsDmFRgz+q9vd0rZ2CP7XtTmJxGYM/s2FdyNSEgT+WbCWrfRqAP9oNDZYLLX0/Y1tT2ntQfj9BY9+ONFeAPwqax4VhtYA/jQjKrdSfej/4mW9WPpF7PzpwML2gmn4/JsGvjxFpez9djikJLrJ6P7jg60I8GXo/2rkaGiIQej9vjM9kkEN4Py1Q80dSvnk/DqMEKfIOeT+1rpd1xVV6P4gP8GyAnH0/WqjJ1CP7dz+DnPQMl9FzP9WfCldcbXY/8OHFC3Fddj+Dg8cqxtB2P8YCaA3WxHM/3t0NtemadT+jcfvYlMF0P0ZLU4Z+F3U/HupiLq9ccj+QybSMUndwP3hCElwnUaE/0AvhR+33wD8KhSRV71GcP2Zc00M2KnM/e8pRRkKXbT/SCJSYsEJuP5Mmaej+/W0/wOiIEkkKbz89++1ZrTtvP8hSJ9LX320/lld3F6JOaj8=",
          "dtype": "f8"
         },
         "yaxis": "y"
        },
        {
         "hovertemplate": "Config=Top+Ears<br>State=EO<br>Frequency (Hz)=%{x}<br>Power=%{y}<extra></extra>",
         "legendgroup": "Top+Ears, EO",
         "line": {
          "color": "#EF553B",
          "dash": "dot"
         },
         "marker": {
          "symbol": "circle"
         },
         "mode": "lines",
         "name": "Top+Ears, EO",
         "orientation": "v",
         "showlegend": true,
         "type": "scatter",
         "x": {
          "bdata": "YOlQ14oHAEAQXvlCUAsIQGDpUNeKBxBAuCMljW0JFEAQXvlCUAsYQGiYzfgyDRxAYOlQ14oHIECMBjsyfAgiQLgjJY1tCSRA5EAP6F4KJkAQXvlCUAsoQDx7451BDCpAaJjN+DINLECUtbdTJA4uQGDpUNeKBzBA9vfFhAMIMUCMBjsyfAgyQCIVsN/0CDNAuCMljW0JNEBOMpo65gk1QORAD+heCjZAek+EldcKN0AQXvlCUAs4QKZsbvDICzlAPHvjnUEMOkDSiVhLugw7QGiYzfgyDTxA/qZCpqsNPUCUtbdTJA4+QCrELAGdDj9AYOlQ14oHQECrcAsux4dAQPb3xYQDCEFAQX+A2z+IQUCMBjsyfAhCQNeN9Yi4iEJAIhWw3/QIQ0BtnGo2MYlDQLgjJY1tCURAA6vf46mJREBOMpo65glFQJm5VJEiikVA5EAP6F4KRkAvyMk+m4pGQHpPhJXXCkdAxdY+7BOLR0AQXvlCUAtIQFvls5mMi0hApmxu8MgLSUDx8yhHBYxJQDx7451BDEpAhwKe9H2MSkDSiVhLugxLQB0RE6L2jEtAaJjN+DINTECzH4hPb41MQP6mQqarDU1ASS79/OeNTUA=",
          "dtype": "f8"
         },
         "xaxis": "x",
         "y": {
          "bdata": "aUSQkKGqxj8FdJCuRz+5P/MxYMYtta8/JYvLc41UpD9aWhj/csCdP7qPLmTjOZc/7s0DtdgalD8bNaQKcOiQP1ojcgmg9I4/uHI7vZ05jD9zEXXi+OyJP7tLqH9/9ok/fGhPG7Dugz9NiOTCump2P3jfxIT2FoE/QbDtz4rogz/eLrCJCEyEP0KBsEVDioE/wk/Vbf/VgT/9bvms1TOBP84FwuqKBII/30gteMx/gT+WnE31SyZ/P1aFXZt/iX0/9XNBiLfzez8VfdE1YzZ7P+IZToPAjno/mrv2gLbgej/9G2bYjgp7PzZ0t28jcn0/WzM6auozfD8RTEdvOMJ4PxI2dzJ7Jng/WkCrqDcadj8zI7+3IrV8P3h+TSZXuHs/z04XD7Ufdj8OxpgBpEJ2P8CGU0d0OnY/fd2dL1d1dT9uRBiMFSd1P+6fVsAaWHM/lvWKgVoLcz+M1hmW4opyP0NBGuxf2HM/j8K2TOSbcT/ciPbUoElzP9SEeAOO0qM/e8HFrETmwj9WrmlqQWeeP8LaF4yvfnU/KZb/MAPOcT9LDYZlrupsPwMbjz4QHG4/y5RwUbvmbT92eVoP6xRvPwC/WIuKUG0/ULoxhTiRaT8=",
          "dtype": "f8"
         },
         "yaxis": "y"
        }
       ],
       "layout": {
        "legend": {
         "title": {
          "text": "Config, State"
         },
         "tracegroupgap": 0
        },
        "template": {
         "data": {
          "bar": [
           {
            "error_x": {
             "color": "#2a3f5f"
            },
            "error_y": {
             "color": "#2a3f5f"
            },
            "marker": {
             "line": {
              "color": "#E5ECF6",
              "width": 0.5
             },
             "pattern": {
              "fillmode": "overlay",
              "size": 10,
              "solidity": 0.2
             }
            },
            "type": "bar"
           }
          ],
          "barpolar": [
           {
            "marker": {
             "line": {
              "color": "#E5ECF6",
              "width": 0.5
             },
             "pattern": {
              "fillmode": "overlay",
              "size": 10,
              "solidity": 0.2
             }
            },
            "type": "barpolar"
           }
          ],
          "carpet": [
           {
            "aaxis": {
             "endlinecolor": "#2a3f5f",
             "gridcolor": "white",
             "linecolor": "white",
             "minorgridcolor": "white",
             "startlinecolor": "#2a3f5f"
            },
            "baxis": {
             "endlinecolor": "#2a3f5f",
             "gridcolor": "white",
             "linecolor": "white",
             "minorgridcolor": "white",
             "startlinecolor": "#2a3f5f"
            },
            "type": "carpet"
           }
          ],
          "choropleth": [
           {
            "colorbar": {
             "outlinewidth": 0,
             "ticks": ""
            },
            "type": "choropleth"
           }
          ],
          "contour": [
           {
            "colorbar": {
             "outlinewidth": 0,
             "ticks": ""
            },
            "colorscale": [
             [
              0,
              "#0d0887"
             ],
             [
              0.1111111111111111,
              "#46039f"
             ],
             [
              0.2222222222222222,
              "#7201a8"
             ],
             [
              0.3333333333333333,
              "#9c179e"
             ],
             [
              0.4444444444444444,
              "#bd3786"
             ],
             [
              0.5555555555555556,
              "#d8576b"
             ],
             [
              0.6666666666666666,
              "#ed7953"
             ],
             [
              0.7777777777777778,
              "#fb9f3a"
             ],
             [
              0.8888888888888888,
              "#fdca26"
             ],
             [
              1,
              "#f0f921"
             ]
            ],
            "type": "contour"
           }
          ],
          "contourcarpet": [
           {
            "colorbar": {
             "outlinewidth": 0,
             "ticks": ""
            },
            "type": "contourcarpet"
           }
          ],
          "heatmap": [
           {
            "colorbar": {
             "outlinewidth": 0,
             "ticks": ""
            },
            "colorscale": [
             [
              0,
              "#0d0887"
             ],
             [
              0.1111111111111111,
              "#46039f"
             ],
             [
              0.2222222222222222,
              "#7201a8"
             ],
             [
              0.3333333333333333,
              "#9c179e"
             ],
             [
              0.4444444444444444,
              "#bd3786"
             ],
             [
              0.5555555555555556,
              "#d8576b"
             ],
             [
              0.6666666666666666,
              "#ed7953"
             ],
             [
              0.7777777777777778,
              "#fb9f3a"
             ],
             [
              0.8888888888888888,
              "#fdca26"
             ],
             [
              1,
              "#f0f921"
             ]
            ],
            "type": "heatmap"
           }
          ],
          "histogram": [
           {
            "marker": {
             "pattern": {
              "fillmode": "overlay",
              "size": 10,
              "solidity": 0.2
             }
            },
            "type": "histogram"
           }
          ],
          "histogram2d": [
           {
            "colorbar": {
             "outlinewidth": 0,
             "ticks": ""
            },
            "colorscale": [
             [
              0,
              "#0d0887"
             ],
             [
              0.1111111111111111,
              "#46039f"
             ],
             [
              0.2222222222222222,
              "#7201a8"
             ],
             [
              0.3333333333333333,
              "#9c179e"
             ],
             [
              0.4444444444444444,
              "#bd3786"
             ],
             [
              0.5555555555555556,
              "#d8576b"
             ],
             [
              0.6666666666666666,
              "#ed7953"
             ],
             [
              0.7777777777777778,
              "#fb9f3a"
             ],
             [
              0.8888888888888888,
              "#fdca26"
             ],
             [
              1,
              "#f0f921"
             ]
            ],
            "type": "histogram2d"
           }
          ],
          "histogram2dcontour": [
           {
            "colorbar": {
             "outlinewidth": 0,
             "ticks": ""
            },
            "colorscale": [
             [
              0,
              "#0d0887"
             ],
             [
              0.1111111111111111,
              "#46039f"
             ],
             [
              0.2222222222222222,
              "#7201a8"
             ],
             [
              0.3333333333333333,
              "#9c179e"
             ],
             [
              0.4444444444444444,
              "#bd3786"
             ],
             [
              0.5555555555555556,
              "#d8576b"
             ],
             [
              0.6666666666666666,
              "#ed7953"
             ],
             [
              0.7777777777777778,
              "#fb9f3a"
             ],
             [
              0.8888888888888888,
              "#fdca26"
             ],
             [
              1,
              "#f0f921"
             ]
            ],
            "type": "histogram2dcontour"
           }
          ],
          "mesh3d": [
           {
            "colorbar": {
             "outlinewidth": 0,
             "ticks": ""
            },
            "type": "mesh3d"
           }
          ],
          "parcoords": [
           {
            "line": {
             "colorbar": {
              "outlinewidth": 0,
              "ticks": ""
             }
            },
            "type": "parcoords"
           }
          ],
          "pie": [
           {
            "automargin": true,
            "type": "pie"
           }
          ],
          "scatter": [
           {
            "fillpattern": {
             "fillmode": "overlay",
             "size": 10,
             "solidity": 0.2
            },
            "type": "scatter"
           }
          ],
          "scatter3d": [
           {
            "line": {
             "colorbar": {
              "outlinewidth": 0,
              "ticks": ""
             }
            },
            "marker": {
             "colorbar": {
              "outlinewidth": 0,
              "ticks": ""
             }
            },
            "type": "scatter3d"
           }
          ],
          "scattercarpet": [
           {
            "marker": {
             "colorbar": {
              "outlinewidth": 0,
              "ticks": ""
             }
            },
            "type": "scattercarpet"
           }
          ],
          "scattergeo": [
           {
            "marker": {
             "colorbar": {
              "outlinewidth": 0,
              "ticks": ""
             }
            },
            "type": "scattergeo"
           }
          ],
          "scattergl": [
           {
            "marker": {
             "colorbar": {
              "outlinewidth": 0,
              "ticks": ""
             }
            },
            "type": "scattergl"
           }
          ],
          "scattermap": [
           {
            "marker": {
             "colorbar": {
              "outlinewidth": 0,
              "ticks": ""
             }
            },
            "type": "scattermap"
           }
          ],
          "scattermapbox": [
           {
            "marker": {
             "colorbar": {
              "outlinewidth": 0,
              "ticks": ""
             }
            },
            "type": "scattermapbox"
           }
          ],
          "scatterpolar": [
           {
            "marker": {
             "colorbar": {
              "outlinewidth": 0,
              "ticks": ""
             }
            },
            "type": "scatterpolar"
           }
          ],
          "scatterpolargl": [
           {
            "marker": {
             "colorbar": {
              "outlinewidth": 0,
              "ticks": ""
             }
            },
            "type": "scatterpolargl"
           }
          ],
          "scatterternary": [
           {
            "marker": {
             "colorbar": {
              "outlinewidth": 0,
              "ticks": ""
             }
            },
            "type": "scatterternary"
           }
          ],
          "surface": [
           {
            "colorbar": {
             "outlinewidth": 0,
             "ticks": ""
            },
            "colorscale": [
             [
              0,
              "#0d0887"
             ],
             [
              0.1111111111111111,
              "#46039f"
             ],
             [
              0.2222222222222222,
              "#7201a8"
             ],
             [
              0.3333333333333333,
              "#9c179e"
             ],
             [
              0.4444444444444444,
              "#bd3786"
             ],
             [
              0.5555555555555556,
              "#d8576b"
             ],
             [
              0.6666666666666666,
              "#ed7953"
             ],
             [
              0.7777777777777778,
              "#fb9f3a"
             ],
             [
              0.8888888888888888,
              "#fdca26"
             ],
             [
              1,
              "#f0f921"
             ]
            ],
            "type": "surface"
           }
          ],
          "table": [
           {
            "cells": {
             "fill": {
              "color": "#EBF0F8"
             },
             "line": {
              "color": "white"
             }
            },
            "header": {
             "fill": {
              "color": "#C8D4E3"
             },
             "line": {
              "color": "white"
             }
            },
            "type": "table"
           }
          ]
         },
         "layout": {
          "annotationdefaults": {
           "arrowcolor": "#2a3f5f",
           "arrowhead": 0,
           "arrowwidth": 1
          },
          "autotypenumbers": "strict",
          "coloraxis": {
           "colorbar": {
            "outlinewidth": 0,
            "ticks": ""
           }
          },
          "colorscale": {
           "diverging": [
            [
             0,
             "#8e0152"
            ],
            [
             0.1,
             "#c51b7d"
            ],
            [
             0.2,
             "#de77ae"
            ],
            [
             0.3,
             "#f1b6da"
            ],
            [
             0.4,
             "#fde0ef"
            ],
            [
             0.5,
             "#f7f7f7"
            ],
            [
             0.6,
             "#e6f5d0"
            ],
            [
             0.7,
             "#b8e186"
            ],
            [
             0.8,
             "#7fbc41"
            ],
            [
             0.9,
             "#4d9221"
            ],
            [
             1,
             "#276419"
            ]
           ],
           "sequential": [
            [
             0,
             "#0d0887"
            ],
            [
             0.1111111111111111,
             "#46039f"
            ],
            [
             0.2222222222222222,
             "#7201a8"
            ],
            [
             0.3333333333333333,
             "#9c179e"
            ],
            [
             0.4444444444444444,
             "#bd3786"
            ],
            [
             0.5555555555555556,
             "#d8576b"
            ],
            [
             0.6666666666666666,
             "#ed7953"
            ],
            [
             0.7777777777777778,
             "#fb9f3a"
            ],
            [
             0.8888888888888888,
             "#fdca26"
            ],
            [
             1,
             "#f0f921"
            ]
           ],
           "sequentialminus": [
            [
             0,
             "#0d0887"
            ],
            [
             0.1111111111111111,
             "#46039f"
            ],
            [
             0.2222222222222222,
             "#7201a8"
            ],
            [
             0.3333333333333333,
             "#9c179e"
            ],
            [
             0.4444444444444444,
             "#bd3786"
            ],
            [
             0.5555555555555556,
             "#d8576b"
            ],
            [
             0.6666666666666666,
             "#ed7953"
            ],
            [
             0.7777777777777778,
             "#fb9f3a"
            ],
            [
             0.8888888888888888,
             "#fdca26"
            ],
            [
             1,
             "#f0f921"
            ]
           ]
          },
          "colorway": [
           "#636efa",
           "#EF553B",
           "#00cc96",
           "#ab63fa",
           "#FFA15A",
           "#19d3f3",
           "#FF6692",
           "#B6E880",
           "#FF97FF",
           "#FECB52"
          ],
          "font": {
           "color": "#2a3f5f"
          },
          "geo": {
           "bgcolor": "white",
           "lakecolor": "white",
           "landcolor": "#E5ECF6",
           "showlakes": true,
           "showland": true,
           "subunitcolor": "white"
          },
          "hoverlabel": {
           "align": "left"
          },
          "hovermode": "closest",
          "mapbox": {
           "style": "light"
          },
          "paper_bgcolor": "white",
          "plot_bgcolor": "#E5ECF6",
          "polar": {
           "angularaxis": {
            "gridcolor": "white",
            "linecolor": "white",
            "ticks": ""
           },
           "bgcolor": "#E5ECF6",
           "radialaxis": {
            "gridcolor": "white",
            "linecolor": "white",
            "ticks": ""
           }
          },
          "scene": {
           "xaxis": {
            "backgroundcolor": "#E5ECF6",
            "gridcolor": "white",
            "gridwidth": 2,
            "linecolor": "white",
            "showbackground": true,
            "ticks": "",
            "zerolinecolor": "white"
           },
           "yaxis": {
            "backgroundcolor": "#E5ECF6",
            "gridcolor": "white",
            "gridwidth": 2,
            "linecolor": "white",
            "showbackground": true,
            "ticks": "",
            "zerolinecolor": "white"
           },
           "zaxis": {
            "backgroundcolor": "#E5ECF6",
            "gridcolor": "white",
            "gridwidth": 2,
            "linecolor": "white",
            "showbackground": true,
            "ticks": "",
            "zerolinecolor": "white"
           }
          },
          "shapedefaults": {
           "line": {
            "color": "#2a3f5f"
           }
          },
          "ternary": {
           "aaxis": {
            "gridcolor": "white",
            "linecolor": "white",
            "ticks": ""
           },
           "baxis": {
            "gridcolor": "white",
            "linecolor": "white",
            "ticks": ""
           },
           "bgcolor": "#E5ECF6",
           "caxis": {
            "gridcolor": "white",
            "linecolor": "white",
            "ticks": ""
           }
          },
          "title": {
           "x": 0.05
          },
          "xaxis": {
           "automargin": true,
           "gridcolor": "white",
           "linecolor": "white",
           "ticks": "",
           "title": {
            "standoff": 15
           },
           "zerolinecolor": "white",
           "zerolinewidth": 2
          },
          "yaxis": {
           "automargin": true,
           "gridcolor": "white",
           "linecolor": "white",
           "ticks": "",
           "title": {
            "standoff": 15
           },
           "zerolinecolor": "white",
           "zerolinewidth": 2
          }
         }
        },
        "title": {
         "text": "Average PSDs (Run 1): EC vs EO per configuration"
        },
        "xaxis": {
         "anchor": "y",
         "domain": [
          0,
          1
         ],
         "range": [
          0,
          30
         ],
         "title": {
          "text": "Frequency (Hz)"
         }
        },
        "yaxis": {
         "anchor": "x",
         "domain": [
          0,
          1
         ],
         "showgrid": true,
         "title": {
          "text": "Power"
         }
        }
       }
      }
     },
     "metadata": {},
     "output_type": "display_data"
    },
    {
     "data": {
      "application/vnd.plotly.v1+json": {
       "config": {
        "plotlyServerURL": "https://plot.ly"
       },
       "data": [
        {
         "cliponaxis": false,
         "hovertemplate": "Config=%{x}<br>Alpha band area (EC - EO)=%{y}<br>Text=%{text}<extra></extra>",
         "legendgroup": "",
         "marker": {
          "color": "#636efa",
          "pattern": {
           "shape": ""
          }
         },
         "name": "",
         "orientation": "v",
         "showlegend": false,
         "text": [
          "0.021",
          "0.040"
         ],
         "textposition": "outside",
         "type": "bar",
         "x": [
          "Ear Only",
          "Top+Ears"
         ],
         "xaxis": "x",
         "y": {
          "bdata": "CHu54qqrlT8w53uICJ2kPw==",
          "dtype": "f8"
         },
         "yaxis": "y"
        }
       ],
       "layout": {
        "barmode": "relative",
        "legend": {
         "tracegroupgap": 0
        },
        "template": {
         "data": {
          "bar": [
           {
            "error_x": {
             "color": "#2a3f5f"
            },
            "error_y": {
             "color": "#2a3f5f"
            },
            "marker": {
             "line": {
              "color": "#E5ECF6",
              "width": 0.5
             },
             "pattern": {
              "fillmode": "overlay",
              "size": 10,
              "solidity": 0.2
             }
            },
            "type": "bar"
           }
          ],
          "barpolar": [
           {
            "marker": {
             "line": {
              "color": "#E5ECF6",
              "width": 0.5
             },
             "pattern": {
              "fillmode": "overlay",
              "size": 10,
              "solidity": 0.2
             }
            },
            "type": "barpolar"
           }
          ],
          "carpet": [
           {
            "aaxis": {
             "endlinecolor": "#2a3f5f",
             "gridcolor": "white",
             "linecolor": "white",
             "minorgridcolor": "white",
             "startlinecolor": "#2a3f5f"
            },
            "baxis": {
             "endlinecolor": "#2a3f5f",
             "gridcolor": "white",
             "linecolor": "white",
             "minorgridcolor": "white",
             "startlinecolor": "#2a3f5f"
            },
            "type": "carpet"
           }
          ],
          "choropleth": [
           {
            "colorbar": {
             "outlinewidth": 0,
             "ticks": ""
            },
            "type": "choropleth"
           }
          ],
          "contour": [
           {
            "colorbar": {
             "outlinewidth": 0,
             "ticks": ""
            },
            "colorscale": [
             [
              0,
              "#0d0887"
             ],
             [
              0.1111111111111111,
              "#46039f"
             ],
             [
              0.2222222222222222,
              "#7201a8"
             ],
             [
              0.3333333333333333,
              "#9c179e"
             ],
             [
              0.4444444444444444,
              "#bd3786"
             ],
             [
              0.5555555555555556,
              "#d8576b"
             ],
             [
              0.6666666666666666,
              "#ed7953"
             ],
             [
              0.7777777777777778,
              "#fb9f3a"
             ],
             [
              0.8888888888888888,
              "#fdca26"
             ],
             [
              1,
              "#f0f921"
             ]
            ],
            "type": "contour"
           }
          ],
          "contourcarpet": [
           {
            "colorbar": {
             "outlinewidth": 0,
             "ticks": ""
            },
            "type": "contourcarpet"
           }
          ],
          "heatmap": [
           {
            "colorbar": {
             "outlinewidth": 0,
             "ticks": ""
            },
            "colorscale": [
             [
              0,
              "#0d0887"
             ],
             [
              0.1111111111111111,
              "#46039f"
             ],
             [
              0.2222222222222222,
              "#7201a8"
             ],
             [
              0.3333333333333333,
              "#9c179e"
             ],
             [
              0.4444444444444444,
              "#bd3786"
             ],
             [
              0.5555555555555556,
              "#d8576b"
             ],
             [
              0.6666666666666666,
              "#ed7953"
             ],
             [
              0.7777777777777778,
              "#fb9f3a"
             ],
             [
              0.8888888888888888,
              "#fdca26"
             ],
             [
              1,
              "#f0f921"
             ]
            ],
            "type": "heatmap"
           }
          ],
          "histogram": [
           {
            "marker": {
             "pattern": {
              "fillmode": "overlay",
              "size": 10,
              "solidity": 0.2
             }
            },
            "type": "histogram"
           }
          ],
          "histogram2d": [
           {
            "colorbar": {
             "outlinewidth": 0,
             "ticks": ""
            },
            "colorscale": [
             [
              0,
              "#0d0887"
             ],
             [
              0.1111111111111111,
              "#46039f"
             ],
             [
              0.2222222222222222,
              "#7201a8"
             ],
             [
              0.3333333333333333,
              "#9c179e"
             ],
             [
              0.4444444444444444,
              "#bd3786"
             ],
             [
              0.5555555555555556,
              "#d8576b"
             ],
             [
              0.6666666666666666,
              "#ed7953"
             ],
             [
              0.7777777777777778,
              "#fb9f3a"
             ],
             [
              0.8888888888888888,
              "#fdca26"
             ],
             [
              1,
              "#f0f921"
             ]
            ],
            "type": "histogram2d"
           }
          ],
          "histogram2dcontour": [
           {
            "colorbar": {
             "outlinewidth": 0,
             "ticks": ""
            },
            "colorscale": [
             [
              0,
              "#0d0887"
             ],
             [
              0.1111111111111111,
              "#46039f"
             ],
             [
              0.2222222222222222,
              "#7201a8"
             ],
             [
              0.3333333333333333,
              "#9c179e"
             ],
             [
              0.4444444444444444,
              "#bd3786"
             ],
             [
              0.5555555555555556,
              "#d8576b"
             ],
             [
              0.6666666666666666,
              "#ed7953"
             ],
             [
              0.7777777777777778,
              "#fb9f3a"
             ],
             [
              0.8888888888888888,
              "#fdca26"
             ],
             [
              1,
              "#f0f921"
             ]
            ],
            "type": "histogram2dcontour"
           }
          ],
          "mesh3d": [
           {
            "colorbar": {
             "outlinewidth": 0,
             "ticks": ""
            },
            "type": "mesh3d"
           }
          ],
          "parcoords": [
           {
            "line": {
             "colorbar": {
              "outlinewidth": 0,
              "ticks": ""
             }
            },
            "type": "parcoords"
           }
          ],
          "pie": [
           {
            "automargin": true,
            "type": "pie"
           }
          ],
          "scatter": [
           {
            "fillpattern": {
             "fillmode": "overlay",
             "size": 10,
             "solidity": 0.2
            },
            "type": "scatter"
           }
          ],
          "scatter3d": [
           {
            "line": {
             "colorbar": {
              "outlinewidth": 0,
              "ticks": ""
             }
            },
            "marker": {
             "colorbar": {
              "outlinewidth": 0,
              "ticks": ""
             }
            },
            "type": "scatter3d"
           }
          ],
          "scattercarpet": [
           {
            "marker": {
             "colorbar": {
              "outlinewidth": 0,
              "ticks": ""
             }
            },
            "type": "scattercarpet"
           }
          ],
          "scattergeo": [
           {
            "marker": {
             "colorbar": {
              "outlinewidth": 0,
              "ticks": ""
             }
            },
            "type": "scattergeo"
           }
          ],
          "scattergl": [
           {
            "marker": {
             "colorbar": {
              "outlinewidth": 0,
              "ticks": ""
             }
            },
            "type": "scattergl"
           }
          ],
          "scattermap": [
           {
            "marker": {
             "colorbar": {
              "outlinewidth": 0,
              "ticks": ""
             }
            },
            "type": "scattermap"
           }
          ],
          "scattermapbox": [
           {
            "marker": {
             "colorbar": {
              "outlinewidth": 0,
              "ticks": ""
             }
            },
            "type": "scattermapbox"
           }
          ],
          "scatterpolar": [
           {
            "marker": {
             "colorbar": {
              "outlinewidth": 0,
              "ticks": ""
             }
            },
            "type": "scatterpolar"
           }
          ],
          "scatterpolargl": [
           {
            "marker": {
             "colorbar": {
              "outlinewidth": 0,
              "ticks": ""
             }
            },
            "type": "scatterpolargl"
           }
          ],
          "scatterternary": [
           {
            "marker": {
             "colorbar": {
              "outlinewidth": 0,
              "ticks": ""
             }
            },
            "type": "scatterternary"
           }
          ],
          "surface": [
           {
            "colorbar": {
             "outlinewidth": 0,
             "ticks": ""
            },
            "colorscale": [
             [
              0,
              "#0d0887"
             ],
             [
              0.1111111111111111,
              "#46039f"
             ],
             [
              0.2222222222222222,
              "#7201a8"
             ],
             [
              0.3333333333333333,
              "#9c179e"
             ],
             [
              0.4444444444444444,
              "#bd3786"
             ],
             [
              0.5555555555555556,
              "#d8576b"
             ],
             [
              0.6666666666666666,
              "#ed7953"
             ],
             [
              0.7777777777777778,
              "#fb9f3a"
             ],
             [
              0.8888888888888888,
              "#fdca26"
             ],
             [
              1,
              "#f0f921"
             ]
            ],
            "type": "surface"
           }
          ],
          "table": [
           {
            "cells": {
             "fill": {
              "color": "#EBF0F8"
             },
             "line": {
              "color": "white"
             }
            },
            "header": {
             "fill": {
              "color": "#C8D4E3"
             },
             "line": {
              "color": "white"
             }
            },
            "type": "table"
           }
          ]
         },
         "layout": {
          "annotationdefaults": {
           "arrowcolor": "#2a3f5f",
           "arrowhead": 0,
           "arrowwidth": 1
          },
          "autotypenumbers": "strict",
          "coloraxis": {
           "colorbar": {
            "outlinewidth": 0,
            "ticks": ""
           }
          },
          "colorscale": {
           "diverging": [
            [
             0,
             "#8e0152"
            ],
            [
             0.1,
             "#c51b7d"
            ],
            [
             0.2,
             "#de77ae"
            ],
            [
             0.3,
             "#f1b6da"
            ],
            [
             0.4,
             "#fde0ef"
            ],
            [
             0.5,
             "#f7f7f7"
            ],
            [
             0.6,
             "#e6f5d0"
            ],
            [
             0.7,
             "#b8e186"
            ],
            [
             0.8,
             "#7fbc41"
            ],
            [
             0.9,
             "#4d9221"
            ],
            [
             1,
             "#276419"
            ]
           ],
           "sequential": [
            [
             0,
             "#0d0887"
            ],
            [
             0.1111111111111111,
             "#46039f"
            ],
            [
             0.2222222222222222,
             "#7201a8"
            ],
            [
             0.3333333333333333,
             "#9c179e"
            ],
            [
             0.4444444444444444,
             "#bd3786"
            ],
            [
             0.5555555555555556,
             "#d8576b"
            ],
            [
             0.6666666666666666,
             "#ed7953"
            ],
            [
             0.7777777777777778,
             "#fb9f3a"
            ],
            [
             0.8888888888888888,
             "#fdca26"
            ],
            [
             1,
             "#f0f921"
            ]
           ],
           "sequentialminus": [
            [
             0,
             "#0d0887"
            ],
            [
             0.1111111111111111,
             "#46039f"
            ],
            [
             0.2222222222222222,
             "#7201a8"
            ],
            [
             0.3333333333333333,
             "#9c179e"
            ],
            [
             0.4444444444444444,
             "#bd3786"
            ],
            [
             0.5555555555555556,
             "#d8576b"
            ],
            [
             0.6666666666666666,
             "#ed7953"
            ],
            [
             0.7777777777777778,
             "#fb9f3a"
            ],
            [
             0.8888888888888888,
             "#fdca26"
            ],
            [
             1,
             "#f0f921"
            ]
           ]
          },
          "colorway": [
           "#636efa",
           "#EF553B",
           "#00cc96",
           "#ab63fa",
           "#FFA15A",
           "#19d3f3",
           "#FF6692",
           "#B6E880",
           "#FF97FF",
           "#FECB52"
          ],
          "font": {
           "color": "#2a3f5f"
          },
          "geo": {
           "bgcolor": "white",
           "lakecolor": "white",
           "landcolor": "#E5ECF6",
           "showlakes": true,
           "showland": true,
           "subunitcolor": "white"
          },
          "hoverlabel": {
           "align": "left"
          },
          "hovermode": "closest",
          "mapbox": {
           "style": "light"
          },
          "paper_bgcolor": "white",
          "plot_bgcolor": "#E5ECF6",
          "polar": {
           "angularaxis": {
            "gridcolor": "white",
            "linecolor": "white",
            "ticks": ""
           },
           "bgcolor": "#E5ECF6",
           "radialaxis": {
            "gridcolor": "white",
            "linecolor": "white",
            "ticks": ""
           }
          },
          "scene": {
           "xaxis": {
            "backgroundcolor": "#E5ECF6",
            "gridcolor": "white",
            "gridwidth": 2,
            "linecolor": "white",
            "showbackground": true,
            "ticks": "",
            "zerolinecolor": "white"
           },
           "yaxis": {
            "backgroundcolor": "#E5ECF6",
            "gridcolor": "white",
            "gridwidth": 2,
            "linecolor": "white",
            "showbackground": true,
            "ticks": "",
            "zerolinecolor": "white"
           },
           "zaxis": {
            "backgroundcolor": "#E5ECF6",
            "gridcolor": "white",
            "gridwidth": 2,
            "linecolor": "white",
            "showbackground": true,
            "ticks": "",
            "zerolinecolor": "white"
           }
          },
          "shapedefaults": {
           "line": {
            "color": "#2a3f5f"
           }
          },
          "ternary": {
           "aaxis": {
            "gridcolor": "white",
            "linecolor": "white",
            "ticks": ""
           },
           "baxis": {
            "gridcolor": "white",
            "linecolor": "white",
            "ticks": ""
           },
           "bgcolor": "#E5ECF6",
           "caxis": {
            "gridcolor": "white",
            "linecolor": "white",
            "ticks": ""
           }
          },
          "title": {
           "x": 0.05
          },
          "xaxis": {
           "automargin": true,
           "gridcolor": "white",
           "linecolor": "white",
           "ticks": "",
           "title": {
            "standoff": 15
           },
           "zerolinecolor": "white",
           "zerolinewidth": 2
          },
          "yaxis": {
           "automargin": true,
           "gridcolor": "white",
           "linecolor": "white",
           "ticks": "",
           "title": {
            "standoff": 15
           },
           "zerolinecolor": "white",
           "zerolinewidth": 2
          }
         }
        },
        "title": {
         "text": "Berger effect magnitude by configuration (first sessions)"
        },
        "xaxis": {
         "anchor": "y",
         "domain": [
          0,
          1
         ],
         "title": {
          "text": "Config"
         }
        },
        "yaxis": {
         "anchor": "x",
         "domain": [
          0,
          1
         ],
         "showgrid": true,
         "title": {
          "text": "Alpha band area (EC - EO)"
         }
        }
       }
      }
     },
     "metadata": {},
     "output_type": "display_data"
    }
   ],
   "source": [
    "# Compute averages\n",
    "ear_only = average_psds_across_sessions(sessions, config_label=\"Ear Only\", verbose=True)\n",
    "top_ears = average_psds_across_sessions(sessions, config_label=\"Top+Ears\", verbose=True)\n",
    "\n",
    "print(f\"\\nSessions used — Ear Only: {ear_only['n_used']}, Top+Ears: {top_ears['n_used']}\")\n",
    "print(f\"Median fs — Ear Only: {ear_only['fs_median']:.2f} Hz, Top+Ears: {top_ears['fs_median']:.2f} Hz\")\n",
    "\n",
    "# Average PSDs (linear power)\n",
    "flows.plot_avg_psds_by_config_px(\n",
    "    ear_only, top_ears,\n",
    "    x_range=(0, 30),\n",
    "    y_label=\"Power\",\n",
    "    title=\"Average PSDs (Run 1): EC vs EO per configuration\"\n",
    ")\n",
    "\n",
    "flows.plot_effect_bars_px(\n",
    "    {\"Ear Only\": ear_only[\"alpha_effect\"], \"Top+Ears\": top_ears[\"alpha_effect\"]},\n",
    "    y_label=\"Alpha band area (EC - EO)\",\n",
    "    title=\"Berger effect magnitude by configuration (first sessions)\",\n",
    "    text_fmt=\"{:.3f}\"\n",
    ")"
   ]
  },
  {
   "cell_type": "code",
   "execution_count": 14,
   "metadata": {},
   "outputs": [
    {
     "name": "stdout",
     "output_type": "stream",
     "text": [
      "=== Summary (first sessions) ===\n",
      "Ear Only:  alpha_abs=0.021, alpha_dB=3.540, alpha_rel=0.0216, EC_area_1-30Hz=0.7\n",
      "Top+Ears:  alpha_abs=0.042, alpha_dB=8.805, alpha_rel=0.0454, EC_area_1-30Hz=0.6\n"
     ]
    }
   ],
   "source": [
    "\n",
    "# Convert to dB\n",
    "ear_only_db = {'EC': flows.to_db(ear_only['EC']), 'EO': flows.to_db(ear_only['EO'])}\n",
    "top_ears_db = {'EC': flows.to_db(top_ears['EC']), 'EO': flows.to_db(top_ears['EO'])}\n",
    "\n",
    "# Compute absolute, dB, and relative Berger effects (alpha 8–13 Hz)\n",
    "def alpha_metrics(pair):\n",
    "    abs_eff = flows.band_area(pair['EC'], 8, 13) - flows.band_area(pair['EO'], 8, 13)\n",
    "    db_eff  = flows.band_area(flows.to_db(pair['EC']), 8, 13) - flows.band_area(flows.to_db(pair['EO']), 8, 13)\n",
    "    rel_eff = flows.rel_band_power(pair['EC'], 8, 13) - flows.rel_band_power(pair['EO'], 8, 13)\n",
    "    return abs_eff, db_eff, rel_eff\n",
    "\n",
    "eo_abs, eo_db, eo_rel = alpha_metrics(ear_only)\n",
    "te_abs, te_db, te_rel = alpha_metrics(top_ears)\n",
    "\n",
    "# Quick broadband scale check (minfreq–30 Hz EC area)\n",
    "eo_broad = flows.band_area(ear_only['EC'], min_freq, 30)\n",
    "te_broad = flows.band_area(top_ears['EC'], min_freq, 30)\n",
    "\n",
    "print(\"=== Summary (first sessions) ===\")\n",
    "print(f\"Ear Only:  alpha_abs={eo_abs:.3f}, alpha_dB={eo_db:.3f}, alpha_rel={eo_rel:.4f}, EC_area_1-30Hz={eo_broad:.1f}\")\n",
    "print(f\"Top+Ears:  alpha_abs={te_abs:.3f}, alpha_dB={te_db:.3f}, alpha_rel={te_rel:.4f}, EC_area_1-30Hz={te_broad:.1f}\")"
   ]
  },
  {
   "cell_type": "code",
   "execution_count": 15,
   "metadata": {},
   "outputs": [
    {
     "data": {
      "application/vnd.plotly.v1+json": {
       "config": {
        "plotlyServerURL": "https://plot.ly"
       },
       "data": [
        {
         "hovertemplate": "Config=Ear Only<br>State=EC<br>Frequency (Hz)=%{x}<br>Power (dB)=%{y}<extra></extra>",
         "legendgroup": "Ear Only, EC",
         "line": {
          "color": "#636efa",
          "dash": "solid"
         },
         "marker": {
          "symbol": "circle"
         },
         "mode": "lines",
         "name": "Ear Only, EC",
         "orientation": "v",
         "showlegend": true,
         "type": "scatter",
         "x": {
          "bdata": "5anqNnwBAEDY/l9SOgIIQOWp6jZ8ARBAXlSlRNsBFEDY/l9SOgIYQFGpGmCZAhxA5anqNnwBIEAi/8e9qwEiQF5UpUTbASRAm6mCywoCJkDY/l9SOgIoQBRUPdlpAipAUakaYJkCLECN/vfmyAIuQOWp6jZ8ATBAg1RZ+pMBMUAi/8e9qwEyQMCpNoHDATNAXlSlRNsBNED9/hMI8wE1QJupgssKAjZAOVTxjiICN0DY/l9SOgI4QHapzhVSAjlAFFQ92WkCOkCy/qucgQI7QFGpGmCZAjxA71OJI7ECPUCN/vfmyAI+QCypZqrgAj9A5anqNnwBQEA0/6EYiIFAQINUWfqTAUFA0qkQ3J+BQUAi/8e9qwFCQHFUf5+3gUJAwKk2gcMBQ0AP/+1iz4FDQF5UpUTbAURAralcJueBRED9/hMI8wFFQExUy+n+gUVAm6mCywoCRkDq/jmtFoJGQDlU8Y4iAkdAiKmocC6CR0DY/l9SOgJIQCdUFzRGgkhAdqnOFVICSUDF/oX3XYJJQBRUPdlpAkpAY6n0unWCSkCy/qucgQJLQAJUY36NgktAUakaYJkCTECg/tFBpYJMQO9TiSOxAk1APqlABb2CTUA=",
          "dtype": "f8"
         },
         "xaxis": "x",
         "y": {
          "bdata": "Q/9y/p6YIMDYy0KQfMAkwOhuVVdHKSjAnoFazhtsK8BlVTQ28OktwIJh+Ny7si7AbmwgZC87L8DFJfUodzUuwGC4+kVdhy3AXGZqmLuPL8CCcp1azYMwwOa7WvWLezHAlO5ooHgVMsDm6bKXC4kzwPivhqE9jDHA+iPbCk+/MsDp0gE9UlkywLHuR0g8IzPAgA0HUZVhM8DW+PvFu4AzwAv7uG55EzTAC+1hVAZmM8Bof6TNYo4zwOpjvANZ/zPAMWYN5IydNMABZlgBKV00wDC7QOHyojTAeFAFRxgoNMBKHbE9vHwzwBj22agQ3THAngRvisQ5M8DQHFZHHm00wJNhfu3fKDTArryPengRNMDmn1nV4kc0wGuuzg1lBDXABNMuF2RENcC4GR0dxxU1wGevayqwDDXAKDUPOoHtNMBIzbvOVUY1wES3ahDzZjXAzhvWw5AGNsC7IDKekzU2wBqzn8ur0zXAbPBRZFKTNMDi3RzVwyc2wJqgZvKOWjTASIJ4UCYyMMCJLhYqzJAzwKiSQ2+YLTbACzHZVn+BNsAsoRADuIY3wK19cwk2lzbAOJUhOC2/NsBRUGZ5I9Y2wNjF+NwpzjbAYsiUPl7jNsA=",
          "dtype": "f8"
         },
         "yaxis": "y"
        },
        {
         "hovertemplate": "Config=Ear Only<br>State=EO<br>Frequency (Hz)=%{x}<br>Power (dB)=%{y}<extra></extra>",
         "legendgroup": "Ear Only, EO",
         "line": {
          "color": "#636efa",
          "dash": "dot"
         },
         "marker": {
          "symbol": "circle"
         },
         "mode": "lines",
         "name": "Ear Only, EO",
         "orientation": "v",
         "showlegend": true,
         "type": "scatter",
         "x": {
          "bdata": "5anqNnwBAEDY/l9SOgIIQOWp6jZ8ARBAXlSlRNsBFEDY/l9SOgIYQFGpGmCZAhxA5anqNnwBIEAi/8e9qwEiQF5UpUTbASRAm6mCywoCJkDY/l9SOgIoQBRUPdlpAipAUakaYJkCLECN/vfmyAIuQOWp6jZ8ATBAg1RZ+pMBMUAi/8e9qwEyQMCpNoHDATNAXlSlRNsBNED9/hMI8wE1QJupgssKAjZAOVTxjiICN0DY/l9SOgI4QHapzhVSAjlAFFQ92WkCOkCy/qucgQI7QFGpGmCZAjxA71OJI7ECPUCN/vfmyAI+QCypZqrgAj9A5anqNnwBQEA0/6EYiIFAQINUWfqTAUFA0qkQ3J+BQUAi/8e9qwFCQHFUf5+3gUJAwKk2gcMBQ0AP/+1iz4FDQF5UpUTbAURAralcJueBRED9/hMI8wFFQExUy+n+gUVAm6mCywoCRkDq/jmtFoJGQDlU8Y4iAkdAiKmocC6CR0DY/l9SOgJIQCdUFzRGgkhAdqnOFVICSUDF/oX3XYJJQBRUPdlpAkpAY6n0unWCSkCy/qucgQJLQAJUY36NgktAUakaYJkCTECg/tFBpYJMQO9TiSOxAk1APqlABb2CTUA=",
          "dtype": "f8"
         },
         "xaxis": "x",
         "y": {
          "bdata": "wspfmBvGHsDaezD+q7oiwFQtf3URqSfABFfs67N9K8BqF7dO1QwuwOIl/RPDIi/A5J+K22wRL8DUPhEGiJcvwK/XwJeWDDDA8VX5uWnsMMDLSW91TW8xwJ5jyfYNqjHAbWBSSVOXMsCYGsEf0OQzwOHaCRme8zHAXwgFrOHTMsBuaWEfphwzwBtIP93yaTPAopr7ICAAM8DUYYgbp9YywFg0SYel8jLADnm9ObMPM8CIdNwkU+EzwC4NhKrrkDTADEYUDg5iNMDA7RngXtI0wGA4AsnjGzTA0GZb+X/jNMCuJFoOaq00wO8ilbfzpDPA6XxUv07GM8AVeR7BNig1wEHPJ3RT+TTAd7fPF6UTNMB+zH8ZBHM1wFWTzAGmHzXAj0nc0cvnNMDXVjhkBnM1wH4+WAcNgzXANrCzmNGfNcCaC+vIpVs2wJ9xucY4rDXAUJXTWSVXNsBvMXQ6dHU2wHZqw2y2BzbAfXH/61BYNMD13TFC6xI1wO+ZqvIz7TPAnD+AFjaBMMB+XLGJjGo0wMTKqCUscTbAqUvzz55CN8C97jQH5Jk2wAqZ5bP9jDbAz1cnSQbdNsDs0eouo5g2wP0qyurccDbAjlHfyqLpNsA=",
          "dtype": "f8"
         },
         "yaxis": "y"
        },
        {
         "hovertemplate": "Config=Top+Ears<br>State=EC<br>Frequency (Hz)=%{x}<br>Power (dB)=%{y}<extra></extra>",
         "legendgroup": "Top+Ears, EC",
         "line": {
          "color": "#EF553B",
          "dash": "solid"
         },
         "marker": {
          "symbol": "circle"
         },
         "mode": "lines",
         "name": "Top+Ears, EC",
         "orientation": "v",
         "showlegend": true,
         "type": "scatter",
         "x": {
          "bdata": "YOlQ14oHAEAQXvlCUAsIQGDpUNeKBxBAuCMljW0JFEAQXvlCUAsYQGiYzfgyDRxAYOlQ14oHIECMBjsyfAgiQLgjJY1tCSRA5EAP6F4KJkAQXvlCUAsoQDx7451BDCpAaJjN+DINLECUtbdTJA4uQGDpUNeKBzBA9vfFhAMIMUCMBjsyfAgyQCIVsN/0CDNAuCMljW0JNEBOMpo65gk1QORAD+heCjZAek+EldcKN0AQXvlCUAs4QKZsbvDICzlAPHvjnUEMOkDSiVhLugw7QGiYzfgyDTxA/qZCpqsNPUCUtbdTJA4+QCrELAGdDj9AYOlQ14oHQECrcAsux4dAQPb3xYQDCEFAQX+A2z+IQUCMBjsyfAhCQNeN9Yi4iEJAIhWw3/QIQ0BtnGo2MYlDQLgjJY1tCURAA6vf46mJREBOMpo65glFQJm5VJEiikVA5EAP6F4KRkAvyMk+m4pGQHpPhJXXCkdAxdY+7BOLR0AQXvlCUAtIQFvls5mMi0hApmxu8MgLSUDx8yhHBYxJQDx7451BDEpAhwKe9H2MSkDSiVhLugxLQB0RE6L2jEtAaJjN+DINTECzH4hPb41MQP6mQqarDU1ASS79/OeNTUA=",
          "dtype": "f8"
         },
         "xaxis": "x",
         "y": {
          "bdata": "m0sy+9liHsCNSfUXKgUlwMucgF1MVCnAboNfYMViLcAI62nUaCYvwBGyCJ36XTDAEndBDVlMMMCoQo5QomsvwNgrvcJupy3A8o5fkpSGMMAkxMFbbVAxwFpxCAxz8zHAYOvsHMssNMBHnig3kiA2wD9EDXpPcjTACNtesvJANMCGZRyRGWo0wJhJfVCYTTTAgihhBKGtNMCbSupGSgs1wK4JX1kteTXA4LVe1p5ONcCeldQVCfs0wItKlJJI4jTA0cCYeu3eNcBUG7PbOrg1wBdHQHoMRDXAHnS8vpO+NcAv1FRH8Ns1wB5+Zzka9TXASyxjPZ72NcD9VmgsJEY2wKorjbtVBDbAIkmtWlIiNsAEfd0EE+s1wJewLYO1aDXAH9d/NC5TNsC1/HbgICc3wPNQCWaonTbAlaMkqb6gNsAwg95Pkoo2wM57kD/tKTfAdiXhCC3HNsCb5uqCvvM2wIOzf3Hp4TbADETd3gB8N8Dpl5U+K/U3wCS/wTd7ai3AMtArLiWNIcC9EseGAyovwAB+2ttsTDfAE+bocR1sOMDwnaI0PFM4wO3V2VUjXTjAcTTYyvM2OMCf3xQpEDA4wLl0pkeDYTjARjzSjOPuOMA=",
          "dtype": "f8"
         },
         "yaxis": "y"
        },
        {
         "hovertemplate": "Config=Top+Ears<br>State=EO<br>Frequency (Hz)=%{x}<br>Power (dB)=%{y}<extra></extra>",
         "legendgroup": "Top+Ears, EO",
         "line": {
          "color": "#EF553B",
          "dash": "dot"
         },
         "marker": {
          "symbol": "circle"
         },
         "mode": "lines",
         "name": "Top+Ears, EO",
         "orientation": "v",
         "showlegend": true,
         "type": "scatter",
         "x": {
          "bdata": "YOlQ14oHAEAQXvlCUAsIQGDpUNeKBxBAuCMljW0JFEAQXvlCUAsYQGiYzfgyDRxAYOlQ14oHIECMBjsyfAgiQLgjJY1tCSRA5EAP6F4KJkAQXvlCUAsoQDx7451BDCpAaJjN+DINLECUtbdTJA4uQGDpUNeKBzBA9vfFhAMIMUCMBjsyfAgyQCIVsN/0CDNAuCMljW0JNEBOMpo65gk1QORAD+heCjZAek+EldcKN0AQXvlCUAs4QKZsbvDICzlAPHvjnUEMOkDSiVhLugw7QGiYzfgyDTxA/qZCpqsNPUCUtbdTJA4+QCrELAGdDj9AYOlQ14oHQECrcAsux4dAQPb3xYQDCEFAQX+A2z+IQUCMBjsyfAhCQNeN9Yi4iEJAIhWw3/QIQ0BtnGo2MYlDQLgjJY1tCURAA6vf46mJREBOMpo65glFQJm5VJEiikVA5EAP6F4KRkAvyMk+m4pGQHpPhJXXCkdAxdY+7BOLR0AQXvlCUAtIQFvls5mMi0hApmxu8MgLSUDx8yhHBYxJQDx7451BDEpAhwKe9H2MSkDSiVhLugxLQB0RE6L2jEtAaJjN+DINTECzH4hPb41MQP6mQqarDU1ASS79/OeNTUA=",
          "dtype": "f8"
         },
         "xaxis": "x",
         "y": {
          "bdata": "O6Z0DrASHsBvzwGo2x4kwNEuGyR/KSjA+/Q9kMQFLMAZG6/xWbwuwA3xkaN3cTDAib7Xq+oRMcAcMVlUdNIxwHz3V6S2NDLAigBEGGGbMsDBES4V2/kywPTn4d5C+DLAXiEGLyIeNMDrslTdKp42wJ6M+V40yTTA2GiYL3kfNMA9kc+V+gk0wC42ooVIrDTAqwYzB7CZNMAm+sBA5ME0wIxARV1pjjTA9MMLkuCuNMCM39Y7ZzA1wCvZFuh/azXApmmh3tKoNcAb+N3gosY1wH1GDI+34TXAZy3a6GTUNcAQIRM9p801wG7woI3wbjXAOjbHvuSeNcBcOAgLsy82wLnB4eZbSzbAdvNsPOCtNsBhj0LDK4s1wEcteG0WsjXA4T5eOMysNsDMHTwZ9qU2wHj21UOPpzbAEu4iGMHONsCSdwnZtN42wN1qYuoSQjfAn7cOrHBTN8CRJfkjIXE3wDJnMYakJTfAr7ofTJCqN8CJTs4lVEU3wDsQoWsDPizA+N4XvH2dIMA6SNC4LYwuwFi/LlHdzDbAOivnPUWeN8AK1fCRvIU4wCPV6erKWDjAzpWLB4NgOMDuJiU0dzU4wP7N8PGKdjjAV5Y4OpsOOcA=",
          "dtype": "f8"
         },
         "yaxis": "y"
        }
       ],
       "layout": {
        "legend": {
         "title": {
          "text": "Config, State"
         },
         "tracegroupgap": 0
        },
        "template": {
         "data": {
          "bar": [
           {
            "error_x": {
             "color": "#2a3f5f"
            },
            "error_y": {
             "color": "#2a3f5f"
            },
            "marker": {
             "line": {
              "color": "#E5ECF6",
              "width": 0.5
             },
             "pattern": {
              "fillmode": "overlay",
              "size": 10,
              "solidity": 0.2
             }
            },
            "type": "bar"
           }
          ],
          "barpolar": [
           {
            "marker": {
             "line": {
              "color": "#E5ECF6",
              "width": 0.5
             },
             "pattern": {
              "fillmode": "overlay",
              "size": 10,
              "solidity": 0.2
             }
            },
            "type": "barpolar"
           }
          ],
          "carpet": [
           {
            "aaxis": {
             "endlinecolor": "#2a3f5f",
             "gridcolor": "white",
             "linecolor": "white",
             "minorgridcolor": "white",
             "startlinecolor": "#2a3f5f"
            },
            "baxis": {
             "endlinecolor": "#2a3f5f",
             "gridcolor": "white",
             "linecolor": "white",
             "minorgridcolor": "white",
             "startlinecolor": "#2a3f5f"
            },
            "type": "carpet"
           }
          ],
          "choropleth": [
           {
            "colorbar": {
             "outlinewidth": 0,
             "ticks": ""
            },
            "type": "choropleth"
           }
          ],
          "contour": [
           {
            "colorbar": {
             "outlinewidth": 0,
             "ticks": ""
            },
            "colorscale": [
             [
              0,
              "#0d0887"
             ],
             [
              0.1111111111111111,
              "#46039f"
             ],
             [
              0.2222222222222222,
              "#7201a8"
             ],
             [
              0.3333333333333333,
              "#9c179e"
             ],
             [
              0.4444444444444444,
              "#bd3786"
             ],
             [
              0.5555555555555556,
              "#d8576b"
             ],
             [
              0.6666666666666666,
              "#ed7953"
             ],
             [
              0.7777777777777778,
              "#fb9f3a"
             ],
             [
              0.8888888888888888,
              "#fdca26"
             ],
             [
              1,
              "#f0f921"
             ]
            ],
            "type": "contour"
           }
          ],
          "contourcarpet": [
           {
            "colorbar": {
             "outlinewidth": 0,
             "ticks": ""
            },
            "type": "contourcarpet"
           }
          ],
          "heatmap": [
           {
            "colorbar": {
             "outlinewidth": 0,
             "ticks": ""
            },
            "colorscale": [
             [
              0,
              "#0d0887"
             ],
             [
              0.1111111111111111,
              "#46039f"
             ],
             [
              0.2222222222222222,
              "#7201a8"
             ],
             [
              0.3333333333333333,
              "#9c179e"
             ],
             [
              0.4444444444444444,
              "#bd3786"
             ],
             [
              0.5555555555555556,
              "#d8576b"
             ],
             [
              0.6666666666666666,
              "#ed7953"
             ],
             [
              0.7777777777777778,
              "#fb9f3a"
             ],
             [
              0.8888888888888888,
              "#fdca26"
             ],
             [
              1,
              "#f0f921"
             ]
            ],
            "type": "heatmap"
           }
          ],
          "histogram": [
           {
            "marker": {
             "pattern": {
              "fillmode": "overlay",
              "size": 10,
              "solidity": 0.2
             }
            },
            "type": "histogram"
           }
          ],
          "histogram2d": [
           {
            "colorbar": {
             "outlinewidth": 0,
             "ticks": ""
            },
            "colorscale": [
             [
              0,
              "#0d0887"
             ],
             [
              0.1111111111111111,
              "#46039f"
             ],
             [
              0.2222222222222222,
              "#7201a8"
             ],
             [
              0.3333333333333333,
              "#9c179e"
             ],
             [
              0.4444444444444444,
              "#bd3786"
             ],
             [
              0.5555555555555556,
              "#d8576b"
             ],
             [
              0.6666666666666666,
              "#ed7953"
             ],
             [
              0.7777777777777778,
              "#fb9f3a"
             ],
             [
              0.8888888888888888,
              "#fdca26"
             ],
             [
              1,
              "#f0f921"
             ]
            ],
            "type": "histogram2d"
           }
          ],
          "histogram2dcontour": [
           {
            "colorbar": {
             "outlinewidth": 0,
             "ticks": ""
            },
            "colorscale": [
             [
              0,
              "#0d0887"
             ],
             [
              0.1111111111111111,
              "#46039f"
             ],
             [
              0.2222222222222222,
              "#7201a8"
             ],
             [
              0.3333333333333333,
              "#9c179e"
             ],
             [
              0.4444444444444444,
              "#bd3786"
             ],
             [
              0.5555555555555556,
              "#d8576b"
             ],
             [
              0.6666666666666666,
              "#ed7953"
             ],
             [
              0.7777777777777778,
              "#fb9f3a"
             ],
             [
              0.8888888888888888,
              "#fdca26"
             ],
             [
              1,
              "#f0f921"
             ]
            ],
            "type": "histogram2dcontour"
           }
          ],
          "mesh3d": [
           {
            "colorbar": {
             "outlinewidth": 0,
             "ticks": ""
            },
            "type": "mesh3d"
           }
          ],
          "parcoords": [
           {
            "line": {
             "colorbar": {
              "outlinewidth": 0,
              "ticks": ""
             }
            },
            "type": "parcoords"
           }
          ],
          "pie": [
           {
            "automargin": true,
            "type": "pie"
           }
          ],
          "scatter": [
           {
            "fillpattern": {
             "fillmode": "overlay",
             "size": 10,
             "solidity": 0.2
            },
            "type": "scatter"
           }
          ],
          "scatter3d": [
           {
            "line": {
             "colorbar": {
              "outlinewidth": 0,
              "ticks": ""
             }
            },
            "marker": {
             "colorbar": {
              "outlinewidth": 0,
              "ticks": ""
             }
            },
            "type": "scatter3d"
           }
          ],
          "scattercarpet": [
           {
            "marker": {
             "colorbar": {
              "outlinewidth": 0,
              "ticks": ""
             }
            },
            "type": "scattercarpet"
           }
          ],
          "scattergeo": [
           {
            "marker": {
             "colorbar": {
              "outlinewidth": 0,
              "ticks": ""
             }
            },
            "type": "scattergeo"
           }
          ],
          "scattergl": [
           {
            "marker": {
             "colorbar": {
              "outlinewidth": 0,
              "ticks": ""
             }
            },
            "type": "scattergl"
           }
          ],
          "scattermap": [
           {
            "marker": {
             "colorbar": {
              "outlinewidth": 0,
              "ticks": ""
             }
            },
            "type": "scattermap"
           }
          ],
          "scattermapbox": [
           {
            "marker": {
             "colorbar": {
              "outlinewidth": 0,
              "ticks": ""
             }
            },
            "type": "scattermapbox"
           }
          ],
          "scatterpolar": [
           {
            "marker": {
             "colorbar": {
              "outlinewidth": 0,
              "ticks": ""
             }
            },
            "type": "scatterpolar"
           }
          ],
          "scatterpolargl": [
           {
            "marker": {
             "colorbar": {
              "outlinewidth": 0,
              "ticks": ""
             }
            },
            "type": "scatterpolargl"
           }
          ],
          "scatterternary": [
           {
            "marker": {
             "colorbar": {
              "outlinewidth": 0,
              "ticks": ""
             }
            },
            "type": "scatterternary"
           }
          ],
          "surface": [
           {
            "colorbar": {
             "outlinewidth": 0,
             "ticks": ""
            },
            "colorscale": [
             [
              0,
              "#0d0887"
             ],
             [
              0.1111111111111111,
              "#46039f"
             ],
             [
              0.2222222222222222,
              "#7201a8"
             ],
             [
              0.3333333333333333,
              "#9c179e"
             ],
             [
              0.4444444444444444,
              "#bd3786"
             ],
             [
              0.5555555555555556,
              "#d8576b"
             ],
             [
              0.6666666666666666,
              "#ed7953"
             ],
             [
              0.7777777777777778,
              "#fb9f3a"
             ],
             [
              0.8888888888888888,
              "#fdca26"
             ],
             [
              1,
              "#f0f921"
             ]
            ],
            "type": "surface"
           }
          ],
          "table": [
           {
            "cells": {
             "fill": {
              "color": "#EBF0F8"
             },
             "line": {
              "color": "white"
             }
            },
            "header": {
             "fill": {
              "color": "#C8D4E3"
             },
             "line": {
              "color": "white"
             }
            },
            "type": "table"
           }
          ]
         },
         "layout": {
          "annotationdefaults": {
           "arrowcolor": "#2a3f5f",
           "arrowhead": 0,
           "arrowwidth": 1
          },
          "autotypenumbers": "strict",
          "coloraxis": {
           "colorbar": {
            "outlinewidth": 0,
            "ticks": ""
           }
          },
          "colorscale": {
           "diverging": [
            [
             0,
             "#8e0152"
            ],
            [
             0.1,
             "#c51b7d"
            ],
            [
             0.2,
             "#de77ae"
            ],
            [
             0.3,
             "#f1b6da"
            ],
            [
             0.4,
             "#fde0ef"
            ],
            [
             0.5,
             "#f7f7f7"
            ],
            [
             0.6,
             "#e6f5d0"
            ],
            [
             0.7,
             "#b8e186"
            ],
            [
             0.8,
             "#7fbc41"
            ],
            [
             0.9,
             "#4d9221"
            ],
            [
             1,
             "#276419"
            ]
           ],
           "sequential": [
            [
             0,
             "#0d0887"
            ],
            [
             0.1111111111111111,
             "#46039f"
            ],
            [
             0.2222222222222222,
             "#7201a8"
            ],
            [
             0.3333333333333333,
             "#9c179e"
            ],
            [
             0.4444444444444444,
             "#bd3786"
            ],
            [
             0.5555555555555556,
             "#d8576b"
            ],
            [
             0.6666666666666666,
             "#ed7953"
            ],
            [
             0.7777777777777778,
             "#fb9f3a"
            ],
            [
             0.8888888888888888,
             "#fdca26"
            ],
            [
             1,
             "#f0f921"
            ]
           ],
           "sequentialminus": [
            [
             0,
             "#0d0887"
            ],
            [
             0.1111111111111111,
             "#46039f"
            ],
            [
             0.2222222222222222,
             "#7201a8"
            ],
            [
             0.3333333333333333,
             "#9c179e"
            ],
            [
             0.4444444444444444,
             "#bd3786"
            ],
            [
             0.5555555555555556,
             "#d8576b"
            ],
            [
             0.6666666666666666,
             "#ed7953"
            ],
            [
             0.7777777777777778,
             "#fb9f3a"
            ],
            [
             0.8888888888888888,
             "#fdca26"
            ],
            [
             1,
             "#f0f921"
            ]
           ]
          },
          "colorway": [
           "#636efa",
           "#EF553B",
           "#00cc96",
           "#ab63fa",
           "#FFA15A",
           "#19d3f3",
           "#FF6692",
           "#B6E880",
           "#FF97FF",
           "#FECB52"
          ],
          "font": {
           "color": "#2a3f5f"
          },
          "geo": {
           "bgcolor": "white",
           "lakecolor": "white",
           "landcolor": "#E5ECF6",
           "showlakes": true,
           "showland": true,
           "subunitcolor": "white"
          },
          "hoverlabel": {
           "align": "left"
          },
          "hovermode": "closest",
          "mapbox": {
           "style": "light"
          },
          "paper_bgcolor": "white",
          "plot_bgcolor": "#E5ECF6",
          "polar": {
           "angularaxis": {
            "gridcolor": "white",
            "linecolor": "white",
            "ticks": ""
           },
           "bgcolor": "#E5ECF6",
           "radialaxis": {
            "gridcolor": "white",
            "linecolor": "white",
            "ticks": ""
           }
          },
          "scene": {
           "xaxis": {
            "backgroundcolor": "#E5ECF6",
            "gridcolor": "white",
            "gridwidth": 2,
            "linecolor": "white",
            "showbackground": true,
            "ticks": "",
            "zerolinecolor": "white"
           },
           "yaxis": {
            "backgroundcolor": "#E5ECF6",
            "gridcolor": "white",
            "gridwidth": 2,
            "linecolor": "white",
            "showbackground": true,
            "ticks": "",
            "zerolinecolor": "white"
           },
           "zaxis": {
            "backgroundcolor": "#E5ECF6",
            "gridcolor": "white",
            "gridwidth": 2,
            "linecolor": "white",
            "showbackground": true,
            "ticks": "",
            "zerolinecolor": "white"
           }
          },
          "shapedefaults": {
           "line": {
            "color": "#2a3f5f"
           }
          },
          "ternary": {
           "aaxis": {
            "gridcolor": "white",
            "linecolor": "white",
            "ticks": ""
           },
           "baxis": {
            "gridcolor": "white",
            "linecolor": "white",
            "ticks": ""
           },
           "bgcolor": "#E5ECF6",
           "caxis": {
            "gridcolor": "white",
            "linecolor": "white",
            "ticks": ""
           }
          },
          "title": {
           "x": 0.05
          },
          "xaxis": {
           "automargin": true,
           "gridcolor": "white",
           "linecolor": "white",
           "ticks": "",
           "title": {
            "standoff": 15
           },
           "zerolinecolor": "white",
           "zerolinewidth": 2
          },
          "yaxis": {
           "automargin": true,
           "gridcolor": "white",
           "linecolor": "white",
           "ticks": "",
           "title": {
            "standoff": 15
           },
           "zerolinecolor": "white",
           "zerolinewidth": 2
          }
         }
        },
        "title": {
         "text": "Average PSDs (Run 1) in dB: EC vs EO per configuration"
        },
        "xaxis": {
         "anchor": "y",
         "domain": [
          0,
          1
         ],
         "range": [
          2,
          30
         ],
         "title": {
          "text": "Frequency (Hz)"
         }
        },
        "yaxis": {
         "anchor": "x",
         "domain": [
          0,
          1
         ],
         "showgrid": true,
         "title": {
          "text": "Power (dB)"
         }
        }
       }
      }
     },
     "metadata": {},
     "output_type": "display_data"
    },
    {
     "data": {
      "application/vnd.plotly.v1+json": {
       "config": {
        "plotlyServerURL": "https://plot.ly"
       },
       "data": [
        {
         "cliponaxis": false,
         "hovertemplate": "Config=%{x}<br>Alpha band area (dB, EC - EO)=%{y}<br>Text=%{text}<extra></extra>",
         "legendgroup": "",
         "marker": {
          "color": "#636efa",
          "pattern": {
           "shape": ""
          }
         },
         "name": "",
         "orientation": "v",
         "showlegend": false,
         "text": [
          "3.54",
          "8.80"
         ],
         "textposition": "outside",
         "type": "bar",
         "x": [
          "Ear Only",
          "Top+Ears"
         ],
         "xaxis": "x",
         "y": {
          "bdata": "AIgmif5QDEAYV496JpwhQA==",
          "dtype": "f8"
         },
         "yaxis": "y"
        }
       ],
       "layout": {
        "barmode": "relative",
        "legend": {
         "tracegroupgap": 0
        },
        "template": {
         "data": {
          "bar": [
           {
            "error_x": {
             "color": "#2a3f5f"
            },
            "error_y": {
             "color": "#2a3f5f"
            },
            "marker": {
             "line": {
              "color": "#E5ECF6",
              "width": 0.5
             },
             "pattern": {
              "fillmode": "overlay",
              "size": 10,
              "solidity": 0.2
             }
            },
            "type": "bar"
           }
          ],
          "barpolar": [
           {
            "marker": {
             "line": {
              "color": "#E5ECF6",
              "width": 0.5
             },
             "pattern": {
              "fillmode": "overlay",
              "size": 10,
              "solidity": 0.2
             }
            },
            "type": "barpolar"
           }
          ],
          "carpet": [
           {
            "aaxis": {
             "endlinecolor": "#2a3f5f",
             "gridcolor": "white",
             "linecolor": "white",
             "minorgridcolor": "white",
             "startlinecolor": "#2a3f5f"
            },
            "baxis": {
             "endlinecolor": "#2a3f5f",
             "gridcolor": "white",
             "linecolor": "white",
             "minorgridcolor": "white",
             "startlinecolor": "#2a3f5f"
            },
            "type": "carpet"
           }
          ],
          "choropleth": [
           {
            "colorbar": {
             "outlinewidth": 0,
             "ticks": ""
            },
            "type": "choropleth"
           }
          ],
          "contour": [
           {
            "colorbar": {
             "outlinewidth": 0,
             "ticks": ""
            },
            "colorscale": [
             [
              0,
              "#0d0887"
             ],
             [
              0.1111111111111111,
              "#46039f"
             ],
             [
              0.2222222222222222,
              "#7201a8"
             ],
             [
              0.3333333333333333,
              "#9c179e"
             ],
             [
              0.4444444444444444,
              "#bd3786"
             ],
             [
              0.5555555555555556,
              "#d8576b"
             ],
             [
              0.6666666666666666,
              "#ed7953"
             ],
             [
              0.7777777777777778,
              "#fb9f3a"
             ],
             [
              0.8888888888888888,
              "#fdca26"
             ],
             [
              1,
              "#f0f921"
             ]
            ],
            "type": "contour"
           }
          ],
          "contourcarpet": [
           {
            "colorbar": {
             "outlinewidth": 0,
             "ticks": ""
            },
            "type": "contourcarpet"
           }
          ],
          "heatmap": [
           {
            "colorbar": {
             "outlinewidth": 0,
             "ticks": ""
            },
            "colorscale": [
             [
              0,
              "#0d0887"
             ],
             [
              0.1111111111111111,
              "#46039f"
             ],
             [
              0.2222222222222222,
              "#7201a8"
             ],
             [
              0.3333333333333333,
              "#9c179e"
             ],
             [
              0.4444444444444444,
              "#bd3786"
             ],
             [
              0.5555555555555556,
              "#d8576b"
             ],
             [
              0.6666666666666666,
              "#ed7953"
             ],
             [
              0.7777777777777778,
              "#fb9f3a"
             ],
             [
              0.8888888888888888,
              "#fdca26"
             ],
             [
              1,
              "#f0f921"
             ]
            ],
            "type": "heatmap"
           }
          ],
          "histogram": [
           {
            "marker": {
             "pattern": {
              "fillmode": "overlay",
              "size": 10,
              "solidity": 0.2
             }
            },
            "type": "histogram"
           }
          ],
          "histogram2d": [
           {
            "colorbar": {
             "outlinewidth": 0,
             "ticks": ""
            },
            "colorscale": [
             [
              0,
              "#0d0887"
             ],
             [
              0.1111111111111111,
              "#46039f"
             ],
             [
              0.2222222222222222,
              "#7201a8"
             ],
             [
              0.3333333333333333,
              "#9c179e"
             ],
             [
              0.4444444444444444,
              "#bd3786"
             ],
             [
              0.5555555555555556,
              "#d8576b"
             ],
             [
              0.6666666666666666,
              "#ed7953"
             ],
             [
              0.7777777777777778,
              "#fb9f3a"
             ],
             [
              0.8888888888888888,
              "#fdca26"
             ],
             [
              1,
              "#f0f921"
             ]
            ],
            "type": "histogram2d"
           }
          ],
          "histogram2dcontour": [
           {
            "colorbar": {
             "outlinewidth": 0,
             "ticks": ""
            },
            "colorscale": [
             [
              0,
              "#0d0887"
             ],
             [
              0.1111111111111111,
              "#46039f"
             ],
             [
              0.2222222222222222,
              "#7201a8"
             ],
             [
              0.3333333333333333,
              "#9c179e"
             ],
             [
              0.4444444444444444,
              "#bd3786"
             ],
             [
              0.5555555555555556,
              "#d8576b"
             ],
             [
              0.6666666666666666,
              "#ed7953"
             ],
             [
              0.7777777777777778,
              "#fb9f3a"
             ],
             [
              0.8888888888888888,
              "#fdca26"
             ],
             [
              1,
              "#f0f921"
             ]
            ],
            "type": "histogram2dcontour"
           }
          ],
          "mesh3d": [
           {
            "colorbar": {
             "outlinewidth": 0,
             "ticks": ""
            },
            "type": "mesh3d"
           }
          ],
          "parcoords": [
           {
            "line": {
             "colorbar": {
              "outlinewidth": 0,
              "ticks": ""
             }
            },
            "type": "parcoords"
           }
          ],
          "pie": [
           {
            "automargin": true,
            "type": "pie"
           }
          ],
          "scatter": [
           {
            "fillpattern": {
             "fillmode": "overlay",
             "size": 10,
             "solidity": 0.2
            },
            "type": "scatter"
           }
          ],
          "scatter3d": [
           {
            "line": {
             "colorbar": {
              "outlinewidth": 0,
              "ticks": ""
             }
            },
            "marker": {
             "colorbar": {
              "outlinewidth": 0,
              "ticks": ""
             }
            },
            "type": "scatter3d"
           }
          ],
          "scattercarpet": [
           {
            "marker": {
             "colorbar": {
              "outlinewidth": 0,
              "ticks": ""
             }
            },
            "type": "scattercarpet"
           }
          ],
          "scattergeo": [
           {
            "marker": {
             "colorbar": {
              "outlinewidth": 0,
              "ticks": ""
             }
            },
            "type": "scattergeo"
           }
          ],
          "scattergl": [
           {
            "marker": {
             "colorbar": {
              "outlinewidth": 0,
              "ticks": ""
             }
            },
            "type": "scattergl"
           }
          ],
          "scattermap": [
           {
            "marker": {
             "colorbar": {
              "outlinewidth": 0,
              "ticks": ""
             }
            },
            "type": "scattermap"
           }
          ],
          "scattermapbox": [
           {
            "marker": {
             "colorbar": {
              "outlinewidth": 0,
              "ticks": ""
             }
            },
            "type": "scattermapbox"
           }
          ],
          "scatterpolar": [
           {
            "marker": {
             "colorbar": {
              "outlinewidth": 0,
              "ticks": ""
             }
            },
            "type": "scatterpolar"
           }
          ],
          "scatterpolargl": [
           {
            "marker": {
             "colorbar": {
              "outlinewidth": 0,
              "ticks": ""
             }
            },
            "type": "scatterpolargl"
           }
          ],
          "scatterternary": [
           {
            "marker": {
             "colorbar": {
              "outlinewidth": 0,
              "ticks": ""
             }
            },
            "type": "scatterternary"
           }
          ],
          "surface": [
           {
            "colorbar": {
             "outlinewidth": 0,
             "ticks": ""
            },
            "colorscale": [
             [
              0,
              "#0d0887"
             ],
             [
              0.1111111111111111,
              "#46039f"
             ],
             [
              0.2222222222222222,
              "#7201a8"
             ],
             [
              0.3333333333333333,
              "#9c179e"
             ],
             [
              0.4444444444444444,
              "#bd3786"
             ],
             [
              0.5555555555555556,
              "#d8576b"
             ],
             [
              0.6666666666666666,
              "#ed7953"
             ],
             [
              0.7777777777777778,
              "#fb9f3a"
             ],
             [
              0.8888888888888888,
              "#fdca26"
             ],
             [
              1,
              "#f0f921"
             ]
            ],
            "type": "surface"
           }
          ],
          "table": [
           {
            "cells": {
             "fill": {
              "color": "#EBF0F8"
             },
             "line": {
              "color": "white"
             }
            },
            "header": {
             "fill": {
              "color": "#C8D4E3"
             },
             "line": {
              "color": "white"
             }
            },
            "type": "table"
           }
          ]
         },
         "layout": {
          "annotationdefaults": {
           "arrowcolor": "#2a3f5f",
           "arrowhead": 0,
           "arrowwidth": 1
          },
          "autotypenumbers": "strict",
          "coloraxis": {
           "colorbar": {
            "outlinewidth": 0,
            "ticks": ""
           }
          },
          "colorscale": {
           "diverging": [
            [
             0,
             "#8e0152"
            ],
            [
             0.1,
             "#c51b7d"
            ],
            [
             0.2,
             "#de77ae"
            ],
            [
             0.3,
             "#f1b6da"
            ],
            [
             0.4,
             "#fde0ef"
            ],
            [
             0.5,
             "#f7f7f7"
            ],
            [
             0.6,
             "#e6f5d0"
            ],
            [
             0.7,
             "#b8e186"
            ],
            [
             0.8,
             "#7fbc41"
            ],
            [
             0.9,
             "#4d9221"
            ],
            [
             1,
             "#276419"
            ]
           ],
           "sequential": [
            [
             0,
             "#0d0887"
            ],
            [
             0.1111111111111111,
             "#46039f"
            ],
            [
             0.2222222222222222,
             "#7201a8"
            ],
            [
             0.3333333333333333,
             "#9c179e"
            ],
            [
             0.4444444444444444,
             "#bd3786"
            ],
            [
             0.5555555555555556,
             "#d8576b"
            ],
            [
             0.6666666666666666,
             "#ed7953"
            ],
            [
             0.7777777777777778,
             "#fb9f3a"
            ],
            [
             0.8888888888888888,
             "#fdca26"
            ],
            [
             1,
             "#f0f921"
            ]
           ],
           "sequentialminus": [
            [
             0,
             "#0d0887"
            ],
            [
             0.1111111111111111,
             "#46039f"
            ],
            [
             0.2222222222222222,
             "#7201a8"
            ],
            [
             0.3333333333333333,
             "#9c179e"
            ],
            [
             0.4444444444444444,
             "#bd3786"
            ],
            [
             0.5555555555555556,
             "#d8576b"
            ],
            [
             0.6666666666666666,
             "#ed7953"
            ],
            [
             0.7777777777777778,
             "#fb9f3a"
            ],
            [
             0.8888888888888888,
             "#fdca26"
            ],
            [
             1,
             "#f0f921"
            ]
           ]
          },
          "colorway": [
           "#636efa",
           "#EF553B",
           "#00cc96",
           "#ab63fa",
           "#FFA15A",
           "#19d3f3",
           "#FF6692",
           "#B6E880",
           "#FF97FF",
           "#FECB52"
          ],
          "font": {
           "color": "#2a3f5f"
          },
          "geo": {
           "bgcolor": "white",
           "lakecolor": "white",
           "landcolor": "#E5ECF6",
           "showlakes": true,
           "showland": true,
           "subunitcolor": "white"
          },
          "hoverlabel": {
           "align": "left"
          },
          "hovermode": "closest",
          "mapbox": {
           "style": "light"
          },
          "paper_bgcolor": "white",
          "plot_bgcolor": "#E5ECF6",
          "polar": {
           "angularaxis": {
            "gridcolor": "white",
            "linecolor": "white",
            "ticks": ""
           },
           "bgcolor": "#E5ECF6",
           "radialaxis": {
            "gridcolor": "white",
            "linecolor": "white",
            "ticks": ""
           }
          },
          "scene": {
           "xaxis": {
            "backgroundcolor": "#E5ECF6",
            "gridcolor": "white",
            "gridwidth": 2,
            "linecolor": "white",
            "showbackground": true,
            "ticks": "",
            "zerolinecolor": "white"
           },
           "yaxis": {
            "backgroundcolor": "#E5ECF6",
            "gridcolor": "white",
            "gridwidth": 2,
            "linecolor": "white",
            "showbackground": true,
            "ticks": "",
            "zerolinecolor": "white"
           },
           "zaxis": {
            "backgroundcolor": "#E5ECF6",
            "gridcolor": "white",
            "gridwidth": 2,
            "linecolor": "white",
            "showbackground": true,
            "ticks": "",
            "zerolinecolor": "white"
           }
          },
          "shapedefaults": {
           "line": {
            "color": "#2a3f5f"
           }
          },
          "ternary": {
           "aaxis": {
            "gridcolor": "white",
            "linecolor": "white",
            "ticks": ""
           },
           "baxis": {
            "gridcolor": "white",
            "linecolor": "white",
            "ticks": ""
           },
           "bgcolor": "#E5ECF6",
           "caxis": {
            "gridcolor": "white",
            "linecolor": "white",
            "ticks": ""
           }
          },
          "title": {
           "x": 0.05
          },
          "xaxis": {
           "automargin": true,
           "gridcolor": "white",
           "linecolor": "white",
           "ticks": "",
           "title": {
            "standoff": 15
           },
           "zerolinecolor": "white",
           "zerolinewidth": 2
          },
          "yaxis": {
           "automargin": true,
           "gridcolor": "white",
           "linecolor": "white",
           "ticks": "",
           "title": {
            "standoff": 15
           },
           "zerolinecolor": "white",
           "zerolinewidth": 2
          }
         }
        },
        "title": {
         "text": "Berger effect magnitude (dB)"
        },
        "xaxis": {
         "anchor": "y",
         "domain": [
          0,
          1
         ],
         "title": {
          "text": "Config"
         }
        },
        "yaxis": {
         "anchor": "x",
         "domain": [
          0,
          1
         ],
         "showgrid": true,
         "title": {
          "text": "Alpha band area (dB, EC - EO)"
         }
        }
       }
      }
     },
     "metadata": {},
     "output_type": "display_data"
    },
    {
     "data": {
      "application/vnd.plotly.v1+json": {
       "config": {
        "plotlyServerURL": "https://plot.ly"
       },
       "data": [
        {
         "cliponaxis": false,
         "hovertemplate": "Config=%{x}<br>Δ Relative alpha power (EC - EO)=%{y}<br>Text=%{text}<extra></extra>",
         "legendgroup": "",
         "marker": {
          "color": "#636efa",
          "pattern": {
           "shape": ""
          }
         },
         "name": "",
         "orientation": "v",
         "showlegend": false,
         "text": [
          "0.0216",
          "0.0454"
         ],
         "textposition": "outside",
         "type": "bar",
         "x": [
          "Ear Only",
          "Top+Ears"
         ],
         "xaxis": "x",
         "y": {
          "bdata": "UKUQNmMVlj+8n+J9JDqnPw==",
          "dtype": "f8"
         },
         "yaxis": "y"
        }
       ],
       "layout": {
        "barmode": "relative",
        "legend": {
         "tracegroupgap": 0
        },
        "template": {
         "data": {
          "bar": [
           {
            "error_x": {
             "color": "#2a3f5f"
            },
            "error_y": {
             "color": "#2a3f5f"
            },
            "marker": {
             "line": {
              "color": "#E5ECF6",
              "width": 0.5
             },
             "pattern": {
              "fillmode": "overlay",
              "size": 10,
              "solidity": 0.2
             }
            },
            "type": "bar"
           }
          ],
          "barpolar": [
           {
            "marker": {
             "line": {
              "color": "#E5ECF6",
              "width": 0.5
             },
             "pattern": {
              "fillmode": "overlay",
              "size": 10,
              "solidity": 0.2
             }
            },
            "type": "barpolar"
           }
          ],
          "carpet": [
           {
            "aaxis": {
             "endlinecolor": "#2a3f5f",
             "gridcolor": "white",
             "linecolor": "white",
             "minorgridcolor": "white",
             "startlinecolor": "#2a3f5f"
            },
            "baxis": {
             "endlinecolor": "#2a3f5f",
             "gridcolor": "white",
             "linecolor": "white",
             "minorgridcolor": "white",
             "startlinecolor": "#2a3f5f"
            },
            "type": "carpet"
           }
          ],
          "choropleth": [
           {
            "colorbar": {
             "outlinewidth": 0,
             "ticks": ""
            },
            "type": "choropleth"
           }
          ],
          "contour": [
           {
            "colorbar": {
             "outlinewidth": 0,
             "ticks": ""
            },
            "colorscale": [
             [
              0,
              "#0d0887"
             ],
             [
              0.1111111111111111,
              "#46039f"
             ],
             [
              0.2222222222222222,
              "#7201a8"
             ],
             [
              0.3333333333333333,
              "#9c179e"
             ],
             [
              0.4444444444444444,
              "#bd3786"
             ],
             [
              0.5555555555555556,
              "#d8576b"
             ],
             [
              0.6666666666666666,
              "#ed7953"
             ],
             [
              0.7777777777777778,
              "#fb9f3a"
             ],
             [
              0.8888888888888888,
              "#fdca26"
             ],
             [
              1,
              "#f0f921"
             ]
            ],
            "type": "contour"
           }
          ],
          "contourcarpet": [
           {
            "colorbar": {
             "outlinewidth": 0,
             "ticks": ""
            },
            "type": "contourcarpet"
           }
          ],
          "heatmap": [
           {
            "colorbar": {
             "outlinewidth": 0,
             "ticks": ""
            },
            "colorscale": [
             [
              0,
              "#0d0887"
             ],
             [
              0.1111111111111111,
              "#46039f"
             ],
             [
              0.2222222222222222,
              "#7201a8"
             ],
             [
              0.3333333333333333,
              "#9c179e"
             ],
             [
              0.4444444444444444,
              "#bd3786"
             ],
             [
              0.5555555555555556,
              "#d8576b"
             ],
             [
              0.6666666666666666,
              "#ed7953"
             ],
             [
              0.7777777777777778,
              "#fb9f3a"
             ],
             [
              0.8888888888888888,
              "#fdca26"
             ],
             [
              1,
              "#f0f921"
             ]
            ],
            "type": "heatmap"
           }
          ],
          "histogram": [
           {
            "marker": {
             "pattern": {
              "fillmode": "overlay",
              "size": 10,
              "solidity": 0.2
             }
            },
            "type": "histogram"
           }
          ],
          "histogram2d": [
           {
            "colorbar": {
             "outlinewidth": 0,
             "ticks": ""
            },
            "colorscale": [
             [
              0,
              "#0d0887"
             ],
             [
              0.1111111111111111,
              "#46039f"
             ],
             [
              0.2222222222222222,
              "#7201a8"
             ],
             [
              0.3333333333333333,
              "#9c179e"
             ],
             [
              0.4444444444444444,
              "#bd3786"
             ],
             [
              0.5555555555555556,
              "#d8576b"
             ],
             [
              0.6666666666666666,
              "#ed7953"
             ],
             [
              0.7777777777777778,
              "#fb9f3a"
             ],
             [
              0.8888888888888888,
              "#fdca26"
             ],
             [
              1,
              "#f0f921"
             ]
            ],
            "type": "histogram2d"
           }
          ],
          "histogram2dcontour": [
           {
            "colorbar": {
             "outlinewidth": 0,
             "ticks": ""
            },
            "colorscale": [
             [
              0,
              "#0d0887"
             ],
             [
              0.1111111111111111,
              "#46039f"
             ],
             [
              0.2222222222222222,
              "#7201a8"
             ],
             [
              0.3333333333333333,
              "#9c179e"
             ],
             [
              0.4444444444444444,
              "#bd3786"
             ],
             [
              0.5555555555555556,
              "#d8576b"
             ],
             [
              0.6666666666666666,
              "#ed7953"
             ],
             [
              0.7777777777777778,
              "#fb9f3a"
             ],
             [
              0.8888888888888888,
              "#fdca26"
             ],
             [
              1,
              "#f0f921"
             ]
            ],
            "type": "histogram2dcontour"
           }
          ],
          "mesh3d": [
           {
            "colorbar": {
             "outlinewidth": 0,
             "ticks": ""
            },
            "type": "mesh3d"
           }
          ],
          "parcoords": [
           {
            "line": {
             "colorbar": {
              "outlinewidth": 0,
              "ticks": ""
             }
            },
            "type": "parcoords"
           }
          ],
          "pie": [
           {
            "automargin": true,
            "type": "pie"
           }
          ],
          "scatter": [
           {
            "fillpattern": {
             "fillmode": "overlay",
             "size": 10,
             "solidity": 0.2
            },
            "type": "scatter"
           }
          ],
          "scatter3d": [
           {
            "line": {
             "colorbar": {
              "outlinewidth": 0,
              "ticks": ""
             }
            },
            "marker": {
             "colorbar": {
              "outlinewidth": 0,
              "ticks": ""
             }
            },
            "type": "scatter3d"
           }
          ],
          "scattercarpet": [
           {
            "marker": {
             "colorbar": {
              "outlinewidth": 0,
              "ticks": ""
             }
            },
            "type": "scattercarpet"
           }
          ],
          "scattergeo": [
           {
            "marker": {
             "colorbar": {
              "outlinewidth": 0,
              "ticks": ""
             }
            },
            "type": "scattergeo"
           }
          ],
          "scattergl": [
           {
            "marker": {
             "colorbar": {
              "outlinewidth": 0,
              "ticks": ""
             }
            },
            "type": "scattergl"
           }
          ],
          "scattermap": [
           {
            "marker": {
             "colorbar": {
              "outlinewidth": 0,
              "ticks": ""
             }
            },
            "type": "scattermap"
           }
          ],
          "scattermapbox": [
           {
            "marker": {
             "colorbar": {
              "outlinewidth": 0,
              "ticks": ""
             }
            },
            "type": "scattermapbox"
           }
          ],
          "scatterpolar": [
           {
            "marker": {
             "colorbar": {
              "outlinewidth": 0,
              "ticks": ""
             }
            },
            "type": "scatterpolar"
           }
          ],
          "scatterpolargl": [
           {
            "marker": {
             "colorbar": {
              "outlinewidth": 0,
              "ticks": ""
             }
            },
            "type": "scatterpolargl"
           }
          ],
          "scatterternary": [
           {
            "marker": {
             "colorbar": {
              "outlinewidth": 0,
              "ticks": ""
             }
            },
            "type": "scatterternary"
           }
          ],
          "surface": [
           {
            "colorbar": {
             "outlinewidth": 0,
             "ticks": ""
            },
            "colorscale": [
             [
              0,
              "#0d0887"
             ],
             [
              0.1111111111111111,
              "#46039f"
             ],
             [
              0.2222222222222222,
              "#7201a8"
             ],
             [
              0.3333333333333333,
              "#9c179e"
             ],
             [
              0.4444444444444444,
              "#bd3786"
             ],
             [
              0.5555555555555556,
              "#d8576b"
             ],
             [
              0.6666666666666666,
              "#ed7953"
             ],
             [
              0.7777777777777778,
              "#fb9f3a"
             ],
             [
              0.8888888888888888,
              "#fdca26"
             ],
             [
              1,
              "#f0f921"
             ]
            ],
            "type": "surface"
           }
          ],
          "table": [
           {
            "cells": {
             "fill": {
              "color": "#EBF0F8"
             },
             "line": {
              "color": "white"
             }
            },
            "header": {
             "fill": {
              "color": "#C8D4E3"
             },
             "line": {
              "color": "white"
             }
            },
            "type": "table"
           }
          ]
         },
         "layout": {
          "annotationdefaults": {
           "arrowcolor": "#2a3f5f",
           "arrowhead": 0,
           "arrowwidth": 1
          },
          "autotypenumbers": "strict",
          "coloraxis": {
           "colorbar": {
            "outlinewidth": 0,
            "ticks": ""
           }
          },
          "colorscale": {
           "diverging": [
            [
             0,
             "#8e0152"
            ],
            [
             0.1,
             "#c51b7d"
            ],
            [
             0.2,
             "#de77ae"
            ],
            [
             0.3,
             "#f1b6da"
            ],
            [
             0.4,
             "#fde0ef"
            ],
            [
             0.5,
             "#f7f7f7"
            ],
            [
             0.6,
             "#e6f5d0"
            ],
            [
             0.7,
             "#b8e186"
            ],
            [
             0.8,
             "#7fbc41"
            ],
            [
             0.9,
             "#4d9221"
            ],
            [
             1,
             "#276419"
            ]
           ],
           "sequential": [
            [
             0,
             "#0d0887"
            ],
            [
             0.1111111111111111,
             "#46039f"
            ],
            [
             0.2222222222222222,
             "#7201a8"
            ],
            [
             0.3333333333333333,
             "#9c179e"
            ],
            [
             0.4444444444444444,
             "#bd3786"
            ],
            [
             0.5555555555555556,
             "#d8576b"
            ],
            [
             0.6666666666666666,
             "#ed7953"
            ],
            [
             0.7777777777777778,
             "#fb9f3a"
            ],
            [
             0.8888888888888888,
             "#fdca26"
            ],
            [
             1,
             "#f0f921"
            ]
           ],
           "sequentialminus": [
            [
             0,
             "#0d0887"
            ],
            [
             0.1111111111111111,
             "#46039f"
            ],
            [
             0.2222222222222222,
             "#7201a8"
            ],
            [
             0.3333333333333333,
             "#9c179e"
            ],
            [
             0.4444444444444444,
             "#bd3786"
            ],
            [
             0.5555555555555556,
             "#d8576b"
            ],
            [
             0.6666666666666666,
             "#ed7953"
            ],
            [
             0.7777777777777778,
             "#fb9f3a"
            ],
            [
             0.8888888888888888,
             "#fdca26"
            ],
            [
             1,
             "#f0f921"
            ]
           ]
          },
          "colorway": [
           "#636efa",
           "#EF553B",
           "#00cc96",
           "#ab63fa",
           "#FFA15A",
           "#19d3f3",
           "#FF6692",
           "#B6E880",
           "#FF97FF",
           "#FECB52"
          ],
          "font": {
           "color": "#2a3f5f"
          },
          "geo": {
           "bgcolor": "white",
           "lakecolor": "white",
           "landcolor": "#E5ECF6",
           "showlakes": true,
           "showland": true,
           "subunitcolor": "white"
          },
          "hoverlabel": {
           "align": "left"
          },
          "hovermode": "closest",
          "mapbox": {
           "style": "light"
          },
          "paper_bgcolor": "white",
          "plot_bgcolor": "#E5ECF6",
          "polar": {
           "angularaxis": {
            "gridcolor": "white",
            "linecolor": "white",
            "ticks": ""
           },
           "bgcolor": "#E5ECF6",
           "radialaxis": {
            "gridcolor": "white",
            "linecolor": "white",
            "ticks": ""
           }
          },
          "scene": {
           "xaxis": {
            "backgroundcolor": "#E5ECF6",
            "gridcolor": "white",
            "gridwidth": 2,
            "linecolor": "white",
            "showbackground": true,
            "ticks": "",
            "zerolinecolor": "white"
           },
           "yaxis": {
            "backgroundcolor": "#E5ECF6",
            "gridcolor": "white",
            "gridwidth": 2,
            "linecolor": "white",
            "showbackground": true,
            "ticks": "",
            "zerolinecolor": "white"
           },
           "zaxis": {
            "backgroundcolor": "#E5ECF6",
            "gridcolor": "white",
            "gridwidth": 2,
            "linecolor": "white",
            "showbackground": true,
            "ticks": "",
            "zerolinecolor": "white"
           }
          },
          "shapedefaults": {
           "line": {
            "color": "#2a3f5f"
           }
          },
          "ternary": {
           "aaxis": {
            "gridcolor": "white",
            "linecolor": "white",
            "ticks": ""
           },
           "baxis": {
            "gridcolor": "white",
            "linecolor": "white",
            "ticks": ""
           },
           "bgcolor": "#E5ECF6",
           "caxis": {
            "gridcolor": "white",
            "linecolor": "white",
            "ticks": ""
           }
          },
          "title": {
           "x": 0.05
          },
          "xaxis": {
           "automargin": true,
           "gridcolor": "white",
           "linecolor": "white",
           "ticks": "",
           "title": {
            "standoff": 15
           },
           "zerolinecolor": "white",
           "zerolinewidth": 2
          },
          "yaxis": {
           "automargin": true,
           "gridcolor": "white",
           "linecolor": "white",
           "ticks": "",
           "title": {
            "standoff": 15
           },
           "zerolinecolor": "white",
           "zerolinewidth": 2
          }
         }
        },
        "title": {
         "text": "Berger effect magnitude (relative power)"
        },
        "xaxis": {
         "anchor": "y",
         "domain": [
          0,
          1
         ],
         "title": {
          "text": "Config"
         }
        },
        "yaxis": {
         "anchor": "x",
         "domain": [
          0,
          1
         ],
         "showgrid": true,
         "title": {
          "text": "Δ Relative alpha power (EC - EO)"
         }
        }
       }
      }
     },
     "metadata": {},
     "output_type": "display_data"
    }
   ],
   "source": [
    "# Average PSDs in dB\n",
    "flows.plot_avg_psds_by_config_px(\n",
    "    ear_only_db, top_ears_db,\n",
    "    x_range=(2, 30),\n",
    "    y_label=\"Power (dB)\",\n",
    "    title=\"Average PSDs (Run 1) in dB: EC vs EO per configuration\"\n",
    ")\n",
    "\n",
    "# Berger effect (alpha area) in dB\n",
    "flows.plot_effect_bars_px(\n",
    "    {\"Ear Only\": eo_db, \"Top+Ears\": te_db},\n",
    "    y_label=\"Alpha band area (dB, EC - EO)\",\n",
    "    title=\"Berger effect magnitude (dB)\",\n",
    "    text_fmt=\"{:.2f}\"\n",
    ")\n",
    "\n",
    "# Berger effect (relative alpha power)\n",
    "flows.plot_effect_bars_px(\n",
    "    {\"Ear Only\": eo_rel, \"Top+Ears\": te_rel},\n",
    "    y_label=\"Δ Relative alpha power (EC - EO)\",\n",
    "    title=\"Berger effect magnitude (relative power)\",\n",
    "    text_fmt=\"{:.4f}\"\n",
    ")\n"
   ]
  },
  {
   "cell_type": "markdown",
   "metadata": {},
   "source": [
    "##### Interpretation: \n",
    "Okay we can see that intrestingly the absolut berger effect is more visible in the dry electrode setup (even when comparing only electrodes that are present in both setups).\n",
    "\n",
    "Even when looking at the effect in dB it is more visible in the dry electrodes.\\\n",
    "However, when we look at relative power, this is where we can see the effect more present in the wet electrodes."
   ]
  },
  {
   "cell_type": "markdown",
   "metadata": {},
   "source": [
    "___\n",
    "### ASSR Evaluation: \n",
    "We will now look into the Auditory Steady State Response. \n",
    "Here multiple things could be interesting: \n",
    "1) ASSR within subject over the three sessions: \n",
    "2) ASSR between subjects"
   ]
  },
  {
   "cell_type": "code",
   "execution_count": 16,
   "metadata": {},
   "outputs": [],
   "source": [
    "def avg_psd_second_half_scipy(dfc_cond: pd.DataFrame,\n",
    "                              channel: str,\n",
    "                              fs: float,\n",
    "                              fmin: float = 7.0,\n",
    "                              fmax: float = 100.0,\n",
    "                              win_s: float = 1.0):\n",
    "    \"\"\"Average PSD from non-overlapping 1-s windows taken from the *second half* of each contiguous segment.\"\"\"\n",
    "    dfc = (dfc_cond.loc[dfc_cond[\"Channel\"] == channel, [\"sample_idx\", \"mV\"]]\n",
    "                    .dropna().sort_values(\"sample_idx\").reset_index(drop=True))\n",
    "    if dfc.empty:\n",
    "        return None, 0\n",
    "\n",
    "    gaps = dfc[\"sample_idx\"].diff().fillna(1).ne(1).cumsum()  # contiguous segments\n",
    "    nfft = int(round(fs * win_s))\n",
    "    psd_list, n_win = [], 0\n",
    "\n",
    "    for _, seg in dfc.groupby(gaps):\n",
    "        x = seg[\"mV\"].to_numpy()\n",
    "        if x.size < nfft:\n",
    "            continue\n",
    "        x = x - np.mean(x)                 # detrend (constant)\n",
    "        half = x[x.size // 2:]             # keep second half\n",
    "        if half.size < nfft:\n",
    "            continue\n",
    "        n_full = half.size // nfft\n",
    "        half = half[: n_full * nfft]\n",
    "        wins = half.reshape(n_full, nfft)\n",
    "\n",
    "        # Welch with 1-s segments, no overlap; Hann taper\n",
    "        for w in wins:\n",
    "            w = (w - w.mean()) * np.hanning(nfft)\n",
    "            f, pxx = welch(w, fs=fs, nperseg=nfft, noverlap=0, window=\"hann\", scaling=\"density\")\n",
    "            sel = (f >= fmin) & (f <= fmax)\n",
    "            psd_list.append(pd.DataFrame({\"Hz\": f[sel], \"Power\": pxx[sel]}))\n",
    "        n_win += n_full\n",
    "\n",
    "    if not psd_list:\n",
    "        return None, 0\n",
    "\n",
    "    all_psd = pd.concat(psd_list, ignore_index=True)\n",
    "    avg_psd = all_psd.groupby(\"Hz\", as_index=False)[\"Power\"].mean()\n",
    "    return avg_psd, n_win\n",
    "\n",
    "def plot_avg_psd(avg_psd: pd.DataFrame, f0: float = 40.0, fmax: float = 100.0, title: str = \"\"):\n",
    "    fig = px.line(avg_psd, x=\"Hz\", y=\"Power\",\n",
    "                  labels={\"Hz\":\"Frequency (Hz)\", \"Power\":\"Power (PSD, density)\"},\n",
    "                  title=title)\n",
    "    fig.add_vline(x=float(f0), line_dash=\"dot\")\n",
    "    x_min = float(avg_psd[\"Hz\"].min()) if not avg_psd.empty else 0.0\n",
    "    fig.update_layout(xaxis=dict(range=[x_min, fmax]))\n",
    "    return fig\n",
    "\n",
    "def snr_around_f0(avg_psd: pd.DataFrame, f0: float = 40.0, bw: float = 1.0, flank: int = 3):\n",
    "    \"\"\"Local SNR in dB at f0 versus its surrounding bands.\"\"\"\n",
    "    pk = avg_psd[(avg_psd[\"Hz\"] >= f0 - bw/2) & (avg_psd[\"Hz\"] <= f0 + bw/2)][\"Power\"].mean()\n",
    "    nb = avg_psd[(avg_psd[\"Hz\"] >= f0 - flank*bw) & (avg_psd[\"Hz\"] <= f0 + flank*bw) &\n",
    "                 ~((avg_psd[\"Hz\"] >= f0 - bw/2) & (avg_psd[\"Hz\"] <= f0 + bw/2))][\"Power\"].mean()\n",
    "    if pd.isna(pk) or pd.isna(nb) or nb <= 0:\n",
    "        return np.nan\n",
    "    return 10*np.log10(pk/nb)\n"
   ]
  },
  {
   "cell_type": "code",
   "execution_count": 17,
   "metadata": {},
   "outputs": [
    {
     "name": "stderr",
     "output_type": "stream",
     "text": [
      "/var/folders/ml/fyq5x5t55wx4129dn03n32hm0000gn/T/ipykernel_33534/3653797679.py:27: UserWarning:\n",
      "\n",
      "This pattern is interpreted as a regular expression, and has match groups. To actually get the groups, use str.extract.\n",
      "\n",
      "/var/folders/ml/fyq5x5t55wx4129dn03n32hm0000gn/T/ipykernel_33534/3653797679.py:36: UserWarning:\n",
      "\n",
      "This pattern is interpreted as a regular expression, and has match groups. To actually get the groups, use str.extract.\n",
      "\n"
     ]
    },
    {
     "data": {
      "application/vnd.plotly.v1+json": {
       "config": {
        "plotlyServerURL": "https://plot.ly"
       },
       "data": [
        {
         "hovertemplate": "Frequency (Hz)=%{x}<br>Power (PSD, density)=%{y}<extra></extra>",
         "legendgroup": "",
         "line": {
          "color": "#636efa",
          "dash": "solid"
         },
         "marker": {
          "symbol": "circle"
         },
         "mode": "lines",
         "name": "",
         "orientation": "v",
         "showlegend": false,
         "type": "scatter",
         "x": {
          "bdata": "AAAAAAAAFEAAAAAAAAAYQAAAAAAAABxAAAAAAAAAIEAAAAAAAAAiQAAAAAAAACRAAAAAAAAAJkAAAAAAAAAoQAAAAAAAACpAAAAAAAAALEAAAAAAAAAuQAAAAAAAADBAAAAAAAAAMUAAAAAAAAAyQAAAAAAAADNAAAAAAAAANEAAAAAAAAA1QAAAAAAAADZAAAAAAAAAN0AAAAAAAAA4QAAAAAAAADlAAAAAAAAAOkAAAAAAAAA7QAAAAAAAADxAAAAAAAAAPUAAAAAAAAA+QAAAAAAAAD9AAAAAAAAAQEAAAAAAAIBAQAAAAAAAAEFAAAAAAACAQUAAAAAAAABCQAAAAAAAgEJAAAAAAAAAQ0AAAAAAAIBDQAAAAAAAAERAAAAAAACAREAAAAAAAABFQAAAAAAAgEVAAAAAAAAARkAAAAAAAIBGQAAAAAAAAEdAAAAAAACAR0AAAAAAAABIQAAAAAAAgEhAAAAAAAAASUAAAAAAAIBJQAAAAAAAAEpAAAAAAACASkAAAAAAAABLQAAAAAAAgEtAAAAAAAAATEAAAAAAAIBMQAAAAAAAAE1AAAAAAACATUAAAAAAAABOQAAAAAAAgE5AAAAAAAAAT0AAAAAAAIBPQAAAAAAAAFBAAAAAAABAUEAAAAAAAIBQQAAAAAAAwFBAAAAAAAAAUUAAAAAAAEBRQAAAAAAAgFFAAAAAAADAUUAAAAAAAABSQAAAAAAAQFJAAAAAAACAUkAAAAAAAMBSQAAAAAAAAFNAAAAAAABAU0AAAAAAAIBTQAAAAAAAwFNAAAAAAAAAVEAAAAAAAEBUQAAAAAAAgFRAAAAAAADAVEAAAAAAAABVQAAAAAAAQFVAAAAAAACAVUAAAAAAAMBVQAAAAAAAAFZAAAAAAABAVkAAAAAAAIBWQAAAAAAAwFZAAAAAAAAAV0AAAAAAAEBXQAAAAAAAgFdAAAAAAADAV0AAAAAAAABYQAAAAAAAQFhAAAAAAACAWEAAAAAAAMBYQAAAAAAAAFlA",
          "dtype": "f8"
         },
         "xaxis": "x",
         "y": {
          "bdata": "b2A8NysbC0AcbudKuO8DQE66y4TaPgNA92e9nPSUA0CJELd6VJT/PyRZabsGz/k/rnezPWAEAEB1/ZoDfX0MQCsHIdQUFQVAKQciePFL6j88mMf2LVfdP0rrcQNojdo/s/zjg3HL3T8AjMi68LrjP45JrnulTOQ/ehmNc8bc5D8NOJMH8cLjPzEVC7ya0eI/AElP4d/Z6T/omvPApHf0P05xER1owPI/tv5sV2mB5T87PkPSEhviP7Xr1na5X+E/8F/6nZYU4z8Ghutda+XiP1Q0MfIl190/mlOJLiqc2D+wxfPhe/vhPyLSypsm8eU/e4nXtH4F4T/E5jB4r93gP9Y/CzuEsuE/LJrDCBkY4D8L8G1zdHHdP7BOaFFS3tk/dT1UF6dC2D8AxsNOfmvfP/fHst0xXN0/wpOEWe1c1T++EQEbgb7VP9I6iJvNytU/qU0UZ7Cx1D9EbJomvK7iP9oWyQxXvPA/2rVErI8j8D89qVzLLt7eP7GrhxAvr9A/BEox7ieG0D+rFHxBgf/QP1Bkt3cbmtM/H49rbs0t1T81FEe/kZ/TP0GuEDw0lNY/CczjWjoq2T8eZOzKT5TYPzqlUJU61dU/yw9c3UFQ0D/r+ZMtE+DKP2Vu5F9Jrck/Cdi/GJQywz+DFmFeZ8u7Pwn0OltfwLc/iRWkKZQfsD9O8fSmPoedP4cu2OGpi40/nDi1xreefD8lIyyIONhjP0H+CrTWc0U/sHHTWzEaKz+NkiWm0f4CPyTDwTsFX78+RbSBgxJNsD4HoTxO7jOsPquZMXKIIqA+TpGvYId/kD5XHBR6FKp7PmHJwLiPwmQ+ij4RwF0hZj4K/eFqUwN6PjC0DYuIuIQ+N8aeOXeufT7knWDibaJoPgEUapcOhm4+enCvWRE0fT4cQH4iV4t/Pmq6PjmBiHA+O1KdsIxqYj6RuSc6aE1yPgwuQTklB3U+X5LGDNo+az7DbqDzQZBaPq5RlWUbnl8+f0k3LlHYZz5uhXyWkuRnPl443uZ/dFk+",
          "dtype": "f8"
         },
         "yaxis": "y"
        }
       ],
       "layout": {
        "legend": {
         "tracegroupgap": 0
        },
        "shapes": [
         {
          "line": {
           "dash": "dot"
          },
          "type": "line",
          "x0": 40,
          "x1": 40,
          "xref": "x",
          "y0": 0,
          "y1": 1,
          "yref": "y domain"
         }
        ],
        "template": {
         "data": {
          "bar": [
           {
            "error_x": {
             "color": "#2a3f5f"
            },
            "error_y": {
             "color": "#2a3f5f"
            },
            "marker": {
             "line": {
              "color": "#E5ECF6",
              "width": 0.5
             },
             "pattern": {
              "fillmode": "overlay",
              "size": 10,
              "solidity": 0.2
             }
            },
            "type": "bar"
           }
          ],
          "barpolar": [
           {
            "marker": {
             "line": {
              "color": "#E5ECF6",
              "width": 0.5
             },
             "pattern": {
              "fillmode": "overlay",
              "size": 10,
              "solidity": 0.2
             }
            },
            "type": "barpolar"
           }
          ],
          "carpet": [
           {
            "aaxis": {
             "endlinecolor": "#2a3f5f",
             "gridcolor": "white",
             "linecolor": "white",
             "minorgridcolor": "white",
             "startlinecolor": "#2a3f5f"
            },
            "baxis": {
             "endlinecolor": "#2a3f5f",
             "gridcolor": "white",
             "linecolor": "white",
             "minorgridcolor": "white",
             "startlinecolor": "#2a3f5f"
            },
            "type": "carpet"
           }
          ],
          "choropleth": [
           {
            "colorbar": {
             "outlinewidth": 0,
             "ticks": ""
            },
            "type": "choropleth"
           }
          ],
          "contour": [
           {
            "colorbar": {
             "outlinewidth": 0,
             "ticks": ""
            },
            "colorscale": [
             [
              0,
              "#0d0887"
             ],
             [
              0.1111111111111111,
              "#46039f"
             ],
             [
              0.2222222222222222,
              "#7201a8"
             ],
             [
              0.3333333333333333,
              "#9c179e"
             ],
             [
              0.4444444444444444,
              "#bd3786"
             ],
             [
              0.5555555555555556,
              "#d8576b"
             ],
             [
              0.6666666666666666,
              "#ed7953"
             ],
             [
              0.7777777777777778,
              "#fb9f3a"
             ],
             [
              0.8888888888888888,
              "#fdca26"
             ],
             [
              1,
              "#f0f921"
             ]
            ],
            "type": "contour"
           }
          ],
          "contourcarpet": [
           {
            "colorbar": {
             "outlinewidth": 0,
             "ticks": ""
            },
            "type": "contourcarpet"
           }
          ],
          "heatmap": [
           {
            "colorbar": {
             "outlinewidth": 0,
             "ticks": ""
            },
            "colorscale": [
             [
              0,
              "#0d0887"
             ],
             [
              0.1111111111111111,
              "#46039f"
             ],
             [
              0.2222222222222222,
              "#7201a8"
             ],
             [
              0.3333333333333333,
              "#9c179e"
             ],
             [
              0.4444444444444444,
              "#bd3786"
             ],
             [
              0.5555555555555556,
              "#d8576b"
             ],
             [
              0.6666666666666666,
              "#ed7953"
             ],
             [
              0.7777777777777778,
              "#fb9f3a"
             ],
             [
              0.8888888888888888,
              "#fdca26"
             ],
             [
              1,
              "#f0f921"
             ]
            ],
            "type": "heatmap"
           }
          ],
          "histogram": [
           {
            "marker": {
             "pattern": {
              "fillmode": "overlay",
              "size": 10,
              "solidity": 0.2
             }
            },
            "type": "histogram"
           }
          ],
          "histogram2d": [
           {
            "colorbar": {
             "outlinewidth": 0,
             "ticks": ""
            },
            "colorscale": [
             [
              0,
              "#0d0887"
             ],
             [
              0.1111111111111111,
              "#46039f"
             ],
             [
              0.2222222222222222,
              "#7201a8"
             ],
             [
              0.3333333333333333,
              "#9c179e"
             ],
             [
              0.4444444444444444,
              "#bd3786"
             ],
             [
              0.5555555555555556,
              "#d8576b"
             ],
             [
              0.6666666666666666,
              "#ed7953"
             ],
             [
              0.7777777777777778,
              "#fb9f3a"
             ],
             [
              0.8888888888888888,
              "#fdca26"
             ],
             [
              1,
              "#f0f921"
             ]
            ],
            "type": "histogram2d"
           }
          ],
          "histogram2dcontour": [
           {
            "colorbar": {
             "outlinewidth": 0,
             "ticks": ""
            },
            "colorscale": [
             [
              0,
              "#0d0887"
             ],
             [
              0.1111111111111111,
              "#46039f"
             ],
             [
              0.2222222222222222,
              "#7201a8"
             ],
             [
              0.3333333333333333,
              "#9c179e"
             ],
             [
              0.4444444444444444,
              "#bd3786"
             ],
             [
              0.5555555555555556,
              "#d8576b"
             ],
             [
              0.6666666666666666,
              "#ed7953"
             ],
             [
              0.7777777777777778,
              "#fb9f3a"
             ],
             [
              0.8888888888888888,
              "#fdca26"
             ],
             [
              1,
              "#f0f921"
             ]
            ],
            "type": "histogram2dcontour"
           }
          ],
          "mesh3d": [
           {
            "colorbar": {
             "outlinewidth": 0,
             "ticks": ""
            },
            "type": "mesh3d"
           }
          ],
          "parcoords": [
           {
            "line": {
             "colorbar": {
              "outlinewidth": 0,
              "ticks": ""
             }
            },
            "type": "parcoords"
           }
          ],
          "pie": [
           {
            "automargin": true,
            "type": "pie"
           }
          ],
          "scatter": [
           {
            "fillpattern": {
             "fillmode": "overlay",
             "size": 10,
             "solidity": 0.2
            },
            "type": "scatter"
           }
          ],
          "scatter3d": [
           {
            "line": {
             "colorbar": {
              "outlinewidth": 0,
              "ticks": ""
             }
            },
            "marker": {
             "colorbar": {
              "outlinewidth": 0,
              "ticks": ""
             }
            },
            "type": "scatter3d"
           }
          ],
          "scattercarpet": [
           {
            "marker": {
             "colorbar": {
              "outlinewidth": 0,
              "ticks": ""
             }
            },
            "type": "scattercarpet"
           }
          ],
          "scattergeo": [
           {
            "marker": {
             "colorbar": {
              "outlinewidth": 0,
              "ticks": ""
             }
            },
            "type": "scattergeo"
           }
          ],
          "scattergl": [
           {
            "marker": {
             "colorbar": {
              "outlinewidth": 0,
              "ticks": ""
             }
            },
            "type": "scattergl"
           }
          ],
          "scattermap": [
           {
            "marker": {
             "colorbar": {
              "outlinewidth": 0,
              "ticks": ""
             }
            },
            "type": "scattermap"
           }
          ],
          "scattermapbox": [
           {
            "marker": {
             "colorbar": {
              "outlinewidth": 0,
              "ticks": ""
             }
            },
            "type": "scattermapbox"
           }
          ],
          "scatterpolar": [
           {
            "marker": {
             "colorbar": {
              "outlinewidth": 0,
              "ticks": ""
             }
            },
            "type": "scatterpolar"
           }
          ],
          "scatterpolargl": [
           {
            "marker": {
             "colorbar": {
              "outlinewidth": 0,
              "ticks": ""
             }
            },
            "type": "scatterpolargl"
           }
          ],
          "scatterternary": [
           {
            "marker": {
             "colorbar": {
              "outlinewidth": 0,
              "ticks": ""
             }
            },
            "type": "scatterternary"
           }
          ],
          "surface": [
           {
            "colorbar": {
             "outlinewidth": 0,
             "ticks": ""
            },
            "colorscale": [
             [
              0,
              "#0d0887"
             ],
             [
              0.1111111111111111,
              "#46039f"
             ],
             [
              0.2222222222222222,
              "#7201a8"
             ],
             [
              0.3333333333333333,
              "#9c179e"
             ],
             [
              0.4444444444444444,
              "#bd3786"
             ],
             [
              0.5555555555555556,
              "#d8576b"
             ],
             [
              0.6666666666666666,
              "#ed7953"
             ],
             [
              0.7777777777777778,
              "#fb9f3a"
             ],
             [
              0.8888888888888888,
              "#fdca26"
             ],
             [
              1,
              "#f0f921"
             ]
            ],
            "type": "surface"
           }
          ],
          "table": [
           {
            "cells": {
             "fill": {
              "color": "#EBF0F8"
             },
             "line": {
              "color": "white"
             }
            },
            "header": {
             "fill": {
              "color": "#C8D4E3"
             },
             "line": {
              "color": "white"
             }
            },
            "type": "table"
           }
          ]
         },
         "layout": {
          "annotationdefaults": {
           "arrowcolor": "#2a3f5f",
           "arrowhead": 0,
           "arrowwidth": 1
          },
          "autotypenumbers": "strict",
          "coloraxis": {
           "colorbar": {
            "outlinewidth": 0,
            "ticks": ""
           }
          },
          "colorscale": {
           "diverging": [
            [
             0,
             "#8e0152"
            ],
            [
             0.1,
             "#c51b7d"
            ],
            [
             0.2,
             "#de77ae"
            ],
            [
             0.3,
             "#f1b6da"
            ],
            [
             0.4,
             "#fde0ef"
            ],
            [
             0.5,
             "#f7f7f7"
            ],
            [
             0.6,
             "#e6f5d0"
            ],
            [
             0.7,
             "#b8e186"
            ],
            [
             0.8,
             "#7fbc41"
            ],
            [
             0.9,
             "#4d9221"
            ],
            [
             1,
             "#276419"
            ]
           ],
           "sequential": [
            [
             0,
             "#0d0887"
            ],
            [
             0.1111111111111111,
             "#46039f"
            ],
            [
             0.2222222222222222,
             "#7201a8"
            ],
            [
             0.3333333333333333,
             "#9c179e"
            ],
            [
             0.4444444444444444,
             "#bd3786"
            ],
            [
             0.5555555555555556,
             "#d8576b"
            ],
            [
             0.6666666666666666,
             "#ed7953"
            ],
            [
             0.7777777777777778,
             "#fb9f3a"
            ],
            [
             0.8888888888888888,
             "#fdca26"
            ],
            [
             1,
             "#f0f921"
            ]
           ],
           "sequentialminus": [
            [
             0,
             "#0d0887"
            ],
            [
             0.1111111111111111,
             "#46039f"
            ],
            [
             0.2222222222222222,
             "#7201a8"
            ],
            [
             0.3333333333333333,
             "#9c179e"
            ],
            [
             0.4444444444444444,
             "#bd3786"
            ],
            [
             0.5555555555555556,
             "#d8576b"
            ],
            [
             0.6666666666666666,
             "#ed7953"
            ],
            [
             0.7777777777777778,
             "#fb9f3a"
            ],
            [
             0.8888888888888888,
             "#fdca26"
            ],
            [
             1,
             "#f0f921"
            ]
           ]
          },
          "colorway": [
           "#636efa",
           "#EF553B",
           "#00cc96",
           "#ab63fa",
           "#FFA15A",
           "#19d3f3",
           "#FF6692",
           "#B6E880",
           "#FF97FF",
           "#FECB52"
          ],
          "font": {
           "color": "#2a3f5f"
          },
          "geo": {
           "bgcolor": "white",
           "lakecolor": "white",
           "landcolor": "#E5ECF6",
           "showlakes": true,
           "showland": true,
           "subunitcolor": "white"
          },
          "hoverlabel": {
           "align": "left"
          },
          "hovermode": "closest",
          "mapbox": {
           "style": "light"
          },
          "paper_bgcolor": "white",
          "plot_bgcolor": "#E5ECF6",
          "polar": {
           "angularaxis": {
            "gridcolor": "white",
            "linecolor": "white",
            "ticks": ""
           },
           "bgcolor": "#E5ECF6",
           "radialaxis": {
            "gridcolor": "white",
            "linecolor": "white",
            "ticks": ""
           }
          },
          "scene": {
           "xaxis": {
            "backgroundcolor": "#E5ECF6",
            "gridcolor": "white",
            "gridwidth": 2,
            "linecolor": "white",
            "showbackground": true,
            "ticks": "",
            "zerolinecolor": "white"
           },
           "yaxis": {
            "backgroundcolor": "#E5ECF6",
            "gridcolor": "white",
            "gridwidth": 2,
            "linecolor": "white",
            "showbackground": true,
            "ticks": "",
            "zerolinecolor": "white"
           },
           "zaxis": {
            "backgroundcolor": "#E5ECF6",
            "gridcolor": "white",
            "gridwidth": 2,
            "linecolor": "white",
            "showbackground": true,
            "ticks": "",
            "zerolinecolor": "white"
           }
          },
          "shapedefaults": {
           "line": {
            "color": "#2a3f5f"
           }
          },
          "ternary": {
           "aaxis": {
            "gridcolor": "white",
            "linecolor": "white",
            "ticks": ""
           },
           "baxis": {
            "gridcolor": "white",
            "linecolor": "white",
            "ticks": ""
           },
           "bgcolor": "#E5ECF6",
           "caxis": {
            "gridcolor": "white",
            "linecolor": "white",
            "ticks": ""
           }
          },
          "title": {
           "x": 0.05
          },
          "xaxis": {
           "automargin": true,
           "gridcolor": "white",
           "linecolor": "white",
           "ticks": "",
           "title": {
            "standoff": 15
           },
           "zerolinecolor": "white",
           "zerolinewidth": 2
          },
          "yaxis": {
           "automargin": true,
           "gridcolor": "white",
           "linecolor": "white",
           "ticks": "",
           "title": {
            "standoff": 15
           },
           "zerolinecolor": "white",
           "zerolinewidth": 2
          }
         }
        },
        "title": {
         "text": "Average PSD from 1-s windows (second half) — EO | A6 | 45 windows"
        },
        "xaxis": {
         "anchor": "y",
         "domain": [
          0,
          1
         ],
         "range": [
          5,
          100
         ],
         "title": {
          "text": "Frequency (Hz)"
         }
        },
        "yaxis": {
         "anchor": "x",
         "domain": [
          0,
          1
         ],
         "title": {
          "text": "Power (PSD, density)"
         }
        }
       }
      }
     },
     "metadata": {},
     "output_type": "display_data"
    },
    {
     "name": "stdout",
     "output_type": "stream",
     "text": [
      "7dr6p8 | A6 | EO | windows=45 | SNR@40Hz = -0.69 dB\n"
     ]
    },
    {
     "name": "stderr",
     "output_type": "stream",
     "text": [
      "/var/folders/ml/fyq5x5t55wx4129dn03n32hm0000gn/T/ipykernel_33534/3653797679.py:27: UserWarning:\n",
      "\n",
      "This pattern is interpreted as a regular expression, and has match groups. To actually get the groups, use str.extract.\n",
      "\n",
      "/var/folders/ml/fyq5x5t55wx4129dn03n32hm0000gn/T/ipykernel_33534/3653797679.py:36: UserWarning:\n",
      "\n",
      "This pattern is interpreted as a regular expression, and has match groups. To actually get the groups, use str.extract.\n",
      "\n"
     ]
    },
    {
     "data": {
      "application/vnd.plotly.v1+json": {
       "config": {
        "plotlyServerURL": "https://plot.ly"
       },
       "data": [
        {
         "hovertemplate": "Frequency (Hz)=%{x}<br>Power (PSD, density)=%{y}<extra></extra>",
         "legendgroup": "",
         "line": {
          "color": "#636efa",
          "dash": "solid"
         },
         "marker": {
          "symbol": "circle"
         },
         "mode": "lines",
         "name": "",
         "orientation": "v",
         "showlegend": false,
         "type": "scatter",
         "x": {
          "bdata": "AAAAAAAAFEAAAAAAAAAYQAAAAAAAABxAAAAAAAAAIEAAAAAAAAAiQAAAAAAAACRAAAAAAAAAJkAAAAAAAAAoQAAAAAAAACpAAAAAAAAALEAAAAAAAAAuQAAAAAAAADBAAAAAAAAAMUAAAAAAAAAyQAAAAAAAADNAAAAAAAAANEAAAAAAAAA1QAAAAAAAADZAAAAAAAAAN0AAAAAAAAA4QAAAAAAAADlAAAAAAAAAOkAAAAAAAAA7QAAAAAAAADxAAAAAAAAAPUAAAAAAAAA+QAAAAAAAAD9AAAAAAAAAQEAAAAAAAIBAQAAAAAAAAEFAAAAAAACAQUAAAAAAAABCQAAAAAAAgEJAAAAAAAAAQ0AAAAAAAIBDQAAAAAAAAERAAAAAAACAREAAAAAAAABFQAAAAAAAgEVAAAAAAAAARkAAAAAAAIBGQAAAAAAAAEdAAAAAAACAR0AAAAAAAABIQAAAAAAAgEhAAAAAAAAASUAAAAAAAIBJQAAAAAAAAEpAAAAAAACASkAAAAAAAABLQAAAAAAAgEtAAAAAAAAATEAAAAAAAIBMQAAAAAAAAE1AAAAAAACATUAAAAAAAABOQAAAAAAAgE5AAAAAAAAAT0AAAAAAAIBPQAAAAAAAAFBAAAAAAABAUEAAAAAAAIBQQAAAAAAAwFBAAAAAAAAAUUAAAAAAAEBRQAAAAAAAgFFAAAAAAADAUUAAAAAAAABSQAAAAAAAQFJAAAAAAACAUkAAAAAAAMBSQAAAAAAAAFNAAAAAAABAU0AAAAAAAIBTQAAAAAAAwFNAAAAAAAAAVEAAAAAAAEBUQAAAAAAAgFRAAAAAAADAVEAAAAAAAABVQAAAAAAAQFVAAAAAAACAVUAAAAAAAMBVQAAAAAAAAFZAAAAAAABAVkAAAAAAAIBWQAAAAAAAwFZAAAAAAAAAV0AAAAAAAEBXQAAAAAAAgFdAAAAAAADAV0AAAAAAAABYQAAAAAAAQFhAAAAAAACAWEAAAAAAAMBYQAAAAAAAAFlA",
          "dtype": "f8"
         },
         "xaxis": "x",
         "y": {
          "bdata": "HGeJD5c2QUAklnOviYtCQHbbW0tp0UJADygbTa7HQkDMQ4heMqxCQHs8jCNUvkJArwd257QvQkA81kXW+dtBQKYaREtU6UNAuWIemRy+P0A8JL9yvfMuQJUaR81hDkBAuEXXMZQ5RECccUt9itpCQMOtrOxO9kJAYZvf+qxuQkC9phgJp0VCQIXG8UQ+mUJAcxFSv62sQkAvKj9Ti1hCQGxMkZoMrUJA83lKYXjkQkD8epQweFZCQPoM+eikLkJAiaiG6hRJQkBAnhsLKltCQLnGrW6YhEJAyHWO+DdoQkAe0/Rmn19CQN1LiOcfckJAgIoiZkCGQkCmxKyIBoFCQGyotyDNaEJAs6cchDVQQkDbapz9OS9CQJcDJOiSKEJAR86zIDWEQkBxLSbCTalCQNOD13wzVUJAqz4Rbr0SQkCpoYMnCQFCQDI3lZRJI0JAnyFtN/1dQkClzbwHTD1CQPRpDBYdekJAYjz/Tou4QkAxqLSb4hZCQJyJLyDYFEJAugOA7PpnQkDB73U1N2dCQKHhgfrRaUJAWZKBxy9EQkD05srBPV9CQH0w3kGPpkJArf2PEayLQkBBwsqbiQBCQCmIN7SE4EFAGX6q/dj7QEAM8X3xC6I+QJnKkK59EDtAPJTt4uueNkCY9r9jyE8xQHlVlOe0ZChAymJMVWeoH0CMjcnu154SQBD6wB0sfQNAsYBGzPOU8T9AM/joaZzaP5xOhIk77cA/1JiTl54HoT9KzfG60J15PzFWwgml9E8/5g0Uqh3bMz9WopBHQLYoPyOWc5DiEB0/j0erC6blED+1C0CmExIEP5C076pQkPk+DWN+/BdF/z4A5Qk6Y6sJP2nQFCpZZA4/Z2IZk/62Bz8c/toFbdj/PtAdF20B5QE/jxbmOT7fCD9WAUQTackIP/UGkCueQgE/8ejH2Dmq+j6nmOpkCJABPxt1UBDlKAU/VKMazJs0AT84rIfTH8v2PhncYEmi4Pc+fmgHJKsyAD8wZu5zqbL/PmGb/Q7a5/U+",
          "dtype": "f8"
         },
         "yaxis": "y"
        }
       ],
       "layout": {
        "legend": {
         "tracegroupgap": 0
        },
        "shapes": [
         {
          "line": {
           "dash": "dot"
          },
          "type": "line",
          "x0": 40,
          "x1": 40,
          "xref": "x",
          "y0": 0,
          "y1": 1,
          "yref": "y domain"
         }
        ],
        "template": {
         "data": {
          "bar": [
           {
            "error_x": {
             "color": "#2a3f5f"
            },
            "error_y": {
             "color": "#2a3f5f"
            },
            "marker": {
             "line": {
              "color": "#E5ECF6",
              "width": 0.5
             },
             "pattern": {
              "fillmode": "overlay",
              "size": 10,
              "solidity": 0.2
             }
            },
            "type": "bar"
           }
          ],
          "barpolar": [
           {
            "marker": {
             "line": {
              "color": "#E5ECF6",
              "width": 0.5
             },
             "pattern": {
              "fillmode": "overlay",
              "size": 10,
              "solidity": 0.2
             }
            },
            "type": "barpolar"
           }
          ],
          "carpet": [
           {
            "aaxis": {
             "endlinecolor": "#2a3f5f",
             "gridcolor": "white",
             "linecolor": "white",
             "minorgridcolor": "white",
             "startlinecolor": "#2a3f5f"
            },
            "baxis": {
             "endlinecolor": "#2a3f5f",
             "gridcolor": "white",
             "linecolor": "white",
             "minorgridcolor": "white",
             "startlinecolor": "#2a3f5f"
            },
            "type": "carpet"
           }
          ],
          "choropleth": [
           {
            "colorbar": {
             "outlinewidth": 0,
             "ticks": ""
            },
            "type": "choropleth"
           }
          ],
          "contour": [
           {
            "colorbar": {
             "outlinewidth": 0,
             "ticks": ""
            },
            "colorscale": [
             [
              0,
              "#0d0887"
             ],
             [
              0.1111111111111111,
              "#46039f"
             ],
             [
              0.2222222222222222,
              "#7201a8"
             ],
             [
              0.3333333333333333,
              "#9c179e"
             ],
             [
              0.4444444444444444,
              "#bd3786"
             ],
             [
              0.5555555555555556,
              "#d8576b"
             ],
             [
              0.6666666666666666,
              "#ed7953"
             ],
             [
              0.7777777777777778,
              "#fb9f3a"
             ],
             [
              0.8888888888888888,
              "#fdca26"
             ],
             [
              1,
              "#f0f921"
             ]
            ],
            "type": "contour"
           }
          ],
          "contourcarpet": [
           {
            "colorbar": {
             "outlinewidth": 0,
             "ticks": ""
            },
            "type": "contourcarpet"
           }
          ],
          "heatmap": [
           {
            "colorbar": {
             "outlinewidth": 0,
             "ticks": ""
            },
            "colorscale": [
             [
              0,
              "#0d0887"
             ],
             [
              0.1111111111111111,
              "#46039f"
             ],
             [
              0.2222222222222222,
              "#7201a8"
             ],
             [
              0.3333333333333333,
              "#9c179e"
             ],
             [
              0.4444444444444444,
              "#bd3786"
             ],
             [
              0.5555555555555556,
              "#d8576b"
             ],
             [
              0.6666666666666666,
              "#ed7953"
             ],
             [
              0.7777777777777778,
              "#fb9f3a"
             ],
             [
              0.8888888888888888,
              "#fdca26"
             ],
             [
              1,
              "#f0f921"
             ]
            ],
            "type": "heatmap"
           }
          ],
          "histogram": [
           {
            "marker": {
             "pattern": {
              "fillmode": "overlay",
              "size": 10,
              "solidity": 0.2
             }
            },
            "type": "histogram"
           }
          ],
          "histogram2d": [
           {
            "colorbar": {
             "outlinewidth": 0,
             "ticks": ""
            },
            "colorscale": [
             [
              0,
              "#0d0887"
             ],
             [
              0.1111111111111111,
              "#46039f"
             ],
             [
              0.2222222222222222,
              "#7201a8"
             ],
             [
              0.3333333333333333,
              "#9c179e"
             ],
             [
              0.4444444444444444,
              "#bd3786"
             ],
             [
              0.5555555555555556,
              "#d8576b"
             ],
             [
              0.6666666666666666,
              "#ed7953"
             ],
             [
              0.7777777777777778,
              "#fb9f3a"
             ],
             [
              0.8888888888888888,
              "#fdca26"
             ],
             [
              1,
              "#f0f921"
             ]
            ],
            "type": "histogram2d"
           }
          ],
          "histogram2dcontour": [
           {
            "colorbar": {
             "outlinewidth": 0,
             "ticks": ""
            },
            "colorscale": [
             [
              0,
              "#0d0887"
             ],
             [
              0.1111111111111111,
              "#46039f"
             ],
             [
              0.2222222222222222,
              "#7201a8"
             ],
             [
              0.3333333333333333,
              "#9c179e"
             ],
             [
              0.4444444444444444,
              "#bd3786"
             ],
             [
              0.5555555555555556,
              "#d8576b"
             ],
             [
              0.6666666666666666,
              "#ed7953"
             ],
             [
              0.7777777777777778,
              "#fb9f3a"
             ],
             [
              0.8888888888888888,
              "#fdca26"
             ],
             [
              1,
              "#f0f921"
             ]
            ],
            "type": "histogram2dcontour"
           }
          ],
          "mesh3d": [
           {
            "colorbar": {
             "outlinewidth": 0,
             "ticks": ""
            },
            "type": "mesh3d"
           }
          ],
          "parcoords": [
           {
            "line": {
             "colorbar": {
              "outlinewidth": 0,
              "ticks": ""
             }
            },
            "type": "parcoords"
           }
          ],
          "pie": [
           {
            "automargin": true,
            "type": "pie"
           }
          ],
          "scatter": [
           {
            "fillpattern": {
             "fillmode": "overlay",
             "size": 10,
             "solidity": 0.2
            },
            "type": "scatter"
           }
          ],
          "scatter3d": [
           {
            "line": {
             "colorbar": {
              "outlinewidth": 0,
              "ticks": ""
             }
            },
            "marker": {
             "colorbar": {
              "outlinewidth": 0,
              "ticks": ""
             }
            },
            "type": "scatter3d"
           }
          ],
          "scattercarpet": [
           {
            "marker": {
             "colorbar": {
              "outlinewidth": 0,
              "ticks": ""
             }
            },
            "type": "scattercarpet"
           }
          ],
          "scattergeo": [
           {
            "marker": {
             "colorbar": {
              "outlinewidth": 0,
              "ticks": ""
             }
            },
            "type": "scattergeo"
           }
          ],
          "scattergl": [
           {
            "marker": {
             "colorbar": {
              "outlinewidth": 0,
              "ticks": ""
             }
            },
            "type": "scattergl"
           }
          ],
          "scattermap": [
           {
            "marker": {
             "colorbar": {
              "outlinewidth": 0,
              "ticks": ""
             }
            },
            "type": "scattermap"
           }
          ],
          "scattermapbox": [
           {
            "marker": {
             "colorbar": {
              "outlinewidth": 0,
              "ticks": ""
             }
            },
            "type": "scattermapbox"
           }
          ],
          "scatterpolar": [
           {
            "marker": {
             "colorbar": {
              "outlinewidth": 0,
              "ticks": ""
             }
            },
            "type": "scatterpolar"
           }
          ],
          "scatterpolargl": [
           {
            "marker": {
             "colorbar": {
              "outlinewidth": 0,
              "ticks": ""
             }
            },
            "type": "scatterpolargl"
           }
          ],
          "scatterternary": [
           {
            "marker": {
             "colorbar": {
              "outlinewidth": 0,
              "ticks": ""
             }
            },
            "type": "scatterternary"
           }
          ],
          "surface": [
           {
            "colorbar": {
             "outlinewidth": 0,
             "ticks": ""
            },
            "colorscale": [
             [
              0,
              "#0d0887"
             ],
             [
              0.1111111111111111,
              "#46039f"
             ],
             [
              0.2222222222222222,
              "#7201a8"
             ],
             [
              0.3333333333333333,
              "#9c179e"
             ],
             [
              0.4444444444444444,
              "#bd3786"
             ],
             [
              0.5555555555555556,
              "#d8576b"
             ],
             [
              0.6666666666666666,
              "#ed7953"
             ],
             [
              0.7777777777777778,
              "#fb9f3a"
             ],
             [
              0.8888888888888888,
              "#fdca26"
             ],
             [
              1,
              "#f0f921"
             ]
            ],
            "type": "surface"
           }
          ],
          "table": [
           {
            "cells": {
             "fill": {
              "color": "#EBF0F8"
             },
             "line": {
              "color": "white"
             }
            },
            "header": {
             "fill": {
              "color": "#C8D4E3"
             },
             "line": {
              "color": "white"
             }
            },
            "type": "table"
           }
          ]
         },
         "layout": {
          "annotationdefaults": {
           "arrowcolor": "#2a3f5f",
           "arrowhead": 0,
           "arrowwidth": 1
          },
          "autotypenumbers": "strict",
          "coloraxis": {
           "colorbar": {
            "outlinewidth": 0,
            "ticks": ""
           }
          },
          "colorscale": {
           "diverging": [
            [
             0,
             "#8e0152"
            ],
            [
             0.1,
             "#c51b7d"
            ],
            [
             0.2,
             "#de77ae"
            ],
            [
             0.3,
             "#f1b6da"
            ],
            [
             0.4,
             "#fde0ef"
            ],
            [
             0.5,
             "#f7f7f7"
            ],
            [
             0.6,
             "#e6f5d0"
            ],
            [
             0.7,
             "#b8e186"
            ],
            [
             0.8,
             "#7fbc41"
            ],
            [
             0.9,
             "#4d9221"
            ],
            [
             1,
             "#276419"
            ]
           ],
           "sequential": [
            [
             0,
             "#0d0887"
            ],
            [
             0.1111111111111111,
             "#46039f"
            ],
            [
             0.2222222222222222,
             "#7201a8"
            ],
            [
             0.3333333333333333,
             "#9c179e"
            ],
            [
             0.4444444444444444,
             "#bd3786"
            ],
            [
             0.5555555555555556,
             "#d8576b"
            ],
            [
             0.6666666666666666,
             "#ed7953"
            ],
            [
             0.7777777777777778,
             "#fb9f3a"
            ],
            [
             0.8888888888888888,
             "#fdca26"
            ],
            [
             1,
             "#f0f921"
            ]
           ],
           "sequentialminus": [
            [
             0,
             "#0d0887"
            ],
            [
             0.1111111111111111,
             "#46039f"
            ],
            [
             0.2222222222222222,
             "#7201a8"
            ],
            [
             0.3333333333333333,
             "#9c179e"
            ],
            [
             0.4444444444444444,
             "#bd3786"
            ],
            [
             0.5555555555555556,
             "#d8576b"
            ],
            [
             0.6666666666666666,
             "#ed7953"
            ],
            [
             0.7777777777777778,
             "#fb9f3a"
            ],
            [
             0.8888888888888888,
             "#fdca26"
            ],
            [
             1,
             "#f0f921"
            ]
           ]
          },
          "colorway": [
           "#636efa",
           "#EF553B",
           "#00cc96",
           "#ab63fa",
           "#FFA15A",
           "#19d3f3",
           "#FF6692",
           "#B6E880",
           "#FF97FF",
           "#FECB52"
          ],
          "font": {
           "color": "#2a3f5f"
          },
          "geo": {
           "bgcolor": "white",
           "lakecolor": "white",
           "landcolor": "#E5ECF6",
           "showlakes": true,
           "showland": true,
           "subunitcolor": "white"
          },
          "hoverlabel": {
           "align": "left"
          },
          "hovermode": "closest",
          "mapbox": {
           "style": "light"
          },
          "paper_bgcolor": "white",
          "plot_bgcolor": "#E5ECF6",
          "polar": {
           "angularaxis": {
            "gridcolor": "white",
            "linecolor": "white",
            "ticks": ""
           },
           "bgcolor": "#E5ECF6",
           "radialaxis": {
            "gridcolor": "white",
            "linecolor": "white",
            "ticks": ""
           }
          },
          "scene": {
           "xaxis": {
            "backgroundcolor": "#E5ECF6",
            "gridcolor": "white",
            "gridwidth": 2,
            "linecolor": "white",
            "showbackground": true,
            "ticks": "",
            "zerolinecolor": "white"
           },
           "yaxis": {
            "backgroundcolor": "#E5ECF6",
            "gridcolor": "white",
            "gridwidth": 2,
            "linecolor": "white",
            "showbackground": true,
            "ticks": "",
            "zerolinecolor": "white"
           },
           "zaxis": {
            "backgroundcolor": "#E5ECF6",
            "gridcolor": "white",
            "gridwidth": 2,
            "linecolor": "white",
            "showbackground": true,
            "ticks": "",
            "zerolinecolor": "white"
           }
          },
          "shapedefaults": {
           "line": {
            "color": "#2a3f5f"
           }
          },
          "ternary": {
           "aaxis": {
            "gridcolor": "white",
            "linecolor": "white",
            "ticks": ""
           },
           "baxis": {
            "gridcolor": "white",
            "linecolor": "white",
            "ticks": ""
           },
           "bgcolor": "#E5ECF6",
           "caxis": {
            "gridcolor": "white",
            "linecolor": "white",
            "ticks": ""
           }
          },
          "title": {
           "x": 0.05
          },
          "xaxis": {
           "automargin": true,
           "gridcolor": "white",
           "linecolor": "white",
           "ticks": "",
           "title": {
            "standoff": 15
           },
           "zerolinecolor": "white",
           "zerolinewidth": 2
          },
          "yaxis": {
           "automargin": true,
           "gridcolor": "white",
           "linecolor": "white",
           "ticks": "",
           "title": {
            "standoff": 15
           },
           "zerolinecolor": "white",
           "zerolinewidth": 2
          }
         }
        },
        "title": {
         "text": "Average PSD from 1-s windows (second half) — EO | A8 | 44 windows"
        },
        "xaxis": {
         "anchor": "y",
         "domain": [
          0,
          1
         ],
         "range": [
          5,
          100
         ],
         "title": {
          "text": "Frequency (Hz)"
         }
        },
        "yaxis": {
         "anchor": "x",
         "domain": [
          0,
          1
         ],
         "title": {
          "text": "Power (PSD, density)"
         }
        }
       }
      }
     },
     "metadata": {},
     "output_type": "display_data"
    },
    {
     "name": "stdout",
     "output_type": "stream",
     "text": [
      "7dr6p8 | A8 | EO | windows=44 | SNR@40Hz = -0.06 dB\n"
     ]
    },
    {
     "name": "stderr",
     "output_type": "stream",
     "text": [
      "/var/folders/ml/fyq5x5t55wx4129dn03n32hm0000gn/T/ipykernel_33534/3653797679.py:27: UserWarning:\n",
      "\n",
      "This pattern is interpreted as a regular expression, and has match groups. To actually get the groups, use str.extract.\n",
      "\n",
      "/var/folders/ml/fyq5x5t55wx4129dn03n32hm0000gn/T/ipykernel_33534/3653797679.py:36: UserWarning:\n",
      "\n",
      "This pattern is interpreted as a regular expression, and has match groups. To actually get the groups, use str.extract.\n",
      "\n"
     ]
    },
    {
     "data": {
      "application/vnd.plotly.v1+json": {
       "config": {
        "plotlyServerURL": "https://plot.ly"
       },
       "data": [
        {
         "hovertemplate": "Frequency (Hz)=%{x}<br>Power (PSD, density)=%{y}<extra></extra>",
         "legendgroup": "",
         "line": {
          "color": "#636efa",
          "dash": "solid"
         },
         "marker": {
          "symbol": "circle"
         },
         "mode": "lines",
         "name": "",
         "orientation": "v",
         "showlegend": false,
         "type": "scatter",
         "x": {
          "bdata": "AAAAAAAAFEAAAAAAAAAYQAAAAAAAABxAAAAAAAAAIEAAAAAAAAAiQAAAAAAAACRAAAAAAAAAJkAAAAAAAAAoQAAAAAAAACpAAAAAAAAALEAAAAAAAAAuQAAAAAAAADBAAAAAAAAAMUAAAAAAAAAyQAAAAAAAADNAAAAAAAAANEAAAAAAAAA1QAAAAAAAADZAAAAAAAAAN0AAAAAAAAA4QAAAAAAAADlAAAAAAAAAOkAAAAAAAAA7QAAAAAAAADxAAAAAAAAAPUAAAAAAAAA+QAAAAAAAAD9AAAAAAAAAQEAAAAAAAIBAQAAAAAAAAEFAAAAAAACAQUAAAAAAAABCQAAAAAAAgEJAAAAAAAAAQ0AAAAAAAIBDQAAAAAAAAERAAAAAAACAREAAAAAAAABFQAAAAAAAgEVAAAAAAAAARkAAAAAAAIBGQAAAAAAAAEdAAAAAAACAR0AAAAAAAABIQAAAAAAAgEhAAAAAAAAASUAAAAAAAIBJQAAAAAAAAEpAAAAAAACASkAAAAAAAABLQAAAAAAAgEtAAAAAAAAATEAAAAAAAIBMQAAAAAAAAE1AAAAAAACATUAAAAAAAABOQAAAAAAAgE5AAAAAAAAAT0AAAAAAAIBPQAAAAAAAAFBAAAAAAABAUEAAAAAAAIBQQAAAAAAAwFBAAAAAAAAAUUAAAAAAAEBRQAAAAAAAgFFAAAAAAADAUUAAAAAAAABSQAAAAAAAQFJAAAAAAACAUkAAAAAAAMBSQAAAAAAAAFNAAAAAAABAU0AAAAAAAIBTQAAAAAAAwFNAAAAAAAAAVEAAAAAAAEBUQAAAAAAAgFRAAAAAAADAVEAAAAAAAABVQAAAAAAAQFVAAAAAAACAVUAAAAAAAMBVQAAAAAAAAFZAAAAAAABAVkAAAAAAAIBWQAAAAAAAwFZAAAAAAAAAV0AAAAAAAEBXQAAAAAAAgFdAAAAAAADAV0AAAAAAAABYQAAAAAAAQFhAAAAAAACAWEAAAAAAAMBYQAAAAAAAAFlA",
          "dtype": "f8"
         },
         "xaxis": "x",
         "y": {
          "bdata": "JVMS/lba3j9ix3NLR3zYP2H8qO8lcdE/PQLa6YfV0D/7a6kstAHQP4s+LGjdf8w/K1jF6lg6xz9GiHT8CD7DP3ehkKNETsQ/lc31LNVuvj8YnO7Ewku4P28iA/SrKrc/qH/PbKYHsz/k0jWWX4yxP/Rp1bw2O7Q/UivPkrZFuT+VyqYQYre4P9q9pWKyX7g/Nhx30ukCvT9fqS8ym1HEPxotoNBPz8M/q2RAF2PuwD98VrdMxR/APx4NRKcKULo/7E9Mr9tjuj8u9D6O0Qq9P2+CirV00rQ/Dh1l3Jenqj+wYXVWpC+xP64uMlIAR7s/X/rzgGcEvT92VKwPyYC7P8m22DdjFLo/szamN1GWuD8c4WAGaIq3P+H3ZUp/erg/tzVDo2cXuj/8ywJWjpS2Pz++Vxv6UrE/Ge+Rn5bCsz/ENsuLRZi5P9fgY6FiH7s/tyOL3Hivtz/I1PZqK3K1P/zgseZdcbc/wGNOT/psuT9QvGt3+O22PzfWqdf02bU/x2JRse9Otz8S2b3z2HC1P7qUEZdNCK0/27L5VHA3rj+38LvdAemwP0FtyCXqu6w/UMwA8bSusD9SXMRYhcG0P7+p3+Jgh7Y/l9m4AKAnsD9h3+ldfC2nP3cPyOrGj6Y/CM0WQgjFoT/OYU7fIryaP21W6JdR8JI/l/iHTMTjhj+3LJ0ZwDqAP25n6XPIpnE/yuoyiW2AXz/0VRXeGAlEPxgibf4Q2yE/9iIvN1v1Aj/SaT1+RmXgPtpDdmMzLKQ+38MUJR46iz49OKx9ueWIPs6uSODvHYE+Ku1ysxoecT5pJPT8hYtVPpxZtCbdNEM++fjkBTc9Uj7cXPFHz3dmPm5dFKOp3Gg+RFR9Hr/EXD6hTCWDpupEPhveTh1lH1A+xEz95Q9DYD4OWXExazVgPjB37btN+04+kYzYB5YLPz752HaOA4VSPoZJv0DlDlg+xGROgYo9TD6R6+PQH/A9PqSWMVN9wkQ+gWCfS7ZhUz4iDVgWtNhTPqoNgaVl+UI+",
          "dtype": "f8"
         },
         "yaxis": "y"
        }
       ],
       "layout": {
        "legend": {
         "tracegroupgap": 0
        },
        "shapes": [
         {
          "line": {
           "dash": "dot"
          },
          "type": "line",
          "x0": 40,
          "x1": 40,
          "xref": "x",
          "y0": 0,
          "y1": 1,
          "yref": "y domain"
         }
        ],
        "template": {
         "data": {
          "bar": [
           {
            "error_x": {
             "color": "#2a3f5f"
            },
            "error_y": {
             "color": "#2a3f5f"
            },
            "marker": {
             "line": {
              "color": "#E5ECF6",
              "width": 0.5
             },
             "pattern": {
              "fillmode": "overlay",
              "size": 10,
              "solidity": 0.2
             }
            },
            "type": "bar"
           }
          ],
          "barpolar": [
           {
            "marker": {
             "line": {
              "color": "#E5ECF6",
              "width": 0.5
             },
             "pattern": {
              "fillmode": "overlay",
              "size": 10,
              "solidity": 0.2
             }
            },
            "type": "barpolar"
           }
          ],
          "carpet": [
           {
            "aaxis": {
             "endlinecolor": "#2a3f5f",
             "gridcolor": "white",
             "linecolor": "white",
             "minorgridcolor": "white",
             "startlinecolor": "#2a3f5f"
            },
            "baxis": {
             "endlinecolor": "#2a3f5f",
             "gridcolor": "white",
             "linecolor": "white",
             "minorgridcolor": "white",
             "startlinecolor": "#2a3f5f"
            },
            "type": "carpet"
           }
          ],
          "choropleth": [
           {
            "colorbar": {
             "outlinewidth": 0,
             "ticks": ""
            },
            "type": "choropleth"
           }
          ],
          "contour": [
           {
            "colorbar": {
             "outlinewidth": 0,
             "ticks": ""
            },
            "colorscale": [
             [
              0,
              "#0d0887"
             ],
             [
              0.1111111111111111,
              "#46039f"
             ],
             [
              0.2222222222222222,
              "#7201a8"
             ],
             [
              0.3333333333333333,
              "#9c179e"
             ],
             [
              0.4444444444444444,
              "#bd3786"
             ],
             [
              0.5555555555555556,
              "#d8576b"
             ],
             [
              0.6666666666666666,
              "#ed7953"
             ],
             [
              0.7777777777777778,
              "#fb9f3a"
             ],
             [
              0.8888888888888888,
              "#fdca26"
             ],
             [
              1,
              "#f0f921"
             ]
            ],
            "type": "contour"
           }
          ],
          "contourcarpet": [
           {
            "colorbar": {
             "outlinewidth": 0,
             "ticks": ""
            },
            "type": "contourcarpet"
           }
          ],
          "heatmap": [
           {
            "colorbar": {
             "outlinewidth": 0,
             "ticks": ""
            },
            "colorscale": [
             [
              0,
              "#0d0887"
             ],
             [
              0.1111111111111111,
              "#46039f"
             ],
             [
              0.2222222222222222,
              "#7201a8"
             ],
             [
              0.3333333333333333,
              "#9c179e"
             ],
             [
              0.4444444444444444,
              "#bd3786"
             ],
             [
              0.5555555555555556,
              "#d8576b"
             ],
             [
              0.6666666666666666,
              "#ed7953"
             ],
             [
              0.7777777777777778,
              "#fb9f3a"
             ],
             [
              0.8888888888888888,
              "#fdca26"
             ],
             [
              1,
              "#f0f921"
             ]
            ],
            "type": "heatmap"
           }
          ],
          "histogram": [
           {
            "marker": {
             "pattern": {
              "fillmode": "overlay",
              "size": 10,
              "solidity": 0.2
             }
            },
            "type": "histogram"
           }
          ],
          "histogram2d": [
           {
            "colorbar": {
             "outlinewidth": 0,
             "ticks": ""
            },
            "colorscale": [
             [
              0,
              "#0d0887"
             ],
             [
              0.1111111111111111,
              "#46039f"
             ],
             [
              0.2222222222222222,
              "#7201a8"
             ],
             [
              0.3333333333333333,
              "#9c179e"
             ],
             [
              0.4444444444444444,
              "#bd3786"
             ],
             [
              0.5555555555555556,
              "#d8576b"
             ],
             [
              0.6666666666666666,
              "#ed7953"
             ],
             [
              0.7777777777777778,
              "#fb9f3a"
             ],
             [
              0.8888888888888888,
              "#fdca26"
             ],
             [
              1,
              "#f0f921"
             ]
            ],
            "type": "histogram2d"
           }
          ],
          "histogram2dcontour": [
           {
            "colorbar": {
             "outlinewidth": 0,
             "ticks": ""
            },
            "colorscale": [
             [
              0,
              "#0d0887"
             ],
             [
              0.1111111111111111,
              "#46039f"
             ],
             [
              0.2222222222222222,
              "#7201a8"
             ],
             [
              0.3333333333333333,
              "#9c179e"
             ],
             [
              0.4444444444444444,
              "#bd3786"
             ],
             [
              0.5555555555555556,
              "#d8576b"
             ],
             [
              0.6666666666666666,
              "#ed7953"
             ],
             [
              0.7777777777777778,
              "#fb9f3a"
             ],
             [
              0.8888888888888888,
              "#fdca26"
             ],
             [
              1,
              "#f0f921"
             ]
            ],
            "type": "histogram2dcontour"
           }
          ],
          "mesh3d": [
           {
            "colorbar": {
             "outlinewidth": 0,
             "ticks": ""
            },
            "type": "mesh3d"
           }
          ],
          "parcoords": [
           {
            "line": {
             "colorbar": {
              "outlinewidth": 0,
              "ticks": ""
             }
            },
            "type": "parcoords"
           }
          ],
          "pie": [
           {
            "automargin": true,
            "type": "pie"
           }
          ],
          "scatter": [
           {
            "fillpattern": {
             "fillmode": "overlay",
             "size": 10,
             "solidity": 0.2
            },
            "type": "scatter"
           }
          ],
          "scatter3d": [
           {
            "line": {
             "colorbar": {
              "outlinewidth": 0,
              "ticks": ""
             }
            },
            "marker": {
             "colorbar": {
              "outlinewidth": 0,
              "ticks": ""
             }
            },
            "type": "scatter3d"
           }
          ],
          "scattercarpet": [
           {
            "marker": {
             "colorbar": {
              "outlinewidth": 0,
              "ticks": ""
             }
            },
            "type": "scattercarpet"
           }
          ],
          "scattergeo": [
           {
            "marker": {
             "colorbar": {
              "outlinewidth": 0,
              "ticks": ""
             }
            },
            "type": "scattergeo"
           }
          ],
          "scattergl": [
           {
            "marker": {
             "colorbar": {
              "outlinewidth": 0,
              "ticks": ""
             }
            },
            "type": "scattergl"
           }
          ],
          "scattermap": [
           {
            "marker": {
             "colorbar": {
              "outlinewidth": 0,
              "ticks": ""
             }
            },
            "type": "scattermap"
           }
          ],
          "scattermapbox": [
           {
            "marker": {
             "colorbar": {
              "outlinewidth": 0,
              "ticks": ""
             }
            },
            "type": "scattermapbox"
           }
          ],
          "scatterpolar": [
           {
            "marker": {
             "colorbar": {
              "outlinewidth": 0,
              "ticks": ""
             }
            },
            "type": "scatterpolar"
           }
          ],
          "scatterpolargl": [
           {
            "marker": {
             "colorbar": {
              "outlinewidth": 0,
              "ticks": ""
             }
            },
            "type": "scatterpolargl"
           }
          ],
          "scatterternary": [
           {
            "marker": {
             "colorbar": {
              "outlinewidth": 0,
              "ticks": ""
             }
            },
            "type": "scatterternary"
           }
          ],
          "surface": [
           {
            "colorbar": {
             "outlinewidth": 0,
             "ticks": ""
            },
            "colorscale": [
             [
              0,
              "#0d0887"
             ],
             [
              0.1111111111111111,
              "#46039f"
             ],
             [
              0.2222222222222222,
              "#7201a8"
             ],
             [
              0.3333333333333333,
              "#9c179e"
             ],
             [
              0.4444444444444444,
              "#bd3786"
             ],
             [
              0.5555555555555556,
              "#d8576b"
             ],
             [
              0.6666666666666666,
              "#ed7953"
             ],
             [
              0.7777777777777778,
              "#fb9f3a"
             ],
             [
              0.8888888888888888,
              "#fdca26"
             ],
             [
              1,
              "#f0f921"
             ]
            ],
            "type": "surface"
           }
          ],
          "table": [
           {
            "cells": {
             "fill": {
              "color": "#EBF0F8"
             },
             "line": {
              "color": "white"
             }
            },
            "header": {
             "fill": {
              "color": "#C8D4E3"
             },
             "line": {
              "color": "white"
             }
            },
            "type": "table"
           }
          ]
         },
         "layout": {
          "annotationdefaults": {
           "arrowcolor": "#2a3f5f",
           "arrowhead": 0,
           "arrowwidth": 1
          },
          "autotypenumbers": "strict",
          "coloraxis": {
           "colorbar": {
            "outlinewidth": 0,
            "ticks": ""
           }
          },
          "colorscale": {
           "diverging": [
            [
             0,
             "#8e0152"
            ],
            [
             0.1,
             "#c51b7d"
            ],
            [
             0.2,
             "#de77ae"
            ],
            [
             0.3,
             "#f1b6da"
            ],
            [
             0.4,
             "#fde0ef"
            ],
            [
             0.5,
             "#f7f7f7"
            ],
            [
             0.6,
             "#e6f5d0"
            ],
            [
             0.7,
             "#b8e186"
            ],
            [
             0.8,
             "#7fbc41"
            ],
            [
             0.9,
             "#4d9221"
            ],
            [
             1,
             "#276419"
            ]
           ],
           "sequential": [
            [
             0,
             "#0d0887"
            ],
            [
             0.1111111111111111,
             "#46039f"
            ],
            [
             0.2222222222222222,
             "#7201a8"
            ],
            [
             0.3333333333333333,
             "#9c179e"
            ],
            [
             0.4444444444444444,
             "#bd3786"
            ],
            [
             0.5555555555555556,
             "#d8576b"
            ],
            [
             0.6666666666666666,
             "#ed7953"
            ],
            [
             0.7777777777777778,
             "#fb9f3a"
            ],
            [
             0.8888888888888888,
             "#fdca26"
            ],
            [
             1,
             "#f0f921"
            ]
           ],
           "sequentialminus": [
            [
             0,
             "#0d0887"
            ],
            [
             0.1111111111111111,
             "#46039f"
            ],
            [
             0.2222222222222222,
             "#7201a8"
            ],
            [
             0.3333333333333333,
             "#9c179e"
            ],
            [
             0.4444444444444444,
             "#bd3786"
            ],
            [
             0.5555555555555556,
             "#d8576b"
            ],
            [
             0.6666666666666666,
             "#ed7953"
            ],
            [
             0.7777777777777778,
             "#fb9f3a"
            ],
            [
             0.8888888888888888,
             "#fdca26"
            ],
            [
             1,
             "#f0f921"
            ]
           ]
          },
          "colorway": [
           "#636efa",
           "#EF553B",
           "#00cc96",
           "#ab63fa",
           "#FFA15A",
           "#19d3f3",
           "#FF6692",
           "#B6E880",
           "#FF97FF",
           "#FECB52"
          ],
          "font": {
           "color": "#2a3f5f"
          },
          "geo": {
           "bgcolor": "white",
           "lakecolor": "white",
           "landcolor": "#E5ECF6",
           "showlakes": true,
           "showland": true,
           "subunitcolor": "white"
          },
          "hoverlabel": {
           "align": "left"
          },
          "hovermode": "closest",
          "mapbox": {
           "style": "light"
          },
          "paper_bgcolor": "white",
          "plot_bgcolor": "#E5ECF6",
          "polar": {
           "angularaxis": {
            "gridcolor": "white",
            "linecolor": "white",
            "ticks": ""
           },
           "bgcolor": "#E5ECF6",
           "radialaxis": {
            "gridcolor": "white",
            "linecolor": "white",
            "ticks": ""
           }
          },
          "scene": {
           "xaxis": {
            "backgroundcolor": "#E5ECF6",
            "gridcolor": "white",
            "gridwidth": 2,
            "linecolor": "white",
            "showbackground": true,
            "ticks": "",
            "zerolinecolor": "white"
           },
           "yaxis": {
            "backgroundcolor": "#E5ECF6",
            "gridcolor": "white",
            "gridwidth": 2,
            "linecolor": "white",
            "showbackground": true,
            "ticks": "",
            "zerolinecolor": "white"
           },
           "zaxis": {
            "backgroundcolor": "#E5ECF6",
            "gridcolor": "white",
            "gridwidth": 2,
            "linecolor": "white",
            "showbackground": true,
            "ticks": "",
            "zerolinecolor": "white"
           }
          },
          "shapedefaults": {
           "line": {
            "color": "#2a3f5f"
           }
          },
          "ternary": {
           "aaxis": {
            "gridcolor": "white",
            "linecolor": "white",
            "ticks": ""
           },
           "baxis": {
            "gridcolor": "white",
            "linecolor": "white",
            "ticks": ""
           },
           "bgcolor": "#E5ECF6",
           "caxis": {
            "gridcolor": "white",
            "linecolor": "white",
            "ticks": ""
           }
          },
          "title": {
           "x": 0.05
          },
          "xaxis": {
           "automargin": true,
           "gridcolor": "white",
           "linecolor": "white",
           "ticks": "",
           "title": {
            "standoff": 15
           },
           "zerolinecolor": "white",
           "zerolinewidth": 2
          },
          "yaxis": {
           "automargin": true,
           "gridcolor": "white",
           "linecolor": "white",
           "ticks": "",
           "title": {
            "standoff": 15
           },
           "zerolinecolor": "white",
           "zerolinewidth": 2
          }
         }
        },
        "title": {
         "text": "Average PSD from 1-s windows (second half) — EO | A1 | 45 windows"
        },
        "xaxis": {
         "anchor": "y",
         "domain": [
          0,
          1
         ],
         "range": [
          5,
          100
         ],
         "title": {
          "text": "Frequency (Hz)"
         }
        },
        "yaxis": {
         "anchor": "x",
         "domain": [
          0,
          1
         ],
         "title": {
          "text": "Power (PSD, density)"
         }
        }
       }
      }
     },
     "metadata": {},
     "output_type": "display_data"
    },
    {
     "name": "stdout",
     "output_type": "stream",
     "text": [
      "7dr6p8 | A1 | EO | windows=45 | SNR@40Hz = 0.20 dB\n"
     ]
    }
   ],
   "source": [
    "target_token = \"eo\"   # or \"ec\"\n",
    "pat = fr'(^|[^a-z]){target_token}([^a-z]|$)'\n",
    "\n",
    "f0 = 40.0\n",
    "fs_param = fs             \n",
    "fmin, fmax = 5.0, 100.0\n",
    "\n",
    "for i in range(3):\n",
    "    active_recording = sessions.iloc[i + 9]\n",
    "    eeg, snr_df, load_report_dict = process_recording(active_recording)\n",
    "\n",
    "    # Long format with sample indices\n",
    "    _tmp = eeg.copy()\n",
    "    _tmp[\"sample_idx\"] = np.arange(len(_tmp), dtype=int)\n",
    "    if \"TS_UNIX\" in _tmp.columns:\n",
    "        _tmp = _tmp.drop(columns=[\"TS_UNIX\"])\n",
    "\n",
    "    eeg_long = pd.melt(\n",
    "        _tmp,\n",
    "        id_vars=[\"sample_idx\", \"Condition\"],\n",
    "        value_vars=chans,      \n",
    "        var_name=\"Channel\",\n",
    "        value_name=\"mV\",\n",
    "    )\n",
    "\n",
    "    # Keep only EO or EC rows\n",
    "    mask_long = eeg_long[\"Condition\"].astype(str).str.contains(pat, case=False, regex=True, na=False)\n",
    "    dfc = eeg_long.loc[mask_long].copy()\n",
    "    if dfc.empty:\n",
    "        print(f\"Skip {active_recording.ID}: no rows for Condition='{target_token}'.\")\n",
    "        continue\n",
    "\n",
    "    # Pick best channel (falls back to first available)\n",
    "    target_channel_session = None\n",
    "    if isinstance(snr_df, pd.DataFrame) and not snr_df.empty and \"SNR_Second_Half\" in snr_df.columns:\n",
    "        mask_snr = snr_df[\"Condition\"].astype(str).str.contains(pat, case=False, regex=True, na=False)\n",
    "        best = snr_df[mask_snr].sort_values(\"SNR_Second_Half\", ascending=False)\n",
    "        if not best.empty:\n",
    "            target_channel_session = best[\"Channel\"].iloc[0]\n",
    "    if target_channel_session is None:\n",
    "        target_channel_session = dfc[\"Channel\"].iloc[0]\n",
    "\n",
    "    # Compute average PSD from 1-s windows in the seconbd half of each contiguous segment\n",
    "    avg_psd, n_win = avg_psd_second_half_scipy(\n",
    "        dfc_cond=dfc,\n",
    "        channel=target_channel_session,\n",
    "        fs=fs_param,\n",
    "        fmin=fmin,\n",
    "        fmax=fmax,\n",
    "        win_s=1.0,\n",
    "    )\n",
    "\n",
    "    if avg_psd is None or avg_psd.empty or n_win == 0:\n",
    "        print(f\"Skip {active_recording.ID}: no valid 1-s windows in the second half for '{target_token}'.\")\n",
    "        continue\n",
    "\n",
    "    # Plot and quantify SNR at 40 Hz\n",
    "    title = (f\"Average PSD from 1-s windows (second half) — \"\n",
    "             f\"{target_token.upper()} | {target_channel_session} | {n_win} windows\")\n",
    "    fig_psd_avg = plot_avg_psd(avg_psd, f0=f0, fmax=fmax, title=title)\n",
    "    fig_psd_avg.show()\n",
    "\n",
    "    snr_db = snr_around_f0(avg_psd, f0=f0, bw=1.0, flank=3)\n",
    "    print(f\"{active_recording.ID} | {target_channel_session} | {target_token.upper()} | \"\n",
    "          f\"windows={n_win} | SNR@{f0:.0f}Hz = {snr_db:.2f} dB\")\n"
   ]
  },
  {
   "cell_type": "code",
   "execution_count": 18,
   "metadata": {},
   "outputs": [
    {
     "name": "stdout",
     "output_type": "stream",
     "text": [
      "Skip 12cbia: process_recording failed: single positional indexer is out-of-bounds\n",
      "Skip 9hqfii: process_recording failed: 'SNR_Second_Half'\n",
      "Skip 9hqfii: process_recording failed: 'SNR_Second_Half'\n"
     ]
    },
    {
     "name": "stderr",
     "output_type": "stream",
     "text": [
      "/Users/Sam/UNAM/neuro_headphone_study/Code/flows/processing.py:156: RuntimeWarning:\n",
      "\n",
      "filter_length (1651) is longer than the signal (874), distortion is likely. Reduce filter length or filter a longer signal.\n",
      "\n"
     ]
    },
    {
     "name": "stdout",
     "output_type": "stream",
     "text": [
      "Skip 9hqfii: process_recording failed: Only 0 head digitization points of the specified kinds (\"eeg\", \"extra\",), at least 4 required\n"
     ]
    },
    {
     "data": {
      "application/vnd.plotly.v1+json": {
       "config": {
        "plotlyServerURL": "https://plot.ly"
       },
       "data": [
        {
         "coloraxis": "coloraxis",
         "colorbar": {
          "title": {
           "text": "ASSR SNR (2nd half)"
          }
         },
         "hovertemplate": "ID: %{x}<br>Run: %{y}<br>ASSR SNR (2nd half): %{z}<extra></extra>",
         "name": "0",
         "showscale": false,
         "type": "heatmap",
         "x": [
          "564f1u",
          "9j2wl4",
          "9pueps",
          "a272u4",
          "anejys",
          "az2bj9",
          "az470i",
          "bk7zlu",
          "g808pk"
         ],
         "xaxis": "x",
         "y": [
          "rec1",
          "rec2",
          "rec3"
         ],
         "yaxis": "y",
         "z": {
          "bdata": "EHBv9zx3uz+uFQiUBFCxP2CAIQDPBdI/jrqX386KuT9416LqgsbkP3gUoFW5CbM/XK2C1kppyz9gfU3w3hFbtEDhDfhuifY/dLa1vkps1D/EFn3hhy2QPzDfj5GPIuk/dNIfgF7WyT+E5Wo2jRvyPxAjNcQ94cw/gO/6BnXi1z9i3AXPuslmQDb88LxFcwtAzF2GIKP54j9gawtev3CZPzhHMeVr3OM/qLxxMJFXsD+yBqOdGM4TQJBnhPr4df8/7E2YhQfcwT/IeKD3jjgeQCDCzZexsrs/",
          "dtype": "f8",
          "shape": "3, 9"
         },
         "zmax": 182.30405379433347,
         "zmin": -1.7249876879786502e-56
        },
        {
         "coloraxis": "coloraxis",
         "colorbar": {
          "title": {
           "text": "ASSR SNR (2nd half)"
          }
         },
         "hovertemplate": "ID: %{x}<br>Run: %{y}<br>ASSR SNR (2nd half): %{z}<extra></extra>",
         "name": "0",
         "type": "heatmap",
         "x": [
          "12cbia",
          "2rw33z",
          "43d7zr",
          "4wlws4",
          "7dr6p8",
          "9sbyk3",
          "aq9b9k",
          "c1zlyv",
          "cca2av",
          "fqzqgz",
          "rl8s47"
         ],
         "xaxis": "x2",
         "y": [
          "rec1",
          "rec2",
          "rec3"
         ],
         "yaxis": "y2",
         "z": {
          "bdata": "AAAAAAAA+H8AoKBz+kE1QODeqF9LZtM/BOSk3J758j/wLfIcG6O2P4QY8Fo6Bb8/FOboz6xvyD+kbFRVZt/QP6bmhd/VPgNAUI8BT7kJzz9AsAly2kHBP6BG50MWNwdAlIi0lKn7FEAgXTHGZzjTP6LtJf/GERNAgDbp8rx48z98X0morVrwPxzO+BojOto/gEJ5Qoaa+j+wAOkpfzQSQGxd5ci8XfM/hFdgeC093j+kzAZr8cP1P3hd4+dnJv0/IBZqQ7tjG0CCxRbGyl75P1zT0ggzqKU/qCsF8LtC2D/IoWNRHWOZP0AZTz7/Qvk/+GAjtpOz8j/+1ChxO1nUP6CVM54jWdI/",
          "dtype": "f8",
          "shape": "3, 11"
         },
         "zmax": 182.30405379433347,
         "zmin": -1.7249876879786502e-56
        }
       ],
       "layout": {
        "annotations": [
         {
          "font": {
           "size": 16
          },
          "showarrow": false,
          "text": "Ear Only",
          "x": 0.225,
          "xanchor": "center",
          "xref": "paper",
          "y": 1,
          "yanchor": "bottom",
          "yref": "paper"
         },
         {
          "font": {
           "size": 16
          },
          "showarrow": false,
          "text": "Top+Ears",
          "x": 0.775,
          "xanchor": "center",
          "xref": "paper",
          "y": 1,
          "yanchor": "bottom",
          "yref": "paper"
         }
        ],
        "height": 500,
        "template": {
         "data": {
          "bar": [
           {
            "error_x": {
             "color": "#2a3f5f"
            },
            "error_y": {
             "color": "#2a3f5f"
            },
            "marker": {
             "line": {
              "color": "#E5ECF6",
              "width": 0.5
             },
             "pattern": {
              "fillmode": "overlay",
              "size": 10,
              "solidity": 0.2
             }
            },
            "type": "bar"
           }
          ],
          "barpolar": [
           {
            "marker": {
             "line": {
              "color": "#E5ECF6",
              "width": 0.5
             },
             "pattern": {
              "fillmode": "overlay",
              "size": 10,
              "solidity": 0.2
             }
            },
            "type": "barpolar"
           }
          ],
          "carpet": [
           {
            "aaxis": {
             "endlinecolor": "#2a3f5f",
             "gridcolor": "white",
             "linecolor": "white",
             "minorgridcolor": "white",
             "startlinecolor": "#2a3f5f"
            },
            "baxis": {
             "endlinecolor": "#2a3f5f",
             "gridcolor": "white",
             "linecolor": "white",
             "minorgridcolor": "white",
             "startlinecolor": "#2a3f5f"
            },
            "type": "carpet"
           }
          ],
          "choropleth": [
           {
            "colorbar": {
             "outlinewidth": 0,
             "ticks": ""
            },
            "type": "choropleth"
           }
          ],
          "contour": [
           {
            "colorbar": {
             "outlinewidth": 0,
             "ticks": ""
            },
            "colorscale": [
             [
              0,
              "#0d0887"
             ],
             [
              0.1111111111111111,
              "#46039f"
             ],
             [
              0.2222222222222222,
              "#7201a8"
             ],
             [
              0.3333333333333333,
              "#9c179e"
             ],
             [
              0.4444444444444444,
              "#bd3786"
             ],
             [
              0.5555555555555556,
              "#d8576b"
             ],
             [
              0.6666666666666666,
              "#ed7953"
             ],
             [
              0.7777777777777778,
              "#fb9f3a"
             ],
             [
              0.8888888888888888,
              "#fdca26"
             ],
             [
              1,
              "#f0f921"
             ]
            ],
            "type": "contour"
           }
          ],
          "contourcarpet": [
           {
            "colorbar": {
             "outlinewidth": 0,
             "ticks": ""
            },
            "type": "contourcarpet"
           }
          ],
          "heatmap": [
           {
            "colorbar": {
             "outlinewidth": 0,
             "ticks": ""
            },
            "colorscale": [
             [
              0,
              "#0d0887"
             ],
             [
              0.1111111111111111,
              "#46039f"
             ],
             [
              0.2222222222222222,
              "#7201a8"
             ],
             [
              0.3333333333333333,
              "#9c179e"
             ],
             [
              0.4444444444444444,
              "#bd3786"
             ],
             [
              0.5555555555555556,
              "#d8576b"
             ],
             [
              0.6666666666666666,
              "#ed7953"
             ],
             [
              0.7777777777777778,
              "#fb9f3a"
             ],
             [
              0.8888888888888888,
              "#fdca26"
             ],
             [
              1,
              "#f0f921"
             ]
            ],
            "type": "heatmap"
           }
          ],
          "histogram": [
           {
            "marker": {
             "pattern": {
              "fillmode": "overlay",
              "size": 10,
              "solidity": 0.2
             }
            },
            "type": "histogram"
           }
          ],
          "histogram2d": [
           {
            "colorbar": {
             "outlinewidth": 0,
             "ticks": ""
            },
            "colorscale": [
             [
              0,
              "#0d0887"
             ],
             [
              0.1111111111111111,
              "#46039f"
             ],
             [
              0.2222222222222222,
              "#7201a8"
             ],
             [
              0.3333333333333333,
              "#9c179e"
             ],
             [
              0.4444444444444444,
              "#bd3786"
             ],
             [
              0.5555555555555556,
              "#d8576b"
             ],
             [
              0.6666666666666666,
              "#ed7953"
             ],
             [
              0.7777777777777778,
              "#fb9f3a"
             ],
             [
              0.8888888888888888,
              "#fdca26"
             ],
             [
              1,
              "#f0f921"
             ]
            ],
            "type": "histogram2d"
           }
          ],
          "histogram2dcontour": [
           {
            "colorbar": {
             "outlinewidth": 0,
             "ticks": ""
            },
            "colorscale": [
             [
              0,
              "#0d0887"
             ],
             [
              0.1111111111111111,
              "#46039f"
             ],
             [
              0.2222222222222222,
              "#7201a8"
             ],
             [
              0.3333333333333333,
              "#9c179e"
             ],
             [
              0.4444444444444444,
              "#bd3786"
             ],
             [
              0.5555555555555556,
              "#d8576b"
             ],
             [
              0.6666666666666666,
              "#ed7953"
             ],
             [
              0.7777777777777778,
              "#fb9f3a"
             ],
             [
              0.8888888888888888,
              "#fdca26"
             ],
             [
              1,
              "#f0f921"
             ]
            ],
            "type": "histogram2dcontour"
           }
          ],
          "mesh3d": [
           {
            "colorbar": {
             "outlinewidth": 0,
             "ticks": ""
            },
            "type": "mesh3d"
           }
          ],
          "parcoords": [
           {
            "line": {
             "colorbar": {
              "outlinewidth": 0,
              "ticks": ""
             }
            },
            "type": "parcoords"
           }
          ],
          "pie": [
           {
            "automargin": true,
            "type": "pie"
           }
          ],
          "scatter": [
           {
            "fillpattern": {
             "fillmode": "overlay",
             "size": 10,
             "solidity": 0.2
            },
            "type": "scatter"
           }
          ],
          "scatter3d": [
           {
            "line": {
             "colorbar": {
              "outlinewidth": 0,
              "ticks": ""
             }
            },
            "marker": {
             "colorbar": {
              "outlinewidth": 0,
              "ticks": ""
             }
            },
            "type": "scatter3d"
           }
          ],
          "scattercarpet": [
           {
            "marker": {
             "colorbar": {
              "outlinewidth": 0,
              "ticks": ""
             }
            },
            "type": "scattercarpet"
           }
          ],
          "scattergeo": [
           {
            "marker": {
             "colorbar": {
              "outlinewidth": 0,
              "ticks": ""
             }
            },
            "type": "scattergeo"
           }
          ],
          "scattergl": [
           {
            "marker": {
             "colorbar": {
              "outlinewidth": 0,
              "ticks": ""
             }
            },
            "type": "scattergl"
           }
          ],
          "scattermap": [
           {
            "marker": {
             "colorbar": {
              "outlinewidth": 0,
              "ticks": ""
             }
            },
            "type": "scattermap"
           }
          ],
          "scattermapbox": [
           {
            "marker": {
             "colorbar": {
              "outlinewidth": 0,
              "ticks": ""
             }
            },
            "type": "scattermapbox"
           }
          ],
          "scatterpolar": [
           {
            "marker": {
             "colorbar": {
              "outlinewidth": 0,
              "ticks": ""
             }
            },
            "type": "scatterpolar"
           }
          ],
          "scatterpolargl": [
           {
            "marker": {
             "colorbar": {
              "outlinewidth": 0,
              "ticks": ""
             }
            },
            "type": "scatterpolargl"
           }
          ],
          "scatterternary": [
           {
            "marker": {
             "colorbar": {
              "outlinewidth": 0,
              "ticks": ""
             }
            },
            "type": "scatterternary"
           }
          ],
          "surface": [
           {
            "colorbar": {
             "outlinewidth": 0,
             "ticks": ""
            },
            "colorscale": [
             [
              0,
              "#0d0887"
             ],
             [
              0.1111111111111111,
              "#46039f"
             ],
             [
              0.2222222222222222,
              "#7201a8"
             ],
             [
              0.3333333333333333,
              "#9c179e"
             ],
             [
              0.4444444444444444,
              "#bd3786"
             ],
             [
              0.5555555555555556,
              "#d8576b"
             ],
             [
              0.6666666666666666,
              "#ed7953"
             ],
             [
              0.7777777777777778,
              "#fb9f3a"
             ],
             [
              0.8888888888888888,
              "#fdca26"
             ],
             [
              1,
              "#f0f921"
             ]
            ],
            "type": "surface"
           }
          ],
          "table": [
           {
            "cells": {
             "fill": {
              "color": "#EBF0F8"
             },
             "line": {
              "color": "white"
             }
            },
            "header": {
             "fill": {
              "color": "#C8D4E3"
             },
             "line": {
              "color": "white"
             }
            },
            "type": "table"
           }
          ]
         },
         "layout": {
          "annotationdefaults": {
           "arrowcolor": "#2a3f5f",
           "arrowhead": 0,
           "arrowwidth": 1
          },
          "autotypenumbers": "strict",
          "coloraxis": {
           "colorbar": {
            "outlinewidth": 0,
            "ticks": ""
           }
          },
          "colorscale": {
           "diverging": [
            [
             0,
             "#8e0152"
            ],
            [
             0.1,
             "#c51b7d"
            ],
            [
             0.2,
             "#de77ae"
            ],
            [
             0.3,
             "#f1b6da"
            ],
            [
             0.4,
             "#fde0ef"
            ],
            [
             0.5,
             "#f7f7f7"
            ],
            [
             0.6,
             "#e6f5d0"
            ],
            [
             0.7,
             "#b8e186"
            ],
            [
             0.8,
             "#7fbc41"
            ],
            [
             0.9,
             "#4d9221"
            ],
            [
             1,
             "#276419"
            ]
           ],
           "sequential": [
            [
             0,
             "#0d0887"
            ],
            [
             0.1111111111111111,
             "#46039f"
            ],
            [
             0.2222222222222222,
             "#7201a8"
            ],
            [
             0.3333333333333333,
             "#9c179e"
            ],
            [
             0.4444444444444444,
             "#bd3786"
            ],
            [
             0.5555555555555556,
             "#d8576b"
            ],
            [
             0.6666666666666666,
             "#ed7953"
            ],
            [
             0.7777777777777778,
             "#fb9f3a"
            ],
            [
             0.8888888888888888,
             "#fdca26"
            ],
            [
             1,
             "#f0f921"
            ]
           ],
           "sequentialminus": [
            [
             0,
             "#0d0887"
            ],
            [
             0.1111111111111111,
             "#46039f"
            ],
            [
             0.2222222222222222,
             "#7201a8"
            ],
            [
             0.3333333333333333,
             "#9c179e"
            ],
            [
             0.4444444444444444,
             "#bd3786"
            ],
            [
             0.5555555555555556,
             "#d8576b"
            ],
            [
             0.6666666666666666,
             "#ed7953"
            ],
            [
             0.7777777777777778,
             "#fb9f3a"
            ],
            [
             0.8888888888888888,
             "#fdca26"
            ],
            [
             1,
             "#f0f921"
            ]
           ]
          },
          "colorway": [
           "#636efa",
           "#EF553B",
           "#00cc96",
           "#ab63fa",
           "#FFA15A",
           "#19d3f3",
           "#FF6692",
           "#B6E880",
           "#FF97FF",
           "#FECB52"
          ],
          "font": {
           "color": "#2a3f5f"
          },
          "geo": {
           "bgcolor": "white",
           "lakecolor": "white",
           "landcolor": "#E5ECF6",
           "showlakes": true,
           "showland": true,
           "subunitcolor": "white"
          },
          "hoverlabel": {
           "align": "left"
          },
          "hovermode": "closest",
          "mapbox": {
           "style": "light"
          },
          "paper_bgcolor": "white",
          "plot_bgcolor": "#E5ECF6",
          "polar": {
           "angularaxis": {
            "gridcolor": "white",
            "linecolor": "white",
            "ticks": ""
           },
           "bgcolor": "#E5ECF6",
           "radialaxis": {
            "gridcolor": "white",
            "linecolor": "white",
            "ticks": ""
           }
          },
          "scene": {
           "xaxis": {
            "backgroundcolor": "#E5ECF6",
            "gridcolor": "white",
            "gridwidth": 2,
            "linecolor": "white",
            "showbackground": true,
            "ticks": "",
            "zerolinecolor": "white"
           },
           "yaxis": {
            "backgroundcolor": "#E5ECF6",
            "gridcolor": "white",
            "gridwidth": 2,
            "linecolor": "white",
            "showbackground": true,
            "ticks": "",
            "zerolinecolor": "white"
           },
           "zaxis": {
            "backgroundcolor": "#E5ECF6",
            "gridcolor": "white",
            "gridwidth": 2,
            "linecolor": "white",
            "showbackground": true,
            "ticks": "",
            "zerolinecolor": "white"
           }
          },
          "shapedefaults": {
           "line": {
            "color": "#2a3f5f"
           }
          },
          "ternary": {
           "aaxis": {
            "gridcolor": "white",
            "linecolor": "white",
            "ticks": ""
           },
           "baxis": {
            "gridcolor": "white",
            "linecolor": "white",
            "ticks": ""
           },
           "bgcolor": "#E5ECF6",
           "caxis": {
            "gridcolor": "white",
            "linecolor": "white",
            "ticks": ""
           }
          },
          "title": {
           "x": 0.05
          },
          "xaxis": {
           "automargin": true,
           "gridcolor": "white",
           "linecolor": "white",
           "ticks": "",
           "title": {
            "standoff": 15
           },
           "zerolinecolor": "white",
           "zerolinewidth": 2
          },
          "yaxis": {
           "automargin": true,
           "gridcolor": "white",
           "linecolor": "white",
           "ticks": "",
           "title": {
            "standoff": 15
           },
           "zerolinecolor": "white",
           "zerolinewidth": 2
          }
         }
        },
        "title": {
         "text": "ASSR SNR Heatmaps by Configuration"
        },
        "width": 1100,
        "xaxis": {
         "anchor": "y",
         "domain": [
          0,
          0.45
         ],
         "title": {
          "text": "ID"
         }
        },
        "xaxis2": {
         "anchor": "y2",
         "domain": [
          0.55,
          1
         ],
         "title": {
          "text": "ID"
         }
        },
        "yaxis": {
         "anchor": "x",
         "domain": [
          0,
          1
         ],
         "title": {
          "text": "Run"
         }
        },
        "yaxis2": {
         "anchor": "x2",
         "domain": [
          0,
          1
         ],
         "title": {
          "text": "Run"
         }
        }
       }
      }
     },
     "metadata": {},
     "output_type": "display_data"
    }
   ],
   "source": [
    "def _run_to_rec_string(run_value):\n",
    "    s = str(run_value).strip().lower()\n",
    "    m = re.search(r\"rec\\s*([1-3])\", s)\n",
    "    if m:\n",
    "        return f\"rec{m.group(1)}\"\n",
    "    # numeric fallback\n",
    "    digits = \"\".join(ch for ch in s if ch.isdigit())\n",
    "    if digits in {\"1\",\"2\",\"3\"}:\n",
    "        return f\"rec{digits}\"\n",
    "    return s\n",
    "\n",
    "# Collect per-session SNR (second half) for EO condition\n",
    "records = []\n",
    "for i in range(len(sessions)):\n",
    "    active_recording = sessions.iloc[i]\n",
    "    try:\n",
    "        eeg, snr_df, load_report_dict = process_recording(active_recording)\n",
    "    except Exception as e:\n",
    "        print(f\"Skip {getattr(active_recording, 'ID', '?')}: process_recording failed: {e}\")\n",
    "        continue\n",
    "\n",
    "    if not isinstance(snr_df, pd.DataFrame) or snr_df.empty:\n",
    "        print(f\"Skip {getattr(active_recording, 'ID', '?')}: empty snr_df.\")\n",
    "        continue\n",
    "\n",
    "    if \"Condition\" not in snr_df.columns or \"SNR_Second_Half\" not in snr_df.columns:\n",
    "        print(f\"Skip {getattr(active_recording, 'ID', '?')}: required columns missing in snr_df.\")\n",
    "        continue\n",
    "\n",
    "    # Select EO condition robustly\n",
    "    mask_eo = snr_df[\"Condition\"].astype(str).str.contains(\"eo\", case=False, na=False)\n",
    "    snr_eo = snr_df.loc[mask_eo]\n",
    "    if snr_eo.empty and \"headphones_setup_eo_1\" in snr_df[\"Condition\"].unique().tolist():\n",
    "        snr_eo = snr_df[snr_df[\"Condition\"] == \"headphones_setup_eo_1\"]\n",
    "    if snr_eo.empty:\n",
    "        print(f\"Skip {getattr(active_recording, 'ID', '?')}: no EO condition rows.\")\n",
    "        continue\n",
    "\n",
    "    # Single SNR per session: use max across channels (robust)\n",
    "    val = pd.to_numeric(snr_eo[\"SNR_Second_Half\"], errors=\"coerce\").max()\n",
    "    if pd.isna(val):\n",
    "        print(f\"Skip {getattr(active_recording, 'ID', '?')}: SNR_Second_Half all NaN.\")\n",
    "        continue\n",
    "\n",
    "    rec = _run_to_rec_string(getattr(active_recording, 'Run', ''))\n",
    "    cfg = str(getattr(active_recording, 'Config', ''))\n",
    "    pid = str(getattr(active_recording, 'ID', ''))\n",
    "    records.append({\"Config\": cfg, \"ID\": pid, \"Run\": rec, \"SNR\": float(val)})\n",
    "\n",
    "df = pd.DataFrame.from_records(records)\n",
    "if df.empty:\n",
    "    raise ValueError(\"No SNR data collected. Ensure sessions/process_recording are working and EO exists.\")\n",
    "\n",
    "# Split by Config (case-insensitive exact match on the two labels used in the notebook)\n",
    "df_ear = df[df[\"Config\"].str.lower() == \"ear only\"]\n",
    "df_top = df[df[\"Config\"].str.lower() == \"top+ears\"]\n",
    "\n",
    "run_order = [\"rec1\", \"rec2\", \"rec3\"]\n",
    "\n",
    "def pivot_per_config(df_cfg):\n",
    "    if df_cfg.empty:\n",
    "        return pd.DataFrame(), []\n",
    "    id_order_cfg = sorted(df_cfg[\"ID\"].unique().tolist())\n",
    "    mat = df_cfg.pivot_table(index=\"Run\", columns=\"ID\", values=\"SNR\", aggfunc=\"max\")\n",
    "    # keep only present runs and only IDs of this config (no extraneous grey columns)\n",
    "    present_runs = [r for r in run_order if r in mat.index]\n",
    "    mat = mat.reindex(index=present_runs, columns=id_order_cfg)\n",
    "    return mat, id_order_cfg\n",
    "\n",
    "mat_ear, ids_ear = pivot_per_config(df_ear)\n",
    "mat_top, ids_top = pivot_per_config(df_top)\n",
    "\n",
    "# Shared z-range for comparability (keep if at least one matrix has values)\n",
    "zvals = []\n",
    "if not mat_ear.empty: zvals.append(mat_ear.to_numpy(dtype=float))\n",
    "if not mat_top.empty: zvals.append(mat_top.to_numpy(dtype=float))\n",
    "if zvals:\n",
    "    zstack = np.concatenate([v[np.isfinite(v)] for v in [np.ravel(z) for z in zvals] if np.any(np.isfinite(v))])\n",
    "    zmin = float(np.min(zstack)) if zstack.size else None\n",
    "    zmax = float(np.max(zstack)) if zstack.size else None\n",
    "else:\n",
    "    zmin = zmax = None\n",
    "\n",
    "\n",
    "fig_ear = None\n",
    "if not mat_ear.empty:\n",
    "    fig_ear = px.imshow(\n",
    "        mat_ear, aspect=\"auto\", origin=\"lower\",\n",
    "        labels=dict(x=\"ID\", y=\"Run\", color=\"ASSR SNR (2nd half)\"),\n",
    "        title=\"ASSR SNR — Ear Only\", color_continuous_scale=\"viridis\" # TODO: somehow no viridis doesn't apply -> check why docs says this is fine i guess?\n",
    "    )\n",
    "    if zmin is not None and zmax is not None:\n",
    "        fig_ear.data[0].update(zmin=zmin, zmax=zmax, colorbar=dict(title=\"ASSR SNR (2nd half)\"))\n",
    "\n",
    "fig_top = None\n",
    "if not mat_top.empty:\n",
    "    fig_top = px.imshow(\n",
    "        mat_top, aspect=\"auto\", origin=\"lower\",\n",
    "        labels=dict(x=\"ID\", y=\"Run\", color=\"ASSR SNR (2nd half)\"),\n",
    "        title=\"ASSR SNR — Top+Ears\", color_continuous_scale=\"viridis\" # TODO: somehow no viridis doesn't apply -> check why docs says this is fine i guess?\n",
    "    )\n",
    "    if zmin is not None and zmax is not None:\n",
    "        fig_top.data[0].update(zmin=zmin, zmax=zmax, colorbar=dict(title=\"ASSR SNR (2nd half)\"))\n",
    "\n",
    "# Compose side-by-side\n",
    "cols = 0 + (1 if fig_ear is not None else 0) + (1 if fig_top is not None else 0)\n",
    "if cols == 0:\n",
    "    raise ValueError(\"No data to plot for either configuration.\")\n",
    "if cols == 1:\n",
    "    # Show the single available figure\n",
    "    (fig_ear or fig_top).show()\n",
    "else:\n",
    "    sub = make_subplots(rows=1, cols=2, subplot_titles=(\"Ear Only\", \"Top+Ears\"))\n",
    "    sub.add_trace(fig_ear.data[0], row=1, col=1)\n",
    "    sub.add_trace(fig_top.data[0], row=1, col=2)\n",
    "    # axes\n",
    "    sub.update_xaxes(title_text=\"ID\", row=1, col=1)\n",
    "    sub.update_yaxes(title_text=\"Run\", row=1, col=1)\n",
    "    sub.update_xaxes(title_text=\"ID\", row=1, col=2)\n",
    "    sub.update_yaxes(title_text=\"Run\", row=1, col=2)\n",
    "    # show only right colorbar\n",
    "    sub.data[0].showscale = False\n",
    "    sub.data[1].colorbar = dict(title=\"ASSR SNR (2nd half)\")\n",
    "    sub.update_layout(title_text=\"ASSR SNR Heatmaps by Configuration\", height=500, width=1100)\n",
    "    sub.show()\n"
   ]
  },
  {
   "cell_type": "code",
   "execution_count": null,
   "metadata": {},
   "outputs": [],
   "source": []
  },
  {
   "cell_type": "code",
   "execution_count": null,
   "metadata": {},
   "outputs": [],
   "source": []
  },
  {
   "cell_type": "markdown",
   "metadata": {},
   "source": [
    "___\n",
    "### RMS Analysis\n",
    "In the folowing we wil look into the RMS Amplitude change over the course of the 3 recordings, first for each participant.\\\n",
    "Then we will look into the average change for all participants."
   ]
  },
  {
   "cell_type": "code",
   "execution_count": 19,
   "metadata": {},
   "outputs": [],
   "source": [
    "def parse_run_to_int(run):\n",
    "    \"\"\"Return 1/2/3 from values like 'rec1', 'rec2', 'rec3' or numeric 1..3.\"\"\"\n",
    "    s = str(run).strip().lower()\n",
    "    if \"rec\" in s:\n",
    "        digits = \"\".join(ch for ch in s if ch.isdigit())\n",
    "        return int(digits) if digits else None\n",
    "    try:\n",
    "        return int(s)\n",
    "    except Exception:\n",
    "        return None\n",
    "\n",
    "\n",
    "def _numeric_channels(df):\n",
    "    \"\"\"Return only numeric EEG channels. Prefer the 'chans' list if present in the notebook.\"\"\"\n",
    "    num_cols = df.select_dtypes(include=[np.number]).columns.tolist()\n",
    "    # If a global 'chans' list exists, preserve that order and filter to it\n",
    "    if \"chans\" in globals() and isinstance(globals().get(\"chans\"), (list, tuple)):\n",
    "        ordered = [c for c in globals()[\"chans\"] if c in df.columns and c in num_cols]\n",
    "        if len(ordered) >= 2:\n",
    "            return df[ordered]\n",
    "    return df[num_cols]\n",
    "\n",
    "\n",
    "def pick_eeg_dataframe(eeg_obj):\n",
    "    \"\"\"Try to extract a 2D EEG DataFrame (samples x channels) from the loader output.\"\"\"\n",
    "    if isinstance(eeg_obj, pd.DataFrame):\n",
    "        df = _numeric_channels(eeg_obj)\n",
    "        if df.shape[1] >= 2:\n",
    "            return df\n",
    "\n",
    "    if isinstance(eeg_obj, dict):\n",
    "        best_df, best_rows = None, 0\n",
    "        for k, v in eeg_obj.items():\n",
    "            if isinstance(v, pd.DataFrame):\n",
    "                df = _numeric_channels(v)\n",
    "                if df.shape[1] >= 2 and df.shape[0] > best_rows:\n",
    "                    best_rows = df.shape[0]\n",
    "                    best_df = df\n",
    "        if best_df is not None:\n",
    "            return best_df\n",
    "\n",
    "    raise ValueError(\"Unable to find a 2D EEG array in loader output. \"\n",
    "                     \"Ensure flows.load_exg_streams_data(...) returns a DataFrame with EEG channels.\")\n"
   ]
  },
  {
   "cell_type": "code",
   "execution_count": null,
   "metadata": {},
   "outputs": [],
   "source": [
    "def rms_aggregate_for_row(row, l_freq=1.0, h_freq=30.0, notch=(50.0,), use_intersection=True):\n",
    "    \"\"\"\n",
    "    Load EEG for a session row, preprocess (HP/LP + notch + avg ref + bads),\n",
    "    then compute robust RMS across channels (median of per-channel windowed RMS).\n",
    "    Returns a single float in µV_rms.\n",
    "    \"\"\"\n",
    "    # Resolve folder\n",
    "    rec_folder = row['Rec_folder']\n",
    "    base = globals().get('main_folder', \"\")\n",
    "    if isinstance(base, str) and base and not rec_folder.startswith(base):\n",
    "        rec_folder = os.path.join(base, rec_folder)\n",
    "\n",
    "    # Determine channels based on configuration\n",
    "    cfg = str(row.get('Config', 'Top+Ears'))\n",
    "    try:\n",
    "        chans_ear_only\n",
    "        chans_top_ear\n",
    "    except NameError:\n",
    "        # Fallbacks if not defined above\n",
    "        chans_ear_only = ['A2', 'A3', 'A4', 'A6', 'A7', 'A8']\n",
    "        chans_top_ear = ['A1', 'A2', 'A3', 'A6', 'A7', 'A8']\n",
    "    use_chans = chans_ear_only if cfg == 'Ear Only' else chans_top_ear\n",
    "\n",
    "    # Load full data (avoid column count mismatch) and drop irrelevant channels afterwards\n",
    "    eeg, _ = flows.load_exg_streams_data(rec_folder, chanlist=None,\n",
    "                                         report=False, cleanFile=True)\n",
    "\n",
    "    # Keep only relevant EEG channels for this configuration, plus time columns if present\n",
    "    time_cols_pref = [\"TS_UNIX\"]\n",
    "    keep_chans = [c for c in use_chans if c in eeg.columns]\n",
    "    if len(keep_chans) < 2:\n",
    "        return np.nan\n",
    "    keep_time = [c for c in time_cols_pref if c in eeg.columns]\n",
    "    eeg = eeg.loc[:, keep_chans + keep_time]\n",
    "\n",
    "    eeg_proc, rep = flows.preprocess_eeg_mne(\n",
    "        eeg_df=eeg,\n",
    "        sfreq=float(globals().get('fs', 250.0)),\n",
    "        l_freq=l_freq, h_freq=h_freq,\n",
    "        notch=notch,             \n",
    "        average_ref=True,\n",
    "        auto_bad=True,\n",
    "        return_raw=False\n",
    "    )\n",
    "\n",
    "    # Extract numeric channels\n",
    "    df = eeg_proc.select_dtypes(include=[np.number])\n",
    "    if 'time' in df.columns:  # MNE sometimes includes 'time'\n",
    "        df = df.drop(columns=['time'])\n",
    "\n",
    "    # Windowed median RMS to reduce artefacts\n",
    "    win = int(1.0 * globals().get('fs', 250.0))  # 1 s windows\n",
    "    vals = []\n",
    "    for c in df.columns:\n",
    "        x = df[c].to_numpy(dtype=float)\n",
    "        # guard: remove NaNs\n",
    "        x = np.nan_to_num(x, nan=0.0)\n",
    "        # windowed RMS\n",
    "        if x.size >= win:\n",
    "            r = np.sqrt(np.convolve(x*x, np.ones(win)/win, mode='valid'))\n",
    "            vals.append(np.median(r))   # robust median across windows\n",
    "    if not vals:\n",
    "        return np.nan\n",
    "    return float(np.median(vals))  # µV_rms\n"
   ]
  },
  {
   "cell_type": "code",
   "execution_count": 31,
   "metadata": {},
   "outputs": [
    {
     "data": {
      "application/vnd.plotly.v1+json": {
       "config": {
        "plotlyServerURL": "https://plot.ly"
       },
       "data": [
        {
         "hovertemplate": "Run=%{x}<br>RMS (µV_rms)=%{y}<extra></extra>",
         "legendgroup": "",
         "line": {
          "color": "#636efa",
          "dash": "solid"
         },
         "marker": {
          "symbol": "circle"
         },
         "mode": "lines+markers+text",
         "name": "",
         "orientation": "v",
         "showlegend": false,
         "text": {
          "bdata": "AAAAAAAACECamZmZmZkJQDMzMzMzMwdA",
          "dtype": "f8"
         },
         "textposition": "top center",
         "type": "scatter",
         "x": [
          "rec1",
          "rec2",
          "rec3"
         ],
         "xaxis": "x",
         "y": {
          "bdata": "oJWBiEUwCED8oxt4z6EJQC/YNbGHgQdA",
          "dtype": "f8"
         },
         "yaxis": "y"
        }
       ],
       "layout": {
        "legend": {
         "tracegroupgap": 0
        },
        "template": {
         "data": {
          "bar": [
           {
            "error_x": {
             "color": "#2a3f5f"
            },
            "error_y": {
             "color": "#2a3f5f"
            },
            "marker": {
             "line": {
              "color": "#E5ECF6",
              "width": 0.5
             },
             "pattern": {
              "fillmode": "overlay",
              "size": 10,
              "solidity": 0.2
             }
            },
            "type": "bar"
           }
          ],
          "barpolar": [
           {
            "marker": {
             "line": {
              "color": "#E5ECF6",
              "width": 0.5
             },
             "pattern": {
              "fillmode": "overlay",
              "size": 10,
              "solidity": 0.2
             }
            },
            "type": "barpolar"
           }
          ],
          "carpet": [
           {
            "aaxis": {
             "endlinecolor": "#2a3f5f",
             "gridcolor": "white",
             "linecolor": "white",
             "minorgridcolor": "white",
             "startlinecolor": "#2a3f5f"
            },
            "baxis": {
             "endlinecolor": "#2a3f5f",
             "gridcolor": "white",
             "linecolor": "white",
             "minorgridcolor": "white",
             "startlinecolor": "#2a3f5f"
            },
            "type": "carpet"
           }
          ],
          "choropleth": [
           {
            "colorbar": {
             "outlinewidth": 0,
             "ticks": ""
            },
            "type": "choropleth"
           }
          ],
          "contour": [
           {
            "colorbar": {
             "outlinewidth": 0,
             "ticks": ""
            },
            "colorscale": [
             [
              0,
              "#0d0887"
             ],
             [
              0.1111111111111111,
              "#46039f"
             ],
             [
              0.2222222222222222,
              "#7201a8"
             ],
             [
              0.3333333333333333,
              "#9c179e"
             ],
             [
              0.4444444444444444,
              "#bd3786"
             ],
             [
              0.5555555555555556,
              "#d8576b"
             ],
             [
              0.6666666666666666,
              "#ed7953"
             ],
             [
              0.7777777777777778,
              "#fb9f3a"
             ],
             [
              0.8888888888888888,
              "#fdca26"
             ],
             [
              1,
              "#f0f921"
             ]
            ],
            "type": "contour"
           }
          ],
          "contourcarpet": [
           {
            "colorbar": {
             "outlinewidth": 0,
             "ticks": ""
            },
            "type": "contourcarpet"
           }
          ],
          "heatmap": [
           {
            "colorbar": {
             "outlinewidth": 0,
             "ticks": ""
            },
            "colorscale": [
             [
              0,
              "#0d0887"
             ],
             [
              0.1111111111111111,
              "#46039f"
             ],
             [
              0.2222222222222222,
              "#7201a8"
             ],
             [
              0.3333333333333333,
              "#9c179e"
             ],
             [
              0.4444444444444444,
              "#bd3786"
             ],
             [
              0.5555555555555556,
              "#d8576b"
             ],
             [
              0.6666666666666666,
              "#ed7953"
             ],
             [
              0.7777777777777778,
              "#fb9f3a"
             ],
             [
              0.8888888888888888,
              "#fdca26"
             ],
             [
              1,
              "#f0f921"
             ]
            ],
            "type": "heatmap"
           }
          ],
          "histogram": [
           {
            "marker": {
             "pattern": {
              "fillmode": "overlay",
              "size": 10,
              "solidity": 0.2
             }
            },
            "type": "histogram"
           }
          ],
          "histogram2d": [
           {
            "colorbar": {
             "outlinewidth": 0,
             "ticks": ""
            },
            "colorscale": [
             [
              0,
              "#0d0887"
             ],
             [
              0.1111111111111111,
              "#46039f"
             ],
             [
              0.2222222222222222,
              "#7201a8"
             ],
             [
              0.3333333333333333,
              "#9c179e"
             ],
             [
              0.4444444444444444,
              "#bd3786"
             ],
             [
              0.5555555555555556,
              "#d8576b"
             ],
             [
              0.6666666666666666,
              "#ed7953"
             ],
             [
              0.7777777777777778,
              "#fb9f3a"
             ],
             [
              0.8888888888888888,
              "#fdca26"
             ],
             [
              1,
              "#f0f921"
             ]
            ],
            "type": "histogram2d"
           }
          ],
          "histogram2dcontour": [
           {
            "colorbar": {
             "outlinewidth": 0,
             "ticks": ""
            },
            "colorscale": [
             [
              0,
              "#0d0887"
             ],
             [
              0.1111111111111111,
              "#46039f"
             ],
             [
              0.2222222222222222,
              "#7201a8"
             ],
             [
              0.3333333333333333,
              "#9c179e"
             ],
             [
              0.4444444444444444,
              "#bd3786"
             ],
             [
              0.5555555555555556,
              "#d8576b"
             ],
             [
              0.6666666666666666,
              "#ed7953"
             ],
             [
              0.7777777777777778,
              "#fb9f3a"
             ],
             [
              0.8888888888888888,
              "#fdca26"
             ],
             [
              1,
              "#f0f921"
             ]
            ],
            "type": "histogram2dcontour"
           }
          ],
          "mesh3d": [
           {
            "colorbar": {
             "outlinewidth": 0,
             "ticks": ""
            },
            "type": "mesh3d"
           }
          ],
          "parcoords": [
           {
            "line": {
             "colorbar": {
              "outlinewidth": 0,
              "ticks": ""
             }
            },
            "type": "parcoords"
           }
          ],
          "pie": [
           {
            "automargin": true,
            "type": "pie"
           }
          ],
          "scatter": [
           {
            "fillpattern": {
             "fillmode": "overlay",
             "size": 10,
             "solidity": 0.2
            },
            "type": "scatter"
           }
          ],
          "scatter3d": [
           {
            "line": {
             "colorbar": {
              "outlinewidth": 0,
              "ticks": ""
             }
            },
            "marker": {
             "colorbar": {
              "outlinewidth": 0,
              "ticks": ""
             }
            },
            "type": "scatter3d"
           }
          ],
          "scattercarpet": [
           {
            "marker": {
             "colorbar": {
              "outlinewidth": 0,
              "ticks": ""
             }
            },
            "type": "scattercarpet"
           }
          ],
          "scattergeo": [
           {
            "marker": {
             "colorbar": {
              "outlinewidth": 0,
              "ticks": ""
             }
            },
            "type": "scattergeo"
           }
          ],
          "scattergl": [
           {
            "marker": {
             "colorbar": {
              "outlinewidth": 0,
              "ticks": ""
             }
            },
            "type": "scattergl"
           }
          ],
          "scattermap": [
           {
            "marker": {
             "colorbar": {
              "outlinewidth": 0,
              "ticks": ""
             }
            },
            "type": "scattermap"
           }
          ],
          "scattermapbox": [
           {
            "marker": {
             "colorbar": {
              "outlinewidth": 0,
              "ticks": ""
             }
            },
            "type": "scattermapbox"
           }
          ],
          "scatterpolar": [
           {
            "marker": {
             "colorbar": {
              "outlinewidth": 0,
              "ticks": ""
             }
            },
            "type": "scatterpolar"
           }
          ],
          "scatterpolargl": [
           {
            "marker": {
             "colorbar": {
              "outlinewidth": 0,
              "ticks": ""
             }
            },
            "type": "scatterpolargl"
           }
          ],
          "scatterternary": [
           {
            "marker": {
             "colorbar": {
              "outlinewidth": 0,
              "ticks": ""
             }
            },
            "type": "scatterternary"
           }
          ],
          "surface": [
           {
            "colorbar": {
             "outlinewidth": 0,
             "ticks": ""
            },
            "colorscale": [
             [
              0,
              "#0d0887"
             ],
             [
              0.1111111111111111,
              "#46039f"
             ],
             [
              0.2222222222222222,
              "#7201a8"
             ],
             [
              0.3333333333333333,
              "#9c179e"
             ],
             [
              0.4444444444444444,
              "#bd3786"
             ],
             [
              0.5555555555555556,
              "#d8576b"
             ],
             [
              0.6666666666666666,
              "#ed7953"
             ],
             [
              0.7777777777777778,
              "#fb9f3a"
             ],
             [
              0.8888888888888888,
              "#fdca26"
             ],
             [
              1,
              "#f0f921"
             ]
            ],
            "type": "surface"
           }
          ],
          "table": [
           {
            "cells": {
             "fill": {
              "color": "#EBF0F8"
             },
             "line": {
              "color": "white"
             }
            },
            "header": {
             "fill": {
              "color": "#C8D4E3"
             },
             "line": {
              "color": "white"
             }
            },
            "type": "table"
           }
          ]
         },
         "layout": {
          "annotationdefaults": {
           "arrowcolor": "#2a3f5f",
           "arrowhead": 0,
           "arrowwidth": 1
          },
          "autotypenumbers": "strict",
          "coloraxis": {
           "colorbar": {
            "outlinewidth": 0,
            "ticks": ""
           }
          },
          "colorscale": {
           "diverging": [
            [
             0,
             "#8e0152"
            ],
            [
             0.1,
             "#c51b7d"
            ],
            [
             0.2,
             "#de77ae"
            ],
            [
             0.3,
             "#f1b6da"
            ],
            [
             0.4,
             "#fde0ef"
            ],
            [
             0.5,
             "#f7f7f7"
            ],
            [
             0.6,
             "#e6f5d0"
            ],
            [
             0.7,
             "#b8e186"
            ],
            [
             0.8,
             "#7fbc41"
            ],
            [
             0.9,
             "#4d9221"
            ],
            [
             1,
             "#276419"
            ]
           ],
           "sequential": [
            [
             0,
             "#0d0887"
            ],
            [
             0.1111111111111111,
             "#46039f"
            ],
            [
             0.2222222222222222,
             "#7201a8"
            ],
            [
             0.3333333333333333,
             "#9c179e"
            ],
            [
             0.4444444444444444,
             "#bd3786"
            ],
            [
             0.5555555555555556,
             "#d8576b"
            ],
            [
             0.6666666666666666,
             "#ed7953"
            ],
            [
             0.7777777777777778,
             "#fb9f3a"
            ],
            [
             0.8888888888888888,
             "#fdca26"
            ],
            [
             1,
             "#f0f921"
            ]
           ],
           "sequentialminus": [
            [
             0,
             "#0d0887"
            ],
            [
             0.1111111111111111,
             "#46039f"
            ],
            [
             0.2222222222222222,
             "#7201a8"
            ],
            [
             0.3333333333333333,
             "#9c179e"
            ],
            [
             0.4444444444444444,
             "#bd3786"
            ],
            [
             0.5555555555555556,
             "#d8576b"
            ],
            [
             0.6666666666666666,
             "#ed7953"
            ],
            [
             0.7777777777777778,
             "#fb9f3a"
            ],
            [
             0.8888888888888888,
             "#fdca26"
            ],
            [
             1,
             "#f0f921"
            ]
           ]
          },
          "colorway": [
           "#636efa",
           "#EF553B",
           "#00cc96",
           "#ab63fa",
           "#FFA15A",
           "#19d3f3",
           "#FF6692",
           "#B6E880",
           "#FF97FF",
           "#FECB52"
          ],
          "font": {
           "color": "#2a3f5f"
          },
          "geo": {
           "bgcolor": "white",
           "lakecolor": "white",
           "landcolor": "#E5ECF6",
           "showlakes": true,
           "showland": true,
           "subunitcolor": "white"
          },
          "hoverlabel": {
           "align": "left"
          },
          "hovermode": "closest",
          "mapbox": {
           "style": "light"
          },
          "paper_bgcolor": "white",
          "plot_bgcolor": "#E5ECF6",
          "polar": {
           "angularaxis": {
            "gridcolor": "white",
            "linecolor": "white",
            "ticks": ""
           },
           "bgcolor": "#E5ECF6",
           "radialaxis": {
            "gridcolor": "white",
            "linecolor": "white",
            "ticks": ""
           }
          },
          "scene": {
           "xaxis": {
            "backgroundcolor": "#E5ECF6",
            "gridcolor": "white",
            "gridwidth": 2,
            "linecolor": "white",
            "showbackground": true,
            "ticks": "",
            "zerolinecolor": "white"
           },
           "yaxis": {
            "backgroundcolor": "#E5ECF6",
            "gridcolor": "white",
            "gridwidth": 2,
            "linecolor": "white",
            "showbackground": true,
            "ticks": "",
            "zerolinecolor": "white"
           },
           "zaxis": {
            "backgroundcolor": "#E5ECF6",
            "gridcolor": "white",
            "gridwidth": 2,
            "linecolor": "white",
            "showbackground": true,
            "ticks": "",
            "zerolinecolor": "white"
           }
          },
          "shapedefaults": {
           "line": {
            "color": "#2a3f5f"
           }
          },
          "ternary": {
           "aaxis": {
            "gridcolor": "white",
            "linecolor": "white",
            "ticks": ""
           },
           "baxis": {
            "gridcolor": "white",
            "linecolor": "white",
            "ticks": ""
           },
           "bgcolor": "#E5ECF6",
           "caxis": {
            "gridcolor": "white",
            "linecolor": "white",
            "ticks": ""
           }
          },
          "title": {
           "x": 0.05
          },
          "xaxis": {
           "automargin": true,
           "gridcolor": "white",
           "linecolor": "white",
           "ticks": "",
           "title": {
            "standoff": 15
           },
           "zerolinecolor": "white",
           "zerolinewidth": 2
          },
          "yaxis": {
           "automargin": true,
           "gridcolor": "white",
           "linecolor": "white",
           "ticks": "",
           "title": {
            "standoff": 15
           },
           "zerolinecolor": "white",
           "zerolinewidth": 2
          }
         }
        },
        "title": {
         "text": "RMS amplitude across recordings for ID 9j2wl4"
        },
        "xaxis": {
         "anchor": "y",
         "domain": [
          0,
          1
         ],
         "title": {
          "text": "Run"
         }
        },
        "yaxis": {
         "anchor": "x",
         "domain": [
          0,
          1
         ],
         "title": {
          "text": "RMS (µV_rms)"
         }
        }
       }
      }
     },
     "metadata": {},
     "output_type": "display_data"
    },
    {
     "data": {
      "text/html": [
       "<div>\n",
       "<style scoped>\n",
       "    .dataframe tbody tr th:only-of-type {\n",
       "        vertical-align: middle;\n",
       "    }\n",
       "\n",
       "    .dataframe tbody tr th {\n",
       "        vertical-align: top;\n",
       "    }\n",
       "\n",
       "    .dataframe thead th {\n",
       "        text-align: right;\n",
       "    }\n",
       "</style>\n",
       "<table border=\"1\" class=\"dataframe\">\n",
       "  <thead>\n",
       "    <tr style=\"text-align: right;\">\n",
       "      <th></th>\n",
       "      <th>ID</th>\n",
       "      <th>Run</th>\n",
       "      <th>run_i</th>\n",
       "      <th>Config</th>\n",
       "      <th>RMS_uVrms</th>\n",
       "    </tr>\n",
       "  </thead>\n",
       "  <tbody>\n",
       "    <tr>\n",
       "      <th>0</th>\n",
       "      <td>9j2wl4</td>\n",
       "      <td>rec1</td>\n",
       "      <td>1</td>\n",
       "      <td>Ear Only</td>\n",
       "      <td>3.023570</td>\n",
       "    </tr>\n",
       "    <tr>\n",
       "      <th>1</th>\n",
       "      <td>9j2wl4</td>\n",
       "      <td>rec2</td>\n",
       "      <td>2</td>\n",
       "      <td>Ear Only</td>\n",
       "      <td>3.204009</td>\n",
       "    </tr>\n",
       "    <tr>\n",
       "      <th>2</th>\n",
       "      <td>9j2wl4</td>\n",
       "      <td>rec3</td>\n",
       "      <td>3</td>\n",
       "      <td>Ear Only</td>\n",
       "      <td>2.938247</td>\n",
       "    </tr>\n",
       "  </tbody>\n",
       "</table>\n",
       "</div>"
      ],
      "text/plain": [
       "       ID   Run  run_i    Config  RMS_uVrms\n",
       "0  9j2wl4  rec1      1  Ear Only   3.023570\n",
       "1  9j2wl4  rec2      2  Ear Only   3.204009\n",
       "2  9j2wl4  rec3      3  Ear Only   2.938247"
      ]
     },
     "execution_count": 31,
     "metadata": {},
     "output_type": "execute_result"
    }
   ],
   "source": [
    "sel = sessions.copy()\n",
    "sel['run_i'] = sel['Run'].apply(parse_run_to_int)\n",
    "\n",
    "# Find a participant with three distinct recordings among 1..3\n",
    "counts = sel[sel['run_i'].isin([1,2,3])].groupby('ID')['run_i'].nunique()\n",
    "cand_ids = counts[counts >= 3].index.tolist()\n",
    "if not cand_ids:\n",
    "    raise ValueError(\"No participant with three recordings found in 'sessions'.\")\n",
    "\n",
    "pid = cand_ids[7]\n",
    "one = sel[(sel['ID'] == pid) & (sel['run_i'].isin([1,2,3]))].copy()\n",
    "\n",
    "rows = []\n",
    "for _, r in one.sort_values('run_i').iterrows():\n",
    "    try:\n",
    "        agg = rms_aggregate_for_row(r)\n",
    "    except Exception as e:\n",
    "        agg = np.nan\n",
    "        print(f\"RMS failed for {r['ID']} {r['Run']}: {e}\")\n",
    "    rows.append({\n",
    "        'ID': r['ID'],\n",
    "        'Run': r['Run'],\n",
    "        'run_i': r['run_i'],\n",
    "        'Config': r.get('Config', None),\n",
    "        'RMS_uVrms': agg\n",
    "    })\n",
    "\n",
    "df_one = pd.DataFrame(rows).sort_values('run_i')\n",
    "\n",
    "fig = px.line(df_one, x='Run', y='RMS_uVrms', markers=True,\n",
    "              title=f\"RMS amplitude across recordings for ID {pid}\",\n",
    "              labels={'RMS_uVrms': 'RMS (µV_rms)'})\n",
    "fig.update_traces(mode='lines+markers+text', text=df_one['RMS_uVrms'].round(1), textposition='top center')\n",
    "fig.show()\n",
    "\n",
    "df_one\n"
   ]
  },
  {
   "cell_type": "code",
   "execution_count": 37,
   "metadata": {},
   "outputs": [
    {
     "name": "stdout",
     "output_type": "stream",
     "text": [
      "RMS failed for 12cbia rec1: single positional indexer is out-of-bounds\n"
     ]
    },
    {
     "name": "stderr",
     "output_type": "stream",
     "text": [
      "/Users/Sam/UNAM/neuro_headphone_study/Code/flows/processing.py:156: RuntimeWarning:\n",
      "\n",
      "filter_length (1651) is longer than the signal (874), distortion is likely. Reduce filter length or filter a longer signal.\n",
      "\n"
     ]
    },
    {
     "data": {
      "application/vnd.plotly.v1+json": {
       "config": {
        "plotlyServerURL": "https://plot.ly"
       },
       "data": [
        {
         "error_y": {
          "array": {
           "bdata": "T3XKS01Y+z9y6lc1+FUQQE4BO+8VHQ1A",
           "dtype": "f8"
          }
         },
         "hovertemplate": "Run=%{x}<br>RMS (µV_rms)=%{y}<extra></extra>",
         "legendgroup": "",
         "marker": {
          "color": "#636efa",
          "pattern": {
           "shape": ""
          }
         },
         "name": "",
         "orientation": "v",
         "showlegend": false,
         "textposition": "auto",
         "type": "bar",
         "x": [
          "rec1",
          "rec2",
          "rec3"
         ],
         "xaxis": "x",
         "y": {
          "bdata": "OxC9jiV3JEA0csSeGRouQE/d+PzuTClA",
          "dtype": "f8"
         },
         "yaxis": "y"
        }
       ],
       "layout": {
        "barmode": "relative",
        "legend": {
         "tracegroupgap": 0
        },
        "template": {
         "data": {
          "bar": [
           {
            "error_x": {
             "color": "#2a3f5f"
            },
            "error_y": {
             "color": "#2a3f5f"
            },
            "marker": {
             "line": {
              "color": "#E5ECF6",
              "width": 0.5
             },
             "pattern": {
              "fillmode": "overlay",
              "size": 10,
              "solidity": 0.2
             }
            },
            "type": "bar"
           }
          ],
          "barpolar": [
           {
            "marker": {
             "line": {
              "color": "#E5ECF6",
              "width": 0.5
             },
             "pattern": {
              "fillmode": "overlay",
              "size": 10,
              "solidity": 0.2
             }
            },
            "type": "barpolar"
           }
          ],
          "carpet": [
           {
            "aaxis": {
             "endlinecolor": "#2a3f5f",
             "gridcolor": "white",
             "linecolor": "white",
             "minorgridcolor": "white",
             "startlinecolor": "#2a3f5f"
            },
            "baxis": {
             "endlinecolor": "#2a3f5f",
             "gridcolor": "white",
             "linecolor": "white",
             "minorgridcolor": "white",
             "startlinecolor": "#2a3f5f"
            },
            "type": "carpet"
           }
          ],
          "choropleth": [
           {
            "colorbar": {
             "outlinewidth": 0,
             "ticks": ""
            },
            "type": "choropleth"
           }
          ],
          "contour": [
           {
            "colorbar": {
             "outlinewidth": 0,
             "ticks": ""
            },
            "colorscale": [
             [
              0,
              "#0d0887"
             ],
             [
              0.1111111111111111,
              "#46039f"
             ],
             [
              0.2222222222222222,
              "#7201a8"
             ],
             [
              0.3333333333333333,
              "#9c179e"
             ],
             [
              0.4444444444444444,
              "#bd3786"
             ],
             [
              0.5555555555555556,
              "#d8576b"
             ],
             [
              0.6666666666666666,
              "#ed7953"
             ],
             [
              0.7777777777777778,
              "#fb9f3a"
             ],
             [
              0.8888888888888888,
              "#fdca26"
             ],
             [
              1,
              "#f0f921"
             ]
            ],
            "type": "contour"
           }
          ],
          "contourcarpet": [
           {
            "colorbar": {
             "outlinewidth": 0,
             "ticks": ""
            },
            "type": "contourcarpet"
           }
          ],
          "heatmap": [
           {
            "colorbar": {
             "outlinewidth": 0,
             "ticks": ""
            },
            "colorscale": [
             [
              0,
              "#0d0887"
             ],
             [
              0.1111111111111111,
              "#46039f"
             ],
             [
              0.2222222222222222,
              "#7201a8"
             ],
             [
              0.3333333333333333,
              "#9c179e"
             ],
             [
              0.4444444444444444,
              "#bd3786"
             ],
             [
              0.5555555555555556,
              "#d8576b"
             ],
             [
              0.6666666666666666,
              "#ed7953"
             ],
             [
              0.7777777777777778,
              "#fb9f3a"
             ],
             [
              0.8888888888888888,
              "#fdca26"
             ],
             [
              1,
              "#f0f921"
             ]
            ],
            "type": "heatmap"
           }
          ],
          "histogram": [
           {
            "marker": {
             "pattern": {
              "fillmode": "overlay",
              "size": 10,
              "solidity": 0.2
             }
            },
            "type": "histogram"
           }
          ],
          "histogram2d": [
           {
            "colorbar": {
             "outlinewidth": 0,
             "ticks": ""
            },
            "colorscale": [
             [
              0,
              "#0d0887"
             ],
             [
              0.1111111111111111,
              "#46039f"
             ],
             [
              0.2222222222222222,
              "#7201a8"
             ],
             [
              0.3333333333333333,
              "#9c179e"
             ],
             [
              0.4444444444444444,
              "#bd3786"
             ],
             [
              0.5555555555555556,
              "#d8576b"
             ],
             [
              0.6666666666666666,
              "#ed7953"
             ],
             [
              0.7777777777777778,
              "#fb9f3a"
             ],
             [
              0.8888888888888888,
              "#fdca26"
             ],
             [
              1,
              "#f0f921"
             ]
            ],
            "type": "histogram2d"
           }
          ],
          "histogram2dcontour": [
           {
            "colorbar": {
             "outlinewidth": 0,
             "ticks": ""
            },
            "colorscale": [
             [
              0,
              "#0d0887"
             ],
             [
              0.1111111111111111,
              "#46039f"
             ],
             [
              0.2222222222222222,
              "#7201a8"
             ],
             [
              0.3333333333333333,
              "#9c179e"
             ],
             [
              0.4444444444444444,
              "#bd3786"
             ],
             [
              0.5555555555555556,
              "#d8576b"
             ],
             [
              0.6666666666666666,
              "#ed7953"
             ],
             [
              0.7777777777777778,
              "#fb9f3a"
             ],
             [
              0.8888888888888888,
              "#fdca26"
             ],
             [
              1,
              "#f0f921"
             ]
            ],
            "type": "histogram2dcontour"
           }
          ],
          "mesh3d": [
           {
            "colorbar": {
             "outlinewidth": 0,
             "ticks": ""
            },
            "type": "mesh3d"
           }
          ],
          "parcoords": [
           {
            "line": {
             "colorbar": {
              "outlinewidth": 0,
              "ticks": ""
             }
            },
            "type": "parcoords"
           }
          ],
          "pie": [
           {
            "automargin": true,
            "type": "pie"
           }
          ],
          "scatter": [
           {
            "fillpattern": {
             "fillmode": "overlay",
             "size": 10,
             "solidity": 0.2
            },
            "type": "scatter"
           }
          ],
          "scatter3d": [
           {
            "line": {
             "colorbar": {
              "outlinewidth": 0,
              "ticks": ""
             }
            },
            "marker": {
             "colorbar": {
              "outlinewidth": 0,
              "ticks": ""
             }
            },
            "type": "scatter3d"
           }
          ],
          "scattercarpet": [
           {
            "marker": {
             "colorbar": {
              "outlinewidth": 0,
              "ticks": ""
             }
            },
            "type": "scattercarpet"
           }
          ],
          "scattergeo": [
           {
            "marker": {
             "colorbar": {
              "outlinewidth": 0,
              "ticks": ""
             }
            },
            "type": "scattergeo"
           }
          ],
          "scattergl": [
           {
            "marker": {
             "colorbar": {
              "outlinewidth": 0,
              "ticks": ""
             }
            },
            "type": "scattergl"
           }
          ],
          "scattermap": [
           {
            "marker": {
             "colorbar": {
              "outlinewidth": 0,
              "ticks": ""
             }
            },
            "type": "scattermap"
           }
          ],
          "scattermapbox": [
           {
            "marker": {
             "colorbar": {
              "outlinewidth": 0,
              "ticks": ""
             }
            },
            "type": "scattermapbox"
           }
          ],
          "scatterpolar": [
           {
            "marker": {
             "colorbar": {
              "outlinewidth": 0,
              "ticks": ""
             }
            },
            "type": "scatterpolar"
           }
          ],
          "scatterpolargl": [
           {
            "marker": {
             "colorbar": {
              "outlinewidth": 0,
              "ticks": ""
             }
            },
            "type": "scatterpolargl"
           }
          ],
          "scatterternary": [
           {
            "marker": {
             "colorbar": {
              "outlinewidth": 0,
              "ticks": ""
             }
            },
            "type": "scatterternary"
           }
          ],
          "surface": [
           {
            "colorbar": {
             "outlinewidth": 0,
             "ticks": ""
            },
            "colorscale": [
             [
              0,
              "#0d0887"
             ],
             [
              0.1111111111111111,
              "#46039f"
             ],
             [
              0.2222222222222222,
              "#7201a8"
             ],
             [
              0.3333333333333333,
              "#9c179e"
             ],
             [
              0.4444444444444444,
              "#bd3786"
             ],
             [
              0.5555555555555556,
              "#d8576b"
             ],
             [
              0.6666666666666666,
              "#ed7953"
             ],
             [
              0.7777777777777778,
              "#fb9f3a"
             ],
             [
              0.8888888888888888,
              "#fdca26"
             ],
             [
              1,
              "#f0f921"
             ]
            ],
            "type": "surface"
           }
          ],
          "table": [
           {
            "cells": {
             "fill": {
              "color": "#EBF0F8"
             },
             "line": {
              "color": "white"
             }
            },
            "header": {
             "fill": {
              "color": "#C8D4E3"
             },
             "line": {
              "color": "white"
             }
            },
            "type": "table"
           }
          ]
         },
         "layout": {
          "annotationdefaults": {
           "arrowcolor": "#2a3f5f",
           "arrowhead": 0,
           "arrowwidth": 1
          },
          "autotypenumbers": "strict",
          "coloraxis": {
           "colorbar": {
            "outlinewidth": 0,
            "ticks": ""
           }
          },
          "colorscale": {
           "diverging": [
            [
             0,
             "#8e0152"
            ],
            [
             0.1,
             "#c51b7d"
            ],
            [
             0.2,
             "#de77ae"
            ],
            [
             0.3,
             "#f1b6da"
            ],
            [
             0.4,
             "#fde0ef"
            ],
            [
             0.5,
             "#f7f7f7"
            ],
            [
             0.6,
             "#e6f5d0"
            ],
            [
             0.7,
             "#b8e186"
            ],
            [
             0.8,
             "#7fbc41"
            ],
            [
             0.9,
             "#4d9221"
            ],
            [
             1,
             "#276419"
            ]
           ],
           "sequential": [
            [
             0,
             "#0d0887"
            ],
            [
             0.1111111111111111,
             "#46039f"
            ],
            [
             0.2222222222222222,
             "#7201a8"
            ],
            [
             0.3333333333333333,
             "#9c179e"
            ],
            [
             0.4444444444444444,
             "#bd3786"
            ],
            [
             0.5555555555555556,
             "#d8576b"
            ],
            [
             0.6666666666666666,
             "#ed7953"
            ],
            [
             0.7777777777777778,
             "#fb9f3a"
            ],
            [
             0.8888888888888888,
             "#fdca26"
            ],
            [
             1,
             "#f0f921"
            ]
           ],
           "sequentialminus": [
            [
             0,
             "#0d0887"
            ],
            [
             0.1111111111111111,
             "#46039f"
            ],
            [
             0.2222222222222222,
             "#7201a8"
            ],
            [
             0.3333333333333333,
             "#9c179e"
            ],
            [
             0.4444444444444444,
             "#bd3786"
            ],
            [
             0.5555555555555556,
             "#d8576b"
            ],
            [
             0.6666666666666666,
             "#ed7953"
            ],
            [
             0.7777777777777778,
             "#fb9f3a"
            ],
            [
             0.8888888888888888,
             "#fdca26"
            ],
            [
             1,
             "#f0f921"
            ]
           ]
          },
          "colorway": [
           "#636efa",
           "#EF553B",
           "#00cc96",
           "#ab63fa",
           "#FFA15A",
           "#19d3f3",
           "#FF6692",
           "#B6E880",
           "#FF97FF",
           "#FECB52"
          ],
          "font": {
           "color": "#2a3f5f"
          },
          "geo": {
           "bgcolor": "white",
           "lakecolor": "white",
           "landcolor": "#E5ECF6",
           "showlakes": true,
           "showland": true,
           "subunitcolor": "white"
          },
          "hoverlabel": {
           "align": "left"
          },
          "hovermode": "closest",
          "mapbox": {
           "style": "light"
          },
          "paper_bgcolor": "white",
          "plot_bgcolor": "#E5ECF6",
          "polar": {
           "angularaxis": {
            "gridcolor": "white",
            "linecolor": "white",
            "ticks": ""
           },
           "bgcolor": "#E5ECF6",
           "radialaxis": {
            "gridcolor": "white",
            "linecolor": "white",
            "ticks": ""
           }
          },
          "scene": {
           "xaxis": {
            "backgroundcolor": "#E5ECF6",
            "gridcolor": "white",
            "gridwidth": 2,
            "linecolor": "white",
            "showbackground": true,
            "ticks": "",
            "zerolinecolor": "white"
           },
           "yaxis": {
            "backgroundcolor": "#E5ECF6",
            "gridcolor": "white",
            "gridwidth": 2,
            "linecolor": "white",
            "showbackground": true,
            "ticks": "",
            "zerolinecolor": "white"
           },
           "zaxis": {
            "backgroundcolor": "#E5ECF6",
            "gridcolor": "white",
            "gridwidth": 2,
            "linecolor": "white",
            "showbackground": true,
            "ticks": "",
            "zerolinecolor": "white"
           }
          },
          "shapedefaults": {
           "line": {
            "color": "#2a3f5f"
           }
          },
          "ternary": {
           "aaxis": {
            "gridcolor": "white",
            "linecolor": "white",
            "ticks": ""
           },
           "baxis": {
            "gridcolor": "white",
            "linecolor": "white",
            "ticks": ""
           },
           "bgcolor": "#E5ECF6",
           "caxis": {
            "gridcolor": "white",
            "linecolor": "white",
            "ticks": ""
           }
          },
          "title": {
           "x": 0.05
          },
          "xaxis": {
           "automargin": true,
           "gridcolor": "white",
           "linecolor": "white",
           "ticks": "",
           "title": {
            "standoff": 15
           },
           "zerolinecolor": "white",
           "zerolinewidth": 2
          },
          "yaxis": {
           "automargin": true,
           "gridcolor": "white",
           "linecolor": "white",
           "ticks": "",
           "title": {
            "standoff": 15
           },
           "zerolinecolor": "white",
           "zerolinewidth": 2
          }
         }
        },
        "title": {
         "text": "Average RMS amplitude across participants"
        },
        "xaxis": {
         "anchor": "y",
         "domain": [
          0,
          1
         ],
         "title": {
          "text": "Run"
         }
        },
        "yaxis": {
         "anchor": "x",
         "domain": [
          0,
          1
         ],
         "title": {
          "text": "RMS (µV_rms)"
         }
        }
       }
      }
     },
     "metadata": {},
     "output_type": "display_data"
    },
    {
     "data": {
      "text/html": [
       "<div>\n",
       "<style scoped>\n",
       "    .dataframe tbody tr th:only-of-type {\n",
       "        vertical-align: middle;\n",
       "    }\n",
       "\n",
       "    .dataframe tbody tr th {\n",
       "        vertical-align: top;\n",
       "    }\n",
       "\n",
       "    .dataframe thead th {\n",
       "        text-align: right;\n",
       "    }\n",
       "</style>\n",
       "<table border=\"1\" class=\"dataframe\">\n",
       "  <thead>\n",
       "    <tr style=\"text-align: right;\">\n",
       "      <th></th>\n",
       "      <th>run_i</th>\n",
       "      <th>mean</th>\n",
       "      <th>std</th>\n",
       "      <th>n</th>\n",
       "      <th>sem</th>\n",
       "      <th>Run</th>\n",
       "    </tr>\n",
       "  </thead>\n",
       "  <tbody>\n",
       "    <tr>\n",
       "      <th>0</th>\n",
       "      <td>1</td>\n",
       "      <td>10.232708</td>\n",
       "      <td>7.643140</td>\n",
       "      <td>20</td>\n",
       "      <td>1.709058</td>\n",
       "      <td>rec1</td>\n",
       "    </tr>\n",
       "    <tr>\n",
       "      <th>1</th>\n",
       "      <td>2</td>\n",
       "      <td>15.050977</td>\n",
       "      <td>18.715031</td>\n",
       "      <td>21</td>\n",
       "      <td>4.083955</td>\n",
       "      <td>rec2</td>\n",
       "    </tr>\n",
       "    <tr>\n",
       "      <th>2</th>\n",
       "      <td>3</td>\n",
       "      <td>12.650261</td>\n",
       "      <td>16.676919</td>\n",
       "      <td>21</td>\n",
       "      <td>3.639202</td>\n",
       "      <td>rec3</td>\n",
       "    </tr>\n",
       "  </tbody>\n",
       "</table>\n",
       "</div>"
      ],
      "text/plain": [
       "   run_i       mean        std   n       sem   Run\n",
       "0      1  10.232708   7.643140  20  1.709058  rec1\n",
       "1      2  15.050977  18.715031  21  4.083955  rec2\n",
       "2      3  12.650261  16.676919  21  3.639202  rec3"
      ]
     },
     "execution_count": 37,
     "metadata": {},
     "output_type": "execute_result"
    }
   ],
   "source": [
    "\n",
    "sel = sessions.copy()\n",
    "sel['run_i'] = sel['Run'].apply(parse_run_to_int)\n",
    "sel = sel[sel['run_i'].isin([1,2,3])]\n",
    "\n",
    "rows = []\n",
    "for _, r in sel.iterrows():\n",
    "    try:\n",
    "        agg = rms_aggregate_for_row(r)\n",
    "    except Exception as e:\n",
    "        agg = np.nan\n",
    "        print(f\"RMS failed for {r.get('ID','?')} {r.get('Run','?')}: {e}\")\n",
    "    rows.append({'ID': r.get('ID', None), 'Run': r['Run'], 'run_i': r['run_i'], 'Config': r.get('Config', None),\n",
    "                 'RMS_uVrms': agg})\n",
    "\n",
    "df_all = pd.DataFrame(rows).dropna(subset=['RMS_uVrms']).copy()\n",
    "df_all.to_csv(\"rms_by_session.csv\", index=False)\n",
    "\n",
    "# Compute mean and SEM per recording index\n",
    "summary = (df_all.groupby('run_i')\n",
    "           .agg(mean=('RMS_uVrms','mean'), std=('RMS_uVrms','std'), n=('RMS_uVrms','count'))\n",
    "           .reset_index())\n",
    "summary['sem'] = summary['std'] / np.sqrt(summary['n'])\n",
    "summary['Run'] = summary['run_i'].map({1:'rec1', 2:'rec2', 3:'rec3'})\n",
    "\n",
    "fig2 = px.bar(summary, x='Run', y='mean', error_y='sem',\n",
    "              title=\"Average RMS amplitude across participants\",\n",
    "              labels={'mean': 'RMS (µV_rms)'})\n",
    "fig2.show()\n",
    "\n",
    "summary\n"
   ]
  },
  {
   "cell_type": "code",
   "execution_count": 40,
   "metadata": {},
   "outputs": [
    {
     "data": {
      "application/vnd.plotly.v1+json": {
       "config": {
        "plotlyServerURL": "https://plot.ly"
       },
       "data": [
        {
         "cliponaxis": false,
         "error_y": {
          "array": {
           "bdata": "hPMGaZCfIUDlceAV8hAVQA==",
           "dtype": "f8"
          }
         },
         "hovertemplate": "Setup=%{x}<br>Average RMS (µVrms)=%{y}<br>Text=%{text}<extra></extra>",
         "legendgroup": "",
         "marker": {
          "color": "#636efa",
          "pattern": {
           "shape": ""
          }
         },
         "name": "",
         "orientation": "v",
         "showlegend": false,
         "text": [
          "11.83 ± 8.81",
          "9.32 ± 5.27"
         ],
         "textposition": "outside",
         "type": "bar",
         "x": [
          "Dry (Ear+Top)",
          "Wet (Ear Only)"
         ],
         "xaxis": "x",
         "y": {
          "bdata": "vXv4P1SnJ0Bx/uIMyqMiQA==",
          "dtype": "f8"
         },
         "yaxis": "y"
        }
       ],
       "layout": {
        "barmode": "relative",
        "legend": {
         "tracegroupgap": 0
        },
        "template": {
         "data": {
          "bar": [
           {
            "error_x": {
             "color": "#2a3f5f"
            },
            "error_y": {
             "color": "#2a3f5f"
            },
            "marker": {
             "line": {
              "color": "#E5ECF6",
              "width": 0.5
             },
             "pattern": {
              "fillmode": "overlay",
              "size": 10,
              "solidity": 0.2
             }
            },
            "type": "bar"
           }
          ],
          "barpolar": [
           {
            "marker": {
             "line": {
              "color": "#E5ECF6",
              "width": 0.5
             },
             "pattern": {
              "fillmode": "overlay",
              "size": 10,
              "solidity": 0.2
             }
            },
            "type": "barpolar"
           }
          ],
          "carpet": [
           {
            "aaxis": {
             "endlinecolor": "#2a3f5f",
             "gridcolor": "white",
             "linecolor": "white",
             "minorgridcolor": "white",
             "startlinecolor": "#2a3f5f"
            },
            "baxis": {
             "endlinecolor": "#2a3f5f",
             "gridcolor": "white",
             "linecolor": "white",
             "minorgridcolor": "white",
             "startlinecolor": "#2a3f5f"
            },
            "type": "carpet"
           }
          ],
          "choropleth": [
           {
            "colorbar": {
             "outlinewidth": 0,
             "ticks": ""
            },
            "type": "choropleth"
           }
          ],
          "contour": [
           {
            "colorbar": {
             "outlinewidth": 0,
             "ticks": ""
            },
            "colorscale": [
             [
              0,
              "#0d0887"
             ],
             [
              0.1111111111111111,
              "#46039f"
             ],
             [
              0.2222222222222222,
              "#7201a8"
             ],
             [
              0.3333333333333333,
              "#9c179e"
             ],
             [
              0.4444444444444444,
              "#bd3786"
             ],
             [
              0.5555555555555556,
              "#d8576b"
             ],
             [
              0.6666666666666666,
              "#ed7953"
             ],
             [
              0.7777777777777778,
              "#fb9f3a"
             ],
             [
              0.8888888888888888,
              "#fdca26"
             ],
             [
              1,
              "#f0f921"
             ]
            ],
            "type": "contour"
           }
          ],
          "contourcarpet": [
           {
            "colorbar": {
             "outlinewidth": 0,
             "ticks": ""
            },
            "type": "contourcarpet"
           }
          ],
          "heatmap": [
           {
            "colorbar": {
             "outlinewidth": 0,
             "ticks": ""
            },
            "colorscale": [
             [
              0,
              "#0d0887"
             ],
             [
              0.1111111111111111,
              "#46039f"
             ],
             [
              0.2222222222222222,
              "#7201a8"
             ],
             [
              0.3333333333333333,
              "#9c179e"
             ],
             [
              0.4444444444444444,
              "#bd3786"
             ],
             [
              0.5555555555555556,
              "#d8576b"
             ],
             [
              0.6666666666666666,
              "#ed7953"
             ],
             [
              0.7777777777777778,
              "#fb9f3a"
             ],
             [
              0.8888888888888888,
              "#fdca26"
             ],
             [
              1,
              "#f0f921"
             ]
            ],
            "type": "heatmap"
           }
          ],
          "histogram": [
           {
            "marker": {
             "pattern": {
              "fillmode": "overlay",
              "size": 10,
              "solidity": 0.2
             }
            },
            "type": "histogram"
           }
          ],
          "histogram2d": [
           {
            "colorbar": {
             "outlinewidth": 0,
             "ticks": ""
            },
            "colorscale": [
             [
              0,
              "#0d0887"
             ],
             [
              0.1111111111111111,
              "#46039f"
             ],
             [
              0.2222222222222222,
              "#7201a8"
             ],
             [
              0.3333333333333333,
              "#9c179e"
             ],
             [
              0.4444444444444444,
              "#bd3786"
             ],
             [
              0.5555555555555556,
              "#d8576b"
             ],
             [
              0.6666666666666666,
              "#ed7953"
             ],
             [
              0.7777777777777778,
              "#fb9f3a"
             ],
             [
              0.8888888888888888,
              "#fdca26"
             ],
             [
              1,
              "#f0f921"
             ]
            ],
            "type": "histogram2d"
           }
          ],
          "histogram2dcontour": [
           {
            "colorbar": {
             "outlinewidth": 0,
             "ticks": ""
            },
            "colorscale": [
             [
              0,
              "#0d0887"
             ],
             [
              0.1111111111111111,
              "#46039f"
             ],
             [
              0.2222222222222222,
              "#7201a8"
             ],
             [
              0.3333333333333333,
              "#9c179e"
             ],
             [
              0.4444444444444444,
              "#bd3786"
             ],
             [
              0.5555555555555556,
              "#d8576b"
             ],
             [
              0.6666666666666666,
              "#ed7953"
             ],
             [
              0.7777777777777778,
              "#fb9f3a"
             ],
             [
              0.8888888888888888,
              "#fdca26"
             ],
             [
              1,
              "#f0f921"
             ]
            ],
            "type": "histogram2dcontour"
           }
          ],
          "mesh3d": [
           {
            "colorbar": {
             "outlinewidth": 0,
             "ticks": ""
            },
            "type": "mesh3d"
           }
          ],
          "parcoords": [
           {
            "line": {
             "colorbar": {
              "outlinewidth": 0,
              "ticks": ""
             }
            },
            "type": "parcoords"
           }
          ],
          "pie": [
           {
            "automargin": true,
            "type": "pie"
           }
          ],
          "scatter": [
           {
            "fillpattern": {
             "fillmode": "overlay",
             "size": 10,
             "solidity": 0.2
            },
            "type": "scatter"
           }
          ],
          "scatter3d": [
           {
            "line": {
             "colorbar": {
              "outlinewidth": 0,
              "ticks": ""
             }
            },
            "marker": {
             "colorbar": {
              "outlinewidth": 0,
              "ticks": ""
             }
            },
            "type": "scatter3d"
           }
          ],
          "scattercarpet": [
           {
            "marker": {
             "colorbar": {
              "outlinewidth": 0,
              "ticks": ""
             }
            },
            "type": "scattercarpet"
           }
          ],
          "scattergeo": [
           {
            "marker": {
             "colorbar": {
              "outlinewidth": 0,
              "ticks": ""
             }
            },
            "type": "scattergeo"
           }
          ],
          "scattergl": [
           {
            "marker": {
             "colorbar": {
              "outlinewidth": 0,
              "ticks": ""
             }
            },
            "type": "scattergl"
           }
          ],
          "scattermap": [
           {
            "marker": {
             "colorbar": {
              "outlinewidth": 0,
              "ticks": ""
             }
            },
            "type": "scattermap"
           }
          ],
          "scattermapbox": [
           {
            "marker": {
             "colorbar": {
              "outlinewidth": 0,
              "ticks": ""
             }
            },
            "type": "scattermapbox"
           }
          ],
          "scatterpolar": [
           {
            "marker": {
             "colorbar": {
              "outlinewidth": 0,
              "ticks": ""
             }
            },
            "type": "scatterpolar"
           }
          ],
          "scatterpolargl": [
           {
            "marker": {
             "colorbar": {
              "outlinewidth": 0,
              "ticks": ""
             }
            },
            "type": "scatterpolargl"
           }
          ],
          "scatterternary": [
           {
            "marker": {
             "colorbar": {
              "outlinewidth": 0,
              "ticks": ""
             }
            },
            "type": "scatterternary"
           }
          ],
          "surface": [
           {
            "colorbar": {
             "outlinewidth": 0,
             "ticks": ""
            },
            "colorscale": [
             [
              0,
              "#0d0887"
             ],
             [
              0.1111111111111111,
              "#46039f"
             ],
             [
              0.2222222222222222,
              "#7201a8"
             ],
             [
              0.3333333333333333,
              "#9c179e"
             ],
             [
              0.4444444444444444,
              "#bd3786"
             ],
             [
              0.5555555555555556,
              "#d8576b"
             ],
             [
              0.6666666666666666,
              "#ed7953"
             ],
             [
              0.7777777777777778,
              "#fb9f3a"
             ],
             [
              0.8888888888888888,
              "#fdca26"
             ],
             [
              1,
              "#f0f921"
             ]
            ],
            "type": "surface"
           }
          ],
          "table": [
           {
            "cells": {
             "fill": {
              "color": "#EBF0F8"
             },
             "line": {
              "color": "white"
             }
            },
            "header": {
             "fill": {
              "color": "#C8D4E3"
             },
             "line": {
              "color": "white"
             }
            },
            "type": "table"
           }
          ]
         },
         "layout": {
          "annotationdefaults": {
           "arrowcolor": "#2a3f5f",
           "arrowhead": 0,
           "arrowwidth": 1
          },
          "autotypenumbers": "strict",
          "coloraxis": {
           "colorbar": {
            "outlinewidth": 0,
            "ticks": ""
           }
          },
          "colorscale": {
           "diverging": [
            [
             0,
             "#8e0152"
            ],
            [
             0.1,
             "#c51b7d"
            ],
            [
             0.2,
             "#de77ae"
            ],
            [
             0.3,
             "#f1b6da"
            ],
            [
             0.4,
             "#fde0ef"
            ],
            [
             0.5,
             "#f7f7f7"
            ],
            [
             0.6,
             "#e6f5d0"
            ],
            [
             0.7,
             "#b8e186"
            ],
            [
             0.8,
             "#7fbc41"
            ],
            [
             0.9,
             "#4d9221"
            ],
            [
             1,
             "#276419"
            ]
           ],
           "sequential": [
            [
             0,
             "#0d0887"
            ],
            [
             0.1111111111111111,
             "#46039f"
            ],
            [
             0.2222222222222222,
             "#7201a8"
            ],
            [
             0.3333333333333333,
             "#9c179e"
            ],
            [
             0.4444444444444444,
             "#bd3786"
            ],
            [
             0.5555555555555556,
             "#d8576b"
            ],
            [
             0.6666666666666666,
             "#ed7953"
            ],
            [
             0.7777777777777778,
             "#fb9f3a"
            ],
            [
             0.8888888888888888,
             "#fdca26"
            ],
            [
             1,
             "#f0f921"
            ]
           ],
           "sequentialminus": [
            [
             0,
             "#0d0887"
            ],
            [
             0.1111111111111111,
             "#46039f"
            ],
            [
             0.2222222222222222,
             "#7201a8"
            ],
            [
             0.3333333333333333,
             "#9c179e"
            ],
            [
             0.4444444444444444,
             "#bd3786"
            ],
            [
             0.5555555555555556,
             "#d8576b"
            ],
            [
             0.6666666666666666,
             "#ed7953"
            ],
            [
             0.7777777777777778,
             "#fb9f3a"
            ],
            [
             0.8888888888888888,
             "#fdca26"
            ],
            [
             1,
             "#f0f921"
            ]
           ]
          },
          "colorway": [
           "#636efa",
           "#EF553B",
           "#00cc96",
           "#ab63fa",
           "#FFA15A",
           "#19d3f3",
           "#FF6692",
           "#B6E880",
           "#FF97FF",
           "#FECB52"
          ],
          "font": {
           "color": "#2a3f5f"
          },
          "geo": {
           "bgcolor": "white",
           "lakecolor": "white",
           "landcolor": "#E5ECF6",
           "showlakes": true,
           "showland": true,
           "subunitcolor": "white"
          },
          "hoverlabel": {
           "align": "left"
          },
          "hovermode": "closest",
          "mapbox": {
           "style": "light"
          },
          "paper_bgcolor": "white",
          "plot_bgcolor": "#E5ECF6",
          "polar": {
           "angularaxis": {
            "gridcolor": "white",
            "linecolor": "white",
            "ticks": ""
           },
           "bgcolor": "#E5ECF6",
           "radialaxis": {
            "gridcolor": "white",
            "linecolor": "white",
            "ticks": ""
           }
          },
          "scene": {
           "xaxis": {
            "backgroundcolor": "#E5ECF6",
            "gridcolor": "white",
            "gridwidth": 2,
            "linecolor": "white",
            "showbackground": true,
            "ticks": "",
            "zerolinecolor": "white"
           },
           "yaxis": {
            "backgroundcolor": "#E5ECF6",
            "gridcolor": "white",
            "gridwidth": 2,
            "linecolor": "white",
            "showbackground": true,
            "ticks": "",
            "zerolinecolor": "white"
           },
           "zaxis": {
            "backgroundcolor": "#E5ECF6",
            "gridcolor": "white",
            "gridwidth": 2,
            "linecolor": "white",
            "showbackground": true,
            "ticks": "",
            "zerolinecolor": "white"
           }
          },
          "shapedefaults": {
           "line": {
            "color": "#2a3f5f"
           }
          },
          "ternary": {
           "aaxis": {
            "gridcolor": "white",
            "linecolor": "white",
            "ticks": ""
           },
           "baxis": {
            "gridcolor": "white",
            "linecolor": "white",
            "ticks": ""
           },
           "bgcolor": "#E5ECF6",
           "caxis": {
            "gridcolor": "white",
            "linecolor": "white",
            "ticks": ""
           }
          },
          "title": {
           "x": 0.05
          },
          "xaxis": {
           "automargin": true,
           "gridcolor": "white",
           "linecolor": "white",
           "ticks": "",
           "title": {
            "standoff": 15
           },
           "zerolinecolor": "white",
           "zerolinewidth": 2
          },
          "yaxis": {
           "automargin": true,
           "gridcolor": "white",
           "linecolor": "white",
           "ticks": "",
           "title": {
            "standoff": 15
           },
           "zerolinecolor": "white",
           "zerolinewidth": 2
          }
         }
        },
        "title": {
         "text": "Average RMS in rec1: Dry (Ear+Top) vs Wet (Ear Only)"
        },
        "xaxis": {
         "anchor": "y",
         "domain": [
          0,
          1
         ],
         "title": {
          "text": "Setup"
         }
        },
        "yaxis": {
         "anchor": "x",
         "domain": [
          0,
          1
         ],
         "showgrid": true,
         "title": {
          "text": "Average RMS (µVrms)"
         }
        }
       }
      }
     },
     "metadata": {},
     "output_type": "display_data"
    }
   ],
   "source": [
    "try:\n",
    "    rms = pd.read_csv('/Users/Sam/UNAM/neuro_headphone_study/Code/rms_by_session.csv')\n",
    "    rec1 = rms[rms['Run'].astype(str).str.lower() == 'rec1'][['Config', 'RMS_uVrms']].copy()\n",
    "except Exception:\n",
    "    rec1 = pd.DataFrame({'Config': [], 'RMS_uVrms': []})\n",
    "\n",
    "# Aggregate: mean and SD of RMS for each configuration (Dry: Top+Ears, Wet: Ear Only)\n",
    "agg = rec1.groupby('Config')['RMS_uVrms'].agg(mean='mean', std='std', var='var', n='count').reset_index()\n",
    "label_map = {'Top+Ears': 'Dry (Ear+Top)', 'Ear Only': 'Wet (Ear Only)'}\n",
    "agg['Setup'] = agg['Config'].map(label_map)\n",
    "agg = agg[['Setup', 'mean', 'std', 'var', 'n']].dropna().copy()\n",
    "agg['Setup'] = pd.Categorical(agg['Setup'], categories=['Dry (Ear+Top)', 'Wet (Ear Only)'], ordered=True)\n",
    "agg['Text'] = agg.apply(lambda r: f\"{r['mean']:.2f} ± {r['std']:.2f}\", axis=1)\n",
    "\n",
    "# Plot side-by-side bar chart with error bars (±1 SD)\n",
    "fig = px.bar(\n",
    "    agg.sort_values('Setup'),\n",
    "    x='Setup',\n",
    "    y='mean',\n",
    "    error_y='std',\n",
    "    text='Text',\n",
    "    labels={'mean': 'Average RMS (µVrms)'},\n",
    "    title='Average RMS in rec1: Dry (Ear+Top) vs Wet (Ear Only)'\n",
    ")\n",
    "fig.update_traces(textposition='outside', cliponaxis=False)\n",
    "fig.update_layout(yaxis=dict(showgrid=True))\n",
    "fig.show()\n"
   ]
  },
  {
   "cell_type": "code",
   "execution_count": null,
   "metadata": {},
   "outputs": [],
   "source": []
  },
  {
   "cell_type": "code",
   "execution_count": null,
   "metadata": {},
   "outputs": [
    {
     "data": {
      "application/vnd.plotly.v1+json": {
       "config": {
        "plotlyServerURL": "https://plot.ly"
       },
       "data": [
        {
         "alignmentgroup": "True",
         "cliponaxis": false,
         "error_y": {
          "array": {
           "bdata": "hPMGaZCfIUBGP2rMgpQwQAQK+o62FiVA",
           "dtype": "f8"
          }
         },
         "hovertemplate": "Setup=Dry (Ear+Top)<br>Run=%{x}<br>Average RMS (µVrms)=%{y}<br>Text=%{text}<extra></extra>",
         "legendgroup": "Dry (Ear+Top)",
         "marker": {
          "color": "#636efa",
          "pattern": {
           "shape": ""
          }
         },
         "name": "Dry (Ear+Top)",
         "offsetgroup": "Dry (Ear+Top)",
         "orientation": "v",
         "showlegend": true,
         "text": [
          "11.83 ± 8.81",
          "14.82 ± 16.58",
          "10.87 ± 10.54"
         ],
         "textposition": "outside",
         "type": "bar",
         "x": [
          "rec1",
          "rec2",
          "rec3"
         ],
         "xaxis": "x",
         "y": {
          "bdata": "vXv4P1SnJ0A9V39dkaMtQMccS1vuvCVA",
          "dtype": "f8"
         },
         "yaxis": "y"
        },
        {
         "alignmentgroup": "True",
         "cliponaxis": false,
         "error_y": {
          "array": {
           "bdata": "5XHgFfIQFUC/0AWr0UoNQNM+2k9Y0QdA",
           "dtype": "f8"
          }
         },
         "hovertemplate": "Setup=Wet (Ear Only)<br>Run=%{x}<br>Average RMS (µVrms)=%{y}<br>Text=%{text}<extra></extra>",
         "legendgroup": "Wet (Ear Only)",
         "marker": {
          "color": "#EF553B",
          "pattern": {
           "shape": ""
          }
         },
         "name": "Wet (Ear Only)",
         "offsetgroup": "Wet (Ear Only)",
         "orientation": "v",
         "showlegend": true,
         "text": [
          "9.32 ± 5.27",
          "8.01 ± 3.66",
          "7.40 ± 2.98"
         ],
         "textposition": "outside",
         "type": "bar",
         "x": [
          "rec1",
          "rec2",
          "rec3"
         ],
         "xaxis": "x",
         "y": {
          "bdata": "cf7iDMqjIkCswtM5ywYgQKRFKxKslx1A",
          "dtype": "f8"
         },
         "yaxis": "y"
        }
       ],
       "layout": {
        "barmode": "group",
        "legend": {
         "title": {
          "text": "Setup"
         },
         "tracegroupgap": 0
        },
        "template": {
         "data": {
          "bar": [
           {
            "error_x": {
             "color": "#2a3f5f"
            },
            "error_y": {
             "color": "#2a3f5f"
            },
            "marker": {
             "line": {
              "color": "#E5ECF6",
              "width": 0.5
             },
             "pattern": {
              "fillmode": "overlay",
              "size": 10,
              "solidity": 0.2
             }
            },
            "type": "bar"
           }
          ],
          "barpolar": [
           {
            "marker": {
             "line": {
              "color": "#E5ECF6",
              "width": 0.5
             },
             "pattern": {
              "fillmode": "overlay",
              "size": 10,
              "solidity": 0.2
             }
            },
            "type": "barpolar"
           }
          ],
          "carpet": [
           {
            "aaxis": {
             "endlinecolor": "#2a3f5f",
             "gridcolor": "white",
             "linecolor": "white",
             "minorgridcolor": "white",
             "startlinecolor": "#2a3f5f"
            },
            "baxis": {
             "endlinecolor": "#2a3f5f",
             "gridcolor": "white",
             "linecolor": "white",
             "minorgridcolor": "white",
             "startlinecolor": "#2a3f5f"
            },
            "type": "carpet"
           }
          ],
          "choropleth": [
           {
            "colorbar": {
             "outlinewidth": 0,
             "ticks": ""
            },
            "type": "choropleth"
           }
          ],
          "contour": [
           {
            "colorbar": {
             "outlinewidth": 0,
             "ticks": ""
            },
            "colorscale": [
             [
              0,
              "#0d0887"
             ],
             [
              0.1111111111111111,
              "#46039f"
             ],
             [
              0.2222222222222222,
              "#7201a8"
             ],
             [
              0.3333333333333333,
              "#9c179e"
             ],
             [
              0.4444444444444444,
              "#bd3786"
             ],
             [
              0.5555555555555556,
              "#d8576b"
             ],
             [
              0.6666666666666666,
              "#ed7953"
             ],
             [
              0.7777777777777778,
              "#fb9f3a"
             ],
             [
              0.8888888888888888,
              "#fdca26"
             ],
             [
              1,
              "#f0f921"
             ]
            ],
            "type": "contour"
           }
          ],
          "contourcarpet": [
           {
            "colorbar": {
             "outlinewidth": 0,
             "ticks": ""
            },
            "type": "contourcarpet"
           }
          ],
          "heatmap": [
           {
            "colorbar": {
             "outlinewidth": 0,
             "ticks": ""
            },
            "colorscale": [
             [
              0,
              "#0d0887"
             ],
             [
              0.1111111111111111,
              "#46039f"
             ],
             [
              0.2222222222222222,
              "#7201a8"
             ],
             [
              0.3333333333333333,
              "#9c179e"
             ],
             [
              0.4444444444444444,
              "#bd3786"
             ],
             [
              0.5555555555555556,
              "#d8576b"
             ],
             [
              0.6666666666666666,
              "#ed7953"
             ],
             [
              0.7777777777777778,
              "#fb9f3a"
             ],
             [
              0.8888888888888888,
              "#fdca26"
             ],
             [
              1,
              "#f0f921"
             ]
            ],
            "type": "heatmap"
           }
          ],
          "histogram": [
           {
            "marker": {
             "pattern": {
              "fillmode": "overlay",
              "size": 10,
              "solidity": 0.2
             }
            },
            "type": "histogram"
           }
          ],
          "histogram2d": [
           {
            "colorbar": {
             "outlinewidth": 0,
             "ticks": ""
            },
            "colorscale": [
             [
              0,
              "#0d0887"
             ],
             [
              0.1111111111111111,
              "#46039f"
             ],
             [
              0.2222222222222222,
              "#7201a8"
             ],
             [
              0.3333333333333333,
              "#9c179e"
             ],
             [
              0.4444444444444444,
              "#bd3786"
             ],
             [
              0.5555555555555556,
              "#d8576b"
             ],
             [
              0.6666666666666666,
              "#ed7953"
             ],
             [
              0.7777777777777778,
              "#fb9f3a"
             ],
             [
              0.8888888888888888,
              "#fdca26"
             ],
             [
              1,
              "#f0f921"
             ]
            ],
            "type": "histogram2d"
           }
          ],
          "histogram2dcontour": [
           {
            "colorbar": {
             "outlinewidth": 0,
             "ticks": ""
            },
            "colorscale": [
             [
              0,
              "#0d0887"
             ],
             [
              0.1111111111111111,
              "#46039f"
             ],
             [
              0.2222222222222222,
              "#7201a8"
             ],
             [
              0.3333333333333333,
              "#9c179e"
             ],
             [
              0.4444444444444444,
              "#bd3786"
             ],
             [
              0.5555555555555556,
              "#d8576b"
             ],
             [
              0.6666666666666666,
              "#ed7953"
             ],
             [
              0.7777777777777778,
              "#fb9f3a"
             ],
             [
              0.8888888888888888,
              "#fdca26"
             ],
             [
              1,
              "#f0f921"
             ]
            ],
            "type": "histogram2dcontour"
           }
          ],
          "mesh3d": [
           {
            "colorbar": {
             "outlinewidth": 0,
             "ticks": ""
            },
            "type": "mesh3d"
           }
          ],
          "parcoords": [
           {
            "line": {
             "colorbar": {
              "outlinewidth": 0,
              "ticks": ""
             }
            },
            "type": "parcoords"
           }
          ],
          "pie": [
           {
            "automargin": true,
            "type": "pie"
           }
          ],
          "scatter": [
           {
            "fillpattern": {
             "fillmode": "overlay",
             "size": 10,
             "solidity": 0.2
            },
            "type": "scatter"
           }
          ],
          "scatter3d": [
           {
            "line": {
             "colorbar": {
              "outlinewidth": 0,
              "ticks": ""
             }
            },
            "marker": {
             "colorbar": {
              "outlinewidth": 0,
              "ticks": ""
             }
            },
            "type": "scatter3d"
           }
          ],
          "scattercarpet": [
           {
            "marker": {
             "colorbar": {
              "outlinewidth": 0,
              "ticks": ""
             }
            },
            "type": "scattercarpet"
           }
          ],
          "scattergeo": [
           {
            "marker": {
             "colorbar": {
              "outlinewidth": 0,
              "ticks": ""
             }
            },
            "type": "scattergeo"
           }
          ],
          "scattergl": [
           {
            "marker": {
             "colorbar": {
              "outlinewidth": 0,
              "ticks": ""
             }
            },
            "type": "scattergl"
           }
          ],
          "scattermap": [
           {
            "marker": {
             "colorbar": {
              "outlinewidth": 0,
              "ticks": ""
             }
            },
            "type": "scattermap"
           }
          ],
          "scattermapbox": [
           {
            "marker": {
             "colorbar": {
              "outlinewidth": 0,
              "ticks": ""
             }
            },
            "type": "scattermapbox"
           }
          ],
          "scatterpolar": [
           {
            "marker": {
             "colorbar": {
              "outlinewidth": 0,
              "ticks": ""
             }
            },
            "type": "scatterpolar"
           }
          ],
          "scatterpolargl": [
           {
            "marker": {
             "colorbar": {
              "outlinewidth": 0,
              "ticks": ""
             }
            },
            "type": "scatterpolargl"
           }
          ],
          "scatterternary": [
           {
            "marker": {
             "colorbar": {
              "outlinewidth": 0,
              "ticks": ""
             }
            },
            "type": "scatterternary"
           }
          ],
          "surface": [
           {
            "colorbar": {
             "outlinewidth": 0,
             "ticks": ""
            },
            "colorscale": [
             [
              0,
              "#0d0887"
             ],
             [
              0.1111111111111111,
              "#46039f"
             ],
             [
              0.2222222222222222,
              "#7201a8"
             ],
             [
              0.3333333333333333,
              "#9c179e"
             ],
             [
              0.4444444444444444,
              "#bd3786"
             ],
             [
              0.5555555555555556,
              "#d8576b"
             ],
             [
              0.6666666666666666,
              "#ed7953"
             ],
             [
              0.7777777777777778,
              "#fb9f3a"
             ],
             [
              0.8888888888888888,
              "#fdca26"
             ],
             [
              1,
              "#f0f921"
             ]
            ],
            "type": "surface"
           }
          ],
          "table": [
           {
            "cells": {
             "fill": {
              "color": "#EBF0F8"
             },
             "line": {
              "color": "white"
             }
            },
            "header": {
             "fill": {
              "color": "#C8D4E3"
             },
             "line": {
              "color": "white"
             }
            },
            "type": "table"
           }
          ]
         },
         "layout": {
          "annotationdefaults": {
           "arrowcolor": "#2a3f5f",
           "arrowhead": 0,
           "arrowwidth": 1
          },
          "autotypenumbers": "strict",
          "coloraxis": {
           "colorbar": {
            "outlinewidth": 0,
            "ticks": ""
           }
          },
          "colorscale": {
           "diverging": [
            [
             0,
             "#8e0152"
            ],
            [
             0.1,
             "#c51b7d"
            ],
            [
             0.2,
             "#de77ae"
            ],
            [
             0.3,
             "#f1b6da"
            ],
            [
             0.4,
             "#fde0ef"
            ],
            [
             0.5,
             "#f7f7f7"
            ],
            [
             0.6,
             "#e6f5d0"
            ],
            [
             0.7,
             "#b8e186"
            ],
            [
             0.8,
             "#7fbc41"
            ],
            [
             0.9,
             "#4d9221"
            ],
            [
             1,
             "#276419"
            ]
           ],
           "sequential": [
            [
             0,
             "#0d0887"
            ],
            [
             0.1111111111111111,
             "#46039f"
            ],
            [
             0.2222222222222222,
             "#7201a8"
            ],
            [
             0.3333333333333333,
             "#9c179e"
            ],
            [
             0.4444444444444444,
             "#bd3786"
            ],
            [
             0.5555555555555556,
             "#d8576b"
            ],
            [
             0.6666666666666666,
             "#ed7953"
            ],
            [
             0.7777777777777778,
             "#fb9f3a"
            ],
            [
             0.8888888888888888,
             "#fdca26"
            ],
            [
             1,
             "#f0f921"
            ]
           ],
           "sequentialminus": [
            [
             0,
             "#0d0887"
            ],
            [
             0.1111111111111111,
             "#46039f"
            ],
            [
             0.2222222222222222,
             "#7201a8"
            ],
            [
             0.3333333333333333,
             "#9c179e"
            ],
            [
             0.4444444444444444,
             "#bd3786"
            ],
            [
             0.5555555555555556,
             "#d8576b"
            ],
            [
             0.6666666666666666,
             "#ed7953"
            ],
            [
             0.7777777777777778,
             "#fb9f3a"
            ],
            [
             0.8888888888888888,
             "#fdca26"
            ],
            [
             1,
             "#f0f921"
            ]
           ]
          },
          "colorway": [
           "#636efa",
           "#EF553B",
           "#00cc96",
           "#ab63fa",
           "#FFA15A",
           "#19d3f3",
           "#FF6692",
           "#B6E880",
           "#FF97FF",
           "#FECB52"
          ],
          "font": {
           "color": "#2a3f5f"
          },
          "geo": {
           "bgcolor": "white",
           "lakecolor": "white",
           "landcolor": "#E5ECF6",
           "showlakes": true,
           "showland": true,
           "subunitcolor": "white"
          },
          "hoverlabel": {
           "align": "left"
          },
          "hovermode": "closest",
          "mapbox": {
           "style": "light"
          },
          "paper_bgcolor": "white",
          "plot_bgcolor": "#E5ECF6",
          "polar": {
           "angularaxis": {
            "gridcolor": "white",
            "linecolor": "white",
            "ticks": ""
           },
           "bgcolor": "#E5ECF6",
           "radialaxis": {
            "gridcolor": "white",
            "linecolor": "white",
            "ticks": ""
           }
          },
          "scene": {
           "xaxis": {
            "backgroundcolor": "#E5ECF6",
            "gridcolor": "white",
            "gridwidth": 2,
            "linecolor": "white",
            "showbackground": true,
            "ticks": "",
            "zerolinecolor": "white"
           },
           "yaxis": {
            "backgroundcolor": "#E5ECF6",
            "gridcolor": "white",
            "gridwidth": 2,
            "linecolor": "white",
            "showbackground": true,
            "ticks": "",
            "zerolinecolor": "white"
           },
           "zaxis": {
            "backgroundcolor": "#E5ECF6",
            "gridcolor": "white",
            "gridwidth": 2,
            "linecolor": "white",
            "showbackground": true,
            "ticks": "",
            "zerolinecolor": "white"
           }
          },
          "shapedefaults": {
           "line": {
            "color": "#2a3f5f"
           }
          },
          "ternary": {
           "aaxis": {
            "gridcolor": "white",
            "linecolor": "white",
            "ticks": ""
           },
           "baxis": {
            "gridcolor": "white",
            "linecolor": "white",
            "ticks": ""
           },
           "bgcolor": "#E5ECF6",
           "caxis": {
            "gridcolor": "white",
            "linecolor": "white",
            "ticks": ""
           }
          },
          "title": {
           "x": 0.05
          },
          "xaxis": {
           "automargin": true,
           "gridcolor": "white",
           "linecolor": "white",
           "ticks": "",
           "title": {
            "standoff": 15
           },
           "zerolinecolor": "white",
           "zerolinewidth": 2
          },
          "yaxis": {
           "automargin": true,
           "gridcolor": "white",
           "linecolor": "white",
           "ticks": "",
           "title": {
            "standoff": 15
           },
           "zerolinecolor": "white",
           "zerolinewidth": 2
          }
         }
        },
        "title": {
         "text": "Average RMS by configuration and recording round"
        },
        "xaxis": {
         "anchor": "y",
         "categoryarray": [
          "rec1",
          "rec2",
          "rec3"
         ],
         "categoryorder": "array",
         "domain": [
          0,
          1
         ],
         "title": {
          "text": "Run"
         }
        },
        "yaxis": {
         "anchor": "x",
         "domain": [
          0,
          1
         ],
         "showgrid": true,
         "title": {
          "text": "Average RMS (µVrms)"
         }
        }
       }
      }
     },
     "metadata": {},
     "output_type": "display_data"
    }
   ],
   "source": [
    "# Keep only expected runs and configs; ensure consistent labels\n",
    "rms['Run'] = rms['Run'].astype(str).str.lower()\n",
    "label_map = {'Top+Ears': 'Dry (Ear+Top)', 'Ear Only': 'Wet (Ear Only)'}\n",
    "rms['Setup'] = rms['Config'].map(label_map)\n",
    "\n",
    "# Aggregate mean and SD per (Setup, Run)\n",
    "agg6 = (rms.groupby(['Setup', 'Run'])['RMS_uVrms']\n",
    "          .agg(mean='mean', std='std', n='count')\n",
    "          .reset_index())\n",
    "\n",
    "# Order categories for clean plotting\n",
    "run_order = ['rec1', 'rec2', 'rec3']\n",
    "setup_order = ['Dry (Ear+Top)', 'Wet (Ear Only)']\n",
    "agg6 = agg6[agg6['Setup'].isin(setup_order) & agg6['Run'].isin(run_order)].copy()\n",
    "agg6['Run'] = pd.Categorical(agg6['Run'], categories=run_order, ordered=True)\n",
    "agg6['Setup'] = pd.Categorical(agg6['Setup'], categories=setup_order, ordered=True)\n",
    "agg6['Text'] = agg6.apply(lambda r: f\"{r['mean']:.2f} ± {r['std']:.2f}\", axis=1)\n",
    "\n",
    "# Grouped bar chart: 6 bars total (2 configs x 3 runs)\n",
    "fig = px.bar(\n",
    "    agg6.sort_values(['Run','Setup']),\n",
    "    x='Run', y='mean', color='Setup', barmode='group', error_y='std', text='Text',\n",
    "    category_orders={'Run': run_order, 'Setup': setup_order},\n",
    "    labels={'mean': 'Average RMS (µVrms)'},\n",
    "    title='Average RMS by configuration and recording round'\n",
    ")\n",
    "fig.update_traces(textposition='outside', cliponaxis=False)\n",
    "fig.update_layout(yaxis=dict(showgrid=True))\n",
    "fig.show()\n"
   ]
  }
 ],
 "metadata": {
  "kernelspec": {
   "display_name": "charite",
   "language": "python",
   "name": "python3"
  },
  "language_info": {
   "codemirror_mode": {
    "name": "ipython",
    "version": 3
   },
   "file_extension": ".py",
   "mimetype": "text/x-python",
   "name": "python",
   "nbconvert_exporter": "python",
   "pygments_lexer": "ipython3",
   "version": "3.12.2"
  }
 },
 "nbformat": 4,
 "nbformat_minor": 1
}
