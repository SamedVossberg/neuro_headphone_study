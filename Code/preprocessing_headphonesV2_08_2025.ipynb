{
 "cells": [
  {
   "cell_type": "markdown",
   "metadata": {},
   "source": [
    "# Headphones V2 - Evaluation"
   ]
  },
  {
   "cell_type": "code",
   "execution_count": 1,
   "metadata": {
    "ExecuteTime": {
     "end_time": "2025-08-03T10:19:10.952436Z",
     "start_time": "2025-08-03T08:44:30.495082Z"
    },
    "jupyter": {
     "is_executing": true
    },
    "pycharm": {
     "name": "#%%\n"
    }
   },
   "outputs": [],
   "source": [
    "import pandas as pd\n",
    "import numpy as np\n",
    "from dataclasses import dataclass\n",
    "import datetime\n",
    "import plotly.express as px\n",
    "from scipy.integrate import simpson\n",
    "from scipy.stats import friedmanchisquare, wilcoxon\n",
    "import matplotlib.pyplot as plt\n",
    "import os, glob, re\n",
    "from pathlib import Path\n",
    "from datetime import timedelta, datetime\n",
    "import mne\n",
    "from mne.filter import filter_data, notch_filter\n",
    "import neurokit2 as nk\n",
    "from asrpy import ASR\n",
    "from scipy.signal import spectrogram, butter, filtfilt, welch\n",
    "from pyprep.find_noisy_channels import NoisyChannels\n",
    "import flows\n",
    "import warnings\n",
    "from plotly.subplots import make_subplots\n",
    "import plotly.graph_objects as go\n",
    "from typing import Tuple, Optional, List, Dict\n",
    "# from __future__ import annotations\n",
    "\n",
    "# settings to display all columns\n",
    "pd.set_option(\"display.max_columns\", None)\n",
    "# Set the number of rows to display\n",
    "# pd.set_option('display.max_rows', 50)  # Show up to 100 rows\n",
    "\n",
    "# General file locations\n",
    "main_folder = \"../Data/\""
   ]
  },
  {
   "cell_type": "markdown",
   "metadata": {},
   "source": [
    "# Session Overview"
   ]
  },
  {
   "cell_type": "code",
   "execution_count": 2,
   "metadata": {},
   "outputs": [
    {
     "name": "stdout",
     "output_type": "stream",
     "text": [
      "57\n"
     ]
    },
    {
     "data": {
      "text/html": [
       "<div>\n",
       "<style scoped>\n",
       "    .dataframe tbody tr th:only-of-type {\n",
       "        vertical-align: middle;\n",
       "    }\n",
       "\n",
       "    .dataframe tbody tr th {\n",
       "        vertical-align: top;\n",
       "    }\n",
       "\n",
       "    .dataframe thead th {\n",
       "        text-align: right;\n",
       "    }\n",
       "</style>\n",
       "<table border=\"1\" class=\"dataframe\">\n",
       "  <thead>\n",
       "    <tr style=\"text-align: right;\">\n",
       "      <th></th>\n",
       "      <th>Session</th>\n",
       "      <th>ID</th>\n",
       "      <th>Config</th>\n",
       "      <th>Folder</th>\n",
       "      <th>Run</th>\n",
       "      <th>Rec_folder</th>\n",
       "    </tr>\n",
       "  </thead>\n",
       "  <tbody>\n",
       "    <tr>\n",
       "      <th>0</th>\n",
       "      <td>2025-07-04-01</td>\n",
       "      <td>aq9b9k</td>\n",
       "      <td>Top+Ears</td>\n",
       "      <td>DryWithHeadband/2025-07-04/aq9b9k/</td>\n",
       "      <td>rec1</td>\n",
       "      <td>DryWithHeadband/2025-07-04/aq9b9k/rec1/</td>\n",
       "    </tr>\n",
       "    <tr>\n",
       "      <th>1</th>\n",
       "      <td>2025-07-04-01</td>\n",
       "      <td>aq9b9k</td>\n",
       "      <td>Top+Ears</td>\n",
       "      <td>DryWithHeadband/2025-07-04/aq9b9k/</td>\n",
       "      <td>rec2</td>\n",
       "      <td>DryWithHeadband/2025-07-04/aq9b9k/rec2/</td>\n",
       "    </tr>\n",
       "    <tr>\n",
       "      <th>2</th>\n",
       "      <td>2025-07-04-01</td>\n",
       "      <td>aq9b9k</td>\n",
       "      <td>Top+Ears</td>\n",
       "      <td>DryWithHeadband/2025-07-04/aq9b9k/</td>\n",
       "      <td>rec3</td>\n",
       "      <td>DryWithHeadband/2025-07-04/aq9b9k/rec3/</td>\n",
       "    </tr>\n",
       "    <tr>\n",
       "      <th>3</th>\n",
       "      <td>2025-07-14-01</td>\n",
       "      <td>fqzqgz</td>\n",
       "      <td>Top+Ears</td>\n",
       "      <td>DryWithHeadband/2025-07-14/fqzqgz/</td>\n",
       "      <td>rec1</td>\n",
       "      <td>DryWithHeadband/2025-07-14/fqzqgz/rec1/</td>\n",
       "    </tr>\n",
       "    <tr>\n",
       "      <th>4</th>\n",
       "      <td>2025-07-14-01</td>\n",
       "      <td>fqzqgz</td>\n",
       "      <td>Top+Ears</td>\n",
       "      <td>DryWithHeadband/2025-07-14/fqzqgz/</td>\n",
       "      <td>rec2</td>\n",
       "      <td>DryWithHeadband/2025-07-14/fqzqgz/rec2/</td>\n",
       "    </tr>\n",
       "    <tr>\n",
       "      <th>5</th>\n",
       "      <td>2025-07-14-01</td>\n",
       "      <td>fqzqgz</td>\n",
       "      <td>Top+Ears</td>\n",
       "      <td>DryWithHeadband/2025-07-14/fqzqgz/</td>\n",
       "      <td>rec3</td>\n",
       "      <td>DryWithHeadband/2025-07-14/fqzqgz/rec3/</td>\n",
       "    </tr>\n",
       "    <tr>\n",
       "      <th>6</th>\n",
       "      <td>2025-07-14-02</td>\n",
       "      <td>7dr6p8</td>\n",
       "      <td>Top+Ears</td>\n",
       "      <td>DryWithHeadband/2025-07-14/7dr6p8/</td>\n",
       "      <td>rec1</td>\n",
       "      <td>DryWithHeadband/2025-07-14/7dr6p8/rec1/</td>\n",
       "    </tr>\n",
       "    <tr>\n",
       "      <th>7</th>\n",
       "      <td>2025-07-14-02</td>\n",
       "      <td>7dr6p8</td>\n",
       "      <td>Top+Ears</td>\n",
       "      <td>DryWithHeadband/2025-07-14/7dr6p8/</td>\n",
       "      <td>rec2</td>\n",
       "      <td>DryWithHeadband/2025-07-14/7dr6p8/rec2/</td>\n",
       "    </tr>\n",
       "    <tr>\n",
       "      <th>8</th>\n",
       "      <td>2025-07-14-02</td>\n",
       "      <td>7dr6p8</td>\n",
       "      <td>Top+Ears</td>\n",
       "      <td>DryWithHeadband/2025-07-14/7dr6p8/</td>\n",
       "      <td>rec3</td>\n",
       "      <td>DryWithHeadband/2025-07-14/7dr6p8/rec3/</td>\n",
       "    </tr>\n",
       "    <tr>\n",
       "      <th>9</th>\n",
       "      <td>2025-07-15-01</td>\n",
       "      <td>9sbyk3</td>\n",
       "      <td>Top+Ears</td>\n",
       "      <td>DryWithHeadband/2025-07-15/9sbyk3/</td>\n",
       "      <td>rec1</td>\n",
       "      <td>DryWithHeadband/2025-07-15/9sbyk3/rec1/</td>\n",
       "    </tr>\n",
       "    <tr>\n",
       "      <th>10</th>\n",
       "      <td>2025-07-15-01</td>\n",
       "      <td>9sbyk3</td>\n",
       "      <td>Top+Ears</td>\n",
       "      <td>DryWithHeadband/2025-07-15/9sbyk3/</td>\n",
       "      <td>rec2</td>\n",
       "      <td>DryWithHeadband/2025-07-15/9sbyk3/rec2/</td>\n",
       "    </tr>\n",
       "    <tr>\n",
       "      <th>11</th>\n",
       "      <td>2025-07-15-01</td>\n",
       "      <td>9sbyk3</td>\n",
       "      <td>Top+Ears</td>\n",
       "      <td>DryWithHeadband/2025-07-15/9sbyk3/</td>\n",
       "      <td>rec3</td>\n",
       "      <td>DryWithHeadband/2025-07-15/9sbyk3/rec3/</td>\n",
       "    </tr>\n",
       "    <tr>\n",
       "      <th>12</th>\n",
       "      <td>2025-07-15-01</td>\n",
       "      <td>cca2av</td>\n",
       "      <td>Top+Ears</td>\n",
       "      <td>DryWithHeadband/2025-07-15/cca2av/</td>\n",
       "      <td>rec1</td>\n",
       "      <td>DryWithHeadband/2025-07-15/cca2av/rec1/</td>\n",
       "    </tr>\n",
       "    <tr>\n",
       "      <th>13</th>\n",
       "      <td>2025-07-15-01</td>\n",
       "      <td>cca2av</td>\n",
       "      <td>Top+Ears</td>\n",
       "      <td>DryWithHeadband/2025-07-15/cca2av/</td>\n",
       "      <td>rec2</td>\n",
       "      <td>DryWithHeadband/2025-07-15/cca2av/rec2/</td>\n",
       "    </tr>\n",
       "    <tr>\n",
       "      <th>14</th>\n",
       "      <td>2025-07-15-01</td>\n",
       "      <td>cca2av</td>\n",
       "      <td>Top+Ears</td>\n",
       "      <td>DryWithHeadband/2025-07-15/cca2av/</td>\n",
       "      <td>rec3</td>\n",
       "      <td>DryWithHeadband/2025-07-15/cca2av/rec3/</td>\n",
       "    </tr>\n",
       "    <tr>\n",
       "      <th>15</th>\n",
       "      <td>2025-07-16-04</td>\n",
       "      <td>12cbia</td>\n",
       "      <td>Top+Ears</td>\n",
       "      <td>DryWithHeadband/2025-07-16/12cbia/</td>\n",
       "      <td>rec1</td>\n",
       "      <td>DryWithHeadband/2025-07-16/12cbia/rec1/</td>\n",
       "    </tr>\n",
       "    <tr>\n",
       "      <th>16</th>\n",
       "      <td>2025-07-16-04</td>\n",
       "      <td>12cbia</td>\n",
       "      <td>Top+Ears</td>\n",
       "      <td>DryWithHeadband/2025-07-16/12cbia/</td>\n",
       "      <td>rec2</td>\n",
       "      <td>DryWithHeadband/2025-07-16/12cbia/rec2/</td>\n",
       "    </tr>\n",
       "    <tr>\n",
       "      <th>17</th>\n",
       "      <td>2025-07-16-04</td>\n",
       "      <td>12cbia</td>\n",
       "      <td>Top+Ears</td>\n",
       "      <td>DryWithHeadband/2025-07-16/12cbia/</td>\n",
       "      <td>rec3</td>\n",
       "      <td>DryWithHeadband/2025-07-16/12cbia/rec3/</td>\n",
       "    </tr>\n",
       "    <tr>\n",
       "      <th>18</th>\n",
       "      <td>2025-07-16-03</td>\n",
       "      <td>43d7zr</td>\n",
       "      <td>Top+Ears</td>\n",
       "      <td>DryWithHeadband/2025-07-16/43d7zr/</td>\n",
       "      <td>rec1</td>\n",
       "      <td>DryWithHeadband/2025-07-16/43d7zr/rec1/</td>\n",
       "    </tr>\n",
       "    <tr>\n",
       "      <th>19</th>\n",
       "      <td>2025-07-16-03</td>\n",
       "      <td>43d7zr</td>\n",
       "      <td>Top+Ears</td>\n",
       "      <td>DryWithHeadband/2025-07-16/43d7zr/</td>\n",
       "      <td>rec2</td>\n",
       "      <td>DryWithHeadband/2025-07-16/43d7zr/rec2/</td>\n",
       "    </tr>\n",
       "  </tbody>\n",
       "</table>\n",
       "</div>"
      ],
      "text/plain": [
       "          Session      ID    Config                              Folder   Run  \\\n",
       "0   2025-07-04-01  aq9b9k  Top+Ears  DryWithHeadband/2025-07-04/aq9b9k/  rec1   \n",
       "1   2025-07-04-01  aq9b9k  Top+Ears  DryWithHeadband/2025-07-04/aq9b9k/  rec2   \n",
       "2   2025-07-04-01  aq9b9k  Top+Ears  DryWithHeadband/2025-07-04/aq9b9k/  rec3   \n",
       "3   2025-07-14-01  fqzqgz  Top+Ears  DryWithHeadband/2025-07-14/fqzqgz/  rec1   \n",
       "4   2025-07-14-01  fqzqgz  Top+Ears  DryWithHeadband/2025-07-14/fqzqgz/  rec2   \n",
       "5   2025-07-14-01  fqzqgz  Top+Ears  DryWithHeadband/2025-07-14/fqzqgz/  rec3   \n",
       "6   2025-07-14-02  7dr6p8  Top+Ears  DryWithHeadband/2025-07-14/7dr6p8/  rec1   \n",
       "7   2025-07-14-02  7dr6p8  Top+Ears  DryWithHeadband/2025-07-14/7dr6p8/  rec2   \n",
       "8   2025-07-14-02  7dr6p8  Top+Ears  DryWithHeadband/2025-07-14/7dr6p8/  rec3   \n",
       "9   2025-07-15-01  9sbyk3  Top+Ears  DryWithHeadband/2025-07-15/9sbyk3/  rec1   \n",
       "10  2025-07-15-01  9sbyk3  Top+Ears  DryWithHeadband/2025-07-15/9sbyk3/  rec2   \n",
       "11  2025-07-15-01  9sbyk3  Top+Ears  DryWithHeadband/2025-07-15/9sbyk3/  rec3   \n",
       "12  2025-07-15-01  cca2av  Top+Ears  DryWithHeadband/2025-07-15/cca2av/  rec1   \n",
       "13  2025-07-15-01  cca2av  Top+Ears  DryWithHeadband/2025-07-15/cca2av/  rec2   \n",
       "14  2025-07-15-01  cca2av  Top+Ears  DryWithHeadband/2025-07-15/cca2av/  rec3   \n",
       "15  2025-07-16-04  12cbia  Top+Ears  DryWithHeadband/2025-07-16/12cbia/  rec1   \n",
       "16  2025-07-16-04  12cbia  Top+Ears  DryWithHeadband/2025-07-16/12cbia/  rec2   \n",
       "17  2025-07-16-04  12cbia  Top+Ears  DryWithHeadband/2025-07-16/12cbia/  rec3   \n",
       "18  2025-07-16-03  43d7zr  Top+Ears  DryWithHeadband/2025-07-16/43d7zr/  rec1   \n",
       "19  2025-07-16-03  43d7zr  Top+Ears  DryWithHeadband/2025-07-16/43d7zr/  rec2   \n",
       "\n",
       "                                 Rec_folder  \n",
       "0   DryWithHeadband/2025-07-04/aq9b9k/rec1/  \n",
       "1   DryWithHeadband/2025-07-04/aq9b9k/rec2/  \n",
       "2   DryWithHeadband/2025-07-04/aq9b9k/rec3/  \n",
       "3   DryWithHeadband/2025-07-14/fqzqgz/rec1/  \n",
       "4   DryWithHeadband/2025-07-14/fqzqgz/rec2/  \n",
       "5   DryWithHeadband/2025-07-14/fqzqgz/rec3/  \n",
       "6   DryWithHeadband/2025-07-14/7dr6p8/rec1/  \n",
       "7   DryWithHeadband/2025-07-14/7dr6p8/rec2/  \n",
       "8   DryWithHeadband/2025-07-14/7dr6p8/rec3/  \n",
       "9   DryWithHeadband/2025-07-15/9sbyk3/rec1/  \n",
       "10  DryWithHeadband/2025-07-15/9sbyk3/rec2/  \n",
       "11  DryWithHeadband/2025-07-15/9sbyk3/rec3/  \n",
       "12  DryWithHeadband/2025-07-15/cca2av/rec1/  \n",
       "13  DryWithHeadband/2025-07-15/cca2av/rec2/  \n",
       "14  DryWithHeadband/2025-07-15/cca2av/rec3/  \n",
       "15  DryWithHeadband/2025-07-16/12cbia/rec1/  \n",
       "16  DryWithHeadband/2025-07-16/12cbia/rec2/  \n",
       "17  DryWithHeadband/2025-07-16/12cbia/rec3/  \n",
       "18  DryWithHeadband/2025-07-16/43d7zr/rec1/  \n",
       "19  DryWithHeadband/2025-07-16/43d7zr/rec2/  "
      ]
     },
     "execution_count": 2,
     "metadata": {},
     "output_type": "execute_result"
    }
   ],
   "source": [
    "# Loading the manually created mapping file\n",
    "sessions = pd.read_csv(main_folder+\"processed/session_overview.csv\")\n",
    "sessions = sessions[sessions[\"ID\"] != \"bk7zlu\"]\n",
    "sessions = sessions[sessions[\"ID\"] != \"2rw33z\"].reset_index(drop=True) # excluding participant because of record quality and reset index\n",
    "print(len(sessions))\n",
    "sessions.head(20)"
   ]
  },
  {
   "cell_type": "markdown",
   "metadata": {},
   "source": [
    "# oTree Logs & Functions"
   ]
  },
  {
   "cell_type": "code",
   "execution_count": 3,
   "metadata": {},
   "outputs": [
    {
     "data": {
      "text/html": [
       "<div>\n",
       "<style scoped>\n",
       "    .dataframe tbody tr th:only-of-type {\n",
       "        vertical-align: middle;\n",
       "    }\n",
       "\n",
       "    .dataframe tbody tr th {\n",
       "        vertical-align: top;\n",
       "    }\n",
       "\n",
       "    .dataframe thead th {\n",
       "        text-align: right;\n",
       "    }\n",
       "</style>\n",
       "<table border=\"1\" class=\"dataframe\">\n",
       "  <thead>\n",
       "    <tr style=\"text-align: right;\">\n",
       "      <th></th>\n",
       "      <th>participant.code</th>\n",
       "      <th>participant._index_in_pages</th>\n",
       "      <th>participant._max_page_index</th>\n",
       "      <th>participant.time_started_utc</th>\n",
       "      <th>participant.token</th>\n",
       "      <th>session.config.name</th>\n",
       "      <th>setup.1.player.headset_color</th>\n",
       "      <th>setup.1.player.token</th>\n",
       "      <th>introduction.1.player.handedness</th>\n",
       "      <th>introduction.1.player.english</th>\n",
       "      <th>introduction.1.player.multilingual</th>\n",
       "      <th>introduction.1.player.age</th>\n",
       "      <th>introduction.1.player.gender</th>\n",
       "      <th>introduction.1.player.glasses</th>\n",
       "      <th>introduction.1.player.eye_sight</th>\n",
       "      <th>introduction.1.player.color_sight</th>\n",
       "      <th>introduction.1.player.hearing</th>\n",
       "      <th>introduction.1.player.occupation</th>\n",
       "      <th>introduction.1.player.education_level</th>\n",
       "      <th>introduction.1.player.headsize</th>\n",
       "      <th>introduction.1.player.weight</th>\n",
       "      <th>introduction.1.player.height</th>\n",
       "      <th>introduction.1.player.hair_style_top</th>\n",
       "      <th>introduction.1.player.hair_style_ears</th>\n",
       "      <th>introduction.1.player.hair_type</th>\n",
       "      <th>introduction.1.player.hair_density</th>\n",
       "      <th>introduction.1.player.beard_style</th>\n",
       "      <th>introduction.1.player.hair_products</th>\n",
       "      <th>introduction.1.player.skin_oily_dry_1</th>\n",
       "      <th>introduction.1.player.skin_oily_dry_2</th>\n",
       "      <th>introduction.1.player.skin_resistant_sensitive_1</th>\n",
       "      <th>introduction.1.player.skin_resistant_sensitive_2</th>\n",
       "      <th>introduction.1.player.skin_products</th>\n",
       "      <th>introduction.1.player.time_since_meal</th>\n",
       "      <th>introduction.1.player.time_since_hydration</th>\n",
       "      <th>introduction.1.player.time_since_caffeine</th>\n",
       "      <th>introduction.1.player.time_since_nicotine</th>\n",
       "      <th>introduction.1.player.time_since_alcohol</th>\n",
       "      <th>introduction.1.player.flow_trait_single</th>\n",
       "      <th>introduction.1.player.flow_trait_sfds1</th>\n",
       "      <th>introduction.1.player.flow_trait_sfds2</th>\n",
       "      <th>introduction.1.player.flow_trait_sfds3</th>\n",
       "      <th>introduction.1.player.flow_trait_sfds4</th>\n",
       "      <th>introduction.1.player.flow_trait_sfds5</th>\n",
       "      <th>introduction.1.player.flow_trait_sfds6</th>\n",
       "      <th>introduction.1.player.flow_trait_sfds7</th>\n",
       "      <th>introduction.1.player.flow_trait_sfds8</th>\n",
       "      <th>introduction.1.player.flow_trait_sfds9</th>\n",
       "      <th>introduction.1.player.flow_trait_sfds10</th>\n",
       "      <th>introduction.1.player.rcsq_sleep</th>\n",
       "      <th>headphones_setup_1.1.player.ux_comfort</th>\n",
       "      <th>headphones_setup_1.1.player.ux_speed</th>\n",
       "      <th>headphones_setup_1.1.player.ux_ease</th>\n",
       "      <th>headphones_setup_1.1.player.ux_look</th>\n",
       "      <th>headphones_setup_1.1.player.wx_public</th>\n",
       "      <th>headphones_setup_1.1.player.wx_private</th>\n",
       "      <th>headphones_setup_1.1.player.wx_conversation</th>\n",
       "      <th>headphones_setup_1.1.player.wx_others</th>\n",
       "      <th>headphones_setup_1.1.player.tlx_single</th>\n",
       "      <th>headphones_setup_1.1.player.sus_01</th>\n",
       "      <th>headphones_setup_1.1.player.sus_02</th>\n",
       "      <th>headphones_setup_1.1.player.sus_03</th>\n",
       "      <th>headphones_setup_1.1.player.sus_04</th>\n",
       "      <th>headphones_setup_1.1.player.sus_05</th>\n",
       "      <th>headphones_setup_1.1.player.sus_06</th>\n",
       "      <th>headphones_setup_1.1.player.sus_07</th>\n",
       "      <th>headphones_setup_1.1.player.sus_08</th>\n",
       "      <th>headphones_setup_1.1.player.sus_09</th>\n",
       "      <th>headphones_setup_1.1.player.sus_10</th>\n",
       "      <th>headphones_setup_1.1.player.mr_mood</th>\n",
       "      <th>headphones_setup_1.1.player.mr_sleepy</th>\n",
       "      <th>headphones_setup_1.1.player.mr_motivy</th>\n",
       "      <th>headphones_setup_1.1.player.mf_single</th>\n",
       "      <th>headphones_setup_1.1.player.mf_01</th>\n",
       "      <th>headphones_setup_1.1.player.mf_02</th>\n",
       "      <th>headphones_setup_1.1.player.mf_03</th>\n",
       "      <th>headphones_setup_1.1.player.mf_04</th>\n",
       "      <th>headphones_setup_1.1.player.rest_actions_eo</th>\n",
       "      <th>headphones_setup_1.1.player.rest_actions_ec</th>\n",
       "      <th>headphones_setup_1.1.subsession.round_number</th>\n",
       "      <th>mathTask_1.1.player.fss06</th>\n",
       "      <th>mathTask_1.1.player.fss08</th>\n",
       "      <th>mathTask_1.1.player.fss09</th>\n",
       "      <th>mathTask_1.1.player.tlx_single</th>\n",
       "      <th>mathTask_1.1.player.difficulty</th>\n",
       "      <th>mathTask_1.1.player.mr_mood</th>\n",
       "      <th>mathTask_1.1.player.mr_sleepy</th>\n",
       "      <th>mathTask_1.1.player.mr_motivy</th>\n",
       "      <th>mathTask_1.1.player.mf_single</th>\n",
       "      <th>mathTask_1.1.player.math_actions</th>\n",
       "      <th>mathTask_1.1.subsession.round_number</th>\n",
       "      <th>mathTask_1.2.player.fss06</th>\n",
       "      <th>mathTask_1.2.player.fss08</th>\n",
       "      <th>mathTask_1.2.player.fss09</th>\n",
       "      <th>mathTask_1.2.player.tlx_single</th>\n",
       "      <th>mathTask_1.2.player.difficulty</th>\n",
       "      <th>mathTask_1.2.player.mr_mood</th>\n",
       "      <th>mathTask_1.2.player.mr_sleepy</th>\n",
       "      <th>mathTask_1.2.player.mr_motivy</th>\n",
       "      <th>mathTask_1.2.player.mf_single</th>\n",
       "      <th>mathTask_1.2.player.math_actions</th>\n",
       "      <th>mathTask_1.2.subsession.round_number</th>\n",
       "      <th>mathTask_1.3.player.fss06</th>\n",
       "      <th>mathTask_1.3.player.fss08</th>\n",
       "      <th>mathTask_1.3.player.fss09</th>\n",
       "      <th>mathTask_1.3.player.tlx_single</th>\n",
       "      <th>mathTask_1.3.player.difficulty</th>\n",
       "      <th>mathTask_1.3.player.mr_mood</th>\n",
       "      <th>mathTask_1.3.player.mr_sleepy</th>\n",
       "      <th>mathTask_1.3.player.mr_motivy</th>\n",
       "      <th>mathTask_1.3.player.mf_single</th>\n",
       "      <th>mathTask_1.3.player.math_actions</th>\n",
       "      <th>mathTask_1.3.subsession.round_number</th>\n",
       "      <th>mathTask_1.4.player.fss06</th>\n",
       "      <th>mathTask_1.4.player.fss08</th>\n",
       "      <th>mathTask_1.4.player.fss09</th>\n",
       "      <th>mathTask_1.4.player.tlx_single</th>\n",
       "      <th>mathTask_1.4.player.difficulty</th>\n",
       "      <th>mathTask_1.4.player.mr_mood</th>\n",
       "      <th>mathTask_1.4.player.mr_sleepy</th>\n",
       "      <th>mathTask_1.4.player.mr_motivy</th>\n",
       "      <th>mathTask_1.4.player.mf_single</th>\n",
       "      <th>mathTask_1.4.player.math_actions</th>\n",
       "      <th>mathTask_1.4.subsession.round_number</th>\n",
       "      <th>mathTask_1.5.player.fss06</th>\n",
       "      <th>mathTask_1.5.player.fss08</th>\n",
       "      <th>mathTask_1.5.player.fss09</th>\n",
       "      <th>mathTask_1.5.player.tlx_single</th>\n",
       "      <th>mathTask_1.5.player.difficulty</th>\n",
       "      <th>mathTask_1.5.player.mr_mood</th>\n",
       "      <th>mathTask_1.5.player.mr_sleepy</th>\n",
       "      <th>mathTask_1.5.player.mr_motivy</th>\n",
       "      <th>mathTask_1.5.player.mf_single</th>\n",
       "      <th>mathTask_1.5.player.math_actions</th>\n",
       "      <th>mathTask_1.5.subsession.round_number</th>\n",
       "      <th>mathTask_1.6.player.fss06</th>\n",
       "      <th>mathTask_1.6.player.fss08</th>\n",
       "      <th>mathTask_1.6.player.fss09</th>\n",
       "      <th>mathTask_1.6.player.tlx_single</th>\n",
       "      <th>mathTask_1.6.player.difficulty</th>\n",
       "      <th>mathTask_1.6.player.mr_mood</th>\n",
       "      <th>mathTask_1.6.player.mr_sleepy</th>\n",
       "      <th>mathTask_1.6.player.mr_motivy</th>\n",
       "      <th>mathTask_1.6.player.mf_single</th>\n",
       "      <th>mathTask_1.6.player.math_actions</th>\n",
       "      <th>mathTask_1.6.subsession.round_number</th>\n",
       "      <th>mathTask_1.7.subsession.round_number</th>\n",
       "      <th>mathTask_1.8.player.tlx_single</th>\n",
       "      <th>mathTask_1.8.player.mr_mood</th>\n",
       "      <th>mathTask_1.8.player.mr_sleepy</th>\n",
       "      <th>mathTask_1.8.player.mr_motivy</th>\n",
       "      <th>mathTask_1.8.player.mf_single</th>\n",
       "      <th>mathTask_1.8.player.mf_01</th>\n",
       "      <th>mathTask_1.8.player.mf_02</th>\n",
       "      <th>mathTask_1.8.player.mf_03</th>\n",
       "      <th>mathTask_1.8.player.mf_04</th>\n",
       "      <th>mathTask_1.8.player.headset_comfort</th>\n",
       "      <th>mathTask_1.8.player.rest_actions_eo</th>\n",
       "      <th>mathTask_1.8.player.rest_actions_ec</th>\n",
       "      <th>mathTask_1.8.subsession.round_number</th>\n",
       "      <th>clickTask_1.1.player.fss06</th>\n",
       "      <th>clickTask_1.1.player.fss08</th>\n",
       "      <th>clickTask_1.1.player.fss09</th>\n",
       "      <th>clickTask_1.1.player.tlx_single</th>\n",
       "      <th>clickTask_1.1.player.difficulty</th>\n",
       "      <th>clickTask_1.1.player.mr_mood</th>\n",
       "      <th>clickTask_1.1.player.mr_sleepy</th>\n",
       "      <th>clickTask_1.1.player.mr_motivy</th>\n",
       "      <th>clickTask_1.1.player.mf_single</th>\n",
       "      <th>clickTask_1.1.player.click_actions</th>\n",
       "      <th>clickTask_1.1.subsession.round_number</th>\n",
       "      <th>clickTask_1.2.player.fss06</th>\n",
       "      <th>clickTask_1.2.player.fss08</th>\n",
       "      <th>clickTask_1.2.player.fss09</th>\n",
       "      <th>clickTask_1.2.player.tlx_single</th>\n",
       "      <th>clickTask_1.2.player.difficulty</th>\n",
       "      <th>clickTask_1.2.player.mr_mood</th>\n",
       "      <th>clickTask_1.2.player.mr_sleepy</th>\n",
       "      <th>clickTask_1.2.player.mr_motivy</th>\n",
       "      <th>clickTask_1.2.player.mf_single</th>\n",
       "      <th>clickTask_1.2.player.click_actions</th>\n",
       "      <th>clickTask_1.2.subsession.round_number</th>\n",
       "      <th>clickTask_1.3.player.fss06</th>\n",
       "      <th>clickTask_1.3.player.fss08</th>\n",
       "      <th>clickTask_1.3.player.fss09</th>\n",
       "      <th>clickTask_1.3.player.tlx_single</th>\n",
       "      <th>clickTask_1.3.player.difficulty</th>\n",
       "      <th>clickTask_1.3.player.mr_mood</th>\n",
       "      <th>clickTask_1.3.player.mr_sleepy</th>\n",
       "      <th>clickTask_1.3.player.mr_motivy</th>\n",
       "      <th>clickTask_1.3.player.mf_single</th>\n",
       "      <th>clickTask_1.3.player.click_actions</th>\n",
       "      <th>clickTask_1.3.subsession.round_number</th>\n",
       "      <th>clickTask_1.4.player.fss06</th>\n",
       "      <th>clickTask_1.4.player.fss08</th>\n",
       "      <th>clickTask_1.4.player.fss09</th>\n",
       "      <th>clickTask_1.4.player.tlx_single</th>\n",
       "      <th>clickTask_1.4.player.difficulty</th>\n",
       "      <th>clickTask_1.4.player.mr_mood</th>\n",
       "      <th>clickTask_1.4.player.mr_sleepy</th>\n",
       "      <th>clickTask_1.4.player.mr_motivy</th>\n",
       "      <th>clickTask_1.4.player.mf_single</th>\n",
       "      <th>clickTask_1.4.player.click_actions</th>\n",
       "      <th>clickTask_1.4.subsession.round_number</th>\n",
       "      <th>clickTask_1.5.player.fss06</th>\n",
       "      <th>clickTask_1.5.player.fss08</th>\n",
       "      <th>clickTask_1.5.player.fss09</th>\n",
       "      <th>clickTask_1.5.player.tlx_single</th>\n",
       "      <th>clickTask_1.5.player.difficulty</th>\n",
       "      <th>clickTask_1.5.player.mr_mood</th>\n",
       "      <th>clickTask_1.5.player.mr_sleepy</th>\n",
       "      <th>clickTask_1.5.player.mr_motivy</th>\n",
       "      <th>clickTask_1.5.player.mf_single</th>\n",
       "      <th>clickTask_1.5.player.click_actions</th>\n",
       "      <th>clickTask_1.5.subsession.round_number</th>\n",
       "      <th>clickTask_1.6.player.fss06</th>\n",
       "      <th>clickTask_1.6.player.fss08</th>\n",
       "      <th>clickTask_1.6.player.fss09</th>\n",
       "      <th>clickTask_1.6.player.tlx_single</th>\n",
       "      <th>clickTask_1.6.player.difficulty</th>\n",
       "      <th>clickTask_1.6.player.mr_mood</th>\n",
       "      <th>clickTask_1.6.player.mr_sleepy</th>\n",
       "      <th>clickTask_1.6.player.mr_motivy</th>\n",
       "      <th>clickTask_1.6.player.mf_single</th>\n",
       "      <th>clickTask_1.6.player.click_actions</th>\n",
       "      <th>clickTask_1.6.subsession.round_number</th>\n",
       "      <th>clickTask_1.7.subsession.round_number</th>\n",
       "      <th>clickTask_1.8.player.tlx_single</th>\n",
       "      <th>clickTask_1.8.player.mr_mood</th>\n",
       "      <th>clickTask_1.8.player.mr_sleepy</th>\n",
       "      <th>clickTask_1.8.player.mr_motivy</th>\n",
       "      <th>clickTask_1.8.player.mf_single</th>\n",
       "      <th>clickTask_1.8.player.mf_01</th>\n",
       "      <th>clickTask_1.8.player.mf_02</th>\n",
       "      <th>clickTask_1.8.player.mf_03</th>\n",
       "      <th>clickTask_1.8.player.mf_04</th>\n",
       "      <th>clickTask_1.8.player.headset_comfort</th>\n",
       "      <th>clickTask_1.8.player.rest_actions_eo</th>\n",
       "      <th>clickTask_1.8.player.rest_actions_ec</th>\n",
       "      <th>clickTask_1.8.subsession.round_number</th>\n",
       "      <th>headphones_finish_1.1.player.feedback</th>\n",
       "      <th>headphones_finish_1.1.subsession.round_number</th>\n",
       "      <th>debriefing_1.1.subsession.round_number</th>\n",
       "      <th>headphones_setup_2.1.player.ux_comfort</th>\n",
       "      <th>headphones_setup_2.1.player.ux_speed</th>\n",
       "      <th>headphones_setup_2.1.player.ux_ease</th>\n",
       "      <th>headphones_setup_2.1.player.ux_look</th>\n",
       "      <th>headphones_setup_2.1.player.wx_public</th>\n",
       "      <th>headphones_setup_2.1.player.wx_private</th>\n",
       "      <th>headphones_setup_2.1.player.wx_conversation</th>\n",
       "      <th>headphones_setup_2.1.player.wx_others</th>\n",
       "      <th>headphones_setup_2.1.player.tlx_single</th>\n",
       "      <th>headphones_setup_2.1.player.sus_01</th>\n",
       "      <th>headphones_setup_2.1.player.sus_02</th>\n",
       "      <th>headphones_setup_2.1.player.sus_03</th>\n",
       "      <th>headphones_setup_2.1.player.sus_04</th>\n",
       "      <th>headphones_setup_2.1.player.sus_05</th>\n",
       "      <th>headphones_setup_2.1.player.sus_06</th>\n",
       "      <th>headphones_setup_2.1.player.sus_07</th>\n",
       "      <th>headphones_setup_2.1.player.sus_08</th>\n",
       "      <th>headphones_setup_2.1.player.sus_09</th>\n",
       "      <th>headphones_setup_2.1.player.sus_10</th>\n",
       "      <th>headphones_setup_2.1.player.mr_mood</th>\n",
       "      <th>headphones_setup_2.1.player.mr_sleepy</th>\n",
       "      <th>headphones_setup_2.1.player.mr_motivy</th>\n",
       "      <th>headphones_setup_2.1.player.mf_single</th>\n",
       "      <th>headphones_setup_2.1.player.mf_01</th>\n",
       "      <th>headphones_setup_2.1.player.mf_02</th>\n",
       "      <th>headphones_setup_2.1.player.mf_03</th>\n",
       "      <th>headphones_setup_2.1.player.mf_04</th>\n",
       "      <th>headphones_setup_2.1.player.rest_actions_eo</th>\n",
       "      <th>headphones_setup_2.1.player.rest_actions_ec</th>\n",
       "      <th>headphones_setup_2.1.player.break_activity</th>\n",
       "      <th>headphones_setup_2.1.subsession.round_number</th>\n",
       "      <th>mathTask_2.1.player.fss06</th>\n",
       "      <th>mathTask_2.1.player.fss08</th>\n",
       "      <th>mathTask_2.1.player.fss09</th>\n",
       "      <th>mathTask_2.1.player.tlx_single</th>\n",
       "      <th>mathTask_2.1.player.difficulty</th>\n",
       "      <th>mathTask_2.1.player.mr_mood</th>\n",
       "      <th>mathTask_2.1.player.mr_sleepy</th>\n",
       "      <th>mathTask_2.1.player.mr_motivy</th>\n",
       "      <th>mathTask_2.1.player.mf_single</th>\n",
       "      <th>mathTask_2.1.player.math_actions</th>\n",
       "      <th>mathTask_2.1.subsession.round_number</th>\n",
       "      <th>mathTask_2.2.player.fss06</th>\n",
       "      <th>mathTask_2.2.player.fss08</th>\n",
       "      <th>mathTask_2.2.player.fss09</th>\n",
       "      <th>mathTask_2.2.player.tlx_single</th>\n",
       "      <th>mathTask_2.2.player.difficulty</th>\n",
       "      <th>mathTask_2.2.player.mr_mood</th>\n",
       "      <th>mathTask_2.2.player.mr_sleepy</th>\n",
       "      <th>mathTask_2.2.player.mr_motivy</th>\n",
       "      <th>mathTask_2.2.player.mf_single</th>\n",
       "      <th>mathTask_2.2.player.math_actions</th>\n",
       "      <th>mathTask_2.2.subsession.round_number</th>\n",
       "      <th>mathTask_2.3.player.fss06</th>\n",
       "      <th>mathTask_2.3.player.fss08</th>\n",
       "      <th>mathTask_2.3.player.fss09</th>\n",
       "      <th>mathTask_2.3.player.tlx_single</th>\n",
       "      <th>mathTask_2.3.player.difficulty</th>\n",
       "      <th>mathTask_2.3.player.mr_mood</th>\n",
       "      <th>mathTask_2.3.player.mr_sleepy</th>\n",
       "      <th>mathTask_2.3.player.mr_motivy</th>\n",
       "      <th>mathTask_2.3.player.mf_single</th>\n",
       "      <th>mathTask_2.3.player.math_actions</th>\n",
       "      <th>mathTask_2.3.subsession.round_number</th>\n",
       "      <th>mathTask_2.4.player.fss06</th>\n",
       "      <th>mathTask_2.4.player.fss08</th>\n",
       "      <th>mathTask_2.4.player.fss09</th>\n",
       "      <th>mathTask_2.4.player.tlx_single</th>\n",
       "      <th>mathTask_2.4.player.difficulty</th>\n",
       "      <th>mathTask_2.4.player.mr_mood</th>\n",
       "      <th>mathTask_2.4.player.mr_sleepy</th>\n",
       "      <th>mathTask_2.4.player.mr_motivy</th>\n",
       "      <th>mathTask_2.4.player.mf_single</th>\n",
       "      <th>mathTask_2.4.player.math_actions</th>\n",
       "      <th>mathTask_2.4.subsession.round_number</th>\n",
       "      <th>mathTask_2.5.player.fss06</th>\n",
       "      <th>mathTask_2.5.player.fss08</th>\n",
       "      <th>mathTask_2.5.player.fss09</th>\n",
       "      <th>mathTask_2.5.player.tlx_single</th>\n",
       "      <th>mathTask_2.5.player.difficulty</th>\n",
       "      <th>mathTask_2.5.player.mr_mood</th>\n",
       "      <th>mathTask_2.5.player.mr_sleepy</th>\n",
       "      <th>mathTask_2.5.player.mr_motivy</th>\n",
       "      <th>mathTask_2.5.player.mf_single</th>\n",
       "      <th>mathTask_2.5.player.math_actions</th>\n",
       "      <th>mathTask_2.5.subsession.round_number</th>\n",
       "      <th>mathTask_2.6.player.fss06</th>\n",
       "      <th>mathTask_2.6.player.fss08</th>\n",
       "      <th>mathTask_2.6.player.fss09</th>\n",
       "      <th>mathTask_2.6.player.tlx_single</th>\n",
       "      <th>mathTask_2.6.player.difficulty</th>\n",
       "      <th>mathTask_2.6.player.mr_mood</th>\n",
       "      <th>mathTask_2.6.player.mr_sleepy</th>\n",
       "      <th>mathTask_2.6.player.mr_motivy</th>\n",
       "      <th>mathTask_2.6.player.mf_single</th>\n",
       "      <th>mathTask_2.6.player.math_actions</th>\n",
       "      <th>mathTask_2.6.subsession.round_number</th>\n",
       "      <th>mathTask_2.7.subsession.round_number</th>\n",
       "      <th>mathTask_2.8.player.tlx_single</th>\n",
       "      <th>mathTask_2.8.player.mr_mood</th>\n",
       "      <th>mathTask_2.8.player.mr_sleepy</th>\n",
       "      <th>mathTask_2.8.player.mr_motivy</th>\n",
       "      <th>mathTask_2.8.player.mf_single</th>\n",
       "      <th>mathTask_2.8.player.mf_01</th>\n",
       "      <th>mathTask_2.8.player.mf_02</th>\n",
       "      <th>mathTask_2.8.player.mf_03</th>\n",
       "      <th>mathTask_2.8.player.mf_04</th>\n",
       "      <th>mathTask_2.8.player.headset_comfort</th>\n",
       "      <th>mathTask_2.8.player.rest_actions_eo</th>\n",
       "      <th>mathTask_2.8.player.rest_actions_ec</th>\n",
       "      <th>mathTask_2.8.subsession.round_number</th>\n",
       "      <th>clickTask_2.1.player.fss06</th>\n",
       "      <th>clickTask_2.1.player.fss08</th>\n",
       "      <th>clickTask_2.1.player.fss09</th>\n",
       "      <th>clickTask_2.1.player.tlx_single</th>\n",
       "      <th>clickTask_2.1.player.difficulty</th>\n",
       "      <th>clickTask_2.1.player.mr_mood</th>\n",
       "      <th>clickTask_2.1.player.mr_sleepy</th>\n",
       "      <th>clickTask_2.1.player.mr_motivy</th>\n",
       "      <th>clickTask_2.1.player.mf_single</th>\n",
       "      <th>clickTask_2.1.player.click_actions</th>\n",
       "      <th>clickTask_2.1.subsession.round_number</th>\n",
       "      <th>clickTask_2.2.player.fss06</th>\n",
       "      <th>clickTask_2.2.player.fss08</th>\n",
       "      <th>clickTask_2.2.player.fss09</th>\n",
       "      <th>clickTask_2.2.player.tlx_single</th>\n",
       "      <th>clickTask_2.2.player.difficulty</th>\n",
       "      <th>clickTask_2.2.player.mr_mood</th>\n",
       "      <th>clickTask_2.2.player.mr_sleepy</th>\n",
       "      <th>clickTask_2.2.player.mr_motivy</th>\n",
       "      <th>clickTask_2.2.player.mf_single</th>\n",
       "      <th>clickTask_2.2.player.click_actions</th>\n",
       "      <th>clickTask_2.2.subsession.round_number</th>\n",
       "      <th>clickTask_2.3.player.fss06</th>\n",
       "      <th>clickTask_2.3.player.fss08</th>\n",
       "      <th>clickTask_2.3.player.fss09</th>\n",
       "      <th>clickTask_2.3.player.tlx_single</th>\n",
       "      <th>clickTask_2.3.player.difficulty</th>\n",
       "      <th>clickTask_2.3.player.mr_mood</th>\n",
       "      <th>clickTask_2.3.player.mr_sleepy</th>\n",
       "      <th>clickTask_2.3.player.mr_motivy</th>\n",
       "      <th>clickTask_2.3.player.mf_single</th>\n",
       "      <th>clickTask_2.3.player.click_actions</th>\n",
       "      <th>clickTask_2.3.subsession.round_number</th>\n",
       "      <th>clickTask_2.4.player.fss06</th>\n",
       "      <th>clickTask_2.4.player.fss08</th>\n",
       "      <th>clickTask_2.4.player.fss09</th>\n",
       "      <th>clickTask_2.4.player.tlx_single</th>\n",
       "      <th>clickTask_2.4.player.difficulty</th>\n",
       "      <th>clickTask_2.4.player.mr_mood</th>\n",
       "      <th>clickTask_2.4.player.mr_sleepy</th>\n",
       "      <th>clickTask_2.4.player.mr_motivy</th>\n",
       "      <th>clickTask_2.4.player.mf_single</th>\n",
       "      <th>clickTask_2.4.player.click_actions</th>\n",
       "      <th>clickTask_2.4.subsession.round_number</th>\n",
       "      <th>clickTask_2.5.player.fss06</th>\n",
       "      <th>clickTask_2.5.player.fss08</th>\n",
       "      <th>clickTask_2.5.player.fss09</th>\n",
       "      <th>clickTask_2.5.player.tlx_single</th>\n",
       "      <th>clickTask_2.5.player.difficulty</th>\n",
       "      <th>clickTask_2.5.player.mr_mood</th>\n",
       "      <th>clickTask_2.5.player.mr_sleepy</th>\n",
       "      <th>clickTask_2.5.player.mr_motivy</th>\n",
       "      <th>clickTask_2.5.player.mf_single</th>\n",
       "      <th>clickTask_2.5.player.click_actions</th>\n",
       "      <th>clickTask_2.5.subsession.round_number</th>\n",
       "      <th>clickTask_2.6.player.fss06</th>\n",
       "      <th>clickTask_2.6.player.fss08</th>\n",
       "      <th>clickTask_2.6.player.fss09</th>\n",
       "      <th>clickTask_2.6.player.tlx_single</th>\n",
       "      <th>clickTask_2.6.player.difficulty</th>\n",
       "      <th>clickTask_2.6.player.mr_mood</th>\n",
       "      <th>clickTask_2.6.player.mr_sleepy</th>\n",
       "      <th>clickTask_2.6.player.mr_motivy</th>\n",
       "      <th>clickTask_2.6.player.mf_single</th>\n",
       "      <th>clickTask_2.6.player.click_actions</th>\n",
       "      <th>clickTask_2.6.subsession.round_number</th>\n",
       "      <th>clickTask_2.7.subsession.round_number</th>\n",
       "      <th>clickTask_2.8.player.tlx_single</th>\n",
       "      <th>clickTask_2.8.player.mr_mood</th>\n",
       "      <th>clickTask_2.8.player.mr_sleepy</th>\n",
       "      <th>clickTask_2.8.player.mr_motivy</th>\n",
       "      <th>clickTask_2.8.player.mf_single</th>\n",
       "      <th>clickTask_2.8.player.mf_01</th>\n",
       "      <th>clickTask_2.8.player.mf_02</th>\n",
       "      <th>clickTask_2.8.player.mf_03</th>\n",
       "      <th>clickTask_2.8.player.mf_04</th>\n",
       "      <th>clickTask_2.8.player.headset_comfort</th>\n",
       "      <th>clickTask_2.8.player.rest_actions_eo</th>\n",
       "      <th>clickTask_2.8.player.rest_actions_ec</th>\n",
       "      <th>clickTask_2.8.subsession.round_number</th>\n",
       "      <th>headphones_finish_2.1.player.feedback</th>\n",
       "      <th>headphones_finish_2.1.subsession.round_number</th>\n",
       "      <th>debriefing_2.1.subsession.round_number</th>\n",
       "      <th>headphones_setup_3.1.player.ux_comfort</th>\n",
       "      <th>headphones_setup_3.1.player.ux_speed</th>\n",
       "      <th>headphones_setup_3.1.player.ux_ease</th>\n",
       "      <th>headphones_setup_3.1.player.ux_look</th>\n",
       "      <th>headphones_setup_3.1.player.wx_public</th>\n",
       "      <th>headphones_setup_3.1.player.wx_private</th>\n",
       "      <th>headphones_setup_3.1.player.wx_conversation</th>\n",
       "      <th>headphones_setup_3.1.player.wx_others</th>\n",
       "      <th>headphones_setup_3.1.player.tlx_single</th>\n",
       "      <th>headphones_setup_3.1.player.sus_01</th>\n",
       "      <th>headphones_setup_3.1.player.sus_02</th>\n",
       "      <th>headphones_setup_3.1.player.sus_03</th>\n",
       "      <th>headphones_setup_3.1.player.sus_04</th>\n",
       "      <th>headphones_setup_3.1.player.sus_05</th>\n",
       "      <th>headphones_setup_3.1.player.sus_06</th>\n",
       "      <th>headphones_setup_3.1.player.sus_07</th>\n",
       "      <th>headphones_setup_3.1.player.sus_08</th>\n",
       "      <th>headphones_setup_3.1.player.sus_09</th>\n",
       "      <th>headphones_setup_3.1.player.sus_10</th>\n",
       "      <th>headphones_setup_3.1.player.mr_mood</th>\n",
       "      <th>headphones_setup_3.1.player.mr_sleepy</th>\n",
       "      <th>headphones_setup_3.1.player.mr_motivy</th>\n",
       "      <th>headphones_setup_3.1.player.mf_single</th>\n",
       "      <th>headphones_setup_3.1.player.mf_01</th>\n",
       "      <th>headphones_setup_3.1.player.mf_02</th>\n",
       "      <th>headphones_setup_3.1.player.mf_03</th>\n",
       "      <th>headphones_setup_3.1.player.mf_04</th>\n",
       "      <th>headphones_setup_3.1.player.rest_actions_eo</th>\n",
       "      <th>headphones_setup_3.1.player.rest_actions_ec</th>\n",
       "      <th>headphones_setup_3.1.player.break_activity</th>\n",
       "      <th>headphones_setup_3.1.subsession.round_number</th>\n",
       "      <th>mathTask_3.1.player.fss06</th>\n",
       "      <th>mathTask_3.1.player.fss08</th>\n",
       "      <th>mathTask_3.1.player.fss09</th>\n",
       "      <th>mathTask_3.1.player.tlx_single</th>\n",
       "      <th>mathTask_3.1.player.difficulty</th>\n",
       "      <th>mathTask_3.1.player.mr_mood</th>\n",
       "      <th>mathTask_3.1.player.mr_sleepy</th>\n",
       "      <th>mathTask_3.1.player.mr_motivy</th>\n",
       "      <th>mathTask_3.1.player.mf_single</th>\n",
       "      <th>mathTask_3.1.player.math_actions</th>\n",
       "      <th>mathTask_3.1.subsession.round_number</th>\n",
       "      <th>mathTask_3.2.player.fss06</th>\n",
       "      <th>mathTask_3.2.player.fss08</th>\n",
       "      <th>mathTask_3.2.player.fss09</th>\n",
       "      <th>mathTask_3.2.player.tlx_single</th>\n",
       "      <th>mathTask_3.2.player.difficulty</th>\n",
       "      <th>mathTask_3.2.player.mr_mood</th>\n",
       "      <th>mathTask_3.2.player.mr_sleepy</th>\n",
       "      <th>mathTask_3.2.player.mr_motivy</th>\n",
       "      <th>mathTask_3.2.player.mf_single</th>\n",
       "      <th>mathTask_3.2.player.math_actions</th>\n",
       "      <th>mathTask_3.2.subsession.round_number</th>\n",
       "      <th>mathTask_3.3.player.fss06</th>\n",
       "      <th>mathTask_3.3.player.fss08</th>\n",
       "      <th>mathTask_3.3.player.fss09</th>\n",
       "      <th>mathTask_3.3.player.tlx_single</th>\n",
       "      <th>mathTask_3.3.player.difficulty</th>\n",
       "      <th>mathTask_3.3.player.mr_mood</th>\n",
       "      <th>mathTask_3.3.player.mr_sleepy</th>\n",
       "      <th>mathTask_3.3.player.mr_motivy</th>\n",
       "      <th>mathTask_3.3.player.mf_single</th>\n",
       "      <th>mathTask_3.3.player.math_actions</th>\n",
       "      <th>mathTask_3.3.subsession.round_number</th>\n",
       "      <th>mathTask_3.4.player.fss06</th>\n",
       "      <th>mathTask_3.4.player.fss08</th>\n",
       "      <th>mathTask_3.4.player.fss09</th>\n",
       "      <th>mathTask_3.4.player.tlx_single</th>\n",
       "      <th>mathTask_3.4.player.difficulty</th>\n",
       "      <th>mathTask_3.4.player.mr_mood</th>\n",
       "      <th>mathTask_3.4.player.mr_sleepy</th>\n",
       "      <th>mathTask_3.4.player.mr_motivy</th>\n",
       "      <th>mathTask_3.4.player.mf_single</th>\n",
       "      <th>mathTask_3.4.player.math_actions</th>\n",
       "      <th>mathTask_3.4.subsession.round_number</th>\n",
       "      <th>mathTask_3.5.player.fss06</th>\n",
       "      <th>mathTask_3.5.player.fss08</th>\n",
       "      <th>mathTask_3.5.player.fss09</th>\n",
       "      <th>mathTask_3.5.player.tlx_single</th>\n",
       "      <th>mathTask_3.5.player.difficulty</th>\n",
       "      <th>mathTask_3.5.player.mr_mood</th>\n",
       "      <th>mathTask_3.5.player.mr_sleepy</th>\n",
       "      <th>mathTask_3.5.player.mr_motivy</th>\n",
       "      <th>mathTask_3.5.player.mf_single</th>\n",
       "      <th>mathTask_3.5.player.math_actions</th>\n",
       "      <th>mathTask_3.5.subsession.round_number</th>\n",
       "      <th>mathTask_3.6.player.fss06</th>\n",
       "      <th>mathTask_3.6.player.fss08</th>\n",
       "      <th>mathTask_3.6.player.fss09</th>\n",
       "      <th>mathTask_3.6.player.tlx_single</th>\n",
       "      <th>mathTask_3.6.player.difficulty</th>\n",
       "      <th>mathTask_3.6.player.mr_mood</th>\n",
       "      <th>mathTask_3.6.player.mr_sleepy</th>\n",
       "      <th>mathTask_3.6.player.mr_motivy</th>\n",
       "      <th>mathTask_3.6.player.mf_single</th>\n",
       "      <th>mathTask_3.6.player.math_actions</th>\n",
       "      <th>mathTask_3.6.subsession.round_number</th>\n",
       "      <th>mathTask_3.7.subsession.round_number</th>\n",
       "      <th>mathTask_3.8.player.tlx_single</th>\n",
       "      <th>mathTask_3.8.player.mr_mood</th>\n",
       "      <th>mathTask_3.8.player.mr_sleepy</th>\n",
       "      <th>mathTask_3.8.player.mr_motivy</th>\n",
       "      <th>mathTask_3.8.player.mf_single</th>\n",
       "      <th>mathTask_3.8.player.mf_01</th>\n",
       "      <th>mathTask_3.8.player.mf_02</th>\n",
       "      <th>mathTask_3.8.player.mf_03</th>\n",
       "      <th>mathTask_3.8.player.mf_04</th>\n",
       "      <th>mathTask_3.8.player.headset_comfort</th>\n",
       "      <th>mathTask_3.8.player.rest_actions_eo</th>\n",
       "      <th>mathTask_3.8.player.rest_actions_ec</th>\n",
       "      <th>mathTask_3.8.subsession.round_number</th>\n",
       "      <th>clickTask_3.1.player.fss06</th>\n",
       "      <th>clickTask_3.1.player.fss08</th>\n",
       "      <th>clickTask_3.1.player.fss09</th>\n",
       "      <th>clickTask_3.1.player.tlx_single</th>\n",
       "      <th>clickTask_3.1.player.difficulty</th>\n",
       "      <th>clickTask_3.1.player.mr_mood</th>\n",
       "      <th>clickTask_3.1.player.mr_sleepy</th>\n",
       "      <th>clickTask_3.1.player.mr_motivy</th>\n",
       "      <th>clickTask_3.1.player.mf_single</th>\n",
       "      <th>clickTask_3.1.player.click_actions</th>\n",
       "      <th>clickTask_3.1.subsession.round_number</th>\n",
       "      <th>clickTask_3.2.player.fss06</th>\n",
       "      <th>clickTask_3.2.player.fss08</th>\n",
       "      <th>clickTask_3.2.player.fss09</th>\n",
       "      <th>clickTask_3.2.player.tlx_single</th>\n",
       "      <th>clickTask_3.2.player.difficulty</th>\n",
       "      <th>clickTask_3.2.player.mr_mood</th>\n",
       "      <th>clickTask_3.2.player.mr_sleepy</th>\n",
       "      <th>clickTask_3.2.player.mr_motivy</th>\n",
       "      <th>clickTask_3.2.player.mf_single</th>\n",
       "      <th>clickTask_3.2.player.click_actions</th>\n",
       "      <th>clickTask_3.2.subsession.round_number</th>\n",
       "      <th>clickTask_3.3.player.fss06</th>\n",
       "      <th>clickTask_3.3.player.fss08</th>\n",
       "      <th>clickTask_3.3.player.fss09</th>\n",
       "      <th>clickTask_3.3.player.tlx_single</th>\n",
       "      <th>clickTask_3.3.player.difficulty</th>\n",
       "      <th>clickTask_3.3.player.mr_mood</th>\n",
       "      <th>clickTask_3.3.player.mr_sleepy</th>\n",
       "      <th>clickTask_3.3.player.mr_motivy</th>\n",
       "      <th>clickTask_3.3.player.mf_single</th>\n",
       "      <th>clickTask_3.3.player.click_actions</th>\n",
       "      <th>clickTask_3.3.subsession.round_number</th>\n",
       "      <th>clickTask_3.4.player.fss06</th>\n",
       "      <th>clickTask_3.4.player.fss08</th>\n",
       "      <th>clickTask_3.4.player.fss09</th>\n",
       "      <th>clickTask_3.4.player.tlx_single</th>\n",
       "      <th>clickTask_3.4.player.difficulty</th>\n",
       "      <th>clickTask_3.4.player.mr_mood</th>\n",
       "      <th>clickTask_3.4.player.mr_sleepy</th>\n",
       "      <th>clickTask_3.4.player.mr_motivy</th>\n",
       "      <th>clickTask_3.4.player.mf_single</th>\n",
       "      <th>clickTask_3.4.player.click_actions</th>\n",
       "      <th>clickTask_3.4.subsession.round_number</th>\n",
       "      <th>clickTask_3.5.player.fss06</th>\n",
       "      <th>clickTask_3.5.player.fss08</th>\n",
       "      <th>clickTask_3.5.player.fss09</th>\n",
       "      <th>clickTask_3.5.player.tlx_single</th>\n",
       "      <th>clickTask_3.5.player.difficulty</th>\n",
       "      <th>clickTask_3.5.player.mr_mood</th>\n",
       "      <th>clickTask_3.5.player.mr_sleepy</th>\n",
       "      <th>clickTask_3.5.player.mr_motivy</th>\n",
       "      <th>clickTask_3.5.player.mf_single</th>\n",
       "      <th>clickTask_3.5.player.click_actions</th>\n",
       "      <th>clickTask_3.5.subsession.round_number</th>\n",
       "      <th>clickTask_3.6.player.fss06</th>\n",
       "      <th>clickTask_3.6.player.fss08</th>\n",
       "      <th>clickTask_3.6.player.fss09</th>\n",
       "      <th>clickTask_3.6.player.tlx_single</th>\n",
       "      <th>clickTask_3.6.player.difficulty</th>\n",
       "      <th>clickTask_3.6.player.mr_mood</th>\n",
       "      <th>clickTask_3.6.player.mr_sleepy</th>\n",
       "      <th>clickTask_3.6.player.mr_motivy</th>\n",
       "      <th>clickTask_3.6.player.mf_single</th>\n",
       "      <th>clickTask_3.6.player.click_actions</th>\n",
       "      <th>clickTask_3.6.subsession.round_number</th>\n",
       "      <th>clickTask_3.7.subsession.round_number</th>\n",
       "      <th>clickTask_3.8.player.tlx_single</th>\n",
       "      <th>clickTask_3.8.player.mr_mood</th>\n",
       "      <th>clickTask_3.8.player.mr_sleepy</th>\n",
       "      <th>clickTask_3.8.player.mr_motivy</th>\n",
       "      <th>clickTask_3.8.player.mf_single</th>\n",
       "      <th>clickTask_3.8.player.mf_01</th>\n",
       "      <th>clickTask_3.8.player.mf_02</th>\n",
       "      <th>clickTask_3.8.player.mf_03</th>\n",
       "      <th>clickTask_3.8.player.mf_04</th>\n",
       "      <th>clickTask_3.8.player.headset_comfort</th>\n",
       "      <th>clickTask_3.8.player.rest_actions_eo</th>\n",
       "      <th>clickTask_3.8.player.rest_actions_ec</th>\n",
       "      <th>clickTask_3.8.subsession.round_number</th>\n",
       "      <th>headphones_finish_3.1.player.feedback</th>\n",
       "      <th>headphones_finish_3.1.subsession.round_number</th>\n",
       "      <th>debriefing_3.1.player.mathsRating</th>\n",
       "      <th>debriefing_3.1.player.clickRating</th>\n",
       "      <th>debriefing_3.1.player.mathSkill</th>\n",
       "      <th>debriefing_3.1.player.clickSkill</th>\n",
       "      <th>debriefing_3.1.subsession.round_number</th>\n",
       "    </tr>\n",
       "  </thead>\n",
       "  <tbody>\n",
       "    <tr>\n",
       "      <th>0</th>\n",
       "      <td>c84uz72q</td>\n",
       "      <td>373</td>\n",
       "      <td>373</td>\n",
       "      <td>2025-07-17 06:07:04.105845</td>\n",
       "      <td>anejys</td>\n",
       "      <td>Math_Whack</td>\n",
       "      <td>Green</td>\n",
       "      <td>anejys</td>\n",
       "      <td>Right</td>\n",
       "      <td>C2 Proficiency English – I can understand with...</td>\n",
       "      <td>Yes</td>\n",
       "      <td>34.0</td>\n",
       "      <td>Male</td>\n",
       "      <td>No</td>\n",
       "      <td>Yes</td>\n",
       "      <td>I can see all colors and hues</td>\n",
       "      <td>Yes</td>\n",
       "      <td>Student</td>\n",
       "      <td>Master</td>\n",
       "      <td>Medium</td>\n",
       "      <td>62.0</td>\n",
       "      <td>169.0</td>\n",
       "      <td>(Almost) No Hair (0-1cm)</td>\n",
       "      <td>Long (&gt;10mm)</td>\n",
       "      <td>Straight</td>\n",
       "      <td>Medium</td>\n",
       "      <td>No Beard (0mm)</td>\n",
       "      <td>No</td>\n",
       "      <td>Normal</td>\n",
       "      <td>Sometimes</td>\n",
       "      <td>Often</td>\n",
       "      <td>Never, or I never noticed it</td>\n",
       "      <td>No</td>\n",
       "      <td>In the last 12h</td>\n",
       "      <td>In the last hour</td>\n",
       "      <td>More than 24h / Never</td>\n",
       "      <td>More than 24h / Never</td>\n",
       "      <td>In the last 12h</td>\n",
       "      <td>3.0</td>\n",
       "      <td>3.0</td>\n",
       "      <td>4.0</td>\n",
       "      <td>3.0</td>\n",
       "      <td>4.0</td>\n",
       "      <td>5.0</td>\n",
       "      <td>3.0</td>\n",
       "      <td>4.0</td>\n",
       "      <td>6.0</td>\n",
       "      <td>6.0</td>\n",
       "      <td>3.0</td>\n",
       "      <td>100.0</td>\n",
       "      <td>4.0</td>\n",
       "      <td>7.0</td>\n",
       "      <td>6.0</td>\n",
       "      <td>4.0</td>\n",
       "      <td>3.0</td>\n",
       "      <td>4.0</td>\n",
       "      <td>2.0</td>\n",
       "      <td>4.0</td>\n",
       "      <td>4.0</td>\n",
       "      <td>3.0</td>\n",
       "      <td>2.0</td>\n",
       "      <td>1.0</td>\n",
       "      <td>2.0</td>\n",
       "      <td>4.0</td>\n",
       "      <td>1.0</td>\n",
       "      <td>2.0</td>\n",
       "      <td>1.0</td>\n",
       "      <td>4.0</td>\n",
       "      <td>1.0</td>\n",
       "      <td>83.0</td>\n",
       "      <td>88.0</td>\n",
       "      <td>90.0</td>\n",
       "      <td>1.0</td>\n",
       "      <td>3.0</td>\n",
       "      <td>3.0</td>\n",
       "      <td>3.0</td>\n",
       "      <td>3.0</td>\n",
       "      <td>;onLoad;Thu Jul 17 2025 08:49:43 GMT+0200 (Mit...</td>\n",
       "      <td>;onLoad;Thu Jul 17 2025 08:50:31 GMT+0200 (Mit...</td>\n",
       "      <td>1</td>\n",
       "      <td>7.0</td>\n",
       "      <td>7.0</td>\n",
       "      <td>5.0</td>\n",
       "      <td>19.0</td>\n",
       "      <td>5.0</td>\n",
       "      <td>89.0</td>\n",
       "      <td>90.0</td>\n",
       "      <td>92.0</td>\n",
       "      <td>93.0</td>\n",
       "      <td>;onLoad;Thu Jul 17 2025 08:52:29 GMT+0200 (Mit...</td>\n",
       "      <td>1</td>\n",
       "      <td>7.0</td>\n",
       "      <td>2.0</td>\n",
       "      <td>2.0</td>\n",
       "      <td>21.0</td>\n",
       "      <td>6.0</td>\n",
       "      <td>90.0</td>\n",
       "      <td>90.0</td>\n",
       "      <td>92.0</td>\n",
       "      <td>23.0</td>\n",
       "      <td>;onLoad;Thu Jul 17 2025 08:54:43 GMT+0200 (Mit...</td>\n",
       "      <td>2</td>\n",
       "      <td>7.0</td>\n",
       "      <td>7.0</td>\n",
       "      <td>4.0</td>\n",
       "      <td>20.0</td>\n",
       "      <td>5.0</td>\n",
       "      <td>90.0</td>\n",
       "      <td>92.0</td>\n",
       "      <td>91.0</td>\n",
       "      <td>11.0</td>\n",
       "      <td>;onLoad;Thu Jul 17 2025 08:56:35 GMT+0200 (Mit...</td>\n",
       "      <td>3</td>\n",
       "      <td>7.0</td>\n",
       "      <td>4.0</td>\n",
       "      <td>4.0</td>\n",
       "      <td>20.0</td>\n",
       "      <td>5.0</td>\n",
       "      <td>90.0</td>\n",
       "      <td>90.0</td>\n",
       "      <td>95.0</td>\n",
       "      <td>9.0</td>\n",
       "      <td>;onLoad;Thu Jul 17 2025 08:58:19 GMT+0200 (Mit...</td>\n",
       "      <td>4</td>\n",
       "      <td>7.0</td>\n",
       "      <td>7.0</td>\n",
       "      <td>5.0</td>\n",
       "      <td>21.0</td>\n",
       "      <td>5.0</td>\n",
       "      <td>89.0</td>\n",
       "      <td>90.0</td>\n",
       "      <td>90.0</td>\n",
       "      <td>26.0</td>\n",
       "      <td>;onLoad;Thu Jul 17 2025 09:00:03 GMT+0200 (Mit...</td>\n",
       "      <td>5</td>\n",
       "      <td>7.0</td>\n",
       "      <td>6.0</td>\n",
       "      <td>6.0</td>\n",
       "      <td>21.0</td>\n",
       "      <td>7.0</td>\n",
       "      <td>90.0</td>\n",
       "      <td>91.0</td>\n",
       "      <td>92.0</td>\n",
       "      <td>11.0</td>\n",
       "      <td>;onLoad;Thu Jul 17 2025 09:01:43 GMT+0200 (Mit...</td>\n",
       "      <td>6</td>\n",
       "      <td>7</td>\n",
       "      <td>7.0</td>\n",
       "      <td>88.0</td>\n",
       "      <td>89.0</td>\n",
       "      <td>91.0</td>\n",
       "      <td>17.0</td>\n",
       "      <td>3.0</td>\n",
       "      <td>6.0</td>\n",
       "      <td>3.0</td>\n",
       "      <td>3.0</td>\n",
       "      <td>6.0</td>\n",
       "      <td>;onLoad;Thu Jul 17 2025 09:03:21 GMT+0200 (Mit...</td>\n",
       "      <td>;onLoad;Thu Jul 17 2025 09:03:59 GMT+0200 (Mit...</td>\n",
       "      <td>8</td>\n",
       "      <td>7.0</td>\n",
       "      <td>7.0</td>\n",
       "      <td>7.0</td>\n",
       "      <td>20.0</td>\n",
       "      <td>2.0</td>\n",
       "      <td>87.0</td>\n",
       "      <td>91.0</td>\n",
       "      <td>93.0</td>\n",
       "      <td>10.0</td>\n",
       "      <td>;taskStart;Thu Jul 17 2025 09:05:51 GMT+0200 (...</td>\n",
       "      <td>1</td>\n",
       "      <td>7.0</td>\n",
       "      <td>7.0</td>\n",
       "      <td>4.0</td>\n",
       "      <td>21.0</td>\n",
       "      <td>3.0</td>\n",
       "      <td>82.0</td>\n",
       "      <td>85.0</td>\n",
       "      <td>88.0</td>\n",
       "      <td>17.0</td>\n",
       "      <td>;taskStart;Thu Jul 17 2025 09:07:36 GMT+0200 (...</td>\n",
       "      <td>2</td>\n",
       "      <td>7.0</td>\n",
       "      <td>7.0</td>\n",
       "      <td>7.0</td>\n",
       "      <td>21.0</td>\n",
       "      <td>3.0</td>\n",
       "      <td>96.0</td>\n",
       "      <td>95.0</td>\n",
       "      <td>93.0</td>\n",
       "      <td>23.0</td>\n",
       "      <td>;taskStart;Thu Jul 17 2025 09:09:10 GMT+0200 (...</td>\n",
       "      <td>3</td>\n",
       "      <td>7.0</td>\n",
       "      <td>7.0</td>\n",
       "      <td>7.0</td>\n",
       "      <td>18.0</td>\n",
       "      <td>4.0</td>\n",
       "      <td>87.0</td>\n",
       "      <td>88.0</td>\n",
       "      <td>85.0</td>\n",
       "      <td>13.0</td>\n",
       "      <td>;taskStart;Thu Jul 17 2025 09:10:46 GMT+0200 (...</td>\n",
       "      <td>4</td>\n",
       "      <td>7.0</td>\n",
       "      <td>7.0</td>\n",
       "      <td>7.0</td>\n",
       "      <td>18.0</td>\n",
       "      <td>4.0</td>\n",
       "      <td>72.0</td>\n",
       "      <td>72.0</td>\n",
       "      <td>76.0</td>\n",
       "      <td>27.0</td>\n",
       "      <td>;taskStart;Thu Jul 17 2025 09:12:21 GMT+0200 (...</td>\n",
       "      <td>5</td>\n",
       "      <td>7.0</td>\n",
       "      <td>6.0</td>\n",
       "      <td>6.0</td>\n",
       "      <td>19.0</td>\n",
       "      <td>5.0</td>\n",
       "      <td>88.0</td>\n",
       "      <td>89.0</td>\n",
       "      <td>90.0</td>\n",
       "      <td>25.0</td>\n",
       "      <td>;taskStart;Thu Jul 17 2025 09:13:57 GMT+0200 (...</td>\n",
       "      <td>6</td>\n",
       "      <td>7</td>\n",
       "      <td>8.0</td>\n",
       "      <td>87.0</td>\n",
       "      <td>88.0</td>\n",
       "      <td>90.0</td>\n",
       "      <td>31.0</td>\n",
       "      <td>4.0</td>\n",
       "      <td>6.0</td>\n",
       "      <td>5.0</td>\n",
       "      <td>5.0</td>\n",
       "      <td>6.0</td>\n",
       "      <td>;onLoad;Thu Jul 17 2025 09:15:39 GMT+0200 (Mit...</td>\n",
       "      <td>;onLoad;Thu Jul 17 2025 09:16:20 GMT+0200 (Mit...</td>\n",
       "      <td>8</td>\n",
       "      <td>Fun Experiment to do maths equation but lot of...</td>\n",
       "      <td>1</td>\n",
       "      <td>1</td>\n",
       "      <td>7.0</td>\n",
       "      <td>7.0</td>\n",
       "      <td>7.0</td>\n",
       "      <td>5.0</td>\n",
       "      <td>5.0</td>\n",
       "      <td>5.0</td>\n",
       "      <td>3.0</td>\n",
       "      <td>4.0</td>\n",
       "      <td>9.0</td>\n",
       "      <td>2.0</td>\n",
       "      <td>2.0</td>\n",
       "      <td>4.0</td>\n",
       "      <td>2.0</td>\n",
       "      <td>4.0</td>\n",
       "      <td>1.0</td>\n",
       "      <td>4.0</td>\n",
       "      <td>2.0</td>\n",
       "      <td>4.0</td>\n",
       "      <td>2.0</td>\n",
       "      <td>85.0</td>\n",
       "      <td>87.0</td>\n",
       "      <td>88.0</td>\n",
       "      <td>10.0</td>\n",
       "      <td>5.0</td>\n",
       "      <td>4.0</td>\n",
       "      <td>4.0</td>\n",
       "      <td>3.0</td>\n",
       "      <td>;onLoad;Thu Jul 17 2025 09:30:33 GMT+0200 (Mit...</td>\n",
       "      <td>;onLoad;Thu Jul 17 2025 09:31:08 GMT+0200 (Mit...</td>\n",
       "      <td>Take the breakfast</td>\n",
       "      <td>1</td>\n",
       "      <td>6.0</td>\n",
       "      <td>6.0</td>\n",
       "      <td>6.0</td>\n",
       "      <td>19.0</td>\n",
       "      <td>5.0</td>\n",
       "      <td>89.0</td>\n",
       "      <td>92.0</td>\n",
       "      <td>93.0</td>\n",
       "      <td>26.0</td>\n",
       "      <td>;onLoad;Thu Jul 17 2025 09:32:38 GMT+0200 (Mit...</td>\n",
       "      <td>1</td>\n",
       "      <td>6.0</td>\n",
       "      <td>6.0</td>\n",
       "      <td>6.0</td>\n",
       "      <td>17.0</td>\n",
       "      <td>6.0</td>\n",
       "      <td>89.0</td>\n",
       "      <td>86.0</td>\n",
       "      <td>87.0</td>\n",
       "      <td>24.0</td>\n",
       "      <td>;onLoad;Thu Jul 17 2025 09:36:19 GMT+0200 (Mit...</td>\n",
       "      <td>2</td>\n",
       "      <td>7.0</td>\n",
       "      <td>7.0</td>\n",
       "      <td>6.0</td>\n",
       "      <td>19.0</td>\n",
       "      <td>4.0</td>\n",
       "      <td>80.0</td>\n",
       "      <td>80.0</td>\n",
       "      <td>82.0</td>\n",
       "      <td>34.0</td>\n",
       "      <td>;onLoad;Thu Jul 17 2025 09:38:06 GMT+0200 (Mit...</td>\n",
       "      <td>3</td>\n",
       "      <td>7.0</td>\n",
       "      <td>6.0</td>\n",
       "      <td>6.0</td>\n",
       "      <td>15.0</td>\n",
       "      <td>5.0</td>\n",
       "      <td>85.0</td>\n",
       "      <td>85.0</td>\n",
       "      <td>88.0</td>\n",
       "      <td>19.0</td>\n",
       "      <td>;onLoad;Thu Jul 17 2025 09:39:45 GMT+0200 (Mit...</td>\n",
       "      <td>4</td>\n",
       "      <td>7.0</td>\n",
       "      <td>6.0</td>\n",
       "      <td>6.0</td>\n",
       "      <td>19.0</td>\n",
       "      <td>3.0</td>\n",
       "      <td>89.0</td>\n",
       "      <td>90.0</td>\n",
       "      <td>91.0</td>\n",
       "      <td>24.0</td>\n",
       "      <td>;onLoad;Thu Jul 17 2025 09:41:25 GMT+0200 (Mit...</td>\n",
       "      <td>5</td>\n",
       "      <td>7.0</td>\n",
       "      <td>4.0</td>\n",
       "      <td>6.0</td>\n",
       "      <td>20.0</td>\n",
       "      <td>6.0</td>\n",
       "      <td>89.0</td>\n",
       "      <td>90.0</td>\n",
       "      <td>90.0</td>\n",
       "      <td>14.0</td>\n",
       "      <td>;onLoad;Thu Jul 17 2025 09:43:00 GMT+0200 (Mit...</td>\n",
       "      <td>6</td>\n",
       "      <td>7</td>\n",
       "      <td>9.0</td>\n",
       "      <td>86.0</td>\n",
       "      <td>88.0</td>\n",
       "      <td>90.0</td>\n",
       "      <td>18.0</td>\n",
       "      <td>5.0</td>\n",
       "      <td>4.0</td>\n",
       "      <td>4.0</td>\n",
       "      <td>3.0</td>\n",
       "      <td>6.0</td>\n",
       "      <td>;onLoad;Thu Jul 17 2025 09:44:38 GMT+0200 (Mit...</td>\n",
       "      <td>;onLoad;Thu Jul 17 2025 09:45:11 GMT+0200 (Mit...</td>\n",
       "      <td>8</td>\n",
       "      <td>7.0</td>\n",
       "      <td>7.0</td>\n",
       "      <td>7.0</td>\n",
       "      <td>8.0</td>\n",
       "      <td>3.0</td>\n",
       "      <td>84.0</td>\n",
       "      <td>83.0</td>\n",
       "      <td>85.0</td>\n",
       "      <td>13.0</td>\n",
       "      <td>;taskStart;Thu Jul 17 2025 09:46:43 GMT+0200 (...</td>\n",
       "      <td>1</td>\n",
       "      <td>7.0</td>\n",
       "      <td>7.0</td>\n",
       "      <td>6.0</td>\n",
       "      <td>9.0</td>\n",
       "      <td>3.0</td>\n",
       "      <td>96.0</td>\n",
       "      <td>92.0</td>\n",
       "      <td>91.0</td>\n",
       "      <td>25.0</td>\n",
       "      <td>;taskStart;Thu Jul 17 2025 09:48:18 GMT+0200 (...</td>\n",
       "      <td>2</td>\n",
       "      <td>7.0</td>\n",
       "      <td>7.0</td>\n",
       "      <td>6.0</td>\n",
       "      <td>13.0</td>\n",
       "      <td>5.0</td>\n",
       "      <td>90.0</td>\n",
       "      <td>88.0</td>\n",
       "      <td>85.0</td>\n",
       "      <td>27.0</td>\n",
       "      <td>;taskStart;Thu Jul 17 2025 09:49:52 GMT+0200 (...</td>\n",
       "      <td>3</td>\n",
       "      <td>7.0</td>\n",
       "      <td>5.0</td>\n",
       "      <td>6.0</td>\n",
       "      <td>15.0</td>\n",
       "      <td>6.0</td>\n",
       "      <td>86.0</td>\n",
       "      <td>88.0</td>\n",
       "      <td>88.0</td>\n",
       "      <td>24.0</td>\n",
       "      <td>;taskStart;Thu Jul 17 2025 09:51:27 GMT+0200 (...</td>\n",
       "      <td>4</td>\n",
       "      <td>6.0</td>\n",
       "      <td>7.0</td>\n",
       "      <td>6.0</td>\n",
       "      <td>8.0</td>\n",
       "      <td>3.0</td>\n",
       "      <td>91.0</td>\n",
       "      <td>92.0</td>\n",
       "      <td>89.0</td>\n",
       "      <td>18.0</td>\n",
       "      <td>;taskStart;Thu Jul 17 2025 09:53:10 GMT+0200 (...</td>\n",
       "      <td>5</td>\n",
       "      <td>6.0</td>\n",
       "      <td>6.0</td>\n",
       "      <td>6.0</td>\n",
       "      <td>16.0</td>\n",
       "      <td>5.0</td>\n",
       "      <td>81.0</td>\n",
       "      <td>82.0</td>\n",
       "      <td>84.0</td>\n",
       "      <td>26.0</td>\n",
       "      <td>;taskStart;Thu Jul 17 2025 09:54:40 GMT+0200 (...</td>\n",
       "      <td>6</td>\n",
       "      <td>7</td>\n",
       "      <td>13.0</td>\n",
       "      <td>81.0</td>\n",
       "      <td>83.0</td>\n",
       "      <td>83.0</td>\n",
       "      <td>11.0</td>\n",
       "      <td>4.0</td>\n",
       "      <td>4.0</td>\n",
       "      <td>4.0</td>\n",
       "      <td>3.0</td>\n",
       "      <td>4.0</td>\n",
       "      <td>;onLoad;Thu Jul 17 2025 09:56:14 GMT+0200 (Mit...</td>\n",
       "      <td>;onLoad;Thu Jul 17 2025 09:56:51 GMT+0200 (Mit...</td>\n",
       "      <td>8</td>\n",
       "      <td>More mathematics and fast movemnt to click was...</td>\n",
       "      <td>1</td>\n",
       "      <td>1</td>\n",
       "      <td>7.0</td>\n",
       "      <td>7.0</td>\n",
       "      <td>6.0</td>\n",
       "      <td>6.0</td>\n",
       "      <td>5.0</td>\n",
       "      <td>6.0</td>\n",
       "      <td>4.0</td>\n",
       "      <td>3.0</td>\n",
       "      <td>7.0</td>\n",
       "      <td>2.0</td>\n",
       "      <td>2.0</td>\n",
       "      <td>2.0</td>\n",
       "      <td>2.0</td>\n",
       "      <td>5.0</td>\n",
       "      <td>1.0</td>\n",
       "      <td>2.0</td>\n",
       "      <td>4.0</td>\n",
       "      <td>2.0</td>\n",
       "      <td>1.0</td>\n",
       "      <td>81.0</td>\n",
       "      <td>82.0</td>\n",
       "      <td>84.0</td>\n",
       "      <td>16.0</td>\n",
       "      <td>5.0</td>\n",
       "      <td>5.0</td>\n",
       "      <td>3.0</td>\n",
       "      <td>3.0</td>\n",
       "      <td>;onLoad;Thu Jul 17 2025 10:10:15 GMT+0200 (Mit...</td>\n",
       "      <td>;onLoad;Thu Jul 17 2025 10:10:51 GMT+0200 (Mit...</td>\n",
       "      <td>drink water , check the mesages on mobile and ...</td>\n",
       "      <td>1</td>\n",
       "      <td>7.0</td>\n",
       "      <td>7.0</td>\n",
       "      <td>6.0</td>\n",
       "      <td>14.0</td>\n",
       "      <td>3.0</td>\n",
       "      <td>86.0</td>\n",
       "      <td>86.0</td>\n",
       "      <td>85.0</td>\n",
       "      <td>25.0</td>\n",
       "      <td>;onLoad;Thu Jul 17 2025 10:12:07 GMT+0200 (Mit...</td>\n",
       "      <td>1</td>\n",
       "      <td>7.0</td>\n",
       "      <td>5.0</td>\n",
       "      <td>4.0</td>\n",
       "      <td>17.0</td>\n",
       "      <td>5.0</td>\n",
       "      <td>92.0</td>\n",
       "      <td>90.0</td>\n",
       "      <td>92.0</td>\n",
       "      <td>8.0</td>\n",
       "      <td>;onLoad;Thu Jul 17 2025 10:13:41 GMT+0200 (Mit...</td>\n",
       "      <td>2</td>\n",
       "      <td>7.0</td>\n",
       "      <td>7.0</td>\n",
       "      <td>7.0</td>\n",
       "      <td>13.0</td>\n",
       "      <td>3.0</td>\n",
       "      <td>89.0</td>\n",
       "      <td>91.0</td>\n",
       "      <td>91.0</td>\n",
       "      <td>23.0</td>\n",
       "      <td>;onLoad;Thu Jul 17 2025 10:15:13 GMT+0200 (Mit...</td>\n",
       "      <td>3</td>\n",
       "      <td>7.0</td>\n",
       "      <td>6.0</td>\n",
       "      <td>5.0</td>\n",
       "      <td>20.0</td>\n",
       "      <td>5.0</td>\n",
       "      <td>79.0</td>\n",
       "      <td>80.0</td>\n",
       "      <td>81.0</td>\n",
       "      <td>22.0</td>\n",
       "      <td>;onLoad;Thu Jul 17 2025 10:16:42 GMT+0200 (Mit...</td>\n",
       "      <td>4</td>\n",
       "      <td>7.0</td>\n",
       "      <td>7.0</td>\n",
       "      <td>6.0</td>\n",
       "      <td>14.0</td>\n",
       "      <td>5.0</td>\n",
       "      <td>87.0</td>\n",
       "      <td>88.0</td>\n",
       "      <td>88.0</td>\n",
       "      <td>14.0</td>\n",
       "      <td>;onLoad;Thu Jul 17 2025 10:18:14 GMT+0200 (Mit...</td>\n",
       "      <td>5</td>\n",
       "      <td>7.0</td>\n",
       "      <td>5.0</td>\n",
       "      <td>6.0</td>\n",
       "      <td>17.0</td>\n",
       "      <td>6.0</td>\n",
       "      <td>87.0</td>\n",
       "      <td>89.0</td>\n",
       "      <td>90.0</td>\n",
       "      <td>22.0</td>\n",
       "      <td>;onLoad;Thu Jul 17 2025 10:19:52 GMT+0200 (Mit...</td>\n",
       "      <td>6</td>\n",
       "      <td>7</td>\n",
       "      <td>16.0</td>\n",
       "      <td>80.0</td>\n",
       "      <td>84.0</td>\n",
       "      <td>85.0</td>\n",
       "      <td>6.0</td>\n",
       "      <td>3.0</td>\n",
       "      <td>3.0</td>\n",
       "      <td>4.0</td>\n",
       "      <td>3.0</td>\n",
       "      <td>6.0</td>\n",
       "      <td>;onLoad;Thu Jul 17 2025 10:21:16 GMT+0200 (Mit...</td>\n",
       "      <td>;onLoad;Thu Jul 17 2025 10:21:50 GMT+0200 (Mit...</td>\n",
       "      <td>8</td>\n",
       "      <td>6.0</td>\n",
       "      <td>6.0</td>\n",
       "      <td>6.0</td>\n",
       "      <td>4.0</td>\n",
       "      <td>6.0</td>\n",
       "      <td>88.0</td>\n",
       "      <td>89.0</td>\n",
       "      <td>91.0</td>\n",
       "      <td>22.0</td>\n",
       "      <td>;taskStart;Thu Jul 17 2025 10:22:50 GMT+0200 (...</td>\n",
       "      <td>1</td>\n",
       "      <td>6.0</td>\n",
       "      <td>6.0</td>\n",
       "      <td>6.0</td>\n",
       "      <td>15.0</td>\n",
       "      <td>2.0</td>\n",
       "      <td>98.0</td>\n",
       "      <td>95.0</td>\n",
       "      <td>96.0</td>\n",
       "      <td>18.0</td>\n",
       "      <td>;taskStart;Thu Jul 17 2025 10:24:14 GMT+0200 (...</td>\n",
       "      <td>2</td>\n",
       "      <td>6.0</td>\n",
       "      <td>6.0</td>\n",
       "      <td>6.0</td>\n",
       "      <td>17.0</td>\n",
       "      <td>2.0</td>\n",
       "      <td>87.0</td>\n",
       "      <td>87.0</td>\n",
       "      <td>88.0</td>\n",
       "      <td>22.0</td>\n",
       "      <td>;taskStart;Thu Jul 17 2025 10:25:41 GMT+0200 (...</td>\n",
       "      <td>3</td>\n",
       "      <td>6.0</td>\n",
       "      <td>6.0</td>\n",
       "      <td>7.0</td>\n",
       "      <td>9.0</td>\n",
       "      <td>5.0</td>\n",
       "      <td>88.0</td>\n",
       "      <td>90.0</td>\n",
       "      <td>91.0</td>\n",
       "      <td>28.0</td>\n",
       "      <td>;taskStart;Thu Jul 17 2025 10:27:05 GMT+0200 (...</td>\n",
       "      <td>4</td>\n",
       "      <td>6.0</td>\n",
       "      <td>7.0</td>\n",
       "      <td>7.0</td>\n",
       "      <td>9.0</td>\n",
       "      <td>3.0</td>\n",
       "      <td>86.0</td>\n",
       "      <td>88.0</td>\n",
       "      <td>91.0</td>\n",
       "      <td>27.0</td>\n",
       "      <td>;taskStart;Thu Jul 17 2025 10:28:33 GMT+0200 (...</td>\n",
       "      <td>5</td>\n",
       "      <td>6.0</td>\n",
       "      <td>6.0</td>\n",
       "      <td>6.0</td>\n",
       "      <td>14.0</td>\n",
       "      <td>3.0</td>\n",
       "      <td>82.0</td>\n",
       "      <td>84.0</td>\n",
       "      <td>86.0</td>\n",
       "      <td>20.0</td>\n",
       "      <td>;taskStart;Thu Jul 17 2025 10:30:00 GMT+0200 (...</td>\n",
       "      <td>6</td>\n",
       "      <td>7</td>\n",
       "      <td>18.0</td>\n",
       "      <td>82.0</td>\n",
       "      <td>85.0</td>\n",
       "      <td>89.0</td>\n",
       "      <td>11.0</td>\n",
       "      <td>3.0</td>\n",
       "      <td>3.0</td>\n",
       "      <td>3.0</td>\n",
       "      <td>3.0</td>\n",
       "      <td>6.0</td>\n",
       "      <td>;onLoad;Thu Jul 17 2025 10:31:23 GMT+0200 (Mit...</td>\n",
       "      <td>;onLoad;Thu Jul 17 2025 10:31:57 GMT+0200 (Mit...</td>\n",
       "      <td>8</td>\n",
       "      <td>Headset was comfortable , as comparted to prer...</td>\n",
       "      <td>1</td>\n",
       "      <td>5.0</td>\n",
       "      <td>5.0</td>\n",
       "      <td>4.0</td>\n",
       "      <td>4.0</td>\n",
       "      <td>1</td>\n",
       "    </tr>\n",
       "    <tr>\n",
       "      <th>1</th>\n",
       "      <td>c6b9o7pz</td>\n",
       "      <td>373</td>\n",
       "      <td>373</td>\n",
       "      <td>2025-07-17 06:07:36.639569</td>\n",
       "      <td>az2bj9</td>\n",
       "      <td>Math_Whack</td>\n",
       "      <td>White</td>\n",
       "      <td>az2bj9</td>\n",
       "      <td>Right</td>\n",
       "      <td>C2 Proficiency English – I can understand with...</td>\n",
       "      <td>Yes</td>\n",
       "      <td>29.0</td>\n",
       "      <td>Male</td>\n",
       "      <td>No</td>\n",
       "      <td>Yes</td>\n",
       "      <td>I can see all colors and hues</td>\n",
       "      <td>Yes</td>\n",
       "      <td>Student</td>\n",
       "      <td>Bachelor</td>\n",
       "      <td>Medium</td>\n",
       "      <td>79.0</td>\n",
       "      <td>176.0</td>\n",
       "      <td>Very Short (1-10cm)</td>\n",
       "      <td>Medium (5-10mm)</td>\n",
       "      <td>Straight</td>\n",
       "      <td>High (Dense/Thick Hair)</td>\n",
       "      <td>Light Stubble (0-5mm)</td>\n",
       "      <td>No</td>\n",
       "      <td>Normal</td>\n",
       "      <td>Sometimes</td>\n",
       "      <td>I don’t wear products on my face</td>\n",
       "      <td>Never, or I never noticed it</td>\n",
       "      <td>No</td>\n",
       "      <td>In the last 12h</td>\n",
       "      <td>In the last 12h</td>\n",
       "      <td>In the last 24h</td>\n",
       "      <td>More than 24h / Never</td>\n",
       "      <td>More than 24h / Never</td>\n",
       "      <td>4.0</td>\n",
       "      <td>5.0</td>\n",
       "      <td>5.0</td>\n",
       "      <td>5.0</td>\n",
       "      <td>3.0</td>\n",
       "      <td>3.0</td>\n",
       "      <td>3.0</td>\n",
       "      <td>4.0</td>\n",
       "      <td>3.0</td>\n",
       "      <td>3.0</td>\n",
       "      <td>3.0</td>\n",
       "      <td>33.0</td>\n",
       "      <td>5.0</td>\n",
       "      <td>7.0</td>\n",
       "      <td>7.0</td>\n",
       "      <td>7.0</td>\n",
       "      <td>5.0</td>\n",
       "      <td>6.0</td>\n",
       "      <td>7.0</td>\n",
       "      <td>3.0</td>\n",
       "      <td>5.0</td>\n",
       "      <td>4.0</td>\n",
       "      <td>1.0</td>\n",
       "      <td>5.0</td>\n",
       "      <td>1.0</td>\n",
       "      <td>4.0</td>\n",
       "      <td>1.0</td>\n",
       "      <td>5.0</td>\n",
       "      <td>2.0</td>\n",
       "      <td>5.0</td>\n",
       "      <td>1.0</td>\n",
       "      <td>59.0</td>\n",
       "      <td>60.0</td>\n",
       "      <td>70.0</td>\n",
       "      <td>50.0</td>\n",
       "      <td>5.0</td>\n",
       "      <td>5.0</td>\n",
       "      <td>3.0</td>\n",
       "      <td>3.0</td>\n",
       "      <td>;onLoad;Thu Jul 17 2025 09:09:51 GMT+0200 (Mit...</td>\n",
       "      <td>;onLoad;Thu Jul 17 2025 09:10:54 GMT+0200 (Mit...</td>\n",
       "      <td>1</td>\n",
       "      <td>7.0</td>\n",
       "      <td>7.0</td>\n",
       "      <td>7.0</td>\n",
       "      <td>15.0</td>\n",
       "      <td>2.0</td>\n",
       "      <td>76.0</td>\n",
       "      <td>78.0</td>\n",
       "      <td>82.0</td>\n",
       "      <td>31.0</td>\n",
       "      <td>;onLoad;Thu Jul 17 2025 09:13:15 GMT+0200 (Mit...</td>\n",
       "      <td>1</td>\n",
       "      <td>7.0</td>\n",
       "      <td>7.0</td>\n",
       "      <td>6.0</td>\n",
       "      <td>16.0</td>\n",
       "      <td>4.0</td>\n",
       "      <td>81.0</td>\n",
       "      <td>80.0</td>\n",
       "      <td>83.0</td>\n",
       "      <td>41.0</td>\n",
       "      <td>;onLoad;Thu Jul 17 2025 09:15:15 GMT+0200 (Mit...</td>\n",
       "      <td>2</td>\n",
       "      <td>7.0</td>\n",
       "      <td>7.0</td>\n",
       "      <td>7.0</td>\n",
       "      <td>13.0</td>\n",
       "      <td>3.0</td>\n",
       "      <td>68.0</td>\n",
       "      <td>71.0</td>\n",
       "      <td>72.0</td>\n",
       "      <td>32.0</td>\n",
       "      <td>;onLoad;Thu Jul 17 2025 09:16:57 GMT+0200 (Mit...</td>\n",
       "      <td>3</td>\n",
       "      <td>7.0</td>\n",
       "      <td>7.0</td>\n",
       "      <td>7.0</td>\n",
       "      <td>13.0</td>\n",
       "      <td>3.0</td>\n",
       "      <td>78.0</td>\n",
       "      <td>80.0</td>\n",
       "      <td>84.0</td>\n",
       "      <td>40.0</td>\n",
       "      <td>;onLoad;Thu Jul 17 2025 09:18:29 GMT+0200 (Mit...</td>\n",
       "      <td>4</td>\n",
       "      <td>7.0</td>\n",
       "      <td>7.0</td>\n",
       "      <td>7.0</td>\n",
       "      <td>9.0</td>\n",
       "      <td>2.0</td>\n",
       "      <td>79.0</td>\n",
       "      <td>78.0</td>\n",
       "      <td>82.0</td>\n",
       "      <td>24.0</td>\n",
       "      <td>;onLoad;Thu Jul 17 2025 09:19:59 GMT+0200 (Mit...</td>\n",
       "      <td>5</td>\n",
       "      <td>7.0</td>\n",
       "      <td>7.0</td>\n",
       "      <td>7.0</td>\n",
       "      <td>16.0</td>\n",
       "      <td>3.0</td>\n",
       "      <td>58.0</td>\n",
       "      <td>81.0</td>\n",
       "      <td>83.0</td>\n",
       "      <td>40.0</td>\n",
       "      <td>;onLoad;Thu Jul 17 2025 09:21:38 GMT+0200 (Mit...</td>\n",
       "      <td>6</td>\n",
       "      <td>7</td>\n",
       "      <td>4.0</td>\n",
       "      <td>72.0</td>\n",
       "      <td>73.0</td>\n",
       "      <td>72.0</td>\n",
       "      <td>27.0</td>\n",
       "      <td>7.0</td>\n",
       "      <td>7.0</td>\n",
       "      <td>2.0</td>\n",
       "      <td>2.0</td>\n",
       "      <td>4.0</td>\n",
       "      <td>;onLoad;Thu Jul 17 2025 09:23:12 GMT+0200 (Mit...</td>\n",
       "      <td>;onLoad;Thu Jul 17 2025 09:23:55 GMT+0200 (Mit...</td>\n",
       "      <td>8</td>\n",
       "      <td>7.0</td>\n",
       "      <td>7.0</td>\n",
       "      <td>7.0</td>\n",
       "      <td>8.0</td>\n",
       "      <td>2.0</td>\n",
       "      <td>78.0</td>\n",
       "      <td>79.0</td>\n",
       "      <td>82.0</td>\n",
       "      <td>25.0</td>\n",
       "      <td>;taskStart;Thu Jul 17 2025 09:25:27 GMT+0200 (...</td>\n",
       "      <td>1</td>\n",
       "      <td>7.0</td>\n",
       "      <td>7.0</td>\n",
       "      <td>7.0</td>\n",
       "      <td>16.0</td>\n",
       "      <td>3.0</td>\n",
       "      <td>76.0</td>\n",
       "      <td>89.0</td>\n",
       "      <td>82.0</td>\n",
       "      <td>21.0</td>\n",
       "      <td>;taskStart;Thu Jul 17 2025 09:26:58 GMT+0200 (...</td>\n",
       "      <td>2</td>\n",
       "      <td>7.0</td>\n",
       "      <td>7.0</td>\n",
       "      <td>7.0</td>\n",
       "      <td>7.0</td>\n",
       "      <td>2.0</td>\n",
       "      <td>72.0</td>\n",
       "      <td>77.0</td>\n",
       "      <td>81.0</td>\n",
       "      <td>26.0</td>\n",
       "      <td>;taskStart;Thu Jul 17 2025 09:28:29 GMT+0200 (...</td>\n",
       "      <td>3</td>\n",
       "      <td>7.0</td>\n",
       "      <td>7.0</td>\n",
       "      <td>7.0</td>\n",
       "      <td>15.0</td>\n",
       "      <td>3.0</td>\n",
       "      <td>82.0</td>\n",
       "      <td>83.0</td>\n",
       "      <td>84.0</td>\n",
       "      <td>19.0</td>\n",
       "      <td>;taskStart;Thu Jul 17 2025 09:29:56 GMT+0200 (...</td>\n",
       "      <td>4</td>\n",
       "      <td>7.0</td>\n",
       "      <td>7.0</td>\n",
       "      <td>7.0</td>\n",
       "      <td>8.0</td>\n",
       "      <td>2.0</td>\n",
       "      <td>80.0</td>\n",
       "      <td>82.0</td>\n",
       "      <td>82.0</td>\n",
       "      <td>18.0</td>\n",
       "      <td>;taskStart;Thu Jul 17 2025 09:31:29 GMT+0200 (...</td>\n",
       "      <td>5</td>\n",
       "      <td>7.0</td>\n",
       "      <td>7.0</td>\n",
       "      <td>7.0</td>\n",
       "      <td>15.0</td>\n",
       "      <td>2.0</td>\n",
       "      <td>77.0</td>\n",
       "      <td>83.0</td>\n",
       "      <td>84.0</td>\n",
       "      <td>30.0</td>\n",
       "      <td>;taskStart;Thu Jul 17 2025 09:33:02 GMT+0200 (...</td>\n",
       "      <td>6</td>\n",
       "      <td>7</td>\n",
       "      <td>2.0</td>\n",
       "      <td>77.0</td>\n",
       "      <td>79.0</td>\n",
       "      <td>79.0</td>\n",
       "      <td>19.0</td>\n",
       "      <td>7.0</td>\n",
       "      <td>7.0</td>\n",
       "      <td>1.0</td>\n",
       "      <td>2.0</td>\n",
       "      <td>4.0</td>\n",
       "      <td>;onLoad;Thu Jul 17 2025 09:34:33 GMT+0200 (Mit...</td>\n",
       "      <td>;onLoad;Thu Jul 17 2025 09:35:09 GMT+0200 (Mit...</td>\n",
       "      <td>8</td>\n",
       "      <td>NaN</td>\n",
       "      <td>1</td>\n",
       "      <td>1</td>\n",
       "      <td>4.0</td>\n",
       "      <td>6.0</td>\n",
       "      <td>6.0</td>\n",
       "      <td>3.0</td>\n",
       "      <td>4.0</td>\n",
       "      <td>6.0</td>\n",
       "      <td>6.0</td>\n",
       "      <td>4.0</td>\n",
       "      <td>1.0</td>\n",
       "      <td>3.0</td>\n",
       "      <td>1.0</td>\n",
       "      <td>5.0</td>\n",
       "      <td>1.0</td>\n",
       "      <td>5.0</td>\n",
       "      <td>1.0</td>\n",
       "      <td>5.0</td>\n",
       "      <td>1.0</td>\n",
       "      <td>5.0</td>\n",
       "      <td>1.0</td>\n",
       "      <td>73.0</td>\n",
       "      <td>63.0</td>\n",
       "      <td>79.0</td>\n",
       "      <td>78.0</td>\n",
       "      <td>7.0</td>\n",
       "      <td>7.0</td>\n",
       "      <td>1.0</td>\n",
       "      <td>2.0</td>\n",
       "      <td>;onLoad;Thu Jul 17 2025 09:49:55 GMT+0200 (Mit...</td>\n",
       "      <td>;onLoad;Thu Jul 17 2025 09:50:30 GMT+0200 (Mit...</td>\n",
       "      <td>nothing</td>\n",
       "      <td>1</td>\n",
       "      <td>7.0</td>\n",
       "      <td>7.0</td>\n",
       "      <td>7.0</td>\n",
       "      <td>13.0</td>\n",
       "      <td>2.0</td>\n",
       "      <td>69.0</td>\n",
       "      <td>70.0</td>\n",
       "      <td>72.0</td>\n",
       "      <td>15.0</td>\n",
       "      <td>;onLoad;Thu Jul 17 2025 09:51:28 GMT+0200 (Mit...</td>\n",
       "      <td>1</td>\n",
       "      <td>7.0</td>\n",
       "      <td>7.0</td>\n",
       "      <td>7.0</td>\n",
       "      <td>19.0</td>\n",
       "      <td>5.0</td>\n",
       "      <td>44.0</td>\n",
       "      <td>82.0</td>\n",
       "      <td>82.0</td>\n",
       "      <td>17.0</td>\n",
       "      <td>;onLoad;Thu Jul 17 2025 09:52:59 GMT+0200 (Mit...</td>\n",
       "      <td>2</td>\n",
       "      <td>7.0</td>\n",
       "      <td>7.0</td>\n",
       "      <td>7.0</td>\n",
       "      <td>18.0</td>\n",
       "      <td>2.0</td>\n",
       "      <td>81.0</td>\n",
       "      <td>78.0</td>\n",
       "      <td>79.0</td>\n",
       "      <td>9.0</td>\n",
       "      <td>;onLoad;Thu Jul 17 2025 09:54:34 GMT+0200 (Mit...</td>\n",
       "      <td>3</td>\n",
       "      <td>7.0</td>\n",
       "      <td>7.0</td>\n",
       "      <td>7.0</td>\n",
       "      <td>19.0</td>\n",
       "      <td>4.0</td>\n",
       "      <td>59.0</td>\n",
       "      <td>84.0</td>\n",
       "      <td>87.0</td>\n",
       "      <td>13.0</td>\n",
       "      <td>;onLoad;Thu Jul 17 2025 09:56:05 GMT+0200 (Mit...</td>\n",
       "      <td>4</td>\n",
       "      <td>7.0</td>\n",
       "      <td>7.0</td>\n",
       "      <td>7.0</td>\n",
       "      <td>9.0</td>\n",
       "      <td>3.0</td>\n",
       "      <td>40.0</td>\n",
       "      <td>80.0</td>\n",
       "      <td>82.0</td>\n",
       "      <td>22.0</td>\n",
       "      <td>;onLoad;Thu Jul 17 2025 09:57:34 GMT+0200 (Mit...</td>\n",
       "      <td>5</td>\n",
       "      <td>7.0</td>\n",
       "      <td>7.0</td>\n",
       "      <td>7.0</td>\n",
       "      <td>15.0</td>\n",
       "      <td>3.0</td>\n",
       "      <td>77.0</td>\n",
       "      <td>83.0</td>\n",
       "      <td>83.0</td>\n",
       "      <td>14.0</td>\n",
       "      <td>;onLoad;Thu Jul 17 2025 09:59:17 GMT+0200 (Mit...</td>\n",
       "      <td>6</td>\n",
       "      <td>7</td>\n",
       "      <td>3.0</td>\n",
       "      <td>70.0</td>\n",
       "      <td>75.0</td>\n",
       "      <td>79.0</td>\n",
       "      <td>10.0</td>\n",
       "      <td>7.0</td>\n",
       "      <td>7.0</td>\n",
       "      <td>1.0</td>\n",
       "      <td>2.0</td>\n",
       "      <td>4.0</td>\n",
       "      <td>;onLoad;Thu Jul 17 2025 10:00:43 GMT+0200 (Mit...</td>\n",
       "      <td>;onLoad;Thu Jul 17 2025 10:01:19 GMT+0200 (Mit...</td>\n",
       "      <td>8</td>\n",
       "      <td>7.0</td>\n",
       "      <td>7.0</td>\n",
       "      <td>7.0</td>\n",
       "      <td>6.0</td>\n",
       "      <td>2.0</td>\n",
       "      <td>74.0</td>\n",
       "      <td>79.0</td>\n",
       "      <td>79.0</td>\n",
       "      <td>15.0</td>\n",
       "      <td>;taskStart;Thu Jul 17 2025 10:02:11 GMT+0200 (...</td>\n",
       "      <td>1</td>\n",
       "      <td>7.0</td>\n",
       "      <td>7.0</td>\n",
       "      <td>7.0</td>\n",
       "      <td>17.0</td>\n",
       "      <td>5.0</td>\n",
       "      <td>80.0</td>\n",
       "      <td>83.0</td>\n",
       "      <td>88.0</td>\n",
       "      <td>12.0</td>\n",
       "      <td>;taskStart;Thu Jul 17 2025 10:03:40 GMT+0200 (...</td>\n",
       "      <td>2</td>\n",
       "      <td>7.0</td>\n",
       "      <td>7.0</td>\n",
       "      <td>7.0</td>\n",
       "      <td>7.0</td>\n",
       "      <td>2.0</td>\n",
       "      <td>78.0</td>\n",
       "      <td>81.0</td>\n",
       "      <td>81.0</td>\n",
       "      <td>19.0</td>\n",
       "      <td>;taskStart;Thu Jul 17 2025 10:05:11 GMT+0200 (...</td>\n",
       "      <td>3</td>\n",
       "      <td>7.0</td>\n",
       "      <td>7.0</td>\n",
       "      <td>7.0</td>\n",
       "      <td>6.0</td>\n",
       "      <td>2.0</td>\n",
       "      <td>74.0</td>\n",
       "      <td>79.0</td>\n",
       "      <td>69.0</td>\n",
       "      <td>13.0</td>\n",
       "      <td>;taskStart;Thu Jul 17 2025 10:06:42 GMT+0200 (...</td>\n",
       "      <td>4</td>\n",
       "      <td>7.0</td>\n",
       "      <td>7.0</td>\n",
       "      <td>7.0</td>\n",
       "      <td>17.0</td>\n",
       "      <td>6.0</td>\n",
       "      <td>80.0</td>\n",
       "      <td>82.0</td>\n",
       "      <td>76.0</td>\n",
       "      <td>26.0</td>\n",
       "      <td>;taskStart;Thu Jul 17 2025 10:08:12 GMT+0200 (...</td>\n",
       "      <td>5</td>\n",
       "      <td>7.0</td>\n",
       "      <td>7.0</td>\n",
       "      <td>7.0</td>\n",
       "      <td>16.0</td>\n",
       "      <td>3.0</td>\n",
       "      <td>80.0</td>\n",
       "      <td>83.0</td>\n",
       "      <td>77.0</td>\n",
       "      <td>17.0</td>\n",
       "      <td>;taskStart;Thu Jul 17 2025 10:09:39 GMT+0200 (...</td>\n",
       "      <td>6</td>\n",
       "      <td>7</td>\n",
       "      <td>2.0</td>\n",
       "      <td>73.0</td>\n",
       "      <td>77.0</td>\n",
       "      <td>71.0</td>\n",
       "      <td>14.0</td>\n",
       "      <td>7.0</td>\n",
       "      <td>7.0</td>\n",
       "      <td>1.0</td>\n",
       "      <td>2.0</td>\n",
       "      <td>4.0</td>\n",
       "      <td>;onLoad;Thu Jul 17 2025 10:11:07 GMT+0200 (Mit...</td>\n",
       "      <td>;onLoad;Thu Jul 17 2025 10:11:43 GMT+0200 (Mit...</td>\n",
       "      <td>8</td>\n",
       "      <td>NaN</td>\n",
       "      <td>1</td>\n",
       "      <td>1</td>\n",
       "      <td>4.0</td>\n",
       "      <td>6.0</td>\n",
       "      <td>6.0</td>\n",
       "      <td>4.0</td>\n",
       "      <td>6.0</td>\n",
       "      <td>6.0</td>\n",
       "      <td>6.0</td>\n",
       "      <td>4.0</td>\n",
       "      <td>2.0</td>\n",
       "      <td>3.0</td>\n",
       "      <td>1.0</td>\n",
       "      <td>4.0</td>\n",
       "      <td>1.0</td>\n",
       "      <td>5.0</td>\n",
       "      <td>1.0</td>\n",
       "      <td>5.0</td>\n",
       "      <td>1.0</td>\n",
       "      <td>5.0</td>\n",
       "      <td>1.0</td>\n",
       "      <td>77.0</td>\n",
       "      <td>74.0</td>\n",
       "      <td>68.0</td>\n",
       "      <td>13.0</td>\n",
       "      <td>7.0</td>\n",
       "      <td>7.0</td>\n",
       "      <td>1.0</td>\n",
       "      <td>2.0</td>\n",
       "      <td>;onLoad;Thu Jul 17 2025 10:21:20 GMT+0200 (Mit...</td>\n",
       "      <td>;onLoad;Thu Jul 17 2025 10:22:03 GMT+0200 (Mit...</td>\n",
       "      <td>Nothing</td>\n",
       "      <td>1</td>\n",
       "      <td>7.0</td>\n",
       "      <td>7.0</td>\n",
       "      <td>7.0</td>\n",
       "      <td>5.0</td>\n",
       "      <td>4.0</td>\n",
       "      <td>72.0</td>\n",
       "      <td>73.0</td>\n",
       "      <td>66.0</td>\n",
       "      <td>12.0</td>\n",
       "      <td>;onLoad;Thu Jul 17 2025 10:23:17 GMT+0200 (Mit...</td>\n",
       "      <td>1</td>\n",
       "      <td>7.0</td>\n",
       "      <td>7.0</td>\n",
       "      <td>7.0</td>\n",
       "      <td>16.0</td>\n",
       "      <td>4.0</td>\n",
       "      <td>68.0</td>\n",
       "      <td>75.0</td>\n",
       "      <td>64.0</td>\n",
       "      <td>11.0</td>\n",
       "      <td>;onLoad;Thu Jul 17 2025 10:24:45 GMT+0200 (Mit...</td>\n",
       "      <td>2</td>\n",
       "      <td>7.0</td>\n",
       "      <td>7.0</td>\n",
       "      <td>7.0</td>\n",
       "      <td>7.0</td>\n",
       "      <td>5.0</td>\n",
       "      <td>76.0</td>\n",
       "      <td>77.0</td>\n",
       "      <td>63.0</td>\n",
       "      <td>11.0</td>\n",
       "      <td>;onLoad;Thu Jul 17 2025 10:26:17 GMT+0200 (Mit...</td>\n",
       "      <td>3</td>\n",
       "      <td>7.0</td>\n",
       "      <td>7.0</td>\n",
       "      <td>7.0</td>\n",
       "      <td>17.0</td>\n",
       "      <td>3.0</td>\n",
       "      <td>72.0</td>\n",
       "      <td>73.0</td>\n",
       "      <td>71.0</td>\n",
       "      <td>17.0</td>\n",
       "      <td>;onLoad;Thu Jul 17 2025 10:27:55 GMT+0200 (Mit...</td>\n",
       "      <td>4</td>\n",
       "      <td>7.0</td>\n",
       "      <td>7.0</td>\n",
       "      <td>7.0</td>\n",
       "      <td>12.0</td>\n",
       "      <td>4.0</td>\n",
       "      <td>70.0</td>\n",
       "      <td>69.0</td>\n",
       "      <td>65.0</td>\n",
       "      <td>15.0</td>\n",
       "      <td>;onLoad;Thu Jul 17 2025 10:29:17 GMT+0200 (Mit...</td>\n",
       "      <td>5</td>\n",
       "      <td>7.0</td>\n",
       "      <td>7.0</td>\n",
       "      <td>7.0</td>\n",
       "      <td>15.0</td>\n",
       "      <td>4.0</td>\n",
       "      <td>69.0</td>\n",
       "      <td>71.0</td>\n",
       "      <td>56.0</td>\n",
       "      <td>24.0</td>\n",
       "      <td>;onLoad;Thu Jul 17 2025 10:30:42 GMT+0200 (Mit...</td>\n",
       "      <td>6</td>\n",
       "      <td>7</td>\n",
       "      <td>1.0</td>\n",
       "      <td>61.0</td>\n",
       "      <td>65.0</td>\n",
       "      <td>67.0</td>\n",
       "      <td>33.0</td>\n",
       "      <td>7.0</td>\n",
       "      <td>7.0</td>\n",
       "      <td>1.0</td>\n",
       "      <td>2.0</td>\n",
       "      <td>4.0</td>\n",
       "      <td>;onLoad;Thu Jul 17 2025 10:32:04 GMT+0200 (Mit...</td>\n",
       "      <td>;onLoad;Thu Jul 17 2025 10:32:38 GMT+0200 (Mit...</td>\n",
       "      <td>8</td>\n",
       "      <td>7.0</td>\n",
       "      <td>7.0</td>\n",
       "      <td>7.0</td>\n",
       "      <td>3.0</td>\n",
       "      <td>2.0</td>\n",
       "      <td>66.0</td>\n",
       "      <td>70.0</td>\n",
       "      <td>71.0</td>\n",
       "      <td>19.0</td>\n",
       "      <td>;taskStart;Thu Jul 17 2025 10:33:34 GMT+0200 (...</td>\n",
       "      <td>1</td>\n",
       "      <td>7.0</td>\n",
       "      <td>7.0</td>\n",
       "      <td>7.0</td>\n",
       "      <td>14.0</td>\n",
       "      <td>3.0</td>\n",
       "      <td>73.0</td>\n",
       "      <td>77.0</td>\n",
       "      <td>73.0</td>\n",
       "      <td>24.0</td>\n",
       "      <td>;taskStart;Thu Jul 17 2025 10:35:01 GMT+0200 (...</td>\n",
       "      <td>2</td>\n",
       "      <td>7.0</td>\n",
       "      <td>7.0</td>\n",
       "      <td>7.0</td>\n",
       "      <td>8.0</td>\n",
       "      <td>2.0</td>\n",
       "      <td>81.0</td>\n",
       "      <td>80.0</td>\n",
       "      <td>71.0</td>\n",
       "      <td>21.0</td>\n",
       "      <td>;taskStart;Thu Jul 17 2025 10:36:28 GMT+0200 (...</td>\n",
       "      <td>3</td>\n",
       "      <td>7.0</td>\n",
       "      <td>7.0</td>\n",
       "      <td>7.0</td>\n",
       "      <td>4.0</td>\n",
       "      <td>3.0</td>\n",
       "      <td>73.0</td>\n",
       "      <td>79.0</td>\n",
       "      <td>66.0</td>\n",
       "      <td>15.0</td>\n",
       "      <td>;taskStart;Thu Jul 17 2025 10:38:00 GMT+0200 (...</td>\n",
       "      <td>4</td>\n",
       "      <td>7.0</td>\n",
       "      <td>7.0</td>\n",
       "      <td>7.0</td>\n",
       "      <td>7.0</td>\n",
       "      <td>2.0</td>\n",
       "      <td>80.0</td>\n",
       "      <td>76.0</td>\n",
       "      <td>70.0</td>\n",
       "      <td>18.0</td>\n",
       "      <td>;taskStart;Thu Jul 17 2025 10:39:29 GMT+0200 (...</td>\n",
       "      <td>5</td>\n",
       "      <td>7.0</td>\n",
       "      <td>7.0</td>\n",
       "      <td>7.0</td>\n",
       "      <td>8.0</td>\n",
       "      <td>3.0</td>\n",
       "      <td>67.0</td>\n",
       "      <td>69.0</td>\n",
       "      <td>58.0</td>\n",
       "      <td>8.0</td>\n",
       "      <td>;taskStart;Thu Jul 17 2025 10:40:55 GMT+0200 (...</td>\n",
       "      <td>6</td>\n",
       "      <td>7</td>\n",
       "      <td>4.0</td>\n",
       "      <td>67.0</td>\n",
       "      <td>73.0</td>\n",
       "      <td>68.0</td>\n",
       "      <td>25.0</td>\n",
       "      <td>7.0</td>\n",
       "      <td>7.0</td>\n",
       "      <td>1.0</td>\n",
       "      <td>2.0</td>\n",
       "      <td>4.0</td>\n",
       "      <td>;onLoad;Thu Jul 17 2025 10:42:19 GMT+0200 (Mit...</td>\n",
       "      <td>;onLoad;Thu Jul 17 2025 10:42:54 GMT+0200 (Mit...</td>\n",
       "      <td>8</td>\n",
       "      <td>NaN</td>\n",
       "      <td>1</td>\n",
       "      <td>6.0</td>\n",
       "      <td>6.0</td>\n",
       "      <td>3.0</td>\n",
       "      <td>3.0</td>\n",
       "      <td>1</td>\n",
       "    </tr>\n",
       "    <tr>\n",
       "      <th>2</th>\n",
       "      <td>go2kbs0y</td>\n",
       "      <td>373</td>\n",
       "      <td>373</td>\n",
       "      <td>2025-07-21 10:41:08.661979</td>\n",
       "      <td>g808pk</td>\n",
       "      <td>Whack_Math</td>\n",
       "      <td>Green</td>\n",
       "      <td>g808pk</td>\n",
       "      <td>Right</td>\n",
       "      <td>C2 Proficiency English – I can understand with...</td>\n",
       "      <td>Yes</td>\n",
       "      <td>27.0</td>\n",
       "      <td>Female</td>\n",
       "      <td>Yes</td>\n",
       "      <td>No</td>\n",
       "      <td>I can see all colors and hues</td>\n",
       "      <td>Yes</td>\n",
       "      <td>Student</td>\n",
       "      <td>Bachelor</td>\n",
       "      <td>Medium</td>\n",
       "      <td>82.0</td>\n",
       "      <td>177.0</td>\n",
       "      <td>Long (Mid-back or Tailbone Length)</td>\n",
       "      <td>Long (&gt;10mm)</td>\n",
       "      <td>Straight</td>\n",
       "      <td>Medium</td>\n",
       "      <td>No Beard (0mm)</td>\n",
       "      <td>No</td>\n",
       "      <td>Normal</td>\n",
       "      <td>Never, or you’ve never noticed shine</td>\n",
       "      <td>Never</td>\n",
       "      <td>Never, or I never noticed it</td>\n",
       "      <td>No</td>\n",
       "      <td>In the last 12h</td>\n",
       "      <td>In the last 3h</td>\n",
       "      <td>In the last 24h</td>\n",
       "      <td>In the last hour</td>\n",
       "      <td>In the last 24h</td>\n",
       "      <td>5.0</td>\n",
       "      <td>5.0</td>\n",
       "      <td>2.0</td>\n",
       "      <td>2.0</td>\n",
       "      <td>1.0</td>\n",
       "      <td>2.0</td>\n",
       "      <td>3.0</td>\n",
       "      <td>2.0</td>\n",
       "      <td>3.0</td>\n",
       "      <td>4.0</td>\n",
       "      <td>6.0</td>\n",
       "      <td>63.0</td>\n",
       "      <td>6.0</td>\n",
       "      <td>7.0</td>\n",
       "      <td>7.0</td>\n",
       "      <td>4.0</td>\n",
       "      <td>6.0</td>\n",
       "      <td>7.0</td>\n",
       "      <td>5.0</td>\n",
       "      <td>1.0</td>\n",
       "      <td>0.0</td>\n",
       "      <td>4.0</td>\n",
       "      <td>1.0</td>\n",
       "      <td>4.0</td>\n",
       "      <td>2.0</td>\n",
       "      <td>4.0</td>\n",
       "      <td>1.0</td>\n",
       "      <td>5.0</td>\n",
       "      <td>3.0</td>\n",
       "      <td>5.0</td>\n",
       "      <td>1.0</td>\n",
       "      <td>89.0</td>\n",
       "      <td>9.0</td>\n",
       "      <td>35.0</td>\n",
       "      <td>81.0</td>\n",
       "      <td>5.0</td>\n",
       "      <td>4.0</td>\n",
       "      <td>3.0</td>\n",
       "      <td>6.0</td>\n",
       "      <td>;onLoad;Mon Jul 21 2025 13:09:03 GMT+0200 (Mit...</td>\n",
       "      <td>;onLoad;Mon Jul 21 2025 13:09:47 GMT+0200 (Mit...</td>\n",
       "      <td>1</td>\n",
       "      <td>7.0</td>\n",
       "      <td>7.0</td>\n",
       "      <td>7.0</td>\n",
       "      <td>7.0</td>\n",
       "      <td>3.0</td>\n",
       "      <td>94.0</td>\n",
       "      <td>46.0</td>\n",
       "      <td>63.0</td>\n",
       "      <td>21.0</td>\n",
       "      <td>;onLoad;Mon Jul 21 2025 13:24:56 GMT+0200 (Mit...</td>\n",
       "      <td>1</td>\n",
       "      <td>7.0</td>\n",
       "      <td>7.0</td>\n",
       "      <td>4.0</td>\n",
       "      <td>14.0</td>\n",
       "      <td>6.0</td>\n",
       "      <td>96.0</td>\n",
       "      <td>50.0</td>\n",
       "      <td>74.0</td>\n",
       "      <td>21.0</td>\n",
       "      <td>;onLoad;Mon Jul 21 2025 13:26:36 GMT+0200 (Mit...</td>\n",
       "      <td>2</td>\n",
       "      <td>7.0</td>\n",
       "      <td>7.0</td>\n",
       "      <td>7.0</td>\n",
       "      <td>12.0</td>\n",
       "      <td>3.0</td>\n",
       "      <td>95.0</td>\n",
       "      <td>43.0</td>\n",
       "      <td>50.0</td>\n",
       "      <td>21.0</td>\n",
       "      <td>;onLoad;Mon Jul 21 2025 13:28:24 GMT+0200 (Mit...</td>\n",
       "      <td>3</td>\n",
       "      <td>7.0</td>\n",
       "      <td>7.0</td>\n",
       "      <td>5.0</td>\n",
       "      <td>20.0</td>\n",
       "      <td>6.0</td>\n",
       "      <td>97.0</td>\n",
       "      <td>47.0</td>\n",
       "      <td>63.0</td>\n",
       "      <td>27.0</td>\n",
       "      <td>;onLoad;Mon Jul 21 2025 13:30:10 GMT+0200 (Mit...</td>\n",
       "      <td>4</td>\n",
       "      <td>5.0</td>\n",
       "      <td>7.0</td>\n",
       "      <td>7.0</td>\n",
       "      <td>8.0</td>\n",
       "      <td>3.0</td>\n",
       "      <td>96.0</td>\n",
       "      <td>50.0</td>\n",
       "      <td>67.0</td>\n",
       "      <td>21.0</td>\n",
       "      <td>;onLoad;Mon Jul 21 2025 13:32:02 GMT+0200 (Mit...</td>\n",
       "      <td>5</td>\n",
       "      <td>7.0</td>\n",
       "      <td>7.0</td>\n",
       "      <td>7.0</td>\n",
       "      <td>12.0</td>\n",
       "      <td>4.0</td>\n",
       "      <td>97.0</td>\n",
       "      <td>50.0</td>\n",
       "      <td>60.0</td>\n",
       "      <td>12.0</td>\n",
       "      <td>;onLoad;Mon Jul 21 2025 13:33:50 GMT+0200 (Mit...</td>\n",
       "      <td>6</td>\n",
       "      <td>7</td>\n",
       "      <td>0.0</td>\n",
       "      <td>96.0</td>\n",
       "      <td>43.0</td>\n",
       "      <td>50.0</td>\n",
       "      <td>23.0</td>\n",
       "      <td>4.0</td>\n",
       "      <td>5.0</td>\n",
       "      <td>4.0</td>\n",
       "      <td>4.0</td>\n",
       "      <td>3.0</td>\n",
       "      <td>;onLoad;Mon Jul 21 2025 13:35:26 GMT+0200 (Mit...</td>\n",
       "      <td>;onLoad;Mon Jul 21 2025 13:36:02 GMT+0200 (Mit...</td>\n",
       "      <td>8</td>\n",
       "      <td>6.0</td>\n",
       "      <td>7.0</td>\n",
       "      <td>7.0</td>\n",
       "      <td>0.0</td>\n",
       "      <td>1.0</td>\n",
       "      <td>88.0</td>\n",
       "      <td>17.0</td>\n",
       "      <td>32.0</td>\n",
       "      <td>36.0</td>\n",
       "      <td>;taskStart;Mon Jul 21 2025 13:11:44 GMT+0200 (...</td>\n",
       "      <td>1</td>\n",
       "      <td>7.0</td>\n",
       "      <td>7.0</td>\n",
       "      <td>5.0</td>\n",
       "      <td>0.0</td>\n",
       "      <td>3.0</td>\n",
       "      <td>91.0</td>\n",
       "      <td>22.0</td>\n",
       "      <td>39.0</td>\n",
       "      <td>50.0</td>\n",
       "      <td>;taskStart;Mon Jul 21 2025 13:13:49 GMT+0200 (...</td>\n",
       "      <td>2</td>\n",
       "      <td>7.0</td>\n",
       "      <td>7.0</td>\n",
       "      <td>7.0</td>\n",
       "      <td>0.0</td>\n",
       "      <td>1.0</td>\n",
       "      <td>92.0</td>\n",
       "      <td>40.0</td>\n",
       "      <td>46.0</td>\n",
       "      <td>50.0</td>\n",
       "      <td>;taskStart;Mon Jul 21 2025 13:15:29 GMT+0200 (...</td>\n",
       "      <td>3</td>\n",
       "      <td>7.0</td>\n",
       "      <td>7.0</td>\n",
       "      <td>6.0</td>\n",
       "      <td>0.0</td>\n",
       "      <td>2.0</td>\n",
       "      <td>95.0</td>\n",
       "      <td>38.0</td>\n",
       "      <td>45.0</td>\n",
       "      <td>50.0</td>\n",
       "      <td>;taskStart;Mon Jul 21 2025 13:17:12 GMT+0200 (...</td>\n",
       "      <td>4</td>\n",
       "      <td>7.0</td>\n",
       "      <td>7.0</td>\n",
       "      <td>7.0</td>\n",
       "      <td>0.0</td>\n",
       "      <td>1.0</td>\n",
       "      <td>96.0</td>\n",
       "      <td>31.0</td>\n",
       "      <td>65.0</td>\n",
       "      <td>21.0</td>\n",
       "      <td>;taskStart;Mon Jul 21 2025 13:19:01 GMT+0200 (...</td>\n",
       "      <td>5</td>\n",
       "      <td>5.0</td>\n",
       "      <td>7.0</td>\n",
       "      <td>6.0</td>\n",
       "      <td>0.0</td>\n",
       "      <td>2.0</td>\n",
       "      <td>94.0</td>\n",
       "      <td>32.0</td>\n",
       "      <td>71.0</td>\n",
       "      <td>20.0</td>\n",
       "      <td>;taskStart;Mon Jul 21 2025 13:20:58 GMT+0200 (...</td>\n",
       "      <td>6</td>\n",
       "      <td>7</td>\n",
       "      <td>0.0</td>\n",
       "      <td>96.0</td>\n",
       "      <td>21.0</td>\n",
       "      <td>45.0</td>\n",
       "      <td>22.0</td>\n",
       "      <td>4.0</td>\n",
       "      <td>5.0</td>\n",
       "      <td>4.0</td>\n",
       "      <td>4.0</td>\n",
       "      <td>5.0</td>\n",
       "      <td>;onLoad;Mon Jul 21 2025 13:22:34 GMT+0200 (Mit...</td>\n",
       "      <td>;onLoad;Mon Jul 21 2025 13:23:15 GMT+0200 (Mit...</td>\n",
       "      <td>8</td>\n",
       "      <td>NaN</td>\n",
       "      <td>1</td>\n",
       "      <td>1</td>\n",
       "      <td>7.0</td>\n",
       "      <td>7.0</td>\n",
       "      <td>7.0</td>\n",
       "      <td>3.0</td>\n",
       "      <td>3.0</td>\n",
       "      <td>7.0</td>\n",
       "      <td>3.0</td>\n",
       "      <td>1.0</td>\n",
       "      <td>0.0</td>\n",
       "      <td>3.0</td>\n",
       "      <td>2.0</td>\n",
       "      <td>3.0</td>\n",
       "      <td>3.0</td>\n",
       "      <td>3.0</td>\n",
       "      <td>1.0</td>\n",
       "      <td>5.0</td>\n",
       "      <td>3.0</td>\n",
       "      <td>3.0</td>\n",
       "      <td>4.0</td>\n",
       "      <td>97.0</td>\n",
       "      <td>31.0</td>\n",
       "      <td>51.0</td>\n",
       "      <td>20.0</td>\n",
       "      <td>4.0</td>\n",
       "      <td>5.0</td>\n",
       "      <td>4.0</td>\n",
       "      <td>4.0</td>\n",
       "      <td>;onLoad;Mon Jul 21 2025 13:52:42 GMT+0200 (Mit...</td>\n",
       "      <td>;onLoad;Mon Jul 21 2025 13:53:20 GMT+0200 (Mit...</td>\n",
       "      <td>smoke</td>\n",
       "      <td>1</td>\n",
       "      <td>7.0</td>\n",
       "      <td>7.0</td>\n",
       "      <td>7.0</td>\n",
       "      <td>7.0</td>\n",
       "      <td>3.0</td>\n",
       "      <td>95.0</td>\n",
       "      <td>30.0</td>\n",
       "      <td>50.0</td>\n",
       "      <td>14.0</td>\n",
       "      <td>;onLoad;Mon Jul 21 2025 14:06:27 GMT+0200 (Mit...</td>\n",
       "      <td>1</td>\n",
       "      <td>7.0</td>\n",
       "      <td>7.0</td>\n",
       "      <td>7.0</td>\n",
       "      <td>10.0</td>\n",
       "      <td>5.0</td>\n",
       "      <td>98.0</td>\n",
       "      <td>16.0</td>\n",
       "      <td>50.0</td>\n",
       "      <td>14.0</td>\n",
       "      <td>;onLoad;Mon Jul 21 2025 14:08:06 GMT+0200 (Mit...</td>\n",
       "      <td>2</td>\n",
       "      <td>7.0</td>\n",
       "      <td>7.0</td>\n",
       "      <td>7.0</td>\n",
       "      <td>5.0</td>\n",
       "      <td>3.0</td>\n",
       "      <td>96.0</td>\n",
       "      <td>32.0</td>\n",
       "      <td>50.0</td>\n",
       "      <td>17.0</td>\n",
       "      <td>;onLoad;Mon Jul 21 2025 14:09:48 GMT+0200 (Mit...</td>\n",
       "      <td>3</td>\n",
       "      <td>7.0</td>\n",
       "      <td>7.0</td>\n",
       "      <td>7.0</td>\n",
       "      <td>9.0</td>\n",
       "      <td>4.0</td>\n",
       "      <td>96.0</td>\n",
       "      <td>24.0</td>\n",
       "      <td>50.0</td>\n",
       "      <td>33.0</td>\n",
       "      <td>;onLoad;Mon Jul 21 2025 14:11:30 GMT+0200 (Mit...</td>\n",
       "      <td>4</td>\n",
       "      <td>7.0</td>\n",
       "      <td>7.0</td>\n",
       "      <td>7.0</td>\n",
       "      <td>5.0</td>\n",
       "      <td>3.0</td>\n",
       "      <td>96.0</td>\n",
       "      <td>22.0</td>\n",
       "      <td>50.0</td>\n",
       "      <td>22.0</td>\n",
       "      <td>;onLoad;Mon Jul 21 2025 14:13:16 GMT+0200 (Mit...</td>\n",
       "      <td>5</td>\n",
       "      <td>7.0</td>\n",
       "      <td>7.0</td>\n",
       "      <td>7.0</td>\n",
       "      <td>8.0</td>\n",
       "      <td>4.0</td>\n",
       "      <td>97.0</td>\n",
       "      <td>35.0</td>\n",
       "      <td>50.0</td>\n",
       "      <td>15.0</td>\n",
       "      <td>;onLoad;Mon Jul 21 2025 14:14:55 GMT+0200 (Mit...</td>\n",
       "      <td>6</td>\n",
       "      <td>7</td>\n",
       "      <td>0.0</td>\n",
       "      <td>96.0</td>\n",
       "      <td>28.0</td>\n",
       "      <td>50.0</td>\n",
       "      <td>15.0</td>\n",
       "      <td>5.0</td>\n",
       "      <td>5.0</td>\n",
       "      <td>2.0</td>\n",
       "      <td>2.0</td>\n",
       "      <td>6.0</td>\n",
       "      <td>;onLoad;Mon Jul 21 2025 14:16:32 GMT+0200 (Mit...</td>\n",
       "      <td>;onLoad;Mon Jul 21 2025 14:17:08 GMT+0200 (Mit...</td>\n",
       "      <td>8</td>\n",
       "      <td>7.0</td>\n",
       "      <td>7.0</td>\n",
       "      <td>7.0</td>\n",
       "      <td>0.0</td>\n",
       "      <td>1.0</td>\n",
       "      <td>97.0</td>\n",
       "      <td>28.0</td>\n",
       "      <td>50.0</td>\n",
       "      <td>18.0</td>\n",
       "      <td>;taskStart;Mon Jul 21 2025 13:54:39 GMT+0200 (...</td>\n",
       "      <td>1</td>\n",
       "      <td>7.0</td>\n",
       "      <td>7.0</td>\n",
       "      <td>7.0</td>\n",
       "      <td>0.0</td>\n",
       "      <td>1.0</td>\n",
       "      <td>98.0</td>\n",
       "      <td>37.0</td>\n",
       "      <td>51.0</td>\n",
       "      <td>19.0</td>\n",
       "      <td>;taskStart;Mon Jul 21 2025 13:56:18 GMT+0200 (...</td>\n",
       "      <td>2</td>\n",
       "      <td>5.0</td>\n",
       "      <td>7.0</td>\n",
       "      <td>7.0</td>\n",
       "      <td>0.0</td>\n",
       "      <td>1.0</td>\n",
       "      <td>96.0</td>\n",
       "      <td>30.0</td>\n",
       "      <td>50.0</td>\n",
       "      <td>15.0</td>\n",
       "      <td>;taskStart;Mon Jul 21 2025 13:57:54 GMT+0200 (...</td>\n",
       "      <td>3</td>\n",
       "      <td>6.0</td>\n",
       "      <td>7.0</td>\n",
       "      <td>7.0</td>\n",
       "      <td>0.0</td>\n",
       "      <td>1.0</td>\n",
       "      <td>96.0</td>\n",
       "      <td>29.0</td>\n",
       "      <td>50.0</td>\n",
       "      <td>12.0</td>\n",
       "      <td>;taskStart;Mon Jul 21 2025 13:59:37 GMT+0200 (...</td>\n",
       "      <td>4</td>\n",
       "      <td>6.0</td>\n",
       "      <td>7.0</td>\n",
       "      <td>7.0</td>\n",
       "      <td>0.0</td>\n",
       "      <td>1.0</td>\n",
       "      <td>98.0</td>\n",
       "      <td>21.0</td>\n",
       "      <td>50.0</td>\n",
       "      <td>11.0</td>\n",
       "      <td>;taskStart;Mon Jul 21 2025 14:01:17 GMT+0200 (...</td>\n",
       "      <td>5</td>\n",
       "      <td>7.0</td>\n",
       "      <td>7.0</td>\n",
       "      <td>7.0</td>\n",
       "      <td>0.0</td>\n",
       "      <td>1.0</td>\n",
       "      <td>97.0</td>\n",
       "      <td>28.0</td>\n",
       "      <td>50.0</td>\n",
       "      <td>16.0</td>\n",
       "      <td>;taskStart;Mon Jul 21 2025 14:02:54 GMT+0200 (...</td>\n",
       "      <td>6</td>\n",
       "      <td>7</td>\n",
       "      <td>0.0</td>\n",
       "      <td>97.0</td>\n",
       "      <td>25.0</td>\n",
       "      <td>50.0</td>\n",
       "      <td>12.0</td>\n",
       "      <td>4.0</td>\n",
       "      <td>5.0</td>\n",
       "      <td>3.0</td>\n",
       "      <td>2.0</td>\n",
       "      <td>6.0</td>\n",
       "      <td>;onLoad;Mon Jul 21 2025 14:04:28 GMT+0200 (Mit...</td>\n",
       "      <td>;onLoad;Mon Jul 21 2025 14:05:07 GMT+0200 (Mit...</td>\n",
       "      <td>8</td>\n",
       "      <td>NaN</td>\n",
       "      <td>1</td>\n",
       "      <td>1</td>\n",
       "      <td>7.0</td>\n",
       "      <td>7.0</td>\n",
       "      <td>7.0</td>\n",
       "      <td>3.0</td>\n",
       "      <td>4.0</td>\n",
       "      <td>7.0</td>\n",
       "      <td>7.0</td>\n",
       "      <td>2.0</td>\n",
       "      <td>0.0</td>\n",
       "      <td>3.0</td>\n",
       "      <td>3.0</td>\n",
       "      <td>3.0</td>\n",
       "      <td>4.0</td>\n",
       "      <td>3.0</td>\n",
       "      <td>2.0</td>\n",
       "      <td>5.0</td>\n",
       "      <td>3.0</td>\n",
       "      <td>3.0</td>\n",
       "      <td>4.0</td>\n",
       "      <td>97.0</td>\n",
       "      <td>48.0</td>\n",
       "      <td>50.0</td>\n",
       "      <td>9.0</td>\n",
       "      <td>5.0</td>\n",
       "      <td>5.0</td>\n",
       "      <td>2.0</td>\n",
       "      <td>2.0</td>\n",
       "      <td>;onLoad;Mon Jul 21 2025 14:32:25 GMT+0200 (Mit...</td>\n",
       "      <td>;onLoad;Mon Jul 21 2025 14:32:57 GMT+0200 (Mit...</td>\n",
       "      <td>drank water</td>\n",
       "      <td>1</td>\n",
       "      <td>7.0</td>\n",
       "      <td>7.0</td>\n",
       "      <td>7.0</td>\n",
       "      <td>7.0</td>\n",
       "      <td>2.0</td>\n",
       "      <td>99.0</td>\n",
       "      <td>50.0</td>\n",
       "      <td>50.0</td>\n",
       "      <td>12.0</td>\n",
       "      <td>;onLoad;Mon Jul 21 2025 14:44:34 GMT+0200 (Mit...</td>\n",
       "      <td>1</td>\n",
       "      <td>3.0</td>\n",
       "      <td>7.0</td>\n",
       "      <td>5.0</td>\n",
       "      <td>14.0</td>\n",
       "      <td>6.0</td>\n",
       "      <td>98.0</td>\n",
       "      <td>50.0</td>\n",
       "      <td>50.0</td>\n",
       "      <td>20.0</td>\n",
       "      <td>;onLoad;Mon Jul 21 2025 14:46:16 GMT+0200 (Mit...</td>\n",
       "      <td>2</td>\n",
       "      <td>7.0</td>\n",
       "      <td>7.0</td>\n",
       "      <td>7.0</td>\n",
       "      <td>7.0</td>\n",
       "      <td>3.0</td>\n",
       "      <td>98.0</td>\n",
       "      <td>50.0</td>\n",
       "      <td>50.0</td>\n",
       "      <td>9.0</td>\n",
       "      <td>;onLoad;Mon Jul 21 2025 14:47:53 GMT+0200 (Mit...</td>\n",
       "      <td>3</td>\n",
       "      <td>7.0</td>\n",
       "      <td>7.0</td>\n",
       "      <td>7.0</td>\n",
       "      <td>11.0</td>\n",
       "      <td>5.0</td>\n",
       "      <td>98.0</td>\n",
       "      <td>50.0</td>\n",
       "      <td>50.0</td>\n",
       "      <td>11.0</td>\n",
       "      <td>;onLoad;Mon Jul 21 2025 14:49:21 GMT+0200 (Mit...</td>\n",
       "      <td>4</td>\n",
       "      <td>7.0</td>\n",
       "      <td>7.0</td>\n",
       "      <td>7.0</td>\n",
       "      <td>6.0</td>\n",
       "      <td>3.0</td>\n",
       "      <td>98.0</td>\n",
       "      <td>50.0</td>\n",
       "      <td>50.0</td>\n",
       "      <td>7.0</td>\n",
       "      <td>;onLoad;Mon Jul 21 2025 14:50:48 GMT+0200 (Mit...</td>\n",
       "      <td>5</td>\n",
       "      <td>7.0</td>\n",
       "      <td>7.0</td>\n",
       "      <td>7.0</td>\n",
       "      <td>11.0</td>\n",
       "      <td>5.0</td>\n",
       "      <td>97.0</td>\n",
       "      <td>50.0</td>\n",
       "      <td>50.0</td>\n",
       "      <td>5.0</td>\n",
       "      <td>;onLoad;Mon Jul 21 2025 14:52:21 GMT+0200 (Mit...</td>\n",
       "      <td>6</td>\n",
       "      <td>7</td>\n",
       "      <td>0.0</td>\n",
       "      <td>97.0</td>\n",
       "      <td>50.0</td>\n",
       "      <td>50.0</td>\n",
       "      <td>5.0</td>\n",
       "      <td>5.0</td>\n",
       "      <td>5.0</td>\n",
       "      <td>2.0</td>\n",
       "      <td>3.0</td>\n",
       "      <td>7.0</td>\n",
       "      <td>;onLoad;Mon Jul 21 2025 14:53:48 GMT+0200 (Mit...</td>\n",
       "      <td>;onLoad;Mon Jul 21 2025 14:54:22 GMT+0200 (Mit...</td>\n",
       "      <td>8</td>\n",
       "      <td>7.0</td>\n",
       "      <td>7.0</td>\n",
       "      <td>7.0</td>\n",
       "      <td>0.0</td>\n",
       "      <td>1.0</td>\n",
       "      <td>96.0</td>\n",
       "      <td>48.0</td>\n",
       "      <td>50.0</td>\n",
       "      <td>12.0</td>\n",
       "      <td>;taskStart;Mon Jul 21 2025 14:33:49 GMT+0200 (...</td>\n",
       "      <td>1</td>\n",
       "      <td>7.0</td>\n",
       "      <td>7.0</td>\n",
       "      <td>7.0</td>\n",
       "      <td>0.0</td>\n",
       "      <td>1.0</td>\n",
       "      <td>94.0</td>\n",
       "      <td>50.0</td>\n",
       "      <td>50.0</td>\n",
       "      <td>6.0</td>\n",
       "      <td>;taskStart;Mon Jul 21 2025 14:35:20 GMT+0200 (...</td>\n",
       "      <td>2</td>\n",
       "      <td>7.0</td>\n",
       "      <td>7.0</td>\n",
       "      <td>7.0</td>\n",
       "      <td>0.0</td>\n",
       "      <td>1.0</td>\n",
       "      <td>96.0</td>\n",
       "      <td>50.0</td>\n",
       "      <td>50.0</td>\n",
       "      <td>7.0</td>\n",
       "      <td>;taskStart;Mon Jul 21 2025 14:36:48 GMT+0200 (...</td>\n",
       "      <td>3</td>\n",
       "      <td>5.0</td>\n",
       "      <td>7.0</td>\n",
       "      <td>7.0</td>\n",
       "      <td>0.0</td>\n",
       "      <td>1.0</td>\n",
       "      <td>95.0</td>\n",
       "      <td>50.0</td>\n",
       "      <td>50.0</td>\n",
       "      <td>23.0</td>\n",
       "      <td>;taskStart;Mon Jul 21 2025 14:38:15 GMT+0200 (...</td>\n",
       "      <td>4</td>\n",
       "      <td>5.0</td>\n",
       "      <td>7.0</td>\n",
       "      <td>7.0</td>\n",
       "      <td>0.0</td>\n",
       "      <td>1.0</td>\n",
       "      <td>97.0</td>\n",
       "      <td>50.0</td>\n",
       "      <td>50.0</td>\n",
       "      <td>12.0</td>\n",
       "      <td>;taskStart;Mon Jul 21 2025 14:39:45 GMT+0200 (...</td>\n",
       "      <td>5</td>\n",
       "      <td>6.0</td>\n",
       "      <td>7.0</td>\n",
       "      <td>7.0</td>\n",
       "      <td>0.0</td>\n",
       "      <td>1.0</td>\n",
       "      <td>99.0</td>\n",
       "      <td>50.0</td>\n",
       "      <td>50.0</td>\n",
       "      <td>9.0</td>\n",
       "      <td>;taskStart;Mon Jul 21 2025 14:41:18 GMT+0200 (...</td>\n",
       "      <td>6</td>\n",
       "      <td>7</td>\n",
       "      <td>0.0</td>\n",
       "      <td>98.0</td>\n",
       "      <td>50.0</td>\n",
       "      <td>50.0</td>\n",
       "      <td>7.0</td>\n",
       "      <td>5.0</td>\n",
       "      <td>5.0</td>\n",
       "      <td>2.0</td>\n",
       "      <td>2.0</td>\n",
       "      <td>6.0</td>\n",
       "      <td>;onLoad;Mon Jul 21 2025 14:42:48 GMT+0200 (Mit...</td>\n",
       "      <td>;onLoad;Mon Jul 21 2025 14:43:22 GMT+0200 (Mit...</td>\n",
       "      <td>8</td>\n",
       "      <td>NaN</td>\n",
       "      <td>1</td>\n",
       "      <td>3.0</td>\n",
       "      <td>5.0</td>\n",
       "      <td>3.0</td>\n",
       "      <td>5.0</td>\n",
       "      <td>1</td>\n",
       "    </tr>\n",
       "    <tr>\n",
       "      <th>3</th>\n",
       "      <td>d6pc8ogx</td>\n",
       "      <td>373</td>\n",
       "      <td>373</td>\n",
       "      <td>2025-07-24 10:35:43.224554</td>\n",
       "      <td>4wlws4</td>\n",
       "      <td>Math_Whack</td>\n",
       "      <td>Pink</td>\n",
       "      <td>4wlws4</td>\n",
       "      <td>Right</td>\n",
       "      <td>B1 Intermediate English – I understand the mai...</td>\n",
       "      <td>No</td>\n",
       "      <td>23.0</td>\n",
       "      <td>Female</td>\n",
       "      <td>No</td>\n",
       "      <td>Yes</td>\n",
       "      <td>I can see all colors and hues</td>\n",
       "      <td>Yes</td>\n",
       "      <td>Student</td>\n",
       "      <td>Abitur</td>\n",
       "      <td>Small</td>\n",
       "      <td>52.0</td>\n",
       "      <td>175.0</td>\n",
       "      <td>Medium (Shoulder or Armpit Length)</td>\n",
       "      <td>Long (&gt;10mm)</td>\n",
       "      <td>Straight</td>\n",
       "      <td>Medium</td>\n",
       "      <td>No Beard (0mm)</td>\n",
       "      <td>Yes</td>\n",
       "      <td>Oily</td>\n",
       "      <td>Sometimes</td>\n",
       "      <td>Often</td>\n",
       "      <td>Never, or I never noticed it</td>\n",
       "      <td>Yes</td>\n",
       "      <td>In the last 3h</td>\n",
       "      <td>In the last hour</td>\n",
       "      <td>In the last 3h</td>\n",
       "      <td>More than 24h / Never</td>\n",
       "      <td>In the last 24h</td>\n",
       "      <td>4.0</td>\n",
       "      <td>5.0</td>\n",
       "      <td>5.0</td>\n",
       "      <td>3.0</td>\n",
       "      <td>3.0</td>\n",
       "      <td>3.0</td>\n",
       "      <td>4.0</td>\n",
       "      <td>5.0</td>\n",
       "      <td>4.0</td>\n",
       "      <td>6.0</td>\n",
       "      <td>1.0</td>\n",
       "      <td>24.0</td>\n",
       "      <td>2.0</td>\n",
       "      <td>6.0</td>\n",
       "      <td>4.0</td>\n",
       "      <td>2.0</td>\n",
       "      <td>1.0</td>\n",
       "      <td>4.0</td>\n",
       "      <td>4.0</td>\n",
       "      <td>5.0</td>\n",
       "      <td>1.0</td>\n",
       "      <td>3.0</td>\n",
       "      <td>1.0</td>\n",
       "      <td>4.0</td>\n",
       "      <td>5.0</td>\n",
       "      <td>3.0</td>\n",
       "      <td>2.0</td>\n",
       "      <td>4.0</td>\n",
       "      <td>3.0</td>\n",
       "      <td>2.0</td>\n",
       "      <td>5.0</td>\n",
       "      <td>34.0</td>\n",
       "      <td>94.0</td>\n",
       "      <td>49.0</td>\n",
       "      <td>19.0</td>\n",
       "      <td>5.0</td>\n",
       "      <td>5.0</td>\n",
       "      <td>2.0</td>\n",
       "      <td>1.0</td>\n",
       "      <td>;onLoad;Thu Jul 24 2025 13:26:36 GMT+0200 (Mit...</td>\n",
       "      <td>;onLoad;Thu Jul 24 2025 13:27:24 GMT+0200 (Mit...</td>\n",
       "      <td>1</td>\n",
       "      <td>4.0</td>\n",
       "      <td>7.0</td>\n",
       "      <td>7.0</td>\n",
       "      <td>21.0</td>\n",
       "      <td>5.0</td>\n",
       "      <td>76.0</td>\n",
       "      <td>81.0</td>\n",
       "      <td>80.0</td>\n",
       "      <td>20.0</td>\n",
       "      <td>;onLoad;Thu Jul 24 2025 13:29:28 GMT+0200 (Mit...</td>\n",
       "      <td>1</td>\n",
       "      <td>3.0</td>\n",
       "      <td>7.0</td>\n",
       "      <td>1.0</td>\n",
       "      <td>21.0</td>\n",
       "      <td>7.0</td>\n",
       "      <td>21.0</td>\n",
       "      <td>94.0</td>\n",
       "      <td>65.0</td>\n",
       "      <td>44.0</td>\n",
       "      <td>;onLoad;Thu Jul 24 2025 13:31:48 GMT+0200 (Mit...</td>\n",
       "      <td>2</td>\n",
       "      <td>3.0</td>\n",
       "      <td>7.0</td>\n",
       "      <td>7.0</td>\n",
       "      <td>21.0</td>\n",
       "      <td>6.0</td>\n",
       "      <td>50.0</td>\n",
       "      <td>77.0</td>\n",
       "      <td>77.0</td>\n",
       "      <td>29.0</td>\n",
       "      <td>;onLoad;Thu Jul 24 2025 13:33:39 GMT+0200 (Mit...</td>\n",
       "      <td>3</td>\n",
       "      <td>4.0</td>\n",
       "      <td>7.0</td>\n",
       "      <td>1.0</td>\n",
       "      <td>21.0</td>\n",
       "      <td>7.0</td>\n",
       "      <td>40.0</td>\n",
       "      <td>74.0</td>\n",
       "      <td>55.0</td>\n",
       "      <td>75.0</td>\n",
       "      <td>;onLoad;Thu Jul 24 2025 13:35:23 GMT+0200 (Mit...</td>\n",
       "      <td>4</td>\n",
       "      <td>6.0</td>\n",
       "      <td>7.0</td>\n",
       "      <td>3.0</td>\n",
       "      <td>21.0</td>\n",
       "      <td>6.0</td>\n",
       "      <td>54.0</td>\n",
       "      <td>49.0</td>\n",
       "      <td>47.0</td>\n",
       "      <td>50.0</td>\n",
       "      <td>;onLoad;Thu Jul 24 2025 13:37:05 GMT+0200 (Mit...</td>\n",
       "      <td>5</td>\n",
       "      <td>4.0</td>\n",
       "      <td>7.0</td>\n",
       "      <td>2.0</td>\n",
       "      <td>21.0</td>\n",
       "      <td>7.0</td>\n",
       "      <td>42.0</td>\n",
       "      <td>44.0</td>\n",
       "      <td>47.0</td>\n",
       "      <td>50.0</td>\n",
       "      <td>;onLoad;Thu Jul 24 2025 13:38:56 GMT+0200 (Mit...</td>\n",
       "      <td>6</td>\n",
       "      <td>7</td>\n",
       "      <td>2.0</td>\n",
       "      <td>50.0</td>\n",
       "      <td>45.0</td>\n",
       "      <td>50.0</td>\n",
       "      <td>43.0</td>\n",
       "      <td>3.0</td>\n",
       "      <td>3.0</td>\n",
       "      <td>5.0</td>\n",
       "      <td>2.0</td>\n",
       "      <td>5.0</td>\n",
       "      <td>;onLoad;Thu Jul 24 2025 13:40:31 GMT+0200 (Mit...</td>\n",
       "      <td>;onLoad;Thu Jul 24 2025 13:41:12 GMT+0200 (Mit...</td>\n",
       "      <td>8</td>\n",
       "      <td>6.0</td>\n",
       "      <td>7.0</td>\n",
       "      <td>7.0</td>\n",
       "      <td>1.0</td>\n",
       "      <td>1.0</td>\n",
       "      <td>83.0</td>\n",
       "      <td>66.0</td>\n",
       "      <td>82.0</td>\n",
       "      <td>12.0</td>\n",
       "      <td>;taskStart;Thu Jul 24 2025 13:43:17 GMT+0200 (...</td>\n",
       "      <td>1</td>\n",
       "      <td>6.0</td>\n",
       "      <td>7.0</td>\n",
       "      <td>5.0</td>\n",
       "      <td>8.0</td>\n",
       "      <td>3.0</td>\n",
       "      <td>91.0</td>\n",
       "      <td>57.0</td>\n",
       "      <td>74.0</td>\n",
       "      <td>25.0</td>\n",
       "      <td>;taskStart;Thu Jul 24 2025 13:45:07 GMT+0200 (...</td>\n",
       "      <td>2</td>\n",
       "      <td>6.0</td>\n",
       "      <td>7.0</td>\n",
       "      <td>7.0</td>\n",
       "      <td>0.0</td>\n",
       "      <td>2.0</td>\n",
       "      <td>72.0</td>\n",
       "      <td>24.0</td>\n",
       "      <td>69.0</td>\n",
       "      <td>25.0</td>\n",
       "      <td>;taskStart;Thu Jul 24 2025 13:46:51 GMT+0200 (...</td>\n",
       "      <td>3</td>\n",
       "      <td>6.0</td>\n",
       "      <td>7.0</td>\n",
       "      <td>7.0</td>\n",
       "      <td>10.0</td>\n",
       "      <td>3.0</td>\n",
       "      <td>73.0</td>\n",
       "      <td>38.0</td>\n",
       "      <td>58.0</td>\n",
       "      <td>40.0</td>\n",
       "      <td>;taskStart;Thu Jul 24 2025 13:49:24 GMT+0200 (...</td>\n",
       "      <td>4</td>\n",
       "      <td>6.0</td>\n",
       "      <td>7.0</td>\n",
       "      <td>7.0</td>\n",
       "      <td>2.0</td>\n",
       "      <td>1.0</td>\n",
       "      <td>75.0</td>\n",
       "      <td>10.0</td>\n",
       "      <td>64.0</td>\n",
       "      <td>21.0</td>\n",
       "      <td>;taskStart;Thu Jul 24 2025 13:51:04 GMT+0200 (...</td>\n",
       "      <td>5</td>\n",
       "      <td>6.0</td>\n",
       "      <td>7.0</td>\n",
       "      <td>7.0</td>\n",
       "      <td>6.0</td>\n",
       "      <td>3.0</td>\n",
       "      <td>82.0</td>\n",
       "      <td>25.0</td>\n",
       "      <td>50.0</td>\n",
       "      <td>32.0</td>\n",
       "      <td>;taskStart;Thu Jul 24 2025 13:52:58 GMT+0200 (...</td>\n",
       "      <td>6</td>\n",
       "      <td>7</td>\n",
       "      <td>0.0</td>\n",
       "      <td>50.0</td>\n",
       "      <td>12.0</td>\n",
       "      <td>39.0</td>\n",
       "      <td>50.0</td>\n",
       "      <td>5.0</td>\n",
       "      <td>5.0</td>\n",
       "      <td>2.0</td>\n",
       "      <td>2.0</td>\n",
       "      <td>5.0</td>\n",
       "      <td>;onLoad;Thu Jul 24 2025 13:54:39 GMT+0200 (Mit...</td>\n",
       "      <td>;onLoad;Thu Jul 24 2025 13:55:16 GMT+0200 (Mit...</td>\n",
       "      <td>8</td>\n",
       "      <td>it was such an cool experience, at some point ...</td>\n",
       "      <td>1</td>\n",
       "      <td>1</td>\n",
       "      <td>4.0</td>\n",
       "      <td>4.0</td>\n",
       "      <td>4.0</td>\n",
       "      <td>4.0</td>\n",
       "      <td>1.0</td>\n",
       "      <td>6.0</td>\n",
       "      <td>5.0</td>\n",
       "      <td>4.0</td>\n",
       "      <td>0.0</td>\n",
       "      <td>3.0</td>\n",
       "      <td>1.0</td>\n",
       "      <td>4.0</td>\n",
       "      <td>3.0</td>\n",
       "      <td>4.0</td>\n",
       "      <td>1.0</td>\n",
       "      <td>5.0</td>\n",
       "      <td>3.0</td>\n",
       "      <td>4.0</td>\n",
       "      <td>4.0</td>\n",
       "      <td>50.0</td>\n",
       "      <td>17.0</td>\n",
       "      <td>58.0</td>\n",
       "      <td>38.0</td>\n",
       "      <td>5.0</td>\n",
       "      <td>5.0</td>\n",
       "      <td>3.0</td>\n",
       "      <td>1.0</td>\n",
       "      <td>;onLoad;Thu Jul 24 2025 14:13:40 GMT+0200 (Mit...</td>\n",
       "      <td>;onLoad;Thu Jul 24 2025 14:14:16 GMT+0200 (Mit...</td>\n",
       "      <td>i have been on my phone</td>\n",
       "      <td>1</td>\n",
       "      <td>6.0</td>\n",
       "      <td>7.0</td>\n",
       "      <td>6.0</td>\n",
       "      <td>18.0</td>\n",
       "      <td>6.0</td>\n",
       "      <td>50.0</td>\n",
       "      <td>32.0</td>\n",
       "      <td>44.0</td>\n",
       "      <td>35.0</td>\n",
       "      <td>;onLoad;Thu Jul 24 2025 14:15:21 GMT+0200 (Mit...</td>\n",
       "      <td>1</td>\n",
       "      <td>6.0</td>\n",
       "      <td>7.0</td>\n",
       "      <td>3.0</td>\n",
       "      <td>21.0</td>\n",
       "      <td>7.0</td>\n",
       "      <td>39.0</td>\n",
       "      <td>21.0</td>\n",
       "      <td>45.0</td>\n",
       "      <td>36.0</td>\n",
       "      <td>;onLoad;Thu Jul 24 2025 14:16:58 GMT+0200 (Mit...</td>\n",
       "      <td>2</td>\n",
       "      <td>6.0</td>\n",
       "      <td>7.0</td>\n",
       "      <td>3.0</td>\n",
       "      <td>21.0</td>\n",
       "      <td>7.0</td>\n",
       "      <td>38.0</td>\n",
       "      <td>26.0</td>\n",
       "      <td>30.0</td>\n",
       "      <td>39.0</td>\n",
       "      <td>;onLoad;Thu Jul 24 2025 14:18:30 GMT+0200 (Mit...</td>\n",
       "      <td>3</td>\n",
       "      <td>6.0</td>\n",
       "      <td>7.0</td>\n",
       "      <td>1.0</td>\n",
       "      <td>21.0</td>\n",
       "      <td>7.0</td>\n",
       "      <td>40.0</td>\n",
       "      <td>22.0</td>\n",
       "      <td>35.0</td>\n",
       "      <td>40.0</td>\n",
       "      <td>;onLoad;Thu Jul 24 2025 14:20:00 GMT+0200 (Mit...</td>\n",
       "      <td>4</td>\n",
       "      <td>6.0</td>\n",
       "      <td>7.0</td>\n",
       "      <td>3.0</td>\n",
       "      <td>21.0</td>\n",
       "      <td>7.0</td>\n",
       "      <td>42.0</td>\n",
       "      <td>34.0</td>\n",
       "      <td>38.0</td>\n",
       "      <td>41.0</td>\n",
       "      <td>;onLoad;Thu Jul 24 2025 14:21:34 GMT+0200 (Mit...</td>\n",
       "      <td>5</td>\n",
       "      <td>4.0</td>\n",
       "      <td>7.0</td>\n",
       "      <td>2.0</td>\n",
       "      <td>21.0</td>\n",
       "      <td>7.0</td>\n",
       "      <td>29.0</td>\n",
       "      <td>30.0</td>\n",
       "      <td>27.0</td>\n",
       "      <td>33.0</td>\n",
       "      <td>;onLoad;Thu Jul 24 2025 14:23:03 GMT+0200 (Mit...</td>\n",
       "      <td>6</td>\n",
       "      <td>7</td>\n",
       "      <td>0.0</td>\n",
       "      <td>50.0</td>\n",
       "      <td>21.0</td>\n",
       "      <td>30.0</td>\n",
       "      <td>31.0</td>\n",
       "      <td>3.0</td>\n",
       "      <td>3.0</td>\n",
       "      <td>5.0</td>\n",
       "      <td>2.0</td>\n",
       "      <td>5.0</td>\n",
       "      <td>;onLoad;Thu Jul 24 2025 14:24:39 GMT+0200 (Mit...</td>\n",
       "      <td>;onLoad;Thu Jul 24 2025 14:25:15 GMT+0200 (Mit...</td>\n",
       "      <td>8</td>\n",
       "      <td>7.0</td>\n",
       "      <td>7.0</td>\n",
       "      <td>7.0</td>\n",
       "      <td>1.0</td>\n",
       "      <td>1.0</td>\n",
       "      <td>64.0</td>\n",
       "      <td>36.0</td>\n",
       "      <td>68.0</td>\n",
       "      <td>43.0</td>\n",
       "      <td>;taskStart;Thu Jul 24 2025 14:26:18 GMT+0200 (...</td>\n",
       "      <td>1</td>\n",
       "      <td>7.0</td>\n",
       "      <td>7.0</td>\n",
       "      <td>7.0</td>\n",
       "      <td>1.0</td>\n",
       "      <td>2.0</td>\n",
       "      <td>62.0</td>\n",
       "      <td>36.0</td>\n",
       "      <td>41.0</td>\n",
       "      <td>35.0</td>\n",
       "      <td>;taskStart;Thu Jul 24 2025 14:27:48 GMT+0200 (...</td>\n",
       "      <td>2</td>\n",
       "      <td>7.0</td>\n",
       "      <td>7.0</td>\n",
       "      <td>7.0</td>\n",
       "      <td>0.0</td>\n",
       "      <td>1.0</td>\n",
       "      <td>59.0</td>\n",
       "      <td>23.0</td>\n",
       "      <td>41.0</td>\n",
       "      <td>25.0</td>\n",
       "      <td>;taskStart;Thu Jul 24 2025 14:29:17 GMT+0200 (...</td>\n",
       "      <td>3</td>\n",
       "      <td>7.0</td>\n",
       "      <td>7.0</td>\n",
       "      <td>7.0</td>\n",
       "      <td>3.0</td>\n",
       "      <td>2.0</td>\n",
       "      <td>57.0</td>\n",
       "      <td>37.0</td>\n",
       "      <td>42.0</td>\n",
       "      <td>24.0</td>\n",
       "      <td>;taskStart;Thu Jul 24 2025 14:30:44 GMT+0200 (...</td>\n",
       "      <td>4</td>\n",
       "      <td>7.0</td>\n",
       "      <td>7.0</td>\n",
       "      <td>7.0</td>\n",
       "      <td>0.0</td>\n",
       "      <td>1.0</td>\n",
       "      <td>59.0</td>\n",
       "      <td>36.0</td>\n",
       "      <td>42.0</td>\n",
       "      <td>23.0</td>\n",
       "      <td>;taskStart;Thu Jul 24 2025 14:32:14 GMT+0200 (...</td>\n",
       "      <td>5</td>\n",
       "      <td>7.0</td>\n",
       "      <td>7.0</td>\n",
       "      <td>7.0</td>\n",
       "      <td>2.0</td>\n",
       "      <td>2.0</td>\n",
       "      <td>59.0</td>\n",
       "      <td>36.0</td>\n",
       "      <td>32.0</td>\n",
       "      <td>29.0</td>\n",
       "      <td>;taskStart;Thu Jul 24 2025 14:33:41 GMT+0200 (...</td>\n",
       "      <td>6</td>\n",
       "      <td>7</td>\n",
       "      <td>0.0</td>\n",
       "      <td>41.0</td>\n",
       "      <td>21.0</td>\n",
       "      <td>28.0</td>\n",
       "      <td>24.0</td>\n",
       "      <td>4.0</td>\n",
       "      <td>3.0</td>\n",
       "      <td>5.0</td>\n",
       "      <td>6.0</td>\n",
       "      <td>5.0</td>\n",
       "      <td>;onLoad;Thu Jul 24 2025 14:35:06 GMT+0200 (Mit...</td>\n",
       "      <td>;onLoad;Thu Jul 24 2025 14:35:40 GMT+0200 (Mit...</td>\n",
       "      <td>8</td>\n",
       "      <td>i am getting very sleepy</td>\n",
       "      <td>1</td>\n",
       "      <td>1</td>\n",
       "      <td>4.0</td>\n",
       "      <td>6.0</td>\n",
       "      <td>6.0</td>\n",
       "      <td>5.0</td>\n",
       "      <td>1.0</td>\n",
       "      <td>6.0</td>\n",
       "      <td>3.0</td>\n",
       "      <td>3.0</td>\n",
       "      <td>0.0</td>\n",
       "      <td>3.0</td>\n",
       "      <td>2.0</td>\n",
       "      <td>5.0</td>\n",
       "      <td>4.0</td>\n",
       "      <td>4.0</td>\n",
       "      <td>1.0</td>\n",
       "      <td>5.0</td>\n",
       "      <td>4.0</td>\n",
       "      <td>3.0</td>\n",
       "      <td>3.0</td>\n",
       "      <td>39.0</td>\n",
       "      <td>37.0</td>\n",
       "      <td>50.0</td>\n",
       "      <td>35.0</td>\n",
       "      <td>4.0</td>\n",
       "      <td>5.0</td>\n",
       "      <td>4.0</td>\n",
       "      <td>5.0</td>\n",
       "      <td>;onLoad;Thu Jul 24 2025 14:45:55 GMT+0200 (Mit...</td>\n",
       "      <td>;onLoad;Thu Jul 24 2025 14:46:29 GMT+0200 (Mit...</td>\n",
       "      <td>i have been on my phone</td>\n",
       "      <td>1</td>\n",
       "      <td>7.0</td>\n",
       "      <td>7.0</td>\n",
       "      <td>4.0</td>\n",
       "      <td>21.0</td>\n",
       "      <td>7.0</td>\n",
       "      <td>41.0</td>\n",
       "      <td>34.0</td>\n",
       "      <td>34.0</td>\n",
       "      <td>35.0</td>\n",
       "      <td>;onLoad;Thu Jul 24 2025 14:47:25 GMT+0200 (Mit...</td>\n",
       "      <td>1</td>\n",
       "      <td>6.0</td>\n",
       "      <td>7.0</td>\n",
       "      <td>3.0</td>\n",
       "      <td>21.0</td>\n",
       "      <td>7.0</td>\n",
       "      <td>44.0</td>\n",
       "      <td>40.0</td>\n",
       "      <td>32.0</td>\n",
       "      <td>31.0</td>\n",
       "      <td>;onLoad;Thu Jul 24 2025 14:48:53 GMT+0200 (Mit...</td>\n",
       "      <td>2</td>\n",
       "      <td>7.0</td>\n",
       "      <td>7.0</td>\n",
       "      <td>7.0</td>\n",
       "      <td>18.0</td>\n",
       "      <td>6.0</td>\n",
       "      <td>60.0</td>\n",
       "      <td>38.0</td>\n",
       "      <td>42.0</td>\n",
       "      <td>39.0</td>\n",
       "      <td>;onLoad;Thu Jul 24 2025 14:50:23 GMT+0200 (Mit...</td>\n",
       "      <td>3</td>\n",
       "      <td>6.0</td>\n",
       "      <td>7.0</td>\n",
       "      <td>2.0</td>\n",
       "      <td>21.0</td>\n",
       "      <td>7.0</td>\n",
       "      <td>36.0</td>\n",
       "      <td>34.0</td>\n",
       "      <td>27.0</td>\n",
       "      <td>34.0</td>\n",
       "      <td>;onLoad;Thu Jul 24 2025 14:51:49 GMT+0200 (Mit...</td>\n",
       "      <td>4</td>\n",
       "      <td>6.0</td>\n",
       "      <td>7.0</td>\n",
       "      <td>6.0</td>\n",
       "      <td>20.0</td>\n",
       "      <td>6.0</td>\n",
       "      <td>42.0</td>\n",
       "      <td>42.0</td>\n",
       "      <td>43.0</td>\n",
       "      <td>32.0</td>\n",
       "      <td>;onLoad;Thu Jul 24 2025 14:53:14 GMT+0200 (Mit...</td>\n",
       "      <td>5</td>\n",
       "      <td>5.0</td>\n",
       "      <td>7.0</td>\n",
       "      <td>3.0</td>\n",
       "      <td>21.0</td>\n",
       "      <td>7.0</td>\n",
       "      <td>40.0</td>\n",
       "      <td>34.0</td>\n",
       "      <td>34.0</td>\n",
       "      <td>37.0</td>\n",
       "      <td>;onLoad;Thu Jul 24 2025 14:54:43 GMT+0200 (Mit...</td>\n",
       "      <td>6</td>\n",
       "      <td>7</td>\n",
       "      <td>0.0</td>\n",
       "      <td>50.0</td>\n",
       "      <td>24.0</td>\n",
       "      <td>33.0</td>\n",
       "      <td>33.0</td>\n",
       "      <td>5.0</td>\n",
       "      <td>4.0</td>\n",
       "      <td>4.0</td>\n",
       "      <td>4.0</td>\n",
       "      <td>6.0</td>\n",
       "      <td>;onLoad;Thu Jul 24 2025 14:56:10 GMT+0200 (Mit...</td>\n",
       "      <td>;onLoad;Thu Jul 24 2025 14:56:44 GMT+0200 (Mit...</td>\n",
       "      <td>8</td>\n",
       "      <td>7.0</td>\n",
       "      <td>7.0</td>\n",
       "      <td>7.0</td>\n",
       "      <td>0.0</td>\n",
       "      <td>1.0</td>\n",
       "      <td>60.0</td>\n",
       "      <td>34.0</td>\n",
       "      <td>50.0</td>\n",
       "      <td>32.0</td>\n",
       "      <td>;taskStart;Thu Jul 24 2025 14:57:37 GMT+0200 (...</td>\n",
       "      <td>1</td>\n",
       "      <td>7.0</td>\n",
       "      <td>7.0</td>\n",
       "      <td>7.0</td>\n",
       "      <td>2.0</td>\n",
       "      <td>2.0</td>\n",
       "      <td>54.0</td>\n",
       "      <td>40.0</td>\n",
       "      <td>40.0</td>\n",
       "      <td>35.0</td>\n",
       "      <td>;taskStart;Thu Jul 24 2025 14:59:04 GMT+0200 (...</td>\n",
       "      <td>2</td>\n",
       "      <td>7.0</td>\n",
       "      <td>7.0</td>\n",
       "      <td>7.0</td>\n",
       "      <td>0.0</td>\n",
       "      <td>1.0</td>\n",
       "      <td>58.0</td>\n",
       "      <td>34.0</td>\n",
       "      <td>36.0</td>\n",
       "      <td>43.0</td>\n",
       "      <td>;taskStart;Thu Jul 24 2025 15:00:35 GMT+0200 (...</td>\n",
       "      <td>3</td>\n",
       "      <td>7.0</td>\n",
       "      <td>7.0</td>\n",
       "      <td>7.0</td>\n",
       "      <td>1.0</td>\n",
       "      <td>1.0</td>\n",
       "      <td>59.0</td>\n",
       "      <td>37.0</td>\n",
       "      <td>33.0</td>\n",
       "      <td>50.0</td>\n",
       "      <td>;taskStart;Thu Jul 24 2025 15:02:03 GMT+0200 (...</td>\n",
       "      <td>4</td>\n",
       "      <td>7.0</td>\n",
       "      <td>7.0</td>\n",
       "      <td>7.0</td>\n",
       "      <td>0.0</td>\n",
       "      <td>1.0</td>\n",
       "      <td>56.0</td>\n",
       "      <td>37.0</td>\n",
       "      <td>37.0</td>\n",
       "      <td>42.0</td>\n",
       "      <td>;taskStart;Thu Jul 24 2025 15:03:29 GMT+0200 (...</td>\n",
       "      <td>5</td>\n",
       "      <td>7.0</td>\n",
       "      <td>7.0</td>\n",
       "      <td>7.0</td>\n",
       "      <td>0.0</td>\n",
       "      <td>1.0</td>\n",
       "      <td>61.0</td>\n",
       "      <td>31.0</td>\n",
       "      <td>33.0</td>\n",
       "      <td>50.0</td>\n",
       "      <td>;taskStart;Thu Jul 24 2025 15:04:51 GMT+0200 (...</td>\n",
       "      <td>6</td>\n",
       "      <td>7</td>\n",
       "      <td>0.0</td>\n",
       "      <td>50.0</td>\n",
       "      <td>39.0</td>\n",
       "      <td>31.0</td>\n",
       "      <td>37.0</td>\n",
       "      <td>4.0</td>\n",
       "      <td>3.0</td>\n",
       "      <td>6.0</td>\n",
       "      <td>6.0</td>\n",
       "      <td>6.0</td>\n",
       "      <td>;onLoad;Thu Jul 24 2025 15:06:15 GMT+0200 (Mit...</td>\n",
       "      <td>;onLoad;Thu Jul 24 2025 15:06:48 GMT+0200 (Mit...</td>\n",
       "      <td>8</td>\n",
       "      <td>fand ich toll, meine Konzentration ist zwar im...</td>\n",
       "      <td>1</td>\n",
       "      <td>1.0</td>\n",
       "      <td>7.0</td>\n",
       "      <td>1.0</td>\n",
       "      <td>7.0</td>\n",
       "      <td>1</td>\n",
       "    </tr>\n",
       "    <tr>\n",
       "      <th>4</th>\n",
       "      <td>6s5m02ip</td>\n",
       "      <td>373</td>\n",
       "      <td>373</td>\n",
       "      <td>2025-07-24 13:19:46.248355</td>\n",
       "      <td>9hqfii</td>\n",
       "      <td>Math_Whack</td>\n",
       "      <td>Pink</td>\n",
       "      <td>9hqfii</td>\n",
       "      <td>Right</td>\n",
       "      <td>C2 Proficiency English – I can understand with...</td>\n",
       "      <td>Yes</td>\n",
       "      <td>22.0</td>\n",
       "      <td>Male</td>\n",
       "      <td>No</td>\n",
       "      <td>Yes</td>\n",
       "      <td>I can see all colors and hues</td>\n",
       "      <td>Yes</td>\n",
       "      <td>Employee</td>\n",
       "      <td>Bachelor</td>\n",
       "      <td>Medium</td>\n",
       "      <td>70.0</td>\n",
       "      <td>178.0</td>\n",
       "      <td>Very Short (1-10cm)</td>\n",
       "      <td>Medium (5-10mm)</td>\n",
       "      <td>Straight</td>\n",
       "      <td>Low (Fine Hair)</td>\n",
       "      <td>Medium Stubble (5-10mm)</td>\n",
       "      <td>No</td>\n",
       "      <td>Normal</td>\n",
       "      <td>Sometimes</td>\n",
       "      <td>I don’t wear products on my face</td>\n",
       "      <td>Never, or I never noticed it</td>\n",
       "      <td>No</td>\n",
       "      <td>In the last 6h</td>\n",
       "      <td>In the last 6h</td>\n",
       "      <td>In the last 24h</td>\n",
       "      <td>More than 24h / Never</td>\n",
       "      <td>More than 24h / Never</td>\n",
       "      <td>5.0</td>\n",
       "      <td>6.0</td>\n",
       "      <td>5.0</td>\n",
       "      <td>7.0</td>\n",
       "      <td>3.0</td>\n",
       "      <td>4.0</td>\n",
       "      <td>4.0</td>\n",
       "      <td>5.0</td>\n",
       "      <td>2.0</td>\n",
       "      <td>2.0</td>\n",
       "      <td>5.0</td>\n",
       "      <td>70.0</td>\n",
       "      <td>5.0</td>\n",
       "      <td>5.0</td>\n",
       "      <td>5.0</td>\n",
       "      <td>2.0</td>\n",
       "      <td>2.0</td>\n",
       "      <td>4.0</td>\n",
       "      <td>3.0</td>\n",
       "      <td>6.0</td>\n",
       "      <td>1.0</td>\n",
       "      <td>2.0</td>\n",
       "      <td>2.0</td>\n",
       "      <td>2.0</td>\n",
       "      <td>3.0</td>\n",
       "      <td>2.0</td>\n",
       "      <td>3.0</td>\n",
       "      <td>4.0</td>\n",
       "      <td>3.0</td>\n",
       "      <td>3.0</td>\n",
       "      <td>2.0</td>\n",
       "      <td>50.0</td>\n",
       "      <td>39.0</td>\n",
       "      <td>44.0</td>\n",
       "      <td>24.0</td>\n",
       "      <td>6.0</td>\n",
       "      <td>6.0</td>\n",
       "      <td>1.0</td>\n",
       "      <td>4.0</td>\n",
       "      <td>;onLoad;Thu Jul 24 2025 15:50:21 GMT+0200 (Mit...</td>\n",
       "      <td>;onLoad;Thu Jul 24 2025 15:51:08 GMT+0200 (Mit...</td>\n",
       "      <td>1</td>\n",
       "      <td>6.0</td>\n",
       "      <td>7.0</td>\n",
       "      <td>7.0</td>\n",
       "      <td>12.0</td>\n",
       "      <td>2.0</td>\n",
       "      <td>68.0</td>\n",
       "      <td>25.0</td>\n",
       "      <td>59.0</td>\n",
       "      <td>25.0</td>\n",
       "      <td>;onLoad;Thu Jul 24 2025 15:52:40 GMT+0200 (Mit...</td>\n",
       "      <td>1</td>\n",
       "      <td>6.0</td>\n",
       "      <td>7.0</td>\n",
       "      <td>5.0</td>\n",
       "      <td>18.0</td>\n",
       "      <td>6.0</td>\n",
       "      <td>66.0</td>\n",
       "      <td>29.0</td>\n",
       "      <td>60.0</td>\n",
       "      <td>24.0</td>\n",
       "      <td>;onLoad;Thu Jul 24 2025 15:54:31 GMT+0200 (Mit...</td>\n",
       "      <td>2</td>\n",
       "      <td>5.0</td>\n",
       "      <td>7.0</td>\n",
       "      <td>5.0</td>\n",
       "      <td>9.0</td>\n",
       "      <td>5.0</td>\n",
       "      <td>65.0</td>\n",
       "      <td>11.0</td>\n",
       "      <td>52.0</td>\n",
       "      <td>31.0</td>\n",
       "      <td>;onLoad;Thu Jul 24 2025 15:56:16 GMT+0200 (Mit...</td>\n",
       "      <td>3</td>\n",
       "      <td>5.0</td>\n",
       "      <td>6.0</td>\n",
       "      <td>5.0</td>\n",
       "      <td>21.0</td>\n",
       "      <td>7.0</td>\n",
       "      <td>65.0</td>\n",
       "      <td>8.0</td>\n",
       "      <td>65.0</td>\n",
       "      <td>30.0</td>\n",
       "      <td>;onLoad;Thu Jul 24 2025 15:57:57 GMT+0200 (Mit...</td>\n",
       "      <td>4</td>\n",
       "      <td>6.0</td>\n",
       "      <td>7.0</td>\n",
       "      <td>6.0</td>\n",
       "      <td>13.0</td>\n",
       "      <td>3.0</td>\n",
       "      <td>54.0</td>\n",
       "      <td>20.0</td>\n",
       "      <td>57.0</td>\n",
       "      <td>37.0</td>\n",
       "      <td>;onLoad;Thu Jul 24 2025 15:59:30 GMT+0200 (Mit...</td>\n",
       "      <td>5</td>\n",
       "      <td>7.0</td>\n",
       "      <td>7.0</td>\n",
       "      <td>6.0</td>\n",
       "      <td>21.0</td>\n",
       "      <td>7.0</td>\n",
       "      <td>56.0</td>\n",
       "      <td>41.0</td>\n",
       "      <td>61.0</td>\n",
       "      <td>32.0</td>\n",
       "      <td>;onLoad;Thu Jul 24 2025 16:01:04 GMT+0200 (Mit...</td>\n",
       "      <td>6</td>\n",
       "      <td>7</td>\n",
       "      <td>10.0</td>\n",
       "      <td>67.0</td>\n",
       "      <td>15.0</td>\n",
       "      <td>55.0</td>\n",
       "      <td>25.0</td>\n",
       "      <td>5.0</td>\n",
       "      <td>4.0</td>\n",
       "      <td>4.0</td>\n",
       "      <td>4.0</td>\n",
       "      <td>3.0</td>\n",
       "      <td>;onLoad;Thu Jul 24 2025 16:02:38 GMT+0200 (Mit...</td>\n",
       "      <td>;onLoad;Thu Jul 24 2025 16:03:14 GMT+0200 (Mit...</td>\n",
       "      <td>8</td>\n",
       "      <td>6.0</td>\n",
       "      <td>7.0</td>\n",
       "      <td>7.0</td>\n",
       "      <td>9.0</td>\n",
       "      <td>4.0</td>\n",
       "      <td>64.0</td>\n",
       "      <td>7.0</td>\n",
       "      <td>32.0</td>\n",
       "      <td>44.0</td>\n",
       "      <td>;taskStart;Thu Jul 24 2025 16:04:19 GMT+0200 (...</td>\n",
       "      <td>1</td>\n",
       "      <td>6.0</td>\n",
       "      <td>7.0</td>\n",
       "      <td>5.0</td>\n",
       "      <td>9.0</td>\n",
       "      <td>5.0</td>\n",
       "      <td>50.0</td>\n",
       "      <td>5.0</td>\n",
       "      <td>37.0</td>\n",
       "      <td>59.0</td>\n",
       "      <td>;taskStart;Thu Jul 24 2025 16:05:56 GMT+0200 (...</td>\n",
       "      <td>2</td>\n",
       "      <td>6.0</td>\n",
       "      <td>5.0</td>\n",
       "      <td>6.0</td>\n",
       "      <td>16.0</td>\n",
       "      <td>3.0</td>\n",
       "      <td>64.0</td>\n",
       "      <td>3.0</td>\n",
       "      <td>45.0</td>\n",
       "      <td>58.0</td>\n",
       "      <td>;taskStart;Thu Jul 24 2025 16:07:34 GMT+0200 (...</td>\n",
       "      <td>3</td>\n",
       "      <td>7.0</td>\n",
       "      <td>6.0</td>\n",
       "      <td>6.0</td>\n",
       "      <td>7.0</td>\n",
       "      <td>5.0</td>\n",
       "      <td>60.0</td>\n",
       "      <td>15.0</td>\n",
       "      <td>58.0</td>\n",
       "      <td>35.0</td>\n",
       "      <td>;taskStart;Thu Jul 24 2025 16:09:24 GMT+0200 (...</td>\n",
       "      <td>4</td>\n",
       "      <td>6.0</td>\n",
       "      <td>7.0</td>\n",
       "      <td>6.0</td>\n",
       "      <td>13.0</td>\n",
       "      <td>3.0</td>\n",
       "      <td>57.0</td>\n",
       "      <td>1.0</td>\n",
       "      <td>24.0</td>\n",
       "      <td>45.0</td>\n",
       "      <td>;taskStart;Thu Jul 24 2025 16:10:54 GMT+0200 (...</td>\n",
       "      <td>5</td>\n",
       "      <td>6.0</td>\n",
       "      <td>7.0</td>\n",
       "      <td>6.0</td>\n",
       "      <td>15.0</td>\n",
       "      <td>3.0</td>\n",
       "      <td>47.0</td>\n",
       "      <td>3.0</td>\n",
       "      <td>13.0</td>\n",
       "      <td>62.0</td>\n",
       "      <td>;taskStart;Thu Jul 24 2025 16:12:37 GMT+0200 (...</td>\n",
       "      <td>6</td>\n",
       "      <td>7</td>\n",
       "      <td>4.0</td>\n",
       "      <td>54.0</td>\n",
       "      <td>21.0</td>\n",
       "      <td>28.0</td>\n",
       "      <td>39.0</td>\n",
       "      <td>4.0</td>\n",
       "      <td>4.0</td>\n",
       "      <td>4.0</td>\n",
       "      <td>4.0</td>\n",
       "      <td>4.0</td>\n",
       "      <td>;onLoad;Thu Jul 24 2025 16:14:17 GMT+0200 (Mit...</td>\n",
       "      <td>;onLoad;Thu Jul 24 2025 16:14:52 GMT+0200 (Mit...</td>\n",
       "      <td>8</td>\n",
       "      <td>NaN</td>\n",
       "      <td>1</td>\n",
       "      <td>1</td>\n",
       "      <td>3.0</td>\n",
       "      <td>4.0</td>\n",
       "      <td>4.0</td>\n",
       "      <td>4.0</td>\n",
       "      <td>3.0</td>\n",
       "      <td>3.0</td>\n",
       "      <td>4.0</td>\n",
       "      <td>4.0</td>\n",
       "      <td>7.0</td>\n",
       "      <td>3.0</td>\n",
       "      <td>3.0</td>\n",
       "      <td>3.0</td>\n",
       "      <td>3.0</td>\n",
       "      <td>3.0</td>\n",
       "      <td>3.0</td>\n",
       "      <td>4.0</td>\n",
       "      <td>3.0</td>\n",
       "      <td>4.0</td>\n",
       "      <td>3.0</td>\n",
       "      <td>54.0</td>\n",
       "      <td>25.0</td>\n",
       "      <td>55.0</td>\n",
       "      <td>40.0</td>\n",
       "      <td>7.0</td>\n",
       "      <td>7.0</td>\n",
       "      <td>3.0</td>\n",
       "      <td>5.0</td>\n",
       "      <td>;onLoad;Thu Jul 24 2025 16:22:09 GMT+0200 (Mit...</td>\n",
       "      <td>;onLoad;Thu Jul 24 2025 16:22:43 GMT+0200 (Mit...</td>\n",
       "      <td>just stayed seated and went on my phone</td>\n",
       "      <td>1</td>\n",
       "      <td>6.0</td>\n",
       "      <td>7.0</td>\n",
       "      <td>6.0</td>\n",
       "      <td>9.0</td>\n",
       "      <td>3.0</td>\n",
       "      <td>55.0</td>\n",
       "      <td>43.0</td>\n",
       "      <td>54.0</td>\n",
       "      <td>35.0</td>\n",
       "      <td>;onLoad;Thu Jul 24 2025 16:23:46 GMT+0200 (Mit...</td>\n",
       "      <td>1</td>\n",
       "      <td>6.0</td>\n",
       "      <td>5.0</td>\n",
       "      <td>6.0</td>\n",
       "      <td>14.0</td>\n",
       "      <td>4.0</td>\n",
       "      <td>54.0</td>\n",
       "      <td>37.0</td>\n",
       "      <td>45.0</td>\n",
       "      <td>49.0</td>\n",
       "      <td>;onLoad;Thu Jul 24 2025 16:25:22 GMT+0200 (Mit...</td>\n",
       "      <td>2</td>\n",
       "      <td>7.0</td>\n",
       "      <td>7.0</td>\n",
       "      <td>7.0</td>\n",
       "      <td>8.0</td>\n",
       "      <td>3.0</td>\n",
       "      <td>57.0</td>\n",
       "      <td>23.0</td>\n",
       "      <td>58.0</td>\n",
       "      <td>50.0</td>\n",
       "      <td>;onLoad;Thu Jul 24 2025 16:26:54 GMT+0200 (Mit...</td>\n",
       "      <td>3</td>\n",
       "      <td>7.0</td>\n",
       "      <td>7.0</td>\n",
       "      <td>5.0</td>\n",
       "      <td>15.0</td>\n",
       "      <td>5.0</td>\n",
       "      <td>45.0</td>\n",
       "      <td>34.0</td>\n",
       "      <td>41.0</td>\n",
       "      <td>61.0</td>\n",
       "      <td>;onLoad;Thu Jul 24 2025 16:28:27 GMT+0200 (Mit...</td>\n",
       "      <td>4</td>\n",
       "      <td>7.0</td>\n",
       "      <td>7.0</td>\n",
       "      <td>7.0</td>\n",
       "      <td>7.0</td>\n",
       "      <td>4.0</td>\n",
       "      <td>53.0</td>\n",
       "      <td>16.0</td>\n",
       "      <td>50.0</td>\n",
       "      <td>45.0</td>\n",
       "      <td>;onLoad;Thu Jul 24 2025 16:29:58 GMT+0200 (Mit...</td>\n",
       "      <td>5</td>\n",
       "      <td>5.0</td>\n",
       "      <td>6.0</td>\n",
       "      <td>7.0</td>\n",
       "      <td>13.0</td>\n",
       "      <td>6.0</td>\n",
       "      <td>42.0</td>\n",
       "      <td>44.0</td>\n",
       "      <td>47.0</td>\n",
       "      <td>50.0</td>\n",
       "      <td>;onLoad;Thu Jul 24 2025 16:31:25 GMT+0200 (Mit...</td>\n",
       "      <td>6</td>\n",
       "      <td>7</td>\n",
       "      <td>4.0</td>\n",
       "      <td>54.0</td>\n",
       "      <td>15.0</td>\n",
       "      <td>36.0</td>\n",
       "      <td>57.0</td>\n",
       "      <td>5.0</td>\n",
       "      <td>3.0</td>\n",
       "      <td>3.0</td>\n",
       "      <td>3.0</td>\n",
       "      <td>4.0</td>\n",
       "      <td>;onLoad;Thu Jul 24 2025 16:32:51 GMT+0200 (Mit...</td>\n",
       "      <td>;onLoad;Thu Jul 24 2025 16:33:25 GMT+0200 (Mit...</td>\n",
       "      <td>8</td>\n",
       "      <td>7.0</td>\n",
       "      <td>7.0</td>\n",
       "      <td>7.0</td>\n",
       "      <td>7.0</td>\n",
       "      <td>3.0</td>\n",
       "      <td>59.0</td>\n",
       "      <td>27.0</td>\n",
       "      <td>40.0</td>\n",
       "      <td>63.0</td>\n",
       "      <td>;taskStart;Thu Jul 24 2025 16:34:23 GMT+0200 (...</td>\n",
       "      <td>1</td>\n",
       "      <td>6.0</td>\n",
       "      <td>6.0</td>\n",
       "      <td>6.0</td>\n",
       "      <td>8.0</td>\n",
       "      <td>3.0</td>\n",
       "      <td>56.0</td>\n",
       "      <td>38.0</td>\n",
       "      <td>41.0</td>\n",
       "      <td>50.0</td>\n",
       "      <td>;taskStart;Thu Jul 24 2025 16:35:50 GMT+0200 (...</td>\n",
       "      <td>2</td>\n",
       "      <td>6.0</td>\n",
       "      <td>6.0</td>\n",
       "      <td>6.0</td>\n",
       "      <td>6.0</td>\n",
       "      <td>2.0</td>\n",
       "      <td>57.0</td>\n",
       "      <td>12.0</td>\n",
       "      <td>35.0</td>\n",
       "      <td>55.0</td>\n",
       "      <td>;taskStart;Thu Jul 24 2025 16:37:26 GMT+0200 (...</td>\n",
       "      <td>3</td>\n",
       "      <td>6.0</td>\n",
       "      <td>6.0</td>\n",
       "      <td>6.0</td>\n",
       "      <td>13.0</td>\n",
       "      <td>3.0</td>\n",
       "      <td>57.0</td>\n",
       "      <td>22.0</td>\n",
       "      <td>35.0</td>\n",
       "      <td>55.0</td>\n",
       "      <td>;taskStart;Thu Jul 24 2025 16:39:09 GMT+0200 (...</td>\n",
       "      <td>4</td>\n",
       "      <td>6.0</td>\n",
       "      <td>6.0</td>\n",
       "      <td>6.0</td>\n",
       "      <td>6.0</td>\n",
       "      <td>3.0</td>\n",
       "      <td>55.0</td>\n",
       "      <td>17.0</td>\n",
       "      <td>34.0</td>\n",
       "      <td>54.0</td>\n",
       "      <td>;taskStart;Thu Jul 24 2025 16:40:36 GMT+0200 (...</td>\n",
       "      <td>5</td>\n",
       "      <td>6.0</td>\n",
       "      <td>6.0</td>\n",
       "      <td>6.0</td>\n",
       "      <td>10.0</td>\n",
       "      <td>3.0</td>\n",
       "      <td>54.0</td>\n",
       "      <td>15.0</td>\n",
       "      <td>30.0</td>\n",
       "      <td>52.0</td>\n",
       "      <td>;taskStart;Thu Jul 24 2025 16:42:03 GMT+0200 (...</td>\n",
       "      <td>6</td>\n",
       "      <td>7</td>\n",
       "      <td>3.0</td>\n",
       "      <td>56.0</td>\n",
       "      <td>14.0</td>\n",
       "      <td>33.0</td>\n",
       "      <td>67.0</td>\n",
       "      <td>4.0</td>\n",
       "      <td>4.0</td>\n",
       "      <td>3.0</td>\n",
       "      <td>6.0</td>\n",
       "      <td>3.0</td>\n",
       "      <td>;onLoad;Thu Jul 24 2025 16:43:32 GMT+0200 (Mit...</td>\n",
       "      <td>;onLoad;Thu Jul 24 2025 16:44:07 GMT+0200 (Mit...</td>\n",
       "      <td>8</td>\n",
       "      <td>NaN</td>\n",
       "      <td>1</td>\n",
       "      <td>1</td>\n",
       "      <td>4.0</td>\n",
       "      <td>5.0</td>\n",
       "      <td>5.0</td>\n",
       "      <td>5.0</td>\n",
       "      <td>4.0</td>\n",
       "      <td>3.0</td>\n",
       "      <td>5.0</td>\n",
       "      <td>4.0</td>\n",
       "      <td>7.0</td>\n",
       "      <td>3.0</td>\n",
       "      <td>3.0</td>\n",
       "      <td>4.0</td>\n",
       "      <td>4.0</td>\n",
       "      <td>3.0</td>\n",
       "      <td>3.0</td>\n",
       "      <td>3.0</td>\n",
       "      <td>4.0</td>\n",
       "      <td>3.0</td>\n",
       "      <td>3.0</td>\n",
       "      <td>44.0</td>\n",
       "      <td>18.0</td>\n",
       "      <td>33.0</td>\n",
       "      <td>56.0</td>\n",
       "      <td>4.0</td>\n",
       "      <td>4.0</td>\n",
       "      <td>4.0</td>\n",
       "      <td>6.0</td>\n",
       "      <td>;onLoad;Thu Jul 24 2025 16:50:50 GMT+0200 (Mit...</td>\n",
       "      <td>;onLoad;Thu Jul 24 2025 16:51:26 GMT+0200 (Mit...</td>\n",
       "      <td>walk around the lab</td>\n",
       "      <td>1</td>\n",
       "      <td>7.0</td>\n",
       "      <td>6.0</td>\n",
       "      <td>6.0</td>\n",
       "      <td>7.0</td>\n",
       "      <td>2.0</td>\n",
       "      <td>56.0</td>\n",
       "      <td>12.0</td>\n",
       "      <td>31.0</td>\n",
       "      <td>57.0</td>\n",
       "      <td>;onLoad;Thu Jul 24 2025 16:52:17 GMT+0200 (Mit...</td>\n",
       "      <td>1</td>\n",
       "      <td>6.0</td>\n",
       "      <td>6.0</td>\n",
       "      <td>6.0</td>\n",
       "      <td>13.0</td>\n",
       "      <td>4.0</td>\n",
       "      <td>45.0</td>\n",
       "      <td>34.0</td>\n",
       "      <td>29.0</td>\n",
       "      <td>50.0</td>\n",
       "      <td>;onLoad;Thu Jul 24 2025 16:53:43 GMT+0200 (Mit...</td>\n",
       "      <td>2</td>\n",
       "      <td>6.0</td>\n",
       "      <td>6.0</td>\n",
       "      <td>7.0</td>\n",
       "      <td>6.0</td>\n",
       "      <td>2.0</td>\n",
       "      <td>57.0</td>\n",
       "      <td>14.0</td>\n",
       "      <td>34.0</td>\n",
       "      <td>56.0</td>\n",
       "      <td>;onLoad;Thu Jul 24 2025 16:55:10 GMT+0200 (Mit...</td>\n",
       "      <td>3</td>\n",
       "      <td>6.0</td>\n",
       "      <td>6.0</td>\n",
       "      <td>6.0</td>\n",
       "      <td>9.0</td>\n",
       "      <td>2.0</td>\n",
       "      <td>75.0</td>\n",
       "      <td>5.0</td>\n",
       "      <td>28.0</td>\n",
       "      <td>66.0</td>\n",
       "      <td>;onLoad;Thu Jul 24 2025 16:56:36 GMT+0200 (Mit...</td>\n",
       "      <td>4</td>\n",
       "      <td>6.0</td>\n",
       "      <td>6.0</td>\n",
       "      <td>6.0</td>\n",
       "      <td>7.0</td>\n",
       "      <td>2.0</td>\n",
       "      <td>59.0</td>\n",
       "      <td>22.0</td>\n",
       "      <td>29.0</td>\n",
       "      <td>45.0</td>\n",
       "      <td>;onLoad;Thu Jul 24 2025 16:58:00 GMT+0200 (Mit...</td>\n",
       "      <td>5</td>\n",
       "      <td>6.0</td>\n",
       "      <td>6.0</td>\n",
       "      <td>6.0</td>\n",
       "      <td>9.0</td>\n",
       "      <td>5.0</td>\n",
       "      <td>52.0</td>\n",
       "      <td>8.0</td>\n",
       "      <td>31.0</td>\n",
       "      <td>79.0</td>\n",
       "      <td>;onLoad;Thu Jul 24 2025 16:59:23 GMT+0200 (Mit...</td>\n",
       "      <td>6</td>\n",
       "      <td>7</td>\n",
       "      <td>8.0</td>\n",
       "      <td>57.0</td>\n",
       "      <td>29.0</td>\n",
       "      <td>35.0</td>\n",
       "      <td>65.0</td>\n",
       "      <td>5.0</td>\n",
       "      <td>5.0</td>\n",
       "      <td>4.0</td>\n",
       "      <td>7.0</td>\n",
       "      <td>2.0</td>\n",
       "      <td>;onLoad;Thu Jul 24 2025 17:00:52 GMT+0200 (Mit...</td>\n",
       "      <td>;onLoad;Thu Jul 24 2025 17:01:30 GMT+0200 (Mit...</td>\n",
       "      <td>8</td>\n",
       "      <td>5.0</td>\n",
       "      <td>5.0</td>\n",
       "      <td>6.0</td>\n",
       "      <td>7.0</td>\n",
       "      <td>2.0</td>\n",
       "      <td>58.0</td>\n",
       "      <td>11.0</td>\n",
       "      <td>35.0</td>\n",
       "      <td>60.0</td>\n",
       "      <td>;taskStart;Thu Jul 24 2025 17:02:30 GMT+0200 (...</td>\n",
       "      <td>1</td>\n",
       "      <td>6.0</td>\n",
       "      <td>6.0</td>\n",
       "      <td>5.0</td>\n",
       "      <td>7.0</td>\n",
       "      <td>2.0</td>\n",
       "      <td>64.0</td>\n",
       "      <td>22.0</td>\n",
       "      <td>38.0</td>\n",
       "      <td>59.0</td>\n",
       "      <td>;taskStart;Thu Jul 24 2025 17:03:53 GMT+0200 (...</td>\n",
       "      <td>2</td>\n",
       "      <td>5.0</td>\n",
       "      <td>4.0</td>\n",
       "      <td>5.0</td>\n",
       "      <td>8.0</td>\n",
       "      <td>3.0</td>\n",
       "      <td>61.0</td>\n",
       "      <td>9.0</td>\n",
       "      <td>31.0</td>\n",
       "      <td>55.0</td>\n",
       "      <td>;taskStart;Thu Jul 24 2025 17:05:16 GMT+0200 (...</td>\n",
       "      <td>3</td>\n",
       "      <td>6.0</td>\n",
       "      <td>6.0</td>\n",
       "      <td>6.0</td>\n",
       "      <td>15.0</td>\n",
       "      <td>5.0</td>\n",
       "      <td>63.0</td>\n",
       "      <td>25.0</td>\n",
       "      <td>36.0</td>\n",
       "      <td>81.0</td>\n",
       "      <td>;taskStart;Thu Jul 24 2025 17:06:41 GMT+0200 (...</td>\n",
       "      <td>4</td>\n",
       "      <td>6.0</td>\n",
       "      <td>5.0</td>\n",
       "      <td>6.0</td>\n",
       "      <td>7.0</td>\n",
       "      <td>2.0</td>\n",
       "      <td>69.0</td>\n",
       "      <td>18.0</td>\n",
       "      <td>39.0</td>\n",
       "      <td>89.0</td>\n",
       "      <td>;taskStart;Thu Jul 24 2025 17:08:04 GMT+0200 (...</td>\n",
       "      <td>5</td>\n",
       "      <td>6.0</td>\n",
       "      <td>5.0</td>\n",
       "      <td>6.0</td>\n",
       "      <td>16.0</td>\n",
       "      <td>5.0</td>\n",
       "      <td>63.0</td>\n",
       "      <td>1.0</td>\n",
       "      <td>31.0</td>\n",
       "      <td>100.0</td>\n",
       "      <td>;taskStart;Thu Jul 24 2025 17:09:28 GMT+0200 (...</td>\n",
       "      <td>6</td>\n",
       "      <td>7</td>\n",
       "      <td>4.0</td>\n",
       "      <td>61.0</td>\n",
       "      <td>6.0</td>\n",
       "      <td>35.0</td>\n",
       "      <td>68.0</td>\n",
       "      <td>4.0</td>\n",
       "      <td>5.0</td>\n",
       "      <td>4.0</td>\n",
       "      <td>6.0</td>\n",
       "      <td>2.0</td>\n",
       "      <td>;onLoad;Thu Jul 24 2025 17:10:55 GMT+0200 (Mit...</td>\n",
       "      <td>;onLoad;Thu Jul 24 2025 17:11:30 GMT+0200 (Mit...</td>\n",
       "      <td>8</td>\n",
       "      <td>NaN</td>\n",
       "      <td>1</td>\n",
       "      <td>3.0</td>\n",
       "      <td>5.0</td>\n",
       "      <td>4.0</td>\n",
       "      <td>5.0</td>\n",
       "      <td>1</td>\n",
       "    </tr>\n",
       "  </tbody>\n",
       "</table>\n",
       "</div>"
      ],
      "text/plain": [
       "  participant.code  participant._index_in_pages  participant._max_page_index  \\\n",
       "0         c84uz72q                          373                          373   \n",
       "1         c6b9o7pz                          373                          373   \n",
       "2         go2kbs0y                          373                          373   \n",
       "3         d6pc8ogx                          373                          373   \n",
       "4         6s5m02ip                          373                          373   \n",
       "\n",
       "  participant.time_started_utc participant.token session.config.name  \\\n",
       "0   2025-07-17 06:07:04.105845            anejys          Math_Whack   \n",
       "1   2025-07-17 06:07:36.639569            az2bj9          Math_Whack   \n",
       "2   2025-07-21 10:41:08.661979            g808pk          Whack_Math   \n",
       "3   2025-07-24 10:35:43.224554            4wlws4          Math_Whack   \n",
       "4   2025-07-24 13:19:46.248355            9hqfii          Math_Whack   \n",
       "\n",
       "  setup.1.player.headset_color setup.1.player.token  \\\n",
       "0                        Green               anejys   \n",
       "1                        White               az2bj9   \n",
       "2                        Green               g808pk   \n",
       "3                         Pink               4wlws4   \n",
       "4                         Pink               9hqfii   \n",
       "\n",
       "  introduction.1.player.handedness  \\\n",
       "0                            Right   \n",
       "1                            Right   \n",
       "2                            Right   \n",
       "3                            Right   \n",
       "4                            Right   \n",
       "\n",
       "                       introduction.1.player.english  \\\n",
       "0  C2 Proficiency English – I can understand with...   \n",
       "1  C2 Proficiency English – I can understand with...   \n",
       "2  C2 Proficiency English – I can understand with...   \n",
       "3  B1 Intermediate English – I understand the mai...   \n",
       "4  C2 Proficiency English – I can understand with...   \n",
       "\n",
       "  introduction.1.player.multilingual  introduction.1.player.age  \\\n",
       "0                                Yes                       34.0   \n",
       "1                                Yes                       29.0   \n",
       "2                                Yes                       27.0   \n",
       "3                                 No                       23.0   \n",
       "4                                Yes                       22.0   \n",
       "\n",
       "  introduction.1.player.gender introduction.1.player.glasses  \\\n",
       "0                         Male                            No   \n",
       "1                         Male                            No   \n",
       "2                       Female                           Yes   \n",
       "3                       Female                            No   \n",
       "4                         Male                            No   \n",
       "\n",
       "  introduction.1.player.eye_sight introduction.1.player.color_sight  \\\n",
       "0                             Yes     I can see all colors and hues   \n",
       "1                             Yes     I can see all colors and hues   \n",
       "2                              No     I can see all colors and hues   \n",
       "3                             Yes     I can see all colors and hues   \n",
       "4                             Yes     I can see all colors and hues   \n",
       "\n",
       "  introduction.1.player.hearing introduction.1.player.occupation  \\\n",
       "0                           Yes                          Student   \n",
       "1                           Yes                          Student   \n",
       "2                           Yes                          Student   \n",
       "3                           Yes                          Student   \n",
       "4                           Yes                         Employee   \n",
       "\n",
       "  introduction.1.player.education_level introduction.1.player.headsize  \\\n",
       "0                                Master                         Medium   \n",
       "1                              Bachelor                         Medium   \n",
       "2                              Bachelor                         Medium   \n",
       "3                                Abitur                          Small   \n",
       "4                              Bachelor                         Medium   \n",
       "\n",
       "   introduction.1.player.weight  introduction.1.player.height  \\\n",
       "0                          62.0                         169.0   \n",
       "1                          79.0                         176.0   \n",
       "2                          82.0                         177.0   \n",
       "3                          52.0                         175.0   \n",
       "4                          70.0                         178.0   \n",
       "\n",
       "  introduction.1.player.hair_style_top introduction.1.player.hair_style_ears  \\\n",
       "0             (Almost) No Hair (0-1cm)                          Long (>10mm)   \n",
       "1                  Very Short (1-10cm)                       Medium (5-10mm)   \n",
       "2   Long (Mid-back or Tailbone Length)                          Long (>10mm)   \n",
       "3   Medium (Shoulder or Armpit Length)                          Long (>10mm)   \n",
       "4                  Very Short (1-10cm)                       Medium (5-10mm)   \n",
       "\n",
       "  introduction.1.player.hair_type introduction.1.player.hair_density  \\\n",
       "0                        Straight                             Medium   \n",
       "1                        Straight            High (Dense/Thick Hair)   \n",
       "2                        Straight                             Medium   \n",
       "3                        Straight                             Medium   \n",
       "4                        Straight                    Low (Fine Hair)   \n",
       "\n",
       "  introduction.1.player.beard_style introduction.1.player.hair_products  \\\n",
       "0                    No Beard (0mm)                                  No   \n",
       "1             Light Stubble (0-5mm)                                  No   \n",
       "2                    No Beard (0mm)                                  No   \n",
       "3                    No Beard (0mm)                                 Yes   \n",
       "4           Medium Stubble (5-10mm)                                  No   \n",
       "\n",
       "  introduction.1.player.skin_oily_dry_1 introduction.1.player.skin_oily_dry_2  \\\n",
       "0                                Normal                             Sometimes   \n",
       "1                                Normal                             Sometimes   \n",
       "2                                Normal  Never, or you’ve never noticed shine   \n",
       "3                                  Oily                             Sometimes   \n",
       "4                                Normal                             Sometimes   \n",
       "\n",
       "  introduction.1.player.skin_resistant_sensitive_1  \\\n",
       "0                                            Often   \n",
       "1                 I don’t wear products on my face   \n",
       "2                                            Never   \n",
       "3                                            Often   \n",
       "4                 I don’t wear products on my face   \n",
       "\n",
       "  introduction.1.player.skin_resistant_sensitive_2  \\\n",
       "0                     Never, or I never noticed it   \n",
       "1                     Never, or I never noticed it   \n",
       "2                     Never, or I never noticed it   \n",
       "3                     Never, or I never noticed it   \n",
       "4                     Never, or I never noticed it   \n",
       "\n",
       "  introduction.1.player.skin_products introduction.1.player.time_since_meal  \\\n",
       "0                                  No                       In the last 12h   \n",
       "1                                  No                       In the last 12h   \n",
       "2                                  No                       In the last 12h   \n",
       "3                                 Yes                        In the last 3h   \n",
       "4                                  No                        In the last 6h   \n",
       "\n",
       "  introduction.1.player.time_since_hydration  \\\n",
       "0                           In the last hour   \n",
       "1                            In the last 12h   \n",
       "2                             In the last 3h   \n",
       "3                           In the last hour   \n",
       "4                             In the last 6h   \n",
       "\n",
       "  introduction.1.player.time_since_caffeine  \\\n",
       "0                     More than 24h / Never   \n",
       "1                           In the last 24h   \n",
       "2                           In the last 24h   \n",
       "3                            In the last 3h   \n",
       "4                           In the last 24h   \n",
       "\n",
       "  introduction.1.player.time_since_nicotine  \\\n",
       "0                     More than 24h / Never   \n",
       "1                     More than 24h / Never   \n",
       "2                          In the last hour   \n",
       "3                     More than 24h / Never   \n",
       "4                     More than 24h / Never   \n",
       "\n",
       "  introduction.1.player.time_since_alcohol  \\\n",
       "0                          In the last 12h   \n",
       "1                    More than 24h / Never   \n",
       "2                          In the last 24h   \n",
       "3                          In the last 24h   \n",
       "4                    More than 24h / Never   \n",
       "\n",
       "   introduction.1.player.flow_trait_single  \\\n",
       "0                                      3.0   \n",
       "1                                      4.0   \n",
       "2                                      5.0   \n",
       "3                                      4.0   \n",
       "4                                      5.0   \n",
       "\n",
       "   introduction.1.player.flow_trait_sfds1  \\\n",
       "0                                     3.0   \n",
       "1                                     5.0   \n",
       "2                                     5.0   \n",
       "3                                     5.0   \n",
       "4                                     6.0   \n",
       "\n",
       "   introduction.1.player.flow_trait_sfds2  \\\n",
       "0                                     4.0   \n",
       "1                                     5.0   \n",
       "2                                     2.0   \n",
       "3                                     5.0   \n",
       "4                                     5.0   \n",
       "\n",
       "   introduction.1.player.flow_trait_sfds3  \\\n",
       "0                                     3.0   \n",
       "1                                     5.0   \n",
       "2                                     2.0   \n",
       "3                                     3.0   \n",
       "4                                     7.0   \n",
       "\n",
       "   introduction.1.player.flow_trait_sfds4  \\\n",
       "0                                     4.0   \n",
       "1                                     3.0   \n",
       "2                                     1.0   \n",
       "3                                     3.0   \n",
       "4                                     3.0   \n",
       "\n",
       "   introduction.1.player.flow_trait_sfds5  \\\n",
       "0                                     5.0   \n",
       "1                                     3.0   \n",
       "2                                     2.0   \n",
       "3                                     3.0   \n",
       "4                                     4.0   \n",
       "\n",
       "   introduction.1.player.flow_trait_sfds6  \\\n",
       "0                                     3.0   \n",
       "1                                     3.0   \n",
       "2                                     3.0   \n",
       "3                                     4.0   \n",
       "4                                     4.0   \n",
       "\n",
       "   introduction.1.player.flow_trait_sfds7  \\\n",
       "0                                     4.0   \n",
       "1                                     4.0   \n",
       "2                                     2.0   \n",
       "3                                     5.0   \n",
       "4                                     5.0   \n",
       "\n",
       "   introduction.1.player.flow_trait_sfds8  \\\n",
       "0                                     6.0   \n",
       "1                                     3.0   \n",
       "2                                     3.0   \n",
       "3                                     4.0   \n",
       "4                                     2.0   \n",
       "\n",
       "   introduction.1.player.flow_trait_sfds9  \\\n",
       "0                                     6.0   \n",
       "1                                     3.0   \n",
       "2                                     4.0   \n",
       "3                                     6.0   \n",
       "4                                     2.0   \n",
       "\n",
       "   introduction.1.player.flow_trait_sfds10  introduction.1.player.rcsq_sleep  \\\n",
       "0                                      3.0                             100.0   \n",
       "1                                      3.0                              33.0   \n",
       "2                                      6.0                              63.0   \n",
       "3                                      1.0                              24.0   \n",
       "4                                      5.0                              70.0   \n",
       "\n",
       "   headphones_setup_1.1.player.ux_comfort  \\\n",
       "0                                     4.0   \n",
       "1                                     5.0   \n",
       "2                                     6.0   \n",
       "3                                     2.0   \n",
       "4                                     5.0   \n",
       "\n",
       "   headphones_setup_1.1.player.ux_speed  headphones_setup_1.1.player.ux_ease  \\\n",
       "0                                   7.0                                  6.0   \n",
       "1                                   7.0                                  7.0   \n",
       "2                                   7.0                                  7.0   \n",
       "3                                   6.0                                  4.0   \n",
       "4                                   5.0                                  5.0   \n",
       "\n",
       "   headphones_setup_1.1.player.ux_look  headphones_setup_1.1.player.wx_public  \\\n",
       "0                                  4.0                                    3.0   \n",
       "1                                  7.0                                    5.0   \n",
       "2                                  4.0                                    6.0   \n",
       "3                                  2.0                                    1.0   \n",
       "4                                  2.0                                    2.0   \n",
       "\n",
       "   headphones_setup_1.1.player.wx_private  \\\n",
       "0                                     4.0   \n",
       "1                                     6.0   \n",
       "2                                     7.0   \n",
       "3                                     4.0   \n",
       "4                                     4.0   \n",
       "\n",
       "   headphones_setup_1.1.player.wx_conversation  \\\n",
       "0                                          2.0   \n",
       "1                                          7.0   \n",
       "2                                          5.0   \n",
       "3                                          4.0   \n",
       "4                                          3.0   \n",
       "\n",
       "   headphones_setup_1.1.player.wx_others  \\\n",
       "0                                    4.0   \n",
       "1                                    3.0   \n",
       "2                                    1.0   \n",
       "3                                    5.0   \n",
       "4                                    6.0   \n",
       "\n",
       "   headphones_setup_1.1.player.tlx_single  headphones_setup_1.1.player.sus_01  \\\n",
       "0                                     4.0                                 3.0   \n",
       "1                                     5.0                                 4.0   \n",
       "2                                     0.0                                 4.0   \n",
       "3                                     1.0                                 3.0   \n",
       "4                                     1.0                                 2.0   \n",
       "\n",
       "   headphones_setup_1.1.player.sus_02  headphones_setup_1.1.player.sus_03  \\\n",
       "0                                 2.0                                 1.0   \n",
       "1                                 1.0                                 5.0   \n",
       "2                                 1.0                                 4.0   \n",
       "3                                 1.0                                 4.0   \n",
       "4                                 2.0                                 2.0   \n",
       "\n",
       "   headphones_setup_1.1.player.sus_04  headphones_setup_1.1.player.sus_05  \\\n",
       "0                                 2.0                                 4.0   \n",
       "1                                 1.0                                 4.0   \n",
       "2                                 2.0                                 4.0   \n",
       "3                                 5.0                                 3.0   \n",
       "4                                 3.0                                 2.0   \n",
       "\n",
       "   headphones_setup_1.1.player.sus_06  headphones_setup_1.1.player.sus_07  \\\n",
       "0                                 1.0                                 2.0   \n",
       "1                                 1.0                                 5.0   \n",
       "2                                 1.0                                 5.0   \n",
       "3                                 2.0                                 4.0   \n",
       "4                                 3.0                                 4.0   \n",
       "\n",
       "   headphones_setup_1.1.player.sus_08  headphones_setup_1.1.player.sus_09  \\\n",
       "0                                 1.0                                 4.0   \n",
       "1                                 2.0                                 5.0   \n",
       "2                                 3.0                                 5.0   \n",
       "3                                 3.0                                 2.0   \n",
       "4                                 3.0                                 3.0   \n",
       "\n",
       "   headphones_setup_1.1.player.sus_10  headphones_setup_1.1.player.mr_mood  \\\n",
       "0                                 1.0                                 83.0   \n",
       "1                                 1.0                                 59.0   \n",
       "2                                 1.0                                 89.0   \n",
       "3                                 5.0                                 34.0   \n",
       "4                                 2.0                                 50.0   \n",
       "\n",
       "   headphones_setup_1.1.player.mr_sleepy  \\\n",
       "0                                   88.0   \n",
       "1                                   60.0   \n",
       "2                                    9.0   \n",
       "3                                   94.0   \n",
       "4                                   39.0   \n",
       "\n",
       "   headphones_setup_1.1.player.mr_motivy  \\\n",
       "0                                   90.0   \n",
       "1                                   70.0   \n",
       "2                                   35.0   \n",
       "3                                   49.0   \n",
       "4                                   44.0   \n",
       "\n",
       "   headphones_setup_1.1.player.mf_single  headphones_setup_1.1.player.mf_01  \\\n",
       "0                                    1.0                                3.0   \n",
       "1                                   50.0                                5.0   \n",
       "2                                   81.0                                5.0   \n",
       "3                                   19.0                                5.0   \n",
       "4                                   24.0                                6.0   \n",
       "\n",
       "   headphones_setup_1.1.player.mf_02  headphones_setup_1.1.player.mf_03  \\\n",
       "0                                3.0                                3.0   \n",
       "1                                5.0                                3.0   \n",
       "2                                4.0                                3.0   \n",
       "3                                5.0                                2.0   \n",
       "4                                6.0                                1.0   \n",
       "\n",
       "   headphones_setup_1.1.player.mf_04  \\\n",
       "0                                3.0   \n",
       "1                                3.0   \n",
       "2                                6.0   \n",
       "3                                1.0   \n",
       "4                                4.0   \n",
       "\n",
       "         headphones_setup_1.1.player.rest_actions_eo  \\\n",
       "0  ;onLoad;Thu Jul 17 2025 08:49:43 GMT+0200 (Mit...   \n",
       "1  ;onLoad;Thu Jul 17 2025 09:09:51 GMT+0200 (Mit...   \n",
       "2  ;onLoad;Mon Jul 21 2025 13:09:03 GMT+0200 (Mit...   \n",
       "3  ;onLoad;Thu Jul 24 2025 13:26:36 GMT+0200 (Mit...   \n",
       "4  ;onLoad;Thu Jul 24 2025 15:50:21 GMT+0200 (Mit...   \n",
       "\n",
       "         headphones_setup_1.1.player.rest_actions_ec  \\\n",
       "0  ;onLoad;Thu Jul 17 2025 08:50:31 GMT+0200 (Mit...   \n",
       "1  ;onLoad;Thu Jul 17 2025 09:10:54 GMT+0200 (Mit...   \n",
       "2  ;onLoad;Mon Jul 21 2025 13:09:47 GMT+0200 (Mit...   \n",
       "3  ;onLoad;Thu Jul 24 2025 13:27:24 GMT+0200 (Mit...   \n",
       "4  ;onLoad;Thu Jul 24 2025 15:51:08 GMT+0200 (Mit...   \n",
       "\n",
       "   headphones_setup_1.1.subsession.round_number  mathTask_1.1.player.fss06  \\\n",
       "0                                             1                        7.0   \n",
       "1                                             1                        7.0   \n",
       "2                                             1                        7.0   \n",
       "3                                             1                        4.0   \n",
       "4                                             1                        6.0   \n",
       "\n",
       "   mathTask_1.1.player.fss08  mathTask_1.1.player.fss09  \\\n",
       "0                        7.0                        5.0   \n",
       "1                        7.0                        7.0   \n",
       "2                        7.0                        7.0   \n",
       "3                        7.0                        7.0   \n",
       "4                        7.0                        7.0   \n",
       "\n",
       "   mathTask_1.1.player.tlx_single  mathTask_1.1.player.difficulty  \\\n",
       "0                            19.0                             5.0   \n",
       "1                            15.0                             2.0   \n",
       "2                             7.0                             3.0   \n",
       "3                            21.0                             5.0   \n",
       "4                            12.0                             2.0   \n",
       "\n",
       "   mathTask_1.1.player.mr_mood  mathTask_1.1.player.mr_sleepy  \\\n",
       "0                         89.0                           90.0   \n",
       "1                         76.0                           78.0   \n",
       "2                         94.0                           46.0   \n",
       "3                         76.0                           81.0   \n",
       "4                         68.0                           25.0   \n",
       "\n",
       "   mathTask_1.1.player.mr_motivy  mathTask_1.1.player.mf_single  \\\n",
       "0                           92.0                           93.0   \n",
       "1                           82.0                           31.0   \n",
       "2                           63.0                           21.0   \n",
       "3                           80.0                           20.0   \n",
       "4                           59.0                           25.0   \n",
       "\n",
       "                    mathTask_1.1.player.math_actions  \\\n",
       "0  ;onLoad;Thu Jul 17 2025 08:52:29 GMT+0200 (Mit...   \n",
       "1  ;onLoad;Thu Jul 17 2025 09:13:15 GMT+0200 (Mit...   \n",
       "2  ;onLoad;Mon Jul 21 2025 13:24:56 GMT+0200 (Mit...   \n",
       "3  ;onLoad;Thu Jul 24 2025 13:29:28 GMT+0200 (Mit...   \n",
       "4  ;onLoad;Thu Jul 24 2025 15:52:40 GMT+0200 (Mit...   \n",
       "\n",
       "   mathTask_1.1.subsession.round_number  mathTask_1.2.player.fss06  \\\n",
       "0                                     1                        7.0   \n",
       "1                                     1                        7.0   \n",
       "2                                     1                        7.0   \n",
       "3                                     1                        3.0   \n",
       "4                                     1                        6.0   \n",
       "\n",
       "   mathTask_1.2.player.fss08  mathTask_1.2.player.fss09  \\\n",
       "0                        2.0                        2.0   \n",
       "1                        7.0                        6.0   \n",
       "2                        7.0                        4.0   \n",
       "3                        7.0                        1.0   \n",
       "4                        7.0                        5.0   \n",
       "\n",
       "   mathTask_1.2.player.tlx_single  mathTask_1.2.player.difficulty  \\\n",
       "0                            21.0                             6.0   \n",
       "1                            16.0                             4.0   \n",
       "2                            14.0                             6.0   \n",
       "3                            21.0                             7.0   \n",
       "4                            18.0                             6.0   \n",
       "\n",
       "   mathTask_1.2.player.mr_mood  mathTask_1.2.player.mr_sleepy  \\\n",
       "0                         90.0                           90.0   \n",
       "1                         81.0                           80.0   \n",
       "2                         96.0                           50.0   \n",
       "3                         21.0                           94.0   \n",
       "4                         66.0                           29.0   \n",
       "\n",
       "   mathTask_1.2.player.mr_motivy  mathTask_1.2.player.mf_single  \\\n",
       "0                           92.0                           23.0   \n",
       "1                           83.0                           41.0   \n",
       "2                           74.0                           21.0   \n",
       "3                           65.0                           44.0   \n",
       "4                           60.0                           24.0   \n",
       "\n",
       "                    mathTask_1.2.player.math_actions  \\\n",
       "0  ;onLoad;Thu Jul 17 2025 08:54:43 GMT+0200 (Mit...   \n",
       "1  ;onLoad;Thu Jul 17 2025 09:15:15 GMT+0200 (Mit...   \n",
       "2  ;onLoad;Mon Jul 21 2025 13:26:36 GMT+0200 (Mit...   \n",
       "3  ;onLoad;Thu Jul 24 2025 13:31:48 GMT+0200 (Mit...   \n",
       "4  ;onLoad;Thu Jul 24 2025 15:54:31 GMT+0200 (Mit...   \n",
       "\n",
       "   mathTask_1.2.subsession.round_number  mathTask_1.3.player.fss06  \\\n",
       "0                                     2                        7.0   \n",
       "1                                     2                        7.0   \n",
       "2                                     2                        7.0   \n",
       "3                                     2                        3.0   \n",
       "4                                     2                        5.0   \n",
       "\n",
       "   mathTask_1.3.player.fss08  mathTask_1.3.player.fss09  \\\n",
       "0                        7.0                        4.0   \n",
       "1                        7.0                        7.0   \n",
       "2                        7.0                        7.0   \n",
       "3                        7.0                        7.0   \n",
       "4                        7.0                        5.0   \n",
       "\n",
       "   mathTask_1.3.player.tlx_single  mathTask_1.3.player.difficulty  \\\n",
       "0                            20.0                             5.0   \n",
       "1                            13.0                             3.0   \n",
       "2                            12.0                             3.0   \n",
       "3                            21.0                             6.0   \n",
       "4                             9.0                             5.0   \n",
       "\n",
       "   mathTask_1.3.player.mr_mood  mathTask_1.3.player.mr_sleepy  \\\n",
       "0                         90.0                           92.0   \n",
       "1                         68.0                           71.0   \n",
       "2                         95.0                           43.0   \n",
       "3                         50.0                           77.0   \n",
       "4                         65.0                           11.0   \n",
       "\n",
       "   mathTask_1.3.player.mr_motivy  mathTask_1.3.player.mf_single  \\\n",
       "0                           91.0                           11.0   \n",
       "1                           72.0                           32.0   \n",
       "2                           50.0                           21.0   \n",
       "3                           77.0                           29.0   \n",
       "4                           52.0                           31.0   \n",
       "\n",
       "                    mathTask_1.3.player.math_actions  \\\n",
       "0  ;onLoad;Thu Jul 17 2025 08:56:35 GMT+0200 (Mit...   \n",
       "1  ;onLoad;Thu Jul 17 2025 09:16:57 GMT+0200 (Mit...   \n",
       "2  ;onLoad;Mon Jul 21 2025 13:28:24 GMT+0200 (Mit...   \n",
       "3  ;onLoad;Thu Jul 24 2025 13:33:39 GMT+0200 (Mit...   \n",
       "4  ;onLoad;Thu Jul 24 2025 15:56:16 GMT+0200 (Mit...   \n",
       "\n",
       "   mathTask_1.3.subsession.round_number  mathTask_1.4.player.fss06  \\\n",
       "0                                     3                        7.0   \n",
       "1                                     3                        7.0   \n",
       "2                                     3                        7.0   \n",
       "3                                     3                        4.0   \n",
       "4                                     3                        5.0   \n",
       "\n",
       "   mathTask_1.4.player.fss08  mathTask_1.4.player.fss09  \\\n",
       "0                        4.0                        4.0   \n",
       "1                        7.0                        7.0   \n",
       "2                        7.0                        5.0   \n",
       "3                        7.0                        1.0   \n",
       "4                        6.0                        5.0   \n",
       "\n",
       "   mathTask_1.4.player.tlx_single  mathTask_1.4.player.difficulty  \\\n",
       "0                            20.0                             5.0   \n",
       "1                            13.0                             3.0   \n",
       "2                            20.0                             6.0   \n",
       "3                            21.0                             7.0   \n",
       "4                            21.0                             7.0   \n",
       "\n",
       "   mathTask_1.4.player.mr_mood  mathTask_1.4.player.mr_sleepy  \\\n",
       "0                         90.0                           90.0   \n",
       "1                         78.0                           80.0   \n",
       "2                         97.0                           47.0   \n",
       "3                         40.0                           74.0   \n",
       "4                         65.0                            8.0   \n",
       "\n",
       "   mathTask_1.4.player.mr_motivy  mathTask_1.4.player.mf_single  \\\n",
       "0                           95.0                            9.0   \n",
       "1                           84.0                           40.0   \n",
       "2                           63.0                           27.0   \n",
       "3                           55.0                           75.0   \n",
       "4                           65.0                           30.0   \n",
       "\n",
       "                    mathTask_1.4.player.math_actions  \\\n",
       "0  ;onLoad;Thu Jul 17 2025 08:58:19 GMT+0200 (Mit...   \n",
       "1  ;onLoad;Thu Jul 17 2025 09:18:29 GMT+0200 (Mit...   \n",
       "2  ;onLoad;Mon Jul 21 2025 13:30:10 GMT+0200 (Mit...   \n",
       "3  ;onLoad;Thu Jul 24 2025 13:35:23 GMT+0200 (Mit...   \n",
       "4  ;onLoad;Thu Jul 24 2025 15:57:57 GMT+0200 (Mit...   \n",
       "\n",
       "   mathTask_1.4.subsession.round_number  mathTask_1.5.player.fss06  \\\n",
       "0                                     4                        7.0   \n",
       "1                                     4                        7.0   \n",
       "2                                     4                        5.0   \n",
       "3                                     4                        6.0   \n",
       "4                                     4                        6.0   \n",
       "\n",
       "   mathTask_1.5.player.fss08  mathTask_1.5.player.fss09  \\\n",
       "0                        7.0                        5.0   \n",
       "1                        7.0                        7.0   \n",
       "2                        7.0                        7.0   \n",
       "3                        7.0                        3.0   \n",
       "4                        7.0                        6.0   \n",
       "\n",
       "   mathTask_1.5.player.tlx_single  mathTask_1.5.player.difficulty  \\\n",
       "0                            21.0                             5.0   \n",
       "1                             9.0                             2.0   \n",
       "2                             8.0                             3.0   \n",
       "3                            21.0                             6.0   \n",
       "4                            13.0                             3.0   \n",
       "\n",
       "   mathTask_1.5.player.mr_mood  mathTask_1.5.player.mr_sleepy  \\\n",
       "0                         89.0                           90.0   \n",
       "1                         79.0                           78.0   \n",
       "2                         96.0                           50.0   \n",
       "3                         54.0                           49.0   \n",
       "4                         54.0                           20.0   \n",
       "\n",
       "   mathTask_1.5.player.mr_motivy  mathTask_1.5.player.mf_single  \\\n",
       "0                           90.0                           26.0   \n",
       "1                           82.0                           24.0   \n",
       "2                           67.0                           21.0   \n",
       "3                           47.0                           50.0   \n",
       "4                           57.0                           37.0   \n",
       "\n",
       "                    mathTask_1.5.player.math_actions  \\\n",
       "0  ;onLoad;Thu Jul 17 2025 09:00:03 GMT+0200 (Mit...   \n",
       "1  ;onLoad;Thu Jul 17 2025 09:19:59 GMT+0200 (Mit...   \n",
       "2  ;onLoad;Mon Jul 21 2025 13:32:02 GMT+0200 (Mit...   \n",
       "3  ;onLoad;Thu Jul 24 2025 13:37:05 GMT+0200 (Mit...   \n",
       "4  ;onLoad;Thu Jul 24 2025 15:59:30 GMT+0200 (Mit...   \n",
       "\n",
       "   mathTask_1.5.subsession.round_number  mathTask_1.6.player.fss06  \\\n",
       "0                                     5                        7.0   \n",
       "1                                     5                        7.0   \n",
       "2                                     5                        7.0   \n",
       "3                                     5                        4.0   \n",
       "4                                     5                        7.0   \n",
       "\n",
       "   mathTask_1.6.player.fss08  mathTask_1.6.player.fss09  \\\n",
       "0                        6.0                        6.0   \n",
       "1                        7.0                        7.0   \n",
       "2                        7.0                        7.0   \n",
       "3                        7.0                        2.0   \n",
       "4                        7.0                        6.0   \n",
       "\n",
       "   mathTask_1.6.player.tlx_single  mathTask_1.6.player.difficulty  \\\n",
       "0                            21.0                             7.0   \n",
       "1                            16.0                             3.0   \n",
       "2                            12.0                             4.0   \n",
       "3                            21.0                             7.0   \n",
       "4                            21.0                             7.0   \n",
       "\n",
       "   mathTask_1.6.player.mr_mood  mathTask_1.6.player.mr_sleepy  \\\n",
       "0                         90.0                           91.0   \n",
       "1                         58.0                           81.0   \n",
       "2                         97.0                           50.0   \n",
       "3                         42.0                           44.0   \n",
       "4                         56.0                           41.0   \n",
       "\n",
       "   mathTask_1.6.player.mr_motivy  mathTask_1.6.player.mf_single  \\\n",
       "0                           92.0                           11.0   \n",
       "1                           83.0                           40.0   \n",
       "2                           60.0                           12.0   \n",
       "3                           47.0                           50.0   \n",
       "4                           61.0                           32.0   \n",
       "\n",
       "                    mathTask_1.6.player.math_actions  \\\n",
       "0  ;onLoad;Thu Jul 17 2025 09:01:43 GMT+0200 (Mit...   \n",
       "1  ;onLoad;Thu Jul 17 2025 09:21:38 GMT+0200 (Mit...   \n",
       "2  ;onLoad;Mon Jul 21 2025 13:33:50 GMT+0200 (Mit...   \n",
       "3  ;onLoad;Thu Jul 24 2025 13:38:56 GMT+0200 (Mit...   \n",
       "4  ;onLoad;Thu Jul 24 2025 16:01:04 GMT+0200 (Mit...   \n",
       "\n",
       "   mathTask_1.6.subsession.round_number  mathTask_1.7.subsession.round_number  \\\n",
       "0                                     6                                     7   \n",
       "1                                     6                                     7   \n",
       "2                                     6                                     7   \n",
       "3                                     6                                     7   \n",
       "4                                     6                                     7   \n",
       "\n",
       "   mathTask_1.8.player.tlx_single  mathTask_1.8.player.mr_mood  \\\n",
       "0                             7.0                         88.0   \n",
       "1                             4.0                         72.0   \n",
       "2                             0.0                         96.0   \n",
       "3                             2.0                         50.0   \n",
       "4                            10.0                         67.0   \n",
       "\n",
       "   mathTask_1.8.player.mr_sleepy  mathTask_1.8.player.mr_motivy  \\\n",
       "0                           89.0                           91.0   \n",
       "1                           73.0                           72.0   \n",
       "2                           43.0                           50.0   \n",
       "3                           45.0                           50.0   \n",
       "4                           15.0                           55.0   \n",
       "\n",
       "   mathTask_1.8.player.mf_single  mathTask_1.8.player.mf_01  \\\n",
       "0                           17.0                        3.0   \n",
       "1                           27.0                        7.0   \n",
       "2                           23.0                        4.0   \n",
       "3                           43.0                        3.0   \n",
       "4                           25.0                        5.0   \n",
       "\n",
       "   mathTask_1.8.player.mf_02  mathTask_1.8.player.mf_03  \\\n",
       "0                        6.0                        3.0   \n",
       "1                        7.0                        2.0   \n",
       "2                        5.0                        4.0   \n",
       "3                        3.0                        5.0   \n",
       "4                        4.0                        4.0   \n",
       "\n",
       "   mathTask_1.8.player.mf_04  mathTask_1.8.player.headset_comfort  \\\n",
       "0                        3.0                                  6.0   \n",
       "1                        2.0                                  4.0   \n",
       "2                        4.0                                  3.0   \n",
       "3                        2.0                                  5.0   \n",
       "4                        4.0                                  3.0   \n",
       "\n",
       "                 mathTask_1.8.player.rest_actions_eo  \\\n",
       "0  ;onLoad;Thu Jul 17 2025 09:03:21 GMT+0200 (Mit...   \n",
       "1  ;onLoad;Thu Jul 17 2025 09:23:12 GMT+0200 (Mit...   \n",
       "2  ;onLoad;Mon Jul 21 2025 13:35:26 GMT+0200 (Mit...   \n",
       "3  ;onLoad;Thu Jul 24 2025 13:40:31 GMT+0200 (Mit...   \n",
       "4  ;onLoad;Thu Jul 24 2025 16:02:38 GMT+0200 (Mit...   \n",
       "\n",
       "                 mathTask_1.8.player.rest_actions_ec  \\\n",
       "0  ;onLoad;Thu Jul 17 2025 09:03:59 GMT+0200 (Mit...   \n",
       "1  ;onLoad;Thu Jul 17 2025 09:23:55 GMT+0200 (Mit...   \n",
       "2  ;onLoad;Mon Jul 21 2025 13:36:02 GMT+0200 (Mit...   \n",
       "3  ;onLoad;Thu Jul 24 2025 13:41:12 GMT+0200 (Mit...   \n",
       "4  ;onLoad;Thu Jul 24 2025 16:03:14 GMT+0200 (Mit...   \n",
       "\n",
       "   mathTask_1.8.subsession.round_number  clickTask_1.1.player.fss06  \\\n",
       "0                                     8                         7.0   \n",
       "1                                     8                         7.0   \n",
       "2                                     8                         6.0   \n",
       "3                                     8                         6.0   \n",
       "4                                     8                         6.0   \n",
       "\n",
       "   clickTask_1.1.player.fss08  clickTask_1.1.player.fss09  \\\n",
       "0                         7.0                         7.0   \n",
       "1                         7.0                         7.0   \n",
       "2                         7.0                         7.0   \n",
       "3                         7.0                         7.0   \n",
       "4                         7.0                         7.0   \n",
       "\n",
       "   clickTask_1.1.player.tlx_single  clickTask_1.1.player.difficulty  \\\n",
       "0                             20.0                              2.0   \n",
       "1                              8.0                              2.0   \n",
       "2                              0.0                              1.0   \n",
       "3                              1.0                              1.0   \n",
       "4                              9.0                              4.0   \n",
       "\n",
       "   clickTask_1.1.player.mr_mood  clickTask_1.1.player.mr_sleepy  \\\n",
       "0                          87.0                            91.0   \n",
       "1                          78.0                            79.0   \n",
       "2                          88.0                            17.0   \n",
       "3                          83.0                            66.0   \n",
       "4                          64.0                             7.0   \n",
       "\n",
       "   clickTask_1.1.player.mr_motivy  clickTask_1.1.player.mf_single  \\\n",
       "0                            93.0                            10.0   \n",
       "1                            82.0                            25.0   \n",
       "2                            32.0                            36.0   \n",
       "3                            82.0                            12.0   \n",
       "4                            32.0                            44.0   \n",
       "\n",
       "                  clickTask_1.1.player.click_actions  \\\n",
       "0  ;taskStart;Thu Jul 17 2025 09:05:51 GMT+0200 (...   \n",
       "1  ;taskStart;Thu Jul 17 2025 09:25:27 GMT+0200 (...   \n",
       "2  ;taskStart;Mon Jul 21 2025 13:11:44 GMT+0200 (...   \n",
       "3  ;taskStart;Thu Jul 24 2025 13:43:17 GMT+0200 (...   \n",
       "4  ;taskStart;Thu Jul 24 2025 16:04:19 GMT+0200 (...   \n",
       "\n",
       "   clickTask_1.1.subsession.round_number  clickTask_1.2.player.fss06  \\\n",
       "0                                      1                         7.0   \n",
       "1                                      1                         7.0   \n",
       "2                                      1                         7.0   \n",
       "3                                      1                         6.0   \n",
       "4                                      1                         6.0   \n",
       "\n",
       "   clickTask_1.2.player.fss08  clickTask_1.2.player.fss09  \\\n",
       "0                         7.0                         4.0   \n",
       "1                         7.0                         7.0   \n",
       "2                         7.0                         5.0   \n",
       "3                         7.0                         5.0   \n",
       "4                         7.0                         5.0   \n",
       "\n",
       "   clickTask_1.2.player.tlx_single  clickTask_1.2.player.difficulty  \\\n",
       "0                             21.0                              3.0   \n",
       "1                             16.0                              3.0   \n",
       "2                              0.0                              3.0   \n",
       "3                              8.0                              3.0   \n",
       "4                              9.0                              5.0   \n",
       "\n",
       "   clickTask_1.2.player.mr_mood  clickTask_1.2.player.mr_sleepy  \\\n",
       "0                          82.0                            85.0   \n",
       "1                          76.0                            89.0   \n",
       "2                          91.0                            22.0   \n",
       "3                          91.0                            57.0   \n",
       "4                          50.0                             5.0   \n",
       "\n",
       "   clickTask_1.2.player.mr_motivy  clickTask_1.2.player.mf_single  \\\n",
       "0                            88.0                            17.0   \n",
       "1                            82.0                            21.0   \n",
       "2                            39.0                            50.0   \n",
       "3                            74.0                            25.0   \n",
       "4                            37.0                            59.0   \n",
       "\n",
       "                  clickTask_1.2.player.click_actions  \\\n",
       "0  ;taskStart;Thu Jul 17 2025 09:07:36 GMT+0200 (...   \n",
       "1  ;taskStart;Thu Jul 17 2025 09:26:58 GMT+0200 (...   \n",
       "2  ;taskStart;Mon Jul 21 2025 13:13:49 GMT+0200 (...   \n",
       "3  ;taskStart;Thu Jul 24 2025 13:45:07 GMT+0200 (...   \n",
       "4  ;taskStart;Thu Jul 24 2025 16:05:56 GMT+0200 (...   \n",
       "\n",
       "   clickTask_1.2.subsession.round_number  clickTask_1.3.player.fss06  \\\n",
       "0                                      2                         7.0   \n",
       "1                                      2                         7.0   \n",
       "2                                      2                         7.0   \n",
       "3                                      2                         6.0   \n",
       "4                                      2                         6.0   \n",
       "\n",
       "   clickTask_1.3.player.fss08  clickTask_1.3.player.fss09  \\\n",
       "0                         7.0                         7.0   \n",
       "1                         7.0                         7.0   \n",
       "2                         7.0                         7.0   \n",
       "3                         7.0                         7.0   \n",
       "4                         5.0                         6.0   \n",
       "\n",
       "   clickTask_1.3.player.tlx_single  clickTask_1.3.player.difficulty  \\\n",
       "0                             21.0                              3.0   \n",
       "1                              7.0                              2.0   \n",
       "2                              0.0                              1.0   \n",
       "3                              0.0                              2.0   \n",
       "4                             16.0                              3.0   \n",
       "\n",
       "   clickTask_1.3.player.mr_mood  clickTask_1.3.player.mr_sleepy  \\\n",
       "0                          96.0                            95.0   \n",
       "1                          72.0                            77.0   \n",
       "2                          92.0                            40.0   \n",
       "3                          72.0                            24.0   \n",
       "4                          64.0                             3.0   \n",
       "\n",
       "   clickTask_1.3.player.mr_motivy  clickTask_1.3.player.mf_single  \\\n",
       "0                            93.0                            23.0   \n",
       "1                            81.0                            26.0   \n",
       "2                            46.0                            50.0   \n",
       "3                            69.0                            25.0   \n",
       "4                            45.0                            58.0   \n",
       "\n",
       "                  clickTask_1.3.player.click_actions  \\\n",
       "0  ;taskStart;Thu Jul 17 2025 09:09:10 GMT+0200 (...   \n",
       "1  ;taskStart;Thu Jul 17 2025 09:28:29 GMT+0200 (...   \n",
       "2  ;taskStart;Mon Jul 21 2025 13:15:29 GMT+0200 (...   \n",
       "3  ;taskStart;Thu Jul 24 2025 13:46:51 GMT+0200 (...   \n",
       "4  ;taskStart;Thu Jul 24 2025 16:07:34 GMT+0200 (...   \n",
       "\n",
       "   clickTask_1.3.subsession.round_number  clickTask_1.4.player.fss06  \\\n",
       "0                                      3                         7.0   \n",
       "1                                      3                         7.0   \n",
       "2                                      3                         7.0   \n",
       "3                                      3                         6.0   \n",
       "4                                      3                         7.0   \n",
       "\n",
       "   clickTask_1.4.player.fss08  clickTask_1.4.player.fss09  \\\n",
       "0                         7.0                         7.0   \n",
       "1                         7.0                         7.0   \n",
       "2                         7.0                         6.0   \n",
       "3                         7.0                         7.0   \n",
       "4                         6.0                         6.0   \n",
       "\n",
       "   clickTask_1.4.player.tlx_single  clickTask_1.4.player.difficulty  \\\n",
       "0                             18.0                              4.0   \n",
       "1                             15.0                              3.0   \n",
       "2                              0.0                              2.0   \n",
       "3                             10.0                              3.0   \n",
       "4                              7.0                              5.0   \n",
       "\n",
       "   clickTask_1.4.player.mr_mood  clickTask_1.4.player.mr_sleepy  \\\n",
       "0                          87.0                            88.0   \n",
       "1                          82.0                            83.0   \n",
       "2                          95.0                            38.0   \n",
       "3                          73.0                            38.0   \n",
       "4                          60.0                            15.0   \n",
       "\n",
       "   clickTask_1.4.player.mr_motivy  clickTask_1.4.player.mf_single  \\\n",
       "0                            85.0                            13.0   \n",
       "1                            84.0                            19.0   \n",
       "2                            45.0                            50.0   \n",
       "3                            58.0                            40.0   \n",
       "4                            58.0                            35.0   \n",
       "\n",
       "                  clickTask_1.4.player.click_actions  \\\n",
       "0  ;taskStart;Thu Jul 17 2025 09:10:46 GMT+0200 (...   \n",
       "1  ;taskStart;Thu Jul 17 2025 09:29:56 GMT+0200 (...   \n",
       "2  ;taskStart;Mon Jul 21 2025 13:17:12 GMT+0200 (...   \n",
       "3  ;taskStart;Thu Jul 24 2025 13:49:24 GMT+0200 (...   \n",
       "4  ;taskStart;Thu Jul 24 2025 16:09:24 GMT+0200 (...   \n",
       "\n",
       "   clickTask_1.4.subsession.round_number  clickTask_1.5.player.fss06  \\\n",
       "0                                      4                         7.0   \n",
       "1                                      4                         7.0   \n",
       "2                                      4                         7.0   \n",
       "3                                      4                         6.0   \n",
       "4                                      4                         6.0   \n",
       "\n",
       "   clickTask_1.5.player.fss08  clickTask_1.5.player.fss09  \\\n",
       "0                         7.0                         7.0   \n",
       "1                         7.0                         7.0   \n",
       "2                         7.0                         7.0   \n",
       "3                         7.0                         7.0   \n",
       "4                         7.0                         6.0   \n",
       "\n",
       "   clickTask_1.5.player.tlx_single  clickTask_1.5.player.difficulty  \\\n",
       "0                             18.0                              4.0   \n",
       "1                              8.0                              2.0   \n",
       "2                              0.0                              1.0   \n",
       "3                              2.0                              1.0   \n",
       "4                             13.0                              3.0   \n",
       "\n",
       "   clickTask_1.5.player.mr_mood  clickTask_1.5.player.mr_sleepy  \\\n",
       "0                          72.0                            72.0   \n",
       "1                          80.0                            82.0   \n",
       "2                          96.0                            31.0   \n",
       "3                          75.0                            10.0   \n",
       "4                          57.0                             1.0   \n",
       "\n",
       "   clickTask_1.5.player.mr_motivy  clickTask_1.5.player.mf_single  \\\n",
       "0                            76.0                            27.0   \n",
       "1                            82.0                            18.0   \n",
       "2                            65.0                            21.0   \n",
       "3                            64.0                            21.0   \n",
       "4                            24.0                            45.0   \n",
       "\n",
       "                  clickTask_1.5.player.click_actions  \\\n",
       "0  ;taskStart;Thu Jul 17 2025 09:12:21 GMT+0200 (...   \n",
       "1  ;taskStart;Thu Jul 17 2025 09:31:29 GMT+0200 (...   \n",
       "2  ;taskStart;Mon Jul 21 2025 13:19:01 GMT+0200 (...   \n",
       "3  ;taskStart;Thu Jul 24 2025 13:51:04 GMT+0200 (...   \n",
       "4  ;taskStart;Thu Jul 24 2025 16:10:54 GMT+0200 (...   \n",
       "\n",
       "   clickTask_1.5.subsession.round_number  clickTask_1.6.player.fss06  \\\n",
       "0                                      5                         7.0   \n",
       "1                                      5                         7.0   \n",
       "2                                      5                         5.0   \n",
       "3                                      5                         6.0   \n",
       "4                                      5                         6.0   \n",
       "\n",
       "   clickTask_1.6.player.fss08  clickTask_1.6.player.fss09  \\\n",
       "0                         6.0                         6.0   \n",
       "1                         7.0                         7.0   \n",
       "2                         7.0                         6.0   \n",
       "3                         7.0                         7.0   \n",
       "4                         7.0                         6.0   \n",
       "\n",
       "   clickTask_1.6.player.tlx_single  clickTask_1.6.player.difficulty  \\\n",
       "0                             19.0                              5.0   \n",
       "1                             15.0                              2.0   \n",
       "2                              0.0                              2.0   \n",
       "3                              6.0                              3.0   \n",
       "4                             15.0                              3.0   \n",
       "\n",
       "   clickTask_1.6.player.mr_mood  clickTask_1.6.player.mr_sleepy  \\\n",
       "0                          88.0                            89.0   \n",
       "1                          77.0                            83.0   \n",
       "2                          94.0                            32.0   \n",
       "3                          82.0                            25.0   \n",
       "4                          47.0                             3.0   \n",
       "\n",
       "   clickTask_1.6.player.mr_motivy  clickTask_1.6.player.mf_single  \\\n",
       "0                            90.0                            25.0   \n",
       "1                            84.0                            30.0   \n",
       "2                            71.0                            20.0   \n",
       "3                            50.0                            32.0   \n",
       "4                            13.0                            62.0   \n",
       "\n",
       "                  clickTask_1.6.player.click_actions  \\\n",
       "0  ;taskStart;Thu Jul 17 2025 09:13:57 GMT+0200 (...   \n",
       "1  ;taskStart;Thu Jul 17 2025 09:33:02 GMT+0200 (...   \n",
       "2  ;taskStart;Mon Jul 21 2025 13:20:58 GMT+0200 (...   \n",
       "3  ;taskStart;Thu Jul 24 2025 13:52:58 GMT+0200 (...   \n",
       "4  ;taskStart;Thu Jul 24 2025 16:12:37 GMT+0200 (...   \n",
       "\n",
       "   clickTask_1.6.subsession.round_number  \\\n",
       "0                                      6   \n",
       "1                                      6   \n",
       "2                                      6   \n",
       "3                                      6   \n",
       "4                                      6   \n",
       "\n",
       "   clickTask_1.7.subsession.round_number  clickTask_1.8.player.tlx_single  \\\n",
       "0                                      7                              8.0   \n",
       "1                                      7                              2.0   \n",
       "2                                      7                              0.0   \n",
       "3                                      7                              0.0   \n",
       "4                                      7                              4.0   \n",
       "\n",
       "   clickTask_1.8.player.mr_mood  clickTask_1.8.player.mr_sleepy  \\\n",
       "0                          87.0                            88.0   \n",
       "1                          77.0                            79.0   \n",
       "2                          96.0                            21.0   \n",
       "3                          50.0                            12.0   \n",
       "4                          54.0                            21.0   \n",
       "\n",
       "   clickTask_1.8.player.mr_motivy  clickTask_1.8.player.mf_single  \\\n",
       "0                            90.0                            31.0   \n",
       "1                            79.0                            19.0   \n",
       "2                            45.0                            22.0   \n",
       "3                            39.0                            50.0   \n",
       "4                            28.0                            39.0   \n",
       "\n",
       "   clickTask_1.8.player.mf_01  clickTask_1.8.player.mf_02  \\\n",
       "0                         4.0                         6.0   \n",
       "1                         7.0                         7.0   \n",
       "2                         4.0                         5.0   \n",
       "3                         5.0                         5.0   \n",
       "4                         4.0                         4.0   \n",
       "\n",
       "   clickTask_1.8.player.mf_03  clickTask_1.8.player.mf_04  \\\n",
       "0                         5.0                         5.0   \n",
       "1                         1.0                         2.0   \n",
       "2                         4.0                         4.0   \n",
       "3                         2.0                         2.0   \n",
       "4                         4.0                         4.0   \n",
       "\n",
       "   clickTask_1.8.player.headset_comfort  \\\n",
       "0                                   6.0   \n",
       "1                                   4.0   \n",
       "2                                   5.0   \n",
       "3                                   5.0   \n",
       "4                                   4.0   \n",
       "\n",
       "                clickTask_1.8.player.rest_actions_eo  \\\n",
       "0  ;onLoad;Thu Jul 17 2025 09:15:39 GMT+0200 (Mit...   \n",
       "1  ;onLoad;Thu Jul 17 2025 09:34:33 GMT+0200 (Mit...   \n",
       "2  ;onLoad;Mon Jul 21 2025 13:22:34 GMT+0200 (Mit...   \n",
       "3  ;onLoad;Thu Jul 24 2025 13:54:39 GMT+0200 (Mit...   \n",
       "4  ;onLoad;Thu Jul 24 2025 16:14:17 GMT+0200 (Mit...   \n",
       "\n",
       "                clickTask_1.8.player.rest_actions_ec  \\\n",
       "0  ;onLoad;Thu Jul 17 2025 09:16:20 GMT+0200 (Mit...   \n",
       "1  ;onLoad;Thu Jul 17 2025 09:35:09 GMT+0200 (Mit...   \n",
       "2  ;onLoad;Mon Jul 21 2025 13:23:15 GMT+0200 (Mit...   \n",
       "3  ;onLoad;Thu Jul 24 2025 13:55:16 GMT+0200 (Mit...   \n",
       "4  ;onLoad;Thu Jul 24 2025 16:14:52 GMT+0200 (Mit...   \n",
       "\n",
       "   clickTask_1.8.subsession.round_number  \\\n",
       "0                                      8   \n",
       "1                                      8   \n",
       "2                                      8   \n",
       "3                                      8   \n",
       "4                                      8   \n",
       "\n",
       "               headphones_finish_1.1.player.feedback  \\\n",
       "0  Fun Experiment to do maths equation but lot of...   \n",
       "1                                                NaN   \n",
       "2                                                NaN   \n",
       "3  it was such an cool experience, at some point ...   \n",
       "4                                                NaN   \n",
       "\n",
       "   headphones_finish_1.1.subsession.round_number  \\\n",
       "0                                              1   \n",
       "1                                              1   \n",
       "2                                              1   \n",
       "3                                              1   \n",
       "4                                              1   \n",
       "\n",
       "   debriefing_1.1.subsession.round_number  \\\n",
       "0                                       1   \n",
       "1                                       1   \n",
       "2                                       1   \n",
       "3                                       1   \n",
       "4                                       1   \n",
       "\n",
       "   headphones_setup_2.1.player.ux_comfort  \\\n",
       "0                                     7.0   \n",
       "1                                     4.0   \n",
       "2                                     7.0   \n",
       "3                                     4.0   \n",
       "4                                     3.0   \n",
       "\n",
       "   headphones_setup_2.1.player.ux_speed  headphones_setup_2.1.player.ux_ease  \\\n",
       "0                                   7.0                                  7.0   \n",
       "1                                   6.0                                  6.0   \n",
       "2                                   7.0                                  7.0   \n",
       "3                                   4.0                                  4.0   \n",
       "4                                   4.0                                  4.0   \n",
       "\n",
       "   headphones_setup_2.1.player.ux_look  headphones_setup_2.1.player.wx_public  \\\n",
       "0                                  5.0                                    5.0   \n",
       "1                                  3.0                                    4.0   \n",
       "2                                  3.0                                    3.0   \n",
       "3                                  4.0                                    1.0   \n",
       "4                                  4.0                                    3.0   \n",
       "\n",
       "   headphones_setup_2.1.player.wx_private  \\\n",
       "0                                     5.0   \n",
       "1                                     6.0   \n",
       "2                                     7.0   \n",
       "3                                     6.0   \n",
       "4                                     3.0   \n",
       "\n",
       "   headphones_setup_2.1.player.wx_conversation  \\\n",
       "0                                          3.0   \n",
       "1                                          6.0   \n",
       "2                                          3.0   \n",
       "3                                          5.0   \n",
       "4                                          4.0   \n",
       "\n",
       "   headphones_setup_2.1.player.wx_others  \\\n",
       "0                                    4.0   \n",
       "1                                    4.0   \n",
       "2                                    1.0   \n",
       "3                                    4.0   \n",
       "4                                    4.0   \n",
       "\n",
       "   headphones_setup_2.1.player.tlx_single  headphones_setup_2.1.player.sus_01  \\\n",
       "0                                     9.0                                 2.0   \n",
       "1                                     1.0                                 3.0   \n",
       "2                                     0.0                                 3.0   \n",
       "3                                     0.0                                 3.0   \n",
       "4                                     7.0                                 3.0   \n",
       "\n",
       "   headphones_setup_2.1.player.sus_02  headphones_setup_2.1.player.sus_03  \\\n",
       "0                                 2.0                                 4.0   \n",
       "1                                 1.0                                 5.0   \n",
       "2                                 2.0                                 3.0   \n",
       "3                                 1.0                                 4.0   \n",
       "4                                 3.0                                 3.0   \n",
       "\n",
       "   headphones_setup_2.1.player.sus_04  headphones_setup_2.1.player.sus_05  \\\n",
       "0                                 2.0                                 4.0   \n",
       "1                                 1.0                                 5.0   \n",
       "2                                 3.0                                 3.0   \n",
       "3                                 3.0                                 4.0   \n",
       "4                                 3.0                                 3.0   \n",
       "\n",
       "   headphones_setup_2.1.player.sus_06  headphones_setup_2.1.player.sus_07  \\\n",
       "0                                 1.0                                 4.0   \n",
       "1                                 1.0                                 5.0   \n",
       "2                                 1.0                                 5.0   \n",
       "3                                 1.0                                 5.0   \n",
       "4                                 3.0                                 4.0   \n",
       "\n",
       "   headphones_setup_2.1.player.sus_08  headphones_setup_2.1.player.sus_09  \\\n",
       "0                                 2.0                                 4.0   \n",
       "1                                 1.0                                 5.0   \n",
       "2                                 3.0                                 3.0   \n",
       "3                                 3.0                                 4.0   \n",
       "4                                 3.0                                 4.0   \n",
       "\n",
       "   headphones_setup_2.1.player.sus_10  headphones_setup_2.1.player.mr_mood  \\\n",
       "0                                 2.0                                 85.0   \n",
       "1                                 1.0                                 73.0   \n",
       "2                                 4.0                                 97.0   \n",
       "3                                 4.0                                 50.0   \n",
       "4                                 3.0                                 54.0   \n",
       "\n",
       "   headphones_setup_2.1.player.mr_sleepy  \\\n",
       "0                                   87.0   \n",
       "1                                   63.0   \n",
       "2                                   31.0   \n",
       "3                                   17.0   \n",
       "4                                   25.0   \n",
       "\n",
       "   headphones_setup_2.1.player.mr_motivy  \\\n",
       "0                                   88.0   \n",
       "1                                   79.0   \n",
       "2                                   51.0   \n",
       "3                                   58.0   \n",
       "4                                   55.0   \n",
       "\n",
       "   headphones_setup_2.1.player.mf_single  headphones_setup_2.1.player.mf_01  \\\n",
       "0                                   10.0                                5.0   \n",
       "1                                   78.0                                7.0   \n",
       "2                                   20.0                                4.0   \n",
       "3                                   38.0                                5.0   \n",
       "4                                   40.0                                7.0   \n",
       "\n",
       "   headphones_setup_2.1.player.mf_02  headphones_setup_2.1.player.mf_03  \\\n",
       "0                                4.0                                4.0   \n",
       "1                                7.0                                1.0   \n",
       "2                                5.0                                4.0   \n",
       "3                                5.0                                3.0   \n",
       "4                                7.0                                3.0   \n",
       "\n",
       "   headphones_setup_2.1.player.mf_04  \\\n",
       "0                                3.0   \n",
       "1                                2.0   \n",
       "2                                4.0   \n",
       "3                                1.0   \n",
       "4                                5.0   \n",
       "\n",
       "         headphones_setup_2.1.player.rest_actions_eo  \\\n",
       "0  ;onLoad;Thu Jul 17 2025 09:30:33 GMT+0200 (Mit...   \n",
       "1  ;onLoad;Thu Jul 17 2025 09:49:55 GMT+0200 (Mit...   \n",
       "2  ;onLoad;Mon Jul 21 2025 13:52:42 GMT+0200 (Mit...   \n",
       "3  ;onLoad;Thu Jul 24 2025 14:13:40 GMT+0200 (Mit...   \n",
       "4  ;onLoad;Thu Jul 24 2025 16:22:09 GMT+0200 (Mit...   \n",
       "\n",
       "         headphones_setup_2.1.player.rest_actions_ec  \\\n",
       "0  ;onLoad;Thu Jul 17 2025 09:31:08 GMT+0200 (Mit...   \n",
       "1  ;onLoad;Thu Jul 17 2025 09:50:30 GMT+0200 (Mit...   \n",
       "2  ;onLoad;Mon Jul 21 2025 13:53:20 GMT+0200 (Mit...   \n",
       "3  ;onLoad;Thu Jul 24 2025 14:14:16 GMT+0200 (Mit...   \n",
       "4  ;onLoad;Thu Jul 24 2025 16:22:43 GMT+0200 (Mit...   \n",
       "\n",
       "  headphones_setup_2.1.player.break_activity  \\\n",
       "0                      Take the breakfast      \n",
       "1                                    nothing   \n",
       "2                                      smoke   \n",
       "3                   i have been on my phone    \n",
       "4  just stayed seated and went on my phone     \n",
       "\n",
       "   headphones_setup_2.1.subsession.round_number  mathTask_2.1.player.fss06  \\\n",
       "0                                             1                        6.0   \n",
       "1                                             1                        7.0   \n",
       "2                                             1                        7.0   \n",
       "3                                             1                        6.0   \n",
       "4                                             1                        6.0   \n",
       "\n",
       "   mathTask_2.1.player.fss08  mathTask_2.1.player.fss09  \\\n",
       "0                        6.0                        6.0   \n",
       "1                        7.0                        7.0   \n",
       "2                        7.0                        7.0   \n",
       "3                        7.0                        6.0   \n",
       "4                        7.0                        6.0   \n",
       "\n",
       "   mathTask_2.1.player.tlx_single  mathTask_2.1.player.difficulty  \\\n",
       "0                            19.0                             5.0   \n",
       "1                            13.0                             2.0   \n",
       "2                             7.0                             3.0   \n",
       "3                            18.0                             6.0   \n",
       "4                             9.0                             3.0   \n",
       "\n",
       "   mathTask_2.1.player.mr_mood  mathTask_2.1.player.mr_sleepy  \\\n",
       "0                         89.0                           92.0   \n",
       "1                         69.0                           70.0   \n",
       "2                         95.0                           30.0   \n",
       "3                         50.0                           32.0   \n",
       "4                         55.0                           43.0   \n",
       "\n",
       "   mathTask_2.1.player.mr_motivy  mathTask_2.1.player.mf_single  \\\n",
       "0                           93.0                           26.0   \n",
       "1                           72.0                           15.0   \n",
       "2                           50.0                           14.0   \n",
       "3                           44.0                           35.0   \n",
       "4                           54.0                           35.0   \n",
       "\n",
       "                    mathTask_2.1.player.math_actions  \\\n",
       "0  ;onLoad;Thu Jul 17 2025 09:32:38 GMT+0200 (Mit...   \n",
       "1  ;onLoad;Thu Jul 17 2025 09:51:28 GMT+0200 (Mit...   \n",
       "2  ;onLoad;Mon Jul 21 2025 14:06:27 GMT+0200 (Mit...   \n",
       "3  ;onLoad;Thu Jul 24 2025 14:15:21 GMT+0200 (Mit...   \n",
       "4  ;onLoad;Thu Jul 24 2025 16:23:46 GMT+0200 (Mit...   \n",
       "\n",
       "   mathTask_2.1.subsession.round_number  mathTask_2.2.player.fss06  \\\n",
       "0                                     1                        6.0   \n",
       "1                                     1                        7.0   \n",
       "2                                     1                        7.0   \n",
       "3                                     1                        6.0   \n",
       "4                                     1                        6.0   \n",
       "\n",
       "   mathTask_2.2.player.fss08  mathTask_2.2.player.fss09  \\\n",
       "0                        6.0                        6.0   \n",
       "1                        7.0                        7.0   \n",
       "2                        7.0                        7.0   \n",
       "3                        7.0                        3.0   \n",
       "4                        5.0                        6.0   \n",
       "\n",
       "   mathTask_2.2.player.tlx_single  mathTask_2.2.player.difficulty  \\\n",
       "0                            17.0                             6.0   \n",
       "1                            19.0                             5.0   \n",
       "2                            10.0                             5.0   \n",
       "3                            21.0                             7.0   \n",
       "4                            14.0                             4.0   \n",
       "\n",
       "   mathTask_2.2.player.mr_mood  mathTask_2.2.player.mr_sleepy  \\\n",
       "0                         89.0                           86.0   \n",
       "1                         44.0                           82.0   \n",
       "2                         98.0                           16.0   \n",
       "3                         39.0                           21.0   \n",
       "4                         54.0                           37.0   \n",
       "\n",
       "   mathTask_2.2.player.mr_motivy  mathTask_2.2.player.mf_single  \\\n",
       "0                           87.0                           24.0   \n",
       "1                           82.0                           17.0   \n",
       "2                           50.0                           14.0   \n",
       "3                           45.0                           36.0   \n",
       "4                           45.0                           49.0   \n",
       "\n",
       "                    mathTask_2.2.player.math_actions  \\\n",
       "0  ;onLoad;Thu Jul 17 2025 09:36:19 GMT+0200 (Mit...   \n",
       "1  ;onLoad;Thu Jul 17 2025 09:52:59 GMT+0200 (Mit...   \n",
       "2  ;onLoad;Mon Jul 21 2025 14:08:06 GMT+0200 (Mit...   \n",
       "3  ;onLoad;Thu Jul 24 2025 14:16:58 GMT+0200 (Mit...   \n",
       "4  ;onLoad;Thu Jul 24 2025 16:25:22 GMT+0200 (Mit...   \n",
       "\n",
       "   mathTask_2.2.subsession.round_number  mathTask_2.3.player.fss06  \\\n",
       "0                                     2                        7.0   \n",
       "1                                     2                        7.0   \n",
       "2                                     2                        7.0   \n",
       "3                                     2                        6.0   \n",
       "4                                     2                        7.0   \n",
       "\n",
       "   mathTask_2.3.player.fss08  mathTask_2.3.player.fss09  \\\n",
       "0                        7.0                        6.0   \n",
       "1                        7.0                        7.0   \n",
       "2                        7.0                        7.0   \n",
       "3                        7.0                        3.0   \n",
       "4                        7.0                        7.0   \n",
       "\n",
       "   mathTask_2.3.player.tlx_single  mathTask_2.3.player.difficulty  \\\n",
       "0                            19.0                             4.0   \n",
       "1                            18.0                             2.0   \n",
       "2                             5.0                             3.0   \n",
       "3                            21.0                             7.0   \n",
       "4                             8.0                             3.0   \n",
       "\n",
       "   mathTask_2.3.player.mr_mood  mathTask_2.3.player.mr_sleepy  \\\n",
       "0                         80.0                           80.0   \n",
       "1                         81.0                           78.0   \n",
       "2                         96.0                           32.0   \n",
       "3                         38.0                           26.0   \n",
       "4                         57.0                           23.0   \n",
       "\n",
       "   mathTask_2.3.player.mr_motivy  mathTask_2.3.player.mf_single  \\\n",
       "0                           82.0                           34.0   \n",
       "1                           79.0                            9.0   \n",
       "2                           50.0                           17.0   \n",
       "3                           30.0                           39.0   \n",
       "4                           58.0                           50.0   \n",
       "\n",
       "                    mathTask_2.3.player.math_actions  \\\n",
       "0  ;onLoad;Thu Jul 17 2025 09:38:06 GMT+0200 (Mit...   \n",
       "1  ;onLoad;Thu Jul 17 2025 09:54:34 GMT+0200 (Mit...   \n",
       "2  ;onLoad;Mon Jul 21 2025 14:09:48 GMT+0200 (Mit...   \n",
       "3  ;onLoad;Thu Jul 24 2025 14:18:30 GMT+0200 (Mit...   \n",
       "4  ;onLoad;Thu Jul 24 2025 16:26:54 GMT+0200 (Mit...   \n",
       "\n",
       "   mathTask_2.3.subsession.round_number  mathTask_2.4.player.fss06  \\\n",
       "0                                     3                        7.0   \n",
       "1                                     3                        7.0   \n",
       "2                                     3                        7.0   \n",
       "3                                     3                        6.0   \n",
       "4                                     3                        7.0   \n",
       "\n",
       "   mathTask_2.4.player.fss08  mathTask_2.4.player.fss09  \\\n",
       "0                        6.0                        6.0   \n",
       "1                        7.0                        7.0   \n",
       "2                        7.0                        7.0   \n",
       "3                        7.0                        1.0   \n",
       "4                        7.0                        5.0   \n",
       "\n",
       "   mathTask_2.4.player.tlx_single  mathTask_2.4.player.difficulty  \\\n",
       "0                            15.0                             5.0   \n",
       "1                            19.0                             4.0   \n",
       "2                             9.0                             4.0   \n",
       "3                            21.0                             7.0   \n",
       "4                            15.0                             5.0   \n",
       "\n",
       "   mathTask_2.4.player.mr_mood  mathTask_2.4.player.mr_sleepy  \\\n",
       "0                         85.0                           85.0   \n",
       "1                         59.0                           84.0   \n",
       "2                         96.0                           24.0   \n",
       "3                         40.0                           22.0   \n",
       "4                         45.0                           34.0   \n",
       "\n",
       "   mathTask_2.4.player.mr_motivy  mathTask_2.4.player.mf_single  \\\n",
       "0                           88.0                           19.0   \n",
       "1                           87.0                           13.0   \n",
       "2                           50.0                           33.0   \n",
       "3                           35.0                           40.0   \n",
       "4                           41.0                           61.0   \n",
       "\n",
       "                    mathTask_2.4.player.math_actions  \\\n",
       "0  ;onLoad;Thu Jul 17 2025 09:39:45 GMT+0200 (Mit...   \n",
       "1  ;onLoad;Thu Jul 17 2025 09:56:05 GMT+0200 (Mit...   \n",
       "2  ;onLoad;Mon Jul 21 2025 14:11:30 GMT+0200 (Mit...   \n",
       "3  ;onLoad;Thu Jul 24 2025 14:20:00 GMT+0200 (Mit...   \n",
       "4  ;onLoad;Thu Jul 24 2025 16:28:27 GMT+0200 (Mit...   \n",
       "\n",
       "   mathTask_2.4.subsession.round_number  mathTask_2.5.player.fss06  \\\n",
       "0                                     4                        7.0   \n",
       "1                                     4                        7.0   \n",
       "2                                     4                        7.0   \n",
       "3                                     4                        6.0   \n",
       "4                                     4                        7.0   \n",
       "\n",
       "   mathTask_2.5.player.fss08  mathTask_2.5.player.fss09  \\\n",
       "0                        6.0                        6.0   \n",
       "1                        7.0                        7.0   \n",
       "2                        7.0                        7.0   \n",
       "3                        7.0                        3.0   \n",
       "4                        7.0                        7.0   \n",
       "\n",
       "   mathTask_2.5.player.tlx_single  mathTask_2.5.player.difficulty  \\\n",
       "0                            19.0                             3.0   \n",
       "1                             9.0                             3.0   \n",
       "2                             5.0                             3.0   \n",
       "3                            21.0                             7.0   \n",
       "4                             7.0                             4.0   \n",
       "\n",
       "   mathTask_2.5.player.mr_mood  mathTask_2.5.player.mr_sleepy  \\\n",
       "0                         89.0                           90.0   \n",
       "1                         40.0                           80.0   \n",
       "2                         96.0                           22.0   \n",
       "3                         42.0                           34.0   \n",
       "4                         53.0                           16.0   \n",
       "\n",
       "   mathTask_2.5.player.mr_motivy  mathTask_2.5.player.mf_single  \\\n",
       "0                           91.0                           24.0   \n",
       "1                           82.0                           22.0   \n",
       "2                           50.0                           22.0   \n",
       "3                           38.0                           41.0   \n",
       "4                           50.0                           45.0   \n",
       "\n",
       "                    mathTask_2.5.player.math_actions  \\\n",
       "0  ;onLoad;Thu Jul 17 2025 09:41:25 GMT+0200 (Mit...   \n",
       "1  ;onLoad;Thu Jul 17 2025 09:57:34 GMT+0200 (Mit...   \n",
       "2  ;onLoad;Mon Jul 21 2025 14:13:16 GMT+0200 (Mit...   \n",
       "3  ;onLoad;Thu Jul 24 2025 14:21:34 GMT+0200 (Mit...   \n",
       "4  ;onLoad;Thu Jul 24 2025 16:29:58 GMT+0200 (Mit...   \n",
       "\n",
       "   mathTask_2.5.subsession.round_number  mathTask_2.6.player.fss06  \\\n",
       "0                                     5                        7.0   \n",
       "1                                     5                        7.0   \n",
       "2                                     5                        7.0   \n",
       "3                                     5                        4.0   \n",
       "4                                     5                        5.0   \n",
       "\n",
       "   mathTask_2.6.player.fss08  mathTask_2.6.player.fss09  \\\n",
       "0                        4.0                        6.0   \n",
       "1                        7.0                        7.0   \n",
       "2                        7.0                        7.0   \n",
       "3                        7.0                        2.0   \n",
       "4                        6.0                        7.0   \n",
       "\n",
       "   mathTask_2.6.player.tlx_single  mathTask_2.6.player.difficulty  \\\n",
       "0                            20.0                             6.0   \n",
       "1                            15.0                             3.0   \n",
       "2                             8.0                             4.0   \n",
       "3                            21.0                             7.0   \n",
       "4                            13.0                             6.0   \n",
       "\n",
       "   mathTask_2.6.player.mr_mood  mathTask_2.6.player.mr_sleepy  \\\n",
       "0                         89.0                           90.0   \n",
       "1                         77.0                           83.0   \n",
       "2                         97.0                           35.0   \n",
       "3                         29.0                           30.0   \n",
       "4                         42.0                           44.0   \n",
       "\n",
       "   mathTask_2.6.player.mr_motivy  mathTask_2.6.player.mf_single  \\\n",
       "0                           90.0                           14.0   \n",
       "1                           83.0                           14.0   \n",
       "2                           50.0                           15.0   \n",
       "3                           27.0                           33.0   \n",
       "4                           47.0                           50.0   \n",
       "\n",
       "                    mathTask_2.6.player.math_actions  \\\n",
       "0  ;onLoad;Thu Jul 17 2025 09:43:00 GMT+0200 (Mit...   \n",
       "1  ;onLoad;Thu Jul 17 2025 09:59:17 GMT+0200 (Mit...   \n",
       "2  ;onLoad;Mon Jul 21 2025 14:14:55 GMT+0200 (Mit...   \n",
       "3  ;onLoad;Thu Jul 24 2025 14:23:03 GMT+0200 (Mit...   \n",
       "4  ;onLoad;Thu Jul 24 2025 16:31:25 GMT+0200 (Mit...   \n",
       "\n",
       "   mathTask_2.6.subsession.round_number  mathTask_2.7.subsession.round_number  \\\n",
       "0                                     6                                     7   \n",
       "1                                     6                                     7   \n",
       "2                                     6                                     7   \n",
       "3                                     6                                     7   \n",
       "4                                     6                                     7   \n",
       "\n",
       "   mathTask_2.8.player.tlx_single  mathTask_2.8.player.mr_mood  \\\n",
       "0                             9.0                         86.0   \n",
       "1                             3.0                         70.0   \n",
       "2                             0.0                         96.0   \n",
       "3                             0.0                         50.0   \n",
       "4                             4.0                         54.0   \n",
       "\n",
       "   mathTask_2.8.player.mr_sleepy  mathTask_2.8.player.mr_motivy  \\\n",
       "0                           88.0                           90.0   \n",
       "1                           75.0                           79.0   \n",
       "2                           28.0                           50.0   \n",
       "3                           21.0                           30.0   \n",
       "4                           15.0                           36.0   \n",
       "\n",
       "   mathTask_2.8.player.mf_single  mathTask_2.8.player.mf_01  \\\n",
       "0                           18.0                        5.0   \n",
       "1                           10.0                        7.0   \n",
       "2                           15.0                        5.0   \n",
       "3                           31.0                        3.0   \n",
       "4                           57.0                        5.0   \n",
       "\n",
       "   mathTask_2.8.player.mf_02  mathTask_2.8.player.mf_03  \\\n",
       "0                        4.0                        4.0   \n",
       "1                        7.0                        1.0   \n",
       "2                        5.0                        2.0   \n",
       "3                        3.0                        5.0   \n",
       "4                        3.0                        3.0   \n",
       "\n",
       "   mathTask_2.8.player.mf_04  mathTask_2.8.player.headset_comfort  \\\n",
       "0                        3.0                                  6.0   \n",
       "1                        2.0                                  4.0   \n",
       "2                        2.0                                  6.0   \n",
       "3                        2.0                                  5.0   \n",
       "4                        3.0                                  4.0   \n",
       "\n",
       "                 mathTask_2.8.player.rest_actions_eo  \\\n",
       "0  ;onLoad;Thu Jul 17 2025 09:44:38 GMT+0200 (Mit...   \n",
       "1  ;onLoad;Thu Jul 17 2025 10:00:43 GMT+0200 (Mit...   \n",
       "2  ;onLoad;Mon Jul 21 2025 14:16:32 GMT+0200 (Mit...   \n",
       "3  ;onLoad;Thu Jul 24 2025 14:24:39 GMT+0200 (Mit...   \n",
       "4  ;onLoad;Thu Jul 24 2025 16:32:51 GMT+0200 (Mit...   \n",
       "\n",
       "                 mathTask_2.8.player.rest_actions_ec  \\\n",
       "0  ;onLoad;Thu Jul 17 2025 09:45:11 GMT+0200 (Mit...   \n",
       "1  ;onLoad;Thu Jul 17 2025 10:01:19 GMT+0200 (Mit...   \n",
       "2  ;onLoad;Mon Jul 21 2025 14:17:08 GMT+0200 (Mit...   \n",
       "3  ;onLoad;Thu Jul 24 2025 14:25:15 GMT+0200 (Mit...   \n",
       "4  ;onLoad;Thu Jul 24 2025 16:33:25 GMT+0200 (Mit...   \n",
       "\n",
       "   mathTask_2.8.subsession.round_number  clickTask_2.1.player.fss06  \\\n",
       "0                                     8                         7.0   \n",
       "1                                     8                         7.0   \n",
       "2                                     8                         7.0   \n",
       "3                                     8                         7.0   \n",
       "4                                     8                         7.0   \n",
       "\n",
       "   clickTask_2.1.player.fss08  clickTask_2.1.player.fss09  \\\n",
       "0                         7.0                         7.0   \n",
       "1                         7.0                         7.0   \n",
       "2                         7.0                         7.0   \n",
       "3                         7.0                         7.0   \n",
       "4                         7.0                         7.0   \n",
       "\n",
       "   clickTask_2.1.player.tlx_single  clickTask_2.1.player.difficulty  \\\n",
       "0                              8.0                              3.0   \n",
       "1                              6.0                              2.0   \n",
       "2                              0.0                              1.0   \n",
       "3                              1.0                              1.0   \n",
       "4                              7.0                              3.0   \n",
       "\n",
       "   clickTask_2.1.player.mr_mood  clickTask_2.1.player.mr_sleepy  \\\n",
       "0                          84.0                            83.0   \n",
       "1                          74.0                            79.0   \n",
       "2                          97.0                            28.0   \n",
       "3                          64.0                            36.0   \n",
       "4                          59.0                            27.0   \n",
       "\n",
       "   clickTask_2.1.player.mr_motivy  clickTask_2.1.player.mf_single  \\\n",
       "0                            85.0                            13.0   \n",
       "1                            79.0                            15.0   \n",
       "2                            50.0                            18.0   \n",
       "3                            68.0                            43.0   \n",
       "4                            40.0                            63.0   \n",
       "\n",
       "                  clickTask_2.1.player.click_actions  \\\n",
       "0  ;taskStart;Thu Jul 17 2025 09:46:43 GMT+0200 (...   \n",
       "1  ;taskStart;Thu Jul 17 2025 10:02:11 GMT+0200 (...   \n",
       "2  ;taskStart;Mon Jul 21 2025 13:54:39 GMT+0200 (...   \n",
       "3  ;taskStart;Thu Jul 24 2025 14:26:18 GMT+0200 (...   \n",
       "4  ;taskStart;Thu Jul 24 2025 16:34:23 GMT+0200 (...   \n",
       "\n",
       "   clickTask_2.1.subsession.round_number  clickTask_2.2.player.fss06  \\\n",
       "0                                      1                         7.0   \n",
       "1                                      1                         7.0   \n",
       "2                                      1                         7.0   \n",
       "3                                      1                         7.0   \n",
       "4                                      1                         6.0   \n",
       "\n",
       "   clickTask_2.2.player.fss08  clickTask_2.2.player.fss09  \\\n",
       "0                         7.0                         6.0   \n",
       "1                         7.0                         7.0   \n",
       "2                         7.0                         7.0   \n",
       "3                         7.0                         7.0   \n",
       "4                         6.0                         6.0   \n",
       "\n",
       "   clickTask_2.2.player.tlx_single  clickTask_2.2.player.difficulty  \\\n",
       "0                              9.0                              3.0   \n",
       "1                             17.0                              5.0   \n",
       "2                              0.0                              1.0   \n",
       "3                              1.0                              2.0   \n",
       "4                              8.0                              3.0   \n",
       "\n",
       "   clickTask_2.2.player.mr_mood  clickTask_2.2.player.mr_sleepy  \\\n",
       "0                          96.0                            92.0   \n",
       "1                          80.0                            83.0   \n",
       "2                          98.0                            37.0   \n",
       "3                          62.0                            36.0   \n",
       "4                          56.0                            38.0   \n",
       "\n",
       "   clickTask_2.2.player.mr_motivy  clickTask_2.2.player.mf_single  \\\n",
       "0                            91.0                            25.0   \n",
       "1                            88.0                            12.0   \n",
       "2                            51.0                            19.0   \n",
       "3                            41.0                            35.0   \n",
       "4                            41.0                            50.0   \n",
       "\n",
       "                  clickTask_2.2.player.click_actions  \\\n",
       "0  ;taskStart;Thu Jul 17 2025 09:48:18 GMT+0200 (...   \n",
       "1  ;taskStart;Thu Jul 17 2025 10:03:40 GMT+0200 (...   \n",
       "2  ;taskStart;Mon Jul 21 2025 13:56:18 GMT+0200 (...   \n",
       "3  ;taskStart;Thu Jul 24 2025 14:27:48 GMT+0200 (...   \n",
       "4  ;taskStart;Thu Jul 24 2025 16:35:50 GMT+0200 (...   \n",
       "\n",
       "   clickTask_2.2.subsession.round_number  clickTask_2.3.player.fss06  \\\n",
       "0                                      2                         7.0   \n",
       "1                                      2                         7.0   \n",
       "2                                      2                         5.0   \n",
       "3                                      2                         7.0   \n",
       "4                                      2                         6.0   \n",
       "\n",
       "   clickTask_2.3.player.fss08  clickTask_2.3.player.fss09  \\\n",
       "0                         7.0                         6.0   \n",
       "1                         7.0                         7.0   \n",
       "2                         7.0                         7.0   \n",
       "3                         7.0                         7.0   \n",
       "4                         6.0                         6.0   \n",
       "\n",
       "   clickTask_2.3.player.tlx_single  clickTask_2.3.player.difficulty  \\\n",
       "0                             13.0                              5.0   \n",
       "1                              7.0                              2.0   \n",
       "2                              0.0                              1.0   \n",
       "3                              0.0                              1.0   \n",
       "4                              6.0                              2.0   \n",
       "\n",
       "   clickTask_2.3.player.mr_mood  clickTask_2.3.player.mr_sleepy  \\\n",
       "0                          90.0                            88.0   \n",
       "1                          78.0                            81.0   \n",
       "2                          96.0                            30.0   \n",
       "3                          59.0                            23.0   \n",
       "4                          57.0                            12.0   \n",
       "\n",
       "   clickTask_2.3.player.mr_motivy  clickTask_2.3.player.mf_single  \\\n",
       "0                            85.0                            27.0   \n",
       "1                            81.0                            19.0   \n",
       "2                            50.0                            15.0   \n",
       "3                            41.0                            25.0   \n",
       "4                            35.0                            55.0   \n",
       "\n",
       "                  clickTask_2.3.player.click_actions  \\\n",
       "0  ;taskStart;Thu Jul 17 2025 09:49:52 GMT+0200 (...   \n",
       "1  ;taskStart;Thu Jul 17 2025 10:05:11 GMT+0200 (...   \n",
       "2  ;taskStart;Mon Jul 21 2025 13:57:54 GMT+0200 (...   \n",
       "3  ;taskStart;Thu Jul 24 2025 14:29:17 GMT+0200 (...   \n",
       "4  ;taskStart;Thu Jul 24 2025 16:37:26 GMT+0200 (...   \n",
       "\n",
       "   clickTask_2.3.subsession.round_number  clickTask_2.4.player.fss06  \\\n",
       "0                                      3                         7.0   \n",
       "1                                      3                         7.0   \n",
       "2                                      3                         6.0   \n",
       "3                                      3                         7.0   \n",
       "4                                      3                         6.0   \n",
       "\n",
       "   clickTask_2.4.player.fss08  clickTask_2.4.player.fss09  \\\n",
       "0                         5.0                         6.0   \n",
       "1                         7.0                         7.0   \n",
       "2                         7.0                         7.0   \n",
       "3                         7.0                         7.0   \n",
       "4                         6.0                         6.0   \n",
       "\n",
       "   clickTask_2.4.player.tlx_single  clickTask_2.4.player.difficulty  \\\n",
       "0                             15.0                              6.0   \n",
       "1                              6.0                              2.0   \n",
       "2                              0.0                              1.0   \n",
       "3                              3.0                              2.0   \n",
       "4                             13.0                              3.0   \n",
       "\n",
       "   clickTask_2.4.player.mr_mood  clickTask_2.4.player.mr_sleepy  \\\n",
       "0                          86.0                            88.0   \n",
       "1                          74.0                            79.0   \n",
       "2                          96.0                            29.0   \n",
       "3                          57.0                            37.0   \n",
       "4                          57.0                            22.0   \n",
       "\n",
       "   clickTask_2.4.player.mr_motivy  clickTask_2.4.player.mf_single  \\\n",
       "0                            88.0                            24.0   \n",
       "1                            69.0                            13.0   \n",
       "2                            50.0                            12.0   \n",
       "3                            42.0                            24.0   \n",
       "4                            35.0                            55.0   \n",
       "\n",
       "                  clickTask_2.4.player.click_actions  \\\n",
       "0  ;taskStart;Thu Jul 17 2025 09:51:27 GMT+0200 (...   \n",
       "1  ;taskStart;Thu Jul 17 2025 10:06:42 GMT+0200 (...   \n",
       "2  ;taskStart;Mon Jul 21 2025 13:59:37 GMT+0200 (...   \n",
       "3  ;taskStart;Thu Jul 24 2025 14:30:44 GMT+0200 (...   \n",
       "4  ;taskStart;Thu Jul 24 2025 16:39:09 GMT+0200 (...   \n",
       "\n",
       "   clickTask_2.4.subsession.round_number  clickTask_2.5.player.fss06  \\\n",
       "0                                      4                         6.0   \n",
       "1                                      4                         7.0   \n",
       "2                                      4                         6.0   \n",
       "3                                      4                         7.0   \n",
       "4                                      4                         6.0   \n",
       "\n",
       "   clickTask_2.5.player.fss08  clickTask_2.5.player.fss09  \\\n",
       "0                         7.0                         6.0   \n",
       "1                         7.0                         7.0   \n",
       "2                         7.0                         7.0   \n",
       "3                         7.0                         7.0   \n",
       "4                         6.0                         6.0   \n",
       "\n",
       "   clickTask_2.5.player.tlx_single  clickTask_2.5.player.difficulty  \\\n",
       "0                              8.0                              3.0   \n",
       "1                             17.0                              6.0   \n",
       "2                              0.0                              1.0   \n",
       "3                              0.0                              1.0   \n",
       "4                              6.0                              3.0   \n",
       "\n",
       "   clickTask_2.5.player.mr_mood  clickTask_2.5.player.mr_sleepy  \\\n",
       "0                          91.0                            92.0   \n",
       "1                          80.0                            82.0   \n",
       "2                          98.0                            21.0   \n",
       "3                          59.0                            36.0   \n",
       "4                          55.0                            17.0   \n",
       "\n",
       "   clickTask_2.5.player.mr_motivy  clickTask_2.5.player.mf_single  \\\n",
       "0                            89.0                            18.0   \n",
       "1                            76.0                            26.0   \n",
       "2                            50.0                            11.0   \n",
       "3                            42.0                            23.0   \n",
       "4                            34.0                            54.0   \n",
       "\n",
       "                  clickTask_2.5.player.click_actions  \\\n",
       "0  ;taskStart;Thu Jul 17 2025 09:53:10 GMT+0200 (...   \n",
       "1  ;taskStart;Thu Jul 17 2025 10:08:12 GMT+0200 (...   \n",
       "2  ;taskStart;Mon Jul 21 2025 14:01:17 GMT+0200 (...   \n",
       "3  ;taskStart;Thu Jul 24 2025 14:32:14 GMT+0200 (...   \n",
       "4  ;taskStart;Thu Jul 24 2025 16:40:36 GMT+0200 (...   \n",
       "\n",
       "   clickTask_2.5.subsession.round_number  clickTask_2.6.player.fss06  \\\n",
       "0                                      5                         6.0   \n",
       "1                                      5                         7.0   \n",
       "2                                      5                         7.0   \n",
       "3                                      5                         7.0   \n",
       "4                                      5                         6.0   \n",
       "\n",
       "   clickTask_2.6.player.fss08  clickTask_2.6.player.fss09  \\\n",
       "0                         6.0                         6.0   \n",
       "1                         7.0                         7.0   \n",
       "2                         7.0                         7.0   \n",
       "3                         7.0                         7.0   \n",
       "4                         6.0                         6.0   \n",
       "\n",
       "   clickTask_2.6.player.tlx_single  clickTask_2.6.player.difficulty  \\\n",
       "0                             16.0                              5.0   \n",
       "1                             16.0                              3.0   \n",
       "2                              0.0                              1.0   \n",
       "3                              2.0                              2.0   \n",
       "4                             10.0                              3.0   \n",
       "\n",
       "   clickTask_2.6.player.mr_mood  clickTask_2.6.player.mr_sleepy  \\\n",
       "0                          81.0                            82.0   \n",
       "1                          80.0                            83.0   \n",
       "2                          97.0                            28.0   \n",
       "3                          59.0                            36.0   \n",
       "4                          54.0                            15.0   \n",
       "\n",
       "   clickTask_2.6.player.mr_motivy  clickTask_2.6.player.mf_single  \\\n",
       "0                            84.0                            26.0   \n",
       "1                            77.0                            17.0   \n",
       "2                            50.0                            16.0   \n",
       "3                            32.0                            29.0   \n",
       "4                            30.0                            52.0   \n",
       "\n",
       "                  clickTask_2.6.player.click_actions  \\\n",
       "0  ;taskStart;Thu Jul 17 2025 09:54:40 GMT+0200 (...   \n",
       "1  ;taskStart;Thu Jul 17 2025 10:09:39 GMT+0200 (...   \n",
       "2  ;taskStart;Mon Jul 21 2025 14:02:54 GMT+0200 (...   \n",
       "3  ;taskStart;Thu Jul 24 2025 14:33:41 GMT+0200 (...   \n",
       "4  ;taskStart;Thu Jul 24 2025 16:42:03 GMT+0200 (...   \n",
       "\n",
       "   clickTask_2.6.subsession.round_number  \\\n",
       "0                                      6   \n",
       "1                                      6   \n",
       "2                                      6   \n",
       "3                                      6   \n",
       "4                                      6   \n",
       "\n",
       "   clickTask_2.7.subsession.round_number  clickTask_2.8.player.tlx_single  \\\n",
       "0                                      7                             13.0   \n",
       "1                                      7                              2.0   \n",
       "2                                      7                              0.0   \n",
       "3                                      7                              0.0   \n",
       "4                                      7                              3.0   \n",
       "\n",
       "   clickTask_2.8.player.mr_mood  clickTask_2.8.player.mr_sleepy  \\\n",
       "0                          81.0                            83.0   \n",
       "1                          73.0                            77.0   \n",
       "2                          97.0                            25.0   \n",
       "3                          41.0                            21.0   \n",
       "4                          56.0                            14.0   \n",
       "\n",
       "   clickTask_2.8.player.mr_motivy  clickTask_2.8.player.mf_single  \\\n",
       "0                            83.0                            11.0   \n",
       "1                            71.0                            14.0   \n",
       "2                            50.0                            12.0   \n",
       "3                            28.0                            24.0   \n",
       "4                            33.0                            67.0   \n",
       "\n",
       "   clickTask_2.8.player.mf_01  clickTask_2.8.player.mf_02  \\\n",
       "0                         4.0                         4.0   \n",
       "1                         7.0                         7.0   \n",
       "2                         4.0                         5.0   \n",
       "3                         4.0                         3.0   \n",
       "4                         4.0                         4.0   \n",
       "\n",
       "   clickTask_2.8.player.mf_03  clickTask_2.8.player.mf_04  \\\n",
       "0                         4.0                         3.0   \n",
       "1                         1.0                         2.0   \n",
       "2                         3.0                         2.0   \n",
       "3                         5.0                         6.0   \n",
       "4                         3.0                         6.0   \n",
       "\n",
       "   clickTask_2.8.player.headset_comfort  \\\n",
       "0                                   4.0   \n",
       "1                                   4.0   \n",
       "2                                   6.0   \n",
       "3                                   5.0   \n",
       "4                                   3.0   \n",
       "\n",
       "                clickTask_2.8.player.rest_actions_eo  \\\n",
       "0  ;onLoad;Thu Jul 17 2025 09:56:14 GMT+0200 (Mit...   \n",
       "1  ;onLoad;Thu Jul 17 2025 10:11:07 GMT+0200 (Mit...   \n",
       "2  ;onLoad;Mon Jul 21 2025 14:04:28 GMT+0200 (Mit...   \n",
       "3  ;onLoad;Thu Jul 24 2025 14:35:06 GMT+0200 (Mit...   \n",
       "4  ;onLoad;Thu Jul 24 2025 16:43:32 GMT+0200 (Mit...   \n",
       "\n",
       "                clickTask_2.8.player.rest_actions_ec  \\\n",
       "0  ;onLoad;Thu Jul 17 2025 09:56:51 GMT+0200 (Mit...   \n",
       "1  ;onLoad;Thu Jul 17 2025 10:11:43 GMT+0200 (Mit...   \n",
       "2  ;onLoad;Mon Jul 21 2025 14:05:07 GMT+0200 (Mit...   \n",
       "3  ;onLoad;Thu Jul 24 2025 14:35:40 GMT+0200 (Mit...   \n",
       "4  ;onLoad;Thu Jul 24 2025 16:44:07 GMT+0200 (Mit...   \n",
       "\n",
       "   clickTask_2.8.subsession.round_number  \\\n",
       "0                                      8   \n",
       "1                                      8   \n",
       "2                                      8   \n",
       "3                                      8   \n",
       "4                                      8   \n",
       "\n",
       "               headphones_finish_2.1.player.feedback  \\\n",
       "0  More mathematics and fast movemnt to click was...   \n",
       "1                                                NaN   \n",
       "2                                                NaN   \n",
       "3                          i am getting very sleepy    \n",
       "4                                                NaN   \n",
       "\n",
       "   headphones_finish_2.1.subsession.round_number  \\\n",
       "0                                              1   \n",
       "1                                              1   \n",
       "2                                              1   \n",
       "3                                              1   \n",
       "4                                              1   \n",
       "\n",
       "   debriefing_2.1.subsession.round_number  \\\n",
       "0                                       1   \n",
       "1                                       1   \n",
       "2                                       1   \n",
       "3                                       1   \n",
       "4                                       1   \n",
       "\n",
       "   headphones_setup_3.1.player.ux_comfort  \\\n",
       "0                                     7.0   \n",
       "1                                     4.0   \n",
       "2                                     7.0   \n",
       "3                                     4.0   \n",
       "4                                     4.0   \n",
       "\n",
       "   headphones_setup_3.1.player.ux_speed  headphones_setup_3.1.player.ux_ease  \\\n",
       "0                                   7.0                                  6.0   \n",
       "1                                   6.0                                  6.0   \n",
       "2                                   7.0                                  7.0   \n",
       "3                                   6.0                                  6.0   \n",
       "4                                   5.0                                  5.0   \n",
       "\n",
       "   headphones_setup_3.1.player.ux_look  headphones_setup_3.1.player.wx_public  \\\n",
       "0                                  6.0                                    5.0   \n",
       "1                                  4.0                                    6.0   \n",
       "2                                  3.0                                    4.0   \n",
       "3                                  5.0                                    1.0   \n",
       "4                                  5.0                                    4.0   \n",
       "\n",
       "   headphones_setup_3.1.player.wx_private  \\\n",
       "0                                     6.0   \n",
       "1                                     6.0   \n",
       "2                                     7.0   \n",
       "3                                     6.0   \n",
       "4                                     3.0   \n",
       "\n",
       "   headphones_setup_3.1.player.wx_conversation  \\\n",
       "0                                          4.0   \n",
       "1                                          6.0   \n",
       "2                                          7.0   \n",
       "3                                          3.0   \n",
       "4                                          5.0   \n",
       "\n",
       "   headphones_setup_3.1.player.wx_others  \\\n",
       "0                                    3.0   \n",
       "1                                    4.0   \n",
       "2                                    2.0   \n",
       "3                                    3.0   \n",
       "4                                    4.0   \n",
       "\n",
       "   headphones_setup_3.1.player.tlx_single  headphones_setup_3.1.player.sus_01  \\\n",
       "0                                     7.0                                 2.0   \n",
       "1                                     2.0                                 3.0   \n",
       "2                                     0.0                                 3.0   \n",
       "3                                     0.0                                 3.0   \n",
       "4                                     7.0                                 3.0   \n",
       "\n",
       "   headphones_setup_3.1.player.sus_02  headphones_setup_3.1.player.sus_03  \\\n",
       "0                                 2.0                                 2.0   \n",
       "1                                 1.0                                 4.0   \n",
       "2                                 3.0                                 3.0   \n",
       "3                                 2.0                                 5.0   \n",
       "4                                 3.0                                 4.0   \n",
       "\n",
       "   headphones_setup_3.1.player.sus_04  headphones_setup_3.1.player.sus_05  \\\n",
       "0                                 2.0                                 5.0   \n",
       "1                                 1.0                                 5.0   \n",
       "2                                 4.0                                 3.0   \n",
       "3                                 4.0                                 4.0   \n",
       "4                                 4.0                                 3.0   \n",
       "\n",
       "   headphones_setup_3.1.player.sus_06  headphones_setup_3.1.player.sus_07  \\\n",
       "0                                 1.0                                 2.0   \n",
       "1                                 1.0                                 5.0   \n",
       "2                                 2.0                                 5.0   \n",
       "3                                 1.0                                 5.0   \n",
       "4                                 3.0                                 3.0   \n",
       "\n",
       "   headphones_setup_3.1.player.sus_08  headphones_setup_3.1.player.sus_09  \\\n",
       "0                                 4.0                                 2.0   \n",
       "1                                 1.0                                 5.0   \n",
       "2                                 3.0                                 3.0   \n",
       "3                                 4.0                                 3.0   \n",
       "4                                 4.0                                 3.0   \n",
       "\n",
       "   headphones_setup_3.1.player.sus_10  headphones_setup_3.1.player.mr_mood  \\\n",
       "0                                 1.0                                 81.0   \n",
       "1                                 1.0                                 77.0   \n",
       "2                                 4.0                                 97.0   \n",
       "3                                 3.0                                 39.0   \n",
       "4                                 3.0                                 44.0   \n",
       "\n",
       "   headphones_setup_3.1.player.mr_sleepy  \\\n",
       "0                                   82.0   \n",
       "1                                   74.0   \n",
       "2                                   48.0   \n",
       "3                                   37.0   \n",
       "4                                   18.0   \n",
       "\n",
       "   headphones_setup_3.1.player.mr_motivy  \\\n",
       "0                                   84.0   \n",
       "1                                   68.0   \n",
       "2                                   50.0   \n",
       "3                                   50.0   \n",
       "4                                   33.0   \n",
       "\n",
       "   headphones_setup_3.1.player.mf_single  headphones_setup_3.1.player.mf_01  \\\n",
       "0                                   16.0                                5.0   \n",
       "1                                   13.0                                7.0   \n",
       "2                                    9.0                                5.0   \n",
       "3                                   35.0                                4.0   \n",
       "4                                   56.0                                4.0   \n",
       "\n",
       "   headphones_setup_3.1.player.mf_02  headphones_setup_3.1.player.mf_03  \\\n",
       "0                                5.0                                3.0   \n",
       "1                                7.0                                1.0   \n",
       "2                                5.0                                2.0   \n",
       "3                                5.0                                4.0   \n",
       "4                                4.0                                4.0   \n",
       "\n",
       "   headphones_setup_3.1.player.mf_04  \\\n",
       "0                                3.0   \n",
       "1                                2.0   \n",
       "2                                2.0   \n",
       "3                                5.0   \n",
       "4                                6.0   \n",
       "\n",
       "         headphones_setup_3.1.player.rest_actions_eo  \\\n",
       "0  ;onLoad;Thu Jul 17 2025 10:10:15 GMT+0200 (Mit...   \n",
       "1  ;onLoad;Thu Jul 17 2025 10:21:20 GMT+0200 (Mit...   \n",
       "2  ;onLoad;Mon Jul 21 2025 14:32:25 GMT+0200 (Mit...   \n",
       "3  ;onLoad;Thu Jul 24 2025 14:45:55 GMT+0200 (Mit...   \n",
       "4  ;onLoad;Thu Jul 24 2025 16:50:50 GMT+0200 (Mit...   \n",
       "\n",
       "         headphones_setup_3.1.player.rest_actions_ec  \\\n",
       "0  ;onLoad;Thu Jul 17 2025 10:10:51 GMT+0200 (Mit...   \n",
       "1  ;onLoad;Thu Jul 17 2025 10:22:03 GMT+0200 (Mit...   \n",
       "2  ;onLoad;Mon Jul 21 2025 14:32:57 GMT+0200 (Mit...   \n",
       "3  ;onLoad;Thu Jul 24 2025 14:46:29 GMT+0200 (Mit...   \n",
       "4  ;onLoad;Thu Jul 24 2025 16:51:26 GMT+0200 (Mit...   \n",
       "\n",
       "          headphones_setup_3.1.player.break_activity  \\\n",
       "0  drink water , check the mesages on mobile and ...   \n",
       "1                                          Nothing     \n",
       "2                                      drank water     \n",
       "3                           i have been on my phone    \n",
       "4                              walk around the lab     \n",
       "\n",
       "   headphones_setup_3.1.subsession.round_number  mathTask_3.1.player.fss06  \\\n",
       "0                                             1                        7.0   \n",
       "1                                             1                        7.0   \n",
       "2                                             1                        7.0   \n",
       "3                                             1                        7.0   \n",
       "4                                             1                        7.0   \n",
       "\n",
       "   mathTask_3.1.player.fss08  mathTask_3.1.player.fss09  \\\n",
       "0                        7.0                        6.0   \n",
       "1                        7.0                        7.0   \n",
       "2                        7.0                        7.0   \n",
       "3                        7.0                        4.0   \n",
       "4                        6.0                        6.0   \n",
       "\n",
       "   mathTask_3.1.player.tlx_single  mathTask_3.1.player.difficulty  \\\n",
       "0                            14.0                             3.0   \n",
       "1                             5.0                             4.0   \n",
       "2                             7.0                             2.0   \n",
       "3                            21.0                             7.0   \n",
       "4                             7.0                             2.0   \n",
       "\n",
       "   mathTask_3.1.player.mr_mood  mathTask_3.1.player.mr_sleepy  \\\n",
       "0                         86.0                           86.0   \n",
       "1                         72.0                           73.0   \n",
       "2                         99.0                           50.0   \n",
       "3                         41.0                           34.0   \n",
       "4                         56.0                           12.0   \n",
       "\n",
       "   mathTask_3.1.player.mr_motivy  mathTask_3.1.player.mf_single  \\\n",
       "0                           85.0                           25.0   \n",
       "1                           66.0                           12.0   \n",
       "2                           50.0                           12.0   \n",
       "3                           34.0                           35.0   \n",
       "4                           31.0                           57.0   \n",
       "\n",
       "                    mathTask_3.1.player.math_actions  \\\n",
       "0  ;onLoad;Thu Jul 17 2025 10:12:07 GMT+0200 (Mit...   \n",
       "1  ;onLoad;Thu Jul 17 2025 10:23:17 GMT+0200 (Mit...   \n",
       "2  ;onLoad;Mon Jul 21 2025 14:44:34 GMT+0200 (Mit...   \n",
       "3  ;onLoad;Thu Jul 24 2025 14:47:25 GMT+0200 (Mit...   \n",
       "4  ;onLoad;Thu Jul 24 2025 16:52:17 GMT+0200 (Mit...   \n",
       "\n",
       "   mathTask_3.1.subsession.round_number  mathTask_3.2.player.fss06  \\\n",
       "0                                     1                        7.0   \n",
       "1                                     1                        7.0   \n",
       "2                                     1                        3.0   \n",
       "3                                     1                        6.0   \n",
       "4                                     1                        6.0   \n",
       "\n",
       "   mathTask_3.2.player.fss08  mathTask_3.2.player.fss09  \\\n",
       "0                        5.0                        4.0   \n",
       "1                        7.0                        7.0   \n",
       "2                        7.0                        5.0   \n",
       "3                        7.0                        3.0   \n",
       "4                        6.0                        6.0   \n",
       "\n",
       "   mathTask_3.2.player.tlx_single  mathTask_3.2.player.difficulty  \\\n",
       "0                            17.0                             5.0   \n",
       "1                            16.0                             4.0   \n",
       "2                            14.0                             6.0   \n",
       "3                            21.0                             7.0   \n",
       "4                            13.0                             4.0   \n",
       "\n",
       "   mathTask_3.2.player.mr_mood  mathTask_3.2.player.mr_sleepy  \\\n",
       "0                         92.0                           90.0   \n",
       "1                         68.0                           75.0   \n",
       "2                         98.0                           50.0   \n",
       "3                         44.0                           40.0   \n",
       "4                         45.0                           34.0   \n",
       "\n",
       "   mathTask_3.2.player.mr_motivy  mathTask_3.2.player.mf_single  \\\n",
       "0                           92.0                            8.0   \n",
       "1                           64.0                           11.0   \n",
       "2                           50.0                           20.0   \n",
       "3                           32.0                           31.0   \n",
       "4                           29.0                           50.0   \n",
       "\n",
       "                    mathTask_3.2.player.math_actions  \\\n",
       "0  ;onLoad;Thu Jul 17 2025 10:13:41 GMT+0200 (Mit...   \n",
       "1  ;onLoad;Thu Jul 17 2025 10:24:45 GMT+0200 (Mit...   \n",
       "2  ;onLoad;Mon Jul 21 2025 14:46:16 GMT+0200 (Mit...   \n",
       "3  ;onLoad;Thu Jul 24 2025 14:48:53 GMT+0200 (Mit...   \n",
       "4  ;onLoad;Thu Jul 24 2025 16:53:43 GMT+0200 (Mit...   \n",
       "\n",
       "   mathTask_3.2.subsession.round_number  mathTask_3.3.player.fss06  \\\n",
       "0                                     2                        7.0   \n",
       "1                                     2                        7.0   \n",
       "2                                     2                        7.0   \n",
       "3                                     2                        7.0   \n",
       "4                                     2                        6.0   \n",
       "\n",
       "   mathTask_3.3.player.fss08  mathTask_3.3.player.fss09  \\\n",
       "0                        7.0                        7.0   \n",
       "1                        7.0                        7.0   \n",
       "2                        7.0                        7.0   \n",
       "3                        7.0                        7.0   \n",
       "4                        6.0                        7.0   \n",
       "\n",
       "   mathTask_3.3.player.tlx_single  mathTask_3.3.player.difficulty  \\\n",
       "0                            13.0                             3.0   \n",
       "1                             7.0                             5.0   \n",
       "2                             7.0                             3.0   \n",
       "3                            18.0                             6.0   \n",
       "4                             6.0                             2.0   \n",
       "\n",
       "   mathTask_3.3.player.mr_mood  mathTask_3.3.player.mr_sleepy  \\\n",
       "0                         89.0                           91.0   \n",
       "1                         76.0                           77.0   \n",
       "2                         98.0                           50.0   \n",
       "3                         60.0                           38.0   \n",
       "4                         57.0                           14.0   \n",
       "\n",
       "   mathTask_3.3.player.mr_motivy  mathTask_3.3.player.mf_single  \\\n",
       "0                           91.0                           23.0   \n",
       "1                           63.0                           11.0   \n",
       "2                           50.0                            9.0   \n",
       "3                           42.0                           39.0   \n",
       "4                           34.0                           56.0   \n",
       "\n",
       "                    mathTask_3.3.player.math_actions  \\\n",
       "0  ;onLoad;Thu Jul 17 2025 10:15:13 GMT+0200 (Mit...   \n",
       "1  ;onLoad;Thu Jul 17 2025 10:26:17 GMT+0200 (Mit...   \n",
       "2  ;onLoad;Mon Jul 21 2025 14:47:53 GMT+0200 (Mit...   \n",
       "3  ;onLoad;Thu Jul 24 2025 14:50:23 GMT+0200 (Mit...   \n",
       "4  ;onLoad;Thu Jul 24 2025 16:55:10 GMT+0200 (Mit...   \n",
       "\n",
       "   mathTask_3.3.subsession.round_number  mathTask_3.4.player.fss06  \\\n",
       "0                                     3                        7.0   \n",
       "1                                     3                        7.0   \n",
       "2                                     3                        7.0   \n",
       "3                                     3                        6.0   \n",
       "4                                     3                        6.0   \n",
       "\n",
       "   mathTask_3.4.player.fss08  mathTask_3.4.player.fss09  \\\n",
       "0                        6.0                        5.0   \n",
       "1                        7.0                        7.0   \n",
       "2                        7.0                        7.0   \n",
       "3                        7.0                        2.0   \n",
       "4                        6.0                        6.0   \n",
       "\n",
       "   mathTask_3.4.player.tlx_single  mathTask_3.4.player.difficulty  \\\n",
       "0                            20.0                             5.0   \n",
       "1                            17.0                             3.0   \n",
       "2                            11.0                             5.0   \n",
       "3                            21.0                             7.0   \n",
       "4                             9.0                             2.0   \n",
       "\n",
       "   mathTask_3.4.player.mr_mood  mathTask_3.4.player.mr_sleepy  \\\n",
       "0                         79.0                           80.0   \n",
       "1                         72.0                           73.0   \n",
       "2                         98.0                           50.0   \n",
       "3                         36.0                           34.0   \n",
       "4                         75.0                            5.0   \n",
       "\n",
       "   mathTask_3.4.player.mr_motivy  mathTask_3.4.player.mf_single  \\\n",
       "0                           81.0                           22.0   \n",
       "1                           71.0                           17.0   \n",
       "2                           50.0                           11.0   \n",
       "3                           27.0                           34.0   \n",
       "4                           28.0                           66.0   \n",
       "\n",
       "                    mathTask_3.4.player.math_actions  \\\n",
       "0  ;onLoad;Thu Jul 17 2025 10:16:42 GMT+0200 (Mit...   \n",
       "1  ;onLoad;Thu Jul 17 2025 10:27:55 GMT+0200 (Mit...   \n",
       "2  ;onLoad;Mon Jul 21 2025 14:49:21 GMT+0200 (Mit...   \n",
       "3  ;onLoad;Thu Jul 24 2025 14:51:49 GMT+0200 (Mit...   \n",
       "4  ;onLoad;Thu Jul 24 2025 16:56:36 GMT+0200 (Mit...   \n",
       "\n",
       "   mathTask_3.4.subsession.round_number  mathTask_3.5.player.fss06  \\\n",
       "0                                     4                        7.0   \n",
       "1                                     4                        7.0   \n",
       "2                                     4                        7.0   \n",
       "3                                     4                        6.0   \n",
       "4                                     4                        6.0   \n",
       "\n",
       "   mathTask_3.5.player.fss08  mathTask_3.5.player.fss09  \\\n",
       "0                        7.0                        6.0   \n",
       "1                        7.0                        7.0   \n",
       "2                        7.0                        7.0   \n",
       "3                        7.0                        6.0   \n",
       "4                        6.0                        6.0   \n",
       "\n",
       "   mathTask_3.5.player.tlx_single  mathTask_3.5.player.difficulty  \\\n",
       "0                            14.0                             5.0   \n",
       "1                            12.0                             4.0   \n",
       "2                             6.0                             3.0   \n",
       "3                            20.0                             6.0   \n",
       "4                             7.0                             2.0   \n",
       "\n",
       "   mathTask_3.5.player.mr_mood  mathTask_3.5.player.mr_sleepy  \\\n",
       "0                         87.0                           88.0   \n",
       "1                         70.0                           69.0   \n",
       "2                         98.0                           50.0   \n",
       "3                         42.0                           42.0   \n",
       "4                         59.0                           22.0   \n",
       "\n",
       "   mathTask_3.5.player.mr_motivy  mathTask_3.5.player.mf_single  \\\n",
       "0                           88.0                           14.0   \n",
       "1                           65.0                           15.0   \n",
       "2                           50.0                            7.0   \n",
       "3                           43.0                           32.0   \n",
       "4                           29.0                           45.0   \n",
       "\n",
       "                    mathTask_3.5.player.math_actions  \\\n",
       "0  ;onLoad;Thu Jul 17 2025 10:18:14 GMT+0200 (Mit...   \n",
       "1  ;onLoad;Thu Jul 17 2025 10:29:17 GMT+0200 (Mit...   \n",
       "2  ;onLoad;Mon Jul 21 2025 14:50:48 GMT+0200 (Mit...   \n",
       "3  ;onLoad;Thu Jul 24 2025 14:53:14 GMT+0200 (Mit...   \n",
       "4  ;onLoad;Thu Jul 24 2025 16:58:00 GMT+0200 (Mit...   \n",
       "\n",
       "   mathTask_3.5.subsession.round_number  mathTask_3.6.player.fss06  \\\n",
       "0                                     5                        7.0   \n",
       "1                                     5                        7.0   \n",
       "2                                     5                        7.0   \n",
       "3                                     5                        5.0   \n",
       "4                                     5                        6.0   \n",
       "\n",
       "   mathTask_3.6.player.fss08  mathTask_3.6.player.fss09  \\\n",
       "0                        5.0                        6.0   \n",
       "1                        7.0                        7.0   \n",
       "2                        7.0                        7.0   \n",
       "3                        7.0                        3.0   \n",
       "4                        6.0                        6.0   \n",
       "\n",
       "   mathTask_3.6.player.tlx_single  mathTask_3.6.player.difficulty  \\\n",
       "0                            17.0                             6.0   \n",
       "1                            15.0                             4.0   \n",
       "2                            11.0                             5.0   \n",
       "3                            21.0                             7.0   \n",
       "4                             9.0                             5.0   \n",
       "\n",
       "   mathTask_3.6.player.mr_mood  mathTask_3.6.player.mr_sleepy  \\\n",
       "0                         87.0                           89.0   \n",
       "1                         69.0                           71.0   \n",
       "2                         97.0                           50.0   \n",
       "3                         40.0                           34.0   \n",
       "4                         52.0                            8.0   \n",
       "\n",
       "   mathTask_3.6.player.mr_motivy  mathTask_3.6.player.mf_single  \\\n",
       "0                           90.0                           22.0   \n",
       "1                           56.0                           24.0   \n",
       "2                           50.0                            5.0   \n",
       "3                           34.0                           37.0   \n",
       "4                           31.0                           79.0   \n",
       "\n",
       "                    mathTask_3.6.player.math_actions  \\\n",
       "0  ;onLoad;Thu Jul 17 2025 10:19:52 GMT+0200 (Mit...   \n",
       "1  ;onLoad;Thu Jul 17 2025 10:30:42 GMT+0200 (Mit...   \n",
       "2  ;onLoad;Mon Jul 21 2025 14:52:21 GMT+0200 (Mit...   \n",
       "3  ;onLoad;Thu Jul 24 2025 14:54:43 GMT+0200 (Mit...   \n",
       "4  ;onLoad;Thu Jul 24 2025 16:59:23 GMT+0200 (Mit...   \n",
       "\n",
       "   mathTask_3.6.subsession.round_number  mathTask_3.7.subsession.round_number  \\\n",
       "0                                     6                                     7   \n",
       "1                                     6                                     7   \n",
       "2                                     6                                     7   \n",
       "3                                     6                                     7   \n",
       "4                                     6                                     7   \n",
       "\n",
       "   mathTask_3.8.player.tlx_single  mathTask_3.8.player.mr_mood  \\\n",
       "0                            16.0                         80.0   \n",
       "1                             1.0                         61.0   \n",
       "2                             0.0                         97.0   \n",
       "3                             0.0                         50.0   \n",
       "4                             8.0                         57.0   \n",
       "\n",
       "   mathTask_3.8.player.mr_sleepy  mathTask_3.8.player.mr_motivy  \\\n",
       "0                           84.0                           85.0   \n",
       "1                           65.0                           67.0   \n",
       "2                           50.0                           50.0   \n",
       "3                           24.0                           33.0   \n",
       "4                           29.0                           35.0   \n",
       "\n",
       "   mathTask_3.8.player.mf_single  mathTask_3.8.player.mf_01  \\\n",
       "0                            6.0                        3.0   \n",
       "1                           33.0                        7.0   \n",
       "2                            5.0                        5.0   \n",
       "3                           33.0                        5.0   \n",
       "4                           65.0                        5.0   \n",
       "\n",
       "   mathTask_3.8.player.mf_02  mathTask_3.8.player.mf_03  \\\n",
       "0                        3.0                        4.0   \n",
       "1                        7.0                        1.0   \n",
       "2                        5.0                        2.0   \n",
       "3                        4.0                        4.0   \n",
       "4                        5.0                        4.0   \n",
       "\n",
       "   mathTask_3.8.player.mf_04  mathTask_3.8.player.headset_comfort  \\\n",
       "0                        3.0                                  6.0   \n",
       "1                        2.0                                  4.0   \n",
       "2                        3.0                                  7.0   \n",
       "3                        4.0                                  6.0   \n",
       "4                        7.0                                  2.0   \n",
       "\n",
       "                 mathTask_3.8.player.rest_actions_eo  \\\n",
       "0  ;onLoad;Thu Jul 17 2025 10:21:16 GMT+0200 (Mit...   \n",
       "1  ;onLoad;Thu Jul 17 2025 10:32:04 GMT+0200 (Mit...   \n",
       "2  ;onLoad;Mon Jul 21 2025 14:53:48 GMT+0200 (Mit...   \n",
       "3  ;onLoad;Thu Jul 24 2025 14:56:10 GMT+0200 (Mit...   \n",
       "4  ;onLoad;Thu Jul 24 2025 17:00:52 GMT+0200 (Mit...   \n",
       "\n",
       "                 mathTask_3.8.player.rest_actions_ec  \\\n",
       "0  ;onLoad;Thu Jul 17 2025 10:21:50 GMT+0200 (Mit...   \n",
       "1  ;onLoad;Thu Jul 17 2025 10:32:38 GMT+0200 (Mit...   \n",
       "2  ;onLoad;Mon Jul 21 2025 14:54:22 GMT+0200 (Mit...   \n",
       "3  ;onLoad;Thu Jul 24 2025 14:56:44 GMT+0200 (Mit...   \n",
       "4  ;onLoad;Thu Jul 24 2025 17:01:30 GMT+0200 (Mit...   \n",
       "\n",
       "   mathTask_3.8.subsession.round_number  clickTask_3.1.player.fss06  \\\n",
       "0                                     8                         6.0   \n",
       "1                                     8                         7.0   \n",
       "2                                     8                         7.0   \n",
       "3                                     8                         7.0   \n",
       "4                                     8                         5.0   \n",
       "\n",
       "   clickTask_3.1.player.fss08  clickTask_3.1.player.fss09  \\\n",
       "0                         6.0                         6.0   \n",
       "1                         7.0                         7.0   \n",
       "2                         7.0                         7.0   \n",
       "3                         7.0                         7.0   \n",
       "4                         5.0                         6.0   \n",
       "\n",
       "   clickTask_3.1.player.tlx_single  clickTask_3.1.player.difficulty  \\\n",
       "0                              4.0                              6.0   \n",
       "1                              3.0                              2.0   \n",
       "2                              0.0                              1.0   \n",
       "3                              0.0                              1.0   \n",
       "4                              7.0                              2.0   \n",
       "\n",
       "   clickTask_3.1.player.mr_mood  clickTask_3.1.player.mr_sleepy  \\\n",
       "0                          88.0                            89.0   \n",
       "1                          66.0                            70.0   \n",
       "2                          96.0                            48.0   \n",
       "3                          60.0                            34.0   \n",
       "4                          58.0                            11.0   \n",
       "\n",
       "   clickTask_3.1.player.mr_motivy  clickTask_3.1.player.mf_single  \\\n",
       "0                            91.0                            22.0   \n",
       "1                            71.0                            19.0   \n",
       "2                            50.0                            12.0   \n",
       "3                            50.0                            32.0   \n",
       "4                            35.0                            60.0   \n",
       "\n",
       "                  clickTask_3.1.player.click_actions  \\\n",
       "0  ;taskStart;Thu Jul 17 2025 10:22:50 GMT+0200 (...   \n",
       "1  ;taskStart;Thu Jul 17 2025 10:33:34 GMT+0200 (...   \n",
       "2  ;taskStart;Mon Jul 21 2025 14:33:49 GMT+0200 (...   \n",
       "3  ;taskStart;Thu Jul 24 2025 14:57:37 GMT+0200 (...   \n",
       "4  ;taskStart;Thu Jul 24 2025 17:02:30 GMT+0200 (...   \n",
       "\n",
       "   clickTask_3.1.subsession.round_number  clickTask_3.2.player.fss06  \\\n",
       "0                                      1                         6.0   \n",
       "1                                      1                         7.0   \n",
       "2                                      1                         7.0   \n",
       "3                                      1                         7.0   \n",
       "4                                      1                         6.0   \n",
       "\n",
       "   clickTask_3.2.player.fss08  clickTask_3.2.player.fss09  \\\n",
       "0                         6.0                         6.0   \n",
       "1                         7.0                         7.0   \n",
       "2                         7.0                         7.0   \n",
       "3                         7.0                         7.0   \n",
       "4                         6.0                         5.0   \n",
       "\n",
       "   clickTask_3.2.player.tlx_single  clickTask_3.2.player.difficulty  \\\n",
       "0                             15.0                              2.0   \n",
       "1                             14.0                              3.0   \n",
       "2                              0.0                              1.0   \n",
       "3                              2.0                              2.0   \n",
       "4                              7.0                              2.0   \n",
       "\n",
       "   clickTask_3.2.player.mr_mood  clickTask_3.2.player.mr_sleepy  \\\n",
       "0                          98.0                            95.0   \n",
       "1                          73.0                            77.0   \n",
       "2                          94.0                            50.0   \n",
       "3                          54.0                            40.0   \n",
       "4                          64.0                            22.0   \n",
       "\n",
       "   clickTask_3.2.player.mr_motivy  clickTask_3.2.player.mf_single  \\\n",
       "0                            96.0                            18.0   \n",
       "1                            73.0                            24.0   \n",
       "2                            50.0                             6.0   \n",
       "3                            40.0                            35.0   \n",
       "4                            38.0                            59.0   \n",
       "\n",
       "                  clickTask_3.2.player.click_actions  \\\n",
       "0  ;taskStart;Thu Jul 17 2025 10:24:14 GMT+0200 (...   \n",
       "1  ;taskStart;Thu Jul 17 2025 10:35:01 GMT+0200 (...   \n",
       "2  ;taskStart;Mon Jul 21 2025 14:35:20 GMT+0200 (...   \n",
       "3  ;taskStart;Thu Jul 24 2025 14:59:04 GMT+0200 (...   \n",
       "4  ;taskStart;Thu Jul 24 2025 17:03:53 GMT+0200 (...   \n",
       "\n",
       "   clickTask_3.2.subsession.round_number  clickTask_3.3.player.fss06  \\\n",
       "0                                      2                         6.0   \n",
       "1                                      2                         7.0   \n",
       "2                                      2                         7.0   \n",
       "3                                      2                         7.0   \n",
       "4                                      2                         5.0   \n",
       "\n",
       "   clickTask_3.3.player.fss08  clickTask_3.3.player.fss09  \\\n",
       "0                         6.0                         6.0   \n",
       "1                         7.0                         7.0   \n",
       "2                         7.0                         7.0   \n",
       "3                         7.0                         7.0   \n",
       "4                         4.0                         5.0   \n",
       "\n",
       "   clickTask_3.3.player.tlx_single  clickTask_3.3.player.difficulty  \\\n",
       "0                             17.0                              2.0   \n",
       "1                              8.0                              2.0   \n",
       "2                              0.0                              1.0   \n",
       "3                              0.0                              1.0   \n",
       "4                              8.0                              3.0   \n",
       "\n",
       "   clickTask_3.3.player.mr_mood  clickTask_3.3.player.mr_sleepy  \\\n",
       "0                          87.0                            87.0   \n",
       "1                          81.0                            80.0   \n",
       "2                          96.0                            50.0   \n",
       "3                          58.0                            34.0   \n",
       "4                          61.0                             9.0   \n",
       "\n",
       "   clickTask_3.3.player.mr_motivy  clickTask_3.3.player.mf_single  \\\n",
       "0                            88.0                            22.0   \n",
       "1                            71.0                            21.0   \n",
       "2                            50.0                             7.0   \n",
       "3                            36.0                            43.0   \n",
       "4                            31.0                            55.0   \n",
       "\n",
       "                  clickTask_3.3.player.click_actions  \\\n",
       "0  ;taskStart;Thu Jul 17 2025 10:25:41 GMT+0200 (...   \n",
       "1  ;taskStart;Thu Jul 17 2025 10:36:28 GMT+0200 (...   \n",
       "2  ;taskStart;Mon Jul 21 2025 14:36:48 GMT+0200 (...   \n",
       "3  ;taskStart;Thu Jul 24 2025 15:00:35 GMT+0200 (...   \n",
       "4  ;taskStart;Thu Jul 24 2025 17:05:16 GMT+0200 (...   \n",
       "\n",
       "   clickTask_3.3.subsession.round_number  clickTask_3.4.player.fss06  \\\n",
       "0                                      3                         6.0   \n",
       "1                                      3                         7.0   \n",
       "2                                      3                         5.0   \n",
       "3                                      3                         7.0   \n",
       "4                                      3                         6.0   \n",
       "\n",
       "   clickTask_3.4.player.fss08  clickTask_3.4.player.fss09  \\\n",
       "0                         6.0                         7.0   \n",
       "1                         7.0                         7.0   \n",
       "2                         7.0                         7.0   \n",
       "3                         7.0                         7.0   \n",
       "4                         6.0                         6.0   \n",
       "\n",
       "   clickTask_3.4.player.tlx_single  clickTask_3.4.player.difficulty  \\\n",
       "0                              9.0                              5.0   \n",
       "1                              4.0                              3.0   \n",
       "2                              0.0                              1.0   \n",
       "3                              1.0                              1.0   \n",
       "4                             15.0                              5.0   \n",
       "\n",
       "   clickTask_3.4.player.mr_mood  clickTask_3.4.player.mr_sleepy  \\\n",
       "0                          88.0                            90.0   \n",
       "1                          73.0                            79.0   \n",
       "2                          95.0                            50.0   \n",
       "3                          59.0                            37.0   \n",
       "4                          63.0                            25.0   \n",
       "\n",
       "   clickTask_3.4.player.mr_motivy  clickTask_3.4.player.mf_single  \\\n",
       "0                            91.0                            28.0   \n",
       "1                            66.0                            15.0   \n",
       "2                            50.0                            23.0   \n",
       "3                            33.0                            50.0   \n",
       "4                            36.0                            81.0   \n",
       "\n",
       "                  clickTask_3.4.player.click_actions  \\\n",
       "0  ;taskStart;Thu Jul 17 2025 10:27:05 GMT+0200 (...   \n",
       "1  ;taskStart;Thu Jul 17 2025 10:38:00 GMT+0200 (...   \n",
       "2  ;taskStart;Mon Jul 21 2025 14:38:15 GMT+0200 (...   \n",
       "3  ;taskStart;Thu Jul 24 2025 15:02:03 GMT+0200 (...   \n",
       "4  ;taskStart;Thu Jul 24 2025 17:06:41 GMT+0200 (...   \n",
       "\n",
       "   clickTask_3.4.subsession.round_number  clickTask_3.5.player.fss06  \\\n",
       "0                                      4                         6.0   \n",
       "1                                      4                         7.0   \n",
       "2                                      4                         5.0   \n",
       "3                                      4                         7.0   \n",
       "4                                      4                         6.0   \n",
       "\n",
       "   clickTask_3.5.player.fss08  clickTask_3.5.player.fss09  \\\n",
       "0                         7.0                         7.0   \n",
       "1                         7.0                         7.0   \n",
       "2                         7.0                         7.0   \n",
       "3                         7.0                         7.0   \n",
       "4                         5.0                         6.0   \n",
       "\n",
       "   clickTask_3.5.player.tlx_single  clickTask_3.5.player.difficulty  \\\n",
       "0                              9.0                              3.0   \n",
       "1                              7.0                              2.0   \n",
       "2                              0.0                              1.0   \n",
       "3                              0.0                              1.0   \n",
       "4                              7.0                              2.0   \n",
       "\n",
       "   clickTask_3.5.player.mr_mood  clickTask_3.5.player.mr_sleepy  \\\n",
       "0                          86.0                            88.0   \n",
       "1                          80.0                            76.0   \n",
       "2                          97.0                            50.0   \n",
       "3                          56.0                            37.0   \n",
       "4                          69.0                            18.0   \n",
       "\n",
       "   clickTask_3.5.player.mr_motivy  clickTask_3.5.player.mf_single  \\\n",
       "0                            91.0                            27.0   \n",
       "1                            70.0                            18.0   \n",
       "2                            50.0                            12.0   \n",
       "3                            37.0                            42.0   \n",
       "4                            39.0                            89.0   \n",
       "\n",
       "                  clickTask_3.5.player.click_actions  \\\n",
       "0  ;taskStart;Thu Jul 17 2025 10:28:33 GMT+0200 (...   \n",
       "1  ;taskStart;Thu Jul 17 2025 10:39:29 GMT+0200 (...   \n",
       "2  ;taskStart;Mon Jul 21 2025 14:39:45 GMT+0200 (...   \n",
       "3  ;taskStart;Thu Jul 24 2025 15:03:29 GMT+0200 (...   \n",
       "4  ;taskStart;Thu Jul 24 2025 17:08:04 GMT+0200 (...   \n",
       "\n",
       "   clickTask_3.5.subsession.round_number  clickTask_3.6.player.fss06  \\\n",
       "0                                      5                         6.0   \n",
       "1                                      5                         7.0   \n",
       "2                                      5                         6.0   \n",
       "3                                      5                         7.0   \n",
       "4                                      5                         6.0   \n",
       "\n",
       "   clickTask_3.6.player.fss08  clickTask_3.6.player.fss09  \\\n",
       "0                         6.0                         6.0   \n",
       "1                         7.0                         7.0   \n",
       "2                         7.0                         7.0   \n",
       "3                         7.0                         7.0   \n",
       "4                         5.0                         6.0   \n",
       "\n",
       "   clickTask_3.6.player.tlx_single  clickTask_3.6.player.difficulty  \\\n",
       "0                             14.0                              3.0   \n",
       "1                              8.0                              3.0   \n",
       "2                              0.0                              1.0   \n",
       "3                              0.0                              1.0   \n",
       "4                             16.0                              5.0   \n",
       "\n",
       "   clickTask_3.6.player.mr_mood  clickTask_3.6.player.mr_sleepy  \\\n",
       "0                          82.0                            84.0   \n",
       "1                          67.0                            69.0   \n",
       "2                          99.0                            50.0   \n",
       "3                          61.0                            31.0   \n",
       "4                          63.0                             1.0   \n",
       "\n",
       "   clickTask_3.6.player.mr_motivy  clickTask_3.6.player.mf_single  \\\n",
       "0                            86.0                            20.0   \n",
       "1                            58.0                             8.0   \n",
       "2                            50.0                             9.0   \n",
       "3                            33.0                            50.0   \n",
       "4                            31.0                           100.0   \n",
       "\n",
       "                  clickTask_3.6.player.click_actions  \\\n",
       "0  ;taskStart;Thu Jul 17 2025 10:30:00 GMT+0200 (...   \n",
       "1  ;taskStart;Thu Jul 17 2025 10:40:55 GMT+0200 (...   \n",
       "2  ;taskStart;Mon Jul 21 2025 14:41:18 GMT+0200 (...   \n",
       "3  ;taskStart;Thu Jul 24 2025 15:04:51 GMT+0200 (...   \n",
       "4  ;taskStart;Thu Jul 24 2025 17:09:28 GMT+0200 (...   \n",
       "\n",
       "   clickTask_3.6.subsession.round_number  \\\n",
       "0                                      6   \n",
       "1                                      6   \n",
       "2                                      6   \n",
       "3                                      6   \n",
       "4                                      6   \n",
       "\n",
       "   clickTask_3.7.subsession.round_number  clickTask_3.8.player.tlx_single  \\\n",
       "0                                      7                             18.0   \n",
       "1                                      7                              4.0   \n",
       "2                                      7                              0.0   \n",
       "3                                      7                              0.0   \n",
       "4                                      7                              4.0   \n",
       "\n",
       "   clickTask_3.8.player.mr_mood  clickTask_3.8.player.mr_sleepy  \\\n",
       "0                          82.0                            85.0   \n",
       "1                          67.0                            73.0   \n",
       "2                          98.0                            50.0   \n",
       "3                          50.0                            39.0   \n",
       "4                          61.0                             6.0   \n",
       "\n",
       "   clickTask_3.8.player.mr_motivy  clickTask_3.8.player.mf_single  \\\n",
       "0                            89.0                            11.0   \n",
       "1                            68.0                            25.0   \n",
       "2                            50.0                             7.0   \n",
       "3                            31.0                            37.0   \n",
       "4                            35.0                            68.0   \n",
       "\n",
       "   clickTask_3.8.player.mf_01  clickTask_3.8.player.mf_02  \\\n",
       "0                         3.0                         3.0   \n",
       "1                         7.0                         7.0   \n",
       "2                         5.0                         5.0   \n",
       "3                         4.0                         3.0   \n",
       "4                         4.0                         5.0   \n",
       "\n",
       "   clickTask_3.8.player.mf_03  clickTask_3.8.player.mf_04  \\\n",
       "0                         3.0                         3.0   \n",
       "1                         1.0                         2.0   \n",
       "2                         2.0                         2.0   \n",
       "3                         6.0                         6.0   \n",
       "4                         4.0                         6.0   \n",
       "\n",
       "   clickTask_3.8.player.headset_comfort  \\\n",
       "0                                   6.0   \n",
       "1                                   4.0   \n",
       "2                                   6.0   \n",
       "3                                   6.0   \n",
       "4                                   2.0   \n",
       "\n",
       "                clickTask_3.8.player.rest_actions_eo  \\\n",
       "0  ;onLoad;Thu Jul 17 2025 10:31:23 GMT+0200 (Mit...   \n",
       "1  ;onLoad;Thu Jul 17 2025 10:42:19 GMT+0200 (Mit...   \n",
       "2  ;onLoad;Mon Jul 21 2025 14:42:48 GMT+0200 (Mit...   \n",
       "3  ;onLoad;Thu Jul 24 2025 15:06:15 GMT+0200 (Mit...   \n",
       "4  ;onLoad;Thu Jul 24 2025 17:10:55 GMT+0200 (Mit...   \n",
       "\n",
       "                clickTask_3.8.player.rest_actions_ec  \\\n",
       "0  ;onLoad;Thu Jul 17 2025 10:31:57 GMT+0200 (Mit...   \n",
       "1  ;onLoad;Thu Jul 17 2025 10:42:54 GMT+0200 (Mit...   \n",
       "2  ;onLoad;Mon Jul 21 2025 14:43:22 GMT+0200 (Mit...   \n",
       "3  ;onLoad;Thu Jul 24 2025 15:06:48 GMT+0200 (Mit...   \n",
       "4  ;onLoad;Thu Jul 24 2025 17:11:30 GMT+0200 (Mit...   \n",
       "\n",
       "   clickTask_3.8.subsession.round_number  \\\n",
       "0                                      8   \n",
       "1                                      8   \n",
       "2                                      8   \n",
       "3                                      8   \n",
       "4                                      8   \n",
       "\n",
       "               headphones_finish_3.1.player.feedback  \\\n",
       "0  Headset was comfortable , as comparted to prer...   \n",
       "1                                                NaN   \n",
       "2                                                NaN   \n",
       "3  fand ich toll, meine Konzentration ist zwar im...   \n",
       "4                                                NaN   \n",
       "\n",
       "   headphones_finish_3.1.subsession.round_number  \\\n",
       "0                                              1   \n",
       "1                                              1   \n",
       "2                                              1   \n",
       "3                                              1   \n",
       "4                                              1   \n",
       "\n",
       "   debriefing_3.1.player.mathsRating  debriefing_3.1.player.clickRating  \\\n",
       "0                                5.0                                5.0   \n",
       "1                                6.0                                6.0   \n",
       "2                                3.0                                5.0   \n",
       "3                                1.0                                7.0   \n",
       "4                                3.0                                5.0   \n",
       "\n",
       "   debriefing_3.1.player.mathSkill  debriefing_3.1.player.clickSkill  \\\n",
       "0                              4.0                               4.0   \n",
       "1                              3.0                               3.0   \n",
       "2                              3.0                               5.0   \n",
       "3                              1.0                               7.0   \n",
       "4                              4.0                               5.0   \n",
       "\n",
       "   debriefing_3.1.subsession.round_number  \n",
       "0                                       1  \n",
       "1                                       1  \n",
       "2                                       1  \n",
       "3                                       1  \n",
       "4                                       1  "
      ]
     },
     "execution_count": 3,
     "metadata": {},
     "output_type": "execute_result"
    }
   ],
   "source": [
    "# Load otree log for last sessions\n",
    "otree_df = pd.read_csv(main_folder + \"processed/otree_logs.csv\")\n",
    "otree_df = otree_df[otree_df[\"participant.token\"] != \"bk7zlu\"] # excluding participant because of record quality\n",
    "otree_df = otree_df[otree_df[\"participant.token\"] != \"2rw33z\"].reset_index(drop=True)\n",
    "otree_df.head(5)"
   ]
  },
  {
   "cell_type": "markdown",
   "metadata": {},
   "source": [
    "# EEG Settings & Functions"
   ]
  },
  {
   "cell_type": "code",
   "execution_count": 4,
   "metadata": {},
   "outputs": [],
   "source": [
    "# EEG File metdata ------\n",
    "chans = ['A1', 'A2', 'A3', 'A4', 'A5', 'A6', 'A7', 'A8'] # Varies for the two treatments\n",
    "chans_ear_only = ['A2', 'A3', 'A4', 'A6', 'A7', 'A8']\n",
    "chans_top_ear = ['A1', 'A2', 'A3', 'A6', 'A7', 'A8']\n",
    "\n",
    "fs = 250 # Sampling frequency\n",
    "\n",
    "# PSD parameters\n",
    "min_freq, max_freq = 2, 60\n",
    "psd_normalize = False\n",
    "notch = 50 # EU power line frequency I guess \n",
    "psd_window_sec, psd_overlap_pct = 1, 0.75"
   ]
  },
  {
   "cell_type": "code",
   "execution_count": 5,
   "metadata": {},
   "outputs": [],
   "source": [
    "# Label and cut the EEG data\n",
    "def label_data(eeg, timestamps, cut=True, report=True):        \n",
    "    # Annotate the data by checking conditions\n",
    "    for i, row in timestamps.iterrows():        \n",
    "        idx = (eeg['TS_UNIX'] >= row['Start']) & (eeg['TS_UNIX'] < row['End'])\n",
    "        eeg.loc[idx, 'Condition'] = row['Exp_Phase']\n",
    "\n",
    "    # Drop entries where condition is NA\n",
    "    if cut: eeg = eeg.dropna(subset=['Condition'])\n",
    "    \n",
    "    # Check if annotations are correct\n",
    "    if report:\n",
    "        display(eeg['Condition'].value_counts())\n",
    "        \n",
    "    return eeg"
   ]
  },
  {
   "cell_type": "code",
   "execution_count": 6,
   "metadata": {},
   "outputs": [],
   "source": [
    "# Assess ASSR effect across chans\n",
    "def get_assr_snr(channel_df):\n",
    "    # Make sure we're working on a copy - to avoid warnings\n",
    "    channel_df = channel_df.copy()\n",
    "    \n",
    "    '''\n",
    "    # TODO: Should also check Mikkelsen2015 data processing: They exclude some chans without a clear peak at 40Hz\n",
    "    Mikkelsen2015: Using the ASSR paradigm, we then estimated the signal-to-\n",
    "    noise ratios (SNR) for both scalp and ear-EEG setups, whereby\n",
    "    the SNR was defined as the diﬀerence between the logarithm of\n",
    "    the power at 40 Hz (the signal) and the logarithm of the average\n",
    "    power in 5 Hz intervals around 40 Hz (the noise floor).\n",
    "    '''\n",
    "    # dev = eo_ec_signals[eo_ec_signals.Condition==\"headphones_setup_1_eo_1\"][\"A1\"]\n",
    "    # Split in half\n",
    "    # TODO: Could also get a more precise indicator of when the ASSR stimulus started - have a timestamp\n",
    "    try:\n",
    "        first_half, second_half = channel_df.iloc[:channel_df.shape[0]//2], channel_df.iloc[channel_df.shape[0]//2:]    \n",
    "    except Exception as e: \n",
    "        print(e) \n",
    " \n",
    "\n",
    "    return pd.Series({\n",
    "            \"SNR_First_Half\": flows.assr_snr(first_half.mV, min_freq=2, max_freq=100, fs=fs, normalize=False, window_sec = 1),\n",
    "            \"SNR_Second_Half\": flows.assr_snr(second_half.mV, min_freq=2, max_freq=100, fs=fs, normalize=False, window_sec = 1)\n",
    "\n",
    "        # \"SNR_First_Half\": flows.assr_snr_db(first_half.mV, fs=250.0, f0=40.0, half_width=0.5, flank=4.0, min_f=1.0, max_f=100.0),\n",
    "        # \"SNR_Second_Half\": flows.assr_snr_db(first_half.mV, fs=250.0, f0=40.0, half_width=0.5, flank=4.0, min_f=1.0, max_f=100.0),\n",
    "    })\n"
   ]
  },
  {
   "cell_type": "code",
   "execution_count": null,
   "metadata": {},
   "outputs": [
    {
     "name": "stdout",
     "output_type": "stream",
     "text": [
      "--- Pre-processing EEG\n",
      "Bad channel detection failed: module 'flows' has no attribute 'get_rms_bads'\n",
      "EEG channel type selected for re-referencing\n",
      "Applying average reference.\n",
      "Applying a custom ('EEG',) reference.\n"
     ]
    },
    {
     "name": "stderr",
     "output_type": "stream",
     "text": [
      "/Users/Sam/UNAM/neuro_headphone_study/Code/flows/processing.py:91: RuntimeWarning: Fiducial point nasion not found, assuming identity unknown to head transformation\n",
      "  raw = raw.set_montage(MONTAGE, on_missing='ignore')\n"
     ]
    },
    {
     "name": "stdout",
     "output_type": "stream",
     "text": [
      "ASR failed: array must not contain infs or NaNs\n"
     ]
    },
    {
     "data": {
      "application/vnd.plotly.v1+json": {
       "config": {
        "plotlyServerURL": "https://plot.ly"
       },
       "data": [
        {
         "alignmentgroup": "True",
         "boxpoints": "all",
         "hovertemplate": "EEG Channel=%{x}<br>ΔSNR=%{y}<extra></extra>",
         "legendgroup": "A1",
         "marker": {
          "color": "#636efa"
         },
         "name": "A1",
         "notched": false,
         "offsetgroup": "A1",
         "orientation": "v",
         "showlegend": true,
         "type": "box",
         "x": [
          "A1",
          "A1",
          "A1",
          "A1",
          "A1",
          "A1"
         ],
         "x0": " ",
         "xaxis": "x",
         "y": {
          "bdata": "0GS2nIlzlb9IPE6l6FeZP7RwkiqOGY6/XFNjG75Niz8AAAAAAAAAAAAAAAAAAAAA",
          "dtype": "f8"
         },
         "y0": " ",
         "yaxis": "y"
        },
        {
         "alignmentgroup": "True",
         "boxpoints": "all",
         "hovertemplate": "EEG Channel=%{x}<br>ΔSNR=%{y}<extra></extra>",
         "legendgroup": "A2",
         "marker": {
          "color": "#EF553B"
         },
         "name": "A2",
         "notched": false,
         "offsetgroup": "A2",
         "orientation": "v",
         "showlegend": true,
         "type": "box",
         "x": [
          "A2",
          "A2",
          "A2",
          "A2",
          "A2",
          "A2"
         ],
         "x0": " ",
         "xaxis": "x",
         "y": {
          "bdata": "VItY0d+I67+g91NyvCi5v4AKMh9W4K8/0AdT1DqJ1r/INzQG2pjcP3CMNtMfBdU/",
          "dtype": "f8"
         },
         "y0": " ",
         "yaxis": "y"
        },
        {
         "alignmentgroup": "True",
         "boxpoints": "all",
         "hovertemplate": "EEG Channel=%{x}<br>ΔSNR=%{y}<extra></extra>",
         "legendgroup": "A3",
         "marker": {
          "color": "#00cc96"
         },
         "name": "A3",
         "notched": false,
         "offsetgroup": "A3",
         "orientation": "v",
         "showlegend": true,
         "type": "box",
         "x": [
          "A3",
          "A3",
          "A3",
          "A3",
          "A3",
          "A3"
         ],
         "x0": " ",
         "xaxis": "x",
         "y": {
          "bdata": "4F4tTzhh678AUwhib7eXPwCcZw/2poY/ELXXET9Zxj+o8fCrOJ3dP0D1UbDUhtY/",
          "dtype": "f8"
         },
         "y0": " ",
         "yaxis": "y"
        },
        {
         "alignmentgroup": "True",
         "boxpoints": "all",
         "hovertemplate": "EEG Channel=%{x}<br>ΔSNR=%{y}<extra></extra>",
         "legendgroup": "A4",
         "marker": {
          "color": "#ab63fa"
         },
         "name": "A4",
         "notched": false,
         "offsetgroup": "A4",
         "orientation": "v",
         "showlegend": true,
         "type": "box",
         "x": [
          "A4",
          "A4",
          "A4",
          "A4",
          "A4",
          "A4"
         ],
         "x0": " ",
         "xaxis": "x",
         "y": {
          "bdata": "LJubi+dK5b8gYJO1mWq8P1AFQA8Jodi/IKGxf2N23j9Y4uG5ZM7iP+D+xnq6y9k/",
          "dtype": "f8"
         },
         "y0": " ",
         "yaxis": "y"
        },
        {
         "alignmentgroup": "True",
         "boxpoints": "all",
         "hovertemplate": "EEG Channel=%{x}<br>ΔSNR=%{y}<extra></extra>",
         "legendgroup": "A5",
         "marker": {
          "color": "#FFA15A"
         },
         "name": "A5",
         "notched": false,
         "offsetgroup": "A5",
         "orientation": "v",
         "showlegend": true,
         "type": "box",
         "x": [
          "A5",
          "A5",
          "A5",
          "A5",
          "A5",
          "A5"
         ],
         "x0": " ",
         "xaxis": "x",
         "y": {
          "bdata": "bFXO74gO5r/QugRTTbfKP2BwHc0rxcy/EHLu1Yhh3D8U11tDoiznPwAOf89KzsI/",
          "dtype": "f8"
         },
         "y0": " ",
         "yaxis": "y"
        },
        {
         "alignmentgroup": "True",
         "boxpoints": "all",
         "hovertemplate": "EEG Channel=%{x}<br>ΔSNR=%{y}<extra></extra>",
         "legendgroup": "A6",
         "marker": {
          "color": "#19d3f3"
         },
         "name": "A6",
         "notched": false,
         "offsetgroup": "A6",
         "orientation": "v",
         "showlegend": true,
         "type": "box",
         "x": [
          "A6",
          "A6",
          "A6",
          "A6",
          "A6",
          "A6"
         ],
         "x0": " ",
         "xaxis": "x",
         "y": {
          "bdata": "tOW/J23q4L+4KM26BRHMP9hAUoCxr9+/GDl+iDiI5j9oFlgEL9PkP7B07KVOhdI/",
          "dtype": "f8"
         },
         "y0": " ",
         "yaxis": "y"
        },
        {
         "alignmentgroup": "True",
         "boxpoints": "all",
         "hovertemplate": "EEG Channel=%{x}<br>ΔSNR=%{y}<extra></extra>",
         "legendgroup": "A7",
         "marker": {
          "color": "#FF6692"
         },
         "name": "A7",
         "notched": false,
         "offsetgroup": "A7",
         "orientation": "v",
         "showlegend": true,
         "type": "box",
         "x": [
          "A7",
          "A7",
          "A7",
          "A7",
          "A7",
          "A7"
         ],
         "x0": " ",
         "xaxis": "x",
         "y": {
          "bdata": "2ERiUOJZ6L8kjpnPzmDkP4ACQBrP09G/AJCG/XjIYr/IGY2gcHjjv1DQ60gsoNQ/",
          "dtype": "f8"
         },
         "y0": " ",
         "yaxis": "y"
        },
        {
         "alignmentgroup": "True",
         "boxpoints": "all",
         "hovertemplate": "EEG Channel=%{x}<br>ΔSNR=%{y}<extra></extra>",
         "legendgroup": "A8",
         "marker": {
          "color": "#B6E880"
         },
         "name": "A8",
         "notched": false,
         "offsetgroup": "A8",
         "orientation": "v",
         "showlegend": true,
         "type": "box",
         "x": [
          "A8",
          "A8",
          "A8",
          "A8",
          "A8",
          "A8"
         ],
         "x0": " ",
         "xaxis": "x",
         "y": {
          "bdata": "AAAAAAAAAAAAAAAAAAAAAGRIZKZXGuu/gAmL4/AUkD/QUMz6qcPKP8yZcdHXBuA/",
          "dtype": "f8"
         },
         "y0": " ",
         "yaxis": "y"
        }
       ],
       "layout": {
        "boxmode": "overlay",
        "legend": {
         "title": {
          "text": "EEG Channel"
         },
         "tracegroupgap": 0
        },
        "template": {
         "data": {
          "bar": [
           {
            "error_x": {
             "color": "#2a3f5f"
            },
            "error_y": {
             "color": "#2a3f5f"
            },
            "marker": {
             "line": {
              "color": "#E5ECF6",
              "width": 0.5
             },
             "pattern": {
              "fillmode": "overlay",
              "size": 10,
              "solidity": 0.2
             }
            },
            "type": "bar"
           }
          ],
          "barpolar": [
           {
            "marker": {
             "line": {
              "color": "#E5ECF6",
              "width": 0.5
             },
             "pattern": {
              "fillmode": "overlay",
              "size": 10,
              "solidity": 0.2
             }
            },
            "type": "barpolar"
           }
          ],
          "carpet": [
           {
            "aaxis": {
             "endlinecolor": "#2a3f5f",
             "gridcolor": "white",
             "linecolor": "white",
             "minorgridcolor": "white",
             "startlinecolor": "#2a3f5f"
            },
            "baxis": {
             "endlinecolor": "#2a3f5f",
             "gridcolor": "white",
             "linecolor": "white",
             "minorgridcolor": "white",
             "startlinecolor": "#2a3f5f"
            },
            "type": "carpet"
           }
          ],
          "choropleth": [
           {
            "colorbar": {
             "outlinewidth": 0,
             "ticks": ""
            },
            "type": "choropleth"
           }
          ],
          "contour": [
           {
            "colorbar": {
             "outlinewidth": 0,
             "ticks": ""
            },
            "colorscale": [
             [
              0,
              "#0d0887"
             ],
             [
              0.1111111111111111,
              "#46039f"
             ],
             [
              0.2222222222222222,
              "#7201a8"
             ],
             [
              0.3333333333333333,
              "#9c179e"
             ],
             [
              0.4444444444444444,
              "#bd3786"
             ],
             [
              0.5555555555555556,
              "#d8576b"
             ],
             [
              0.6666666666666666,
              "#ed7953"
             ],
             [
              0.7777777777777778,
              "#fb9f3a"
             ],
             [
              0.8888888888888888,
              "#fdca26"
             ],
             [
              1,
              "#f0f921"
             ]
            ],
            "type": "contour"
           }
          ],
          "contourcarpet": [
           {
            "colorbar": {
             "outlinewidth": 0,
             "ticks": ""
            },
            "type": "contourcarpet"
           }
          ],
          "heatmap": [
           {
            "colorbar": {
             "outlinewidth": 0,
             "ticks": ""
            },
            "colorscale": [
             [
              0,
              "#0d0887"
             ],
             [
              0.1111111111111111,
              "#46039f"
             ],
             [
              0.2222222222222222,
              "#7201a8"
             ],
             [
              0.3333333333333333,
              "#9c179e"
             ],
             [
              0.4444444444444444,
              "#bd3786"
             ],
             [
              0.5555555555555556,
              "#d8576b"
             ],
             [
              0.6666666666666666,
              "#ed7953"
             ],
             [
              0.7777777777777778,
              "#fb9f3a"
             ],
             [
              0.8888888888888888,
              "#fdca26"
             ],
             [
              1,
              "#f0f921"
             ]
            ],
            "type": "heatmap"
           }
          ],
          "histogram": [
           {
            "marker": {
             "pattern": {
              "fillmode": "overlay",
              "size": 10,
              "solidity": 0.2
             }
            },
            "type": "histogram"
           }
          ],
          "histogram2d": [
           {
            "colorbar": {
             "outlinewidth": 0,
             "ticks": ""
            },
            "colorscale": [
             [
              0,
              "#0d0887"
             ],
             [
              0.1111111111111111,
              "#46039f"
             ],
             [
              0.2222222222222222,
              "#7201a8"
             ],
             [
              0.3333333333333333,
              "#9c179e"
             ],
             [
              0.4444444444444444,
              "#bd3786"
             ],
             [
              0.5555555555555556,
              "#d8576b"
             ],
             [
              0.6666666666666666,
              "#ed7953"
             ],
             [
              0.7777777777777778,
              "#fb9f3a"
             ],
             [
              0.8888888888888888,
              "#fdca26"
             ],
             [
              1,
              "#f0f921"
             ]
            ],
            "type": "histogram2d"
           }
          ],
          "histogram2dcontour": [
           {
            "colorbar": {
             "outlinewidth": 0,
             "ticks": ""
            },
            "colorscale": [
             [
              0,
              "#0d0887"
             ],
             [
              0.1111111111111111,
              "#46039f"
             ],
             [
              0.2222222222222222,
              "#7201a8"
             ],
             [
              0.3333333333333333,
              "#9c179e"
             ],
             [
              0.4444444444444444,
              "#bd3786"
             ],
             [
              0.5555555555555556,
              "#d8576b"
             ],
             [
              0.6666666666666666,
              "#ed7953"
             ],
             [
              0.7777777777777778,
              "#fb9f3a"
             ],
             [
              0.8888888888888888,
              "#fdca26"
             ],
             [
              1,
              "#f0f921"
             ]
            ],
            "type": "histogram2dcontour"
           }
          ],
          "mesh3d": [
           {
            "colorbar": {
             "outlinewidth": 0,
             "ticks": ""
            },
            "type": "mesh3d"
           }
          ],
          "parcoords": [
           {
            "line": {
             "colorbar": {
              "outlinewidth": 0,
              "ticks": ""
             }
            },
            "type": "parcoords"
           }
          ],
          "pie": [
           {
            "automargin": true,
            "type": "pie"
           }
          ],
          "scatter": [
           {
            "fillpattern": {
             "fillmode": "overlay",
             "size": 10,
             "solidity": 0.2
            },
            "type": "scatter"
           }
          ],
          "scatter3d": [
           {
            "line": {
             "colorbar": {
              "outlinewidth": 0,
              "ticks": ""
             }
            },
            "marker": {
             "colorbar": {
              "outlinewidth": 0,
              "ticks": ""
             }
            },
            "type": "scatter3d"
           }
          ],
          "scattercarpet": [
           {
            "marker": {
             "colorbar": {
              "outlinewidth": 0,
              "ticks": ""
             }
            },
            "type": "scattercarpet"
           }
          ],
          "scattergeo": [
           {
            "marker": {
             "colorbar": {
              "outlinewidth": 0,
              "ticks": ""
             }
            },
            "type": "scattergeo"
           }
          ],
          "scattergl": [
           {
            "marker": {
             "colorbar": {
              "outlinewidth": 0,
              "ticks": ""
             }
            },
            "type": "scattergl"
           }
          ],
          "scattermap": [
           {
            "marker": {
             "colorbar": {
              "outlinewidth": 0,
              "ticks": ""
             }
            },
            "type": "scattermap"
           }
          ],
          "scattermapbox": [
           {
            "marker": {
             "colorbar": {
              "outlinewidth": 0,
              "ticks": ""
             }
            },
            "type": "scattermapbox"
           }
          ],
          "scatterpolar": [
           {
            "marker": {
             "colorbar": {
              "outlinewidth": 0,
              "ticks": ""
             }
            },
            "type": "scatterpolar"
           }
          ],
          "scatterpolargl": [
           {
            "marker": {
             "colorbar": {
              "outlinewidth": 0,
              "ticks": ""
             }
            },
            "type": "scatterpolargl"
           }
          ],
          "scatterternary": [
           {
            "marker": {
             "colorbar": {
              "outlinewidth": 0,
              "ticks": ""
             }
            },
            "type": "scatterternary"
           }
          ],
          "surface": [
           {
            "colorbar": {
             "outlinewidth": 0,
             "ticks": ""
            },
            "colorscale": [
             [
              0,
              "#0d0887"
             ],
             [
              0.1111111111111111,
              "#46039f"
             ],
             [
              0.2222222222222222,
              "#7201a8"
             ],
             [
              0.3333333333333333,
              "#9c179e"
             ],
             [
              0.4444444444444444,
              "#bd3786"
             ],
             [
              0.5555555555555556,
              "#d8576b"
             ],
             [
              0.6666666666666666,
              "#ed7953"
             ],
             [
              0.7777777777777778,
              "#fb9f3a"
             ],
             [
              0.8888888888888888,
              "#fdca26"
             ],
             [
              1,
              "#f0f921"
             ]
            ],
            "type": "surface"
           }
          ],
          "table": [
           {
            "cells": {
             "fill": {
              "color": "#EBF0F8"
             },
             "line": {
              "color": "white"
             }
            },
            "header": {
             "fill": {
              "color": "#C8D4E3"
             },
             "line": {
              "color": "white"
             }
            },
            "type": "table"
           }
          ]
         },
         "layout": {
          "annotationdefaults": {
           "arrowcolor": "#2a3f5f",
           "arrowhead": 0,
           "arrowwidth": 1
          },
          "autotypenumbers": "strict",
          "coloraxis": {
           "colorbar": {
            "outlinewidth": 0,
            "ticks": ""
           }
          },
          "colorscale": {
           "diverging": [
            [
             0,
             "#8e0152"
            ],
            [
             0.1,
             "#c51b7d"
            ],
            [
             0.2,
             "#de77ae"
            ],
            [
             0.3,
             "#f1b6da"
            ],
            [
             0.4,
             "#fde0ef"
            ],
            [
             0.5,
             "#f7f7f7"
            ],
            [
             0.6,
             "#e6f5d0"
            ],
            [
             0.7,
             "#b8e186"
            ],
            [
             0.8,
             "#7fbc41"
            ],
            [
             0.9,
             "#4d9221"
            ],
            [
             1,
             "#276419"
            ]
           ],
           "sequential": [
            [
             0,
             "#0d0887"
            ],
            [
             0.1111111111111111,
             "#46039f"
            ],
            [
             0.2222222222222222,
             "#7201a8"
            ],
            [
             0.3333333333333333,
             "#9c179e"
            ],
            [
             0.4444444444444444,
             "#bd3786"
            ],
            [
             0.5555555555555556,
             "#d8576b"
            ],
            [
             0.6666666666666666,
             "#ed7953"
            ],
            [
             0.7777777777777778,
             "#fb9f3a"
            ],
            [
             0.8888888888888888,
             "#fdca26"
            ],
            [
             1,
             "#f0f921"
            ]
           ],
           "sequentialminus": [
            [
             0,
             "#0d0887"
            ],
            [
             0.1111111111111111,
             "#46039f"
            ],
            [
             0.2222222222222222,
             "#7201a8"
            ],
            [
             0.3333333333333333,
             "#9c179e"
            ],
            [
             0.4444444444444444,
             "#bd3786"
            ],
            [
             0.5555555555555556,
             "#d8576b"
            ],
            [
             0.6666666666666666,
             "#ed7953"
            ],
            [
             0.7777777777777778,
             "#fb9f3a"
            ],
            [
             0.8888888888888888,
             "#fdca26"
            ],
            [
             1,
             "#f0f921"
            ]
           ]
          },
          "colorway": [
           "#636efa",
           "#EF553B",
           "#00cc96",
           "#ab63fa",
           "#FFA15A",
           "#19d3f3",
           "#FF6692",
           "#B6E880",
           "#FF97FF",
           "#FECB52"
          ],
          "font": {
           "color": "#2a3f5f"
          },
          "geo": {
           "bgcolor": "white",
           "lakecolor": "white",
           "landcolor": "#E5ECF6",
           "showlakes": true,
           "showland": true,
           "subunitcolor": "white"
          },
          "hoverlabel": {
           "align": "left"
          },
          "hovermode": "closest",
          "mapbox": {
           "style": "light"
          },
          "paper_bgcolor": "white",
          "plot_bgcolor": "#E5ECF6",
          "polar": {
           "angularaxis": {
            "gridcolor": "white",
            "linecolor": "white",
            "ticks": ""
           },
           "bgcolor": "#E5ECF6",
           "radialaxis": {
            "gridcolor": "white",
            "linecolor": "white",
            "ticks": ""
           }
          },
          "scene": {
           "xaxis": {
            "backgroundcolor": "#E5ECF6",
            "gridcolor": "white",
            "gridwidth": 2,
            "linecolor": "white",
            "showbackground": true,
            "ticks": "",
            "zerolinecolor": "white"
           },
           "yaxis": {
            "backgroundcolor": "#E5ECF6",
            "gridcolor": "white",
            "gridwidth": 2,
            "linecolor": "white",
            "showbackground": true,
            "ticks": "",
            "zerolinecolor": "white"
           },
           "zaxis": {
            "backgroundcolor": "#E5ECF6",
            "gridcolor": "white",
            "gridwidth": 2,
            "linecolor": "white",
            "showbackground": true,
            "ticks": "",
            "zerolinecolor": "white"
           }
          },
          "shapedefaults": {
           "line": {
            "color": "#2a3f5f"
           }
          },
          "ternary": {
           "aaxis": {
            "gridcolor": "white",
            "linecolor": "white",
            "ticks": ""
           },
           "baxis": {
            "gridcolor": "white",
            "linecolor": "white",
            "ticks": ""
           },
           "bgcolor": "#E5ECF6",
           "caxis": {
            "gridcolor": "white",
            "linecolor": "white",
            "ticks": ""
           }
          },
          "title": {
           "x": 0.05
          },
          "xaxis": {
           "automargin": true,
           "gridcolor": "white",
           "linecolor": "white",
           "ticks": "",
           "title": {
            "standoff": 15
           },
           "zerolinecolor": "white",
           "zerolinewidth": 2
          },
          "yaxis": {
           "automargin": true,
           "gridcolor": "white",
           "linecolor": "white",
           "ticks": "",
           "title": {
            "standoff": 15
           },
           "zerolinecolor": "white",
           "zerolinewidth": 2
          }
         }
        },
        "title": {
         "text": "SNR Change (Second Half - First Half) by Channel"
        },
        "xaxis": {
         "anchor": "y",
         "categoryarray": [
          "A1",
          "A2",
          "A3",
          "A4",
          "A5",
          "A6",
          "A7",
          "A8"
         ],
         "categoryorder": "array",
         "domain": [
          0,
          1
         ],
         "title": {
          "text": "EEG Channel"
         }
        },
        "yaxis": {
         "anchor": "x",
         "domain": [
          0,
          1
         ],
         "title": {
          "text": "ΔSNR"
         }
        }
       }
      }
     },
     "metadata": {},
     "output_type": "display_data"
    },
    {
     "name": "stdout",
     "output_type": "stream",
     "text": [
      "--- All done!\n",
      "\n"
     ]
    }
   ],
   "source": [
    "# Process recordings\n",
    "def process_recording(active_recording, chans = chans):\n",
    "    \"\"\"\n",
    "    Loop through all recordings\n",
    "    for index, row in sessions.iterrows():\n",
    "        process_recording(row)\n",
    "    \"\"\"\n",
    "    # Filter the otree log\n",
    "    otree_active = otree_df[otree_df['participant.token']==active_recording.ID].reset_index(drop=True)\n",
    "    # display(otree_active)\n",
    "\n",
    "    # Extract timings (2 different options)\n",
    "    timestamps = flows.get_actionlog_times(otree_active)\n",
    "    # Filter for the active recording\n",
    "    # timestamps = timestamps[timestamps.rec==active_recording.Run]\n",
    "    timestamps = timestamps.loc[timestamps['rec'] == active_recording.Run].copy()\n",
    "    \n",
    "    # Load EEG data\n",
    "    rec_folder = main_folder + active_recording.Rec_folder\n",
    "    eeg, load_report_dict = flows.load_exg_streams_data(rec_folder, chanlist=chans, report=False, cleanFile=True)\n",
    "    \n",
    "    # prprocessing with mne\n",
    "    # eeg, report = preprocess_eeg_mne(eeg, sfreq=fs, notch=False)\n",
    "    # eeg, rep = flows.preprocess_eeg_mne(\n",
    "    #     eeg_df=eeg,\n",
    "    #     sfreq=float(globals().get('fs', 250.0)),\n",
    "    #     l_freq=min_freq, h_freq=max_freq,\n",
    "    #     notch=notch,             \n",
    "    #     average_ref=True,\n",
    "    #     auto_bad=True,\n",
    "    #     return_raw=False\n",
    "    # )\n",
    "\n",
    "    #preprocessing\n",
    "    # proc = flows.initial_detrending(eeg[chans], fs = fs, low_freq = min_freq)\n",
    "    proc = flows.preprocess_eeg(eeg[chans], chans= chans, sfreq = fs , return_raw=False)\n",
    "    # eeg = pd.concat([eeg.drop(columns=chans), proc], axis=1)\n",
    "    # report[\"bad_channels\"]\n",
    "    # report[\"metrics\"].head()\n",
    "\n",
    "    # Now annotate (add condition timings) and cut the EEG Data\n",
    "    eeg = label_data(eeg, timestamps, cut=True, report=False)\n",
    "    \n",
    "    # TODO: Process signals now and extract features of interest\n",
    "    # TODO: Berger effect during EC/EO rest\n",
    "    # - So far only visualization\n",
    "    # - Can use flows.get_channel_band_power() to extract band powers instead\n",
    "    \n",
    "    # TODO: ASSR during rest\n",
    "    # - Not yet checked for correctness...\n",
    "    # Filter for EC/EO conditions\n",
    "    \n",
    "    pat = re.compile(r'(?<![A-Za-z])(?:eo|ec)(?![A-Za-z])', re.IGNORECASE) #robust matching to get all ec and eo but not include other words that might contain ec\n",
    "    mask = eeg[\"Condition\"].astype(str).str.contains(pat, na=False)\n",
    "    eo_ec_signals = eeg.loc[mask].copy()\n",
    "    # Do for each channel and condition\n",
    "    # print(eeg['Condition'])  TODO: Wollen wir uns hier nicht eigtl. nur die setups anschauen oder auch \"click_task_ec..\" ?\n",
    "    # print( \"signals:\",  eo_ec_signals)\n",
    "    eo_ec_signals = eo_ec_signals.drop(['TS_UNIX'], axis=1).melt(id_vars=\"Condition\", value_vars=chans, var_name=\"Channel\", value_name=\"mV\")\n",
    "    \n",
    "    snr_df = (\n",
    "        eo_ec_signals\n",
    "        .groupby([\"Condition\", \"Channel\"], observed=True)\n",
    "        .apply(lambda group: get_assr_snr(group), include_groups=False)\n",
    "        .reset_index()\n",
    "    )\n",
    "    snr_df\n",
    "\n",
    "    # Add the SNR difference to the DataFrame\n",
    "    snr_df[\"SNR_Diff\"] = snr_df[\"SNR_Second_Half\"] - snr_df[\"SNR_First_Half\"]\n",
    "    \n",
    "    # TODO: Other features...\n",
    "    return eeg, snr_df, load_report_dict\n",
    "\n",
    "# Process the recordings by looping through the mapping file\n",
    "# For a single participant\n",
    "active_recording = sessions.iloc[9]\n",
    "eeg, snr_df, load_report_dict = process_recording(active_recording)\n",
    "\n",
    "\n",
    "fig = px.box(\n",
    "    snr_df,\n",
    "    x=\"Channel\",\n",
    "    y=\"SNR_Diff\",\n",
    "    points=\"all\",  # show individual data points\n",
    "    color=\"Channel\",  # optional: adds color by channel\n",
    "    title=\"SNR Change (Second Half - First Half) by Channel\",\n",
    "    labels={\"SNR_Diff\": \"ΔSNR\", \"Channel\": \"EEG Channel\"}\n",
    ")\n",
    "\n",
    "fig.show()\n",
    "\n",
    "print('--- All done!\\n')"
   ]
  },
  {
   "cell_type": "code",
   "execution_count": 8,
   "metadata": {},
   "outputs": [
    {
     "data": {
      "application/vnd.plotly.v1+json": {
       "config": {
        "plotlyServerURL": "https://plot.ly"
       },
       "data": [
        {
         "hovertemplate": "Condition=ec<br>Frequency=%{x}<br>Power=%{y}<extra></extra>",
         "legendgroup": "ec",
         "line": {
          "color": "#FF97FF",
          "dash": "solid"
         },
         "marker": {
          "symbol": "circle"
         },
         "mode": "lines",
         "name": "ec",
         "orientation": "v",
         "showlegend": true,
         "type": "scatter",
         "x": {
          "bdata": "AAAAAAAAAEAAAAAAAAAEQAAAAAAAAAhAAAAAAAAADEAAAAAAAAAQQAAAAAAAABJAAAAAAAAAFEAAAAAAAAAWQAAAAAAAABhAAAAAAAAAGkAAAAAAAAAcQAAAAAAAAB5AAAAAAAAAIEAAAAAAAAAhQAAAAAAAACJAAAAAAAAAI0AAAAAAAAAkQAAAAAAAACVAAAAAAAAAJkAAAAAAAAAnQAAAAAAAAChAAAAAAAAAKUAAAAAAAAAqQAAAAAAAACtAAAAAAAAALEAAAAAAAAAtQAAAAAAAAC5AAAAAAAAAL0AAAAAAAAAwQAAAAAAAgDBAAAAAAAAAMUAAAAAAAIAxQAAAAAAAADJAAAAAAACAMkAAAAAAAAAzQAAAAAAAgDNAAAAAAAAANEAAAAAAAIA0QAAAAAAAADVAAAAAAACANUAAAAAAAAA2QAAAAAAAgDZAAAAAAAAAN0AAAAAAAIA3QAAAAAAAADhAAAAAAACAOEAAAAAAAAA5QAAAAAAAgDlAAAAAAAAAOkAAAAAAAIA6QAAAAAAAADtAAAAAAACAO0AAAAAAAAA8QAAAAAAAgDxAAAAAAAAAPUAAAAAAAIA9QAAAAAAAAD5AAAAAAACAPkAAAAAAAAA/QAAAAAAAgD9AAAAAAAAAQEAAAAAAAEBAQAAAAAAAgEBAAAAAAADAQEAAAAAAAABBQAAAAAAAQEFAAAAAAACAQUAAAAAAAMBBQAAAAAAAAEJAAAAAAABAQkAAAAAAAIBCQAAAAAAAwEJAAAAAAAAAQ0AAAAAAAEBDQAAAAAAAgENAAAAAAADAQ0AAAAAAAABEQAAAAAAAQERAAAAAAACAREAAAAAAAMBEQAAAAAAAAEVAAAAAAABARUAAAAAAAIBFQAAAAAAAwEVAAAAAAAAARkAAAAAAAEBGQAAAAAAAgEZAAAAAAADARkAAAAAAAABHQAAAAAAAQEdAAAAAAACAR0AAAAAAAMBHQAAAAAAAAEhAAAAAAABASEAAAAAAAIBIQAAAAAAAwEhAAAAAAAAASUAAAAAAAEBJQAAAAAAAgElAAAAAAADASUAAAAAAAABKQAAAAAAAQEpAAAAAAACASkAAAAAAAMBKQAAAAAAAAEtAAAAAAABAS0AAAAAAAIBLQAAAAAAAwEtAAAAAAAAATEAAAAAAAEBMQAAAAAAAgExAAAAAAADATEAAAAAAAABNQAAAAAAAQE1AAAAAAACATUAAAAAAAMBNQAAAAAAAAE5A",
          "dtype": "f8"
         },
         "xaxis": "x",
         "y": {
          "bdata": "rcdgf4VBPkGckoi9DeREQTYwtwoD7ilBGIvIGcVLJkHG3ovJWUgYQVLOroUP1RVBMNF7t0eYD0Fw4yhLvvYKQaTEYuIoBQZBs+7o6snVAkEF1hbheFT/QH8XfXhOo/tA4K2wyvq390CAGpC2HV71QGYuSknd5fJA5j6GWF4R8UBeGLfTQ8ruQKj1X4svy+tAsX+DQcU06UAQ4gRPnjjnQPUqgKnsQuVAXmMh2mee40A/pSmXhyniQFV3qOp3xuBA9AkyhaP33kAEKACf5CLdQKGnZ3S9NttAV+38clSC2UBYoOZArRPYQHL9oIAyidZAji0uBQsg1UDqyZZTaf/TQPh7XQOx7NJA8suobvvw0UB86EhJWw7RQIwIgu3QMNBAmimDjYqpzkDczbPKmEHNQDpm7yYV8MtAcQZRxuC2ykCi9PiZ7pzJQJU4MRvYg8hAx1csik19x0Cmy0Dzq4fGQBxYoD6SmsVA8MhzkOHDxEDWGHANme/DQCBMCWWHLsNAJm3iNfh/wkDoCr5fUdDBQA7tNZVmJ8FAo7XFOxSVwEBRApFq7wnAQIh9ybH29r5A0HeYFV/1vUARSXwPVwK9QBB8iJArELxAqIBrD/A8u0C2+SdB+2y6QLo8MknSnLlAwIdpOrDauEDpW4nv9yO4QMA67nP/drdAhwiHWu3NtkAARu9JJSO2QHKP79ANgbVA5GJHk932tEB+yFcVNHW0QDSpIO8W87NAMmgDg7h4s0Aefy0mr/eyQJ/sVCcKebJAw72+LpQHskBqNdxqwJmxQHgY5zq0K7FAqvKkYqS8sEAQ2Se/VFewQCyvkCobA7BAK/b0CgJgr0D2m0wiaK6uQLzhSTwqBa5AGlH8QLZmrUBHR0euhMOsQNt6d+W3KaxALtRjcfOcq0CxX14d3A6rQAJ1xEn6gqpAUFG3fyzxqUCS7+xjhWipQGXcg3qEBalAFAllbDGnqEBclDR08yqoQEzKF9KKpKdA4GHGLiswp0BVzRxV08+mQIwvL2ykfqZA8vxi+dkepkBZdRFRKZ6lQPQGn+2NLKVAJL1OSSvhpEAzu2EL7p6kQMqPL4cDWKRAcJPgE2IJpEA7xQIG0bOjQK1WfBEXXKNABEQUl8IFo0AgyKYjObeiQAGk/msnbKJAnn6f9TYVokAcVlDFKLyhQAk1JuRmeqFAIAMrHSRJoUDOab75EBehQHYYoq6l4qBAZtnTnj2poEDMNlyFd3OgQMqxRWcoQqBA",
          "dtype": "f8"
         },
         "yaxis": "y"
        },
        {
         "hovertemplate": "Condition=eo<br>Frequency=%{x}<br>Power=%{y}<extra></extra>",
         "legendgroup": "eo",
         "line": {
          "color": "#FECB52",
          "dash": "solid"
         },
         "marker": {
          "symbol": "circle"
         },
         "mode": "lines",
         "name": "eo",
         "orientation": "v",
         "showlegend": true,
         "type": "scatter",
         "x": {
          "bdata": "AAAAAAAAAEAAAAAAAAAEQAAAAAAAAAhAAAAAAAAADEAAAAAAAAAQQAAAAAAAABJAAAAAAAAAFEAAAAAAAAAWQAAAAAAAABhAAAAAAAAAGkAAAAAAAAAcQAAAAAAAAB5AAAAAAAAAIEAAAAAAAAAhQAAAAAAAACJAAAAAAAAAI0AAAAAAAAAkQAAAAAAAACVAAAAAAAAAJkAAAAAAAAAnQAAAAAAAAChAAAAAAAAAKUAAAAAAAAAqQAAAAAAAACtAAAAAAAAALEAAAAAAAAAtQAAAAAAAAC5AAAAAAAAAL0AAAAAAAAAwQAAAAAAAgDBAAAAAAAAAMUAAAAAAAIAxQAAAAAAAADJAAAAAAACAMkAAAAAAAAAzQAAAAAAAgDNAAAAAAAAANEAAAAAAAIA0QAAAAAAAADVAAAAAAACANUAAAAAAAAA2QAAAAAAAgDZAAAAAAAAAN0AAAAAAAIA3QAAAAAAAADhAAAAAAACAOEAAAAAAAAA5QAAAAAAAgDlAAAAAAAAAOkAAAAAAAIA6QAAAAAAAADtAAAAAAACAO0AAAAAAAAA8QAAAAAAAgDxAAAAAAAAAPUAAAAAAAIA9QAAAAAAAAD5AAAAAAACAPkAAAAAAAAA/QAAAAAAAgD9AAAAAAAAAQEAAAAAAAEBAQAAAAAAAgEBAAAAAAADAQEAAAAAAAABBQAAAAAAAQEFAAAAAAACAQUAAAAAAAMBBQAAAAAAAAEJAAAAAAABAQkAAAAAAAIBCQAAAAAAAwEJAAAAAAAAAQ0AAAAAAAEBDQAAAAAAAgENAAAAAAADAQ0AAAAAAAABEQAAAAAAAQERAAAAAAACAREAAAAAAAMBEQAAAAAAAAEVAAAAAAABARUAAAAAAAIBFQAAAAAAAwEVAAAAAAAAARkAAAAAAAEBGQAAAAAAAgEZAAAAAAADARkAAAAAAAABHQAAAAAAAQEdAAAAAAACAR0AAAAAAAMBHQAAAAAAAAEhAAAAAAABASEAAAAAAAIBIQAAAAAAAwEhAAAAAAAAASUAAAAAAAEBJQAAAAAAAgElAAAAAAADASUAAAAAAAABKQAAAAAAAQEpAAAAAAACASkAAAAAAAMBKQAAAAAAAAEtAAAAAAABAS0AAAAAAAIBLQAAAAAAAwEtAAAAAAAAATEAAAAAAAEBMQAAAAAAAgExAAAAAAADATEAAAAAAAABNQAAAAAAAQE1AAAAAAACATUAAAAAAAMBNQAAAAAAAAE5A",
          "dtype": "f8"
         },
         "xaxis": "x",
         "y": {
          "bdata": "mJ7dOyn4QUE9EcxbemxKQVaoRpAdIjBBMjKQur5+K0EQrbKr8HkdQTiDTw5tBxtBMj6ZjjMzE0Gc8aFiz44QQXcXtuqhfgtBEFhQAroWB0FwxZu64xADQa50bjWKBQFBThEDG+sJ/UDmTASdeB76QOz8ixFnS/dATF59ZBnj9EA7zz/5pqPyQAow2q0HCvFAquJHIrvc7kAPxCNWcU3sQOqcmh0GJepAD0spnaUE6EB8m6FFZh/mQPs+VQtZleRAHFHxfksO40AR/IUh/9jhQLUl7PCLs+BAjWbN6yxH30BoEyBbAFLdQL404nEVmttAifSq8bP+2UApKbpvaZHYQHy6KU1TSNdAxAwbTGII1kAki4QWSd/UQLbuugXQ1NNA14oHUm7a0kCyf01wFgfSQKB5qA3jNdFAMtBFirJx0ECOQijKZHTPQOQiRm4sB85AtAh6KC65zEBUIKpyO5HLQMA3PCeAdMpA+GLu3CpnyUDDE711cHPIQIkUW3kghcdAfZms0DyXxkCLdln+DcjFQJzbdFK/AMVArOCesAhHxEB+AxPFy5rDQBb+gV5j8MJATByfC95WwkAaNkIAfcnBQGw0Q/QQPcFAQqr/t/uzwEDmbf0BXTHAQGld5ZfUZr9A3nNdSOxyvkDuTFNDqZy9QCquYrfWz7xAHKEWY6YHvEAWpvFzUjq7QCj1I7cbY7pAn7Zz+MOpuUDsI2rTlw65QHip6RRxerhARrr5Yw3ot0A8hRv8b063QIJU8dwZrLZAcyjdCKQOtkDPgg6SyIC1QMGbM/Eg+bRADnlo1uOBtECUKxnYNBW0QOnd3f3mm7NAl1s/3a4ls0DU+8fGJ8KyQEm61xlPZbJAqTm1wj8CskBqlAK0u5qxQH2vcgyzNbFAjnx1IEzasEAbpR0qjYywQJ7THvCWPLBAaUF7qYjZr0BWvI8490mvQAnpfQ3+qq5A//zjCskFrkCjtcK+3HatQAJdYcWS7KxAei/QeaZerEAubJVTgOKrQIh87b3fd6tA4Hl6dWwLq0Da7ExmtZWqQE6ugHlrGKpAgrGYYKGvqUAsXAs5rF2pQC69HP8F+KhA6CiUZwB9qEDmQTwvpgSoQNJMUxpbladA/M8QCLw1p0B6fRLlc+imQABNZuZopaZAgdy9LpddpkCwGi9LPAimQOwuFWiWqaVA1XXKVEZQpUDg0Gw92gSlQNDJlBSzwqRA+OzVI0yEpEA6ZSh6A0CkQPi3+9sc86NA",
          "dtype": "f8"
         },
         "yaxis": "y"
        }
       ],
       "layout": {
        "legend": {
         "title": {
          "text": "Condition"
         },
         "tracegroupgap": 0
        },
        "margin": {
         "t": 60
        },
        "template": {
         "data": {
          "bar": [
           {
            "error_x": {
             "color": "#2a3f5f"
            },
            "error_y": {
             "color": "#2a3f5f"
            },
            "marker": {
             "line": {
              "color": "#E5ECF6",
              "width": 0.5
             },
             "pattern": {
              "fillmode": "overlay",
              "size": 10,
              "solidity": 0.2
             }
            },
            "type": "bar"
           }
          ],
          "barpolar": [
           {
            "marker": {
             "line": {
              "color": "#E5ECF6",
              "width": 0.5
             },
             "pattern": {
              "fillmode": "overlay",
              "size": 10,
              "solidity": 0.2
             }
            },
            "type": "barpolar"
           }
          ],
          "carpet": [
           {
            "aaxis": {
             "endlinecolor": "#2a3f5f",
             "gridcolor": "white",
             "linecolor": "white",
             "minorgridcolor": "white",
             "startlinecolor": "#2a3f5f"
            },
            "baxis": {
             "endlinecolor": "#2a3f5f",
             "gridcolor": "white",
             "linecolor": "white",
             "minorgridcolor": "white",
             "startlinecolor": "#2a3f5f"
            },
            "type": "carpet"
           }
          ],
          "choropleth": [
           {
            "colorbar": {
             "outlinewidth": 0,
             "ticks": ""
            },
            "type": "choropleth"
           }
          ],
          "contour": [
           {
            "colorbar": {
             "outlinewidth": 0,
             "ticks": ""
            },
            "colorscale": [
             [
              0,
              "#0d0887"
             ],
             [
              0.1111111111111111,
              "#46039f"
             ],
             [
              0.2222222222222222,
              "#7201a8"
             ],
             [
              0.3333333333333333,
              "#9c179e"
             ],
             [
              0.4444444444444444,
              "#bd3786"
             ],
             [
              0.5555555555555556,
              "#d8576b"
             ],
             [
              0.6666666666666666,
              "#ed7953"
             ],
             [
              0.7777777777777778,
              "#fb9f3a"
             ],
             [
              0.8888888888888888,
              "#fdca26"
             ],
             [
              1,
              "#f0f921"
             ]
            ],
            "type": "contour"
           }
          ],
          "contourcarpet": [
           {
            "colorbar": {
             "outlinewidth": 0,
             "ticks": ""
            },
            "type": "contourcarpet"
           }
          ],
          "heatmap": [
           {
            "colorbar": {
             "outlinewidth": 0,
             "ticks": ""
            },
            "colorscale": [
             [
              0,
              "#0d0887"
             ],
             [
              0.1111111111111111,
              "#46039f"
             ],
             [
              0.2222222222222222,
              "#7201a8"
             ],
             [
              0.3333333333333333,
              "#9c179e"
             ],
             [
              0.4444444444444444,
              "#bd3786"
             ],
             [
              0.5555555555555556,
              "#d8576b"
             ],
             [
              0.6666666666666666,
              "#ed7953"
             ],
             [
              0.7777777777777778,
              "#fb9f3a"
             ],
             [
              0.8888888888888888,
              "#fdca26"
             ],
             [
              1,
              "#f0f921"
             ]
            ],
            "type": "heatmap"
           }
          ],
          "histogram": [
           {
            "marker": {
             "pattern": {
              "fillmode": "overlay",
              "size": 10,
              "solidity": 0.2
             }
            },
            "type": "histogram"
           }
          ],
          "histogram2d": [
           {
            "colorbar": {
             "outlinewidth": 0,
             "ticks": ""
            },
            "colorscale": [
             [
              0,
              "#0d0887"
             ],
             [
              0.1111111111111111,
              "#46039f"
             ],
             [
              0.2222222222222222,
              "#7201a8"
             ],
             [
              0.3333333333333333,
              "#9c179e"
             ],
             [
              0.4444444444444444,
              "#bd3786"
             ],
             [
              0.5555555555555556,
              "#d8576b"
             ],
             [
              0.6666666666666666,
              "#ed7953"
             ],
             [
              0.7777777777777778,
              "#fb9f3a"
             ],
             [
              0.8888888888888888,
              "#fdca26"
             ],
             [
              1,
              "#f0f921"
             ]
            ],
            "type": "histogram2d"
           }
          ],
          "histogram2dcontour": [
           {
            "colorbar": {
             "outlinewidth": 0,
             "ticks": ""
            },
            "colorscale": [
             [
              0,
              "#0d0887"
             ],
             [
              0.1111111111111111,
              "#46039f"
             ],
             [
              0.2222222222222222,
              "#7201a8"
             ],
             [
              0.3333333333333333,
              "#9c179e"
             ],
             [
              0.4444444444444444,
              "#bd3786"
             ],
             [
              0.5555555555555556,
              "#d8576b"
             ],
             [
              0.6666666666666666,
              "#ed7953"
             ],
             [
              0.7777777777777778,
              "#fb9f3a"
             ],
             [
              0.8888888888888888,
              "#fdca26"
             ],
             [
              1,
              "#f0f921"
             ]
            ],
            "type": "histogram2dcontour"
           }
          ],
          "mesh3d": [
           {
            "colorbar": {
             "outlinewidth": 0,
             "ticks": ""
            },
            "type": "mesh3d"
           }
          ],
          "parcoords": [
           {
            "line": {
             "colorbar": {
              "outlinewidth": 0,
              "ticks": ""
             }
            },
            "type": "parcoords"
           }
          ],
          "pie": [
           {
            "automargin": true,
            "type": "pie"
           }
          ],
          "scatter": [
           {
            "fillpattern": {
             "fillmode": "overlay",
             "size": 10,
             "solidity": 0.2
            },
            "type": "scatter"
           }
          ],
          "scatter3d": [
           {
            "line": {
             "colorbar": {
              "outlinewidth": 0,
              "ticks": ""
             }
            },
            "marker": {
             "colorbar": {
              "outlinewidth": 0,
              "ticks": ""
             }
            },
            "type": "scatter3d"
           }
          ],
          "scattercarpet": [
           {
            "marker": {
             "colorbar": {
              "outlinewidth": 0,
              "ticks": ""
             }
            },
            "type": "scattercarpet"
           }
          ],
          "scattergeo": [
           {
            "marker": {
             "colorbar": {
              "outlinewidth": 0,
              "ticks": ""
             }
            },
            "type": "scattergeo"
           }
          ],
          "scattergl": [
           {
            "marker": {
             "colorbar": {
              "outlinewidth": 0,
              "ticks": ""
             }
            },
            "type": "scattergl"
           }
          ],
          "scattermap": [
           {
            "marker": {
             "colorbar": {
              "outlinewidth": 0,
              "ticks": ""
             }
            },
            "type": "scattermap"
           }
          ],
          "scattermapbox": [
           {
            "marker": {
             "colorbar": {
              "outlinewidth": 0,
              "ticks": ""
             }
            },
            "type": "scattermapbox"
           }
          ],
          "scatterpolar": [
           {
            "marker": {
             "colorbar": {
              "outlinewidth": 0,
              "ticks": ""
             }
            },
            "type": "scatterpolar"
           }
          ],
          "scatterpolargl": [
           {
            "marker": {
             "colorbar": {
              "outlinewidth": 0,
              "ticks": ""
             }
            },
            "type": "scatterpolargl"
           }
          ],
          "scatterternary": [
           {
            "marker": {
             "colorbar": {
              "outlinewidth": 0,
              "ticks": ""
             }
            },
            "type": "scatterternary"
           }
          ],
          "surface": [
           {
            "colorbar": {
             "outlinewidth": 0,
             "ticks": ""
            },
            "colorscale": [
             [
              0,
              "#0d0887"
             ],
             [
              0.1111111111111111,
              "#46039f"
             ],
             [
              0.2222222222222222,
              "#7201a8"
             ],
             [
              0.3333333333333333,
              "#9c179e"
             ],
             [
              0.4444444444444444,
              "#bd3786"
             ],
             [
              0.5555555555555556,
              "#d8576b"
             ],
             [
              0.6666666666666666,
              "#ed7953"
             ],
             [
              0.7777777777777778,
              "#fb9f3a"
             ],
             [
              0.8888888888888888,
              "#fdca26"
             ],
             [
              1,
              "#f0f921"
             ]
            ],
            "type": "surface"
           }
          ],
          "table": [
           {
            "cells": {
             "fill": {
              "color": "#EBF0F8"
             },
             "line": {
              "color": "white"
             }
            },
            "header": {
             "fill": {
              "color": "#C8D4E3"
             },
             "line": {
              "color": "white"
             }
            },
            "type": "table"
           }
          ]
         },
         "layout": {
          "annotationdefaults": {
           "arrowcolor": "#2a3f5f",
           "arrowhead": 0,
           "arrowwidth": 1
          },
          "autotypenumbers": "strict",
          "coloraxis": {
           "colorbar": {
            "outlinewidth": 0,
            "ticks": ""
           }
          },
          "colorscale": {
           "diverging": [
            [
             0,
             "#8e0152"
            ],
            [
             0.1,
             "#c51b7d"
            ],
            [
             0.2,
             "#de77ae"
            ],
            [
             0.3,
             "#f1b6da"
            ],
            [
             0.4,
             "#fde0ef"
            ],
            [
             0.5,
             "#f7f7f7"
            ],
            [
             0.6,
             "#e6f5d0"
            ],
            [
             0.7,
             "#b8e186"
            ],
            [
             0.8,
             "#7fbc41"
            ],
            [
             0.9,
             "#4d9221"
            ],
            [
             1,
             "#276419"
            ]
           ],
           "sequential": [
            [
             0,
             "#0d0887"
            ],
            [
             0.1111111111111111,
             "#46039f"
            ],
            [
             0.2222222222222222,
             "#7201a8"
            ],
            [
             0.3333333333333333,
             "#9c179e"
            ],
            [
             0.4444444444444444,
             "#bd3786"
            ],
            [
             0.5555555555555556,
             "#d8576b"
            ],
            [
             0.6666666666666666,
             "#ed7953"
            ],
            [
             0.7777777777777778,
             "#fb9f3a"
            ],
            [
             0.8888888888888888,
             "#fdca26"
            ],
            [
             1,
             "#f0f921"
            ]
           ],
           "sequentialminus": [
            [
             0,
             "#0d0887"
            ],
            [
             0.1111111111111111,
             "#46039f"
            ],
            [
             0.2222222222222222,
             "#7201a8"
            ],
            [
             0.3333333333333333,
             "#9c179e"
            ],
            [
             0.4444444444444444,
             "#bd3786"
            ],
            [
             0.5555555555555556,
             "#d8576b"
            ],
            [
             0.6666666666666666,
             "#ed7953"
            ],
            [
             0.7777777777777778,
             "#fb9f3a"
            ],
            [
             0.8888888888888888,
             "#fdca26"
            ],
            [
             1,
             "#f0f921"
            ]
           ]
          },
          "colorway": [
           "#636efa",
           "#EF553B",
           "#00cc96",
           "#ab63fa",
           "#FFA15A",
           "#19d3f3",
           "#FF6692",
           "#B6E880",
           "#FF97FF",
           "#FECB52"
          ],
          "font": {
           "color": "#2a3f5f"
          },
          "geo": {
           "bgcolor": "white",
           "lakecolor": "white",
           "landcolor": "#E5ECF6",
           "showlakes": true,
           "showland": true,
           "subunitcolor": "white"
          },
          "hoverlabel": {
           "align": "left"
          },
          "hovermode": "closest",
          "mapbox": {
           "style": "light"
          },
          "paper_bgcolor": "white",
          "plot_bgcolor": "#E5ECF6",
          "polar": {
           "angularaxis": {
            "gridcolor": "white",
            "linecolor": "white",
            "ticks": ""
           },
           "bgcolor": "#E5ECF6",
           "radialaxis": {
            "gridcolor": "white",
            "linecolor": "white",
            "ticks": ""
           }
          },
          "scene": {
           "xaxis": {
            "backgroundcolor": "#E5ECF6",
            "gridcolor": "white",
            "gridwidth": 2,
            "linecolor": "white",
            "showbackground": true,
            "ticks": "",
            "zerolinecolor": "white"
           },
           "yaxis": {
            "backgroundcolor": "#E5ECF6",
            "gridcolor": "white",
            "gridwidth": 2,
            "linecolor": "white",
            "showbackground": true,
            "ticks": "",
            "zerolinecolor": "white"
           },
           "zaxis": {
            "backgroundcolor": "#E5ECF6",
            "gridcolor": "white",
            "gridwidth": 2,
            "linecolor": "white",
            "showbackground": true,
            "ticks": "",
            "zerolinecolor": "white"
           }
          },
          "shapedefaults": {
           "line": {
            "color": "#2a3f5f"
           }
          },
          "ternary": {
           "aaxis": {
            "gridcolor": "white",
            "linecolor": "white",
            "ticks": ""
           },
           "baxis": {
            "gridcolor": "white",
            "linecolor": "white",
            "ticks": ""
           },
           "bgcolor": "#E5ECF6",
           "caxis": {
            "gridcolor": "white",
            "linecolor": "white",
            "ticks": ""
           }
          },
          "title": {
           "x": 0.05
          },
          "xaxis": {
           "automargin": true,
           "gridcolor": "white",
           "linecolor": "white",
           "ticks": "",
           "title": {
            "standoff": 15
           },
           "zerolinecolor": "white",
           "zerolinewidth": 2
          },
          "yaxis": {
           "automargin": true,
           "gridcolor": "white",
           "linecolor": "white",
           "ticks": "",
           "title": {
            "standoff": 15
           },
           "zerolinecolor": "white",
           "zerolinewidth": 2
          }
         }
        },
        "xaxis": {
         "anchor": "y",
         "domain": [
          0,
          1
         ],
         "title": {
          "text": "Frequency"
         }
        },
        "yaxis": {
         "anchor": "x",
         "domain": [
          0,
          1
         ],
         "title": {
          "text": "Power"
         }
        }
       }
      }
     },
     "metadata": {},
     "output_type": "display_data"
    }
   ],
   "source": [
    "# printing the psd\n",
    "flows.plot_PSD_two_conditions(eeg, chans, 'ec', 'eo', fs, min_freq, max_freq, psd_normalize)"
   ]
  },
  {
   "cell_type": "code",
   "execution_count": 9,
   "metadata": {},
   "outputs": [],
   "source": [
    "# plotting the raw eeg\n",
    "# flows.plot_eeg_signals(eeg.drop([\"Condition\", \"TS_UNIX\"], axis = 1))"
   ]
  },
  {
   "cell_type": "markdown",
   "metadata": {},
   "source": [
    "___\n",
    "\n",
    "## Berger Effect\n",
    "Next we would like to look how prominent we can see the Berger Effect.\\\n",
    "More specifically we will:\n",
    "1) Look into how the dry electrodes compare to the wet electrodes. \n",
    "2) See how different performance metrics will look like as we might not be able to compare results directly -> calculate db magnitude/ relative power\n",
    "3) Then we will look into intersubject berger effect along sessions. Here an interesting thing to also look into would be a potential alpha peak drift over the sessions \n",
    "\n",
    "To do so we will first look into the first run of all participants in wet vs. dry electrodes, build the average psds and compare the results. "
   ]
  },
  {
   "cell_type": "code",
   "execution_count": 10,
   "metadata": {},
   "outputs": [
    {
     "name": "stdout",
     "output_type": "stream",
     "text": [
      "8\n"
     ]
    },
    {
     "data": {
      "text/html": [
       "<div>\n",
       "<style scoped>\n",
       "    .dataframe tbody tr th:only-of-type {\n",
       "        vertical-align: middle;\n",
       "    }\n",
       "\n",
       "    .dataframe tbody tr th {\n",
       "        vertical-align: top;\n",
       "    }\n",
       "\n",
       "    .dataframe thead th {\n",
       "        text-align: right;\n",
       "    }\n",
       "</style>\n",
       "<table border=\"1\" class=\"dataframe\">\n",
       "  <thead>\n",
       "    <tr style=\"text-align: right;\">\n",
       "      <th></th>\n",
       "      <th>Session</th>\n",
       "      <th>ID</th>\n",
       "      <th>Config</th>\n",
       "      <th>Folder</th>\n",
       "      <th>Run</th>\n",
       "      <th>Rec_folder</th>\n",
       "    </tr>\n",
       "  </thead>\n",
       "  <tbody>\n",
       "    <tr>\n",
       "      <th>0</th>\n",
       "      <td>2025-07-04-01</td>\n",
       "      <td>aq9b9k</td>\n",
       "      <td>Top+Ears</td>\n",
       "      <td>DryWithHeadband/2025-07-04/aq9b9k/</td>\n",
       "      <td>rec1</td>\n",
       "      <td>DryWithHeadband/2025-07-04/aq9b9k/rec1/</td>\n",
       "    </tr>\n",
       "    <tr>\n",
       "      <th>1</th>\n",
       "      <td>2025-07-04-01</td>\n",
       "      <td>aq9b9k</td>\n",
       "      <td>Top+Ears</td>\n",
       "      <td>DryWithHeadband/2025-07-04/aq9b9k/</td>\n",
       "      <td>rec2</td>\n",
       "      <td>DryWithHeadband/2025-07-04/aq9b9k/rec2/</td>\n",
       "    </tr>\n",
       "    <tr>\n",
       "      <th>2</th>\n",
       "      <td>2025-07-04-01</td>\n",
       "      <td>aq9b9k</td>\n",
       "      <td>Top+Ears</td>\n",
       "      <td>DryWithHeadband/2025-07-04/aq9b9k/</td>\n",
       "      <td>rec3</td>\n",
       "      <td>DryWithHeadband/2025-07-04/aq9b9k/rec3/</td>\n",
       "    </tr>\n",
       "  </tbody>\n",
       "</table>\n",
       "</div>"
      ],
      "text/plain": [
       "         Session      ID    Config                              Folder   Run  \\\n",
       "0  2025-07-04-01  aq9b9k  Top+Ears  DryWithHeadband/2025-07-04/aq9b9k/  rec1   \n",
       "1  2025-07-04-01  aq9b9k  Top+Ears  DryWithHeadband/2025-07-04/aq9b9k/  rec2   \n",
       "2  2025-07-04-01  aq9b9k  Top+Ears  DryWithHeadband/2025-07-04/aq9b9k/  rec3   \n",
       "\n",
       "                                Rec_folder  \n",
       "0  DryWithHeadband/2025-07-04/aq9b9k/rec1/  \n",
       "1  DryWithHeadband/2025-07-04/aq9b9k/rec2/  \n",
       "2  DryWithHeadband/2025-07-04/aq9b9k/rec3/  "
      ]
     },
     "execution_count": 10,
     "metadata": {},
     "output_type": "execute_result"
    }
   ],
   "source": [
    "df_first_recs = sessions.query('Run == \"rec1\" and Config == \"Ear Only\"')\n",
    "print(len(df_first_recs))\n",
    "sessions.head(3)"
   ]
  },
  {
   "cell_type": "code",
   "execution_count": 11,
   "metadata": {},
   "outputs": [],
   "source": [
    "def _extract_run_number(run_value):\n",
    "    \"\"\"Return integer run number from strings like 'rec1' or numerics like 1.\"\"\"\n",
    "    s = str(run_value).strip().lower()\n",
    "    digits = re.sub(r\"[^0-7]\", \"\", s)\n",
    "    return int(digits) if digits else None\n",
    "\n",
    "def compute_session_avg_psd(active_recording, cond_ec_tag, cond_eo_tag):\n",
    "    \"\"\"\n",
    "    For a single session row from `sessions`, load EEG, label EC/EO segments, compute robust PSD per channel,\n",
    "    and return two DataFrames (EC and EO) with columns ['Frequency','Power'] averaged across channels.\n",
    "    \"\"\"\n",
    "\n",
    "    eeg, snr_df, load_report = process_recording(active_recording)\n",
    "    # Select signals for each condition\n",
    "    ec_df = eeg[eeg['Condition'].astype(str).str.contains(cond_ec_tag, case=False, regex=False)]\n",
    "    eo_df = eeg[eeg['Condition'].astype(str).str.contains(cond_eo_tag, case=False, regex=False)]\n",
    "\n",
    "    if ec_df.empty or eo_df.empty:\n",
    "        raise ValueError(f\"Missing EC/EO segments for tags '{cond_ec_tag}'/'{cond_eo_tag}' in recording {active_recording.ID} ({active_recording.Run}).\")\n",
    "\n",
    "    # Average PSD across channels for each condition -> Same building average of delta or delta after average? -> jup\n",
    "\n",
    "    desired = chans_ear_only if active_recording.Config == \"Ear Only\" else chans_top_ear\n",
    "    use_chans = [c for c in desired if c in eeg.columns]\n",
    "    if not use_chans:\n",
    "        raise ValueError(\n",
    "            f\"No desired channels found in EEG for {active_recording.ID} ({active_recording.Run}). \"\n",
    "            f\"Desired={desired}, available={[c for c in eeg.columns if c.startswith('A')]}\"\n",
    "        )\n",
    "\n",
    "    def _avg_psd_over_channels(signals_df):\n",
    "        psd_list = []\n",
    "        for ch in use_chans:\n",
    "            series = signals_df[ch]\n",
    "            psd_df = flows.compute_robust_psd(series, min_freq=min_freq, max_freq=max_freq, fs=fs,\n",
    "                                              normalize=True, window_sec=1, overlap_pct=0, verbose='WARNING')\n",
    "            psd_df = psd_df.rename(columns={'Power': f'P_{ch}'})\n",
    "            psd_list.append(psd_df)\n",
    "        # merge on frequency\n",
    "        merged = psd_list[0]\n",
    "        for nxt in psd_list[1:]:\n",
    "            merged = merged.merge(nxt, on='Frequency', how='inner')\n",
    "        merged['Power'] = merged.filter(like='P_').mean(axis=1)\n",
    "        return merged[['Frequency','Power']]\n",
    "\n",
    "    ec_psd = _avg_psd_over_channels(ec_df)\n",
    "    eo_psd = _avg_psd_over_channels(eo_df)\n",
    "\n",
    "    return ec_psd, eo_psd, fs\n",
    "\n",
    "def average_psds_across_sessions(df_sessions, config_label, verbose=True): # TODO: Should we exclude dead or too noisy chans/sessions?\n",
    "    \"\"\"\n",
    "    Compute the average EC and EO PSD across all first sessions for a given configuration.\n",
    "    Returns a dict with keys: 'EC', 'EO', 'alpha_effect', 'n_used', 'fs_median'.\n",
    "    The alpha_effect is the integrated alpha-band (8-13 Hz) difference EC minus EO (Berger effect magnitude).\n",
    "    \"\"\"\n",
    "    # Filter sessions\n",
    "    sel = df_sessions.copy()\n",
    "    sel = sel[sel['Config'].astype(str) == config_label]\n",
    "\n",
    "    # First-session filter: accept 'rec1' or numeric 1\n",
    "    run_mask = sel['Run'].astype(str).str.lower().str.contains(\"rec1\") | (sel['Run'].astype(str).str.replace(r\"[^0-7]\",\"\", regex=True) == \"1\")\n",
    "    sel = sel[run_mask]\n",
    "\n",
    "    if sel.empty:\n",
    "        raise ValueError(f\"No sessions found for config '{config_label}' and Run == 1.\")\n",
    "\n",
    "    ec_psds = []\n",
    "    eo_psds = []\n",
    "    fs_list = []\n",
    "\n",
    "    for row in sel.itertuples(index=False):\n",
    "        try:\n",
    "            run_num = _extract_run_number(getattr(row, \"Run\"))\n",
    "            cond_ec = f\"headphones_setup_ec_{run_num}\" if run_num is not None else \"headphones_setup_ec_1\" # careful with \"ec\" or only \"eo\" -> \"rec\" === True with \"ec\"\n",
    "            cond_eo = f\"headphones_setup_eo_{run_num}\" if run_num is not None else \"headphones_setup_eo_1\"\n",
    "            ec_psd, eo_psd, fs = compute_session_avg_psd(row, cond_ec, cond_eo)\n",
    "            ec_psds.append(ec_psd)\n",
    "            eo_psds.append(eo_psd)\n",
    "            fs_list.append(fs)\n",
    "            if verbose:\n",
    "                print(f\"✅ Processed {row.ID} ({row.Run}) for '{config_label}'\")\n",
    "        except Exception as e:\n",
    "            warnings.warn(f\"Skipping a session due to error: {e}\")\n",
    "\n",
    "    if len(ec_psds) == 0:\n",
    "        raise RuntimeError(f\"All sessions for config '{config_label}' failed to process.\")\n",
    "\n",
    "    # Establish a common frequency grid (use intersection to be safe)\n",
    "    common_freqs = set(ec_psds[0]['Frequency'].round(6).values)\n",
    "    for df in ec_psds[1:] + eo_psds:\n",
    "        common_freqs &= set(df['Frequency'].round(6).values)\n",
    "    common_freqs = np.array(sorted(list(common_freqs)))\n",
    "    if common_freqs.size < 10:\n",
    "        # Fallback: use first EC grid and interpolate others onto it\n",
    "        base_freqs = ec_psds[0]['Frequency'].values\n",
    "        def interp_to_base(df):\n",
    "            return pd.DataFrame({\n",
    "                'Frequency': base_freqs,\n",
    "                'Power': np.interp(base_freqs, df['Frequency'].values, df['Power'].values)\n",
    "            })\n",
    "        ec_stack = [interp_to_base(df) for df in ec_psds]\n",
    "        eo_stack = [interp_to_base(df) for df in eo_psds]\n",
    "    else:\n",
    "        def trim_to_common(df):\n",
    "            mask = np.isin(df['Frequency'].round(6).values, common_freqs)\n",
    "            return df.loc[mask].sort_values('Frequency').reset_index(drop=True)\n",
    "        ec_stack = [trim_to_common(df) for df in ec_psds]\n",
    "        eo_stack = [trim_to_common(df) for df in eo_psds]\n",
    "\n",
    "    # Average across sessions\n",
    "    ec_avg = pd.concat(ec_stack).groupby('Frequency', as_index=False)['Power'].mean()\n",
    "    eo_avg = pd.concat(eo_stack).groupby('Frequency', as_index=False)['Power'].mean()\n",
    "\n",
    "    # Compute Berger effect magnitude = alpha-band (8–13 Hz) area difference EC - EO\n",
    "    def band_area(psd_df, lo=8.0, hi=13.0):\n",
    "        m = (psd_df['Frequency'] >= lo) & (psd_df['Frequency'] <= hi)\n",
    "        if m.sum() < 2:  # not enough points for integration\n",
    "            return np.nan\n",
    "        return float(simpson(psd_df.loc[m, 'Power'].values, x=psd_df.loc[m, 'Frequency'].values))\n",
    "\n",
    "    alpha_ec = band_area(ec_avg, 8.0, 13.0)\n",
    "    alpha_eo = band_area(eo_avg, 8.0, 13.0)\n",
    "    alpha_effect = alpha_ec - alpha_eo  # Berger effect: higher alpha in EC than EO\n",
    "\n",
    "    return {\n",
    "        'EC': ec_avg,\n",
    "        'EO': eo_avg,\n",
    "        'alpha_effect': alpha_effect,\n",
    "        'n_used': len(ec_stack),\n",
    "        'fs_median': float(np.median(fs_list)) if fs_list else np.nan,\n",
    "    }"
   ]
  },
  {
   "cell_type": "code",
   "execution_count": 12,
   "metadata": {},
   "outputs": [
    {
     "name": "stdout",
     "output_type": "stream",
     "text": [
      "--- Pre-processing EEG\n",
      "Bad channel detection failed: module 'flows' has no attribute 'get_rms_bads'\n",
      "EEG channel type selected for re-referencing\n",
      "Applying average reference.\n",
      "Applying a custom ('EEG',) reference.\n"
     ]
    },
    {
     "name": "stderr",
     "output_type": "stream",
     "text": [
      "/Users/Sam/UNAM/neuro_headphone_study/Code/flows/processing.py:91: RuntimeWarning:\n",
      "\n",
      "Fiducial point nasion not found, assuming identity unknown to head transformation\n",
      "\n"
     ]
    },
    {
     "name": "stdout",
     "output_type": "stream",
     "text": [
      "ASR failed: array must not contain infs or NaNs\n",
      "✅ Processed az470i (rec1) for 'Ear Only'\n",
      "--- Pre-processing EEG\n",
      "Bad channel detection failed: module 'flows' has no attribute 'get_rms_bads'\n",
      "EEG channel type selected for re-referencing\n",
      "Applying average reference.\n",
      "Applying a custom ('EEG',) reference.\n"
     ]
    },
    {
     "name": "stderr",
     "output_type": "stream",
     "text": [
      "/Users/Sam/UNAM/neuro_headphone_study/Code/flows/processing.py:91: RuntimeWarning:\n",
      "\n",
      "Fiducial point nasion not found, assuming identity unknown to head transformation\n",
      "\n"
     ]
    },
    {
     "name": "stdout",
     "output_type": "stream",
     "text": [
      "ASR failed: array must not contain infs or NaNs\n",
      "✅ Processed anejys (rec1) for 'Ear Only'\n",
      "--- Pre-processing EEG\n",
      "Bad channel detection failed: module 'flows' has no attribute 'get_rms_bads'\n",
      "EEG channel type selected for re-referencing\n",
      "Applying average reference.\n",
      "Applying a custom ('EEG',) reference.\n"
     ]
    },
    {
     "name": "stderr",
     "output_type": "stream",
     "text": [
      "/Users/Sam/UNAM/neuro_headphone_study/Code/flows/processing.py:91: RuntimeWarning:\n",
      "\n",
      "Fiducial point nasion not found, assuming identity unknown to head transformation\n",
      "\n"
     ]
    },
    {
     "name": "stdout",
     "output_type": "stream",
     "text": [
      "ASR failed: array must not contain infs or NaNs\n",
      "✅ Processed az2bj9 (rec1) for 'Ear Only'\n",
      "--- Pre-processing EEG\n",
      "Bad channel detection failed: module 'flows' has no attribute 'get_rms_bads'\n",
      "EEG channel type selected for re-referencing\n",
      "Applying average reference.\n",
      "Applying a custom ('EEG',) reference.\n"
     ]
    },
    {
     "name": "stderr",
     "output_type": "stream",
     "text": [
      "/Users/Sam/UNAM/neuro_headphone_study/Code/flows/processing.py:91: RuntimeWarning:\n",
      "\n",
      "Fiducial point nasion not found, assuming identity unknown to head transformation\n",
      "\n"
     ]
    },
    {
     "name": "stdout",
     "output_type": "stream",
     "text": [
      "ASR failed: array must not contain infs or NaNs\n",
      "✅ Processed g808pk (rec1) for 'Ear Only'\n",
      "--- Pre-processing EEG\n",
      "Bad channel detection failed: module 'flows' has no attribute 'get_rms_bads'\n",
      "EEG channel type selected for re-referencing\n",
      "Applying average reference.\n",
      "Applying a custom ('EEG',) reference.\n"
     ]
    },
    {
     "name": "stderr",
     "output_type": "stream",
     "text": [
      "/Users/Sam/UNAM/neuro_headphone_study/Code/flows/processing.py:91: RuntimeWarning:\n",
      "\n",
      "Fiducial point nasion not found, assuming identity unknown to head transformation\n",
      "\n"
     ]
    },
    {
     "name": "stdout",
     "output_type": "stream",
     "text": [
      "ASR failed: array must not contain infs or NaNs\n",
      "✅ Processed 9j2wl4 (rec1) for 'Ear Only'\n",
      "--- Pre-processing EEG\n",
      "Bad channel detection failed: module 'flows' has no attribute 'get_rms_bads'\n",
      "EEG channel type selected for re-referencing\n",
      "Applying average reference.\n",
      "Applying a custom ('EEG',) reference.\n"
     ]
    },
    {
     "name": "stderr",
     "output_type": "stream",
     "text": [
      "/Users/Sam/UNAM/neuro_headphone_study/Code/flows/processing.py:91: RuntimeWarning:\n",
      "\n",
      "Fiducial point nasion not found, assuming identity unknown to head transformation\n",
      "\n"
     ]
    },
    {
     "name": "stdout",
     "output_type": "stream",
     "text": [
      "ASR failed: array must not contain infs or NaNs\n",
      "✅ Processed 9pueps (rec1) for 'Ear Only'\n",
      "--- Pre-processing EEG\n",
      "Bad channel detection failed: module 'flows' has no attribute 'get_rms_bads'\n",
      "EEG channel type selected for re-referencing\n",
      "Applying average reference.\n",
      "Applying a custom ('EEG',) reference.\n"
     ]
    },
    {
     "name": "stderr",
     "output_type": "stream",
     "text": [
      "/Users/Sam/UNAM/neuro_headphone_study/Code/flows/processing.py:91: RuntimeWarning:\n",
      "\n",
      "Fiducial point nasion not found, assuming identity unknown to head transformation\n",
      "\n"
     ]
    },
    {
     "name": "stdout",
     "output_type": "stream",
     "text": [
      "ASR failed: array must not contain infs or NaNs\n",
      "✅ Processed 564f1u (rec1) for 'Ear Only'\n",
      "--- Pre-processing EEG\n",
      "Bad channel detection failed: module 'flows' has no attribute 'get_rms_bads'\n",
      "EEG channel type selected for re-referencing\n",
      "Applying average reference.\n",
      "Applying a custom ('EEG',) reference.\n"
     ]
    },
    {
     "name": "stderr",
     "output_type": "stream",
     "text": [
      "/Users/Sam/UNAM/neuro_headphone_study/Code/flows/processing.py:91: RuntimeWarning:\n",
      "\n",
      "Fiducial point nasion not found, assuming identity unknown to head transformation\n",
      "\n"
     ]
    },
    {
     "name": "stdout",
     "output_type": "stream",
     "text": [
      "ASR failed: array must not contain infs or NaNs\n"
     ]
    },
    {
     "name": "stderr",
     "output_type": "stream",
     "text": [
      "/Users/Sam/UNAM/neuro_headphone_study/Code/flows/analyzing.py:69: RuntimeWarning:\n",
      "\n",
      "invalid value encountered in divide\n",
      "\n",
      "/Users/Sam/UNAM/neuro_headphone_study/Code/flows/analyzing.py:69: RuntimeWarning:\n",
      "\n",
      "invalid value encountered in divide\n",
      "\n"
     ]
    },
    {
     "name": "stdout",
     "output_type": "stream",
     "text": [
      "✅ Processed a272u4 (rec1) for 'Ear Only'\n",
      "--- Pre-processing EEG\n",
      "Bad channel detection failed: module 'flows' has no attribute 'get_rms_bads'\n",
      "EEG channel type selected for re-referencing\n",
      "Applying average reference.\n",
      "Applying a custom ('EEG',) reference.\n"
     ]
    },
    {
     "name": "stderr",
     "output_type": "stream",
     "text": [
      "/Users/Sam/UNAM/neuro_headphone_study/Code/flows/processing.py:91: RuntimeWarning:\n",
      "\n",
      "Fiducial point nasion not found, assuming identity unknown to head transformation\n",
      "\n"
     ]
    },
    {
     "name": "stdout",
     "output_type": "stream",
     "text": [
      "ASR failed: array must not contain infs or NaNs\n",
      "✅ Processed aq9b9k (rec1) for 'Top+Ears'\n",
      "--- Pre-processing EEG\n",
      "Bad channel detection failed: module 'flows' has no attribute 'get_rms_bads'\n",
      "EEG channel type selected for re-referencing\n",
      "Applying average reference.\n",
      "Applying a custom ('EEG',) reference.\n"
     ]
    },
    {
     "name": "stderr",
     "output_type": "stream",
     "text": [
      "/Users/Sam/UNAM/neuro_headphone_study/Code/flows/processing.py:91: RuntimeWarning:\n",
      "\n",
      "Fiducial point nasion not found, assuming identity unknown to head transformation\n",
      "\n"
     ]
    },
    {
     "name": "stdout",
     "output_type": "stream",
     "text": [
      "ASR failed: array must not contain infs or NaNs\n",
      "✅ Processed fqzqgz (rec1) for 'Top+Ears'\n",
      "--- Pre-processing EEG\n",
      "Bad channel detection failed: module 'flows' has no attribute 'get_rms_bads'\n",
      "EEG channel type selected for re-referencing\n",
      "Applying average reference.\n",
      "Applying a custom ('EEG',) reference.\n"
     ]
    },
    {
     "name": "stderr",
     "output_type": "stream",
     "text": [
      "/Users/Sam/UNAM/neuro_headphone_study/Code/flows/processing.py:91: RuntimeWarning:\n",
      "\n",
      "Fiducial point nasion not found, assuming identity unknown to head transformation\n",
      "\n"
     ]
    },
    {
     "name": "stdout",
     "output_type": "stream",
     "text": [
      "ASR failed: array must not contain infs or NaNs\n",
      "✅ Processed 7dr6p8 (rec1) for 'Top+Ears'\n",
      "--- Pre-processing EEG\n",
      "Bad channel detection failed: module 'flows' has no attribute 'get_rms_bads'\n",
      "EEG channel type selected for re-referencing\n",
      "Applying average reference.\n",
      "Applying a custom ('EEG',) reference.\n"
     ]
    },
    {
     "name": "stderr",
     "output_type": "stream",
     "text": [
      "/Users/Sam/UNAM/neuro_headphone_study/Code/flows/processing.py:91: RuntimeWarning:\n",
      "\n",
      "Fiducial point nasion not found, assuming identity unknown to head transformation\n",
      "\n"
     ]
    },
    {
     "name": "stdout",
     "output_type": "stream",
     "text": [
      "ASR failed: array must not contain infs or NaNs\n",
      "✅ Processed 9sbyk3 (rec1) for 'Top+Ears'\n",
      "--- Pre-processing EEG\n",
      "Bad channel detection failed: module 'flows' has no attribute 'get_rms_bads'\n",
      "EEG channel type selected for re-referencing\n",
      "Applying average reference.\n",
      "Applying a custom ('EEG',) reference.\n"
     ]
    },
    {
     "name": "stderr",
     "output_type": "stream",
     "text": [
      "/Users/Sam/UNAM/neuro_headphone_study/Code/flows/processing.py:91: RuntimeWarning:\n",
      "\n",
      "Fiducial point nasion not found, assuming identity unknown to head transformation\n",
      "\n"
     ]
    },
    {
     "name": "stdout",
     "output_type": "stream",
     "text": [
      "ASR failed: array must not contain infs or NaNs\n",
      "✅ Processed cca2av (rec1) for 'Top+Ears'\n"
     ]
    },
    {
     "name": "stderr",
     "output_type": "stream",
     "text": [
      "/var/folders/ml/fyq5x5t55wx4129dn03n32hm0000gn/T/ipykernel_29205/4114628156.py:84: UserWarning:\n",
      "\n",
      "Skipping a session due to error: single positional indexer is out-of-bounds\n",
      "\n"
     ]
    },
    {
     "name": "stdout",
     "output_type": "stream",
     "text": [
      "--- Pre-processing EEG\n",
      "Bad channel detection failed: module 'flows' has no attribute 'get_rms_bads'\n",
      "EEG channel type selected for re-referencing\n",
      "Applying average reference.\n",
      "Applying a custom ('EEG',) reference.\n"
     ]
    },
    {
     "name": "stderr",
     "output_type": "stream",
     "text": [
      "/Users/Sam/UNAM/neuro_headphone_study/Code/flows/processing.py:91: RuntimeWarning:\n",
      "\n",
      "Fiducial point nasion not found, assuming identity unknown to head transformation\n",
      "\n"
     ]
    },
    {
     "name": "stdout",
     "output_type": "stream",
     "text": [
      "ASR failed: array must not contain infs or NaNs\n",
      "✅ Processed 43d7zr (rec1) for 'Top+Ears'\n",
      "--- Pre-processing EEG\n",
      "Bad channel detection failed: module 'flows' has no attribute 'get_rms_bads'\n",
      "EEG channel type selected for re-referencing\n",
      "Applying average reference.\n",
      "Applying a custom ('EEG',) reference.\n"
     ]
    },
    {
     "name": "stderr",
     "output_type": "stream",
     "text": [
      "/Users/Sam/UNAM/neuro_headphone_study/Code/flows/processing.py:91: RuntimeWarning:\n",
      "\n",
      "Fiducial point nasion not found, assuming identity unknown to head transformation\n",
      "\n"
     ]
    },
    {
     "name": "stdout",
     "output_type": "stream",
     "text": [
      "ASR failed: array must not contain infs or NaNs\n",
      "✅ Processed c1zlyv (rec1) for 'Top+Ears'\n",
      "--- Pre-processing EEG\n",
      "Bad channel detection failed: module 'flows' has no attribute 'get_rms_bads'\n",
      "EEG channel type selected for re-referencing\n",
      "Applying average reference.\n",
      "Applying a custom ('EEG',) reference.\n"
     ]
    },
    {
     "name": "stderr",
     "output_type": "stream",
     "text": [
      "/Users/Sam/UNAM/neuro_headphone_study/Code/flows/processing.py:91: RuntimeWarning:\n",
      "\n",
      "Fiducial point nasion not found, assuming identity unknown to head transformation\n",
      "\n"
     ]
    },
    {
     "name": "stdout",
     "output_type": "stream",
     "text": [
      "ASR failed: array must not contain infs or NaNs\n",
      "✅ Processed 4wlws4 (rec1) for 'Top+Ears'\n",
      "--- Pre-processing EEG\n",
      "Bad channel detection failed: module 'flows' has no attribute 'get_rms_bads'\n",
      "EEG channel type selected for re-referencing\n",
      "Applying average reference.\n",
      "Applying a custom ('EEG',) reference.\n"
     ]
    },
    {
     "name": "stderr",
     "output_type": "stream",
     "text": [
      "/Users/Sam/UNAM/neuro_headphone_study/Code/flows/processing.py:91: RuntimeWarning:\n",
      "\n",
      "Fiducial point nasion not found, assuming identity unknown to head transformation\n",
      "\n"
     ]
    },
    {
     "name": "stdout",
     "output_type": "stream",
     "text": [
      "ASR failed: Eigenvalues did not converge\n"
     ]
    },
    {
     "name": "stderr",
     "output_type": "stream",
     "text": [
      "/var/folders/ml/fyq5x5t55wx4129dn03n32hm0000gn/T/ipykernel_29205/4114628156.py:84: UserWarning:\n",
      "\n",
      "Skipping a session due to error: 'SNR_Second_Half'\n",
      "\n"
     ]
    },
    {
     "name": "stdout",
     "output_type": "stream",
     "text": [
      "--- Pre-processing EEG\n",
      "Bad channel detection failed: module 'flows' has no attribute 'get_rms_bads'\n",
      "EEG channel type selected for re-referencing\n",
      "Applying average reference.\n",
      "Applying a custom ('EEG',) reference.\n"
     ]
    },
    {
     "name": "stderr",
     "output_type": "stream",
     "text": [
      "/Users/Sam/UNAM/neuro_headphone_study/Code/flows/processing.py:91: RuntimeWarning:\n",
      "\n",
      "Fiducial point nasion not found, assuming identity unknown to head transformation\n",
      "\n"
     ]
    },
    {
     "name": "stdout",
     "output_type": "stream",
     "text": [
      "ASR failed: array must not contain infs or NaNs\n",
      "✅ Processed rl8s47 (rec1) for 'Top+Ears'\n",
      "\n",
      "Sessions used — Ear Only: 8, Top+Ears: 9\n",
      "Median fs — Ear Only: 250.00 Hz, Top+Ears: 250.00 Hz\n"
     ]
    },
    {
     "data": {
      "application/vnd.plotly.v1+json": {
       "config": {
        "plotlyServerURL": "https://plot.ly"
       },
       "data": [
        {
         "hovertemplate": "Config=Ear Only<br>State=EC<br>Frequency (Hz)=%{x}<br>Power=%{y}<extra></extra>",
         "legendgroup": "Ear Only, EC",
         "line": {
          "color": "#636efa",
          "dash": "solid"
         },
         "marker": {
          "symbol": "circle"
         },
         "mode": "lines",
         "name": "Ear Only, EC",
         "orientation": "v",
         "showlegend": true,
         "type": "scatter",
         "x": {
          "bdata": "AAAAAAAAAEAAAAAAAAAIQAAAAAAAABBAAAAAAAAAFEAAAAAAAAAYQAAAAAAAABxAAAAAAAAAIEAAAAAAAAAiQAAAAAAAACRAAAAAAAAAJkAAAAAAAAAoQAAAAAAAACpAAAAAAAAALEAAAAAAAAAuQAAAAAAAADBAAAAAAAAAMUAAAAAAAAAyQAAAAAAAADNAAAAAAAAANEAAAAAAAAA1QAAAAAAAADZAAAAAAAAAN0AAAAAAAAA4QAAAAAAAADlAAAAAAAAAOkAAAAAAAAA7QAAAAAAAADxAAAAAAAAAPUAAAAAAAAA+QAAAAAAAAD9AAAAAAAAAQEAAAAAAAIBAQAAAAAAAAEFAAAAAAACAQUAAAAAAAABCQAAAAAAAgEJAAAAAAAAAQ0AAAAAAAIBDQAAAAAAAAERAAAAAAACAREAAAAAAAABFQAAAAAAAgEVAAAAAAAAARkAAAAAAAIBGQAAAAAAAAEdAAAAAAACAR0AAAAAAAABIQAAAAAAAgEhAAAAAAAAASUAAAAAAAIBJQAAAAAAAAEpAAAAAAACASkAAAAAAAABLQAAAAAAAgEtAAAAAAAAATEAAAAAAAIBMQAAAAAAAAE1AAAAAAACATUAAAAAAAABOQA==",
          "dtype": "f8"
         },
         "xaxis": "x",
         "y": {
          "bdata": "fbMsCwcPyj8ApRgiQxa1P7YgyYYkK6w/8Oyg5r98pD/zDDDdlPmcPwtZTSGNApw/7Y9wABmRmD9Ll1cdooSgP8isf+D+E6M/gKo8ltsQlj/IDx6y3BWUP/aWApGuiY0/QJMkE6NfjT/qLdyc/y6OP04juX7W3os/x1Tpy7Wwij9wsXISFGyHP6gqyp4li4g/ooiTh0FRhz969CRPXIOEPzJDCX8KGIM/i3G9ehAdhD9hqyvg6oWGP32HlMXpgoM/9q2L2ePggz+NyJUGQH+DP4nPIl+cRoI/yAU1iv+WgT9e8W+ZZsqAP1wiDvIf9YE/VCiUEGBbgT8AqpC6Z1OBP5HL6S0n4YA/Y8nyYsPLhD/CDIrln9mAP7qfbUzNAoA/cnVFgttygT/bZuRnWsh+PzXkpR91i3s/s95P8TDufj9YJRzhSUGAP+JX/i82LX4/CT+1a1fsej+EQl+xsOR7P9H0BD2bbn8/avnHQUhmeD+i59Zx8fB4P9LuS9kvb4E/uVC5qbt9lj+ZA6TbBESDP8ZddNlv/3U/Wo92ykIudz/Sk9TDzKhzP2YnI6c6UnY/K0vahPAGdz/3dLaYoc5zP/DfhuxarHc/qbl817pOgD/89n9/CwV0Pw==",
          "dtype": "f8"
         },
         "yaxis": "y"
        },
        {
         "hovertemplate": "Config=Ear Only<br>State=EO<br>Frequency (Hz)=%{x}<br>Power=%{y}<extra></extra>",
         "legendgroup": "Ear Only, EO",
         "line": {
          "color": "#636efa",
          "dash": "dot"
         },
         "marker": {
          "symbol": "circle"
         },
         "mode": "lines",
         "name": "Ear Only, EO",
         "orientation": "v",
         "showlegend": true,
         "type": "scatter",
         "x": {
          "bdata": "AAAAAAAAAEAAAAAAAAAIQAAAAAAAABBAAAAAAAAAFEAAAAAAAAAYQAAAAAAAABxAAAAAAAAAIEAAAAAAAAAiQAAAAAAAACRAAAAAAAAAJkAAAAAAAAAoQAAAAAAAACpAAAAAAAAALEAAAAAAAAAuQAAAAAAAADBAAAAAAAAAMUAAAAAAAAAyQAAAAAAAADNAAAAAAAAANEAAAAAAAAA1QAAAAAAAADZAAAAAAAAAN0AAAAAAAAA4QAAAAAAAADlAAAAAAAAAOkAAAAAAAAA7QAAAAAAAADxAAAAAAAAAPUAAAAAAAAA+QAAAAAAAAD9AAAAAAAAAQEAAAAAAAIBAQAAAAAAAAEFAAAAAAACAQUAAAAAAAABCQAAAAAAAgEJAAAAAAAAAQ0AAAAAAAIBDQAAAAAAAAERAAAAAAACAREAAAAAAAABFQAAAAAAAgEVAAAAAAAAARkAAAAAAAIBGQAAAAAAAAEdAAAAAAACAR0AAAAAAAABIQAAAAAAAgEhAAAAAAAAASUAAAAAAAIBJQAAAAAAAAEpAAAAAAACASkAAAAAAAABLQAAAAAAAgEtAAAAAAAAATEAAAAAAAIBMQAAAAAAAAE1AAAAAAACATUAAAAAAAABOQA==",
          "dtype": "f8"
         },
         "xaxis": "x",
         "y": {
          "bdata": "wBNhQY0YzT/6go2bVgW5P//SHaSefa0/ZPXOsnc+pT8frEKCvIaiP2/L/twW5Js/IEzWHABnmD9SpGoCbt6WP8R1yxN7kpY/3PdUS8yzkz8BgpEMUyiTP+Bpd088wo4/LYpNMnZLjT82ONgXSsyLP9Pv8nQRNo0/GoTrvGnviT9iQ/fTfJuIP4sSM5SgWok/XqC2yIpviD9TprKspDKIPy5DxQU+Aoc/POJ+UPTLhD9aa3w3taqFP+TkOxV+5YM/IfyLHQKdhD+HvCUXjKuBP0VlIjf5moE/06Of3Ve1fz8ZOcKPPsiAPxbTtkg58X4/ncWlKIZNfT/VPHT5xgJ+P1YnKI8cTX4/vbWEWzoZgD/cPAsuIx18P7uzXVBzTnw/kG6f4cEDfD+2EPg3Eap4P2nshphSL3o/PiHtiaT4fj/PQYcPDTt8PwiwlXLAQnk/vot5FjxSdz9n4ue2h914P9c1dp7I8Hk/Tq2PY3bRej++RwKmBSd6P3ZAV4rPtn8/woEDD8thkz8L9FDo9nt9P14Q20+10HQ/H9Fez2skdj+dYHdz2pFzP0AVbyjkW3Q/+ph+vgEvcj/mYIMenHV1P7Au22WGBHY/Zw3FX6r6fT8IFmnVsU50Pw==",
          "dtype": "f8"
         },
         "yaxis": "y"
        },
        {
         "hovertemplate": "Config=Top+Ears<br>State=EC<br>Frequency (Hz)=%{x}<br>Power=%{y}<extra></extra>",
         "legendgroup": "Top+Ears, EC",
         "line": {
          "color": "#EF553B",
          "dash": "solid"
         },
         "marker": {
          "symbol": "circle"
         },
         "mode": "lines",
         "name": "Top+Ears, EC",
         "orientation": "v",
         "showlegend": true,
         "type": "scatter",
         "x": {
          "bdata": "AAAAAAAAAEAAAAAAAAAIQAAAAAAAABBAAAAAAAAAFEAAAAAAAAAYQAAAAAAAABxAAAAAAAAAIEAAAAAAAAAiQAAAAAAAACRAAAAAAAAAJkAAAAAAAAAoQAAAAAAAACpAAAAAAAAALEAAAAAAAAAuQAAAAAAAADBAAAAAAAAAMUAAAAAAAAAyQAAAAAAAADNAAAAAAAAANEAAAAAAAAA1QAAAAAAAADZAAAAAAAAAN0AAAAAAAAA4QAAAAAAAADlAAAAAAAAAOkAAAAAAAAA7QAAAAAAAADxAAAAAAAAAPUAAAAAAAAA+QAAAAAAAAD9AAAAAAAAAQEAAAAAAAIBAQAAAAAAAAEFAAAAAAACAQUAAAAAAAABCQAAAAAAAgEJAAAAAAAAAQ0AAAAAAAIBDQAAAAAAAAERAAAAAAACAREAAAAAAAABFQAAAAAAAgEVAAAAAAAAARkAAAAAAAIBGQAAAAAAAAEdAAAAAAACAR0AAAAAAAABIQAAAAAAAgEhAAAAAAAAASUAAAAAAAIBJQAAAAAAAAEpAAAAAAACASkAAAAAAAABLQAAAAAAAgEtAAAAAAAAATEAAAAAAAIBMQAAAAAAAAE1AAAAAAACATUAAAAAAAABOQA==",
          "dtype": "f8"
         },
         "xaxis": "x",
         "y": {
          "bdata": "IKwEAPMdzT8ClmmCgbaxPzLlpQruo6Y/SfYKajfMoz/g4H3/IeSbPyBGHqJ0g5Y/sEJ0NYdzkz9MDxJ+KyyVP/+0cgrUMpc/fbhlqL8fkz/LNPOEPUOPP/5lp2HNNIk/gcZ/LE3Thz+Hh7LVbe2DPxXrCsXWPYg//5SMW4nIgT9ZutjdsD6BP99Zc/AD8YM/Et4VEC5cgj8Ou+ZQsbaCP5RuVaewJYE/xJMMe/Qxfz9lUhnGONiLP7K92If6Hn8/VLZYJlL+iz8PsNXHd+F6P+BWhg+KMH0/oIh0CayQgD/bKFkCu5WFPyg7c+PpnIA/Nw5ONHEwfj9p/g2vaQB5P45LXsxVrXk/N0D9NHXueD9uGnrD5jN8Px5Fx4PvkoA/ZKrkTAgJej+GQDqkioZ2P7mVUs5fHXU/18ftjHeXdz+ARxfjt5d1P9W7fxL5nXU/hC0lUCdyeD8u+tRFyqd3P86l+aXHi34/uenPA7jidT+aIqUHxSVzP6cO2rMr0ZM/gNy0mWmPtD8sZeyV+TuRPyQ2/CaH0HE/E2W3AgQUdT8VgklVaS50P/5kpiMzj3Q/qVk94NJndD8HHK3Oc/h5PwgQwLsX+oI/V5aXi3exmT8Jd1/ngOqAPw==",
          "dtype": "f8"
         },
         "yaxis": "y"
        },
        {
         "hovertemplate": "Config=Top+Ears<br>State=EO<br>Frequency (Hz)=%{x}<br>Power=%{y}<extra></extra>",
         "legendgroup": "Top+Ears, EO",
         "line": {
          "color": "#EF553B",
          "dash": "dot"
         },
         "marker": {
          "symbol": "circle"
         },
         "mode": "lines",
         "name": "Top+Ears, EO",
         "orientation": "v",
         "showlegend": true,
         "type": "scatter",
         "x": {
          "bdata": "AAAAAAAAAEAAAAAAAAAIQAAAAAAAABBAAAAAAAAAFEAAAAAAAAAYQAAAAAAAABxAAAAAAAAAIEAAAAAAAAAiQAAAAAAAACRAAAAAAAAAJkAAAAAAAAAoQAAAAAAAACpAAAAAAAAALEAAAAAAAAAuQAAAAAAAADBAAAAAAAAAMUAAAAAAAAAyQAAAAAAAADNAAAAAAAAANEAAAAAAAAA1QAAAAAAAADZAAAAAAAAAN0AAAAAAAAA4QAAAAAAAADlAAAAAAAAAOkAAAAAAAAA7QAAAAAAAADxAAAAAAAAAPUAAAAAAAAA+QAAAAAAAAD9AAAAAAAAAQEAAAAAAAIBAQAAAAAAAAEFAAAAAAACAQUAAAAAAAABCQAAAAAAAgEJAAAAAAAAAQ0AAAAAAAIBDQAAAAAAAAERAAAAAAACAREAAAAAAAABFQAAAAAAAgEVAAAAAAAAARkAAAAAAAIBGQAAAAAAAAEdAAAAAAACAR0AAAAAAAABIQAAAAAAAgEhAAAAAAAAASUAAAAAAAIBJQAAAAAAAAEpAAAAAAACASkAAAAAAAABLQAAAAAAAgEtAAAAAAAAATEAAAAAAAIBMQAAAAAAAAE1AAAAAAACATUAAAAAAAABOQA==",
          "dtype": "f8"
         },
         "xaxis": "x",
         "y": {
          "bdata": "FQjnEeoQyz9eE8KbCayzP3XW8MS+U6c/TklnYNqxpD+5qIp4v8qcP4Tm9wFpYJM/tXWVRJalkj/MqaW6dReOPy2ec0THnYs/R+aqECLujz9OVCrEzD2NPz40EPbG44g/muy97oR6hz8OJ9dsEv2DPz6E3c+ZrYg//LSqpRWbgT+OEmI1RGGBP+eKaWBw24I/b19FCxQXgz/YeI//IUyDP6xcpAWG2IM/18vrLYfUgj+cebWZOu6NPzlTThRR24A/cOie9VJNjj/L/PROlN98P5x8+mK+zHo/3n67iduVfj+aLbB2YF+GPwwKg8Rjd4E/bsc3Zhg/fD+C75Dg5UN4PxQoNE5TKno/e2GLD10HeT/Oft+kM5KAP50f0keigoA/85cv/wwCeT+95ExUw5J3PxcSyTxT2Xc/Vdhyug/HeD9q5NDPOUN1P7KMyE8UXnc/VBH6OSvFdz9lD99pXm9zP4eWfAi9KH8/R+TjZ9lHdz9PoBFnR6N5P5tSAfiqV5g/PE/9wEh3tj8JpuPV0XGSPzeGPNqNb3M/Sv+qLXaTdz9uDEIsliV0P8BHqIyle3Q/vrp+TV9QdT+mYwWASl56P3H/KUA1AoU/qROw12l9nD8uech35YWCPw==",
          "dtype": "f8"
         },
         "yaxis": "y"
        }
       ],
       "layout": {
        "legend": {
         "title": {
          "text": "Config, State"
         },
         "tracegroupgap": 0
        },
        "template": {
         "data": {
          "bar": [
           {
            "error_x": {
             "color": "#2a3f5f"
            },
            "error_y": {
             "color": "#2a3f5f"
            },
            "marker": {
             "line": {
              "color": "#E5ECF6",
              "width": 0.5
             },
             "pattern": {
              "fillmode": "overlay",
              "size": 10,
              "solidity": 0.2
             }
            },
            "type": "bar"
           }
          ],
          "barpolar": [
           {
            "marker": {
             "line": {
              "color": "#E5ECF6",
              "width": 0.5
             },
             "pattern": {
              "fillmode": "overlay",
              "size": 10,
              "solidity": 0.2
             }
            },
            "type": "barpolar"
           }
          ],
          "carpet": [
           {
            "aaxis": {
             "endlinecolor": "#2a3f5f",
             "gridcolor": "white",
             "linecolor": "white",
             "minorgridcolor": "white",
             "startlinecolor": "#2a3f5f"
            },
            "baxis": {
             "endlinecolor": "#2a3f5f",
             "gridcolor": "white",
             "linecolor": "white",
             "minorgridcolor": "white",
             "startlinecolor": "#2a3f5f"
            },
            "type": "carpet"
           }
          ],
          "choropleth": [
           {
            "colorbar": {
             "outlinewidth": 0,
             "ticks": ""
            },
            "type": "choropleth"
           }
          ],
          "contour": [
           {
            "colorbar": {
             "outlinewidth": 0,
             "ticks": ""
            },
            "colorscale": [
             [
              0,
              "#0d0887"
             ],
             [
              0.1111111111111111,
              "#46039f"
             ],
             [
              0.2222222222222222,
              "#7201a8"
             ],
             [
              0.3333333333333333,
              "#9c179e"
             ],
             [
              0.4444444444444444,
              "#bd3786"
             ],
             [
              0.5555555555555556,
              "#d8576b"
             ],
             [
              0.6666666666666666,
              "#ed7953"
             ],
             [
              0.7777777777777778,
              "#fb9f3a"
             ],
             [
              0.8888888888888888,
              "#fdca26"
             ],
             [
              1,
              "#f0f921"
             ]
            ],
            "type": "contour"
           }
          ],
          "contourcarpet": [
           {
            "colorbar": {
             "outlinewidth": 0,
             "ticks": ""
            },
            "type": "contourcarpet"
           }
          ],
          "heatmap": [
           {
            "colorbar": {
             "outlinewidth": 0,
             "ticks": ""
            },
            "colorscale": [
             [
              0,
              "#0d0887"
             ],
             [
              0.1111111111111111,
              "#46039f"
             ],
             [
              0.2222222222222222,
              "#7201a8"
             ],
             [
              0.3333333333333333,
              "#9c179e"
             ],
             [
              0.4444444444444444,
              "#bd3786"
             ],
             [
              0.5555555555555556,
              "#d8576b"
             ],
             [
              0.6666666666666666,
              "#ed7953"
             ],
             [
              0.7777777777777778,
              "#fb9f3a"
             ],
             [
              0.8888888888888888,
              "#fdca26"
             ],
             [
              1,
              "#f0f921"
             ]
            ],
            "type": "heatmap"
           }
          ],
          "histogram": [
           {
            "marker": {
             "pattern": {
              "fillmode": "overlay",
              "size": 10,
              "solidity": 0.2
             }
            },
            "type": "histogram"
           }
          ],
          "histogram2d": [
           {
            "colorbar": {
             "outlinewidth": 0,
             "ticks": ""
            },
            "colorscale": [
             [
              0,
              "#0d0887"
             ],
             [
              0.1111111111111111,
              "#46039f"
             ],
             [
              0.2222222222222222,
              "#7201a8"
             ],
             [
              0.3333333333333333,
              "#9c179e"
             ],
             [
              0.4444444444444444,
              "#bd3786"
             ],
             [
              0.5555555555555556,
              "#d8576b"
             ],
             [
              0.6666666666666666,
              "#ed7953"
             ],
             [
              0.7777777777777778,
              "#fb9f3a"
             ],
             [
              0.8888888888888888,
              "#fdca26"
             ],
             [
              1,
              "#f0f921"
             ]
            ],
            "type": "histogram2d"
           }
          ],
          "histogram2dcontour": [
           {
            "colorbar": {
             "outlinewidth": 0,
             "ticks": ""
            },
            "colorscale": [
             [
              0,
              "#0d0887"
             ],
             [
              0.1111111111111111,
              "#46039f"
             ],
             [
              0.2222222222222222,
              "#7201a8"
             ],
             [
              0.3333333333333333,
              "#9c179e"
             ],
             [
              0.4444444444444444,
              "#bd3786"
             ],
             [
              0.5555555555555556,
              "#d8576b"
             ],
             [
              0.6666666666666666,
              "#ed7953"
             ],
             [
              0.7777777777777778,
              "#fb9f3a"
             ],
             [
              0.8888888888888888,
              "#fdca26"
             ],
             [
              1,
              "#f0f921"
             ]
            ],
            "type": "histogram2dcontour"
           }
          ],
          "mesh3d": [
           {
            "colorbar": {
             "outlinewidth": 0,
             "ticks": ""
            },
            "type": "mesh3d"
           }
          ],
          "parcoords": [
           {
            "line": {
             "colorbar": {
              "outlinewidth": 0,
              "ticks": ""
             }
            },
            "type": "parcoords"
           }
          ],
          "pie": [
           {
            "automargin": true,
            "type": "pie"
           }
          ],
          "scatter": [
           {
            "fillpattern": {
             "fillmode": "overlay",
             "size": 10,
             "solidity": 0.2
            },
            "type": "scatter"
           }
          ],
          "scatter3d": [
           {
            "line": {
             "colorbar": {
              "outlinewidth": 0,
              "ticks": ""
             }
            },
            "marker": {
             "colorbar": {
              "outlinewidth": 0,
              "ticks": ""
             }
            },
            "type": "scatter3d"
           }
          ],
          "scattercarpet": [
           {
            "marker": {
             "colorbar": {
              "outlinewidth": 0,
              "ticks": ""
             }
            },
            "type": "scattercarpet"
           }
          ],
          "scattergeo": [
           {
            "marker": {
             "colorbar": {
              "outlinewidth": 0,
              "ticks": ""
             }
            },
            "type": "scattergeo"
           }
          ],
          "scattergl": [
           {
            "marker": {
             "colorbar": {
              "outlinewidth": 0,
              "ticks": ""
             }
            },
            "type": "scattergl"
           }
          ],
          "scattermap": [
           {
            "marker": {
             "colorbar": {
              "outlinewidth": 0,
              "ticks": ""
             }
            },
            "type": "scattermap"
           }
          ],
          "scattermapbox": [
           {
            "marker": {
             "colorbar": {
              "outlinewidth": 0,
              "ticks": ""
             }
            },
            "type": "scattermapbox"
           }
          ],
          "scatterpolar": [
           {
            "marker": {
             "colorbar": {
              "outlinewidth": 0,
              "ticks": ""
             }
            },
            "type": "scatterpolar"
           }
          ],
          "scatterpolargl": [
           {
            "marker": {
             "colorbar": {
              "outlinewidth": 0,
              "ticks": ""
             }
            },
            "type": "scatterpolargl"
           }
          ],
          "scatterternary": [
           {
            "marker": {
             "colorbar": {
              "outlinewidth": 0,
              "ticks": ""
             }
            },
            "type": "scatterternary"
           }
          ],
          "surface": [
           {
            "colorbar": {
             "outlinewidth": 0,
             "ticks": ""
            },
            "colorscale": [
             [
              0,
              "#0d0887"
             ],
             [
              0.1111111111111111,
              "#46039f"
             ],
             [
              0.2222222222222222,
              "#7201a8"
             ],
             [
              0.3333333333333333,
              "#9c179e"
             ],
             [
              0.4444444444444444,
              "#bd3786"
             ],
             [
              0.5555555555555556,
              "#d8576b"
             ],
             [
              0.6666666666666666,
              "#ed7953"
             ],
             [
              0.7777777777777778,
              "#fb9f3a"
             ],
             [
              0.8888888888888888,
              "#fdca26"
             ],
             [
              1,
              "#f0f921"
             ]
            ],
            "type": "surface"
           }
          ],
          "table": [
           {
            "cells": {
             "fill": {
              "color": "#EBF0F8"
             },
             "line": {
              "color": "white"
             }
            },
            "header": {
             "fill": {
              "color": "#C8D4E3"
             },
             "line": {
              "color": "white"
             }
            },
            "type": "table"
           }
          ]
         },
         "layout": {
          "annotationdefaults": {
           "arrowcolor": "#2a3f5f",
           "arrowhead": 0,
           "arrowwidth": 1
          },
          "autotypenumbers": "strict",
          "coloraxis": {
           "colorbar": {
            "outlinewidth": 0,
            "ticks": ""
           }
          },
          "colorscale": {
           "diverging": [
            [
             0,
             "#8e0152"
            ],
            [
             0.1,
             "#c51b7d"
            ],
            [
             0.2,
             "#de77ae"
            ],
            [
             0.3,
             "#f1b6da"
            ],
            [
             0.4,
             "#fde0ef"
            ],
            [
             0.5,
             "#f7f7f7"
            ],
            [
             0.6,
             "#e6f5d0"
            ],
            [
             0.7,
             "#b8e186"
            ],
            [
             0.8,
             "#7fbc41"
            ],
            [
             0.9,
             "#4d9221"
            ],
            [
             1,
             "#276419"
            ]
           ],
           "sequential": [
            [
             0,
             "#0d0887"
            ],
            [
             0.1111111111111111,
             "#46039f"
            ],
            [
             0.2222222222222222,
             "#7201a8"
            ],
            [
             0.3333333333333333,
             "#9c179e"
            ],
            [
             0.4444444444444444,
             "#bd3786"
            ],
            [
             0.5555555555555556,
             "#d8576b"
            ],
            [
             0.6666666666666666,
             "#ed7953"
            ],
            [
             0.7777777777777778,
             "#fb9f3a"
            ],
            [
             0.8888888888888888,
             "#fdca26"
            ],
            [
             1,
             "#f0f921"
            ]
           ],
           "sequentialminus": [
            [
             0,
             "#0d0887"
            ],
            [
             0.1111111111111111,
             "#46039f"
            ],
            [
             0.2222222222222222,
             "#7201a8"
            ],
            [
             0.3333333333333333,
             "#9c179e"
            ],
            [
             0.4444444444444444,
             "#bd3786"
            ],
            [
             0.5555555555555556,
             "#d8576b"
            ],
            [
             0.6666666666666666,
             "#ed7953"
            ],
            [
             0.7777777777777778,
             "#fb9f3a"
            ],
            [
             0.8888888888888888,
             "#fdca26"
            ],
            [
             1,
             "#f0f921"
            ]
           ]
          },
          "colorway": [
           "#636efa",
           "#EF553B",
           "#00cc96",
           "#ab63fa",
           "#FFA15A",
           "#19d3f3",
           "#FF6692",
           "#B6E880",
           "#FF97FF",
           "#FECB52"
          ],
          "font": {
           "color": "#2a3f5f"
          },
          "geo": {
           "bgcolor": "white",
           "lakecolor": "white",
           "landcolor": "#E5ECF6",
           "showlakes": true,
           "showland": true,
           "subunitcolor": "white"
          },
          "hoverlabel": {
           "align": "left"
          },
          "hovermode": "closest",
          "mapbox": {
           "style": "light"
          },
          "paper_bgcolor": "white",
          "plot_bgcolor": "#E5ECF6",
          "polar": {
           "angularaxis": {
            "gridcolor": "white",
            "linecolor": "white",
            "ticks": ""
           },
           "bgcolor": "#E5ECF6",
           "radialaxis": {
            "gridcolor": "white",
            "linecolor": "white",
            "ticks": ""
           }
          },
          "scene": {
           "xaxis": {
            "backgroundcolor": "#E5ECF6",
            "gridcolor": "white",
            "gridwidth": 2,
            "linecolor": "white",
            "showbackground": true,
            "ticks": "",
            "zerolinecolor": "white"
           },
           "yaxis": {
            "backgroundcolor": "#E5ECF6",
            "gridcolor": "white",
            "gridwidth": 2,
            "linecolor": "white",
            "showbackground": true,
            "ticks": "",
            "zerolinecolor": "white"
           },
           "zaxis": {
            "backgroundcolor": "#E5ECF6",
            "gridcolor": "white",
            "gridwidth": 2,
            "linecolor": "white",
            "showbackground": true,
            "ticks": "",
            "zerolinecolor": "white"
           }
          },
          "shapedefaults": {
           "line": {
            "color": "#2a3f5f"
           }
          },
          "ternary": {
           "aaxis": {
            "gridcolor": "white",
            "linecolor": "white",
            "ticks": ""
           },
           "baxis": {
            "gridcolor": "white",
            "linecolor": "white",
            "ticks": ""
           },
           "bgcolor": "#E5ECF6",
           "caxis": {
            "gridcolor": "white",
            "linecolor": "white",
            "ticks": ""
           }
          },
          "title": {
           "x": 0.05
          },
          "xaxis": {
           "automargin": true,
           "gridcolor": "white",
           "linecolor": "white",
           "ticks": "",
           "title": {
            "standoff": 15
           },
           "zerolinecolor": "white",
           "zerolinewidth": 2
          },
          "yaxis": {
           "automargin": true,
           "gridcolor": "white",
           "linecolor": "white",
           "ticks": "",
           "title": {
            "standoff": 15
           },
           "zerolinecolor": "white",
           "zerolinewidth": 2
          }
         }
        },
        "title": {
         "text": "Average PSDs (Run 1): EC vs EO per configuration"
        },
        "xaxis": {
         "anchor": "y",
         "domain": [
          0,
          1
         ],
         "range": [
          0,
          30
         ],
         "title": {
          "text": "Frequency (Hz)"
         }
        },
        "yaxis": {
         "anchor": "x",
         "domain": [
          0,
          1
         ],
         "showgrid": true,
         "title": {
          "text": "Power"
         }
        }
       }
      }
     },
     "metadata": {},
     "output_type": "display_data"
    },
    {
     "data": {
      "application/vnd.plotly.v1+json": {
       "config": {
        "plotlyServerURL": "https://plot.ly"
       },
       "data": [
        {
         "cliponaxis": false,
         "hovertemplate": "Config=%{x}<br>Alpha band area (EC - EO)=%{y}<br>Text=%{text}<extra></extra>",
         "legendgroup": "",
         "marker": {
          "color": "#636efa",
          "pattern": {
           "shape": ""
          }
         },
         "name": "",
         "orientation": "v",
         "showlegend": false,
         "text": [
          "0.027",
          "0.019"
         ],
         "textposition": "outside",
         "type": "bar",
         "x": [
          "Ear Only",
          "Top+Ears"
         ],
         "xaxis": "x",
         "y": {
          "bdata": "SD2H8Oagmz/AHFLA+riTPw==",
          "dtype": "f8"
         },
         "yaxis": "y"
        }
       ],
       "layout": {
        "barmode": "relative",
        "legend": {
         "tracegroupgap": 0
        },
        "template": {
         "data": {
          "bar": [
           {
            "error_x": {
             "color": "#2a3f5f"
            },
            "error_y": {
             "color": "#2a3f5f"
            },
            "marker": {
             "line": {
              "color": "#E5ECF6",
              "width": 0.5
             },
             "pattern": {
              "fillmode": "overlay",
              "size": 10,
              "solidity": 0.2
             }
            },
            "type": "bar"
           }
          ],
          "barpolar": [
           {
            "marker": {
             "line": {
              "color": "#E5ECF6",
              "width": 0.5
             },
             "pattern": {
              "fillmode": "overlay",
              "size": 10,
              "solidity": 0.2
             }
            },
            "type": "barpolar"
           }
          ],
          "carpet": [
           {
            "aaxis": {
             "endlinecolor": "#2a3f5f",
             "gridcolor": "white",
             "linecolor": "white",
             "minorgridcolor": "white",
             "startlinecolor": "#2a3f5f"
            },
            "baxis": {
             "endlinecolor": "#2a3f5f",
             "gridcolor": "white",
             "linecolor": "white",
             "minorgridcolor": "white",
             "startlinecolor": "#2a3f5f"
            },
            "type": "carpet"
           }
          ],
          "choropleth": [
           {
            "colorbar": {
             "outlinewidth": 0,
             "ticks": ""
            },
            "type": "choropleth"
           }
          ],
          "contour": [
           {
            "colorbar": {
             "outlinewidth": 0,
             "ticks": ""
            },
            "colorscale": [
             [
              0,
              "#0d0887"
             ],
             [
              0.1111111111111111,
              "#46039f"
             ],
             [
              0.2222222222222222,
              "#7201a8"
             ],
             [
              0.3333333333333333,
              "#9c179e"
             ],
             [
              0.4444444444444444,
              "#bd3786"
             ],
             [
              0.5555555555555556,
              "#d8576b"
             ],
             [
              0.6666666666666666,
              "#ed7953"
             ],
             [
              0.7777777777777778,
              "#fb9f3a"
             ],
             [
              0.8888888888888888,
              "#fdca26"
             ],
             [
              1,
              "#f0f921"
             ]
            ],
            "type": "contour"
           }
          ],
          "contourcarpet": [
           {
            "colorbar": {
             "outlinewidth": 0,
             "ticks": ""
            },
            "type": "contourcarpet"
           }
          ],
          "heatmap": [
           {
            "colorbar": {
             "outlinewidth": 0,
             "ticks": ""
            },
            "colorscale": [
             [
              0,
              "#0d0887"
             ],
             [
              0.1111111111111111,
              "#46039f"
             ],
             [
              0.2222222222222222,
              "#7201a8"
             ],
             [
              0.3333333333333333,
              "#9c179e"
             ],
             [
              0.4444444444444444,
              "#bd3786"
             ],
             [
              0.5555555555555556,
              "#d8576b"
             ],
             [
              0.6666666666666666,
              "#ed7953"
             ],
             [
              0.7777777777777778,
              "#fb9f3a"
             ],
             [
              0.8888888888888888,
              "#fdca26"
             ],
             [
              1,
              "#f0f921"
             ]
            ],
            "type": "heatmap"
           }
          ],
          "histogram": [
           {
            "marker": {
             "pattern": {
              "fillmode": "overlay",
              "size": 10,
              "solidity": 0.2
             }
            },
            "type": "histogram"
           }
          ],
          "histogram2d": [
           {
            "colorbar": {
             "outlinewidth": 0,
             "ticks": ""
            },
            "colorscale": [
             [
              0,
              "#0d0887"
             ],
             [
              0.1111111111111111,
              "#46039f"
             ],
             [
              0.2222222222222222,
              "#7201a8"
             ],
             [
              0.3333333333333333,
              "#9c179e"
             ],
             [
              0.4444444444444444,
              "#bd3786"
             ],
             [
              0.5555555555555556,
              "#d8576b"
             ],
             [
              0.6666666666666666,
              "#ed7953"
             ],
             [
              0.7777777777777778,
              "#fb9f3a"
             ],
             [
              0.8888888888888888,
              "#fdca26"
             ],
             [
              1,
              "#f0f921"
             ]
            ],
            "type": "histogram2d"
           }
          ],
          "histogram2dcontour": [
           {
            "colorbar": {
             "outlinewidth": 0,
             "ticks": ""
            },
            "colorscale": [
             [
              0,
              "#0d0887"
             ],
             [
              0.1111111111111111,
              "#46039f"
             ],
             [
              0.2222222222222222,
              "#7201a8"
             ],
             [
              0.3333333333333333,
              "#9c179e"
             ],
             [
              0.4444444444444444,
              "#bd3786"
             ],
             [
              0.5555555555555556,
              "#d8576b"
             ],
             [
              0.6666666666666666,
              "#ed7953"
             ],
             [
              0.7777777777777778,
              "#fb9f3a"
             ],
             [
              0.8888888888888888,
              "#fdca26"
             ],
             [
              1,
              "#f0f921"
             ]
            ],
            "type": "histogram2dcontour"
           }
          ],
          "mesh3d": [
           {
            "colorbar": {
             "outlinewidth": 0,
             "ticks": ""
            },
            "type": "mesh3d"
           }
          ],
          "parcoords": [
           {
            "line": {
             "colorbar": {
              "outlinewidth": 0,
              "ticks": ""
             }
            },
            "type": "parcoords"
           }
          ],
          "pie": [
           {
            "automargin": true,
            "type": "pie"
           }
          ],
          "scatter": [
           {
            "fillpattern": {
             "fillmode": "overlay",
             "size": 10,
             "solidity": 0.2
            },
            "type": "scatter"
           }
          ],
          "scatter3d": [
           {
            "line": {
             "colorbar": {
              "outlinewidth": 0,
              "ticks": ""
             }
            },
            "marker": {
             "colorbar": {
              "outlinewidth": 0,
              "ticks": ""
             }
            },
            "type": "scatter3d"
           }
          ],
          "scattercarpet": [
           {
            "marker": {
             "colorbar": {
              "outlinewidth": 0,
              "ticks": ""
             }
            },
            "type": "scattercarpet"
           }
          ],
          "scattergeo": [
           {
            "marker": {
             "colorbar": {
              "outlinewidth": 0,
              "ticks": ""
             }
            },
            "type": "scattergeo"
           }
          ],
          "scattergl": [
           {
            "marker": {
             "colorbar": {
              "outlinewidth": 0,
              "ticks": ""
             }
            },
            "type": "scattergl"
           }
          ],
          "scattermap": [
           {
            "marker": {
             "colorbar": {
              "outlinewidth": 0,
              "ticks": ""
             }
            },
            "type": "scattermap"
           }
          ],
          "scattermapbox": [
           {
            "marker": {
             "colorbar": {
              "outlinewidth": 0,
              "ticks": ""
             }
            },
            "type": "scattermapbox"
           }
          ],
          "scatterpolar": [
           {
            "marker": {
             "colorbar": {
              "outlinewidth": 0,
              "ticks": ""
             }
            },
            "type": "scatterpolar"
           }
          ],
          "scatterpolargl": [
           {
            "marker": {
             "colorbar": {
              "outlinewidth": 0,
              "ticks": ""
             }
            },
            "type": "scatterpolargl"
           }
          ],
          "scatterternary": [
           {
            "marker": {
             "colorbar": {
              "outlinewidth": 0,
              "ticks": ""
             }
            },
            "type": "scatterternary"
           }
          ],
          "surface": [
           {
            "colorbar": {
             "outlinewidth": 0,
             "ticks": ""
            },
            "colorscale": [
             [
              0,
              "#0d0887"
             ],
             [
              0.1111111111111111,
              "#46039f"
             ],
             [
              0.2222222222222222,
              "#7201a8"
             ],
             [
              0.3333333333333333,
              "#9c179e"
             ],
             [
              0.4444444444444444,
              "#bd3786"
             ],
             [
              0.5555555555555556,
              "#d8576b"
             ],
             [
              0.6666666666666666,
              "#ed7953"
             ],
             [
              0.7777777777777778,
              "#fb9f3a"
             ],
             [
              0.8888888888888888,
              "#fdca26"
             ],
             [
              1,
              "#f0f921"
             ]
            ],
            "type": "surface"
           }
          ],
          "table": [
           {
            "cells": {
             "fill": {
              "color": "#EBF0F8"
             },
             "line": {
              "color": "white"
             }
            },
            "header": {
             "fill": {
              "color": "#C8D4E3"
             },
             "line": {
              "color": "white"
             }
            },
            "type": "table"
           }
          ]
         },
         "layout": {
          "annotationdefaults": {
           "arrowcolor": "#2a3f5f",
           "arrowhead": 0,
           "arrowwidth": 1
          },
          "autotypenumbers": "strict",
          "coloraxis": {
           "colorbar": {
            "outlinewidth": 0,
            "ticks": ""
           }
          },
          "colorscale": {
           "diverging": [
            [
             0,
             "#8e0152"
            ],
            [
             0.1,
             "#c51b7d"
            ],
            [
             0.2,
             "#de77ae"
            ],
            [
             0.3,
             "#f1b6da"
            ],
            [
             0.4,
             "#fde0ef"
            ],
            [
             0.5,
             "#f7f7f7"
            ],
            [
             0.6,
             "#e6f5d0"
            ],
            [
             0.7,
             "#b8e186"
            ],
            [
             0.8,
             "#7fbc41"
            ],
            [
             0.9,
             "#4d9221"
            ],
            [
             1,
             "#276419"
            ]
           ],
           "sequential": [
            [
             0,
             "#0d0887"
            ],
            [
             0.1111111111111111,
             "#46039f"
            ],
            [
             0.2222222222222222,
             "#7201a8"
            ],
            [
             0.3333333333333333,
             "#9c179e"
            ],
            [
             0.4444444444444444,
             "#bd3786"
            ],
            [
             0.5555555555555556,
             "#d8576b"
            ],
            [
             0.6666666666666666,
             "#ed7953"
            ],
            [
             0.7777777777777778,
             "#fb9f3a"
            ],
            [
             0.8888888888888888,
             "#fdca26"
            ],
            [
             1,
             "#f0f921"
            ]
           ],
           "sequentialminus": [
            [
             0,
             "#0d0887"
            ],
            [
             0.1111111111111111,
             "#46039f"
            ],
            [
             0.2222222222222222,
             "#7201a8"
            ],
            [
             0.3333333333333333,
             "#9c179e"
            ],
            [
             0.4444444444444444,
             "#bd3786"
            ],
            [
             0.5555555555555556,
             "#d8576b"
            ],
            [
             0.6666666666666666,
             "#ed7953"
            ],
            [
             0.7777777777777778,
             "#fb9f3a"
            ],
            [
             0.8888888888888888,
             "#fdca26"
            ],
            [
             1,
             "#f0f921"
            ]
           ]
          },
          "colorway": [
           "#636efa",
           "#EF553B",
           "#00cc96",
           "#ab63fa",
           "#FFA15A",
           "#19d3f3",
           "#FF6692",
           "#B6E880",
           "#FF97FF",
           "#FECB52"
          ],
          "font": {
           "color": "#2a3f5f"
          },
          "geo": {
           "bgcolor": "white",
           "lakecolor": "white",
           "landcolor": "#E5ECF6",
           "showlakes": true,
           "showland": true,
           "subunitcolor": "white"
          },
          "hoverlabel": {
           "align": "left"
          },
          "hovermode": "closest",
          "mapbox": {
           "style": "light"
          },
          "paper_bgcolor": "white",
          "plot_bgcolor": "#E5ECF6",
          "polar": {
           "angularaxis": {
            "gridcolor": "white",
            "linecolor": "white",
            "ticks": ""
           },
           "bgcolor": "#E5ECF6",
           "radialaxis": {
            "gridcolor": "white",
            "linecolor": "white",
            "ticks": ""
           }
          },
          "scene": {
           "xaxis": {
            "backgroundcolor": "#E5ECF6",
            "gridcolor": "white",
            "gridwidth": 2,
            "linecolor": "white",
            "showbackground": true,
            "ticks": "",
            "zerolinecolor": "white"
           },
           "yaxis": {
            "backgroundcolor": "#E5ECF6",
            "gridcolor": "white",
            "gridwidth": 2,
            "linecolor": "white",
            "showbackground": true,
            "ticks": "",
            "zerolinecolor": "white"
           },
           "zaxis": {
            "backgroundcolor": "#E5ECF6",
            "gridcolor": "white",
            "gridwidth": 2,
            "linecolor": "white",
            "showbackground": true,
            "ticks": "",
            "zerolinecolor": "white"
           }
          },
          "shapedefaults": {
           "line": {
            "color": "#2a3f5f"
           }
          },
          "ternary": {
           "aaxis": {
            "gridcolor": "white",
            "linecolor": "white",
            "ticks": ""
           },
           "baxis": {
            "gridcolor": "white",
            "linecolor": "white",
            "ticks": ""
           },
           "bgcolor": "#E5ECF6",
           "caxis": {
            "gridcolor": "white",
            "linecolor": "white",
            "ticks": ""
           }
          },
          "title": {
           "x": 0.05
          },
          "xaxis": {
           "automargin": true,
           "gridcolor": "white",
           "linecolor": "white",
           "ticks": "",
           "title": {
            "standoff": 15
           },
           "zerolinecolor": "white",
           "zerolinewidth": 2
          },
          "yaxis": {
           "automargin": true,
           "gridcolor": "white",
           "linecolor": "white",
           "ticks": "",
           "title": {
            "standoff": 15
           },
           "zerolinecolor": "white",
           "zerolinewidth": 2
          }
         }
        },
        "title": {
         "text": "Berger effect magnitude by configuration (first sessions)"
        },
        "xaxis": {
         "anchor": "y",
         "domain": [
          0,
          1
         ],
         "title": {
          "text": "Config"
         }
        },
        "yaxis": {
         "anchor": "x",
         "domain": [
          0,
          1
         ],
         "showgrid": true,
         "title": {
          "text": "Alpha band area (EC - EO)"
         }
        }
       }
      }
     },
     "metadata": {},
     "output_type": "display_data"
    }
   ],
   "source": [
    "# Compute averages\n",
    "ear_only = average_psds_across_sessions(sessions, config_label=\"Ear Only\", verbose=True)\n",
    "top_ears = average_psds_across_sessions(sessions, config_label=\"Top+Ears\", verbose=True)\n",
    "\n",
    "print(f\"\\nSessions used — Ear Only: {ear_only['n_used']}, Top+Ears: {top_ears['n_used']}\")\n",
    "print(f\"Median fs — Ear Only: {ear_only['fs_median']:.2f} Hz, Top+Ears: {top_ears['fs_median']:.2f} Hz\")\n",
    "\n",
    "# Average PSDs (linear power)\n",
    "flows.plot_avg_psds_by_config_px(\n",
    "    ear_only, top_ears,\n",
    "    x_range=(0, 30),\n",
    "    y_label=\"Power\",\n",
    "    title=\"Average PSDs (Run 1): EC vs EO per configuration\"\n",
    ")\n",
    "\n",
    "flows.plot_effect_bars_px(\n",
    "    {\"Ear Only\": ear_only[\"alpha_effect\"], \"Top+Ears\": top_ears[\"alpha_effect\"]},\n",
    "    y_label=\"Alpha band area (EC - EO)\",\n",
    "    title=\"Berger effect magnitude by configuration (first sessions)\",\n",
    "    text_fmt=\"{:.3f}\"\n",
    ")"
   ]
  },
  {
   "cell_type": "code",
   "execution_count": 13,
   "metadata": {},
   "outputs": [
    {
     "name": "stdout",
     "output_type": "stream",
     "text": [
      "=== Summary (first sessions) ===\n",
      "Ear Only:  alpha_abs=0.028, alpha_dB=4.501, alpha_rel=0.0299, EC_area_1-30Hz=0.7\n",
      "Top+Ears:  alpha_abs=0.020, alpha_dB=4.930, alpha_rel=0.0230, EC_area_1-30Hz=0.6\n"
     ]
    }
   ],
   "source": [
    "\n",
    "# Convert to dB\n",
    "ear_only_db = {'EC': flows.to_db(ear_only['EC']), 'EO': flows.to_db(ear_only['EO'])}\n",
    "top_ears_db = {'EC': flows.to_db(top_ears['EC']), 'EO': flows.to_db(top_ears['EO'])}\n",
    "\n",
    "# Compute absolute, dB, and relative Berger effects (alpha 8–13 Hz)\n",
    "def alpha_metrics(pair):\n",
    "    abs_eff = flows.band_area(pair['EC'], 8, 13) - flows.band_area(pair['EO'], 8, 13)\n",
    "    db_eff  = flows.band_area(flows.to_db(pair['EC']), 8, 13) - flows.band_area(flows.to_db(pair['EO']), 8, 13)\n",
    "    rel_eff = flows.rel_band_power(pair['EC'], 8, 13) - flows.rel_band_power(pair['EO'], 8, 13)\n",
    "    return abs_eff, db_eff, rel_eff\n",
    "\n",
    "eo_abs, eo_db, eo_rel = alpha_metrics(ear_only)\n",
    "te_abs, te_db, te_rel = alpha_metrics(top_ears)\n",
    "\n",
    "# Quick broadband scale check (minfreq–30 Hz EC area)\n",
    "eo_broad = flows.band_area(ear_only['EC'], min_freq, 30)\n",
    "te_broad = flows.band_area(top_ears['EC'], min_freq, 30)\n",
    "\n",
    "print(\"=== Summary (first sessions) ===\")\n",
    "print(f\"Ear Only:  alpha_abs={eo_abs:.3f}, alpha_dB={eo_db:.3f}, alpha_rel={eo_rel:.4f}, EC_area_1-30Hz={eo_broad:.1f}\")\n",
    "print(f\"Top+Ears:  alpha_abs={te_abs:.3f}, alpha_dB={te_db:.3f}, alpha_rel={te_rel:.4f}, EC_area_1-30Hz={te_broad:.1f}\")"
   ]
  },
  {
   "cell_type": "code",
   "execution_count": 14,
   "metadata": {},
   "outputs": [
    {
     "data": {
      "application/vnd.plotly.v1+json": {
       "config": {
        "plotlyServerURL": "https://plot.ly"
       },
       "data": [
        {
         "hovertemplate": "Config=Ear Only<br>State=EC<br>Frequency (Hz)=%{x}<br>Power (dB)=%{y}<extra></extra>",
         "legendgroup": "Ear Only, EC",
         "line": {
          "color": "#636efa",
          "dash": "solid"
         },
         "marker": {
          "symbol": "circle"
         },
         "mode": "lines",
         "name": "Ear Only, EC",
         "orientation": "v",
         "showlegend": true,
         "type": "scatter",
         "x": {
          "bdata": "AAAAAAAAAEAAAAAAAAAIQAAAAAAAABBAAAAAAAAAFEAAAAAAAAAYQAAAAAAAABxAAAAAAAAAIEAAAAAAAAAiQAAAAAAAACRAAAAAAAAAJkAAAAAAAAAoQAAAAAAAACpAAAAAAAAALEAAAAAAAAAuQAAAAAAAADBAAAAAAAAAMUAAAAAAAAAyQAAAAAAAADNAAAAAAAAANEAAAAAAAAA1QAAAAAAAADZAAAAAAAAAN0AAAAAAAAA4QAAAAAAAADlAAAAAAAAAOkAAAAAAAAA7QAAAAAAAADxAAAAAAAAAPUAAAAAAAAA+QAAAAAAAAD9AAAAAAAAAQEAAAAAAAIBAQAAAAAAAAEFAAAAAAACAQUAAAAAAAABCQAAAAAAAgEJAAAAAAAAAQ0AAAAAAAIBDQAAAAAAAAERAAAAAAACAREAAAAAAAABFQAAAAAAAgEVAAAAAAAAARkAAAAAAAIBGQAAAAAAAAEdAAAAAAACAR0AAAAAAAABIQAAAAAAAgEhAAAAAAAAASUAAAAAAAIBJQAAAAAAAAEpAAAAAAACASkAAAAAAAABLQAAAAAAAgEtAAAAAAAAATEAAAAAAAIBMQAAAAAAAAE1AAAAAAACATUAAAAAAAABOQA==",
          "dtype": "f8"
         },
         "xaxis": "x",
         "y": {
          "bdata": "BltOSHmmG8BS2PmjPK8lwFvCzX2rMCnA7k5F+aj0K8B6B9doLvcuwATXCtB+Qi/ATbAueBMzMMBXfPG3gdMtwNVvUhgfkyzAjwgQZnGqMMAe2B1x/hIxwI2q7fvVaDLAO+a/9AhvMsBUXsOQylAywIwXGYhvqTLAun1xeYrZMsCEvbM5wmozwNSNhuvDNjPAn+vvRr5vM8CRRfj8M/4zwLcuse7pTTTAySiLERMUNMCrzJKcRpYzwO6ZhBHeNTTAgsUm2SQhNMA+xpjfrjY0wDkM+4OZfjTAkfM5ayKpNMDE8L5T1dw0wPHFDlMikjTA0iKiJ/S3NMAejysi87k0wHfdecH21jTALusCovruM8BcRo4P59g0wK+jNn6yETXAFskS+BeyNMDIK6EulD01wNBTsE0kuTXAkDus1UA4NcDopc8v4AA1wNRlSWivUzXA0Pc/TYTSNcANrN0vKas1wOuRXPtdJjXA60e7yPE/NsB6aymliCc2wHas8vEBszTAM4cR4jeVMMByqPel9EM0wOwHi4smszbA5b7mzOp4NsAAdVFhGjA3wM4KEJjsojbA2dtxAk+ANsBjD6roxic3wByyXGuKYTbAhJXwU0r9NMDG7+/j6Bs3wA==",
          "dtype": "f8"
         },
         "yaxis": "y"
        },
        {
         "hovertemplate": "Config=Ear Only<br>State=EO<br>Frequency (Hz)=%{x}<br>Power (dB)=%{y}<extra></extra>",
         "legendgroup": "Ear Only, EO",
         "line": {
          "color": "#636efa",
          "dash": "dot"
         },
         "marker": {
          "symbol": "circle"
         },
         "mode": "lines",
         "name": "Ear Only, EO",
         "orientation": "v",
         "showlegend": true,
         "type": "scatter",
         "x": {
          "bdata": "AAAAAAAAAEAAAAAAAAAIQAAAAAAAABBAAAAAAAAAFEAAAAAAAAAYQAAAAAAAABxAAAAAAAAAIEAAAAAAAAAiQAAAAAAAACRAAAAAAAAAJkAAAAAAAAAoQAAAAAAAACpAAAAAAAAALEAAAAAAAAAuQAAAAAAAADBAAAAAAAAAMUAAAAAAAAAyQAAAAAAAADNAAAAAAAAANEAAAAAAAAA1QAAAAAAAADZAAAAAAAAAN0AAAAAAAAA4QAAAAAAAADlAAAAAAAAAOkAAAAAAAAA7QAAAAAAAADxAAAAAAAAAPUAAAAAAAAA+QAAAAAAAAD9AAAAAAAAAQEAAAAAAAIBAQAAAAAAAAEFAAAAAAACAQUAAAAAAAABCQAAAAAAAgEJAAAAAAAAAQ0AAAAAAAIBDQAAAAAAAAERAAAAAAACAREAAAAAAAABFQAAAAAAAgEVAAAAAAAAARkAAAAAAAIBGQAAAAAAAAEdAAAAAAACAR0AAAAAAAABIQAAAAAAAgEhAAAAAAAAASUAAAAAAAIBJQAAAAAAAAEpAAAAAAACASkAAAAAAAABLQAAAAAAAgEtAAAAAAAAATEAAAAAAAIBMQAAAAAAAAE1AAAAAAACATUAAAAAAAABOQA==",
          "dtype": "f8"
         },
         "xaxis": "x",
         "y": {
          "bdata": "rj//ETG8GcBeoru/4TIkwAjaEaisyijAjs20ywKkK8AAqJjmYdQswPqqxzT2Sy/AwbVqBos6MMB4Vx6es4IwwDtnah04kTDA9XOcC2coMcAdaWBYlEcxwECLkDPOOzLAkVPIngVyMsD38oNrVKwywIDDyrQydTLAEWb1bXL5MsAhqxOr4DMzwCaeQyalEjPA7p5AJKk7M8ByncKJiUYzwDTZ39+OfjPA+adFavDuM8BbzPVeXsEzwJ/R54wjIDTAPkYbSsn4M8BMcg2KEqQ0wL7pyUMnqDTAiOj+26IcNcCRby4mZN00wIoScNnTNzXAqAnvYFp0NcBvqOAfz1k1wEDV7ooaTzXAZDDse6ELNcBUzqYdaKI1wOZLB6DQmjXAW7kLk1WmNcCY1yS48TM2wK5mNt1u8TXAdB3WZsk2NcBe8mSZy501wMIq6A5hGTbA50SvoTJyNsA5CHBU6yo2wKqUfrLa+zXAaMP3cNzWNcCwASqFz/I1wPPo3WhvHDXAiGBJkqA6McAaKUHKfW01wH6OEWeV8DbAZISGbt+rNsDmfzkKLzU3wEp6Rko6CTfAkJT+GNyGN8Bc5K0ks842wLr++4AlsjbAeGIVy/taNcDVzyHdCww3wA==",
          "dtype": "f8"
         },
         "yaxis": "y"
        },
        {
         "hovertemplate": "Config=Top+Ears<br>State=EC<br>Frequency (Hz)=%{x}<br>Power (dB)=%{y}<extra></extra>",
         "legendgroup": "Top+Ears, EC",
         "line": {
          "color": "#EF553B",
          "dash": "solid"
         },
         "marker": {
          "symbol": "circle"
         },
         "mode": "lines",
         "name": "Top+Ears, EC",
         "orientation": "v",
         "showlegend": true,
         "type": "scatter",
         "x": {
          "bdata": "AAAAAAAAAEAAAAAAAAAIQAAAAAAAABBAAAAAAAAAFEAAAAAAAAAYQAAAAAAAABxAAAAAAAAAIEAAAAAAAAAiQAAAAAAAACRAAAAAAAAAJkAAAAAAAAAoQAAAAAAAACpAAAAAAAAALEAAAAAAAAAuQAAAAAAAADBAAAAAAAAAMUAAAAAAAAAyQAAAAAAAADNAAAAAAAAANEAAAAAAAAA1QAAAAAAAADZAAAAAAAAAN0AAAAAAAAA4QAAAAAAAADlAAAAAAAAAOkAAAAAAAAA7QAAAAAAAADxAAAAAAAAAPUAAAAAAAAA+QAAAAAAAAD9AAAAAAAAAQEAAAAAAAIBAQAAAAAAAAEFAAAAAAACAQUAAAAAAAABCQAAAAAAAgEJAAAAAAAAAQ0AAAAAAAIBDQAAAAAAAAERAAAAAAACAREAAAAAAAABFQAAAAAAAgEVAAAAAAAAARkAAAAAAAIBGQAAAAAAAAEdAAAAAAACAR0AAAAAAAABIQAAAAAAAgEhAAAAAAAAASUAAAAAAAIBJQAAAAAAAAEpAAAAAAACASkAAAAAAAABLQAAAAAAAgEtAAAAAAAAATEAAAAAAAIBMQAAAAAAAAE1AAAAAAACATUAAAAAAAABOQA==",
          "dtype": "f8"
         },
         "xaxis": "x",
         "y": {
          "bdata": "ZXomZfi4GcCKbHSc8TInwFVnyt91FivAXeqQ3MpALMB2lxK98ksvwF1T3SQdlDDAnQ6+Eak2McAjEiOhY9gwwKBxq8nJcjDAu0b8d4ZJMcANV2MHvSkywLWSWagkGTPA2wftLMhXM8DhKgVpaB40wACo8JqHRDPAa6OjXficNMAa/A57J780wIpqE2SgHTTAVQCbZHx5NMB6WnqBR2Q0wP4njeN3xTTAUcPRbccuNcAadXyUd6oywCfIEI1sMTXAgfDRY4qkMsApcW+uRdQ1wBCjCjyoeDXAGjUKv93rNMANcMzTlMUzwGCJxVCp6DTA0Cv0aDhTNcDE5ZHk1yQ2wNSY6EU0BzbAmIIDdPcnNsBKbLhO5Z41wGqr3txF6zTAjh9KTs33NcC6FC7Typg2wE+E+6mz4DbARRPTG2FlNsC4z9V50cc2wIoySJyPxjbAZl/5XdU9NsDesrbkYGI2wBtnrmQoRjXAHvxKtNW4NsCEBwmvbk03wBAdjV3yITHA6jpF9XznJcAGW6qdM70xwGpLrzWonTfANseV3aDiNsDEKXjS+BI3wP7CEg5W/jbAL1EOaK8GN8AXiTE2kvo1wFrLmB2/VDTA9B+nYzsBMMCb54+Jj9Q0wA==",
          "dtype": "f8"
         },
         "yaxis": "y"
        },
        {
         "hovertemplate": "Config=Top+Ears<br>State=EO<br>Frequency (Hz)=%{x}<br>Power (dB)=%{y}<extra></extra>",
         "legendgroup": "Top+Ears, EO",
         "line": {
          "color": "#EF553B",
          "dash": "dot"
         },
         "marker": {
          "symbol": "circle"
         },
         "mode": "lines",
         "name": "Top+Ears, EO",
         "orientation": "v",
         "showlegend": true,
         "type": "scatter",
         "x": {
          "bdata": "AAAAAAAAAEAAAAAAAAAIQAAAAAAAABBAAAAAAAAAFEAAAAAAAAAYQAAAAAAAABxAAAAAAAAAIEAAAAAAAAAiQAAAAAAAACRAAAAAAAAAJkAAAAAAAAAoQAAAAAAAACpAAAAAAAAALEAAAAAAAAAuQAAAAAAAADBAAAAAAAAAMUAAAAAAAAAyQAAAAAAAADNAAAAAAAAANEAAAAAAAAA1QAAAAAAAADZAAAAAAAAAN0AAAAAAAAA4QAAAAAAAADlAAAAAAAAAOkAAAAAAAAA7QAAAAAAAADxAAAAAAAAAPUAAAAAAAAA+QAAAAAAAAD9AAAAAAAAAQEAAAAAAAIBAQAAAAAAAAEFAAAAAAACAQUAAAAAAAABCQAAAAAAAgEJAAAAAAAAAQ0AAAAAAAIBDQAAAAAAAAERAAAAAAACAREAAAAAAAABFQAAAAAAAgEVAAAAAAAAARkAAAAAAAIBGQAAAAAAAAEdAAAAAAACAR0AAAAAAAABIQAAAAAAAgEhAAAAAAAAASUAAAAAAAIBJQAAAAAAAAEpAAAAAAACASkAAAAAAAABLQAAAAAAAgEtAAAAAAAAATEAAAAAAAIBMQAAAAAAAAE1AAAAAAACATUAAAAAAAABOQA==",
          "dtype": "f8"
         },
         "xaxis": "x",
         "y": {
          "bdata": "L8Fpt8v9GsA5Yg+JrkkmwDgf4icD1CrAMPyUYULeK8BuxDzlQwUvwEfSP+rvOjHAP5eHkZ5lMcAtrz3rLlQywN8/fcGeszLAXNPoiz8SMsCXHyWWDHQywCc/eCAxJzPAmRO3kxVoM8BMTIf+ABs0wIJMmHavMDPAYgZSQCCoNMCHht0Le7Y0wFVzT7TIWzTAHmVx/iFONMCsv+LLIEI0wBhCJyv5IjTA0cWBdGBdNMBgOUVeJloywH/bIm932DTAjIxXum9MMsD2/VS4xIQ1wNH98CGg1zXA9gUA1LlENcC9Oth0u50zwGZEL1T3sDTAjReXXiydNcBGtZbfFEY2wADwZh9D8jXAGACY+KIjNsA/O3cYd+s0wJggpX+N7zTA4piSEI8kNsD6srngPmY2wNDL0D1SWTbA1tSCvdkuNsBUvjiK8dg2wKp1kIX+bzbAru0pcv9cNsBYvszx3Dw3wISxBxkQMDXAArqAKyJ0NsDErSwI6Ag2wIE1f3NGPTDA2D9nnmEiJcDN0iP9vXExwOtRE1jSPDfAbnYa7h1mNsD/Drxm3xQ3wFTIiGZ5AjfAAcg59ULWNsBS22SRq+k1wIMG06+q4zPAIpfJ8bccL8BLYpZmqW80wA==",
          "dtype": "f8"
         },
         "yaxis": "y"
        }
       ],
       "layout": {
        "legend": {
         "title": {
          "text": "Config, State"
         },
         "tracegroupgap": 0
        },
        "template": {
         "data": {
          "bar": [
           {
            "error_x": {
             "color": "#2a3f5f"
            },
            "error_y": {
             "color": "#2a3f5f"
            },
            "marker": {
             "line": {
              "color": "#E5ECF6",
              "width": 0.5
             },
             "pattern": {
              "fillmode": "overlay",
              "size": 10,
              "solidity": 0.2
             }
            },
            "type": "bar"
           }
          ],
          "barpolar": [
           {
            "marker": {
             "line": {
              "color": "#E5ECF6",
              "width": 0.5
             },
             "pattern": {
              "fillmode": "overlay",
              "size": 10,
              "solidity": 0.2
             }
            },
            "type": "barpolar"
           }
          ],
          "carpet": [
           {
            "aaxis": {
             "endlinecolor": "#2a3f5f",
             "gridcolor": "white",
             "linecolor": "white",
             "minorgridcolor": "white",
             "startlinecolor": "#2a3f5f"
            },
            "baxis": {
             "endlinecolor": "#2a3f5f",
             "gridcolor": "white",
             "linecolor": "white",
             "minorgridcolor": "white",
             "startlinecolor": "#2a3f5f"
            },
            "type": "carpet"
           }
          ],
          "choropleth": [
           {
            "colorbar": {
             "outlinewidth": 0,
             "ticks": ""
            },
            "type": "choropleth"
           }
          ],
          "contour": [
           {
            "colorbar": {
             "outlinewidth": 0,
             "ticks": ""
            },
            "colorscale": [
             [
              0,
              "#0d0887"
             ],
             [
              0.1111111111111111,
              "#46039f"
             ],
             [
              0.2222222222222222,
              "#7201a8"
             ],
             [
              0.3333333333333333,
              "#9c179e"
             ],
             [
              0.4444444444444444,
              "#bd3786"
             ],
             [
              0.5555555555555556,
              "#d8576b"
             ],
             [
              0.6666666666666666,
              "#ed7953"
             ],
             [
              0.7777777777777778,
              "#fb9f3a"
             ],
             [
              0.8888888888888888,
              "#fdca26"
             ],
             [
              1,
              "#f0f921"
             ]
            ],
            "type": "contour"
           }
          ],
          "contourcarpet": [
           {
            "colorbar": {
             "outlinewidth": 0,
             "ticks": ""
            },
            "type": "contourcarpet"
           }
          ],
          "heatmap": [
           {
            "colorbar": {
             "outlinewidth": 0,
             "ticks": ""
            },
            "colorscale": [
             [
              0,
              "#0d0887"
             ],
             [
              0.1111111111111111,
              "#46039f"
             ],
             [
              0.2222222222222222,
              "#7201a8"
             ],
             [
              0.3333333333333333,
              "#9c179e"
             ],
             [
              0.4444444444444444,
              "#bd3786"
             ],
             [
              0.5555555555555556,
              "#d8576b"
             ],
             [
              0.6666666666666666,
              "#ed7953"
             ],
             [
              0.7777777777777778,
              "#fb9f3a"
             ],
             [
              0.8888888888888888,
              "#fdca26"
             ],
             [
              1,
              "#f0f921"
             ]
            ],
            "type": "heatmap"
           }
          ],
          "histogram": [
           {
            "marker": {
             "pattern": {
              "fillmode": "overlay",
              "size": 10,
              "solidity": 0.2
             }
            },
            "type": "histogram"
           }
          ],
          "histogram2d": [
           {
            "colorbar": {
             "outlinewidth": 0,
             "ticks": ""
            },
            "colorscale": [
             [
              0,
              "#0d0887"
             ],
             [
              0.1111111111111111,
              "#46039f"
             ],
             [
              0.2222222222222222,
              "#7201a8"
             ],
             [
              0.3333333333333333,
              "#9c179e"
             ],
             [
              0.4444444444444444,
              "#bd3786"
             ],
             [
              0.5555555555555556,
              "#d8576b"
             ],
             [
              0.6666666666666666,
              "#ed7953"
             ],
             [
              0.7777777777777778,
              "#fb9f3a"
             ],
             [
              0.8888888888888888,
              "#fdca26"
             ],
             [
              1,
              "#f0f921"
             ]
            ],
            "type": "histogram2d"
           }
          ],
          "histogram2dcontour": [
           {
            "colorbar": {
             "outlinewidth": 0,
             "ticks": ""
            },
            "colorscale": [
             [
              0,
              "#0d0887"
             ],
             [
              0.1111111111111111,
              "#46039f"
             ],
             [
              0.2222222222222222,
              "#7201a8"
             ],
             [
              0.3333333333333333,
              "#9c179e"
             ],
             [
              0.4444444444444444,
              "#bd3786"
             ],
             [
              0.5555555555555556,
              "#d8576b"
             ],
             [
              0.6666666666666666,
              "#ed7953"
             ],
             [
              0.7777777777777778,
              "#fb9f3a"
             ],
             [
              0.8888888888888888,
              "#fdca26"
             ],
             [
              1,
              "#f0f921"
             ]
            ],
            "type": "histogram2dcontour"
           }
          ],
          "mesh3d": [
           {
            "colorbar": {
             "outlinewidth": 0,
             "ticks": ""
            },
            "type": "mesh3d"
           }
          ],
          "parcoords": [
           {
            "line": {
             "colorbar": {
              "outlinewidth": 0,
              "ticks": ""
             }
            },
            "type": "parcoords"
           }
          ],
          "pie": [
           {
            "automargin": true,
            "type": "pie"
           }
          ],
          "scatter": [
           {
            "fillpattern": {
             "fillmode": "overlay",
             "size": 10,
             "solidity": 0.2
            },
            "type": "scatter"
           }
          ],
          "scatter3d": [
           {
            "line": {
             "colorbar": {
              "outlinewidth": 0,
              "ticks": ""
             }
            },
            "marker": {
             "colorbar": {
              "outlinewidth": 0,
              "ticks": ""
             }
            },
            "type": "scatter3d"
           }
          ],
          "scattercarpet": [
           {
            "marker": {
             "colorbar": {
              "outlinewidth": 0,
              "ticks": ""
             }
            },
            "type": "scattercarpet"
           }
          ],
          "scattergeo": [
           {
            "marker": {
             "colorbar": {
              "outlinewidth": 0,
              "ticks": ""
             }
            },
            "type": "scattergeo"
           }
          ],
          "scattergl": [
           {
            "marker": {
             "colorbar": {
              "outlinewidth": 0,
              "ticks": ""
             }
            },
            "type": "scattergl"
           }
          ],
          "scattermap": [
           {
            "marker": {
             "colorbar": {
              "outlinewidth": 0,
              "ticks": ""
             }
            },
            "type": "scattermap"
           }
          ],
          "scattermapbox": [
           {
            "marker": {
             "colorbar": {
              "outlinewidth": 0,
              "ticks": ""
             }
            },
            "type": "scattermapbox"
           }
          ],
          "scatterpolar": [
           {
            "marker": {
             "colorbar": {
              "outlinewidth": 0,
              "ticks": ""
             }
            },
            "type": "scatterpolar"
           }
          ],
          "scatterpolargl": [
           {
            "marker": {
             "colorbar": {
              "outlinewidth": 0,
              "ticks": ""
             }
            },
            "type": "scatterpolargl"
           }
          ],
          "scatterternary": [
           {
            "marker": {
             "colorbar": {
              "outlinewidth": 0,
              "ticks": ""
             }
            },
            "type": "scatterternary"
           }
          ],
          "surface": [
           {
            "colorbar": {
             "outlinewidth": 0,
             "ticks": ""
            },
            "colorscale": [
             [
              0,
              "#0d0887"
             ],
             [
              0.1111111111111111,
              "#46039f"
             ],
             [
              0.2222222222222222,
              "#7201a8"
             ],
             [
              0.3333333333333333,
              "#9c179e"
             ],
             [
              0.4444444444444444,
              "#bd3786"
             ],
             [
              0.5555555555555556,
              "#d8576b"
             ],
             [
              0.6666666666666666,
              "#ed7953"
             ],
             [
              0.7777777777777778,
              "#fb9f3a"
             ],
             [
              0.8888888888888888,
              "#fdca26"
             ],
             [
              1,
              "#f0f921"
             ]
            ],
            "type": "surface"
           }
          ],
          "table": [
           {
            "cells": {
             "fill": {
              "color": "#EBF0F8"
             },
             "line": {
              "color": "white"
             }
            },
            "header": {
             "fill": {
              "color": "#C8D4E3"
             },
             "line": {
              "color": "white"
             }
            },
            "type": "table"
           }
          ]
         },
         "layout": {
          "annotationdefaults": {
           "arrowcolor": "#2a3f5f",
           "arrowhead": 0,
           "arrowwidth": 1
          },
          "autotypenumbers": "strict",
          "coloraxis": {
           "colorbar": {
            "outlinewidth": 0,
            "ticks": ""
           }
          },
          "colorscale": {
           "diverging": [
            [
             0,
             "#8e0152"
            ],
            [
             0.1,
             "#c51b7d"
            ],
            [
             0.2,
             "#de77ae"
            ],
            [
             0.3,
             "#f1b6da"
            ],
            [
             0.4,
             "#fde0ef"
            ],
            [
             0.5,
             "#f7f7f7"
            ],
            [
             0.6,
             "#e6f5d0"
            ],
            [
             0.7,
             "#b8e186"
            ],
            [
             0.8,
             "#7fbc41"
            ],
            [
             0.9,
             "#4d9221"
            ],
            [
             1,
             "#276419"
            ]
           ],
           "sequential": [
            [
             0,
             "#0d0887"
            ],
            [
             0.1111111111111111,
             "#46039f"
            ],
            [
             0.2222222222222222,
             "#7201a8"
            ],
            [
             0.3333333333333333,
             "#9c179e"
            ],
            [
             0.4444444444444444,
             "#bd3786"
            ],
            [
             0.5555555555555556,
             "#d8576b"
            ],
            [
             0.6666666666666666,
             "#ed7953"
            ],
            [
             0.7777777777777778,
             "#fb9f3a"
            ],
            [
             0.8888888888888888,
             "#fdca26"
            ],
            [
             1,
             "#f0f921"
            ]
           ],
           "sequentialminus": [
            [
             0,
             "#0d0887"
            ],
            [
             0.1111111111111111,
             "#46039f"
            ],
            [
             0.2222222222222222,
             "#7201a8"
            ],
            [
             0.3333333333333333,
             "#9c179e"
            ],
            [
             0.4444444444444444,
             "#bd3786"
            ],
            [
             0.5555555555555556,
             "#d8576b"
            ],
            [
             0.6666666666666666,
             "#ed7953"
            ],
            [
             0.7777777777777778,
             "#fb9f3a"
            ],
            [
             0.8888888888888888,
             "#fdca26"
            ],
            [
             1,
             "#f0f921"
            ]
           ]
          },
          "colorway": [
           "#636efa",
           "#EF553B",
           "#00cc96",
           "#ab63fa",
           "#FFA15A",
           "#19d3f3",
           "#FF6692",
           "#B6E880",
           "#FF97FF",
           "#FECB52"
          ],
          "font": {
           "color": "#2a3f5f"
          },
          "geo": {
           "bgcolor": "white",
           "lakecolor": "white",
           "landcolor": "#E5ECF6",
           "showlakes": true,
           "showland": true,
           "subunitcolor": "white"
          },
          "hoverlabel": {
           "align": "left"
          },
          "hovermode": "closest",
          "mapbox": {
           "style": "light"
          },
          "paper_bgcolor": "white",
          "plot_bgcolor": "#E5ECF6",
          "polar": {
           "angularaxis": {
            "gridcolor": "white",
            "linecolor": "white",
            "ticks": ""
           },
           "bgcolor": "#E5ECF6",
           "radialaxis": {
            "gridcolor": "white",
            "linecolor": "white",
            "ticks": ""
           }
          },
          "scene": {
           "xaxis": {
            "backgroundcolor": "#E5ECF6",
            "gridcolor": "white",
            "gridwidth": 2,
            "linecolor": "white",
            "showbackground": true,
            "ticks": "",
            "zerolinecolor": "white"
           },
           "yaxis": {
            "backgroundcolor": "#E5ECF6",
            "gridcolor": "white",
            "gridwidth": 2,
            "linecolor": "white",
            "showbackground": true,
            "ticks": "",
            "zerolinecolor": "white"
           },
           "zaxis": {
            "backgroundcolor": "#E5ECF6",
            "gridcolor": "white",
            "gridwidth": 2,
            "linecolor": "white",
            "showbackground": true,
            "ticks": "",
            "zerolinecolor": "white"
           }
          },
          "shapedefaults": {
           "line": {
            "color": "#2a3f5f"
           }
          },
          "ternary": {
           "aaxis": {
            "gridcolor": "white",
            "linecolor": "white",
            "ticks": ""
           },
           "baxis": {
            "gridcolor": "white",
            "linecolor": "white",
            "ticks": ""
           },
           "bgcolor": "#E5ECF6",
           "caxis": {
            "gridcolor": "white",
            "linecolor": "white",
            "ticks": ""
           }
          },
          "title": {
           "x": 0.05
          },
          "xaxis": {
           "automargin": true,
           "gridcolor": "white",
           "linecolor": "white",
           "ticks": "",
           "title": {
            "standoff": 15
           },
           "zerolinecolor": "white",
           "zerolinewidth": 2
          },
          "yaxis": {
           "automargin": true,
           "gridcolor": "white",
           "linecolor": "white",
           "ticks": "",
           "title": {
            "standoff": 15
           },
           "zerolinecolor": "white",
           "zerolinewidth": 2
          }
         }
        },
        "title": {
         "text": "Average PSDs (Run 1) in dB: EC vs EO per configuration"
        },
        "xaxis": {
         "anchor": "y",
         "domain": [
          0,
          1
         ],
         "range": [
          2,
          30
         ],
         "title": {
          "text": "Frequency (Hz)"
         }
        },
        "yaxis": {
         "anchor": "x",
         "domain": [
          0,
          1
         ],
         "showgrid": true,
         "title": {
          "text": "Power (dB)"
         }
        }
       }
      }
     },
     "metadata": {},
     "output_type": "display_data"
    },
    {
     "data": {
      "application/vnd.plotly.v1+json": {
       "config": {
        "plotlyServerURL": "https://plot.ly"
       },
       "data": [
        {
         "cliponaxis": false,
         "hovertemplate": "Config=%{x}<br>Alpha band area (dB, EC - EO)=%{y}<br>Text=%{text}<extra></extra>",
         "legendgroup": "",
         "marker": {
          "color": "#636efa",
          "pattern": {
           "shape": ""
          }
         },
         "name": "",
         "orientation": "v",
         "showlegend": false,
         "text": [
          "4.50",
          "4.93"
         ],
         "textposition": "outside",
         "type": "bar",
         "x": [
          "Ear Only",
          "Top+Ears"
         ],
         "xaxis": "x",
         "y": {
          "bdata": "YOCUDHsBEkAAbDuCp7gTQA==",
          "dtype": "f8"
         },
         "yaxis": "y"
        }
       ],
       "layout": {
        "barmode": "relative",
        "legend": {
         "tracegroupgap": 0
        },
        "template": {
         "data": {
          "bar": [
           {
            "error_x": {
             "color": "#2a3f5f"
            },
            "error_y": {
             "color": "#2a3f5f"
            },
            "marker": {
             "line": {
              "color": "#E5ECF6",
              "width": 0.5
             },
             "pattern": {
              "fillmode": "overlay",
              "size": 10,
              "solidity": 0.2
             }
            },
            "type": "bar"
           }
          ],
          "barpolar": [
           {
            "marker": {
             "line": {
              "color": "#E5ECF6",
              "width": 0.5
             },
             "pattern": {
              "fillmode": "overlay",
              "size": 10,
              "solidity": 0.2
             }
            },
            "type": "barpolar"
           }
          ],
          "carpet": [
           {
            "aaxis": {
             "endlinecolor": "#2a3f5f",
             "gridcolor": "white",
             "linecolor": "white",
             "minorgridcolor": "white",
             "startlinecolor": "#2a3f5f"
            },
            "baxis": {
             "endlinecolor": "#2a3f5f",
             "gridcolor": "white",
             "linecolor": "white",
             "minorgridcolor": "white",
             "startlinecolor": "#2a3f5f"
            },
            "type": "carpet"
           }
          ],
          "choropleth": [
           {
            "colorbar": {
             "outlinewidth": 0,
             "ticks": ""
            },
            "type": "choropleth"
           }
          ],
          "contour": [
           {
            "colorbar": {
             "outlinewidth": 0,
             "ticks": ""
            },
            "colorscale": [
             [
              0,
              "#0d0887"
             ],
             [
              0.1111111111111111,
              "#46039f"
             ],
             [
              0.2222222222222222,
              "#7201a8"
             ],
             [
              0.3333333333333333,
              "#9c179e"
             ],
             [
              0.4444444444444444,
              "#bd3786"
             ],
             [
              0.5555555555555556,
              "#d8576b"
             ],
             [
              0.6666666666666666,
              "#ed7953"
             ],
             [
              0.7777777777777778,
              "#fb9f3a"
             ],
             [
              0.8888888888888888,
              "#fdca26"
             ],
             [
              1,
              "#f0f921"
             ]
            ],
            "type": "contour"
           }
          ],
          "contourcarpet": [
           {
            "colorbar": {
             "outlinewidth": 0,
             "ticks": ""
            },
            "type": "contourcarpet"
           }
          ],
          "heatmap": [
           {
            "colorbar": {
             "outlinewidth": 0,
             "ticks": ""
            },
            "colorscale": [
             [
              0,
              "#0d0887"
             ],
             [
              0.1111111111111111,
              "#46039f"
             ],
             [
              0.2222222222222222,
              "#7201a8"
             ],
             [
              0.3333333333333333,
              "#9c179e"
             ],
             [
              0.4444444444444444,
              "#bd3786"
             ],
             [
              0.5555555555555556,
              "#d8576b"
             ],
             [
              0.6666666666666666,
              "#ed7953"
             ],
             [
              0.7777777777777778,
              "#fb9f3a"
             ],
             [
              0.8888888888888888,
              "#fdca26"
             ],
             [
              1,
              "#f0f921"
             ]
            ],
            "type": "heatmap"
           }
          ],
          "histogram": [
           {
            "marker": {
             "pattern": {
              "fillmode": "overlay",
              "size": 10,
              "solidity": 0.2
             }
            },
            "type": "histogram"
           }
          ],
          "histogram2d": [
           {
            "colorbar": {
             "outlinewidth": 0,
             "ticks": ""
            },
            "colorscale": [
             [
              0,
              "#0d0887"
             ],
             [
              0.1111111111111111,
              "#46039f"
             ],
             [
              0.2222222222222222,
              "#7201a8"
             ],
             [
              0.3333333333333333,
              "#9c179e"
             ],
             [
              0.4444444444444444,
              "#bd3786"
             ],
             [
              0.5555555555555556,
              "#d8576b"
             ],
             [
              0.6666666666666666,
              "#ed7953"
             ],
             [
              0.7777777777777778,
              "#fb9f3a"
             ],
             [
              0.8888888888888888,
              "#fdca26"
             ],
             [
              1,
              "#f0f921"
             ]
            ],
            "type": "histogram2d"
           }
          ],
          "histogram2dcontour": [
           {
            "colorbar": {
             "outlinewidth": 0,
             "ticks": ""
            },
            "colorscale": [
             [
              0,
              "#0d0887"
             ],
             [
              0.1111111111111111,
              "#46039f"
             ],
             [
              0.2222222222222222,
              "#7201a8"
             ],
             [
              0.3333333333333333,
              "#9c179e"
             ],
             [
              0.4444444444444444,
              "#bd3786"
             ],
             [
              0.5555555555555556,
              "#d8576b"
             ],
             [
              0.6666666666666666,
              "#ed7953"
             ],
             [
              0.7777777777777778,
              "#fb9f3a"
             ],
             [
              0.8888888888888888,
              "#fdca26"
             ],
             [
              1,
              "#f0f921"
             ]
            ],
            "type": "histogram2dcontour"
           }
          ],
          "mesh3d": [
           {
            "colorbar": {
             "outlinewidth": 0,
             "ticks": ""
            },
            "type": "mesh3d"
           }
          ],
          "parcoords": [
           {
            "line": {
             "colorbar": {
              "outlinewidth": 0,
              "ticks": ""
             }
            },
            "type": "parcoords"
           }
          ],
          "pie": [
           {
            "automargin": true,
            "type": "pie"
           }
          ],
          "scatter": [
           {
            "fillpattern": {
             "fillmode": "overlay",
             "size": 10,
             "solidity": 0.2
            },
            "type": "scatter"
           }
          ],
          "scatter3d": [
           {
            "line": {
             "colorbar": {
              "outlinewidth": 0,
              "ticks": ""
             }
            },
            "marker": {
             "colorbar": {
              "outlinewidth": 0,
              "ticks": ""
             }
            },
            "type": "scatter3d"
           }
          ],
          "scattercarpet": [
           {
            "marker": {
             "colorbar": {
              "outlinewidth": 0,
              "ticks": ""
             }
            },
            "type": "scattercarpet"
           }
          ],
          "scattergeo": [
           {
            "marker": {
             "colorbar": {
              "outlinewidth": 0,
              "ticks": ""
             }
            },
            "type": "scattergeo"
           }
          ],
          "scattergl": [
           {
            "marker": {
             "colorbar": {
              "outlinewidth": 0,
              "ticks": ""
             }
            },
            "type": "scattergl"
           }
          ],
          "scattermap": [
           {
            "marker": {
             "colorbar": {
              "outlinewidth": 0,
              "ticks": ""
             }
            },
            "type": "scattermap"
           }
          ],
          "scattermapbox": [
           {
            "marker": {
             "colorbar": {
              "outlinewidth": 0,
              "ticks": ""
             }
            },
            "type": "scattermapbox"
           }
          ],
          "scatterpolar": [
           {
            "marker": {
             "colorbar": {
              "outlinewidth": 0,
              "ticks": ""
             }
            },
            "type": "scatterpolar"
           }
          ],
          "scatterpolargl": [
           {
            "marker": {
             "colorbar": {
              "outlinewidth": 0,
              "ticks": ""
             }
            },
            "type": "scatterpolargl"
           }
          ],
          "scatterternary": [
           {
            "marker": {
             "colorbar": {
              "outlinewidth": 0,
              "ticks": ""
             }
            },
            "type": "scatterternary"
           }
          ],
          "surface": [
           {
            "colorbar": {
             "outlinewidth": 0,
             "ticks": ""
            },
            "colorscale": [
             [
              0,
              "#0d0887"
             ],
             [
              0.1111111111111111,
              "#46039f"
             ],
             [
              0.2222222222222222,
              "#7201a8"
             ],
             [
              0.3333333333333333,
              "#9c179e"
             ],
             [
              0.4444444444444444,
              "#bd3786"
             ],
             [
              0.5555555555555556,
              "#d8576b"
             ],
             [
              0.6666666666666666,
              "#ed7953"
             ],
             [
              0.7777777777777778,
              "#fb9f3a"
             ],
             [
              0.8888888888888888,
              "#fdca26"
             ],
             [
              1,
              "#f0f921"
             ]
            ],
            "type": "surface"
           }
          ],
          "table": [
           {
            "cells": {
             "fill": {
              "color": "#EBF0F8"
             },
             "line": {
              "color": "white"
             }
            },
            "header": {
             "fill": {
              "color": "#C8D4E3"
             },
             "line": {
              "color": "white"
             }
            },
            "type": "table"
           }
          ]
         },
         "layout": {
          "annotationdefaults": {
           "arrowcolor": "#2a3f5f",
           "arrowhead": 0,
           "arrowwidth": 1
          },
          "autotypenumbers": "strict",
          "coloraxis": {
           "colorbar": {
            "outlinewidth": 0,
            "ticks": ""
           }
          },
          "colorscale": {
           "diverging": [
            [
             0,
             "#8e0152"
            ],
            [
             0.1,
             "#c51b7d"
            ],
            [
             0.2,
             "#de77ae"
            ],
            [
             0.3,
             "#f1b6da"
            ],
            [
             0.4,
             "#fde0ef"
            ],
            [
             0.5,
             "#f7f7f7"
            ],
            [
             0.6,
             "#e6f5d0"
            ],
            [
             0.7,
             "#b8e186"
            ],
            [
             0.8,
             "#7fbc41"
            ],
            [
             0.9,
             "#4d9221"
            ],
            [
             1,
             "#276419"
            ]
           ],
           "sequential": [
            [
             0,
             "#0d0887"
            ],
            [
             0.1111111111111111,
             "#46039f"
            ],
            [
             0.2222222222222222,
             "#7201a8"
            ],
            [
             0.3333333333333333,
             "#9c179e"
            ],
            [
             0.4444444444444444,
             "#bd3786"
            ],
            [
             0.5555555555555556,
             "#d8576b"
            ],
            [
             0.6666666666666666,
             "#ed7953"
            ],
            [
             0.7777777777777778,
             "#fb9f3a"
            ],
            [
             0.8888888888888888,
             "#fdca26"
            ],
            [
             1,
             "#f0f921"
            ]
           ],
           "sequentialminus": [
            [
             0,
             "#0d0887"
            ],
            [
             0.1111111111111111,
             "#46039f"
            ],
            [
             0.2222222222222222,
             "#7201a8"
            ],
            [
             0.3333333333333333,
             "#9c179e"
            ],
            [
             0.4444444444444444,
             "#bd3786"
            ],
            [
             0.5555555555555556,
             "#d8576b"
            ],
            [
             0.6666666666666666,
             "#ed7953"
            ],
            [
             0.7777777777777778,
             "#fb9f3a"
            ],
            [
             0.8888888888888888,
             "#fdca26"
            ],
            [
             1,
             "#f0f921"
            ]
           ]
          },
          "colorway": [
           "#636efa",
           "#EF553B",
           "#00cc96",
           "#ab63fa",
           "#FFA15A",
           "#19d3f3",
           "#FF6692",
           "#B6E880",
           "#FF97FF",
           "#FECB52"
          ],
          "font": {
           "color": "#2a3f5f"
          },
          "geo": {
           "bgcolor": "white",
           "lakecolor": "white",
           "landcolor": "#E5ECF6",
           "showlakes": true,
           "showland": true,
           "subunitcolor": "white"
          },
          "hoverlabel": {
           "align": "left"
          },
          "hovermode": "closest",
          "mapbox": {
           "style": "light"
          },
          "paper_bgcolor": "white",
          "plot_bgcolor": "#E5ECF6",
          "polar": {
           "angularaxis": {
            "gridcolor": "white",
            "linecolor": "white",
            "ticks": ""
           },
           "bgcolor": "#E5ECF6",
           "radialaxis": {
            "gridcolor": "white",
            "linecolor": "white",
            "ticks": ""
           }
          },
          "scene": {
           "xaxis": {
            "backgroundcolor": "#E5ECF6",
            "gridcolor": "white",
            "gridwidth": 2,
            "linecolor": "white",
            "showbackground": true,
            "ticks": "",
            "zerolinecolor": "white"
           },
           "yaxis": {
            "backgroundcolor": "#E5ECF6",
            "gridcolor": "white",
            "gridwidth": 2,
            "linecolor": "white",
            "showbackground": true,
            "ticks": "",
            "zerolinecolor": "white"
           },
           "zaxis": {
            "backgroundcolor": "#E5ECF6",
            "gridcolor": "white",
            "gridwidth": 2,
            "linecolor": "white",
            "showbackground": true,
            "ticks": "",
            "zerolinecolor": "white"
           }
          },
          "shapedefaults": {
           "line": {
            "color": "#2a3f5f"
           }
          },
          "ternary": {
           "aaxis": {
            "gridcolor": "white",
            "linecolor": "white",
            "ticks": ""
           },
           "baxis": {
            "gridcolor": "white",
            "linecolor": "white",
            "ticks": ""
           },
           "bgcolor": "#E5ECF6",
           "caxis": {
            "gridcolor": "white",
            "linecolor": "white",
            "ticks": ""
           }
          },
          "title": {
           "x": 0.05
          },
          "xaxis": {
           "automargin": true,
           "gridcolor": "white",
           "linecolor": "white",
           "ticks": "",
           "title": {
            "standoff": 15
           },
           "zerolinecolor": "white",
           "zerolinewidth": 2
          },
          "yaxis": {
           "automargin": true,
           "gridcolor": "white",
           "linecolor": "white",
           "ticks": "",
           "title": {
            "standoff": 15
           },
           "zerolinecolor": "white",
           "zerolinewidth": 2
          }
         }
        },
        "title": {
         "text": "Berger effect magnitude (dB)"
        },
        "xaxis": {
         "anchor": "y",
         "domain": [
          0,
          1
         ],
         "title": {
          "text": "Config"
         }
        },
        "yaxis": {
         "anchor": "x",
         "domain": [
          0,
          1
         ],
         "showgrid": true,
         "title": {
          "text": "Alpha band area (dB, EC - EO)"
         }
        }
       }
      }
     },
     "metadata": {},
     "output_type": "display_data"
    },
    {
     "data": {
      "application/vnd.plotly.v1+json": {
       "config": {
        "plotlyServerURL": "https://plot.ly"
       },
       "data": [
        {
         "cliponaxis": false,
         "hovertemplate": "Config=%{x}<br>Δ Relative alpha power (EC - EO)=%{y}<br>Text=%{text}<extra></extra>",
         "legendgroup": "",
         "marker": {
          "color": "#636efa",
          "pattern": {
           "shape": ""
          }
         },
         "name": "",
         "orientation": "v",
         "showlegend": false,
         "text": [
          "0.0299",
          "0.0230"
         ],
         "textposition": "outside",
         "type": "bar",
         "x": [
          "Ear Only",
          "Top+Ears"
         ],
         "xaxis": "x",
         "y": {
          "bdata": "RPszdYCbnj/cF65/OJeXPw==",
          "dtype": "f8"
         },
         "yaxis": "y"
        }
       ],
       "layout": {
        "barmode": "relative",
        "legend": {
         "tracegroupgap": 0
        },
        "template": {
         "data": {
          "bar": [
           {
            "error_x": {
             "color": "#2a3f5f"
            },
            "error_y": {
             "color": "#2a3f5f"
            },
            "marker": {
             "line": {
              "color": "#E5ECF6",
              "width": 0.5
             },
             "pattern": {
              "fillmode": "overlay",
              "size": 10,
              "solidity": 0.2
             }
            },
            "type": "bar"
           }
          ],
          "barpolar": [
           {
            "marker": {
             "line": {
              "color": "#E5ECF6",
              "width": 0.5
             },
             "pattern": {
              "fillmode": "overlay",
              "size": 10,
              "solidity": 0.2
             }
            },
            "type": "barpolar"
           }
          ],
          "carpet": [
           {
            "aaxis": {
             "endlinecolor": "#2a3f5f",
             "gridcolor": "white",
             "linecolor": "white",
             "minorgridcolor": "white",
             "startlinecolor": "#2a3f5f"
            },
            "baxis": {
             "endlinecolor": "#2a3f5f",
             "gridcolor": "white",
             "linecolor": "white",
             "minorgridcolor": "white",
             "startlinecolor": "#2a3f5f"
            },
            "type": "carpet"
           }
          ],
          "choropleth": [
           {
            "colorbar": {
             "outlinewidth": 0,
             "ticks": ""
            },
            "type": "choropleth"
           }
          ],
          "contour": [
           {
            "colorbar": {
             "outlinewidth": 0,
             "ticks": ""
            },
            "colorscale": [
             [
              0,
              "#0d0887"
             ],
             [
              0.1111111111111111,
              "#46039f"
             ],
             [
              0.2222222222222222,
              "#7201a8"
             ],
             [
              0.3333333333333333,
              "#9c179e"
             ],
             [
              0.4444444444444444,
              "#bd3786"
             ],
             [
              0.5555555555555556,
              "#d8576b"
             ],
             [
              0.6666666666666666,
              "#ed7953"
             ],
             [
              0.7777777777777778,
              "#fb9f3a"
             ],
             [
              0.8888888888888888,
              "#fdca26"
             ],
             [
              1,
              "#f0f921"
             ]
            ],
            "type": "contour"
           }
          ],
          "contourcarpet": [
           {
            "colorbar": {
             "outlinewidth": 0,
             "ticks": ""
            },
            "type": "contourcarpet"
           }
          ],
          "heatmap": [
           {
            "colorbar": {
             "outlinewidth": 0,
             "ticks": ""
            },
            "colorscale": [
             [
              0,
              "#0d0887"
             ],
             [
              0.1111111111111111,
              "#46039f"
             ],
             [
              0.2222222222222222,
              "#7201a8"
             ],
             [
              0.3333333333333333,
              "#9c179e"
             ],
             [
              0.4444444444444444,
              "#bd3786"
             ],
             [
              0.5555555555555556,
              "#d8576b"
             ],
             [
              0.6666666666666666,
              "#ed7953"
             ],
             [
              0.7777777777777778,
              "#fb9f3a"
             ],
             [
              0.8888888888888888,
              "#fdca26"
             ],
             [
              1,
              "#f0f921"
             ]
            ],
            "type": "heatmap"
           }
          ],
          "histogram": [
           {
            "marker": {
             "pattern": {
              "fillmode": "overlay",
              "size": 10,
              "solidity": 0.2
             }
            },
            "type": "histogram"
           }
          ],
          "histogram2d": [
           {
            "colorbar": {
             "outlinewidth": 0,
             "ticks": ""
            },
            "colorscale": [
             [
              0,
              "#0d0887"
             ],
             [
              0.1111111111111111,
              "#46039f"
             ],
             [
              0.2222222222222222,
              "#7201a8"
             ],
             [
              0.3333333333333333,
              "#9c179e"
             ],
             [
              0.4444444444444444,
              "#bd3786"
             ],
             [
              0.5555555555555556,
              "#d8576b"
             ],
             [
              0.6666666666666666,
              "#ed7953"
             ],
             [
              0.7777777777777778,
              "#fb9f3a"
             ],
             [
              0.8888888888888888,
              "#fdca26"
             ],
             [
              1,
              "#f0f921"
             ]
            ],
            "type": "histogram2d"
           }
          ],
          "histogram2dcontour": [
           {
            "colorbar": {
             "outlinewidth": 0,
             "ticks": ""
            },
            "colorscale": [
             [
              0,
              "#0d0887"
             ],
             [
              0.1111111111111111,
              "#46039f"
             ],
             [
              0.2222222222222222,
              "#7201a8"
             ],
             [
              0.3333333333333333,
              "#9c179e"
             ],
             [
              0.4444444444444444,
              "#bd3786"
             ],
             [
              0.5555555555555556,
              "#d8576b"
             ],
             [
              0.6666666666666666,
              "#ed7953"
             ],
             [
              0.7777777777777778,
              "#fb9f3a"
             ],
             [
              0.8888888888888888,
              "#fdca26"
             ],
             [
              1,
              "#f0f921"
             ]
            ],
            "type": "histogram2dcontour"
           }
          ],
          "mesh3d": [
           {
            "colorbar": {
             "outlinewidth": 0,
             "ticks": ""
            },
            "type": "mesh3d"
           }
          ],
          "parcoords": [
           {
            "line": {
             "colorbar": {
              "outlinewidth": 0,
              "ticks": ""
             }
            },
            "type": "parcoords"
           }
          ],
          "pie": [
           {
            "automargin": true,
            "type": "pie"
           }
          ],
          "scatter": [
           {
            "fillpattern": {
             "fillmode": "overlay",
             "size": 10,
             "solidity": 0.2
            },
            "type": "scatter"
           }
          ],
          "scatter3d": [
           {
            "line": {
             "colorbar": {
              "outlinewidth": 0,
              "ticks": ""
             }
            },
            "marker": {
             "colorbar": {
              "outlinewidth": 0,
              "ticks": ""
             }
            },
            "type": "scatter3d"
           }
          ],
          "scattercarpet": [
           {
            "marker": {
             "colorbar": {
              "outlinewidth": 0,
              "ticks": ""
             }
            },
            "type": "scattercarpet"
           }
          ],
          "scattergeo": [
           {
            "marker": {
             "colorbar": {
              "outlinewidth": 0,
              "ticks": ""
             }
            },
            "type": "scattergeo"
           }
          ],
          "scattergl": [
           {
            "marker": {
             "colorbar": {
              "outlinewidth": 0,
              "ticks": ""
             }
            },
            "type": "scattergl"
           }
          ],
          "scattermap": [
           {
            "marker": {
             "colorbar": {
              "outlinewidth": 0,
              "ticks": ""
             }
            },
            "type": "scattermap"
           }
          ],
          "scattermapbox": [
           {
            "marker": {
             "colorbar": {
              "outlinewidth": 0,
              "ticks": ""
             }
            },
            "type": "scattermapbox"
           }
          ],
          "scatterpolar": [
           {
            "marker": {
             "colorbar": {
              "outlinewidth": 0,
              "ticks": ""
             }
            },
            "type": "scatterpolar"
           }
          ],
          "scatterpolargl": [
           {
            "marker": {
             "colorbar": {
              "outlinewidth": 0,
              "ticks": ""
             }
            },
            "type": "scatterpolargl"
           }
          ],
          "scatterternary": [
           {
            "marker": {
             "colorbar": {
              "outlinewidth": 0,
              "ticks": ""
             }
            },
            "type": "scatterternary"
           }
          ],
          "surface": [
           {
            "colorbar": {
             "outlinewidth": 0,
             "ticks": ""
            },
            "colorscale": [
             [
              0,
              "#0d0887"
             ],
             [
              0.1111111111111111,
              "#46039f"
             ],
             [
              0.2222222222222222,
              "#7201a8"
             ],
             [
              0.3333333333333333,
              "#9c179e"
             ],
             [
              0.4444444444444444,
              "#bd3786"
             ],
             [
              0.5555555555555556,
              "#d8576b"
             ],
             [
              0.6666666666666666,
              "#ed7953"
             ],
             [
              0.7777777777777778,
              "#fb9f3a"
             ],
             [
              0.8888888888888888,
              "#fdca26"
             ],
             [
              1,
              "#f0f921"
             ]
            ],
            "type": "surface"
           }
          ],
          "table": [
           {
            "cells": {
             "fill": {
              "color": "#EBF0F8"
             },
             "line": {
              "color": "white"
             }
            },
            "header": {
             "fill": {
              "color": "#C8D4E3"
             },
             "line": {
              "color": "white"
             }
            },
            "type": "table"
           }
          ]
         },
         "layout": {
          "annotationdefaults": {
           "arrowcolor": "#2a3f5f",
           "arrowhead": 0,
           "arrowwidth": 1
          },
          "autotypenumbers": "strict",
          "coloraxis": {
           "colorbar": {
            "outlinewidth": 0,
            "ticks": ""
           }
          },
          "colorscale": {
           "diverging": [
            [
             0,
             "#8e0152"
            ],
            [
             0.1,
             "#c51b7d"
            ],
            [
             0.2,
             "#de77ae"
            ],
            [
             0.3,
             "#f1b6da"
            ],
            [
             0.4,
             "#fde0ef"
            ],
            [
             0.5,
             "#f7f7f7"
            ],
            [
             0.6,
             "#e6f5d0"
            ],
            [
             0.7,
             "#b8e186"
            ],
            [
             0.8,
             "#7fbc41"
            ],
            [
             0.9,
             "#4d9221"
            ],
            [
             1,
             "#276419"
            ]
           ],
           "sequential": [
            [
             0,
             "#0d0887"
            ],
            [
             0.1111111111111111,
             "#46039f"
            ],
            [
             0.2222222222222222,
             "#7201a8"
            ],
            [
             0.3333333333333333,
             "#9c179e"
            ],
            [
             0.4444444444444444,
             "#bd3786"
            ],
            [
             0.5555555555555556,
             "#d8576b"
            ],
            [
             0.6666666666666666,
             "#ed7953"
            ],
            [
             0.7777777777777778,
             "#fb9f3a"
            ],
            [
             0.8888888888888888,
             "#fdca26"
            ],
            [
             1,
             "#f0f921"
            ]
           ],
           "sequentialminus": [
            [
             0,
             "#0d0887"
            ],
            [
             0.1111111111111111,
             "#46039f"
            ],
            [
             0.2222222222222222,
             "#7201a8"
            ],
            [
             0.3333333333333333,
             "#9c179e"
            ],
            [
             0.4444444444444444,
             "#bd3786"
            ],
            [
             0.5555555555555556,
             "#d8576b"
            ],
            [
             0.6666666666666666,
             "#ed7953"
            ],
            [
             0.7777777777777778,
             "#fb9f3a"
            ],
            [
             0.8888888888888888,
             "#fdca26"
            ],
            [
             1,
             "#f0f921"
            ]
           ]
          },
          "colorway": [
           "#636efa",
           "#EF553B",
           "#00cc96",
           "#ab63fa",
           "#FFA15A",
           "#19d3f3",
           "#FF6692",
           "#B6E880",
           "#FF97FF",
           "#FECB52"
          ],
          "font": {
           "color": "#2a3f5f"
          },
          "geo": {
           "bgcolor": "white",
           "lakecolor": "white",
           "landcolor": "#E5ECF6",
           "showlakes": true,
           "showland": true,
           "subunitcolor": "white"
          },
          "hoverlabel": {
           "align": "left"
          },
          "hovermode": "closest",
          "mapbox": {
           "style": "light"
          },
          "paper_bgcolor": "white",
          "plot_bgcolor": "#E5ECF6",
          "polar": {
           "angularaxis": {
            "gridcolor": "white",
            "linecolor": "white",
            "ticks": ""
           },
           "bgcolor": "#E5ECF6",
           "radialaxis": {
            "gridcolor": "white",
            "linecolor": "white",
            "ticks": ""
           }
          },
          "scene": {
           "xaxis": {
            "backgroundcolor": "#E5ECF6",
            "gridcolor": "white",
            "gridwidth": 2,
            "linecolor": "white",
            "showbackground": true,
            "ticks": "",
            "zerolinecolor": "white"
           },
           "yaxis": {
            "backgroundcolor": "#E5ECF6",
            "gridcolor": "white",
            "gridwidth": 2,
            "linecolor": "white",
            "showbackground": true,
            "ticks": "",
            "zerolinecolor": "white"
           },
           "zaxis": {
            "backgroundcolor": "#E5ECF6",
            "gridcolor": "white",
            "gridwidth": 2,
            "linecolor": "white",
            "showbackground": true,
            "ticks": "",
            "zerolinecolor": "white"
           }
          },
          "shapedefaults": {
           "line": {
            "color": "#2a3f5f"
           }
          },
          "ternary": {
           "aaxis": {
            "gridcolor": "white",
            "linecolor": "white",
            "ticks": ""
           },
           "baxis": {
            "gridcolor": "white",
            "linecolor": "white",
            "ticks": ""
           },
           "bgcolor": "#E5ECF6",
           "caxis": {
            "gridcolor": "white",
            "linecolor": "white",
            "ticks": ""
           }
          },
          "title": {
           "x": 0.05
          },
          "xaxis": {
           "automargin": true,
           "gridcolor": "white",
           "linecolor": "white",
           "ticks": "",
           "title": {
            "standoff": 15
           },
           "zerolinecolor": "white",
           "zerolinewidth": 2
          },
          "yaxis": {
           "automargin": true,
           "gridcolor": "white",
           "linecolor": "white",
           "ticks": "",
           "title": {
            "standoff": 15
           },
           "zerolinecolor": "white",
           "zerolinewidth": 2
          }
         }
        },
        "title": {
         "text": "Berger effect magnitude (relative power)"
        },
        "xaxis": {
         "anchor": "y",
         "domain": [
          0,
          1
         ],
         "title": {
          "text": "Config"
         }
        },
        "yaxis": {
         "anchor": "x",
         "domain": [
          0,
          1
         ],
         "showgrid": true,
         "title": {
          "text": "Δ Relative alpha power (EC - EO)"
         }
        }
       }
      }
     },
     "metadata": {},
     "output_type": "display_data"
    }
   ],
   "source": [
    "# Average PSDs in dB\n",
    "flows.plot_avg_psds_by_config_px(\n",
    "    ear_only_db, top_ears_db,\n",
    "    x_range=(2, 30),\n",
    "    y_label=\"Power (dB)\",\n",
    "    title=\"Average PSDs (Run 1) in dB: EC vs EO per configuration\"\n",
    ")\n",
    "\n",
    "# Berger effect (alpha area) in dB\n",
    "flows.plot_effect_bars_px(\n",
    "    {\"Ear Only\": eo_db, \"Top+Ears\": te_db},\n",
    "    y_label=\"Alpha band area (dB, EC - EO)\",\n",
    "    title=\"Berger effect magnitude (dB)\",\n",
    "    text_fmt=\"{:.2f}\"\n",
    ")\n",
    "\n",
    "# Berger effect (relative alpha power)\n",
    "flows.plot_effect_bars_px(\n",
    "    {\"Ear Only\": eo_rel, \"Top+Ears\": te_rel},\n",
    "    y_label=\"Δ Relative alpha power (EC - EO)\",\n",
    "    title=\"Berger effect magnitude (relative power)\",\n",
    "    text_fmt=\"{:.4f}\"\n",
    ")\n"
   ]
  },
  {
   "cell_type": "markdown",
   "metadata": {},
   "source": [
    "##### Interpretation: \n",
    "Okay we can see that intrestingly the absolut berger effect is more visible in the dry electrode setup (even when comparing only electrodes that are present in both setups).\n",
    "\n",
    "Even when looking at the effect in dB it is more visible in the dry electrodes.\\\n",
    "However, when we look at relative power, this is where we can see the effect more present in the wet electrodes."
   ]
  },
  {
   "cell_type": "markdown",
   "metadata": {},
   "source": [
    "___\n",
    "### ASSR Evaluation: \n",
    "We will now look into the Auditory Steady State Response. \n",
    "Here multiple things could be interesting: \n",
    "1) ASSR within subject over the three sessions: \n",
    "2) ASSR between subjects"
   ]
  },
  {
   "cell_type": "code",
   "execution_count": 15,
   "metadata": {},
   "outputs": [],
   "source": [
    "def avg_psd_second_half_scipy(dfc_cond: pd.DataFrame,\n",
    "                              channel: str,\n",
    "                              fs: float,\n",
    "                              fmin: float = 7.0,\n",
    "                              fmax: float = 100.0,\n",
    "                              win_s: float = 1.0):\n",
    "    \"\"\"Average PSD from non-overlapping 1-s windows taken from the *second half* of each contiguous segment.\"\"\"\n",
    "    dfc = (dfc_cond.loc[dfc_cond[\"Channel\"] == channel, [\"sample_idx\", \"mV\"]]\n",
    "                    .dropna().sort_values(\"sample_idx\").reset_index(drop=True))\n",
    "    if dfc.empty:\n",
    "        return None, 0\n",
    "\n",
    "    gaps = dfc[\"sample_idx\"].diff().fillna(1).ne(1).cumsum()  # contiguous segments\n",
    "    nfft = int(round(fs * win_s))\n",
    "    psd_list, n_win = [], 0\n",
    "\n",
    "    for _, seg in dfc.groupby(gaps):\n",
    "        x = seg[\"mV\"].to_numpy()\n",
    "        if x.size < nfft:\n",
    "            continue\n",
    "        x = x - np.mean(x)                 # detrend (constant)\n",
    "        half = x[x.size // 2:]             # keep second half\n",
    "        if half.size < nfft:\n",
    "            continue\n",
    "        n_full = half.size // nfft\n",
    "        half = half[: n_full * nfft]\n",
    "        wins = half.reshape(n_full, nfft)\n",
    "\n",
    "        # Welch with 1-s segments, no overlap; Hann taper\n",
    "        for w in wins:\n",
    "            w = (w - w.mean()) * np.hanning(nfft)\n",
    "            f, pxx = welch(w, fs=fs, nperseg=nfft, noverlap=0, window=\"hann\", scaling=\"density\")\n",
    "            sel = (f >= fmin) & (f <= fmax)\n",
    "            psd_list.append(pd.DataFrame({\"Hz\": f[sel], \"Power\": pxx[sel]}))\n",
    "        n_win += n_full\n",
    "\n",
    "    if not psd_list:\n",
    "        return None, 0\n",
    "\n",
    "    all_psd = pd.concat(psd_list, ignore_index=True)\n",
    "    avg_psd = all_psd.groupby(\"Hz\", as_index=False)[\"Power\"].mean()\n",
    "    return avg_psd, n_win\n",
    "\n",
    "def plot_avg_psd(avg_psd: pd.DataFrame, f0: float = 40.0, fmax: float = 100.0, title: str = \"\"):\n",
    "    fig = px.line(avg_psd, x=\"Hz\", y=\"Power\",\n",
    "                  labels={\"Hz\":\"Frequency (Hz)\", \"Power\":\"Power (PSD, density)\"},\n",
    "                  title=title)\n",
    "    fig.add_vline(x=float(f0), line_dash=\"dot\")\n",
    "    x_min = float(avg_psd[\"Hz\"].min()) if not avg_psd.empty else 0.0\n",
    "    fig.update_layout(xaxis=dict(range=[x_min, fmax]))\n",
    "    return fig\n",
    "\n",
    "def snr_around_f0(avg_psd: pd.DataFrame, f0: float = 40.0, bw: float = 1.0, flank: int = 3):\n",
    "    \"\"\"Local SNR in dB at f0 versus its surrounding bands.\"\"\"\n",
    "    pk = avg_psd[(avg_psd[\"Hz\"] >= f0 - bw/2) & (avg_psd[\"Hz\"] <= f0 + bw/2)][\"Power\"].mean()\n",
    "    nb = avg_psd[(avg_psd[\"Hz\"] >= f0 - flank*bw) & (avg_psd[\"Hz\"] <= f0 + flank*bw) &\n",
    "                 ~((avg_psd[\"Hz\"] >= f0 - bw/2) & (avg_psd[\"Hz\"] <= f0 + bw/2))][\"Power\"].mean()\n",
    "    if pd.isna(pk) or pd.isna(nb) or nb <= 0:\n",
    "        return np.nan\n",
    "    return 10*np.log10(pk/nb)\n"
   ]
  },
  {
   "cell_type": "code",
   "execution_count": 16,
   "metadata": {},
   "outputs": [
    {
     "name": "stdout",
     "output_type": "stream",
     "text": [
      "--- Pre-processing EEG\n",
      "Bad channel detection failed: module 'flows' has no attribute 'get_rms_bads'\n",
      "EEG channel type selected for re-referencing\n",
      "Applying average reference.\n",
      "Applying a custom ('EEG',) reference.\n"
     ]
    },
    {
     "name": "stderr",
     "output_type": "stream",
     "text": [
      "/Users/Sam/UNAM/neuro_headphone_study/Code/flows/processing.py:91: RuntimeWarning:\n",
      "\n",
      "Fiducial point nasion not found, assuming identity unknown to head transformation\n",
      "\n"
     ]
    },
    {
     "name": "stdout",
     "output_type": "stream",
     "text": [
      "ASR failed: array must not contain infs or NaNs\n"
     ]
    },
    {
     "name": "stderr",
     "output_type": "stream",
     "text": [
      "/var/folders/ml/fyq5x5t55wx4129dn03n32hm0000gn/T/ipykernel_29205/3500391359.py:37: UserWarning:\n",
      "\n",
      "This pattern is interpreted as a regular expression, and has match groups. To actually get the groups, use str.extract.\n",
      "\n",
      "/var/folders/ml/fyq5x5t55wx4129dn03n32hm0000gn/T/ipykernel_29205/3500391359.py:46: UserWarning:\n",
      "\n",
      "This pattern is interpreted as a regular expression, and has match groups. To actually get the groups, use str.extract.\n",
      "\n"
     ]
    },
    {
     "data": {
      "application/vnd.plotly.v1+json": {
       "config": {
        "plotlyServerURL": "https://plot.ly"
       },
       "data": [
        {
         "hovertemplate": "Frequency (Hz)=%{x}<br>Power (PSD, density)=%{y}<extra></extra>",
         "legendgroup": "",
         "line": {
          "color": "#636efa",
          "dash": "solid"
         },
         "marker": {
          "symbol": "circle"
         },
         "mode": "lines",
         "name": "",
         "orientation": "v",
         "showlegend": false,
         "type": "scatter",
         "x": {
          "bdata": "AAAAAAAAFEAAAAAAAAAYQAAAAAAAABxAAAAAAAAAIEAAAAAAAAAiQAAAAAAAACRAAAAAAAAAJkAAAAAAAAAoQAAAAAAAACpAAAAAAAAALEAAAAAAAAAuQAAAAAAAADBAAAAAAAAAMUAAAAAAAAAyQAAAAAAAADNAAAAAAAAANEAAAAAAAAA1QAAAAAAAADZAAAAAAAAAN0AAAAAAAAA4QAAAAAAAADlAAAAAAAAAOkAAAAAAAAA7QAAAAAAAADxAAAAAAAAAPUAAAAAAAAA+QAAAAAAAAD9AAAAAAAAAQEAAAAAAAIBAQAAAAAAAAEFAAAAAAACAQUAAAAAAAABCQAAAAAAAgEJAAAAAAAAAQ0AAAAAAAIBDQAAAAAAAAERAAAAAAACAREAAAAAAAABFQAAAAAAAgEVAAAAAAAAARkAAAAAAAIBGQAAAAAAAAEdAAAAAAACAR0AAAAAAAABIQAAAAAAAgEhAAAAAAAAASUAAAAAAAIBJQAAAAAAAAEpAAAAAAACASkAAAAAAAABLQAAAAAAAgEtAAAAAAAAATEAAAAAAAIBMQAAAAAAAAE1AAAAAAACATUAAAAAAAABOQAAAAAAAgE5AAAAAAAAAT0AAAAAAAIBPQAAAAAAAAFBAAAAAAABAUEAAAAAAAIBQQAAAAAAAwFBAAAAAAAAAUUAAAAAAAEBRQAAAAAAAgFFAAAAAAADAUUAAAAAAAABSQAAAAAAAQFJAAAAAAACAUkAAAAAAAMBSQAAAAAAAAFNAAAAAAABAU0AAAAAAAIBTQAAAAAAAwFNAAAAAAAAAVEAAAAAAAEBUQAAAAAAAgFRAAAAAAADAVEAAAAAAAABVQAAAAAAAQFVAAAAAAACAVUAAAAAAAMBVQAAAAAAAAFZAAAAAAABAVkAAAAAAAIBWQAAAAAAAwFZAAAAAAAAAV0AAAAAAAEBXQAAAAAAAgFdAAAAAAADAV0AAAAAAAABYQAAAAAAAQFhAAAAAAACAWEAAAAAAAMBYQAAAAAAAAFlA",
          "dtype": "f8"
         },
         "xaxis": "x",
         "y": {
          "bdata": "lJ6b9Vm24D9UPM9yfB3eP1R+lEUyJNs/yZSZy1kC2j8J4GAr4jLcP5c4H5BKtt4/VPqcLtfk3j/AzR1UgzTgP8aKxihQH+A/x2XhY8YY1z+wklDKm2PQP0zfuougwtE/r28zxvNB0z+5e3LOK73RP+yt42DG/dA/2tiYmjpS0T/8HaVs+o7TPxD/95lPo9I/8Kdh/WOZzz/9kKmzX1vKP0C6SwxgeMg/JAzqw4Z9xz/cAhay8oHLP27bOLC+/84/RAcdeM0UzT/OLhxLDfbJP0bj3jgnCMs/vcWUquPByT88aBs8xXjIPwllMjGsEMs/uiJRnZ/Fzz/wKyz0OOPLPwjkjTf1pMQ/kmJ6aepuxj8vxzeIsq/KP5oQtt6Mm8k/PBW+/eZHxj+cxolGEd3CP7vEYBd42cM/wYBsDYTCyD8o+i9YOy7JP26RrEx7ysM/PoMz6h+2wD+p67ljApTDP/0CGp/dcsQ/c2+8m5sBvj+akdPPVEK+P67+oZjjD8I/qyWQbpBvwT8EHIt4gxfBP2mQgKxeO8M/JI/eOIxXwT/mD1awYUa+PzbGYsTFM70/m5/t+YX6tz8ug215ZEW2P+UJbF5Cqbk/UBYS8LlLvT/Y4k6vP1O5P+9WRBuNXLM/piS2wB0zrz+sinPiEKyrP8L8QE8EaKQ/nyYDOnY5mD9rKmPo8T+EP+ia9CL0AHI/Nmid70liYT8Yhq0bhzFQP+s342UHOjQ/7raaUsusDD9hPRUEVFrhPlRpdTWKqag+VceHw94PmD7PZFUxdeWTPqZ9OkWYIoc+pDhfep/TeD55HCn/iFdqPsMOIqINH1U+S0E0cMekWj7kH5bxGARxPv0rYjZJz3Q+9RUbb7qsZz6emKLlnTxTPo7WebzYHFg+wZJeiV5aZj5cdSQSrPJoPgOKG/nI31o+R65EZwXqRz6REls7FIJZPpwXqN8obGI+iusV+TAVWT64KBWP7NpCPuYv4Xgsy0Q+dfFmwyulUj7u61rPxd9RPiYrKLf2m0E+",
          "dtype": "f8"
         },
         "yaxis": "y"
        }
       ],
       "layout": {
        "legend": {
         "tracegroupgap": 0
        },
        "shapes": [
         {
          "line": {
           "dash": "dot"
          },
          "type": "line",
          "x0": 40,
          "x1": 40,
          "xref": "x",
          "y0": 0,
          "y1": 1,
          "yref": "y domain"
         }
        ],
        "template": {
         "data": {
          "bar": [
           {
            "error_x": {
             "color": "#2a3f5f"
            },
            "error_y": {
             "color": "#2a3f5f"
            },
            "marker": {
             "line": {
              "color": "#E5ECF6",
              "width": 0.5
             },
             "pattern": {
              "fillmode": "overlay",
              "size": 10,
              "solidity": 0.2
             }
            },
            "type": "bar"
           }
          ],
          "barpolar": [
           {
            "marker": {
             "line": {
              "color": "#E5ECF6",
              "width": 0.5
             },
             "pattern": {
              "fillmode": "overlay",
              "size": 10,
              "solidity": 0.2
             }
            },
            "type": "barpolar"
           }
          ],
          "carpet": [
           {
            "aaxis": {
             "endlinecolor": "#2a3f5f",
             "gridcolor": "white",
             "linecolor": "white",
             "minorgridcolor": "white",
             "startlinecolor": "#2a3f5f"
            },
            "baxis": {
             "endlinecolor": "#2a3f5f",
             "gridcolor": "white",
             "linecolor": "white",
             "minorgridcolor": "white",
             "startlinecolor": "#2a3f5f"
            },
            "type": "carpet"
           }
          ],
          "choropleth": [
           {
            "colorbar": {
             "outlinewidth": 0,
             "ticks": ""
            },
            "type": "choropleth"
           }
          ],
          "contour": [
           {
            "colorbar": {
             "outlinewidth": 0,
             "ticks": ""
            },
            "colorscale": [
             [
              0,
              "#0d0887"
             ],
             [
              0.1111111111111111,
              "#46039f"
             ],
             [
              0.2222222222222222,
              "#7201a8"
             ],
             [
              0.3333333333333333,
              "#9c179e"
             ],
             [
              0.4444444444444444,
              "#bd3786"
             ],
             [
              0.5555555555555556,
              "#d8576b"
             ],
             [
              0.6666666666666666,
              "#ed7953"
             ],
             [
              0.7777777777777778,
              "#fb9f3a"
             ],
             [
              0.8888888888888888,
              "#fdca26"
             ],
             [
              1,
              "#f0f921"
             ]
            ],
            "type": "contour"
           }
          ],
          "contourcarpet": [
           {
            "colorbar": {
             "outlinewidth": 0,
             "ticks": ""
            },
            "type": "contourcarpet"
           }
          ],
          "heatmap": [
           {
            "colorbar": {
             "outlinewidth": 0,
             "ticks": ""
            },
            "colorscale": [
             [
              0,
              "#0d0887"
             ],
             [
              0.1111111111111111,
              "#46039f"
             ],
             [
              0.2222222222222222,
              "#7201a8"
             ],
             [
              0.3333333333333333,
              "#9c179e"
             ],
             [
              0.4444444444444444,
              "#bd3786"
             ],
             [
              0.5555555555555556,
              "#d8576b"
             ],
             [
              0.6666666666666666,
              "#ed7953"
             ],
             [
              0.7777777777777778,
              "#fb9f3a"
             ],
             [
              0.8888888888888888,
              "#fdca26"
             ],
             [
              1,
              "#f0f921"
             ]
            ],
            "type": "heatmap"
           }
          ],
          "histogram": [
           {
            "marker": {
             "pattern": {
              "fillmode": "overlay",
              "size": 10,
              "solidity": 0.2
             }
            },
            "type": "histogram"
           }
          ],
          "histogram2d": [
           {
            "colorbar": {
             "outlinewidth": 0,
             "ticks": ""
            },
            "colorscale": [
             [
              0,
              "#0d0887"
             ],
             [
              0.1111111111111111,
              "#46039f"
             ],
             [
              0.2222222222222222,
              "#7201a8"
             ],
             [
              0.3333333333333333,
              "#9c179e"
             ],
             [
              0.4444444444444444,
              "#bd3786"
             ],
             [
              0.5555555555555556,
              "#d8576b"
             ],
             [
              0.6666666666666666,
              "#ed7953"
             ],
             [
              0.7777777777777778,
              "#fb9f3a"
             ],
             [
              0.8888888888888888,
              "#fdca26"
             ],
             [
              1,
              "#f0f921"
             ]
            ],
            "type": "histogram2d"
           }
          ],
          "histogram2dcontour": [
           {
            "colorbar": {
             "outlinewidth": 0,
             "ticks": ""
            },
            "colorscale": [
             [
              0,
              "#0d0887"
             ],
             [
              0.1111111111111111,
              "#46039f"
             ],
             [
              0.2222222222222222,
              "#7201a8"
             ],
             [
              0.3333333333333333,
              "#9c179e"
             ],
             [
              0.4444444444444444,
              "#bd3786"
             ],
             [
              0.5555555555555556,
              "#d8576b"
             ],
             [
              0.6666666666666666,
              "#ed7953"
             ],
             [
              0.7777777777777778,
              "#fb9f3a"
             ],
             [
              0.8888888888888888,
              "#fdca26"
             ],
             [
              1,
              "#f0f921"
             ]
            ],
            "type": "histogram2dcontour"
           }
          ],
          "mesh3d": [
           {
            "colorbar": {
             "outlinewidth": 0,
             "ticks": ""
            },
            "type": "mesh3d"
           }
          ],
          "parcoords": [
           {
            "line": {
             "colorbar": {
              "outlinewidth": 0,
              "ticks": ""
             }
            },
            "type": "parcoords"
           }
          ],
          "pie": [
           {
            "automargin": true,
            "type": "pie"
           }
          ],
          "scatter": [
           {
            "fillpattern": {
             "fillmode": "overlay",
             "size": 10,
             "solidity": 0.2
            },
            "type": "scatter"
           }
          ],
          "scatter3d": [
           {
            "line": {
             "colorbar": {
              "outlinewidth": 0,
              "ticks": ""
             }
            },
            "marker": {
             "colorbar": {
              "outlinewidth": 0,
              "ticks": ""
             }
            },
            "type": "scatter3d"
           }
          ],
          "scattercarpet": [
           {
            "marker": {
             "colorbar": {
              "outlinewidth": 0,
              "ticks": ""
             }
            },
            "type": "scattercarpet"
           }
          ],
          "scattergeo": [
           {
            "marker": {
             "colorbar": {
              "outlinewidth": 0,
              "ticks": ""
             }
            },
            "type": "scattergeo"
           }
          ],
          "scattergl": [
           {
            "marker": {
             "colorbar": {
              "outlinewidth": 0,
              "ticks": ""
             }
            },
            "type": "scattergl"
           }
          ],
          "scattermap": [
           {
            "marker": {
             "colorbar": {
              "outlinewidth": 0,
              "ticks": ""
             }
            },
            "type": "scattermap"
           }
          ],
          "scattermapbox": [
           {
            "marker": {
             "colorbar": {
              "outlinewidth": 0,
              "ticks": ""
             }
            },
            "type": "scattermapbox"
           }
          ],
          "scatterpolar": [
           {
            "marker": {
             "colorbar": {
              "outlinewidth": 0,
              "ticks": ""
             }
            },
            "type": "scatterpolar"
           }
          ],
          "scatterpolargl": [
           {
            "marker": {
             "colorbar": {
              "outlinewidth": 0,
              "ticks": ""
             }
            },
            "type": "scatterpolargl"
           }
          ],
          "scatterternary": [
           {
            "marker": {
             "colorbar": {
              "outlinewidth": 0,
              "ticks": ""
             }
            },
            "type": "scatterternary"
           }
          ],
          "surface": [
           {
            "colorbar": {
             "outlinewidth": 0,
             "ticks": ""
            },
            "colorscale": [
             [
              0,
              "#0d0887"
             ],
             [
              0.1111111111111111,
              "#46039f"
             ],
             [
              0.2222222222222222,
              "#7201a8"
             ],
             [
              0.3333333333333333,
              "#9c179e"
             ],
             [
              0.4444444444444444,
              "#bd3786"
             ],
             [
              0.5555555555555556,
              "#d8576b"
             ],
             [
              0.6666666666666666,
              "#ed7953"
             ],
             [
              0.7777777777777778,
              "#fb9f3a"
             ],
             [
              0.8888888888888888,
              "#fdca26"
             ],
             [
              1,
              "#f0f921"
             ]
            ],
            "type": "surface"
           }
          ],
          "table": [
           {
            "cells": {
             "fill": {
              "color": "#EBF0F8"
             },
             "line": {
              "color": "white"
             }
            },
            "header": {
             "fill": {
              "color": "#C8D4E3"
             },
             "line": {
              "color": "white"
             }
            },
            "type": "table"
           }
          ]
         },
         "layout": {
          "annotationdefaults": {
           "arrowcolor": "#2a3f5f",
           "arrowhead": 0,
           "arrowwidth": 1
          },
          "autotypenumbers": "strict",
          "coloraxis": {
           "colorbar": {
            "outlinewidth": 0,
            "ticks": ""
           }
          },
          "colorscale": {
           "diverging": [
            [
             0,
             "#8e0152"
            ],
            [
             0.1,
             "#c51b7d"
            ],
            [
             0.2,
             "#de77ae"
            ],
            [
             0.3,
             "#f1b6da"
            ],
            [
             0.4,
             "#fde0ef"
            ],
            [
             0.5,
             "#f7f7f7"
            ],
            [
             0.6,
             "#e6f5d0"
            ],
            [
             0.7,
             "#b8e186"
            ],
            [
             0.8,
             "#7fbc41"
            ],
            [
             0.9,
             "#4d9221"
            ],
            [
             1,
             "#276419"
            ]
           ],
           "sequential": [
            [
             0,
             "#0d0887"
            ],
            [
             0.1111111111111111,
             "#46039f"
            ],
            [
             0.2222222222222222,
             "#7201a8"
            ],
            [
             0.3333333333333333,
             "#9c179e"
            ],
            [
             0.4444444444444444,
             "#bd3786"
            ],
            [
             0.5555555555555556,
             "#d8576b"
            ],
            [
             0.6666666666666666,
             "#ed7953"
            ],
            [
             0.7777777777777778,
             "#fb9f3a"
            ],
            [
             0.8888888888888888,
             "#fdca26"
            ],
            [
             1,
             "#f0f921"
            ]
           ],
           "sequentialminus": [
            [
             0,
             "#0d0887"
            ],
            [
             0.1111111111111111,
             "#46039f"
            ],
            [
             0.2222222222222222,
             "#7201a8"
            ],
            [
             0.3333333333333333,
             "#9c179e"
            ],
            [
             0.4444444444444444,
             "#bd3786"
            ],
            [
             0.5555555555555556,
             "#d8576b"
            ],
            [
             0.6666666666666666,
             "#ed7953"
            ],
            [
             0.7777777777777778,
             "#fb9f3a"
            ],
            [
             0.8888888888888888,
             "#fdca26"
            ],
            [
             1,
             "#f0f921"
            ]
           ]
          },
          "colorway": [
           "#636efa",
           "#EF553B",
           "#00cc96",
           "#ab63fa",
           "#FFA15A",
           "#19d3f3",
           "#FF6692",
           "#B6E880",
           "#FF97FF",
           "#FECB52"
          ],
          "font": {
           "color": "#2a3f5f"
          },
          "geo": {
           "bgcolor": "white",
           "lakecolor": "white",
           "landcolor": "#E5ECF6",
           "showlakes": true,
           "showland": true,
           "subunitcolor": "white"
          },
          "hoverlabel": {
           "align": "left"
          },
          "hovermode": "closest",
          "mapbox": {
           "style": "light"
          },
          "paper_bgcolor": "white",
          "plot_bgcolor": "#E5ECF6",
          "polar": {
           "angularaxis": {
            "gridcolor": "white",
            "linecolor": "white",
            "ticks": ""
           },
           "bgcolor": "#E5ECF6",
           "radialaxis": {
            "gridcolor": "white",
            "linecolor": "white",
            "ticks": ""
           }
          },
          "scene": {
           "xaxis": {
            "backgroundcolor": "#E5ECF6",
            "gridcolor": "white",
            "gridwidth": 2,
            "linecolor": "white",
            "showbackground": true,
            "ticks": "",
            "zerolinecolor": "white"
           },
           "yaxis": {
            "backgroundcolor": "#E5ECF6",
            "gridcolor": "white",
            "gridwidth": 2,
            "linecolor": "white",
            "showbackground": true,
            "ticks": "",
            "zerolinecolor": "white"
           },
           "zaxis": {
            "backgroundcolor": "#E5ECF6",
            "gridcolor": "white",
            "gridwidth": 2,
            "linecolor": "white",
            "showbackground": true,
            "ticks": "",
            "zerolinecolor": "white"
           }
          },
          "shapedefaults": {
           "line": {
            "color": "#2a3f5f"
           }
          },
          "ternary": {
           "aaxis": {
            "gridcolor": "white",
            "linecolor": "white",
            "ticks": ""
           },
           "baxis": {
            "gridcolor": "white",
            "linecolor": "white",
            "ticks": ""
           },
           "bgcolor": "#E5ECF6",
           "caxis": {
            "gridcolor": "white",
            "linecolor": "white",
            "ticks": ""
           }
          },
          "title": {
           "x": 0.05
          },
          "xaxis": {
           "automargin": true,
           "gridcolor": "white",
           "linecolor": "white",
           "ticks": "",
           "title": {
            "standoff": 15
           },
           "zerolinecolor": "white",
           "zerolinewidth": 2
          },
          "yaxis": {
           "automargin": true,
           "gridcolor": "white",
           "linecolor": "white",
           "ticks": "",
           "title": {
            "standoff": 15
           },
           "zerolinecolor": "white",
           "zerolinewidth": 2
          }
         }
        },
        "title": {
         "text": "Average PSD from 1-s windows (second half) — EO | A3 | 45 windows"
        },
        "xaxis": {
         "anchor": "y",
         "domain": [
          0,
          1
         ],
         "range": [
          5,
          100
         ],
         "title": {
          "text": "Frequency (Hz)"
         }
        },
        "yaxis": {
         "anchor": "x",
         "domain": [
          0,
          1
         ],
         "title": {
          "text": "Power (PSD, density)"
         }
        }
       }
      }
     },
     "metadata": {},
     "output_type": "display_data"
    },
    {
     "name": "stdout",
     "output_type": "stream",
     "text": [
      "7dr6p8 | A3 | EO | windows=45 | SNR@40Hz = 0.70 dB\n",
      "--- Pre-processing EEG\n",
      "Bad channel detection failed: module 'flows' has no attribute 'get_rms_bads'\n",
      "EEG channel type selected for re-referencing\n",
      "Applying average reference.\n",
      "Applying a custom ('EEG',) reference.\n"
     ]
    },
    {
     "name": "stderr",
     "output_type": "stream",
     "text": [
      "/Users/Sam/UNAM/neuro_headphone_study/Code/flows/processing.py:91: RuntimeWarning:\n",
      "\n",
      "Fiducial point nasion not found, assuming identity unknown to head transformation\n",
      "\n"
     ]
    },
    {
     "name": "stdout",
     "output_type": "stream",
     "text": [
      "ASR failed: array must not contain infs or NaNs\n"
     ]
    },
    {
     "name": "stderr",
     "output_type": "stream",
     "text": [
      "/var/folders/ml/fyq5x5t55wx4129dn03n32hm0000gn/T/ipykernel_29205/3500391359.py:37: UserWarning:\n",
      "\n",
      "This pattern is interpreted as a regular expression, and has match groups. To actually get the groups, use str.extract.\n",
      "\n",
      "/var/folders/ml/fyq5x5t55wx4129dn03n32hm0000gn/T/ipykernel_29205/3500391359.py:46: UserWarning:\n",
      "\n",
      "This pattern is interpreted as a regular expression, and has match groups. To actually get the groups, use str.extract.\n",
      "\n"
     ]
    },
    {
     "data": {
      "application/vnd.plotly.v1+json": {
       "config": {
        "plotlyServerURL": "https://plot.ly"
       },
       "data": [
        {
         "hovertemplate": "Frequency (Hz)=%{x}<br>Power (PSD, density)=%{y}<extra></extra>",
         "legendgroup": "",
         "line": {
          "color": "#636efa",
          "dash": "solid"
         },
         "marker": {
          "symbol": "circle"
         },
         "mode": "lines",
         "name": "",
         "orientation": "v",
         "showlegend": false,
         "type": "scatter",
         "x": {
          "bdata": "AAAAAAAAFEAAAAAAAAAYQAAAAAAAABxAAAAAAAAAIEAAAAAAAAAiQAAAAAAAACRAAAAAAAAAJkAAAAAAAAAoQAAAAAAAACpAAAAAAAAALEAAAAAAAAAuQAAAAAAAADBAAAAAAAAAMUAAAAAAAAAyQAAAAAAAADNAAAAAAAAANEAAAAAAAAA1QAAAAAAAADZAAAAAAAAAN0AAAAAAAAA4QAAAAAAAADlAAAAAAAAAOkAAAAAAAAA7QAAAAAAAADxAAAAAAAAAPUAAAAAAAAA+QAAAAAAAAD9AAAAAAAAAQEAAAAAAAIBAQAAAAAAAAEFAAAAAAACAQUAAAAAAAABCQAAAAAAAgEJAAAAAAAAAQ0AAAAAAAIBDQAAAAAAAAERAAAAAAACAREAAAAAAAABFQAAAAAAAgEVAAAAAAAAARkAAAAAAAIBGQAAAAAAAAEdAAAAAAACAR0AAAAAAAABIQAAAAAAAgEhAAAAAAAAASUAAAAAAAIBJQAAAAAAAAEpAAAAAAACASkAAAAAAAABLQAAAAAAAgEtAAAAAAAAATEAAAAAAAIBMQAAAAAAAAE1AAAAAAACATUAAAAAAAABOQAAAAAAAgE5AAAAAAAAAT0AAAAAAAIBPQAAAAAAAAFBAAAAAAABAUEAAAAAAAIBQQAAAAAAAwFBAAAAAAAAAUUAAAAAAAEBRQAAAAAAAgFFAAAAAAADAUUAAAAAAAABSQAAAAAAAQFJAAAAAAACAUkAAAAAAAMBSQAAAAAAAAFNAAAAAAABAU0AAAAAAAIBTQAAAAAAAwFNAAAAAAAAAVEAAAAAAAEBUQAAAAAAAgFRAAAAAAADAVEAAAAAAAABVQAAAAAAAQFVAAAAAAACAVUAAAAAAAMBVQAAAAAAAAFZAAAAAAABAVkAAAAAAAIBWQAAAAAAAwFZAAAAAAAAAV0AAAAAAAEBXQAAAAAAAgFdAAAAAAADAV0AAAAAAAABYQAAAAAAAQFhAAAAAAACAWEAAAAAAAMBYQAAAAAAAAFlA",
          "dtype": "f8"
         },
         "xaxis": "x",
         "y": {
          "bdata": "3VlMCZ6Ak0AninaYXs2TQMErMkrORpNAfwaMnIBKk0CX+i7+v5yTQJQLd2SPg5NAHJSjcIxUk0DcFVgWf0iTQJHiJlq+h5NA+joNsRKxk0AthIz+tl2TQEHSbanoVpNAgfUDCX2qk0Di2PkyksmTQKnZPjulzZNAsl75PO2Uk0Dxx7S4A1+TQBzWkh9fVJNAfKaP+T6hk0AhSGxIpMqTQFAuiji8rZNAuqnYltOLk0Cf7ottWl6TQKeVaCLkdZNAcu2DZW1jk0CUnnX/PVuTQMyw6U5TbpNA55MRKYeBk0AT5in2/oGTQFqF5T+whpNAbCCVa0Wek0BHvRlN9ZiTQBf5vKEqfZNADS8FA5d8k0AmGDn++3aTQHAKs6qfa5NAK8JpX017k0DHhx0nz4mTQNue0DHFapNAr31bE8F1k0A5VdLUvm6TQAEi6iKIcZNAOYO5iZOjk0C5UppPiteVQEny7p9kIJBAuWamooqRdUCalqCz1g2QQOMbJ2XbzpVA6Pi8IDOfk0DHAyXUYoeTQMHRqbWQgZNAEiWM2cibk0CKFYVSBaKTQDo5JQOVlZNAvGtSRa2ek0DxKTW6BGiTQOTkCX357ZJAAHWKBT36kUDpBSqLFHGQQCYF1ZpHy4xAPLra/w7lh0Cdq+StdGmCQN9u2jhjDXpAihXT4fXecEB4WddQG7ljQA84J/fdbFRANvlezCR2QkA5ZpfIF2UsQJEXqWrCChJAIP0MD6kd8j92iRmeMjHLPyJDkGkg6KA/94C2XywMhT85OQ2BYhx6P00bwMVQym4/X4/ioJ4LYj+08bVQdE1VP/QyzjrYO0s/Scr672e6UD9tAeCb/DVbP1HOYtBFA2A/DHIV4ZMKWT/Jx/vW9tZQP+5FnOl5+lI/SruxojqLWj/pNotYqnlaP7f4EzjrTVI/Sc4Oc2EpTD/IpixBGptSP1i/WjtuiVY/DCdq+QdcUj/Q0mGPskxIP8ZcWNw7W0k/QHZOfdAyUT+tj5Wz3vNQP1FeDQLLeEc/",
          "dtype": "f8"
         },
         "yaxis": "y"
        }
       ],
       "layout": {
        "legend": {
         "tracegroupgap": 0
        },
        "shapes": [
         {
          "line": {
           "dash": "dot"
          },
          "type": "line",
          "x0": 40,
          "x1": 40,
          "xref": "x",
          "y0": 0,
          "y1": 1,
          "yref": "y domain"
         }
        ],
        "template": {
         "data": {
          "bar": [
           {
            "error_x": {
             "color": "#2a3f5f"
            },
            "error_y": {
             "color": "#2a3f5f"
            },
            "marker": {
             "line": {
              "color": "#E5ECF6",
              "width": 0.5
             },
             "pattern": {
              "fillmode": "overlay",
              "size": 10,
              "solidity": 0.2
             }
            },
            "type": "bar"
           }
          ],
          "barpolar": [
           {
            "marker": {
             "line": {
              "color": "#E5ECF6",
              "width": 0.5
             },
             "pattern": {
              "fillmode": "overlay",
              "size": 10,
              "solidity": 0.2
             }
            },
            "type": "barpolar"
           }
          ],
          "carpet": [
           {
            "aaxis": {
             "endlinecolor": "#2a3f5f",
             "gridcolor": "white",
             "linecolor": "white",
             "minorgridcolor": "white",
             "startlinecolor": "#2a3f5f"
            },
            "baxis": {
             "endlinecolor": "#2a3f5f",
             "gridcolor": "white",
             "linecolor": "white",
             "minorgridcolor": "white",
             "startlinecolor": "#2a3f5f"
            },
            "type": "carpet"
           }
          ],
          "choropleth": [
           {
            "colorbar": {
             "outlinewidth": 0,
             "ticks": ""
            },
            "type": "choropleth"
           }
          ],
          "contour": [
           {
            "colorbar": {
             "outlinewidth": 0,
             "ticks": ""
            },
            "colorscale": [
             [
              0,
              "#0d0887"
             ],
             [
              0.1111111111111111,
              "#46039f"
             ],
             [
              0.2222222222222222,
              "#7201a8"
             ],
             [
              0.3333333333333333,
              "#9c179e"
             ],
             [
              0.4444444444444444,
              "#bd3786"
             ],
             [
              0.5555555555555556,
              "#d8576b"
             ],
             [
              0.6666666666666666,
              "#ed7953"
             ],
             [
              0.7777777777777778,
              "#fb9f3a"
             ],
             [
              0.8888888888888888,
              "#fdca26"
             ],
             [
              1,
              "#f0f921"
             ]
            ],
            "type": "contour"
           }
          ],
          "contourcarpet": [
           {
            "colorbar": {
             "outlinewidth": 0,
             "ticks": ""
            },
            "type": "contourcarpet"
           }
          ],
          "heatmap": [
           {
            "colorbar": {
             "outlinewidth": 0,
             "ticks": ""
            },
            "colorscale": [
             [
              0,
              "#0d0887"
             ],
             [
              0.1111111111111111,
              "#46039f"
             ],
             [
              0.2222222222222222,
              "#7201a8"
             ],
             [
              0.3333333333333333,
              "#9c179e"
             ],
             [
              0.4444444444444444,
              "#bd3786"
             ],
             [
              0.5555555555555556,
              "#d8576b"
             ],
             [
              0.6666666666666666,
              "#ed7953"
             ],
             [
              0.7777777777777778,
              "#fb9f3a"
             ],
             [
              0.8888888888888888,
              "#fdca26"
             ],
             [
              1,
              "#f0f921"
             ]
            ],
            "type": "heatmap"
           }
          ],
          "histogram": [
           {
            "marker": {
             "pattern": {
              "fillmode": "overlay",
              "size": 10,
              "solidity": 0.2
             }
            },
            "type": "histogram"
           }
          ],
          "histogram2d": [
           {
            "colorbar": {
             "outlinewidth": 0,
             "ticks": ""
            },
            "colorscale": [
             [
              0,
              "#0d0887"
             ],
             [
              0.1111111111111111,
              "#46039f"
             ],
             [
              0.2222222222222222,
              "#7201a8"
             ],
             [
              0.3333333333333333,
              "#9c179e"
             ],
             [
              0.4444444444444444,
              "#bd3786"
             ],
             [
              0.5555555555555556,
              "#d8576b"
             ],
             [
              0.6666666666666666,
              "#ed7953"
             ],
             [
              0.7777777777777778,
              "#fb9f3a"
             ],
             [
              0.8888888888888888,
              "#fdca26"
             ],
             [
              1,
              "#f0f921"
             ]
            ],
            "type": "histogram2d"
           }
          ],
          "histogram2dcontour": [
           {
            "colorbar": {
             "outlinewidth": 0,
             "ticks": ""
            },
            "colorscale": [
             [
              0,
              "#0d0887"
             ],
             [
              0.1111111111111111,
              "#46039f"
             ],
             [
              0.2222222222222222,
              "#7201a8"
             ],
             [
              0.3333333333333333,
              "#9c179e"
             ],
             [
              0.4444444444444444,
              "#bd3786"
             ],
             [
              0.5555555555555556,
              "#d8576b"
             ],
             [
              0.6666666666666666,
              "#ed7953"
             ],
             [
              0.7777777777777778,
              "#fb9f3a"
             ],
             [
              0.8888888888888888,
              "#fdca26"
             ],
             [
              1,
              "#f0f921"
             ]
            ],
            "type": "histogram2dcontour"
           }
          ],
          "mesh3d": [
           {
            "colorbar": {
             "outlinewidth": 0,
             "ticks": ""
            },
            "type": "mesh3d"
           }
          ],
          "parcoords": [
           {
            "line": {
             "colorbar": {
              "outlinewidth": 0,
              "ticks": ""
             }
            },
            "type": "parcoords"
           }
          ],
          "pie": [
           {
            "automargin": true,
            "type": "pie"
           }
          ],
          "scatter": [
           {
            "fillpattern": {
             "fillmode": "overlay",
             "size": 10,
             "solidity": 0.2
            },
            "type": "scatter"
           }
          ],
          "scatter3d": [
           {
            "line": {
             "colorbar": {
              "outlinewidth": 0,
              "ticks": ""
             }
            },
            "marker": {
             "colorbar": {
              "outlinewidth": 0,
              "ticks": ""
             }
            },
            "type": "scatter3d"
           }
          ],
          "scattercarpet": [
           {
            "marker": {
             "colorbar": {
              "outlinewidth": 0,
              "ticks": ""
             }
            },
            "type": "scattercarpet"
           }
          ],
          "scattergeo": [
           {
            "marker": {
             "colorbar": {
              "outlinewidth": 0,
              "ticks": ""
             }
            },
            "type": "scattergeo"
           }
          ],
          "scattergl": [
           {
            "marker": {
             "colorbar": {
              "outlinewidth": 0,
              "ticks": ""
             }
            },
            "type": "scattergl"
           }
          ],
          "scattermap": [
           {
            "marker": {
             "colorbar": {
              "outlinewidth": 0,
              "ticks": ""
             }
            },
            "type": "scattermap"
           }
          ],
          "scattermapbox": [
           {
            "marker": {
             "colorbar": {
              "outlinewidth": 0,
              "ticks": ""
             }
            },
            "type": "scattermapbox"
           }
          ],
          "scatterpolar": [
           {
            "marker": {
             "colorbar": {
              "outlinewidth": 0,
              "ticks": ""
             }
            },
            "type": "scatterpolar"
           }
          ],
          "scatterpolargl": [
           {
            "marker": {
             "colorbar": {
              "outlinewidth": 0,
              "ticks": ""
             }
            },
            "type": "scatterpolargl"
           }
          ],
          "scatterternary": [
           {
            "marker": {
             "colorbar": {
              "outlinewidth": 0,
              "ticks": ""
             }
            },
            "type": "scatterternary"
           }
          ],
          "surface": [
           {
            "colorbar": {
             "outlinewidth": 0,
             "ticks": ""
            },
            "colorscale": [
             [
              0,
              "#0d0887"
             ],
             [
              0.1111111111111111,
              "#46039f"
             ],
             [
              0.2222222222222222,
              "#7201a8"
             ],
             [
              0.3333333333333333,
              "#9c179e"
             ],
             [
              0.4444444444444444,
              "#bd3786"
             ],
             [
              0.5555555555555556,
              "#d8576b"
             ],
             [
              0.6666666666666666,
              "#ed7953"
             ],
             [
              0.7777777777777778,
              "#fb9f3a"
             ],
             [
              0.8888888888888888,
              "#fdca26"
             ],
             [
              1,
              "#f0f921"
             ]
            ],
            "type": "surface"
           }
          ],
          "table": [
           {
            "cells": {
             "fill": {
              "color": "#EBF0F8"
             },
             "line": {
              "color": "white"
             }
            },
            "header": {
             "fill": {
              "color": "#C8D4E3"
             },
             "line": {
              "color": "white"
             }
            },
            "type": "table"
           }
          ]
         },
         "layout": {
          "annotationdefaults": {
           "arrowcolor": "#2a3f5f",
           "arrowhead": 0,
           "arrowwidth": 1
          },
          "autotypenumbers": "strict",
          "coloraxis": {
           "colorbar": {
            "outlinewidth": 0,
            "ticks": ""
           }
          },
          "colorscale": {
           "diverging": [
            [
             0,
             "#8e0152"
            ],
            [
             0.1,
             "#c51b7d"
            ],
            [
             0.2,
             "#de77ae"
            ],
            [
             0.3,
             "#f1b6da"
            ],
            [
             0.4,
             "#fde0ef"
            ],
            [
             0.5,
             "#f7f7f7"
            ],
            [
             0.6,
             "#e6f5d0"
            ],
            [
             0.7,
             "#b8e186"
            ],
            [
             0.8,
             "#7fbc41"
            ],
            [
             0.9,
             "#4d9221"
            ],
            [
             1,
             "#276419"
            ]
           ],
           "sequential": [
            [
             0,
             "#0d0887"
            ],
            [
             0.1111111111111111,
             "#46039f"
            ],
            [
             0.2222222222222222,
             "#7201a8"
            ],
            [
             0.3333333333333333,
             "#9c179e"
            ],
            [
             0.4444444444444444,
             "#bd3786"
            ],
            [
             0.5555555555555556,
             "#d8576b"
            ],
            [
             0.6666666666666666,
             "#ed7953"
            ],
            [
             0.7777777777777778,
             "#fb9f3a"
            ],
            [
             0.8888888888888888,
             "#fdca26"
            ],
            [
             1,
             "#f0f921"
            ]
           ],
           "sequentialminus": [
            [
             0,
             "#0d0887"
            ],
            [
             0.1111111111111111,
             "#46039f"
            ],
            [
             0.2222222222222222,
             "#7201a8"
            ],
            [
             0.3333333333333333,
             "#9c179e"
            ],
            [
             0.4444444444444444,
             "#bd3786"
            ],
            [
             0.5555555555555556,
             "#d8576b"
            ],
            [
             0.6666666666666666,
             "#ed7953"
            ],
            [
             0.7777777777777778,
             "#fb9f3a"
            ],
            [
             0.8888888888888888,
             "#fdca26"
            ],
            [
             1,
             "#f0f921"
            ]
           ]
          },
          "colorway": [
           "#636efa",
           "#EF553B",
           "#00cc96",
           "#ab63fa",
           "#FFA15A",
           "#19d3f3",
           "#FF6692",
           "#B6E880",
           "#FF97FF",
           "#FECB52"
          ],
          "font": {
           "color": "#2a3f5f"
          },
          "geo": {
           "bgcolor": "white",
           "lakecolor": "white",
           "landcolor": "#E5ECF6",
           "showlakes": true,
           "showland": true,
           "subunitcolor": "white"
          },
          "hoverlabel": {
           "align": "left"
          },
          "hovermode": "closest",
          "mapbox": {
           "style": "light"
          },
          "paper_bgcolor": "white",
          "plot_bgcolor": "#E5ECF6",
          "polar": {
           "angularaxis": {
            "gridcolor": "white",
            "linecolor": "white",
            "ticks": ""
           },
           "bgcolor": "#E5ECF6",
           "radialaxis": {
            "gridcolor": "white",
            "linecolor": "white",
            "ticks": ""
           }
          },
          "scene": {
           "xaxis": {
            "backgroundcolor": "#E5ECF6",
            "gridcolor": "white",
            "gridwidth": 2,
            "linecolor": "white",
            "showbackground": true,
            "ticks": "",
            "zerolinecolor": "white"
           },
           "yaxis": {
            "backgroundcolor": "#E5ECF6",
            "gridcolor": "white",
            "gridwidth": 2,
            "linecolor": "white",
            "showbackground": true,
            "ticks": "",
            "zerolinecolor": "white"
           },
           "zaxis": {
            "backgroundcolor": "#E5ECF6",
            "gridcolor": "white",
            "gridwidth": 2,
            "linecolor": "white",
            "showbackground": true,
            "ticks": "",
            "zerolinecolor": "white"
           }
          },
          "shapedefaults": {
           "line": {
            "color": "#2a3f5f"
           }
          },
          "ternary": {
           "aaxis": {
            "gridcolor": "white",
            "linecolor": "white",
            "ticks": ""
           },
           "baxis": {
            "gridcolor": "white",
            "linecolor": "white",
            "ticks": ""
           },
           "bgcolor": "#E5ECF6",
           "caxis": {
            "gridcolor": "white",
            "linecolor": "white",
            "ticks": ""
           }
          },
          "title": {
           "x": 0.05
          },
          "xaxis": {
           "automargin": true,
           "gridcolor": "white",
           "linecolor": "white",
           "ticks": "",
           "title": {
            "standoff": 15
           },
           "zerolinecolor": "white",
           "zerolinewidth": 2
          },
          "yaxis": {
           "automargin": true,
           "gridcolor": "white",
           "linecolor": "white",
           "ticks": "",
           "title": {
            "standoff": 15
           },
           "zerolinecolor": "white",
           "zerolinewidth": 2
          }
         }
        },
        "title": {
         "text": "Average PSD from 1-s windows (second half) — EO | A1 | 44 windows"
        },
        "xaxis": {
         "anchor": "y",
         "domain": [
          0,
          1
         ],
         "range": [
          5,
          100
         ],
         "title": {
          "text": "Frequency (Hz)"
         }
        },
        "yaxis": {
         "anchor": "x",
         "domain": [
          0,
          1
         ],
         "title": {
          "text": "Power (PSD, density)"
         }
        }
       }
      }
     },
     "metadata": {},
     "output_type": "display_data"
    },
    {
     "name": "stdout",
     "output_type": "stream",
     "text": [
      "7dr6p8 | A1 | EO | windows=44 | SNR@40Hz = -0.01 dB\n",
      "--- Pre-processing EEG\n",
      "Bad channel detection failed: module 'flows' has no attribute 'get_rms_bads'\n",
      "EEG channel type selected for re-referencing\n",
      "Applying average reference.\n",
      "Applying a custom ('EEG',) reference.\n"
     ]
    },
    {
     "name": "stderr",
     "output_type": "stream",
     "text": [
      "/Users/Sam/UNAM/neuro_headphone_study/Code/flows/processing.py:91: RuntimeWarning:\n",
      "\n",
      "Fiducial point nasion not found, assuming identity unknown to head transformation\n",
      "\n"
     ]
    },
    {
     "name": "stdout",
     "output_type": "stream",
     "text": [
      "ASR failed: array must not contain infs or NaNs\n"
     ]
    },
    {
     "name": "stderr",
     "output_type": "stream",
     "text": [
      "/var/folders/ml/fyq5x5t55wx4129dn03n32hm0000gn/T/ipykernel_29205/3500391359.py:37: UserWarning:\n",
      "\n",
      "This pattern is interpreted as a regular expression, and has match groups. To actually get the groups, use str.extract.\n",
      "\n",
      "/var/folders/ml/fyq5x5t55wx4129dn03n32hm0000gn/T/ipykernel_29205/3500391359.py:46: UserWarning:\n",
      "\n",
      "This pattern is interpreted as a regular expression, and has match groups. To actually get the groups, use str.extract.\n",
      "\n"
     ]
    },
    {
     "data": {
      "application/vnd.plotly.v1+json": {
       "config": {
        "plotlyServerURL": "https://plot.ly"
       },
       "data": [
        {
         "hovertemplate": "Frequency (Hz)=%{x}<br>Power (PSD, density)=%{y}<extra></extra>",
         "legendgroup": "",
         "line": {
          "color": "#636efa",
          "dash": "solid"
         },
         "marker": {
          "symbol": "circle"
         },
         "mode": "lines",
         "name": "",
         "orientation": "v",
         "showlegend": false,
         "type": "scatter",
         "x": {
          "bdata": "AAAAAAAAFEAAAAAAAAAYQAAAAAAAABxAAAAAAAAAIEAAAAAAAAAiQAAAAAAAACRAAAAAAAAAJkAAAAAAAAAoQAAAAAAAACpAAAAAAAAALEAAAAAAAAAuQAAAAAAAADBAAAAAAAAAMUAAAAAAAAAyQAAAAAAAADNAAAAAAAAANEAAAAAAAAA1QAAAAAAAADZAAAAAAAAAN0AAAAAAAAA4QAAAAAAAADlAAAAAAAAAOkAAAAAAAAA7QAAAAAAAADxAAAAAAAAAPUAAAAAAAAA+QAAAAAAAAD9AAAAAAAAAQEAAAAAAAIBAQAAAAAAAAEFAAAAAAACAQUAAAAAAAABCQAAAAAAAgEJAAAAAAAAAQ0AAAAAAAIBDQAAAAAAAAERAAAAAAACAREAAAAAAAABFQAAAAAAAgEVAAAAAAAAARkAAAAAAAIBGQAAAAAAAAEdAAAAAAACAR0AAAAAAAABIQAAAAAAAgEhAAAAAAAAASUAAAAAAAIBJQAAAAAAAAEpAAAAAAACASkAAAAAAAABLQAAAAAAAgEtAAAAAAAAATEAAAAAAAIBMQAAAAAAAAE1AAAAAAACATUAAAAAAAABOQAAAAAAAgE5AAAAAAAAAT0AAAAAAAIBPQAAAAAAAAFBAAAAAAABAUEAAAAAAAIBQQAAAAAAAwFBAAAAAAAAAUUAAAAAAAEBRQAAAAAAAgFFAAAAAAADAUUAAAAAAAABSQAAAAAAAQFJAAAAAAACAUkAAAAAAAMBSQAAAAAAAAFNAAAAAAABAU0AAAAAAAIBTQAAAAAAAwFNAAAAAAAAAVEAAAAAAAEBUQAAAAAAAgFRAAAAAAADAVEAAAAAAAABVQAAAAAAAQFVAAAAAAACAVUAAAAAAAMBVQAAAAAAAAFZAAAAAAABAVkAAAAAAAIBWQAAAAAAAwFZAAAAAAAAAV0AAAAAAAEBXQAAAAAAAgFdAAAAAAADAV0AAAAAAAABYQAAAAAAAQFhAAAAAAACAWEAAAAAAAMBYQAAAAAAAAFlA",
          "dtype": "f8"
         },
         "xaxis": "x",
         "y": {
          "bdata": "ZuuG292+3D8cCyMn70HbP8eP7ekD4dw/A/9lJGhb4D9YbHkteGnYP2w0WZrMbck/lyF8yZA3xj8pyow0yDrJP83IsMyTQ8g/rnunEralxj9S+hAVAsLGP4oZOqkI8MI/Tob8U3GBuz9Nqm2OR6i5PyWzHxZCwr0/JV9V0/88wT8A8BmY+UrBP1I1U71mX8E/1bnJoe5xwD/y1EGyBAvAPywd1aqP6bw/BzCkZ+piuD+yj0bX13OxP0tHh2ZiYKg/LrZISbNXqT/BjbOh7TOxPz0cHXQ4WLA/+VffxxTwrD8UkbW5I2WrP7+gtkWaaLQ/KJR6snBhuj9Y/eueut+zPx8mFUPfa6w/mkJVTR0hqz9wmvrMavCuP5uEyk5G4K4/ErhT66RMrj95oTsE0mexPynqg1u+Z7E/8M4xs8lorD9Oic8HNjavP9SzlfbFr7I/kHDlVGN5sT+9kot1HdWwP+IeIJhyZKw/7/7uWdXloz9d5H8YzaylPzqVlZ+LyKY/SuK5t56Qqz/bYgHpj1utP024TTmnnqw/MphEXgoGsD8i0xKzDJ+tP/dvWW080Kk/xpjcNUqZqT+2E+wjFN6kP7Uwg0Ve8qI/VW9RQ3oPpD967+FbdXKlP5+ZLLEXt6M/PKPmC98RmD8Rk8s5u7CLP8F83RWdaYc/OByj+BsMgz8XeaATAthzP8DaPyCQS14/v3S919sZTT9wr9Gc9nY3P95tNvJO7hs/mildp0X3+j7aq+hjIEXOPkMSDUOVApg+Ywxuh0Nugz4OBf3ItaJ+PgG4MOdpUnM+Swfx9sV8az5yo0wpyBpZPgM7xWA+rD8+jlHXVINIRT7rxDZG3+9XPrnfhrcp21w+WsYfLOCsUD4GQE/oSPI6Pjxilcsl70c+E0ocC2n1VT66SvKHaStSPm6/KjU/4kY+alMECYhOQD6sX2T1g0pLPh8+2vtB+k8+ElUQCzbkQz7zkQxliwMtPtQCpYo/tCo+0odHU4ZQPD7cEZskkzU/Pl3mxEwfozA+",
          "dtype": "f8"
         },
         "yaxis": "y"
        }
       ],
       "layout": {
        "legend": {
         "tracegroupgap": 0
        },
        "shapes": [
         {
          "line": {
           "dash": "dot"
          },
          "type": "line",
          "x0": 40,
          "x1": 40,
          "xref": "x",
          "y0": 0,
          "y1": 1,
          "yref": "y domain"
         }
        ],
        "template": {
         "data": {
          "bar": [
           {
            "error_x": {
             "color": "#2a3f5f"
            },
            "error_y": {
             "color": "#2a3f5f"
            },
            "marker": {
             "line": {
              "color": "#E5ECF6",
              "width": 0.5
             },
             "pattern": {
              "fillmode": "overlay",
              "size": 10,
              "solidity": 0.2
             }
            },
            "type": "bar"
           }
          ],
          "barpolar": [
           {
            "marker": {
             "line": {
              "color": "#E5ECF6",
              "width": 0.5
             },
             "pattern": {
              "fillmode": "overlay",
              "size": 10,
              "solidity": 0.2
             }
            },
            "type": "barpolar"
           }
          ],
          "carpet": [
           {
            "aaxis": {
             "endlinecolor": "#2a3f5f",
             "gridcolor": "white",
             "linecolor": "white",
             "minorgridcolor": "white",
             "startlinecolor": "#2a3f5f"
            },
            "baxis": {
             "endlinecolor": "#2a3f5f",
             "gridcolor": "white",
             "linecolor": "white",
             "minorgridcolor": "white",
             "startlinecolor": "#2a3f5f"
            },
            "type": "carpet"
           }
          ],
          "choropleth": [
           {
            "colorbar": {
             "outlinewidth": 0,
             "ticks": ""
            },
            "type": "choropleth"
           }
          ],
          "contour": [
           {
            "colorbar": {
             "outlinewidth": 0,
             "ticks": ""
            },
            "colorscale": [
             [
              0,
              "#0d0887"
             ],
             [
              0.1111111111111111,
              "#46039f"
             ],
             [
              0.2222222222222222,
              "#7201a8"
             ],
             [
              0.3333333333333333,
              "#9c179e"
             ],
             [
              0.4444444444444444,
              "#bd3786"
             ],
             [
              0.5555555555555556,
              "#d8576b"
             ],
             [
              0.6666666666666666,
              "#ed7953"
             ],
             [
              0.7777777777777778,
              "#fb9f3a"
             ],
             [
              0.8888888888888888,
              "#fdca26"
             ],
             [
              1,
              "#f0f921"
             ]
            ],
            "type": "contour"
           }
          ],
          "contourcarpet": [
           {
            "colorbar": {
             "outlinewidth": 0,
             "ticks": ""
            },
            "type": "contourcarpet"
           }
          ],
          "heatmap": [
           {
            "colorbar": {
             "outlinewidth": 0,
             "ticks": ""
            },
            "colorscale": [
             [
              0,
              "#0d0887"
             ],
             [
              0.1111111111111111,
              "#46039f"
             ],
             [
              0.2222222222222222,
              "#7201a8"
             ],
             [
              0.3333333333333333,
              "#9c179e"
             ],
             [
              0.4444444444444444,
              "#bd3786"
             ],
             [
              0.5555555555555556,
              "#d8576b"
             ],
             [
              0.6666666666666666,
              "#ed7953"
             ],
             [
              0.7777777777777778,
              "#fb9f3a"
             ],
             [
              0.8888888888888888,
              "#fdca26"
             ],
             [
              1,
              "#f0f921"
             ]
            ],
            "type": "heatmap"
           }
          ],
          "histogram": [
           {
            "marker": {
             "pattern": {
              "fillmode": "overlay",
              "size": 10,
              "solidity": 0.2
             }
            },
            "type": "histogram"
           }
          ],
          "histogram2d": [
           {
            "colorbar": {
             "outlinewidth": 0,
             "ticks": ""
            },
            "colorscale": [
             [
              0,
              "#0d0887"
             ],
             [
              0.1111111111111111,
              "#46039f"
             ],
             [
              0.2222222222222222,
              "#7201a8"
             ],
             [
              0.3333333333333333,
              "#9c179e"
             ],
             [
              0.4444444444444444,
              "#bd3786"
             ],
             [
              0.5555555555555556,
              "#d8576b"
             ],
             [
              0.6666666666666666,
              "#ed7953"
             ],
             [
              0.7777777777777778,
              "#fb9f3a"
             ],
             [
              0.8888888888888888,
              "#fdca26"
             ],
             [
              1,
              "#f0f921"
             ]
            ],
            "type": "histogram2d"
           }
          ],
          "histogram2dcontour": [
           {
            "colorbar": {
             "outlinewidth": 0,
             "ticks": ""
            },
            "colorscale": [
             [
              0,
              "#0d0887"
             ],
             [
              0.1111111111111111,
              "#46039f"
             ],
             [
              0.2222222222222222,
              "#7201a8"
             ],
             [
              0.3333333333333333,
              "#9c179e"
             ],
             [
              0.4444444444444444,
              "#bd3786"
             ],
             [
              0.5555555555555556,
              "#d8576b"
             ],
             [
              0.6666666666666666,
              "#ed7953"
             ],
             [
              0.7777777777777778,
              "#fb9f3a"
             ],
             [
              0.8888888888888888,
              "#fdca26"
             ],
             [
              1,
              "#f0f921"
             ]
            ],
            "type": "histogram2dcontour"
           }
          ],
          "mesh3d": [
           {
            "colorbar": {
             "outlinewidth": 0,
             "ticks": ""
            },
            "type": "mesh3d"
           }
          ],
          "parcoords": [
           {
            "line": {
             "colorbar": {
              "outlinewidth": 0,
              "ticks": ""
             }
            },
            "type": "parcoords"
           }
          ],
          "pie": [
           {
            "automargin": true,
            "type": "pie"
           }
          ],
          "scatter": [
           {
            "fillpattern": {
             "fillmode": "overlay",
             "size": 10,
             "solidity": 0.2
            },
            "type": "scatter"
           }
          ],
          "scatter3d": [
           {
            "line": {
             "colorbar": {
              "outlinewidth": 0,
              "ticks": ""
             }
            },
            "marker": {
             "colorbar": {
              "outlinewidth": 0,
              "ticks": ""
             }
            },
            "type": "scatter3d"
           }
          ],
          "scattercarpet": [
           {
            "marker": {
             "colorbar": {
              "outlinewidth": 0,
              "ticks": ""
             }
            },
            "type": "scattercarpet"
           }
          ],
          "scattergeo": [
           {
            "marker": {
             "colorbar": {
              "outlinewidth": 0,
              "ticks": ""
             }
            },
            "type": "scattergeo"
           }
          ],
          "scattergl": [
           {
            "marker": {
             "colorbar": {
              "outlinewidth": 0,
              "ticks": ""
             }
            },
            "type": "scattergl"
           }
          ],
          "scattermap": [
           {
            "marker": {
             "colorbar": {
              "outlinewidth": 0,
              "ticks": ""
             }
            },
            "type": "scattermap"
           }
          ],
          "scattermapbox": [
           {
            "marker": {
             "colorbar": {
              "outlinewidth": 0,
              "ticks": ""
             }
            },
            "type": "scattermapbox"
           }
          ],
          "scatterpolar": [
           {
            "marker": {
             "colorbar": {
              "outlinewidth": 0,
              "ticks": ""
             }
            },
            "type": "scatterpolar"
           }
          ],
          "scatterpolargl": [
           {
            "marker": {
             "colorbar": {
              "outlinewidth": 0,
              "ticks": ""
             }
            },
            "type": "scatterpolargl"
           }
          ],
          "scatterternary": [
           {
            "marker": {
             "colorbar": {
              "outlinewidth": 0,
              "ticks": ""
             }
            },
            "type": "scatterternary"
           }
          ],
          "surface": [
           {
            "colorbar": {
             "outlinewidth": 0,
             "ticks": ""
            },
            "colorscale": [
             [
              0,
              "#0d0887"
             ],
             [
              0.1111111111111111,
              "#46039f"
             ],
             [
              0.2222222222222222,
              "#7201a8"
             ],
             [
              0.3333333333333333,
              "#9c179e"
             ],
             [
              0.4444444444444444,
              "#bd3786"
             ],
             [
              0.5555555555555556,
              "#d8576b"
             ],
             [
              0.6666666666666666,
              "#ed7953"
             ],
             [
              0.7777777777777778,
              "#fb9f3a"
             ],
             [
              0.8888888888888888,
              "#fdca26"
             ],
             [
              1,
              "#f0f921"
             ]
            ],
            "type": "surface"
           }
          ],
          "table": [
           {
            "cells": {
             "fill": {
              "color": "#EBF0F8"
             },
             "line": {
              "color": "white"
             }
            },
            "header": {
             "fill": {
              "color": "#C8D4E3"
             },
             "line": {
              "color": "white"
             }
            },
            "type": "table"
           }
          ]
         },
         "layout": {
          "annotationdefaults": {
           "arrowcolor": "#2a3f5f",
           "arrowhead": 0,
           "arrowwidth": 1
          },
          "autotypenumbers": "strict",
          "coloraxis": {
           "colorbar": {
            "outlinewidth": 0,
            "ticks": ""
           }
          },
          "colorscale": {
           "diverging": [
            [
             0,
             "#8e0152"
            ],
            [
             0.1,
             "#c51b7d"
            ],
            [
             0.2,
             "#de77ae"
            ],
            [
             0.3,
             "#f1b6da"
            ],
            [
             0.4,
             "#fde0ef"
            ],
            [
             0.5,
             "#f7f7f7"
            ],
            [
             0.6,
             "#e6f5d0"
            ],
            [
             0.7,
             "#b8e186"
            ],
            [
             0.8,
             "#7fbc41"
            ],
            [
             0.9,
             "#4d9221"
            ],
            [
             1,
             "#276419"
            ]
           ],
           "sequential": [
            [
             0,
             "#0d0887"
            ],
            [
             0.1111111111111111,
             "#46039f"
            ],
            [
             0.2222222222222222,
             "#7201a8"
            ],
            [
             0.3333333333333333,
             "#9c179e"
            ],
            [
             0.4444444444444444,
             "#bd3786"
            ],
            [
             0.5555555555555556,
             "#d8576b"
            ],
            [
             0.6666666666666666,
             "#ed7953"
            ],
            [
             0.7777777777777778,
             "#fb9f3a"
            ],
            [
             0.8888888888888888,
             "#fdca26"
            ],
            [
             1,
             "#f0f921"
            ]
           ],
           "sequentialminus": [
            [
             0,
             "#0d0887"
            ],
            [
             0.1111111111111111,
             "#46039f"
            ],
            [
             0.2222222222222222,
             "#7201a8"
            ],
            [
             0.3333333333333333,
             "#9c179e"
            ],
            [
             0.4444444444444444,
             "#bd3786"
            ],
            [
             0.5555555555555556,
             "#d8576b"
            ],
            [
             0.6666666666666666,
             "#ed7953"
            ],
            [
             0.7777777777777778,
             "#fb9f3a"
            ],
            [
             0.8888888888888888,
             "#fdca26"
            ],
            [
             1,
             "#f0f921"
            ]
           ]
          },
          "colorway": [
           "#636efa",
           "#EF553B",
           "#00cc96",
           "#ab63fa",
           "#FFA15A",
           "#19d3f3",
           "#FF6692",
           "#B6E880",
           "#FF97FF",
           "#FECB52"
          ],
          "font": {
           "color": "#2a3f5f"
          },
          "geo": {
           "bgcolor": "white",
           "lakecolor": "white",
           "landcolor": "#E5ECF6",
           "showlakes": true,
           "showland": true,
           "subunitcolor": "white"
          },
          "hoverlabel": {
           "align": "left"
          },
          "hovermode": "closest",
          "mapbox": {
           "style": "light"
          },
          "paper_bgcolor": "white",
          "plot_bgcolor": "#E5ECF6",
          "polar": {
           "angularaxis": {
            "gridcolor": "white",
            "linecolor": "white",
            "ticks": ""
           },
           "bgcolor": "#E5ECF6",
           "radialaxis": {
            "gridcolor": "white",
            "linecolor": "white",
            "ticks": ""
           }
          },
          "scene": {
           "xaxis": {
            "backgroundcolor": "#E5ECF6",
            "gridcolor": "white",
            "gridwidth": 2,
            "linecolor": "white",
            "showbackground": true,
            "ticks": "",
            "zerolinecolor": "white"
           },
           "yaxis": {
            "backgroundcolor": "#E5ECF6",
            "gridcolor": "white",
            "gridwidth": 2,
            "linecolor": "white",
            "showbackground": true,
            "ticks": "",
            "zerolinecolor": "white"
           },
           "zaxis": {
            "backgroundcolor": "#E5ECF6",
            "gridcolor": "white",
            "gridwidth": 2,
            "linecolor": "white",
            "showbackground": true,
            "ticks": "",
            "zerolinecolor": "white"
           }
          },
          "shapedefaults": {
           "line": {
            "color": "#2a3f5f"
           }
          },
          "ternary": {
           "aaxis": {
            "gridcolor": "white",
            "linecolor": "white",
            "ticks": ""
           },
           "baxis": {
            "gridcolor": "white",
            "linecolor": "white",
            "ticks": ""
           },
           "bgcolor": "#E5ECF6",
           "caxis": {
            "gridcolor": "white",
            "linecolor": "white",
            "ticks": ""
           }
          },
          "title": {
           "x": 0.05
          },
          "xaxis": {
           "automargin": true,
           "gridcolor": "white",
           "linecolor": "white",
           "ticks": "",
           "title": {
            "standoff": 15
           },
           "zerolinecolor": "white",
           "zerolinewidth": 2
          },
          "yaxis": {
           "automargin": true,
           "gridcolor": "white",
           "linecolor": "white",
           "ticks": "",
           "title": {
            "standoff": 15
           },
           "zerolinecolor": "white",
           "zerolinewidth": 2
          }
         }
        },
        "title": {
         "text": "Average PSD from 1-s windows (second half) — EO | A7 | 45 windows"
        },
        "xaxis": {
         "anchor": "y",
         "domain": [
          0,
          1
         ],
         "range": [
          5,
          100
         ],
         "title": {
          "text": "Frequency (Hz)"
         }
        },
        "yaxis": {
         "anchor": "x",
         "domain": [
          0,
          1
         ],
         "title": {
          "text": "Power (PSD, density)"
         }
        }
       }
      }
     },
     "metadata": {},
     "output_type": "display_data"
    },
    {
     "name": "stdout",
     "output_type": "stream",
     "text": [
      "7dr6p8 | A7 | EO | windows=45 | SNR@40Hz = -0.03 dB\n"
     ]
    }
   ],
   "source": [
    "target_token = \"eo\"   # or \"ec\"\n",
    "pat = fr'(^|[^a-z]){target_token}([^a-z]|$)'\n",
    "\n",
    "f0 = 40.0\n",
    "fs_param = fs             \n",
    "fmin, fmax = 5.0, 100.0\n",
    "\n",
    "for i in range(3):\n",
    "    active_recording = sessions.iloc[i+6]\n",
    "    eeg, snr_df, load_report_dict = process_recording(active_recording)\n",
    "\n",
    "    eeg, rep = flows.preprocess_eeg_mne(\n",
    "    eeg_df=eeg,\n",
    "    sfreq=fs,\n",
    "    l_freq=min_freq, h_freq=max_freq,\n",
    "    notch=50,             \n",
    "    average_ref=True,\n",
    "    auto_bad=False,\n",
    "    return_raw=False\n",
    "    )\n",
    "\n",
    "    # Long format with sample indices\n",
    "    _tmp = eeg.copy()\n",
    "    _tmp[\"sample_idx\"] = np.arange(len(_tmp), dtype=int)\n",
    "    if \"TS_UNIX\" in _tmp.columns:\n",
    "        _tmp = _tmp.drop(columns=[\"TS_UNIX\"])\n",
    "\n",
    "    eeg_long = pd.melt(\n",
    "        _tmp,\n",
    "        id_vars=[\"sample_idx\", \"Condition\"],\n",
    "        value_vars=chans,      \n",
    "        var_name=\"Channel\",\n",
    "        value_name=\"mV\",\n",
    "    )\n",
    "\n",
    "    # Keep only EO or EC rows\n",
    "    mask_long = eeg_long[\"Condition\"].astype(str).str.contains(pat, case=False, regex=True, na=False)\n",
    "    dfc = eeg_long.loc[mask_long].copy()\n",
    "    if dfc.empty:\n",
    "        print(f\"Skip {active_recording.ID}: no rows for Condition='{target_token}'.\")\n",
    "        continue\n",
    "\n",
    "    # Pick best channel (falls back to first available)\n",
    "    target_channel_session = None\n",
    "    if isinstance(snr_df, pd.DataFrame) and not snr_df.empty and \"SNR_Second_Half\" in snr_df.columns:\n",
    "        mask_snr = snr_df[\"Condition\"].astype(str).str.contains(pat, case=False, regex=True, na=False)\n",
    "        best = snr_df[mask_snr].sort_values(\"SNR_Second_Half\", ascending=False)\n",
    "        if not best.empty:\n",
    "            target_channel_session = best[\"Channel\"].iloc[0]\n",
    "    if target_channel_session is None:\n",
    "        target_channel_session = dfc[\"Channel\"].iloc[0]\n",
    "\n",
    "    # Compute average PSD from 1-s windows in the seconbd half of each contiguous segment\n",
    "    avg_psd, n_win = avg_psd_second_half_scipy(\n",
    "        dfc_cond=dfc,\n",
    "        channel=target_channel_session,\n",
    "        fs=fs_param,\n",
    "        fmin=fmin,\n",
    "        fmax=fmax,\n",
    "        win_s=1.0,\n",
    "    )\n",
    "\n",
    "    if avg_psd is None or avg_psd.empty or n_win == 0:\n",
    "        print(f\"Skip {active_recording.ID}: no valid 1-s windows in the second half for '{target_token}'.\")\n",
    "        continue\n",
    "\n",
    "    # Plot and quantify SNR at 40 Hz\n",
    "    title = (f\"Average PSD from 1-s windows (second half) — \"\n",
    "             f\"{target_token.upper()} | {target_channel_session} | {n_win} windows\")\n",
    "    fig_psd_avg = plot_avg_psd(avg_psd, f0=f0, fmax=fmax, title=title)\n",
    "    fig_psd_avg.show()\n",
    "\n",
    "    snr_db = snr_around_f0(avg_psd, f0=f0, bw=1.0, flank=3)\n",
    "    print(f\"{active_recording.ID} | {target_channel_session} | {target_token.upper()} | \"\n",
    "          f\"windows={n_win} | SNR@{f0:.0f}Hz = {snr_db:.2f} dB\")\n"
   ]
  },
  {
   "cell_type": "code",
   "execution_count": 24,
   "metadata": {},
   "outputs": [
    {
     "name": "stdout",
     "output_type": "stream",
     "text": [
      "--- Pre-processing EEG\n",
      "Bad channel detection failed: module 'flows' has no attribute 'get_rms_bads'\n",
      "EEG channel type selected for re-referencing\n",
      "Applying average reference.\n",
      "Applying a custom ('EEG',) reference.\n"
     ]
    },
    {
     "name": "stderr",
     "output_type": "stream",
     "text": [
      "/Users/Sam/UNAM/neuro_headphone_study/Code/flows/processing.py:91: RuntimeWarning:\n",
      "\n",
      "Fiducial point nasion not found, assuming identity unknown to head transformation\n",
      "\n"
     ]
    },
    {
     "name": "stdout",
     "output_type": "stream",
     "text": [
      "ASR failed: array must not contain infs or NaNs\n",
      "--- Pre-processing EEG\n",
      "Bad channel detection failed: module 'flows' has no attribute 'get_rms_bads'\n",
      "EEG channel type selected for re-referencing\n",
      "Applying average reference.\n",
      "Applying a custom ('EEG',) reference.\n"
     ]
    },
    {
     "name": "stderr",
     "output_type": "stream",
     "text": [
      "/Users/Sam/UNAM/neuro_headphone_study/Code/flows/processing.py:91: RuntimeWarning:\n",
      "\n",
      "Fiducial point nasion not found, assuming identity unknown to head transformation\n",
      "\n"
     ]
    },
    {
     "name": "stdout",
     "output_type": "stream",
     "text": [
      "ASR failed: array must not contain infs or NaNs\n",
      "--- Pre-processing EEG\n",
      "Bad channel detection failed: module 'flows' has no attribute 'get_rms_bads'\n",
      "EEG channel type selected for re-referencing\n",
      "Applying average reference.\n",
      "Applying a custom ('EEG',) reference.\n"
     ]
    },
    {
     "name": "stderr",
     "output_type": "stream",
     "text": [
      "/Users/Sam/UNAM/neuro_headphone_study/Code/flows/processing.py:91: RuntimeWarning:\n",
      "\n",
      "Fiducial point nasion not found, assuming identity unknown to head transformation\n",
      "\n"
     ]
    },
    {
     "name": "stdout",
     "output_type": "stream",
     "text": [
      "ASR failed: array must not contain infs or NaNs\n",
      "--- Pre-processing EEG\n",
      "Bad channel detection failed: module 'flows' has no attribute 'get_rms_bads'\n",
      "EEG channel type selected for re-referencing\n",
      "Applying average reference.\n",
      "Applying a custom ('EEG',) reference.\n"
     ]
    },
    {
     "name": "stderr",
     "output_type": "stream",
     "text": [
      "/Users/Sam/UNAM/neuro_headphone_study/Code/flows/processing.py:91: RuntimeWarning:\n",
      "\n",
      "Fiducial point nasion not found, assuming identity unknown to head transformation\n",
      "\n"
     ]
    },
    {
     "name": "stdout",
     "output_type": "stream",
     "text": [
      "ASR failed: array must not contain infs or NaNs\n",
      "--- Pre-processing EEG\n",
      "Bad channel detection failed: module 'flows' has no attribute 'get_rms_bads'\n",
      "EEG channel type selected for re-referencing\n",
      "Applying average reference.\n",
      "Applying a custom ('EEG',) reference.\n"
     ]
    },
    {
     "name": "stderr",
     "output_type": "stream",
     "text": [
      "/Users/Sam/UNAM/neuro_headphone_study/Code/flows/processing.py:91: RuntimeWarning:\n",
      "\n",
      "Fiducial point nasion not found, assuming identity unknown to head transformation\n",
      "\n"
     ]
    },
    {
     "name": "stdout",
     "output_type": "stream",
     "text": [
      "ASR failed: array must not contain infs or NaNs\n",
      "--- Pre-processing EEG\n",
      "Bad channel detection failed: module 'flows' has no attribute 'get_rms_bads'\n",
      "EEG channel type selected for re-referencing\n",
      "Applying average reference.\n",
      "Applying a custom ('EEG',) reference.\n"
     ]
    },
    {
     "name": "stderr",
     "output_type": "stream",
     "text": [
      "/Users/Sam/UNAM/neuro_headphone_study/Code/flows/processing.py:91: RuntimeWarning:\n",
      "\n",
      "Fiducial point nasion not found, assuming identity unknown to head transformation\n",
      "\n"
     ]
    },
    {
     "name": "stdout",
     "output_type": "stream",
     "text": [
      "ASR failed: array must not contain infs or NaNs\n",
      "--- Pre-processing EEG\n",
      "Bad channel detection failed: module 'flows' has no attribute 'get_rms_bads'\n",
      "EEG channel type selected for re-referencing\n",
      "Applying average reference.\n",
      "Applying a custom ('EEG',) reference.\n"
     ]
    },
    {
     "name": "stderr",
     "output_type": "stream",
     "text": [
      "/Users/Sam/UNAM/neuro_headphone_study/Code/flows/processing.py:91: RuntimeWarning:\n",
      "\n",
      "Fiducial point nasion not found, assuming identity unknown to head transformation\n",
      "\n"
     ]
    },
    {
     "name": "stdout",
     "output_type": "stream",
     "text": [
      "ASR failed: array must not contain infs or NaNs\n",
      "--- Pre-processing EEG\n",
      "Bad channel detection failed: module 'flows' has no attribute 'get_rms_bads'\n",
      "EEG channel type selected for re-referencing\n",
      "Applying average reference.\n",
      "Applying a custom ('EEG',) reference.\n"
     ]
    },
    {
     "name": "stderr",
     "output_type": "stream",
     "text": [
      "/Users/Sam/UNAM/neuro_headphone_study/Code/flows/processing.py:91: RuntimeWarning:\n",
      "\n",
      "Fiducial point nasion not found, assuming identity unknown to head transformation\n",
      "\n"
     ]
    },
    {
     "name": "stdout",
     "output_type": "stream",
     "text": [
      "ASR failed: array must not contain infs or NaNs\n",
      "--- Pre-processing EEG\n",
      "Bad channel detection failed: module 'flows' has no attribute 'get_rms_bads'\n",
      "EEG channel type selected for re-referencing\n",
      "Applying average reference.\n",
      "Applying a custom ('EEG',) reference.\n"
     ]
    },
    {
     "name": "stderr",
     "output_type": "stream",
     "text": [
      "/Users/Sam/UNAM/neuro_headphone_study/Code/flows/processing.py:91: RuntimeWarning:\n",
      "\n",
      "Fiducial point nasion not found, assuming identity unknown to head transformation\n",
      "\n"
     ]
    },
    {
     "name": "stdout",
     "output_type": "stream",
     "text": [
      "ASR failed: array must not contain infs or NaNs\n",
      "--- Pre-processing EEG\n",
      "Bad channel detection failed: module 'flows' has no attribute 'get_rms_bads'\n",
      "EEG channel type selected for re-referencing\n",
      "Applying average reference.\n",
      "Applying a custom ('EEG',) reference.\n"
     ]
    },
    {
     "name": "stderr",
     "output_type": "stream",
     "text": [
      "/Users/Sam/UNAM/neuro_headphone_study/Code/flows/processing.py:91: RuntimeWarning:\n",
      "\n",
      "Fiducial point nasion not found, assuming identity unknown to head transformation\n",
      "\n"
     ]
    },
    {
     "name": "stdout",
     "output_type": "stream",
     "text": [
      "ASR failed: array must not contain infs or NaNs\n",
      "--- Pre-processing EEG\n",
      "Bad channel detection failed: module 'flows' has no attribute 'get_rms_bads'\n",
      "EEG channel type selected for re-referencing\n",
      "Applying average reference.\n",
      "Applying a custom ('EEG',) reference.\n"
     ]
    },
    {
     "name": "stderr",
     "output_type": "stream",
     "text": [
      "/Users/Sam/UNAM/neuro_headphone_study/Code/flows/processing.py:91: RuntimeWarning:\n",
      "\n",
      "Fiducial point nasion not found, assuming identity unknown to head transformation\n",
      "\n"
     ]
    },
    {
     "name": "stdout",
     "output_type": "stream",
     "text": [
      "ASR failed: array must not contain infs or NaNs\n",
      "--- Pre-processing EEG\n",
      "Bad channel detection failed: module 'flows' has no attribute 'get_rms_bads'\n",
      "EEG channel type selected for re-referencing\n",
      "Applying average reference.\n",
      "Applying a custom ('EEG',) reference.\n"
     ]
    },
    {
     "name": "stderr",
     "output_type": "stream",
     "text": [
      "/Users/Sam/UNAM/neuro_headphone_study/Code/flows/processing.py:91: RuntimeWarning:\n",
      "\n",
      "Fiducial point nasion not found, assuming identity unknown to head transformation\n",
      "\n"
     ]
    },
    {
     "name": "stdout",
     "output_type": "stream",
     "text": [
      "ASR failed: array must not contain infs or NaNs\n",
      "--- Pre-processing EEG\n",
      "Bad channel detection failed: module 'flows' has no attribute 'get_rms_bads'\n",
      "EEG channel type selected for re-referencing\n",
      "Applying average reference.\n",
      "Applying a custom ('EEG',) reference.\n"
     ]
    },
    {
     "name": "stderr",
     "output_type": "stream",
     "text": [
      "/Users/Sam/UNAM/neuro_headphone_study/Code/flows/processing.py:91: RuntimeWarning:\n",
      "\n",
      "Fiducial point nasion not found, assuming identity unknown to head transformation\n",
      "\n"
     ]
    },
    {
     "name": "stdout",
     "output_type": "stream",
     "text": [
      "ASR failed: array must not contain infs or NaNs\n",
      "--- Pre-processing EEG\n",
      "Bad channel detection failed: module 'flows' has no attribute 'get_rms_bads'\n",
      "EEG channel type selected for re-referencing\n",
      "Applying average reference.\n",
      "Applying a custom ('EEG',) reference.\n"
     ]
    },
    {
     "name": "stderr",
     "output_type": "stream",
     "text": [
      "/Users/Sam/UNAM/neuro_headphone_study/Code/flows/processing.py:91: RuntimeWarning:\n",
      "\n",
      "Fiducial point nasion not found, assuming identity unknown to head transformation\n",
      "\n"
     ]
    },
    {
     "name": "stdout",
     "output_type": "stream",
     "text": [
      "ASR failed: array must not contain infs or NaNs\n",
      "--- Pre-processing EEG\n",
      "Bad channel detection failed: module 'flows' has no attribute 'get_rms_bads'\n",
      "EEG channel type selected for re-referencing\n",
      "Applying average reference.\n",
      "Applying a custom ('EEG',) reference.\n"
     ]
    },
    {
     "name": "stderr",
     "output_type": "stream",
     "text": [
      "/Users/Sam/UNAM/neuro_headphone_study/Code/flows/processing.py:91: RuntimeWarning:\n",
      "\n",
      "Fiducial point nasion not found, assuming identity unknown to head transformation\n",
      "\n"
     ]
    },
    {
     "name": "stdout",
     "output_type": "stream",
     "text": [
      "ASR failed: array must not contain infs or NaNs\n",
      "Skip 12cbia: process_recording failed: single positional indexer is out-of-bounds\n",
      "--- Pre-processing EEG\n",
      "Bad channel detection failed: module 'flows' has no attribute 'get_rms_bads'\n",
      "EEG channel type selected for re-referencing\n",
      "Applying average reference.\n",
      "Applying a custom ('EEG',) reference.\n"
     ]
    },
    {
     "name": "stderr",
     "output_type": "stream",
     "text": [
      "/Users/Sam/UNAM/neuro_headphone_study/Code/flows/processing.py:91: RuntimeWarning:\n",
      "\n",
      "Fiducial point nasion not found, assuming identity unknown to head transformation\n",
      "\n"
     ]
    },
    {
     "name": "stdout",
     "output_type": "stream",
     "text": [
      "ASR failed: cannot reshape array of size 180288 into shape (2818,64)\n",
      "--- Pre-processing EEG\n",
      "Bad channel detection failed: module 'flows' has no attribute 'get_rms_bads'\n",
      "EEG channel type selected for re-referencing\n",
      "Applying average reference.\n",
      "Applying a custom ('EEG',) reference.\n"
     ]
    },
    {
     "name": "stderr",
     "output_type": "stream",
     "text": [
      "/Users/Sam/UNAM/neuro_headphone_study/Code/flows/processing.py:91: RuntimeWarning:\n",
      "\n",
      "Fiducial point nasion not found, assuming identity unknown to head transformation\n",
      "\n"
     ]
    },
    {
     "name": "stdout",
     "output_type": "stream",
     "text": [
      "ASR failed: array must not contain infs or NaNs\n",
      "--- Pre-processing EEG\n",
      "Bad channel detection failed: module 'flows' has no attribute 'get_rms_bads'\n",
      "EEG channel type selected for re-referencing\n",
      "Applying average reference.\n",
      "Applying a custom ('EEG',) reference.\n"
     ]
    },
    {
     "name": "stderr",
     "output_type": "stream",
     "text": [
      "/Users/Sam/UNAM/neuro_headphone_study/Code/flows/processing.py:91: RuntimeWarning:\n",
      "\n",
      "Fiducial point nasion not found, assuming identity unknown to head transformation\n",
      "\n"
     ]
    },
    {
     "name": "stdout",
     "output_type": "stream",
     "text": [
      "ASR failed: array must not contain infs or NaNs\n",
      "--- Pre-processing EEG\n",
      "Bad channel detection failed: module 'flows' has no attribute 'get_rms_bads'\n",
      "EEG channel type selected for re-referencing\n",
      "Applying average reference.\n",
      "Applying a custom ('EEG',) reference.\n"
     ]
    },
    {
     "name": "stderr",
     "output_type": "stream",
     "text": [
      "/Users/Sam/UNAM/neuro_headphone_study/Code/flows/processing.py:91: RuntimeWarning:\n",
      "\n",
      "Fiducial point nasion not found, assuming identity unknown to head transformation\n",
      "\n"
     ]
    },
    {
     "name": "stdout",
     "output_type": "stream",
     "text": [
      "ASR failed: array must not contain infs or NaNs\n",
      "--- Pre-processing EEG\n",
      "Bad channel detection failed: module 'flows' has no attribute 'get_rms_bads'\n",
      "EEG channel type selected for re-referencing\n",
      "Applying average reference.\n",
      "Applying a custom ('EEG',) reference.\n"
     ]
    },
    {
     "name": "stderr",
     "output_type": "stream",
     "text": [
      "/Users/Sam/UNAM/neuro_headphone_study/Code/flows/processing.py:91: RuntimeWarning:\n",
      "\n",
      "Fiducial point nasion not found, assuming identity unknown to head transformation\n",
      "\n"
     ]
    },
    {
     "name": "stdout",
     "output_type": "stream",
     "text": [
      "ASR failed: array must not contain infs or NaNs\n",
      "--- Pre-processing EEG\n",
      "Bad channel detection failed: module 'flows' has no attribute 'get_rms_bads'\n",
      "EEG channel type selected for re-referencing\n",
      "Applying average reference.\n",
      "Applying a custom ('EEG',) reference.\n"
     ]
    },
    {
     "name": "stderr",
     "output_type": "stream",
     "text": [
      "/Users/Sam/UNAM/neuro_headphone_study/Code/flows/processing.py:91: RuntimeWarning:\n",
      "\n",
      "Fiducial point nasion not found, assuming identity unknown to head transformation\n",
      "\n"
     ]
    },
    {
     "name": "stdout",
     "output_type": "stream",
     "text": [
      "ASR failed: array must not contain infs or NaNs\n",
      "--- Pre-processing EEG\n",
      "Bad channel detection failed: module 'flows' has no attribute 'get_rms_bads'\n",
      "EEG channel type selected for re-referencing\n",
      "Applying average reference.\n",
      "Applying a custom ('EEG',) reference.\n"
     ]
    },
    {
     "name": "stderr",
     "output_type": "stream",
     "text": [
      "/Users/Sam/UNAM/neuro_headphone_study/Code/flows/processing.py:91: RuntimeWarning:\n",
      "\n",
      "Fiducial point nasion not found, assuming identity unknown to head transformation\n",
      "\n"
     ]
    },
    {
     "name": "stdout",
     "output_type": "stream",
     "text": [
      "ASR failed: array must not contain infs or NaNs\n",
      "--- Pre-processing EEG\n",
      "Bad channel detection failed: module 'flows' has no attribute 'get_rms_bads'\n",
      "EEG channel type selected for re-referencing\n",
      "Applying average reference.\n",
      "Applying a custom ('EEG',) reference.\n"
     ]
    },
    {
     "name": "stderr",
     "output_type": "stream",
     "text": [
      "/Users/Sam/UNAM/neuro_headphone_study/Code/flows/processing.py:91: RuntimeWarning:\n",
      "\n",
      "Fiducial point nasion not found, assuming identity unknown to head transformation\n",
      "\n"
     ]
    },
    {
     "name": "stdout",
     "output_type": "stream",
     "text": [
      "ASR failed: array must not contain infs or NaNs\n",
      "--- Pre-processing EEG\n",
      "Bad channel detection failed: module 'flows' has no attribute 'get_rms_bads'\n",
      "EEG channel type selected for re-referencing\n",
      "Applying average reference.\n",
      "Applying a custom ('EEG',) reference.\n"
     ]
    },
    {
     "name": "stderr",
     "output_type": "stream",
     "text": [
      "/Users/Sam/UNAM/neuro_headphone_study/Code/flows/processing.py:91: RuntimeWarning:\n",
      "\n",
      "Fiducial point nasion not found, assuming identity unknown to head transformation\n",
      "\n"
     ]
    },
    {
     "name": "stdout",
     "output_type": "stream",
     "text": [
      "ASR failed: array must not contain infs or NaNs\n",
      "--- Pre-processing EEG\n",
      "Bad channel detection failed: module 'flows' has no attribute 'get_rms_bads'\n",
      "EEG channel type selected for re-referencing\n",
      "Applying average reference.\n",
      "Applying a custom ('EEG',) reference.\n"
     ]
    },
    {
     "name": "stderr",
     "output_type": "stream",
     "text": [
      "/Users/Sam/UNAM/neuro_headphone_study/Code/flows/processing.py:91: RuntimeWarning:\n",
      "\n",
      "Fiducial point nasion not found, assuming identity unknown to head transformation\n",
      "\n"
     ]
    },
    {
     "name": "stdout",
     "output_type": "stream",
     "text": [
      "ASR failed: array must not contain infs or NaNs\n",
      "--- Pre-processing EEG\n",
      "Bad channel detection failed: module 'flows' has no attribute 'get_rms_bads'\n",
      "EEG channel type selected for re-referencing\n",
      "Applying average reference.\n",
      "Applying a custom ('EEG',) reference.\n"
     ]
    },
    {
     "name": "stderr",
     "output_type": "stream",
     "text": [
      "/Users/Sam/UNAM/neuro_headphone_study/Code/flows/processing.py:91: RuntimeWarning:\n",
      "\n",
      "Fiducial point nasion not found, assuming identity unknown to head transformation\n",
      "\n"
     ]
    },
    {
     "name": "stdout",
     "output_type": "stream",
     "text": [
      "ASR failed: array must not contain infs or NaNs\n",
      "--- Pre-processing EEG\n",
      "Bad channel detection failed: module 'flows' has no attribute 'get_rms_bads'\n",
      "EEG channel type selected for re-referencing\n",
      "Applying average reference.\n",
      "Applying a custom ('EEG',) reference.\n"
     ]
    },
    {
     "name": "stderr",
     "output_type": "stream",
     "text": [
      "/Users/Sam/UNAM/neuro_headphone_study/Code/flows/processing.py:91: RuntimeWarning:\n",
      "\n",
      "Fiducial point nasion not found, assuming identity unknown to head transformation\n",
      "\n"
     ]
    },
    {
     "name": "stdout",
     "output_type": "stream",
     "text": [
      "ASR failed: array must not contain infs or NaNs\n",
      "--- Pre-processing EEG\n",
      "Bad channel detection failed: module 'flows' has no attribute 'get_rms_bads'\n",
      "EEG channel type selected for re-referencing\n",
      "Applying average reference.\n",
      "Applying a custom ('EEG',) reference.\n"
     ]
    },
    {
     "name": "stderr",
     "output_type": "stream",
     "text": [
      "/Users/Sam/UNAM/neuro_headphone_study/Code/flows/processing.py:91: RuntimeWarning:\n",
      "\n",
      "Fiducial point nasion not found, assuming identity unknown to head transformation\n",
      "\n"
     ]
    },
    {
     "name": "stdout",
     "output_type": "stream",
     "text": [
      "ASR failed: array must not contain infs or NaNs\n",
      "--- Pre-processing EEG\n",
      "Bad channel detection failed: module 'flows' has no attribute 'get_rms_bads'\n",
      "EEG channel type selected for re-referencing\n",
      "Applying average reference.\n",
      "Applying a custom ('EEG',) reference.\n"
     ]
    },
    {
     "name": "stderr",
     "output_type": "stream",
     "text": [
      "/Users/Sam/UNAM/neuro_headphone_study/Code/flows/processing.py:91: RuntimeWarning:\n",
      "\n",
      "Fiducial point nasion not found, assuming identity unknown to head transformation\n",
      "\n"
     ]
    },
    {
     "name": "stdout",
     "output_type": "stream",
     "text": [
      "ASR failed: array must not contain infs or NaNs\n",
      "--- Pre-processing EEG\n",
      "Bad channel detection failed: module 'flows' has no attribute 'get_rms_bads'\n",
      "EEG channel type selected for re-referencing\n",
      "Applying average reference.\n",
      "Applying a custom ('EEG',) reference.\n"
     ]
    },
    {
     "name": "stderr",
     "output_type": "stream",
     "text": [
      "/Users/Sam/UNAM/neuro_headphone_study/Code/flows/processing.py:91: RuntimeWarning:\n",
      "\n",
      "Fiducial point nasion not found, assuming identity unknown to head transformation\n",
      "\n"
     ]
    },
    {
     "name": "stdout",
     "output_type": "stream",
     "text": [
      "ASR failed: array must not contain infs or NaNs\n",
      "--- Pre-processing EEG\n",
      "Bad channel detection failed: module 'flows' has no attribute 'get_rms_bads'\n",
      "EEG channel type selected for re-referencing\n",
      "Applying average reference.\n",
      "Applying a custom ('EEG',) reference.\n"
     ]
    },
    {
     "name": "stderr",
     "output_type": "stream",
     "text": [
      "/Users/Sam/UNAM/neuro_headphone_study/Code/flows/processing.py:91: RuntimeWarning:\n",
      "\n",
      "Fiducial point nasion not found, assuming identity unknown to head transformation\n",
      "\n"
     ]
    },
    {
     "name": "stdout",
     "output_type": "stream",
     "text": [
      "ASR failed: array must not contain infs or NaNs\n",
      "--- Pre-processing EEG\n",
      "Bad channel detection failed: module 'flows' has no attribute 'get_rms_bads'\n",
      "EEG channel type selected for re-referencing\n",
      "Applying average reference.\n",
      "Applying a custom ('EEG',) reference.\n"
     ]
    },
    {
     "name": "stderr",
     "output_type": "stream",
     "text": [
      "/Users/Sam/UNAM/neuro_headphone_study/Code/flows/processing.py:91: RuntimeWarning:\n",
      "\n",
      "Fiducial point nasion not found, assuming identity unknown to head transformation\n",
      "\n"
     ]
    },
    {
     "name": "stdout",
     "output_type": "stream",
     "text": [
      "ASR failed: array must not contain infs or NaNs\n",
      "--- Pre-processing EEG\n",
      "Bad channel detection failed: module 'flows' has no attribute 'get_rms_bads'\n",
      "EEG channel type selected for re-referencing\n",
      "Applying average reference.\n",
      "Applying a custom ('EEG',) reference.\n"
     ]
    },
    {
     "name": "stderr",
     "output_type": "stream",
     "text": [
      "/Users/Sam/UNAM/neuro_headphone_study/Code/flows/processing.py:91: RuntimeWarning:\n",
      "\n",
      "Fiducial point nasion not found, assuming identity unknown to head transformation\n",
      "\n"
     ]
    },
    {
     "name": "stdout",
     "output_type": "stream",
     "text": [
      "ASR failed: array must not contain infs or NaNs\n",
      "--- Pre-processing EEG\n",
      "Bad channel detection failed: module 'flows' has no attribute 'get_rms_bads'\n",
      "EEG channel type selected for re-referencing\n",
      "Applying average reference.\n",
      "Applying a custom ('EEG',) reference.\n"
     ]
    },
    {
     "name": "stderr",
     "output_type": "stream",
     "text": [
      "/Users/Sam/UNAM/neuro_headphone_study/Code/flows/processing.py:91: RuntimeWarning:\n",
      "\n",
      "Fiducial point nasion not found, assuming identity unknown to head transformation\n",
      "\n"
     ]
    },
    {
     "name": "stdout",
     "output_type": "stream",
     "text": [
      "ASR failed: array must not contain infs or NaNs\n",
      "--- Pre-processing EEG\n",
      "Bad channel detection failed: module 'flows' has no attribute 'get_rms_bads'\n",
      "EEG channel type selected for re-referencing\n",
      "Applying average reference.\n",
      "Applying a custom ('EEG',) reference.\n"
     ]
    },
    {
     "name": "stderr",
     "output_type": "stream",
     "text": [
      "/Users/Sam/UNAM/neuro_headphone_study/Code/flows/processing.py:91: RuntimeWarning:\n",
      "\n",
      "Fiducial point nasion not found, assuming identity unknown to head transformation\n",
      "\n"
     ]
    },
    {
     "name": "stdout",
     "output_type": "stream",
     "text": [
      "ASR failed: array must not contain infs or NaNs\n",
      "--- Pre-processing EEG\n",
      "Bad channel detection failed: module 'flows' has no attribute 'get_rms_bads'\n",
      "EEG channel type selected for re-referencing\n",
      "Applying average reference.\n",
      "Applying a custom ('EEG',) reference.\n"
     ]
    },
    {
     "name": "stderr",
     "output_type": "stream",
     "text": [
      "/Users/Sam/UNAM/neuro_headphone_study/Code/flows/processing.py:91: RuntimeWarning:\n",
      "\n",
      "Fiducial point nasion not found, assuming identity unknown to head transformation\n",
      "\n"
     ]
    },
    {
     "name": "stdout",
     "output_type": "stream",
     "text": [
      "ASR failed: array must not contain infs or NaNs\n",
      "--- Pre-processing EEG\n",
      "Bad channel detection failed: module 'flows' has no attribute 'get_rms_bads'\n",
      "EEG channel type selected for re-referencing\n",
      "Applying average reference.\n",
      "Applying a custom ('EEG',) reference.\n"
     ]
    },
    {
     "name": "stderr",
     "output_type": "stream",
     "text": [
      "/Users/Sam/UNAM/neuro_headphone_study/Code/flows/processing.py:91: RuntimeWarning:\n",
      "\n",
      "Fiducial point nasion not found, assuming identity unknown to head transformation\n",
      "\n"
     ]
    },
    {
     "name": "stdout",
     "output_type": "stream",
     "text": [
      "ASR failed: array must not contain infs or NaNs\n",
      "--- Pre-processing EEG\n",
      "Bad channel detection failed: module 'flows' has no attribute 'get_rms_bads'\n",
      "EEG channel type selected for re-referencing\n",
      "Applying average reference.\n",
      "Applying a custom ('EEG',) reference.\n"
     ]
    },
    {
     "name": "stderr",
     "output_type": "stream",
     "text": [
      "/Users/Sam/UNAM/neuro_headphone_study/Code/flows/processing.py:91: RuntimeWarning:\n",
      "\n",
      "Fiducial point nasion not found, assuming identity unknown to head transformation\n",
      "\n"
     ]
    },
    {
     "name": "stdout",
     "output_type": "stream",
     "text": [
      "ASR failed: array must not contain infs or NaNs\n",
      "--- Pre-processing EEG\n",
      "Bad channel detection failed: module 'flows' has no attribute 'get_rms_bads'\n",
      "EEG channel type selected for re-referencing\n",
      "Applying average reference.\n",
      "Applying a custom ('EEG',) reference.\n"
     ]
    },
    {
     "name": "stderr",
     "output_type": "stream",
     "text": [
      "/Users/Sam/UNAM/neuro_headphone_study/Code/flows/processing.py:91: RuntimeWarning:\n",
      "\n",
      "Fiducial point nasion not found, assuming identity unknown to head transformation\n",
      "\n"
     ]
    },
    {
     "name": "stdout",
     "output_type": "stream",
     "text": [
      "ASR failed: Eigenvalues did not converge\n",
      "Skip 9hqfii: process_recording failed: 'SNR_Second_Half'\n",
      "--- Pre-processing EEG\n",
      "Bad channel detection failed: module 'flows' has no attribute 'get_rms_bads'\n",
      "EEG channel type selected for re-referencing\n",
      "Applying average reference.\n",
      "Applying a custom ('EEG',) reference.\n"
     ]
    },
    {
     "name": "stderr",
     "output_type": "stream",
     "text": [
      "/Users/Sam/UNAM/neuro_headphone_study/Code/flows/processing.py:218: RuntimeWarning:\n",
      "\n",
      "filter_length (1651) is longer than the signal (874), distortion is likely. Reduce filter length or filter a longer signal.\n",
      "\n",
      "/Users/Sam/UNAM/neuro_headphone_study/Code/flows/processing.py:218: RuntimeWarning:\n",
      "\n",
      "filter_length (1651) is longer than the signal (874), distortion is likely. Reduce filter length or filter a longer signal.\n",
      "\n",
      "/Users/Sam/UNAM/neuro_headphone_study/Code/flows/processing.py:218: RuntimeWarning:\n",
      "\n",
      "filter_length (1651) is longer than the signal (874), distortion is likely. Reduce filter length or filter a longer signal.\n",
      "\n",
      "/Users/Sam/UNAM/neuro_headphone_study/Code/flows/processing.py:218: RuntimeWarning:\n",
      "\n",
      "filter_length (1651) is longer than the signal (874), distortion is likely. Reduce filter length or filter a longer signal.\n",
      "\n",
      "/Users/Sam/UNAM/neuro_headphone_study/Code/flows/processing.py:218: RuntimeWarning:\n",
      "\n",
      "filter_length (1651) is longer than the signal (874), distortion is likely. Reduce filter length or filter a longer signal.\n",
      "\n",
      "/Users/Sam/UNAM/neuro_headphone_study/Code/flows/processing.py:218: RuntimeWarning:\n",
      "\n",
      "filter_length (1651) is longer than the signal (874), distortion is likely. Reduce filter length or filter a longer signal.\n",
      "\n",
      "/Users/Sam/UNAM/neuro_headphone_study/Code/flows/processing.py:218: RuntimeWarning:\n",
      "\n",
      "filter_length (1651) is longer than the signal (874), distortion is likely. Reduce filter length or filter a longer signal.\n",
      "\n",
      "/Users/Sam/UNAM/neuro_headphone_study/Code/flows/processing.py:218: RuntimeWarning:\n",
      "\n",
      "filter_length (1651) is longer than the signal (874), distortion is likely. Reduce filter length or filter a longer signal.\n",
      "\n",
      "/Users/Sam/UNAM/neuro_headphone_study/Code/flows/processing.py:91: RuntimeWarning:\n",
      "\n",
      "Fiducial point nasion not found, assuming identity unknown to head transformation\n",
      "\n",
      "/Users/Sam/miniconda3/envs/charite/lib/python3.12/site-packages/asrpy/asr_utils.py:124: RuntimeWarning:\n",
      "\n",
      "divide by zero encountered in divide\n",
      "\n",
      "/Users/Sam/miniconda3/envs/charite/lib/python3.12/site-packages/asrpy/asr_utils.py:125: RuntimeWarning:\n",
      "\n",
      "invalid value encountered in multiply\n",
      "\n"
     ]
    },
    {
     "name": "stdout",
     "output_type": "stream",
     "text": [
      "Skip 9hqfii: process_recording failed: 'SNR_Second_Half'\n",
      "--- Pre-processing EEG\n",
      "Bad channel detection failed: module 'flows' has no attribute 'get_rms_bads'\n",
      "EEG channel type selected for re-referencing\n",
      "Applying average reference.\n",
      "Applying a custom ('EEG',) reference.\n"
     ]
    },
    {
     "name": "stderr",
     "output_type": "stream",
     "text": [
      "/Users/Sam/UNAM/neuro_headphone_study/Code/flows/processing.py:91: RuntimeWarning:\n",
      "\n",
      "Fiducial point nasion not found, assuming identity unknown to head transformation\n",
      "\n"
     ]
    },
    {
     "name": "stdout",
     "output_type": "stream",
     "text": [
      "--- Pre-processing EEG\n",
      "Bad channel detection failed: module 'flows' has no attribute 'get_rms_bads'\n",
      "EEG channel type selected for re-referencing\n",
      "Applying average reference.\n",
      "Applying a custom ('EEG',) reference.\n"
     ]
    },
    {
     "name": "stderr",
     "output_type": "stream",
     "text": [
      "/Users/Sam/UNAM/neuro_headphone_study/Code/flows/processing.py:91: RuntimeWarning:\n",
      "\n",
      "Fiducial point nasion not found, assuming identity unknown to head transformation\n",
      "\n"
     ]
    },
    {
     "name": "stdout",
     "output_type": "stream",
     "text": [
      "ASR failed: array must not contain infs or NaNs\n",
      "--- Pre-processing EEG\n",
      "Bad channel detection failed: module 'flows' has no attribute 'get_rms_bads'\n",
      "EEG channel type selected for re-referencing\n",
      "Applying average reference.\n",
      "Applying a custom ('EEG',) reference.\n"
     ]
    },
    {
     "name": "stderr",
     "output_type": "stream",
     "text": [
      "/Users/Sam/UNAM/neuro_headphone_study/Code/flows/processing.py:91: RuntimeWarning:\n",
      "\n",
      "Fiducial point nasion not found, assuming identity unknown to head transformation\n",
      "\n"
     ]
    },
    {
     "name": "stdout",
     "output_type": "stream",
     "text": [
      "ASR failed: array must not contain infs or NaNs\n",
      "--- Pre-processing EEG\n",
      "Bad channel detection failed: module 'flows' has no attribute 'get_rms_bads'\n",
      "EEG channel type selected for re-referencing\n",
      "Applying average reference.\n",
      "Applying a custom ('EEG',) reference.\n"
     ]
    },
    {
     "name": "stderr",
     "output_type": "stream",
     "text": [
      "/Users/Sam/UNAM/neuro_headphone_study/Code/flows/processing.py:91: RuntimeWarning:\n",
      "\n",
      "Fiducial point nasion not found, assuming identity unknown to head transformation\n",
      "\n"
     ]
    },
    {
     "name": "stdout",
     "output_type": "stream",
     "text": [
      "ASR failed: array must not contain infs or NaNs\n",
      "--- Pre-processing EEG\n",
      "Bad channel detection failed: module 'flows' has no attribute 'get_rms_bads'\n",
      "EEG channel type selected for re-referencing\n",
      "Applying average reference.\n",
      "Applying a custom ('EEG',) reference.\n"
     ]
    },
    {
     "name": "stderr",
     "output_type": "stream",
     "text": [
      "/Users/Sam/UNAM/neuro_headphone_study/Code/flows/processing.py:91: RuntimeWarning:\n",
      "\n",
      "Fiducial point nasion not found, assuming identity unknown to head transformation\n",
      "\n"
     ]
    },
    {
     "name": "stdout",
     "output_type": "stream",
     "text": [
      "ASR failed: array must not contain infs or NaNs\n",
      "--- Pre-processing EEG\n",
      "Bad channel detection failed: module 'flows' has no attribute 'get_rms_bads'\n",
      "EEG channel type selected for re-referencing\n",
      "Applying average reference.\n",
      "Applying a custom ('EEG',) reference.\n"
     ]
    },
    {
     "name": "stderr",
     "output_type": "stream",
     "text": [
      "/Users/Sam/UNAM/neuro_headphone_study/Code/flows/processing.py:91: RuntimeWarning:\n",
      "\n",
      "Fiducial point nasion not found, assuming identity unknown to head transformation\n",
      "\n"
     ]
    },
    {
     "name": "stdout",
     "output_type": "stream",
     "text": [
      "ASR failed: array must not contain infs or NaNs\n",
      "--- Pre-processing EEG\n",
      "Bad channel detection failed: module 'flows' has no attribute 'get_rms_bads'\n",
      "EEG channel type selected for re-referencing\n",
      "Applying average reference.\n",
      "Applying a custom ('EEG',) reference.\n"
     ]
    },
    {
     "name": "stderr",
     "output_type": "stream",
     "text": [
      "/Users/Sam/UNAM/neuro_headphone_study/Code/flows/processing.py:91: RuntimeWarning:\n",
      "\n",
      "Fiducial point nasion not found, assuming identity unknown to head transformation\n",
      "\n"
     ]
    },
    {
     "name": "stdout",
     "output_type": "stream",
     "text": [
      "ASR failed: array must not contain infs or NaNs\n",
      "--- Pre-processing EEG\n",
      "Bad channel detection failed: module 'flows' has no attribute 'get_rms_bads'\n",
      "EEG channel type selected for re-referencing\n",
      "Applying average reference.\n",
      "Applying a custom ('EEG',) reference.\n"
     ]
    },
    {
     "name": "stderr",
     "output_type": "stream",
     "text": [
      "/Users/Sam/UNAM/neuro_headphone_study/Code/flows/processing.py:91: RuntimeWarning:\n",
      "\n",
      "Fiducial point nasion not found, assuming identity unknown to head transformation\n",
      "\n"
     ]
    },
    {
     "name": "stdout",
     "output_type": "stream",
     "text": [
      "ASR failed: array must not contain infs or NaNs\n",
      "--- Pre-processing EEG\n",
      "Bad channel detection failed: module 'flows' has no attribute 'get_rms_bads'\n",
      "EEG channel type selected for re-referencing\n",
      "Applying average reference.\n",
      "Applying a custom ('EEG',) reference.\n"
     ]
    },
    {
     "name": "stderr",
     "output_type": "stream",
     "text": [
      "/Users/Sam/UNAM/neuro_headphone_study/Code/flows/processing.py:91: RuntimeWarning:\n",
      "\n",
      "Fiducial point nasion not found, assuming identity unknown to head transformation\n",
      "\n"
     ]
    },
    {
     "name": "stdout",
     "output_type": "stream",
     "text": [
      "ASR failed: array must not contain infs or NaNs\n",
      "--- Pre-processing EEG\n",
      "Bad channel detection failed: module 'flows' has no attribute 'get_rms_bads'\n",
      "EEG channel type selected for re-referencing\n",
      "Applying average reference.\n",
      "Applying a custom ('EEG',) reference.\n"
     ]
    },
    {
     "name": "stderr",
     "output_type": "stream",
     "text": [
      "/Users/Sam/UNAM/neuro_headphone_study/Code/flows/processing.py:91: RuntimeWarning:\n",
      "\n",
      "Fiducial point nasion not found, assuming identity unknown to head transformation\n",
      "\n"
     ]
    },
    {
     "name": "stdout",
     "output_type": "stream",
     "text": [
      "ASR failed: array must not contain infs or NaNs\n",
      "--- Pre-processing EEG\n",
      "Bad channel detection failed: module 'flows' has no attribute 'get_rms_bads'\n",
      "EEG channel type selected for re-referencing\n",
      "Applying average reference.\n",
      "Applying a custom ('EEG',) reference.\n"
     ]
    },
    {
     "name": "stderr",
     "output_type": "stream",
     "text": [
      "/Users/Sam/UNAM/neuro_headphone_study/Code/flows/processing.py:91: RuntimeWarning:\n",
      "\n",
      "Fiducial point nasion not found, assuming identity unknown to head transformation\n",
      "\n"
     ]
    },
    {
     "name": "stdout",
     "output_type": "stream",
     "text": [
      "ASR failed: array must not contain infs or NaNs\n",
      "--- Pre-processing EEG\n",
      "Bad channel detection failed: module 'flows' has no attribute 'get_rms_bads'\n",
      "EEG channel type selected for re-referencing\n",
      "Applying average reference.\n",
      "Applying a custom ('EEG',) reference.\n"
     ]
    },
    {
     "name": "stderr",
     "output_type": "stream",
     "text": [
      "/Users/Sam/UNAM/neuro_headphone_study/Code/flows/processing.py:91: RuntimeWarning:\n",
      "\n",
      "Fiducial point nasion not found, assuming identity unknown to head transformation\n",
      "\n"
     ]
    },
    {
     "name": "stdout",
     "output_type": "stream",
     "text": [
      "ASR failed: array must not contain infs or NaNs\n",
      "--- Pre-processing EEG\n",
      "Bad channel detection failed: module 'flows' has no attribute 'get_rms_bads'\n",
      "EEG channel type selected for re-referencing\n",
      "Applying average reference.\n",
      "Applying a custom ('EEG',) reference.\n"
     ]
    },
    {
     "name": "stderr",
     "output_type": "stream",
     "text": [
      "/Users/Sam/UNAM/neuro_headphone_study/Code/flows/processing.py:91: RuntimeWarning:\n",
      "\n",
      "Fiducial point nasion not found, assuming identity unknown to head transformation\n",
      "\n"
     ]
    },
    {
     "name": "stdout",
     "output_type": "stream",
     "text": [
      "ASR failed: array must not contain infs or NaNs\n",
      "--- Pre-processing EEG\n",
      "Bad channel detection failed: module 'flows' has no attribute 'get_rms_bads'\n",
      "EEG channel type selected for re-referencing\n",
      "Applying average reference.\n",
      "Applying a custom ('EEG',) reference.\n"
     ]
    },
    {
     "name": "stderr",
     "output_type": "stream",
     "text": [
      "/Users/Sam/UNAM/neuro_headphone_study/Code/flows/processing.py:91: RuntimeWarning:\n",
      "\n",
      "Fiducial point nasion not found, assuming identity unknown to head transformation\n",
      "\n"
     ]
    },
    {
     "name": "stdout",
     "output_type": "stream",
     "text": [
      "ASR failed: array must not contain infs or NaNs\n",
      "--- Pre-processing EEG\n",
      "Bad channel detection failed: module 'flows' has no attribute 'get_rms_bads'\n",
      "EEG channel type selected for re-referencing\n",
      "Applying average reference.\n",
      "Applying a custom ('EEG',) reference.\n"
     ]
    },
    {
     "name": "stderr",
     "output_type": "stream",
     "text": [
      "/Users/Sam/UNAM/neuro_headphone_study/Code/flows/processing.py:91: RuntimeWarning:\n",
      "\n",
      "Fiducial point nasion not found, assuming identity unknown to head transformation\n",
      "\n"
     ]
    },
    {
     "name": "stdout",
     "output_type": "stream",
     "text": [
      "ASR failed: array must not contain infs or NaNs\n",
      "--- Pre-processing EEG\n",
      "Bad channel detection failed: module 'flows' has no attribute 'get_rms_bads'\n",
      "EEG channel type selected for re-referencing\n",
      "Applying average reference.\n",
      "Applying a custom ('EEG',) reference.\n"
     ]
    },
    {
     "name": "stderr",
     "output_type": "stream",
     "text": [
      "/Users/Sam/UNAM/neuro_headphone_study/Code/flows/processing.py:91: RuntimeWarning:\n",
      "\n",
      "Fiducial point nasion not found, assuming identity unknown to head transformation\n",
      "\n"
     ]
    },
    {
     "name": "stdout",
     "output_type": "stream",
     "text": [
      "ASR failed: array must not contain infs or NaNs\n"
     ]
    },
    {
     "data": {
      "application/vnd.plotly.v1+json": {
       "config": {
        "plotlyServerURL": "https://plot.ly"
       },
       "data": [
        {
         "coloraxis": "coloraxis",
         "colorbar": {
          "title": {
           "text": "ASSR SNR (2nd half)"
          }
         },
         "hovertemplate": "ID: %{x}<br>Run: %{y}<br>ASSR SNR (2nd half): %{z}<extra></extra>",
         "name": "0",
         "showscale": false,
         "type": "heatmap",
         "x": [
          "564f1u",
          "9j2wl4",
          "9pueps",
          "a272u4",
          "anejys",
          "az2bj9",
          "az470i",
          "g808pk"
         ],
         "xaxis": "x",
         "y": [
          "rec1",
          "rec2",
          "rec3"
         ],
         "yaxis": "y",
         "z": {
          "bdata": "GJ+wBDEO1j8UkkrQKpSrP55QepvN8gFAbEL77sfSzD9IfCQkel0eQKwgAHeq4LU/IPfgD8sxtz+wkapzVawNQHAZ6/rSpf0/sLKauyg7oj/4bjbRutfZP3jzf5j4RLQ/IKOkVMNeqj9UFx39k+DsP5yU92OpDP0/gBiDI7ZI1D/4dexU4yD2P1TEivjD6pE/lHHcsGkv5T/oWak3XO2sP5AyE2D+TgFASOEqDc9r+z9qkWJ0CM4LQIDvlJFz4OE/",
          "dtype": "f8",
          "shape": "3, 8"
         },
         "zmax": 7.911067219564604,
         "zmin": 0.011708563181257792
        },
        {
         "coloraxis": "coloraxis",
         "colorbar": {
          "title": {
           "text": "ASSR SNR (2nd half)"
          }
         },
         "hovertemplate": "ID: %{x}<br>Run: %{y}<br>ASSR SNR (2nd half): %{z}<extra></extra>",
         "name": "0",
         "type": "heatmap",
         "x": [
          "12cbia",
          "43d7zr",
          "4wlws4",
          "7dr6p8",
          "9hqfii",
          "9sbyk3",
          "aq9b9k",
          "c1zlyv",
          "cca2av",
          "fqzqgz",
          "rl8s47"
         ],
         "xaxis": "x2",
         "y": [
          "rec1",
          "rec2",
          "rec3"
         ],
         "yaxis": "y2",
         "z": {
          "bdata": "AAAAAAAA+H9U8yHO7qQfQBJyD/77T/Y/gFe1AxUPsj8AAAAAAAD4f1BJmPfaxN4/QL6Sv6j6hz+oW9JNjTPaP2wxOORGrARAYKnJ0M993T80nF7QKHDcP3ShTk4D7/I/gCFEhSJj/z+6JGX8B9kAQPic8+E1fdE/AAAAAAAA+H+Ihv68R+LzP6iGswqJ7aY/UB4Yi1yr9z9c4qwZwNEZQIBoth6b++Q/dEXt37tJ4z9+P3sOQPoNQCD4EjTr9RBAgFw8eQY1AEAAAGjx1a3IP60GbUr3N/c/ZPRQNtsk7j+8uBkcGv3IP2CKUrRxJQpA0OxNfEPt/D92eud+axbpP5TAtlIumf8/",
          "dtype": "f8",
          "shape": "3, 11"
         },
         "zmax": 7.911067219564604,
         "zmin": 0.011708563181257792
        }
       ],
       "layout": {
        "annotations": [
         {
          "font": {
           "size": 16
          },
          "showarrow": false,
          "text": "Ear Only",
          "x": 0.225,
          "xanchor": "center",
          "xref": "paper",
          "y": 1,
          "yanchor": "bottom",
          "yref": "paper"
         },
         {
          "font": {
           "size": 16
          },
          "showarrow": false,
          "text": "Top+Ears",
          "x": 0.775,
          "xanchor": "center",
          "xref": "paper",
          "y": 1,
          "yanchor": "bottom",
          "yref": "paper"
         }
        ],
        "height": 500,
        "template": {
         "data": {
          "bar": [
           {
            "error_x": {
             "color": "#2a3f5f"
            },
            "error_y": {
             "color": "#2a3f5f"
            },
            "marker": {
             "line": {
              "color": "#E5ECF6",
              "width": 0.5
             },
             "pattern": {
              "fillmode": "overlay",
              "size": 10,
              "solidity": 0.2
             }
            },
            "type": "bar"
           }
          ],
          "barpolar": [
           {
            "marker": {
             "line": {
              "color": "#E5ECF6",
              "width": 0.5
             },
             "pattern": {
              "fillmode": "overlay",
              "size": 10,
              "solidity": 0.2
             }
            },
            "type": "barpolar"
           }
          ],
          "carpet": [
           {
            "aaxis": {
             "endlinecolor": "#2a3f5f",
             "gridcolor": "white",
             "linecolor": "white",
             "minorgridcolor": "white",
             "startlinecolor": "#2a3f5f"
            },
            "baxis": {
             "endlinecolor": "#2a3f5f",
             "gridcolor": "white",
             "linecolor": "white",
             "minorgridcolor": "white",
             "startlinecolor": "#2a3f5f"
            },
            "type": "carpet"
           }
          ],
          "choropleth": [
           {
            "colorbar": {
             "outlinewidth": 0,
             "ticks": ""
            },
            "type": "choropleth"
           }
          ],
          "contour": [
           {
            "colorbar": {
             "outlinewidth": 0,
             "ticks": ""
            },
            "colorscale": [
             [
              0,
              "#0d0887"
             ],
             [
              0.1111111111111111,
              "#46039f"
             ],
             [
              0.2222222222222222,
              "#7201a8"
             ],
             [
              0.3333333333333333,
              "#9c179e"
             ],
             [
              0.4444444444444444,
              "#bd3786"
             ],
             [
              0.5555555555555556,
              "#d8576b"
             ],
             [
              0.6666666666666666,
              "#ed7953"
             ],
             [
              0.7777777777777778,
              "#fb9f3a"
             ],
             [
              0.8888888888888888,
              "#fdca26"
             ],
             [
              1,
              "#f0f921"
             ]
            ],
            "type": "contour"
           }
          ],
          "contourcarpet": [
           {
            "colorbar": {
             "outlinewidth": 0,
             "ticks": ""
            },
            "type": "contourcarpet"
           }
          ],
          "heatmap": [
           {
            "colorbar": {
             "outlinewidth": 0,
             "ticks": ""
            },
            "colorscale": [
             [
              0,
              "#0d0887"
             ],
             [
              0.1111111111111111,
              "#46039f"
             ],
             [
              0.2222222222222222,
              "#7201a8"
             ],
             [
              0.3333333333333333,
              "#9c179e"
             ],
             [
              0.4444444444444444,
              "#bd3786"
             ],
             [
              0.5555555555555556,
              "#d8576b"
             ],
             [
              0.6666666666666666,
              "#ed7953"
             ],
             [
              0.7777777777777778,
              "#fb9f3a"
             ],
             [
              0.8888888888888888,
              "#fdca26"
             ],
             [
              1,
              "#f0f921"
             ]
            ],
            "type": "heatmap"
           }
          ],
          "histogram": [
           {
            "marker": {
             "pattern": {
              "fillmode": "overlay",
              "size": 10,
              "solidity": 0.2
             }
            },
            "type": "histogram"
           }
          ],
          "histogram2d": [
           {
            "colorbar": {
             "outlinewidth": 0,
             "ticks": ""
            },
            "colorscale": [
             [
              0,
              "#0d0887"
             ],
             [
              0.1111111111111111,
              "#46039f"
             ],
             [
              0.2222222222222222,
              "#7201a8"
             ],
             [
              0.3333333333333333,
              "#9c179e"
             ],
             [
              0.4444444444444444,
              "#bd3786"
             ],
             [
              0.5555555555555556,
              "#d8576b"
             ],
             [
              0.6666666666666666,
              "#ed7953"
             ],
             [
              0.7777777777777778,
              "#fb9f3a"
             ],
             [
              0.8888888888888888,
              "#fdca26"
             ],
             [
              1,
              "#f0f921"
             ]
            ],
            "type": "histogram2d"
           }
          ],
          "histogram2dcontour": [
           {
            "colorbar": {
             "outlinewidth": 0,
             "ticks": ""
            },
            "colorscale": [
             [
              0,
              "#0d0887"
             ],
             [
              0.1111111111111111,
              "#46039f"
             ],
             [
              0.2222222222222222,
              "#7201a8"
             ],
             [
              0.3333333333333333,
              "#9c179e"
             ],
             [
              0.4444444444444444,
              "#bd3786"
             ],
             [
              0.5555555555555556,
              "#d8576b"
             ],
             [
              0.6666666666666666,
              "#ed7953"
             ],
             [
              0.7777777777777778,
              "#fb9f3a"
             ],
             [
              0.8888888888888888,
              "#fdca26"
             ],
             [
              1,
              "#f0f921"
             ]
            ],
            "type": "histogram2dcontour"
           }
          ],
          "mesh3d": [
           {
            "colorbar": {
             "outlinewidth": 0,
             "ticks": ""
            },
            "type": "mesh3d"
           }
          ],
          "parcoords": [
           {
            "line": {
             "colorbar": {
              "outlinewidth": 0,
              "ticks": ""
             }
            },
            "type": "parcoords"
           }
          ],
          "pie": [
           {
            "automargin": true,
            "type": "pie"
           }
          ],
          "scatter": [
           {
            "fillpattern": {
             "fillmode": "overlay",
             "size": 10,
             "solidity": 0.2
            },
            "type": "scatter"
           }
          ],
          "scatter3d": [
           {
            "line": {
             "colorbar": {
              "outlinewidth": 0,
              "ticks": ""
             }
            },
            "marker": {
             "colorbar": {
              "outlinewidth": 0,
              "ticks": ""
             }
            },
            "type": "scatter3d"
           }
          ],
          "scattercarpet": [
           {
            "marker": {
             "colorbar": {
              "outlinewidth": 0,
              "ticks": ""
             }
            },
            "type": "scattercarpet"
           }
          ],
          "scattergeo": [
           {
            "marker": {
             "colorbar": {
              "outlinewidth": 0,
              "ticks": ""
             }
            },
            "type": "scattergeo"
           }
          ],
          "scattergl": [
           {
            "marker": {
             "colorbar": {
              "outlinewidth": 0,
              "ticks": ""
             }
            },
            "type": "scattergl"
           }
          ],
          "scattermap": [
           {
            "marker": {
             "colorbar": {
              "outlinewidth": 0,
              "ticks": ""
             }
            },
            "type": "scattermap"
           }
          ],
          "scattermapbox": [
           {
            "marker": {
             "colorbar": {
              "outlinewidth": 0,
              "ticks": ""
             }
            },
            "type": "scattermapbox"
           }
          ],
          "scatterpolar": [
           {
            "marker": {
             "colorbar": {
              "outlinewidth": 0,
              "ticks": ""
             }
            },
            "type": "scatterpolar"
           }
          ],
          "scatterpolargl": [
           {
            "marker": {
             "colorbar": {
              "outlinewidth": 0,
              "ticks": ""
             }
            },
            "type": "scatterpolargl"
           }
          ],
          "scatterternary": [
           {
            "marker": {
             "colorbar": {
              "outlinewidth": 0,
              "ticks": ""
             }
            },
            "type": "scatterternary"
           }
          ],
          "surface": [
           {
            "colorbar": {
             "outlinewidth": 0,
             "ticks": ""
            },
            "colorscale": [
             [
              0,
              "#0d0887"
             ],
             [
              0.1111111111111111,
              "#46039f"
             ],
             [
              0.2222222222222222,
              "#7201a8"
             ],
             [
              0.3333333333333333,
              "#9c179e"
             ],
             [
              0.4444444444444444,
              "#bd3786"
             ],
             [
              0.5555555555555556,
              "#d8576b"
             ],
             [
              0.6666666666666666,
              "#ed7953"
             ],
             [
              0.7777777777777778,
              "#fb9f3a"
             ],
             [
              0.8888888888888888,
              "#fdca26"
             ],
             [
              1,
              "#f0f921"
             ]
            ],
            "type": "surface"
           }
          ],
          "table": [
           {
            "cells": {
             "fill": {
              "color": "#EBF0F8"
             },
             "line": {
              "color": "white"
             }
            },
            "header": {
             "fill": {
              "color": "#C8D4E3"
             },
             "line": {
              "color": "white"
             }
            },
            "type": "table"
           }
          ]
         },
         "layout": {
          "annotationdefaults": {
           "arrowcolor": "#2a3f5f",
           "arrowhead": 0,
           "arrowwidth": 1
          },
          "autotypenumbers": "strict",
          "coloraxis": {
           "colorbar": {
            "outlinewidth": 0,
            "ticks": ""
           }
          },
          "colorscale": {
           "diverging": [
            [
             0,
             "#8e0152"
            ],
            [
             0.1,
             "#c51b7d"
            ],
            [
             0.2,
             "#de77ae"
            ],
            [
             0.3,
             "#f1b6da"
            ],
            [
             0.4,
             "#fde0ef"
            ],
            [
             0.5,
             "#f7f7f7"
            ],
            [
             0.6,
             "#e6f5d0"
            ],
            [
             0.7,
             "#b8e186"
            ],
            [
             0.8,
             "#7fbc41"
            ],
            [
             0.9,
             "#4d9221"
            ],
            [
             1,
             "#276419"
            ]
           ],
           "sequential": [
            [
             0,
             "#0d0887"
            ],
            [
             0.1111111111111111,
             "#46039f"
            ],
            [
             0.2222222222222222,
             "#7201a8"
            ],
            [
             0.3333333333333333,
             "#9c179e"
            ],
            [
             0.4444444444444444,
             "#bd3786"
            ],
            [
             0.5555555555555556,
             "#d8576b"
            ],
            [
             0.6666666666666666,
             "#ed7953"
            ],
            [
             0.7777777777777778,
             "#fb9f3a"
            ],
            [
             0.8888888888888888,
             "#fdca26"
            ],
            [
             1,
             "#f0f921"
            ]
           ],
           "sequentialminus": [
            [
             0,
             "#0d0887"
            ],
            [
             0.1111111111111111,
             "#46039f"
            ],
            [
             0.2222222222222222,
             "#7201a8"
            ],
            [
             0.3333333333333333,
             "#9c179e"
            ],
            [
             0.4444444444444444,
             "#bd3786"
            ],
            [
             0.5555555555555556,
             "#d8576b"
            ],
            [
             0.6666666666666666,
             "#ed7953"
            ],
            [
             0.7777777777777778,
             "#fb9f3a"
            ],
            [
             0.8888888888888888,
             "#fdca26"
            ],
            [
             1,
             "#f0f921"
            ]
           ]
          },
          "colorway": [
           "#636efa",
           "#EF553B",
           "#00cc96",
           "#ab63fa",
           "#FFA15A",
           "#19d3f3",
           "#FF6692",
           "#B6E880",
           "#FF97FF",
           "#FECB52"
          ],
          "font": {
           "color": "#2a3f5f"
          },
          "geo": {
           "bgcolor": "white",
           "lakecolor": "white",
           "landcolor": "#E5ECF6",
           "showlakes": true,
           "showland": true,
           "subunitcolor": "white"
          },
          "hoverlabel": {
           "align": "left"
          },
          "hovermode": "closest",
          "mapbox": {
           "style": "light"
          },
          "paper_bgcolor": "white",
          "plot_bgcolor": "#E5ECF6",
          "polar": {
           "angularaxis": {
            "gridcolor": "white",
            "linecolor": "white",
            "ticks": ""
           },
           "bgcolor": "#E5ECF6",
           "radialaxis": {
            "gridcolor": "white",
            "linecolor": "white",
            "ticks": ""
           }
          },
          "scene": {
           "xaxis": {
            "backgroundcolor": "#E5ECF6",
            "gridcolor": "white",
            "gridwidth": 2,
            "linecolor": "white",
            "showbackground": true,
            "ticks": "",
            "zerolinecolor": "white"
           },
           "yaxis": {
            "backgroundcolor": "#E5ECF6",
            "gridcolor": "white",
            "gridwidth": 2,
            "linecolor": "white",
            "showbackground": true,
            "ticks": "",
            "zerolinecolor": "white"
           },
           "zaxis": {
            "backgroundcolor": "#E5ECF6",
            "gridcolor": "white",
            "gridwidth": 2,
            "linecolor": "white",
            "showbackground": true,
            "ticks": "",
            "zerolinecolor": "white"
           }
          },
          "shapedefaults": {
           "line": {
            "color": "#2a3f5f"
           }
          },
          "ternary": {
           "aaxis": {
            "gridcolor": "white",
            "linecolor": "white",
            "ticks": ""
           },
           "baxis": {
            "gridcolor": "white",
            "linecolor": "white",
            "ticks": ""
           },
           "bgcolor": "#E5ECF6",
           "caxis": {
            "gridcolor": "white",
            "linecolor": "white",
            "ticks": ""
           }
          },
          "title": {
           "x": 0.05
          },
          "xaxis": {
           "automargin": true,
           "gridcolor": "white",
           "linecolor": "white",
           "ticks": "",
           "title": {
            "standoff": 15
           },
           "zerolinecolor": "white",
           "zerolinewidth": 2
          },
          "yaxis": {
           "automargin": true,
           "gridcolor": "white",
           "linecolor": "white",
           "ticks": "",
           "title": {
            "standoff": 15
           },
           "zerolinecolor": "white",
           "zerolinewidth": 2
          }
         }
        },
        "title": {
         "text": "ASSR SNR Heatmaps by Configuration"
        },
        "width": 1100,
        "xaxis": {
         "anchor": "y",
         "domain": [
          0,
          0.45
         ],
         "title": {
          "text": "ID"
         }
        },
        "xaxis2": {
         "anchor": "y2",
         "domain": [
          0.55,
          1
         ],
         "title": {
          "text": "ID"
         }
        },
        "yaxis": {
         "anchor": "x",
         "domain": [
          0,
          1
         ],
         "title": {
          "text": "Run"
         }
        },
        "yaxis2": {
         "anchor": "x2",
         "domain": [
          0,
          1
         ],
         "title": {
          "text": "Run"
         }
        }
       }
      }
     },
     "metadata": {},
     "output_type": "display_data"
    }
   ],
   "source": [
    "def _run_to_rec_string(run_value):\n",
    "    s = str(run_value).strip().lower()\n",
    "    m = re.search(r\"rec\\s*([1-3])\", s)\n",
    "    if m:\n",
    "        return f\"rec{m.group(1)}\"\n",
    "    # numeric fallback\n",
    "    digits = \"\".join(ch for ch in s if ch.isdigit())\n",
    "    if digits in {\"1\",\"2\",\"3\"}:\n",
    "        return f\"rec{digits}\"\n",
    "    return s\n",
    "\n",
    "# Collect per-session SNR (second half) for EO condition\n",
    "records = []\n",
    "for i in range(len(sessions)):\n",
    "    active_recording = sessions.iloc[i]\n",
    "    try:\n",
    "        eeg, snr_df, load_report_dict = process_recording(active_recording)\n",
    "    except Exception as e:\n",
    "        print(f\"Skip {getattr(active_recording, 'ID', '?')}: process_recording failed: {e}\")\n",
    "        continue\n",
    "\n",
    "    if not isinstance(snr_df, pd.DataFrame) or snr_df.empty:\n",
    "        print(f\"Skip {getattr(active_recording, 'ID', '?')}: empty snr_df.\")\n",
    "        continue\n",
    "\n",
    "    if \"Condition\" not in snr_df.columns or \"SNR_Second_Half\" not in snr_df.columns:\n",
    "        print(f\"Skip {getattr(active_recording, 'ID', '?')}: required columns missing in snr_df.\")\n",
    "        continue\n",
    "\n",
    "    # Select EO condition robustly\n",
    "    mask_eo = snr_df[\"Condition\"].astype(str).str.contains(\"ec\", case=False, na=False)\n",
    "    snr_eo = snr_df.loc[mask_eo]\n",
    "    if snr_eo.empty and \"headphones_setup_eo_1\" in snr_df[\"Condition\"].unique().tolist():\n",
    "        print(\"masking all eo didn't work\")\n",
    "        snr_eo = snr_df[snr_df[\"Condition\"] == \"headphones_setup_eo_1\"]\n",
    "    if snr_eo.empty:\n",
    "        print(f\"Skip {getattr(active_recording, 'ID', '?')}: no EO condition rows.\")\n",
    "        continue\n",
    "\n",
    "    # Single SNR per session: use max across channels (robust)\n",
    "    val = pd.to_numeric(snr_eo[\"SNR_Second_Half\"], errors=\"coerce\").max()\n",
    "    if pd.isna(val):\n",
    "        print(f\"Skip {getattr(active_recording, 'ID', '?')}: SNR_Second_Half all NaN.\")\n",
    "        continue\n",
    "\n",
    "    rec = _run_to_rec_string(getattr(active_recording, 'Run', ''))\n",
    "    cfg = str(getattr(active_recording, 'Config', ''))\n",
    "    pid = str(getattr(active_recording, 'ID', ''))\n",
    "    records.append({\"Config\": cfg, \"ID\": pid, \"Run\": rec, \"SNR\": float(val)})\n",
    "\n",
    "df = pd.DataFrame.from_records(records)\n",
    "if df.empty:\n",
    "    raise ValueError(\"No SNR data collected. Ensure sessions/process_recording are working and EO exists.\")\n",
    "\n",
    "# Split by Config (case-insensitive exact match on the two labels used in the notebook)\n",
    "df_ear = df[df[\"Config\"].str.lower() == \"ear only\"]\n",
    "df_top = df[df[\"Config\"].str.lower() == \"top+ears\"]\n",
    "\n",
    "run_order = [\"rec1\", \"rec2\", \"rec3\"]\n",
    "\n",
    "def pivot_per_config(df_cfg):\n",
    "    if df_cfg.empty:\n",
    "        return pd.DataFrame(), []\n",
    "    id_order_cfg = sorted(df_cfg[\"ID\"].unique().tolist())\n",
    "    mat = df_cfg.pivot_table(index=\"Run\", columns=\"ID\", values=\"SNR\", aggfunc=\"max\")\n",
    "    # keep only present runs and only IDs of this config (no extraneous grey columns)\n",
    "    present_runs = [r for r in run_order if r in mat.index]\n",
    "    mat = mat.reindex(index=present_runs, columns=id_order_cfg)\n",
    "    return mat, id_order_cfg\n",
    "\n",
    "mat_ear, ids_ear = pivot_per_config(df_ear)\n",
    "mat_top, ids_top = pivot_per_config(df_top)\n",
    "\n",
    "# Shared z-range for comparability (keep if at least one matrix has values)\n",
    "zvals = []\n",
    "if not mat_ear.empty: zvals.append(mat_ear.to_numpy(dtype=float))\n",
    "if not mat_top.empty: zvals.append(mat_top.to_numpy(dtype=float))\n",
    "if zvals:\n",
    "    zstack = np.concatenate([v[np.isfinite(v)] for v in [np.ravel(z) for z in zvals] if np.any(np.isfinite(v))])\n",
    "    zmin = float(np.min(zstack)) if zstack.size else None\n",
    "    zmax = float(np.max(zstack)) if zstack.size else None\n",
    "else:\n",
    "    zmin = zmax = None\n",
    "\n",
    "\n",
    "fig_ear = None\n",
    "if not mat_ear.empty:\n",
    "    fig_ear = px.imshow(\n",
    "        mat_ear, aspect=\"auto\", origin=\"lower\",\n",
    "        labels=dict(x=\"ID\", y=\"Run\", color=\"ASSR SNR (2nd half)\"),\n",
    "        title=\"ASSR SNR — Ear Only\", color_continuous_scale=\"viridis\" # TODO: somehow no viridis doesn't apply -> check why docs says this is fine i guess?\n",
    "    )\n",
    "    if zmin is not None and zmax is not None:\n",
    "        fig_ear.data[0].update(zmin=zmin, zmax=zmax, colorbar=dict(title=\"ASSR SNR (2nd half)\"))\n",
    "\n",
    "fig_top = None\n",
    "if not mat_top.empty:\n",
    "    fig_top = px.imshow(\n",
    "        mat_top, aspect=\"auto\", origin=\"lower\",\n",
    "        labels=dict(x=\"ID\", y=\"Run\", color=\"ASSR SNR (2nd half)\"),\n",
    "        title=\"ASSR SNR — Top+Ears\", color_continuous_scale=\"viridis\" # TODO: somehow no viridis doesn't apply -> check why docs says this is fine i guess?\n",
    "    )\n",
    "    if zmin is not None and zmax is not None:\n",
    "        fig_top.data[0].update(zmin=zmin, zmax=zmax, colorbar=dict(title=\"ASSR SNR (2nd half)\"))\n",
    "\n",
    "# Compose side-by-side\n",
    "cols = 0 + (1 if fig_ear is not None else 0) + (1 if fig_top is not None else 0)\n",
    "if cols == 0:\n",
    "    raise ValueError(\"No data to plot for either configuration.\")\n",
    "if cols == 1:\n",
    "    # Show the single available figure\n",
    "    (fig_ear or fig_top).show()\n",
    "else:\n",
    "    sub = make_subplots(rows=1, cols=2, subplot_titles=(\"Ear Only\", \"Top+Ears\"))\n",
    "    sub.add_trace(fig_ear.data[0], row=1, col=1)\n",
    "    sub.add_trace(fig_top.data[0], row=1, col=2)\n",
    "    # axes\n",
    "    sub.update_xaxes(title_text=\"ID\", row=1, col=1)\n",
    "    sub.update_yaxes(title_text=\"Run\", row=1, col=1)\n",
    "    sub.update_xaxes(title_text=\"ID\", row=1, col=2)\n",
    "    sub.update_yaxes(title_text=\"Run\", row=1, col=2)\n",
    "    # show only right colorbar\n",
    "    sub.data[0].showscale = False\n",
    "    sub.data[1].colorbar = dict(title=\"ASSR SNR (2nd half)\")\n",
    "    sub.update_layout(title_text=\"ASSR SNR Heatmaps by Configuration\", height=500, width=1100)\n",
    "    sub.show()\n"
   ]
  },
  {
   "cell_type": "code",
   "execution_count": null,
   "metadata": {},
   "outputs": [],
   "source": []
  },
  {
   "cell_type": "code",
   "execution_count": null,
   "metadata": {},
   "outputs": [],
   "source": []
  },
  {
   "cell_type": "markdown",
   "metadata": {},
   "source": [
    "___\n",
    "### RMS Analysis\n",
    "In the folowing we wil look into the RMS Amplitude change over the course of the 3 recordings, first for each participant.\\\n",
    "Then we will look into the average change for all participants."
   ]
  },
  {
   "cell_type": "code",
   "execution_count": 18,
   "metadata": {},
   "outputs": [],
   "source": [
    "def parse_run_to_int(run):\n",
    "    \"\"\"Return 1/2/3 from values like 'rec1', 'rec2', 'rec3' or numeric 1..3.\"\"\"\n",
    "    s = str(run).strip().lower()\n",
    "    if \"rec\" in s:\n",
    "        digits = \"\".join(ch for ch in s if ch.isdigit())\n",
    "        return int(digits) if digits else None\n",
    "    try:\n",
    "        return int(s)\n",
    "    except Exception:\n",
    "        return None\n",
    "\n",
    "\n",
    "def _numeric_channels(df):\n",
    "    \"\"\"Return only numeric EEG channels. Prefer the 'chans' list if present in the notebook.\"\"\"\n",
    "    num_cols = df.select_dtypes(include=[np.number]).columns.tolist()\n",
    "    # If a global 'chans' list exists, preserve that order and filter to it\n",
    "    if \"chans\" in globals() and isinstance(globals().get(\"chans\"), (list, tuple)):\n",
    "        ordered = [c for c in globals()[\"chans\"] if c in df.columns and c in num_cols]\n",
    "        if len(ordered) >= 2:\n",
    "            return df[ordered]\n",
    "    return df[num_cols]\n",
    "\n",
    "\n",
    "def pick_eeg_dataframe(eeg_obj):\n",
    "    \"\"\"Try to extract a 2D EEG DataFrame (samples x channels) from the loader output.\"\"\"\n",
    "    if isinstance(eeg_obj, pd.DataFrame):\n",
    "        df = _numeric_channels(eeg_obj)\n",
    "        if df.shape[1] >= 2:\n",
    "            return df\n",
    "\n",
    "    if isinstance(eeg_obj, dict):\n",
    "        best_df, best_rows = None, 0\n",
    "        for k, v in eeg_obj.items():\n",
    "            if isinstance(v, pd.DataFrame):\n",
    "                df = _numeric_channels(v)\n",
    "                if df.shape[1] >= 2 and df.shape[0] > best_rows:\n",
    "                    best_rows = df.shape[0]\n",
    "                    best_df = df\n",
    "        if best_df is not None:\n",
    "            return best_df\n",
    "\n",
    "    raise ValueError(\"Unable to find a 2D EEG array in loader output. \"\n",
    "                     \"Ensure flows.load_exg_streams_data(...) returns a DataFrame with EEG channels.\")\n"
   ]
  },
  {
   "cell_type": "code",
   "execution_count": 19,
   "metadata": {},
   "outputs": [],
   "source": [
    "def rms_aggregate_for_row(row, l_freq=1.0, h_freq=30.0, notch=(50.0,), use_intersection=True):\n",
    "    \"\"\"\n",
    "    Load EEG for a session row, preprocess (HP/LP + notch + avg ref + bads),\n",
    "    then compute robust RMS across channels (median of per-channel windowed RMS).\n",
    "    Returns a single float in µV_rms.\n",
    "    \"\"\"\n",
    "    # Resolve folder\n",
    "    rec_folder = row['Rec_folder']\n",
    "    base = globals().get('main_folder', \"\")\n",
    "    if isinstance(base, str) and base and not rec_folder.startswith(base):\n",
    "        rec_folder = os.path.join(base, rec_folder)\n",
    "\n",
    "    # Determine channels based on configuration\n",
    "    cfg = str(row.get('Config', 'Top+Ears'))\n",
    "    try:\n",
    "        chans_ear_only\n",
    "        chans_top_ear\n",
    "    except NameError:\n",
    "        # Fallbacks if not defined above\n",
    "        chans_ear_only = ['A2', 'A3', 'A4', 'A6', 'A7', 'A8']\n",
    "        chans_top_ear = ['A1', 'A2', 'A3', 'A6', 'A7', 'A8']\n",
    "    use_chans = chans_ear_only if cfg == 'Ear Only' else chans_top_ear\n",
    "\n",
    "    # Load full data (avoid column count mismatch) and drop irrelevant channels afterwards\n",
    "    eeg, _ = flows.load_exg_streams_data(rec_folder, chanlist=None,\n",
    "                                         report=False, cleanFile=True)\n",
    "\n",
    "    # Keep only relevant EEG channels for this configuration, plus time columns if present\n",
    "    time_cols_pref = [\"TS_UNIX\"]\n",
    "    keep_chans = [c for c in use_chans if c in eeg.columns]\n",
    "    if len(keep_chans) < 2:\n",
    "        return np.nan\n",
    "    keep_time = [c for c in time_cols_pref if c in eeg.columns]\n",
    "    eeg = eeg.loc[:, keep_chans + keep_time]\n",
    "\n",
    "    eeg_proc, rep = flows.preprocess_eeg_mne(\n",
    "        eeg_df=eeg,\n",
    "        sfreq=float(globals().get('fs', 250.0)),\n",
    "        l_freq=l_freq, h_freq=h_freq,\n",
    "        notch=notch,             \n",
    "        average_ref=True,\n",
    "        auto_bad=True,\n",
    "        return_raw=False\n",
    "    )\n",
    "\n",
    "    # Extract numeric channels\n",
    "    df = eeg_proc.select_dtypes(include=[np.number])\n",
    "    if 'time' in df.columns:  # MNE sometimes includes 'time'\n",
    "        df = df.drop(columns=['time'])\n",
    "\n",
    "    # Windowed median RMS to reduce artefacts\n",
    "    win = int(1.0 * globals().get('fs', 250.0))  # 1 s windows\n",
    "    vals = []\n",
    "    for c in df.columns:\n",
    "        x = df[c].to_numpy(dtype=float)\n",
    "        # guard: remove NaNs\n",
    "        x = np.nan_to_num(x, nan=0.0)\n",
    "        # windowed RMS\n",
    "        if x.size >= win:\n",
    "            r = np.sqrt(np.convolve(x*x, np.ones(win)/win, mode='valid'))\n",
    "            vals.append(np.median(r))   # robust median across windows\n",
    "    if not vals:\n",
    "        return np.nan\n",
    "    return float(np.median(vals))  # µV_rms\n"
   ]
  },
  {
   "cell_type": "code",
   "execution_count": 20,
   "metadata": {},
   "outputs": [
    {
     "data": {
      "application/vnd.plotly.v1+json": {
       "config": {
        "plotlyServerURL": "https://plot.ly"
       },
       "data": [
        {
         "hovertemplate": "Run=%{x}<br>RMS (µV_rms)=%{y}<extra></extra>",
         "legendgroup": "",
         "line": {
          "color": "#636efa",
          "dash": "solid"
         },
         "marker": {
          "symbol": "circle"
         },
         "mode": "lines+markers+text",
         "name": "",
         "orientation": "v",
         "showlegend": false,
         "text": {
          "bdata": "zczMzMzMGkDNzMzMzMwcQAAAAAAAABpA",
          "dtype": "f8"
         },
         "textposition": "top center",
         "type": "scatter",
         "x": [
          "rec1",
          "rec2",
          "rec3"
         ],
         "xaxis": "x",
         "y": {
          "bdata": "Ndw1EgG+GkAMwKpJCZ4cQBYO8LTrHhpA",
          "dtype": "f8"
         },
         "yaxis": "y"
        }
       ],
       "layout": {
        "legend": {
         "tracegroupgap": 0
        },
        "template": {
         "data": {
          "bar": [
           {
            "error_x": {
             "color": "#2a3f5f"
            },
            "error_y": {
             "color": "#2a3f5f"
            },
            "marker": {
             "line": {
              "color": "#E5ECF6",
              "width": 0.5
             },
             "pattern": {
              "fillmode": "overlay",
              "size": 10,
              "solidity": 0.2
             }
            },
            "type": "bar"
           }
          ],
          "barpolar": [
           {
            "marker": {
             "line": {
              "color": "#E5ECF6",
              "width": 0.5
             },
             "pattern": {
              "fillmode": "overlay",
              "size": 10,
              "solidity": 0.2
             }
            },
            "type": "barpolar"
           }
          ],
          "carpet": [
           {
            "aaxis": {
             "endlinecolor": "#2a3f5f",
             "gridcolor": "white",
             "linecolor": "white",
             "minorgridcolor": "white",
             "startlinecolor": "#2a3f5f"
            },
            "baxis": {
             "endlinecolor": "#2a3f5f",
             "gridcolor": "white",
             "linecolor": "white",
             "minorgridcolor": "white",
             "startlinecolor": "#2a3f5f"
            },
            "type": "carpet"
           }
          ],
          "choropleth": [
           {
            "colorbar": {
             "outlinewidth": 0,
             "ticks": ""
            },
            "type": "choropleth"
           }
          ],
          "contour": [
           {
            "colorbar": {
             "outlinewidth": 0,
             "ticks": ""
            },
            "colorscale": [
             [
              0,
              "#0d0887"
             ],
             [
              0.1111111111111111,
              "#46039f"
             ],
             [
              0.2222222222222222,
              "#7201a8"
             ],
             [
              0.3333333333333333,
              "#9c179e"
             ],
             [
              0.4444444444444444,
              "#bd3786"
             ],
             [
              0.5555555555555556,
              "#d8576b"
             ],
             [
              0.6666666666666666,
              "#ed7953"
             ],
             [
              0.7777777777777778,
              "#fb9f3a"
             ],
             [
              0.8888888888888888,
              "#fdca26"
             ],
             [
              1,
              "#f0f921"
             ]
            ],
            "type": "contour"
           }
          ],
          "contourcarpet": [
           {
            "colorbar": {
             "outlinewidth": 0,
             "ticks": ""
            },
            "type": "contourcarpet"
           }
          ],
          "heatmap": [
           {
            "colorbar": {
             "outlinewidth": 0,
             "ticks": ""
            },
            "colorscale": [
             [
              0,
              "#0d0887"
             ],
             [
              0.1111111111111111,
              "#46039f"
             ],
             [
              0.2222222222222222,
              "#7201a8"
             ],
             [
              0.3333333333333333,
              "#9c179e"
             ],
             [
              0.4444444444444444,
              "#bd3786"
             ],
             [
              0.5555555555555556,
              "#d8576b"
             ],
             [
              0.6666666666666666,
              "#ed7953"
             ],
             [
              0.7777777777777778,
              "#fb9f3a"
             ],
             [
              0.8888888888888888,
              "#fdca26"
             ],
             [
              1,
              "#f0f921"
             ]
            ],
            "type": "heatmap"
           }
          ],
          "histogram": [
           {
            "marker": {
             "pattern": {
              "fillmode": "overlay",
              "size": 10,
              "solidity": 0.2
             }
            },
            "type": "histogram"
           }
          ],
          "histogram2d": [
           {
            "colorbar": {
             "outlinewidth": 0,
             "ticks": ""
            },
            "colorscale": [
             [
              0,
              "#0d0887"
             ],
             [
              0.1111111111111111,
              "#46039f"
             ],
             [
              0.2222222222222222,
              "#7201a8"
             ],
             [
              0.3333333333333333,
              "#9c179e"
             ],
             [
              0.4444444444444444,
              "#bd3786"
             ],
             [
              0.5555555555555556,
              "#d8576b"
             ],
             [
              0.6666666666666666,
              "#ed7953"
             ],
             [
              0.7777777777777778,
              "#fb9f3a"
             ],
             [
              0.8888888888888888,
              "#fdca26"
             ],
             [
              1,
              "#f0f921"
             ]
            ],
            "type": "histogram2d"
           }
          ],
          "histogram2dcontour": [
           {
            "colorbar": {
             "outlinewidth": 0,
             "ticks": ""
            },
            "colorscale": [
             [
              0,
              "#0d0887"
             ],
             [
              0.1111111111111111,
              "#46039f"
             ],
             [
              0.2222222222222222,
              "#7201a8"
             ],
             [
              0.3333333333333333,
              "#9c179e"
             ],
             [
              0.4444444444444444,
              "#bd3786"
             ],
             [
              0.5555555555555556,
              "#d8576b"
             ],
             [
              0.6666666666666666,
              "#ed7953"
             ],
             [
              0.7777777777777778,
              "#fb9f3a"
             ],
             [
              0.8888888888888888,
              "#fdca26"
             ],
             [
              1,
              "#f0f921"
             ]
            ],
            "type": "histogram2dcontour"
           }
          ],
          "mesh3d": [
           {
            "colorbar": {
             "outlinewidth": 0,
             "ticks": ""
            },
            "type": "mesh3d"
           }
          ],
          "parcoords": [
           {
            "line": {
             "colorbar": {
              "outlinewidth": 0,
              "ticks": ""
             }
            },
            "type": "parcoords"
           }
          ],
          "pie": [
           {
            "automargin": true,
            "type": "pie"
           }
          ],
          "scatter": [
           {
            "fillpattern": {
             "fillmode": "overlay",
             "size": 10,
             "solidity": 0.2
            },
            "type": "scatter"
           }
          ],
          "scatter3d": [
           {
            "line": {
             "colorbar": {
              "outlinewidth": 0,
              "ticks": ""
             }
            },
            "marker": {
             "colorbar": {
              "outlinewidth": 0,
              "ticks": ""
             }
            },
            "type": "scatter3d"
           }
          ],
          "scattercarpet": [
           {
            "marker": {
             "colorbar": {
              "outlinewidth": 0,
              "ticks": ""
             }
            },
            "type": "scattercarpet"
           }
          ],
          "scattergeo": [
           {
            "marker": {
             "colorbar": {
              "outlinewidth": 0,
              "ticks": ""
             }
            },
            "type": "scattergeo"
           }
          ],
          "scattergl": [
           {
            "marker": {
             "colorbar": {
              "outlinewidth": 0,
              "ticks": ""
             }
            },
            "type": "scattergl"
           }
          ],
          "scattermap": [
           {
            "marker": {
             "colorbar": {
              "outlinewidth": 0,
              "ticks": ""
             }
            },
            "type": "scattermap"
           }
          ],
          "scattermapbox": [
           {
            "marker": {
             "colorbar": {
              "outlinewidth": 0,
              "ticks": ""
             }
            },
            "type": "scattermapbox"
           }
          ],
          "scatterpolar": [
           {
            "marker": {
             "colorbar": {
              "outlinewidth": 0,
              "ticks": ""
             }
            },
            "type": "scatterpolar"
           }
          ],
          "scatterpolargl": [
           {
            "marker": {
             "colorbar": {
              "outlinewidth": 0,
              "ticks": ""
             }
            },
            "type": "scatterpolargl"
           }
          ],
          "scatterternary": [
           {
            "marker": {
             "colorbar": {
              "outlinewidth": 0,
              "ticks": ""
             }
            },
            "type": "scatterternary"
           }
          ],
          "surface": [
           {
            "colorbar": {
             "outlinewidth": 0,
             "ticks": ""
            },
            "colorscale": [
             [
              0,
              "#0d0887"
             ],
             [
              0.1111111111111111,
              "#46039f"
             ],
             [
              0.2222222222222222,
              "#7201a8"
             ],
             [
              0.3333333333333333,
              "#9c179e"
             ],
             [
              0.4444444444444444,
              "#bd3786"
             ],
             [
              0.5555555555555556,
              "#d8576b"
             ],
             [
              0.6666666666666666,
              "#ed7953"
             ],
             [
              0.7777777777777778,
              "#fb9f3a"
             ],
             [
              0.8888888888888888,
              "#fdca26"
             ],
             [
              1,
              "#f0f921"
             ]
            ],
            "type": "surface"
           }
          ],
          "table": [
           {
            "cells": {
             "fill": {
              "color": "#EBF0F8"
             },
             "line": {
              "color": "white"
             }
            },
            "header": {
             "fill": {
              "color": "#C8D4E3"
             },
             "line": {
              "color": "white"
             }
            },
            "type": "table"
           }
          ]
         },
         "layout": {
          "annotationdefaults": {
           "arrowcolor": "#2a3f5f",
           "arrowhead": 0,
           "arrowwidth": 1
          },
          "autotypenumbers": "strict",
          "coloraxis": {
           "colorbar": {
            "outlinewidth": 0,
            "ticks": ""
           }
          },
          "colorscale": {
           "diverging": [
            [
             0,
             "#8e0152"
            ],
            [
             0.1,
             "#c51b7d"
            ],
            [
             0.2,
             "#de77ae"
            ],
            [
             0.3,
             "#f1b6da"
            ],
            [
             0.4,
             "#fde0ef"
            ],
            [
             0.5,
             "#f7f7f7"
            ],
            [
             0.6,
             "#e6f5d0"
            ],
            [
             0.7,
             "#b8e186"
            ],
            [
             0.8,
             "#7fbc41"
            ],
            [
             0.9,
             "#4d9221"
            ],
            [
             1,
             "#276419"
            ]
           ],
           "sequential": [
            [
             0,
             "#0d0887"
            ],
            [
             0.1111111111111111,
             "#46039f"
            ],
            [
             0.2222222222222222,
             "#7201a8"
            ],
            [
             0.3333333333333333,
             "#9c179e"
            ],
            [
             0.4444444444444444,
             "#bd3786"
            ],
            [
             0.5555555555555556,
             "#d8576b"
            ],
            [
             0.6666666666666666,
             "#ed7953"
            ],
            [
             0.7777777777777778,
             "#fb9f3a"
            ],
            [
             0.8888888888888888,
             "#fdca26"
            ],
            [
             1,
             "#f0f921"
            ]
           ],
           "sequentialminus": [
            [
             0,
             "#0d0887"
            ],
            [
             0.1111111111111111,
             "#46039f"
            ],
            [
             0.2222222222222222,
             "#7201a8"
            ],
            [
             0.3333333333333333,
             "#9c179e"
            ],
            [
             0.4444444444444444,
             "#bd3786"
            ],
            [
             0.5555555555555556,
             "#d8576b"
            ],
            [
             0.6666666666666666,
             "#ed7953"
            ],
            [
             0.7777777777777778,
             "#fb9f3a"
            ],
            [
             0.8888888888888888,
             "#fdca26"
            ],
            [
             1,
             "#f0f921"
            ]
           ]
          },
          "colorway": [
           "#636efa",
           "#EF553B",
           "#00cc96",
           "#ab63fa",
           "#FFA15A",
           "#19d3f3",
           "#FF6692",
           "#B6E880",
           "#FF97FF",
           "#FECB52"
          ],
          "font": {
           "color": "#2a3f5f"
          },
          "geo": {
           "bgcolor": "white",
           "lakecolor": "white",
           "landcolor": "#E5ECF6",
           "showlakes": true,
           "showland": true,
           "subunitcolor": "white"
          },
          "hoverlabel": {
           "align": "left"
          },
          "hovermode": "closest",
          "mapbox": {
           "style": "light"
          },
          "paper_bgcolor": "white",
          "plot_bgcolor": "#E5ECF6",
          "polar": {
           "angularaxis": {
            "gridcolor": "white",
            "linecolor": "white",
            "ticks": ""
           },
           "bgcolor": "#E5ECF6",
           "radialaxis": {
            "gridcolor": "white",
            "linecolor": "white",
            "ticks": ""
           }
          },
          "scene": {
           "xaxis": {
            "backgroundcolor": "#E5ECF6",
            "gridcolor": "white",
            "gridwidth": 2,
            "linecolor": "white",
            "showbackground": true,
            "ticks": "",
            "zerolinecolor": "white"
           },
           "yaxis": {
            "backgroundcolor": "#E5ECF6",
            "gridcolor": "white",
            "gridwidth": 2,
            "linecolor": "white",
            "showbackground": true,
            "ticks": "",
            "zerolinecolor": "white"
           },
           "zaxis": {
            "backgroundcolor": "#E5ECF6",
            "gridcolor": "white",
            "gridwidth": 2,
            "linecolor": "white",
            "showbackground": true,
            "ticks": "",
            "zerolinecolor": "white"
           }
          },
          "shapedefaults": {
           "line": {
            "color": "#2a3f5f"
           }
          },
          "ternary": {
           "aaxis": {
            "gridcolor": "white",
            "linecolor": "white",
            "ticks": ""
           },
           "baxis": {
            "gridcolor": "white",
            "linecolor": "white",
            "ticks": ""
           },
           "bgcolor": "#E5ECF6",
           "caxis": {
            "gridcolor": "white",
            "linecolor": "white",
            "ticks": ""
           }
          },
          "title": {
           "x": 0.05
          },
          "xaxis": {
           "automargin": true,
           "gridcolor": "white",
           "linecolor": "white",
           "ticks": "",
           "title": {
            "standoff": 15
           },
           "zerolinecolor": "white",
           "zerolinewidth": 2
          },
          "yaxis": {
           "automargin": true,
           "gridcolor": "white",
           "linecolor": "white",
           "ticks": "",
           "title": {
            "standoff": 15
           },
           "zerolinecolor": "white",
           "zerolinewidth": 2
          }
         }
        },
        "title": {
         "text": "RMS amplitude across recordings for ID 9pueps"
        },
        "xaxis": {
         "anchor": "y",
         "domain": [
          0,
          1
         ],
         "title": {
          "text": "Run"
         }
        },
        "yaxis": {
         "anchor": "x",
         "domain": [
          0,
          1
         ],
         "title": {
          "text": "RMS (µV_rms)"
         }
        }
       }
      }
     },
     "metadata": {},
     "output_type": "display_data"
    },
    {
     "data": {
      "text/html": [
       "<div>\n",
       "<style scoped>\n",
       "    .dataframe tbody tr th:only-of-type {\n",
       "        vertical-align: middle;\n",
       "    }\n",
       "\n",
       "    .dataframe tbody tr th {\n",
       "        vertical-align: top;\n",
       "    }\n",
       "\n",
       "    .dataframe thead th {\n",
       "        text-align: right;\n",
       "    }\n",
       "</style>\n",
       "<table border=\"1\" class=\"dataframe\">\n",
       "  <thead>\n",
       "    <tr style=\"text-align: right;\">\n",
       "      <th></th>\n",
       "      <th>ID</th>\n",
       "      <th>Run</th>\n",
       "      <th>run_i</th>\n",
       "      <th>Config</th>\n",
       "      <th>RMS_uVrms</th>\n",
       "    </tr>\n",
       "  </thead>\n",
       "  <tbody>\n",
       "    <tr>\n",
       "      <th>0</th>\n",
       "      <td>9pueps</td>\n",
       "      <td>rec1</td>\n",
       "      <td>1</td>\n",
       "      <td>Ear Only</td>\n",
       "      <td>6.685551</td>\n",
       "    </tr>\n",
       "    <tr>\n",
       "      <th>1</th>\n",
       "      <td>9pueps</td>\n",
       "      <td>rec2</td>\n",
       "      <td>2</td>\n",
       "      <td>Ear Only</td>\n",
       "      <td>7.154332</td>\n",
       "    </tr>\n",
       "    <tr>\n",
       "      <th>2</th>\n",
       "      <td>9pueps</td>\n",
       "      <td>rec3</td>\n",
       "      <td>3</td>\n",
       "      <td>Ear Only</td>\n",
       "      <td>6.530196</td>\n",
       "    </tr>\n",
       "  </tbody>\n",
       "</table>\n",
       "</div>"
      ],
      "text/plain": [
       "       ID   Run  run_i    Config  RMS_uVrms\n",
       "0  9pueps  rec1      1  Ear Only   6.685551\n",
       "1  9pueps  rec2      2  Ear Only   7.154332\n",
       "2  9pueps  rec3      3  Ear Only   6.530196"
      ]
     },
     "execution_count": 20,
     "metadata": {},
     "output_type": "execute_result"
    }
   ],
   "source": [
    "sel = sessions.copy()\n",
    "sel['run_i'] = sel['Run'].apply(parse_run_to_int)\n",
    "\n",
    "# Find a participant with three distinct recordings among 1..3\n",
    "counts = sel[sel['run_i'].isin([1,2,3])].groupby('ID')['run_i'].nunique()\n",
    "cand_ids = counts[counts >= 3].index.tolist()\n",
    "if not cand_ids:\n",
    "    raise ValueError(\"No participant with three recordings found in 'sessions'.\")\n",
    "\n",
    "pid = cand_ids[7]\n",
    "one = sel[(sel['ID'] == pid) & (sel['run_i'].isin([1,2,3]))].copy()\n",
    "\n",
    "rows = []\n",
    "for _, r in one.sort_values('run_i').iterrows():\n",
    "    try:\n",
    "        agg = rms_aggregate_for_row(r)\n",
    "    except Exception as e:\n",
    "        agg = np.nan\n",
    "        print(f\"RMS failed for {r['ID']} {r['Run']}: {e}\")\n",
    "    rows.append({\n",
    "        'ID': r['ID'],\n",
    "        'Run': r['Run'],\n",
    "        'run_i': r['run_i'],\n",
    "        'Config': r.get('Config', None),\n",
    "        'RMS_uVrms': agg\n",
    "    })\n",
    "\n",
    "df_one = pd.DataFrame(rows).sort_values('run_i')\n",
    "\n",
    "fig = px.line(df_one, x='Run', y='RMS_uVrms', markers=True,\n",
    "              title=f\"RMS amplitude across recordings for ID {pid}\",\n",
    "              labels={'RMS_uVrms': 'RMS (µV_rms)'})\n",
    "fig.update_traces(mode='lines+markers+text', text=df_one['RMS_uVrms'].round(1), textposition='top center')\n",
    "fig.show()\n",
    "\n",
    "df_one\n"
   ]
  },
  {
   "cell_type": "code",
   "execution_count": 29,
   "metadata": {},
   "outputs": [
    {
     "name": "stdout",
     "output_type": "stream",
     "text": [
      "RMS failed for 12cbia rec1: single positional indexer is out-of-bounds\n"
     ]
    },
    {
     "name": "stderr",
     "output_type": "stream",
     "text": [
      "/Users/Sam/UNAM/neuro_headphone_study/Code/flows/processing.py:159: RuntimeWarning:\n",
      "\n",
      "filter_length (1651) is longer than the signal (874), distortion is likely. Reduce filter length or filter a longer signal.\n",
      "\n"
     ]
    },
    {
     "data": {
      "application/vnd.plotly.v1+json": {
       "config": {
        "plotlyServerURL": "https://plot.ly"
       },
       "data": [
        {
         "error_y": {
          "array": {
           "bdata": "yeDclEWV8z9WqUhEnXIIQGR32O/h+vA/",
           "dtype": "f8"
          }
         },
         "hovertemplate": "Run=%{x}<br>RMS (µV_rms)=%{y}<extra></extra>",
         "legendgroup": "",
         "marker": {
          "color": "#636efa",
          "pattern": {
           "shape": ""
          }
         },
         "name": "",
         "orientation": "v",
         "showlegend": false,
         "textposition": "auto",
         "type": "bar",
         "x": [
          "rec1",
          "rec2",
          "rec3"
         ],
         "xaxis": "x",
         "y": {
          "bdata": "RHKIm78GI0AW6lNVFPQmQDFb206Kkh9A",
          "dtype": "f8"
         },
         "yaxis": "y"
        }
       ],
       "layout": {
        "barmode": "relative",
        "legend": {
         "tracegroupgap": 0
        },
        "template": {
         "data": {
          "bar": [
           {
            "error_x": {
             "color": "#2a3f5f"
            },
            "error_y": {
             "color": "#2a3f5f"
            },
            "marker": {
             "line": {
              "color": "#E5ECF6",
              "width": 0.5
             },
             "pattern": {
              "fillmode": "overlay",
              "size": 10,
              "solidity": 0.2
             }
            },
            "type": "bar"
           }
          ],
          "barpolar": [
           {
            "marker": {
             "line": {
              "color": "#E5ECF6",
              "width": 0.5
             },
             "pattern": {
              "fillmode": "overlay",
              "size": 10,
              "solidity": 0.2
             }
            },
            "type": "barpolar"
           }
          ],
          "carpet": [
           {
            "aaxis": {
             "endlinecolor": "#2a3f5f",
             "gridcolor": "white",
             "linecolor": "white",
             "minorgridcolor": "white",
             "startlinecolor": "#2a3f5f"
            },
            "baxis": {
             "endlinecolor": "#2a3f5f",
             "gridcolor": "white",
             "linecolor": "white",
             "minorgridcolor": "white",
             "startlinecolor": "#2a3f5f"
            },
            "type": "carpet"
           }
          ],
          "choropleth": [
           {
            "colorbar": {
             "outlinewidth": 0,
             "ticks": ""
            },
            "type": "choropleth"
           }
          ],
          "contour": [
           {
            "colorbar": {
             "outlinewidth": 0,
             "ticks": ""
            },
            "colorscale": [
             [
              0,
              "#0d0887"
             ],
             [
              0.1111111111111111,
              "#46039f"
             ],
             [
              0.2222222222222222,
              "#7201a8"
             ],
             [
              0.3333333333333333,
              "#9c179e"
             ],
             [
              0.4444444444444444,
              "#bd3786"
             ],
             [
              0.5555555555555556,
              "#d8576b"
             ],
             [
              0.6666666666666666,
              "#ed7953"
             ],
             [
              0.7777777777777778,
              "#fb9f3a"
             ],
             [
              0.8888888888888888,
              "#fdca26"
             ],
             [
              1,
              "#f0f921"
             ]
            ],
            "type": "contour"
           }
          ],
          "contourcarpet": [
           {
            "colorbar": {
             "outlinewidth": 0,
             "ticks": ""
            },
            "type": "contourcarpet"
           }
          ],
          "heatmap": [
           {
            "colorbar": {
             "outlinewidth": 0,
             "ticks": ""
            },
            "colorscale": [
             [
              0,
              "#0d0887"
             ],
             [
              0.1111111111111111,
              "#46039f"
             ],
             [
              0.2222222222222222,
              "#7201a8"
             ],
             [
              0.3333333333333333,
              "#9c179e"
             ],
             [
              0.4444444444444444,
              "#bd3786"
             ],
             [
              0.5555555555555556,
              "#d8576b"
             ],
             [
              0.6666666666666666,
              "#ed7953"
             ],
             [
              0.7777777777777778,
              "#fb9f3a"
             ],
             [
              0.8888888888888888,
              "#fdca26"
             ],
             [
              1,
              "#f0f921"
             ]
            ],
            "type": "heatmap"
           }
          ],
          "histogram": [
           {
            "marker": {
             "pattern": {
              "fillmode": "overlay",
              "size": 10,
              "solidity": 0.2
             }
            },
            "type": "histogram"
           }
          ],
          "histogram2d": [
           {
            "colorbar": {
             "outlinewidth": 0,
             "ticks": ""
            },
            "colorscale": [
             [
              0,
              "#0d0887"
             ],
             [
              0.1111111111111111,
              "#46039f"
             ],
             [
              0.2222222222222222,
              "#7201a8"
             ],
             [
              0.3333333333333333,
              "#9c179e"
             ],
             [
              0.4444444444444444,
              "#bd3786"
             ],
             [
              0.5555555555555556,
              "#d8576b"
             ],
             [
              0.6666666666666666,
              "#ed7953"
             ],
             [
              0.7777777777777778,
              "#fb9f3a"
             ],
             [
              0.8888888888888888,
              "#fdca26"
             ],
             [
              1,
              "#f0f921"
             ]
            ],
            "type": "histogram2d"
           }
          ],
          "histogram2dcontour": [
           {
            "colorbar": {
             "outlinewidth": 0,
             "ticks": ""
            },
            "colorscale": [
             [
              0,
              "#0d0887"
             ],
             [
              0.1111111111111111,
              "#46039f"
             ],
             [
              0.2222222222222222,
              "#7201a8"
             ],
             [
              0.3333333333333333,
              "#9c179e"
             ],
             [
              0.4444444444444444,
              "#bd3786"
             ],
             [
              0.5555555555555556,
              "#d8576b"
             ],
             [
              0.6666666666666666,
              "#ed7953"
             ],
             [
              0.7777777777777778,
              "#fb9f3a"
             ],
             [
              0.8888888888888888,
              "#fdca26"
             ],
             [
              1,
              "#f0f921"
             ]
            ],
            "type": "histogram2dcontour"
           }
          ],
          "mesh3d": [
           {
            "colorbar": {
             "outlinewidth": 0,
             "ticks": ""
            },
            "type": "mesh3d"
           }
          ],
          "parcoords": [
           {
            "line": {
             "colorbar": {
              "outlinewidth": 0,
              "ticks": ""
             }
            },
            "type": "parcoords"
           }
          ],
          "pie": [
           {
            "automargin": true,
            "type": "pie"
           }
          ],
          "scatter": [
           {
            "fillpattern": {
             "fillmode": "overlay",
             "size": 10,
             "solidity": 0.2
            },
            "type": "scatter"
           }
          ],
          "scatter3d": [
           {
            "line": {
             "colorbar": {
              "outlinewidth": 0,
              "ticks": ""
             }
            },
            "marker": {
             "colorbar": {
              "outlinewidth": 0,
              "ticks": ""
             }
            },
            "type": "scatter3d"
           }
          ],
          "scattercarpet": [
           {
            "marker": {
             "colorbar": {
              "outlinewidth": 0,
              "ticks": ""
             }
            },
            "type": "scattercarpet"
           }
          ],
          "scattergeo": [
           {
            "marker": {
             "colorbar": {
              "outlinewidth": 0,
              "ticks": ""
             }
            },
            "type": "scattergeo"
           }
          ],
          "scattergl": [
           {
            "marker": {
             "colorbar": {
              "outlinewidth": 0,
              "ticks": ""
             }
            },
            "type": "scattergl"
           }
          ],
          "scattermap": [
           {
            "marker": {
             "colorbar": {
              "outlinewidth": 0,
              "ticks": ""
             }
            },
            "type": "scattermap"
           }
          ],
          "scattermapbox": [
           {
            "marker": {
             "colorbar": {
              "outlinewidth": 0,
              "ticks": ""
             }
            },
            "type": "scattermapbox"
           }
          ],
          "scatterpolar": [
           {
            "marker": {
             "colorbar": {
              "outlinewidth": 0,
              "ticks": ""
             }
            },
            "type": "scatterpolar"
           }
          ],
          "scatterpolargl": [
           {
            "marker": {
             "colorbar": {
              "outlinewidth": 0,
              "ticks": ""
             }
            },
            "type": "scatterpolargl"
           }
          ],
          "scatterternary": [
           {
            "marker": {
             "colorbar": {
              "outlinewidth": 0,
              "ticks": ""
             }
            },
            "type": "scatterternary"
           }
          ],
          "surface": [
           {
            "colorbar": {
             "outlinewidth": 0,
             "ticks": ""
            },
            "colorscale": [
             [
              0,
              "#0d0887"
             ],
             [
              0.1111111111111111,
              "#46039f"
             ],
             [
              0.2222222222222222,
              "#7201a8"
             ],
             [
              0.3333333333333333,
              "#9c179e"
             ],
             [
              0.4444444444444444,
              "#bd3786"
             ],
             [
              0.5555555555555556,
              "#d8576b"
             ],
             [
              0.6666666666666666,
              "#ed7953"
             ],
             [
              0.7777777777777778,
              "#fb9f3a"
             ],
             [
              0.8888888888888888,
              "#fdca26"
             ],
             [
              1,
              "#f0f921"
             ]
            ],
            "type": "surface"
           }
          ],
          "table": [
           {
            "cells": {
             "fill": {
              "color": "#EBF0F8"
             },
             "line": {
              "color": "white"
             }
            },
            "header": {
             "fill": {
              "color": "#C8D4E3"
             },
             "line": {
              "color": "white"
             }
            },
            "type": "table"
           }
          ]
         },
         "layout": {
          "annotationdefaults": {
           "arrowcolor": "#2a3f5f",
           "arrowhead": 0,
           "arrowwidth": 1
          },
          "autotypenumbers": "strict",
          "coloraxis": {
           "colorbar": {
            "outlinewidth": 0,
            "ticks": ""
           }
          },
          "colorscale": {
           "diverging": [
            [
             0,
             "#8e0152"
            ],
            [
             0.1,
             "#c51b7d"
            ],
            [
             0.2,
             "#de77ae"
            ],
            [
             0.3,
             "#f1b6da"
            ],
            [
             0.4,
             "#fde0ef"
            ],
            [
             0.5,
             "#f7f7f7"
            ],
            [
             0.6,
             "#e6f5d0"
            ],
            [
             0.7,
             "#b8e186"
            ],
            [
             0.8,
             "#7fbc41"
            ],
            [
             0.9,
             "#4d9221"
            ],
            [
             1,
             "#276419"
            ]
           ],
           "sequential": [
            [
             0,
             "#0d0887"
            ],
            [
             0.1111111111111111,
             "#46039f"
            ],
            [
             0.2222222222222222,
             "#7201a8"
            ],
            [
             0.3333333333333333,
             "#9c179e"
            ],
            [
             0.4444444444444444,
             "#bd3786"
            ],
            [
             0.5555555555555556,
             "#d8576b"
            ],
            [
             0.6666666666666666,
             "#ed7953"
            ],
            [
             0.7777777777777778,
             "#fb9f3a"
            ],
            [
             0.8888888888888888,
             "#fdca26"
            ],
            [
             1,
             "#f0f921"
            ]
           ],
           "sequentialminus": [
            [
             0,
             "#0d0887"
            ],
            [
             0.1111111111111111,
             "#46039f"
            ],
            [
             0.2222222222222222,
             "#7201a8"
            ],
            [
             0.3333333333333333,
             "#9c179e"
            ],
            [
             0.4444444444444444,
             "#bd3786"
            ],
            [
             0.5555555555555556,
             "#d8576b"
            ],
            [
             0.6666666666666666,
             "#ed7953"
            ],
            [
             0.7777777777777778,
             "#fb9f3a"
            ],
            [
             0.8888888888888888,
             "#fdca26"
            ],
            [
             1,
             "#f0f921"
            ]
           ]
          },
          "colorway": [
           "#636efa",
           "#EF553B",
           "#00cc96",
           "#ab63fa",
           "#FFA15A",
           "#19d3f3",
           "#FF6692",
           "#B6E880",
           "#FF97FF",
           "#FECB52"
          ],
          "font": {
           "color": "#2a3f5f"
          },
          "geo": {
           "bgcolor": "white",
           "lakecolor": "white",
           "landcolor": "#E5ECF6",
           "showlakes": true,
           "showland": true,
           "subunitcolor": "white"
          },
          "hoverlabel": {
           "align": "left"
          },
          "hovermode": "closest",
          "mapbox": {
           "style": "light"
          },
          "paper_bgcolor": "white",
          "plot_bgcolor": "#E5ECF6",
          "polar": {
           "angularaxis": {
            "gridcolor": "white",
            "linecolor": "white",
            "ticks": ""
           },
           "bgcolor": "#E5ECF6",
           "radialaxis": {
            "gridcolor": "white",
            "linecolor": "white",
            "ticks": ""
           }
          },
          "scene": {
           "xaxis": {
            "backgroundcolor": "#E5ECF6",
            "gridcolor": "white",
            "gridwidth": 2,
            "linecolor": "white",
            "showbackground": true,
            "ticks": "",
            "zerolinecolor": "white"
           },
           "yaxis": {
            "backgroundcolor": "#E5ECF6",
            "gridcolor": "white",
            "gridwidth": 2,
            "linecolor": "white",
            "showbackground": true,
            "ticks": "",
            "zerolinecolor": "white"
           },
           "zaxis": {
            "backgroundcolor": "#E5ECF6",
            "gridcolor": "white",
            "gridwidth": 2,
            "linecolor": "white",
            "showbackground": true,
            "ticks": "",
            "zerolinecolor": "white"
           }
          },
          "shapedefaults": {
           "line": {
            "color": "#2a3f5f"
           }
          },
          "ternary": {
           "aaxis": {
            "gridcolor": "white",
            "linecolor": "white",
            "ticks": ""
           },
           "baxis": {
            "gridcolor": "white",
            "linecolor": "white",
            "ticks": ""
           },
           "bgcolor": "#E5ECF6",
           "caxis": {
            "gridcolor": "white",
            "linecolor": "white",
            "ticks": ""
           }
          },
          "title": {
           "x": 0.05
          },
          "xaxis": {
           "automargin": true,
           "gridcolor": "white",
           "linecolor": "white",
           "ticks": "",
           "title": {
            "standoff": 15
           },
           "zerolinecolor": "white",
           "zerolinewidth": 2
          },
          "yaxis": {
           "automargin": true,
           "gridcolor": "white",
           "linecolor": "white",
           "ticks": "",
           "title": {
            "standoff": 15
           },
           "zerolinecolor": "white",
           "zerolinewidth": 2
          }
         }
        },
        "title": {
         "text": "Average RMS amplitude across participants"
        },
        "xaxis": {
         "anchor": "y",
         "domain": [
          0,
          1
         ],
         "title": {
          "text": "Run"
         }
        },
        "yaxis": {
         "anchor": "x",
         "domain": [
          0,
          1
         ],
         "title": {
          "text": "RMS (µV_rms)"
         }
        }
       }
      }
     },
     "metadata": {},
     "output_type": "display_data"
    },
    {
     "data": {
      "text/html": [
       "<div>\n",
       "<style scoped>\n",
       "    .dataframe tbody tr th:only-of-type {\n",
       "        vertical-align: middle;\n",
       "    }\n",
       "\n",
       "    .dataframe tbody tr th {\n",
       "        vertical-align: top;\n",
       "    }\n",
       "\n",
       "    .dataframe thead th {\n",
       "        text-align: right;\n",
       "    }\n",
       "</style>\n",
       "<table border=\"1\" class=\"dataframe\">\n",
       "  <thead>\n",
       "    <tr style=\"text-align: right;\">\n",
       "      <th></th>\n",
       "      <th>run_i</th>\n",
       "      <th>mean</th>\n",
       "      <th>std</th>\n",
       "      <th>n</th>\n",
       "      <th>sem</th>\n",
       "      <th>Run</th>\n",
       "    </tr>\n",
       "  </thead>\n",
       "  <tbody>\n",
       "    <tr>\n",
       "      <th>0</th>\n",
       "      <td>1</td>\n",
       "      <td>9.513181</td>\n",
       "      <td>5.192752</td>\n",
       "      <td>18</td>\n",
       "      <td>1.223943</td>\n",
       "      <td>rec1</td>\n",
       "    </tr>\n",
       "    <tr>\n",
       "      <th>1</th>\n",
       "      <td>2</td>\n",
       "      <td>11.476718</td>\n",
       "      <td>13.320638</td>\n",
       "      <td>19</td>\n",
       "      <td>3.055964</td>\n",
       "      <td>rec2</td>\n",
       "    </tr>\n",
       "    <tr>\n",
       "      <th>2</th>\n",
       "      <td>3</td>\n",
       "      <td>7.893106</td>\n",
       "      <td>4.625884</td>\n",
       "      <td>19</td>\n",
       "      <td>1.061251</td>\n",
       "      <td>rec3</td>\n",
       "    </tr>\n",
       "  </tbody>\n",
       "</table>\n",
       "</div>"
      ],
      "text/plain": [
       "   run_i       mean        std   n       sem   Run\n",
       "0      1   9.513181   5.192752  18  1.223943  rec1\n",
       "1      2  11.476718  13.320638  19  3.055964  rec2\n",
       "2      3   7.893106   4.625884  19  1.061251  rec3"
      ]
     },
     "execution_count": 29,
     "metadata": {},
     "output_type": "execute_result"
    }
   ],
   "source": [
    "\n",
    "sel = sessions.copy()\n",
    "sel['run_i'] = sel['Run'].apply(parse_run_to_int)\n",
    "sel = sel[sel['run_i'].isin([1,2,3])]\n",
    "\n",
    "rows = []\n",
    "for _, r in sel.iterrows():\n",
    "    try:\n",
    "        agg = rms_aggregate_for_row(r)\n",
    "    except Exception as e:\n",
    "        agg = np.nan\n",
    "        print(f\"RMS failed for {r.get('ID','?')} {r.get('Run','?')}: {e}\")\n",
    "    rows.append({'ID': r.get('ID', None), 'Run': r['Run'], 'run_i': r['run_i'], 'Config': r.get('Config', None),\n",
    "                 'RMS_uVrms': agg})\n",
    "\n",
    "df_all = pd.DataFrame(rows).dropna(subset=['RMS_uVrms']).copy()\n",
    "df_all.to_csv(\"rms_by_session.csv\", index=False)\n",
    "\n",
    "# Compute mean and SEM per recording index\n",
    "summary = (df_all.groupby('run_i')\n",
    "           .agg(mean=('RMS_uVrms','mean'), std=('RMS_uVrms','std'), n=('RMS_uVrms','count'))\n",
    "           .reset_index())\n",
    "summary['sem'] = summary['std'] / np.sqrt(summary['n'])\n",
    "summary['Run'] = summary['run_i'].map({1:'rec1', 2:'rec2', 3:'rec3'})\n",
    "\n",
    "fig2 = px.bar(summary, x='Run', y='mean', error_y='sem',\n",
    "              title=\"Average RMS amplitude across participants\",\n",
    "              labels={'mean': 'RMS (µV_rms)'})\n",
    "fig2.show()\n",
    "\n",
    "summary\n"
   ]
  },
  {
   "cell_type": "code",
   "execution_count": 33,
   "metadata": {},
   "outputs": [
    {
     "data": {
      "application/vnd.plotly.v1+json": {
       "config": {
        "plotlyServerURL": "https://plot.ly"
       },
       "data": [
        {
         "cliponaxis": false,
         "error_y": {
          "array": {
           "bdata": "YOOMFeumFUDlceAV8hAVQA==",
           "dtype": "f8"
          }
         },
         "hovertemplate": "Setup=%{x}<br>Average RMS (µVrms)=%{y}<br>Text=%{text}<extra></extra>",
         "legendgroup": "",
         "marker": {
          "color": "#636efa",
          "pattern": {
           "shape": ""
          }
         },
         "name": "",
         "orientation": "v",
         "showlegend": false,
         "text": [
          "9.67 ± 5.41",
          "9.32 ± 5.27"
         ],
         "textposition": "outside",
         "type": "bar",
         "x": [
          "Dry (Ear+Top)",
          "Wet (Ear Only)"
         ],
         "xaxis": "x",
         "y": {
          "bdata": "7s4MdOpVI0Bx/uIMyqMiQA==",
          "dtype": "f8"
         },
         "yaxis": "y"
        }
       ],
       "layout": {
        "barmode": "relative",
        "legend": {
         "tracegroupgap": 0
        },
        "template": {
         "data": {
          "bar": [
           {
            "error_x": {
             "color": "#2a3f5f"
            },
            "error_y": {
             "color": "#2a3f5f"
            },
            "marker": {
             "line": {
              "color": "#E5ECF6",
              "width": 0.5
             },
             "pattern": {
              "fillmode": "overlay",
              "size": 10,
              "solidity": 0.2
             }
            },
            "type": "bar"
           }
          ],
          "barpolar": [
           {
            "marker": {
             "line": {
              "color": "#E5ECF6",
              "width": 0.5
             },
             "pattern": {
              "fillmode": "overlay",
              "size": 10,
              "solidity": 0.2
             }
            },
            "type": "barpolar"
           }
          ],
          "carpet": [
           {
            "aaxis": {
             "endlinecolor": "#2a3f5f",
             "gridcolor": "white",
             "linecolor": "white",
             "minorgridcolor": "white",
             "startlinecolor": "#2a3f5f"
            },
            "baxis": {
             "endlinecolor": "#2a3f5f",
             "gridcolor": "white",
             "linecolor": "white",
             "minorgridcolor": "white",
             "startlinecolor": "#2a3f5f"
            },
            "type": "carpet"
           }
          ],
          "choropleth": [
           {
            "colorbar": {
             "outlinewidth": 0,
             "ticks": ""
            },
            "type": "choropleth"
           }
          ],
          "contour": [
           {
            "colorbar": {
             "outlinewidth": 0,
             "ticks": ""
            },
            "colorscale": [
             [
              0,
              "#0d0887"
             ],
             [
              0.1111111111111111,
              "#46039f"
             ],
             [
              0.2222222222222222,
              "#7201a8"
             ],
             [
              0.3333333333333333,
              "#9c179e"
             ],
             [
              0.4444444444444444,
              "#bd3786"
             ],
             [
              0.5555555555555556,
              "#d8576b"
             ],
             [
              0.6666666666666666,
              "#ed7953"
             ],
             [
              0.7777777777777778,
              "#fb9f3a"
             ],
             [
              0.8888888888888888,
              "#fdca26"
             ],
             [
              1,
              "#f0f921"
             ]
            ],
            "type": "contour"
           }
          ],
          "contourcarpet": [
           {
            "colorbar": {
             "outlinewidth": 0,
             "ticks": ""
            },
            "type": "contourcarpet"
           }
          ],
          "heatmap": [
           {
            "colorbar": {
             "outlinewidth": 0,
             "ticks": ""
            },
            "colorscale": [
             [
              0,
              "#0d0887"
             ],
             [
              0.1111111111111111,
              "#46039f"
             ],
             [
              0.2222222222222222,
              "#7201a8"
             ],
             [
              0.3333333333333333,
              "#9c179e"
             ],
             [
              0.4444444444444444,
              "#bd3786"
             ],
             [
              0.5555555555555556,
              "#d8576b"
             ],
             [
              0.6666666666666666,
              "#ed7953"
             ],
             [
              0.7777777777777778,
              "#fb9f3a"
             ],
             [
              0.8888888888888888,
              "#fdca26"
             ],
             [
              1,
              "#f0f921"
             ]
            ],
            "type": "heatmap"
           }
          ],
          "histogram": [
           {
            "marker": {
             "pattern": {
              "fillmode": "overlay",
              "size": 10,
              "solidity": 0.2
             }
            },
            "type": "histogram"
           }
          ],
          "histogram2d": [
           {
            "colorbar": {
             "outlinewidth": 0,
             "ticks": ""
            },
            "colorscale": [
             [
              0,
              "#0d0887"
             ],
             [
              0.1111111111111111,
              "#46039f"
             ],
             [
              0.2222222222222222,
              "#7201a8"
             ],
             [
              0.3333333333333333,
              "#9c179e"
             ],
             [
              0.4444444444444444,
              "#bd3786"
             ],
             [
              0.5555555555555556,
              "#d8576b"
             ],
             [
              0.6666666666666666,
              "#ed7953"
             ],
             [
              0.7777777777777778,
              "#fb9f3a"
             ],
             [
              0.8888888888888888,
              "#fdca26"
             ],
             [
              1,
              "#f0f921"
             ]
            ],
            "type": "histogram2d"
           }
          ],
          "histogram2dcontour": [
           {
            "colorbar": {
             "outlinewidth": 0,
             "ticks": ""
            },
            "colorscale": [
             [
              0,
              "#0d0887"
             ],
             [
              0.1111111111111111,
              "#46039f"
             ],
             [
              0.2222222222222222,
              "#7201a8"
             ],
             [
              0.3333333333333333,
              "#9c179e"
             ],
             [
              0.4444444444444444,
              "#bd3786"
             ],
             [
              0.5555555555555556,
              "#d8576b"
             ],
             [
              0.6666666666666666,
              "#ed7953"
             ],
             [
              0.7777777777777778,
              "#fb9f3a"
             ],
             [
              0.8888888888888888,
              "#fdca26"
             ],
             [
              1,
              "#f0f921"
             ]
            ],
            "type": "histogram2dcontour"
           }
          ],
          "mesh3d": [
           {
            "colorbar": {
             "outlinewidth": 0,
             "ticks": ""
            },
            "type": "mesh3d"
           }
          ],
          "parcoords": [
           {
            "line": {
             "colorbar": {
              "outlinewidth": 0,
              "ticks": ""
             }
            },
            "type": "parcoords"
           }
          ],
          "pie": [
           {
            "automargin": true,
            "type": "pie"
           }
          ],
          "scatter": [
           {
            "fillpattern": {
             "fillmode": "overlay",
             "size": 10,
             "solidity": 0.2
            },
            "type": "scatter"
           }
          ],
          "scatter3d": [
           {
            "line": {
             "colorbar": {
              "outlinewidth": 0,
              "ticks": ""
             }
            },
            "marker": {
             "colorbar": {
              "outlinewidth": 0,
              "ticks": ""
             }
            },
            "type": "scatter3d"
           }
          ],
          "scattercarpet": [
           {
            "marker": {
             "colorbar": {
              "outlinewidth": 0,
              "ticks": ""
             }
            },
            "type": "scattercarpet"
           }
          ],
          "scattergeo": [
           {
            "marker": {
             "colorbar": {
              "outlinewidth": 0,
              "ticks": ""
             }
            },
            "type": "scattergeo"
           }
          ],
          "scattergl": [
           {
            "marker": {
             "colorbar": {
              "outlinewidth": 0,
              "ticks": ""
             }
            },
            "type": "scattergl"
           }
          ],
          "scattermap": [
           {
            "marker": {
             "colorbar": {
              "outlinewidth": 0,
              "ticks": ""
             }
            },
            "type": "scattermap"
           }
          ],
          "scattermapbox": [
           {
            "marker": {
             "colorbar": {
              "outlinewidth": 0,
              "ticks": ""
             }
            },
            "type": "scattermapbox"
           }
          ],
          "scatterpolar": [
           {
            "marker": {
             "colorbar": {
              "outlinewidth": 0,
              "ticks": ""
             }
            },
            "type": "scatterpolar"
           }
          ],
          "scatterpolargl": [
           {
            "marker": {
             "colorbar": {
              "outlinewidth": 0,
              "ticks": ""
             }
            },
            "type": "scatterpolargl"
           }
          ],
          "scatterternary": [
           {
            "marker": {
             "colorbar": {
              "outlinewidth": 0,
              "ticks": ""
             }
            },
            "type": "scatterternary"
           }
          ],
          "surface": [
           {
            "colorbar": {
             "outlinewidth": 0,
             "ticks": ""
            },
            "colorscale": [
             [
              0,
              "#0d0887"
             ],
             [
              0.1111111111111111,
              "#46039f"
             ],
             [
              0.2222222222222222,
              "#7201a8"
             ],
             [
              0.3333333333333333,
              "#9c179e"
             ],
             [
              0.4444444444444444,
              "#bd3786"
             ],
             [
              0.5555555555555556,
              "#d8576b"
             ],
             [
              0.6666666666666666,
              "#ed7953"
             ],
             [
              0.7777777777777778,
              "#fb9f3a"
             ],
             [
              0.8888888888888888,
              "#fdca26"
             ],
             [
              1,
              "#f0f921"
             ]
            ],
            "type": "surface"
           }
          ],
          "table": [
           {
            "cells": {
             "fill": {
              "color": "#EBF0F8"
             },
             "line": {
              "color": "white"
             }
            },
            "header": {
             "fill": {
              "color": "#C8D4E3"
             },
             "line": {
              "color": "white"
             }
            },
            "type": "table"
           }
          ]
         },
         "layout": {
          "annotationdefaults": {
           "arrowcolor": "#2a3f5f",
           "arrowhead": 0,
           "arrowwidth": 1
          },
          "autotypenumbers": "strict",
          "coloraxis": {
           "colorbar": {
            "outlinewidth": 0,
            "ticks": ""
           }
          },
          "colorscale": {
           "diverging": [
            [
             0,
             "#8e0152"
            ],
            [
             0.1,
             "#c51b7d"
            ],
            [
             0.2,
             "#de77ae"
            ],
            [
             0.3,
             "#f1b6da"
            ],
            [
             0.4,
             "#fde0ef"
            ],
            [
             0.5,
             "#f7f7f7"
            ],
            [
             0.6,
             "#e6f5d0"
            ],
            [
             0.7,
             "#b8e186"
            ],
            [
             0.8,
             "#7fbc41"
            ],
            [
             0.9,
             "#4d9221"
            ],
            [
             1,
             "#276419"
            ]
           ],
           "sequential": [
            [
             0,
             "#0d0887"
            ],
            [
             0.1111111111111111,
             "#46039f"
            ],
            [
             0.2222222222222222,
             "#7201a8"
            ],
            [
             0.3333333333333333,
             "#9c179e"
            ],
            [
             0.4444444444444444,
             "#bd3786"
            ],
            [
             0.5555555555555556,
             "#d8576b"
            ],
            [
             0.6666666666666666,
             "#ed7953"
            ],
            [
             0.7777777777777778,
             "#fb9f3a"
            ],
            [
             0.8888888888888888,
             "#fdca26"
            ],
            [
             1,
             "#f0f921"
            ]
           ],
           "sequentialminus": [
            [
             0,
             "#0d0887"
            ],
            [
             0.1111111111111111,
             "#46039f"
            ],
            [
             0.2222222222222222,
             "#7201a8"
            ],
            [
             0.3333333333333333,
             "#9c179e"
            ],
            [
             0.4444444444444444,
             "#bd3786"
            ],
            [
             0.5555555555555556,
             "#d8576b"
            ],
            [
             0.6666666666666666,
             "#ed7953"
            ],
            [
             0.7777777777777778,
             "#fb9f3a"
            ],
            [
             0.8888888888888888,
             "#fdca26"
            ],
            [
             1,
             "#f0f921"
            ]
           ]
          },
          "colorway": [
           "#636efa",
           "#EF553B",
           "#00cc96",
           "#ab63fa",
           "#FFA15A",
           "#19d3f3",
           "#FF6692",
           "#B6E880",
           "#FF97FF",
           "#FECB52"
          ],
          "font": {
           "color": "#2a3f5f"
          },
          "geo": {
           "bgcolor": "white",
           "lakecolor": "white",
           "landcolor": "#E5ECF6",
           "showlakes": true,
           "showland": true,
           "subunitcolor": "white"
          },
          "hoverlabel": {
           "align": "left"
          },
          "hovermode": "closest",
          "mapbox": {
           "style": "light"
          },
          "paper_bgcolor": "white",
          "plot_bgcolor": "#E5ECF6",
          "polar": {
           "angularaxis": {
            "gridcolor": "white",
            "linecolor": "white",
            "ticks": ""
           },
           "bgcolor": "#E5ECF6",
           "radialaxis": {
            "gridcolor": "white",
            "linecolor": "white",
            "ticks": ""
           }
          },
          "scene": {
           "xaxis": {
            "backgroundcolor": "#E5ECF6",
            "gridcolor": "white",
            "gridwidth": 2,
            "linecolor": "white",
            "showbackground": true,
            "ticks": "",
            "zerolinecolor": "white"
           },
           "yaxis": {
            "backgroundcolor": "#E5ECF6",
            "gridcolor": "white",
            "gridwidth": 2,
            "linecolor": "white",
            "showbackground": true,
            "ticks": "",
            "zerolinecolor": "white"
           },
           "zaxis": {
            "backgroundcolor": "#E5ECF6",
            "gridcolor": "white",
            "gridwidth": 2,
            "linecolor": "white",
            "showbackground": true,
            "ticks": "",
            "zerolinecolor": "white"
           }
          },
          "shapedefaults": {
           "line": {
            "color": "#2a3f5f"
           }
          },
          "ternary": {
           "aaxis": {
            "gridcolor": "white",
            "linecolor": "white",
            "ticks": ""
           },
           "baxis": {
            "gridcolor": "white",
            "linecolor": "white",
            "ticks": ""
           },
           "bgcolor": "#E5ECF6",
           "caxis": {
            "gridcolor": "white",
            "linecolor": "white",
            "ticks": ""
           }
          },
          "title": {
           "x": 0.05
          },
          "xaxis": {
           "automargin": true,
           "gridcolor": "white",
           "linecolor": "white",
           "ticks": "",
           "title": {
            "standoff": 15
           },
           "zerolinecolor": "white",
           "zerolinewidth": 2
          },
          "yaxis": {
           "automargin": true,
           "gridcolor": "white",
           "linecolor": "white",
           "ticks": "",
           "title": {
            "standoff": 15
           },
           "zerolinecolor": "white",
           "zerolinewidth": 2
          }
         }
        },
        "title": {
         "text": "Average RMS in rec1: Dry (Ear+Top) vs Wet (Ear Only)"
        },
        "xaxis": {
         "anchor": "y",
         "domain": [
          0,
          1
         ],
         "title": {
          "text": "Setup"
         }
        },
        "yaxis": {
         "anchor": "x",
         "domain": [
          0,
          1
         ],
         "showgrid": true,
         "title": {
          "text": "Average RMS (µVrms)"
         }
        }
       }
      }
     },
     "metadata": {},
     "output_type": "display_data"
    }
   ],
   "source": [
    "try:\n",
    "    rms = pd.read_csv('/Users/Sam/UNAM/neuro_headphone_study/Code/rms_by_session.csv')\n",
    "    rec1 = rms[rms['Run'].astype(str).str.lower() == 'rec1'][['Config', 'RMS_uVrms']].copy()\n",
    "except Exception:\n",
    "    rec1 = pd.DataFrame({'Config': [], 'RMS_uVrms': []})\n",
    "\n",
    "# Aggregate: mean and SD of RMS for each configuration (Dry: Top+Ears, Wet: Ear Only)\n",
    "agg = rec1.groupby('Config')['RMS_uVrms'].agg(mean='mean', std='std', var='var', n='count').reset_index()\n",
    "label_map = {'Top+Ears': 'Dry (Ear+Top)', 'Ear Only': 'Wet (Ear Only)'}\n",
    "agg['Setup'] = agg['Config'].map(label_map)\n",
    "agg = agg[['Setup', 'mean', 'std', 'var', 'n']].dropna().copy()\n",
    "agg['Setup'] = pd.Categorical(agg['Setup'], categories=['Dry (Ear+Top)', 'Wet (Ear Only)'], ordered=True)\n",
    "agg['Text'] = agg.apply(lambda r: f\"{r['mean']:.2f} ± {r['std']:.2f}\", axis=1)\n",
    "\n",
    "# Plot side-by-side bar chart with error bars (±1 SD)\n",
    "fig = px.bar(\n",
    "    agg.sort_values('Setup'),\n",
    "    x='Setup',\n",
    "    y='mean',\n",
    "    error_y='std',\n",
    "    text='Text',\n",
    "    labels={'mean': 'Average RMS (µVrms)'},\n",
    "    title='Average RMS in rec1: Dry (Ear+Top) vs Wet (Ear Only)'\n",
    ")\n",
    "fig.update_traces(textposition='outside', cliponaxis=False)\n",
    "fig.update_layout(yaxis=dict(showgrid=True))\n",
    "fig.show()\n"
   ]
  },
  {
   "cell_type": "code",
   "execution_count": 31,
   "metadata": {},
   "outputs": [
    {
     "data": {
      "application/vnd.plotly.v1+json": {
       "config": {
        "plotlyServerURL": "https://plot.ly"
       },
       "data": [
        {
         "alignmentgroup": "True",
         "cliponaxis": false,
         "error_y": {
          "array": {
           "bdata": "YOOMFeumFUA+h4CcOyExQByJhsVRnhZA",
           "dtype": "f8"
          }
         },
         "hovertemplate": "Setup=Dry (Ear+Top)<br>Run=%{x}<br>Average RMS (µVrms)=%{y}<br>Text=%{text}<extra></extra>",
         "legendgroup": "Dry (Ear+Top)",
         "marker": {
          "color": "#636efa",
          "pattern": {
           "shape": ""
          }
         },
         "name": "Dry (Ear+Top)",
         "offsetgroup": "Dry (Ear+Top)",
         "orientation": "v",
         "showlegend": true,
         "text": [
          "9.67 ± 5.41",
          "14.00 ± 17.13",
          "8.25 ± 5.65"
         ],
         "textposition": "outside",
         "type": "bar",
         "x": [
          "rec1",
          "rec2",
          "rec3"
         ],
         "xaxis": "x",
         "y": {
          "bdata": "7s4MdOpVI0AGHrHdvf0rQG+1rfeVgSBA",
          "dtype": "f8"
         },
         "yaxis": "y"
        },
        {
         "alignmentgroup": "True",
         "cliponaxis": false,
         "error_y": {
          "array": {
           "bdata": "5XHgFfIQFUC/0AWr0UoNQNM+2k9Y0QdA",
           "dtype": "f8"
          }
         },
         "hovertemplate": "Setup=Wet (Ear Only)<br>Run=%{x}<br>Average RMS (µVrms)=%{y}<br>Text=%{text}<extra></extra>",
         "legendgroup": "Wet (Ear Only)",
         "marker": {
          "color": "#EF553B",
          "pattern": {
           "shape": ""
          }
         },
         "name": "Wet (Ear Only)",
         "offsetgroup": "Wet (Ear Only)",
         "orientation": "v",
         "showlegend": true,
         "text": [
          "9.32 ± 5.27",
          "8.01 ± 3.66",
          "7.40 ± 2.98"
         ],
         "textposition": "outside",
         "type": "bar",
         "x": [
          "rec1",
          "rec2",
          "rec3"
         ],
         "xaxis": "x",
         "y": {
          "bdata": "cf7iDMqjIkCswtM5ywYgQKRFKxKslx1A",
          "dtype": "f8"
         },
         "yaxis": "y"
        }
       ],
       "layout": {
        "barmode": "group",
        "legend": {
         "title": {
          "text": "Setup"
         },
         "tracegroupgap": 0
        },
        "template": {
         "data": {
          "bar": [
           {
            "error_x": {
             "color": "#2a3f5f"
            },
            "error_y": {
             "color": "#2a3f5f"
            },
            "marker": {
             "line": {
              "color": "#E5ECF6",
              "width": 0.5
             },
             "pattern": {
              "fillmode": "overlay",
              "size": 10,
              "solidity": 0.2
             }
            },
            "type": "bar"
           }
          ],
          "barpolar": [
           {
            "marker": {
             "line": {
              "color": "#E5ECF6",
              "width": 0.5
             },
             "pattern": {
              "fillmode": "overlay",
              "size": 10,
              "solidity": 0.2
             }
            },
            "type": "barpolar"
           }
          ],
          "carpet": [
           {
            "aaxis": {
             "endlinecolor": "#2a3f5f",
             "gridcolor": "white",
             "linecolor": "white",
             "minorgridcolor": "white",
             "startlinecolor": "#2a3f5f"
            },
            "baxis": {
             "endlinecolor": "#2a3f5f",
             "gridcolor": "white",
             "linecolor": "white",
             "minorgridcolor": "white",
             "startlinecolor": "#2a3f5f"
            },
            "type": "carpet"
           }
          ],
          "choropleth": [
           {
            "colorbar": {
             "outlinewidth": 0,
             "ticks": ""
            },
            "type": "choropleth"
           }
          ],
          "contour": [
           {
            "colorbar": {
             "outlinewidth": 0,
             "ticks": ""
            },
            "colorscale": [
             [
              0,
              "#0d0887"
             ],
             [
              0.1111111111111111,
              "#46039f"
             ],
             [
              0.2222222222222222,
              "#7201a8"
             ],
             [
              0.3333333333333333,
              "#9c179e"
             ],
             [
              0.4444444444444444,
              "#bd3786"
             ],
             [
              0.5555555555555556,
              "#d8576b"
             ],
             [
              0.6666666666666666,
              "#ed7953"
             ],
             [
              0.7777777777777778,
              "#fb9f3a"
             ],
             [
              0.8888888888888888,
              "#fdca26"
             ],
             [
              1,
              "#f0f921"
             ]
            ],
            "type": "contour"
           }
          ],
          "contourcarpet": [
           {
            "colorbar": {
             "outlinewidth": 0,
             "ticks": ""
            },
            "type": "contourcarpet"
           }
          ],
          "heatmap": [
           {
            "colorbar": {
             "outlinewidth": 0,
             "ticks": ""
            },
            "colorscale": [
             [
              0,
              "#0d0887"
             ],
             [
              0.1111111111111111,
              "#46039f"
             ],
             [
              0.2222222222222222,
              "#7201a8"
             ],
             [
              0.3333333333333333,
              "#9c179e"
             ],
             [
              0.4444444444444444,
              "#bd3786"
             ],
             [
              0.5555555555555556,
              "#d8576b"
             ],
             [
              0.6666666666666666,
              "#ed7953"
             ],
             [
              0.7777777777777778,
              "#fb9f3a"
             ],
             [
              0.8888888888888888,
              "#fdca26"
             ],
             [
              1,
              "#f0f921"
             ]
            ],
            "type": "heatmap"
           }
          ],
          "histogram": [
           {
            "marker": {
             "pattern": {
              "fillmode": "overlay",
              "size": 10,
              "solidity": 0.2
             }
            },
            "type": "histogram"
           }
          ],
          "histogram2d": [
           {
            "colorbar": {
             "outlinewidth": 0,
             "ticks": ""
            },
            "colorscale": [
             [
              0,
              "#0d0887"
             ],
             [
              0.1111111111111111,
              "#46039f"
             ],
             [
              0.2222222222222222,
              "#7201a8"
             ],
             [
              0.3333333333333333,
              "#9c179e"
             ],
             [
              0.4444444444444444,
              "#bd3786"
             ],
             [
              0.5555555555555556,
              "#d8576b"
             ],
             [
              0.6666666666666666,
              "#ed7953"
             ],
             [
              0.7777777777777778,
              "#fb9f3a"
             ],
             [
              0.8888888888888888,
              "#fdca26"
             ],
             [
              1,
              "#f0f921"
             ]
            ],
            "type": "histogram2d"
           }
          ],
          "histogram2dcontour": [
           {
            "colorbar": {
             "outlinewidth": 0,
             "ticks": ""
            },
            "colorscale": [
             [
              0,
              "#0d0887"
             ],
             [
              0.1111111111111111,
              "#46039f"
             ],
             [
              0.2222222222222222,
              "#7201a8"
             ],
             [
              0.3333333333333333,
              "#9c179e"
             ],
             [
              0.4444444444444444,
              "#bd3786"
             ],
             [
              0.5555555555555556,
              "#d8576b"
             ],
             [
              0.6666666666666666,
              "#ed7953"
             ],
             [
              0.7777777777777778,
              "#fb9f3a"
             ],
             [
              0.8888888888888888,
              "#fdca26"
             ],
             [
              1,
              "#f0f921"
             ]
            ],
            "type": "histogram2dcontour"
           }
          ],
          "mesh3d": [
           {
            "colorbar": {
             "outlinewidth": 0,
             "ticks": ""
            },
            "type": "mesh3d"
           }
          ],
          "parcoords": [
           {
            "line": {
             "colorbar": {
              "outlinewidth": 0,
              "ticks": ""
             }
            },
            "type": "parcoords"
           }
          ],
          "pie": [
           {
            "automargin": true,
            "type": "pie"
           }
          ],
          "scatter": [
           {
            "fillpattern": {
             "fillmode": "overlay",
             "size": 10,
             "solidity": 0.2
            },
            "type": "scatter"
           }
          ],
          "scatter3d": [
           {
            "line": {
             "colorbar": {
              "outlinewidth": 0,
              "ticks": ""
             }
            },
            "marker": {
             "colorbar": {
              "outlinewidth": 0,
              "ticks": ""
             }
            },
            "type": "scatter3d"
           }
          ],
          "scattercarpet": [
           {
            "marker": {
             "colorbar": {
              "outlinewidth": 0,
              "ticks": ""
             }
            },
            "type": "scattercarpet"
           }
          ],
          "scattergeo": [
           {
            "marker": {
             "colorbar": {
              "outlinewidth": 0,
              "ticks": ""
             }
            },
            "type": "scattergeo"
           }
          ],
          "scattergl": [
           {
            "marker": {
             "colorbar": {
              "outlinewidth": 0,
              "ticks": ""
             }
            },
            "type": "scattergl"
           }
          ],
          "scattermap": [
           {
            "marker": {
             "colorbar": {
              "outlinewidth": 0,
              "ticks": ""
             }
            },
            "type": "scattermap"
           }
          ],
          "scattermapbox": [
           {
            "marker": {
             "colorbar": {
              "outlinewidth": 0,
              "ticks": ""
             }
            },
            "type": "scattermapbox"
           }
          ],
          "scatterpolar": [
           {
            "marker": {
             "colorbar": {
              "outlinewidth": 0,
              "ticks": ""
             }
            },
            "type": "scatterpolar"
           }
          ],
          "scatterpolargl": [
           {
            "marker": {
             "colorbar": {
              "outlinewidth": 0,
              "ticks": ""
             }
            },
            "type": "scatterpolargl"
           }
          ],
          "scatterternary": [
           {
            "marker": {
             "colorbar": {
              "outlinewidth": 0,
              "ticks": ""
             }
            },
            "type": "scatterternary"
           }
          ],
          "surface": [
           {
            "colorbar": {
             "outlinewidth": 0,
             "ticks": ""
            },
            "colorscale": [
             [
              0,
              "#0d0887"
             ],
             [
              0.1111111111111111,
              "#46039f"
             ],
             [
              0.2222222222222222,
              "#7201a8"
             ],
             [
              0.3333333333333333,
              "#9c179e"
             ],
             [
              0.4444444444444444,
              "#bd3786"
             ],
             [
              0.5555555555555556,
              "#d8576b"
             ],
             [
              0.6666666666666666,
              "#ed7953"
             ],
             [
              0.7777777777777778,
              "#fb9f3a"
             ],
             [
              0.8888888888888888,
              "#fdca26"
             ],
             [
              1,
              "#f0f921"
             ]
            ],
            "type": "surface"
           }
          ],
          "table": [
           {
            "cells": {
             "fill": {
              "color": "#EBF0F8"
             },
             "line": {
              "color": "white"
             }
            },
            "header": {
             "fill": {
              "color": "#C8D4E3"
             },
             "line": {
              "color": "white"
             }
            },
            "type": "table"
           }
          ]
         },
         "layout": {
          "annotationdefaults": {
           "arrowcolor": "#2a3f5f",
           "arrowhead": 0,
           "arrowwidth": 1
          },
          "autotypenumbers": "strict",
          "coloraxis": {
           "colorbar": {
            "outlinewidth": 0,
            "ticks": ""
           }
          },
          "colorscale": {
           "diverging": [
            [
             0,
             "#8e0152"
            ],
            [
             0.1,
             "#c51b7d"
            ],
            [
             0.2,
             "#de77ae"
            ],
            [
             0.3,
             "#f1b6da"
            ],
            [
             0.4,
             "#fde0ef"
            ],
            [
             0.5,
             "#f7f7f7"
            ],
            [
             0.6,
             "#e6f5d0"
            ],
            [
             0.7,
             "#b8e186"
            ],
            [
             0.8,
             "#7fbc41"
            ],
            [
             0.9,
             "#4d9221"
            ],
            [
             1,
             "#276419"
            ]
           ],
           "sequential": [
            [
             0,
             "#0d0887"
            ],
            [
             0.1111111111111111,
             "#46039f"
            ],
            [
             0.2222222222222222,
             "#7201a8"
            ],
            [
             0.3333333333333333,
             "#9c179e"
            ],
            [
             0.4444444444444444,
             "#bd3786"
            ],
            [
             0.5555555555555556,
             "#d8576b"
            ],
            [
             0.6666666666666666,
             "#ed7953"
            ],
            [
             0.7777777777777778,
             "#fb9f3a"
            ],
            [
             0.8888888888888888,
             "#fdca26"
            ],
            [
             1,
             "#f0f921"
            ]
           ],
           "sequentialminus": [
            [
             0,
             "#0d0887"
            ],
            [
             0.1111111111111111,
             "#46039f"
            ],
            [
             0.2222222222222222,
             "#7201a8"
            ],
            [
             0.3333333333333333,
             "#9c179e"
            ],
            [
             0.4444444444444444,
             "#bd3786"
            ],
            [
             0.5555555555555556,
             "#d8576b"
            ],
            [
             0.6666666666666666,
             "#ed7953"
            ],
            [
             0.7777777777777778,
             "#fb9f3a"
            ],
            [
             0.8888888888888888,
             "#fdca26"
            ],
            [
             1,
             "#f0f921"
            ]
           ]
          },
          "colorway": [
           "#636efa",
           "#EF553B",
           "#00cc96",
           "#ab63fa",
           "#FFA15A",
           "#19d3f3",
           "#FF6692",
           "#B6E880",
           "#FF97FF",
           "#FECB52"
          ],
          "font": {
           "color": "#2a3f5f"
          },
          "geo": {
           "bgcolor": "white",
           "lakecolor": "white",
           "landcolor": "#E5ECF6",
           "showlakes": true,
           "showland": true,
           "subunitcolor": "white"
          },
          "hoverlabel": {
           "align": "left"
          },
          "hovermode": "closest",
          "mapbox": {
           "style": "light"
          },
          "paper_bgcolor": "white",
          "plot_bgcolor": "#E5ECF6",
          "polar": {
           "angularaxis": {
            "gridcolor": "white",
            "linecolor": "white",
            "ticks": ""
           },
           "bgcolor": "#E5ECF6",
           "radialaxis": {
            "gridcolor": "white",
            "linecolor": "white",
            "ticks": ""
           }
          },
          "scene": {
           "xaxis": {
            "backgroundcolor": "#E5ECF6",
            "gridcolor": "white",
            "gridwidth": 2,
            "linecolor": "white",
            "showbackground": true,
            "ticks": "",
            "zerolinecolor": "white"
           },
           "yaxis": {
            "backgroundcolor": "#E5ECF6",
            "gridcolor": "white",
            "gridwidth": 2,
            "linecolor": "white",
            "showbackground": true,
            "ticks": "",
            "zerolinecolor": "white"
           },
           "zaxis": {
            "backgroundcolor": "#E5ECF6",
            "gridcolor": "white",
            "gridwidth": 2,
            "linecolor": "white",
            "showbackground": true,
            "ticks": "",
            "zerolinecolor": "white"
           }
          },
          "shapedefaults": {
           "line": {
            "color": "#2a3f5f"
           }
          },
          "ternary": {
           "aaxis": {
            "gridcolor": "white",
            "linecolor": "white",
            "ticks": ""
           },
           "baxis": {
            "gridcolor": "white",
            "linecolor": "white",
            "ticks": ""
           },
           "bgcolor": "#E5ECF6",
           "caxis": {
            "gridcolor": "white",
            "linecolor": "white",
            "ticks": ""
           }
          },
          "title": {
           "x": 0.05
          },
          "xaxis": {
           "automargin": true,
           "gridcolor": "white",
           "linecolor": "white",
           "ticks": "",
           "title": {
            "standoff": 15
           },
           "zerolinecolor": "white",
           "zerolinewidth": 2
          },
          "yaxis": {
           "automargin": true,
           "gridcolor": "white",
           "linecolor": "white",
           "ticks": "",
           "title": {
            "standoff": 15
           },
           "zerolinecolor": "white",
           "zerolinewidth": 2
          }
         }
        },
        "title": {
         "text": "Average RMS by configuration and recording round"
        },
        "xaxis": {
         "anchor": "y",
         "categoryarray": [
          "rec1",
          "rec2",
          "rec3"
         ],
         "categoryorder": "array",
         "domain": [
          0,
          1
         ],
         "title": {
          "text": "Run"
         }
        },
        "yaxis": {
         "anchor": "x",
         "domain": [
          0,
          1
         ],
         "showgrid": true,
         "title": {
          "text": "Average RMS (µVrms)"
         }
        }
       }
      }
     },
     "metadata": {},
     "output_type": "display_data"
    }
   ],
   "source": [
    "# Keep only expected runs and configs; ensure consistent labels\n",
    "rms['Run'] = rms['Run'].astype(str).str.lower()\n",
    "label_map = {'Top+Ears': 'Dry (Ear+Top)', 'Ear Only': 'Wet (Ear Only)'}\n",
    "rms['Setup'] = rms['Config'].map(label_map)\n",
    "\n",
    "# Aggregate mean and SD per (Setup, Run)\n",
    "agg6 = (rms.groupby(['Setup', 'Run'])['RMS_uVrms']\n",
    "          .agg(mean='mean', std='std', n='count')\n",
    "          .reset_index())\n",
    "\n",
    "# Order categories for clean plotting\n",
    "run_order = ['rec1', 'rec2', 'rec3']\n",
    "setup_order = ['Dry (Ear+Top)', 'Wet (Ear Only)']\n",
    "agg6 = agg6[agg6['Setup'].isin(setup_order) & agg6['Run'].isin(run_order)].copy()\n",
    "agg6['Run'] = pd.Categorical(agg6['Run'], categories=run_order, ordered=True)\n",
    "agg6['Setup'] = pd.Categorical(agg6['Setup'], categories=setup_order, ordered=True)\n",
    "agg6['Text'] = agg6.apply(lambda r: f\"{r['mean']:.2f} ± {r['std']:.2f}\", axis=1)\n",
    "\n",
    "# Grouped bar chart: 6 bars total (2 configs x 3 runs)\n",
    "fig = px.bar(\n",
    "    agg6.sort_values(['Run','Setup']),\n",
    "    x='Run', y='mean', color='Setup', barmode='group', error_y='std', text='Text',\n",
    "    category_orders={'Run': run_order, 'Setup': setup_order},\n",
    "    labels={'mean': 'Average RMS (µVrms)'},\n",
    "    title='Average RMS by configuration and recording round'\n",
    ")\n",
    "fig.update_traces(textposition='outside', cliponaxis=False)\n",
    "fig.update_layout(yaxis=dict(showgrid=True))\n",
    "fig.show()\n"
   ]
  }
 ],
 "metadata": {
  "kernelspec": {
   "display_name": "charite",
   "language": "python",
   "name": "python3"
  },
  "language_info": {
   "codemirror_mode": {
    "name": "ipython",
    "version": 3
   },
   "file_extension": ".py",
   "mimetype": "text/x-python",
   "name": "python",
   "nbconvert_exporter": "python",
   "pygments_lexer": "ipython3",
   "version": "3.12.2"
  }
 },
 "nbformat": 4,
 "nbformat_minor": 1
}
